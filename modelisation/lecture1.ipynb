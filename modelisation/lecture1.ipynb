{
 "cells": [
  {
   "cell_type": "code",
   "execution_count": 1,
   "id": "initial_id",
   "metadata": {
    "collapsed": true,
    "ExecuteTime": {
     "end_time": "2024-03-04T12:59:56.403158Z",
     "start_time": "2024-03-04T12:59:55.824253Z"
    }
   },
   "outputs": [],
   "source": [
    "import numpy as np\n",
    "import matplotlib.pyplot as plt\n",
    "\n",
    "plt.style.use('default')\n",
    "plt.rc('text', usetex=True)\n",
    "plt.rc('font', family='sans-serif')\n",
    "plt.rc('font', size=18)\n",
    "plt.rc('axes', titlesize=18)\n",
    "plt.rc('axes', labelsize=18)\n",
    "plt.rc('xtick', labelsize=18)\n",
    "plt.rc('ytick', labelsize=18)\n",
    "plt.rc('legend', fontsize=18)\n",
    "plt.rc('lines', markersize=10)"
   ]
  },
  {
   "cell_type": "code",
   "outputs": [],
   "source": [
    "# State space multiple sequence alignment, where put gaps in the sequences for that they have minimum cost to align\n",
    "\n",
    "# Step 1: Define the state space\n",
    "# The state space is the set of all possible alignments of the sequences\n",
    "# The state space is a graph, where the nodes are the alignments and the edges are the possible transformations between alignments\n",
    "\n",
    "sequences = ['ACGTAGT', 'AGCTAAGT', 'ACGGAAT']\n",
    "s = [['ACG', 'AG', 'AC'], 1, [3, 2, 2], 2]\n",
    "\n",
    "\n",
    "def play(s, move):\n",
    "    seq = s[1]\n",
    "    if move:\n",
    "        s[0][seq] += '_'\n",
    "        for i in range(seq):\n",
    "            if s[0][i] != '_':\n",
    "                s[3] += 1\n",
    "    else:\n",
    "        s[0][seq] += sequences[seq][s[2][seq]]\n",
    "        for i in range(seq):\n",
    "            if s[0][i] != s[0][seq]:\n",
    "                s[3] += 1\n",
    "        s[2][seq] += 1\n",
    "    s[1] += 1\n",
    "    if s[1] == len(sequences):\n",
    "        return s[0]"
   ],
   "metadata": {
    "collapsed": false,
    "ExecuteTime": {
     "end_time": "2024-03-04T15:49:02.166493Z",
     "start_time": "2024-03-04T15:49:02.146761Z"
    }
   },
   "id": "174aa05791a8db53",
   "execution_count": 70
  },
  {
   "cell_type": "code",
   "outputs": [],
   "source": [
    "def legalMoves(s):\n",
    "    seq = s[1]\n",
    "    if seq == len(sequences) - 1:\n",
    "        allGaps = True\n",
    "        for i in range(seq):\n",
    "            if s[0][-1] != '_':\n",
    "                allGaps = False\n",
    "\n",
    "        if allGaps:\n",
    "            return [False]\n",
    "    if s[2][seq] == len(sequences[seq]):\n",
    "        return [True]\n",
    "    return [True, False]"
   ],
   "metadata": {
    "collapsed": false,
    "ExecuteTime": {
     "end_time": "2024-03-04T15:52:05.605996Z",
     "start_time": "2024-03-04T15:52:05.602280Z"
    }
   },
   "id": "1cd674626bf71d3a",
   "execution_count": 71
  },
  {
   "cell_type": "code",
   "outputs": [],
   "source": [
    "def terminalTest(s):\n",
    "    return s[1] == len(sequences)"
   ],
   "metadata": {
    "collapsed": false,
    "ExecuteTime": {
     "end_time": "2024-03-04T15:52:17.255684Z",
     "start_time": "2024-03-04T15:52:17.252106Z"
    }
   },
   "id": "e66fe6315e336886",
   "execution_count": 73
  },
  {
   "cell_type": "code",
   "outputs": [],
   "source": [],
   "metadata": {
    "collapsed": false
   },
   "id": "364ad595df5febec"
  }
 ],
 "metadata": {
  "kernelspec": {
   "display_name": "Python 3",
   "language": "python",
   "name": "python3"
  },
  "language_info": {
   "codemirror_mode": {
    "name": "ipython",
    "version": 2
   },
   "file_extension": ".py",
   "mimetype": "text/x-python",
   "name": "python",
   "nbconvert_exporter": "python",
   "pygments_lexer": "ipython2",
   "version": "2.7.6"
  }
 },
 "nbformat": 4,
 "nbformat_minor": 5
}
