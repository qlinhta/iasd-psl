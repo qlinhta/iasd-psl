{
 "cells": [
  {
   "cell_type": "code",
   "execution_count": 1,
   "id": "initial_id",
   "metadata": {
    "collapsed": true,
    "ExecuteTime": {
     "end_time": "2023-11-08T13:36:02.117125Z",
     "start_time": "2023-11-08T13:36:01.754627Z"
    }
   },
   "outputs": [],
   "source": [
    "import numpy as np\n",
    "import matplotlib.pyplot as plt\n",
    "plt.style.use('default')\n",
    "plt.rc('text', usetex=True)\n",
    "plt.rc('font', family='sans-serif')\n",
    "plt.rc('font', size=18)\n",
    "plt.rc('axes', titlesize=18)\n",
    "plt.rc('axes', labelsize=18)\n",
    "plt.rc('xtick', labelsize=18)\n",
    "plt.rc('ytick', labelsize=18)\n",
    "plt.rc('legend', fontsize=18)\n",
    "plt.rc('lines', markersize=10)"
   ]
  },
  {
   "cell_type": "code",
   "execution_count": 2,
   "outputs": [],
   "source": [
    "# Write a convolutional model that takes 31 19x19 planes as input and that outputs a vector of 361 with a softmax (the policy) and an output of 1 (the value)\n",
    "# Train it on randomly generated data with different losses for the policy (categorical cross entropy) and the value (mse)."
   ],
   "metadata": {
    "collapsed": false,
    "ExecuteTime": {
     "end_time": "2023-11-08T13:36:02.123892Z",
     "start_time": "2023-11-08T13:36:02.117650Z"
    }
   },
   "id": "9d4920ddbe8f4966"
  },
  {
   "cell_type": "code",
   "execution_count": 3,
   "outputs": [],
   "source": [
    "import tensorflow as tf\n",
    "from tensorflow.keras import layers, models, optimizers, regularizers\n",
    "from tensorflow.keras.utils import plot_model\n",
    "from tensorflow.keras.callbacks import ModelCheckpoint, EarlyStopping\n",
    "from tensorflow.keras.models import load_model"
   ],
   "metadata": {
    "collapsed": false,
    "ExecuteTime": {
     "end_time": "2023-11-08T13:36:04.518962Z",
     "start_time": "2023-11-08T13:36:02.122297Z"
    }
   },
   "id": "6df6127ddbdd9cc4"
  },
  {
   "cell_type": "code",
   "execution_count": 4,
   "outputs": [],
   "source": [
    "class ResidualBlock(layers.Layer):\n",
    "    def __init__(self, filters, kernel_size, **kwargs):\n",
    "        super(ResidualBlock, self).__init__(**kwargs)\n",
    "        self.conv1 = layers.Conv2D(filters, kernel_size, padding='same', activation='relu')\n",
    "        self.conv2 = layers.Conv2D(filters, kernel_size, padding='same')\n",
    "        self.add = layers.Add()\n",
    "        self.activation = layers.Activation('relu')\n",
    "\n",
    "    def call(self, inputs):\n",
    "        x = self.conv1(inputs)\n",
    "        x = self.conv2(x)\n",
    "        x = self.add([inputs, x])\n",
    "        x = self.activation(x)\n",
    "        return x\n",
    "\n",
    "\n",
    "class PolicyHead(layers.Layer):\n",
    "    def __init__(self, filters, kernel_size, **kwargs):\n",
    "        super(PolicyHead, self).__init__(**kwargs)\n",
    "        self.conv = layers.Conv2D(filters, kernel_size, padding='same', activation='relu')\n",
    "        self.flatten = layers.Flatten()\n",
    "        self.dense = layers.Dense(361, activation='softmax')\n",
    "\n",
    "    def call(self, inputs):\n",
    "        x = self.conv(inputs)\n",
    "        x = self.flatten(x)\n",
    "        x = self.dense(x)\n",
    "        return x\n",
    "\n",
    "\n",
    "class ValueHead(layers.Layer):\n",
    "    def __init__(self, filters, kernel_size, **kwargs):\n",
    "        super(ValueHead, self).__init__(**kwargs)\n",
    "        self.conv = layers.Conv2D(filters, kernel_size, padding='same', activation='relu')\n",
    "        self.flatten = layers.Flatten()\n",
    "        self.dense1 = layers.Dense(256, activation='relu')\n",
    "        self.dense2 = layers.Dense(1, activation='tanh')\n",
    "\n",
    "    def call(self, inputs):\n",
    "        x = self.conv(inputs)\n",
    "        x = self.flatten(x)\n",
    "        x = self.dense1(x)\n",
    "        x = self.dense2(x)\n",
    "        return x"
   ],
   "metadata": {
    "collapsed": false,
    "ExecuteTime": {
     "end_time": "2023-11-08T13:36:04.524410Z",
     "start_time": "2023-11-08T13:36:04.517888Z"
    }
   },
   "id": "8799952e6ba9c666"
  },
  {
   "cell_type": "code",
   "execution_count": 5,
   "outputs": [],
   "source": [
    "class AlphaZeroModel(models.Model):\n",
    "    def __init__(self, **kwargs):\n",
    "        super(AlphaZeroModel, self).__init__(**kwargs)\n",
    "        self.conv1 = layers.Conv2D(256, 3, padding='same', activation='relu')\n",
    "        self.res1 = ResidualBlock(256, 3)\n",
    "        self.policy_head = PolicyHead(2, 1)\n",
    "        self.value_head = ValueHead(1, 1)\n",
    "\n",
    "    def call(self, inputs):\n",
    "        x = self.conv1(inputs)\n",
    "        x = self.res1(x)\n",
    "        policy = self.policy_head(x)\n",
    "        value = self.value_head(x)\n",
    "        return policy, value"
   ],
   "metadata": {
    "collapsed": false,
    "ExecuteTime": {
     "end_time": "2023-11-08T13:36:04.524617Z",
     "start_time": "2023-11-08T13:36:04.522177Z"
    }
   },
   "id": "75988845776d89fb"
  },
  {
   "cell_type": "code",
   "execution_count": 13,
   "outputs": [],
   "source": [
    "N = 10000 \n",
    "planes = 31 \n",
    "moves = 361\n",
    "input_data = np.random.randint(2, size=(N, 19, 19, planes)) \n",
    "input_data = input_data.astype ('float32')\n",
    "policy = np.random.randint(moves, size=(N,)) \n",
    "policy = tf.keras.utils.to_categorical(policy, num_classes=moves)\n",
    "value = np.random.randint(2, size=(N,)) \n",
    "value = value.astype ('float32')"
   ],
   "metadata": {
    "collapsed": false,
    "ExecuteTime": {
     "end_time": "2023-11-08T13:43:57.671281Z",
     "start_time": "2023-11-08T13:43:56.995390Z"
    }
   },
   "id": "b62cd28444abc672"
  },
  {
   "cell_type": "code",
   "execution_count": 26,
   "outputs": [
    {
     "name": "stderr",
     "output_type": "stream",
     "text": [
      "WARNING:absl:At this time, the v2.11+ optimizer `tf.keras.optimizers.Adam` runs slowly on M1/M2 Macs, please use the legacy Keras optimizer instead, located at `tf.keras.optimizers.legacy.Adam`.\n",
      "WARNING:absl:There is a known slowdown when using v2.11+ Keras optimizers on M1/M2 Macs. Falling back to the legacy Keras optimizer, i.e., `tf.keras.optimizers.legacy.Adam`.\n"
     ]
    },
    {
     "name": "stdout",
     "output_type": "stream",
     "text": [
      "Epoch 1/20\n"
     ]
    },
    {
     "name": "stderr",
     "output_type": "stream",
     "text": [
      "2023-11-08 15:00:22.941685: I tensorflow/core/grappler/optimizers/custom_graph_optimizer_registry.cc:114] Plugin optimizer for device_type GPU is enabled.\n"
     ]
    },
    {
     "name": "stdout",
     "output_type": "stream",
     "text": [
      "63/63 [==============================] - ETA: 0s - loss: 6.2049 - output_1_loss: 5.8909 - output_2_loss: 0.3140"
     ]
    },
    {
     "name": "stderr",
     "output_type": "stream",
     "text": [
      "2023-11-08 15:00:35.401692: I tensorflow/core/grappler/optimizers/custom_graph_optimizer_registry.cc:114] Plugin optimizer for device_type GPU is enabled.\n"
     ]
    },
    {
     "name": "stdout",
     "output_type": "stream",
     "text": [
      "63/63 [==============================] - 15s 188ms/step - loss: 6.2049 - output_1_loss: 5.8909 - output_2_loss: 0.3140 - val_loss: 6.1404 - val_output_1_loss: 5.8902 - val_output_2_loss: 0.2503\n",
      "Epoch 2/20\n",
      "63/63 [==============================] - 9s 141ms/step - loss: 6.1302 - output_1_loss: 5.8794 - output_2_loss: 0.2508 - val_loss: 6.1449 - val_output_1_loss: 5.8943 - val_output_2_loss: 0.2505\n",
      "Epoch 3/20\n",
      "63/63 [==============================] - 9s 141ms/step - loss: 6.1262 - output_1_loss: 5.8756 - output_2_loss: 0.2505 - val_loss: 6.1480 - val_output_1_loss: 5.8980 - val_output_2_loss: 0.2500\n",
      "Epoch 4/20\n",
      "63/63 [==============================] - 9s 141ms/step - loss: 6.1245 - output_1_loss: 5.8739 - output_2_loss: 0.2506 - val_loss: 6.1528 - val_output_1_loss: 5.9018 - val_output_2_loss: 0.2510\n",
      "Epoch 5/20\n",
      "63/63 [==============================] - 9s 141ms/step - loss: 6.1237 - output_1_loss: 5.8730 - output_2_loss: 0.2507 - val_loss: 6.1551 - val_output_1_loss: 5.9044 - val_output_2_loss: 0.2507\n",
      "Epoch 6/20\n",
      "63/63 [==============================] - 9s 141ms/step - loss: 6.1247 - output_1_loss: 5.8727 - output_2_loss: 0.2520 - val_loss: 6.1554 - val_output_1_loss: 5.9052 - val_output_2_loss: 0.2502\n",
      "Epoch 7/20\n",
      "63/63 [==============================] - 9s 141ms/step - loss: 6.1238 - output_1_loss: 5.8727 - output_2_loss: 0.2510 - val_loss: 6.1593 - val_output_1_loss: 5.9063 - val_output_2_loss: 0.2529\n",
      "Epoch 8/20\n",
      "63/63 [==============================] - 9s 141ms/step - loss: 6.1241 - output_1_loss: 5.8727 - output_2_loss: 0.2515 - val_loss: 6.1577 - val_output_1_loss: 5.9078 - val_output_2_loss: 0.2500\n",
      "Epoch 9/20\n",
      "63/63 [==============================] - 9s 141ms/step - loss: 6.1232 - output_1_loss: 5.8724 - output_2_loss: 0.2509 - val_loss: 6.1580 - val_output_1_loss: 5.9079 - val_output_2_loss: 0.2500\n",
      "Epoch 10/20\n",
      "63/63 [==============================] - 9s 141ms/step - loss: 6.1228 - output_1_loss: 5.8723 - output_2_loss: 0.2505 - val_loss: 6.1603 - val_output_1_loss: 5.9086 - val_output_2_loss: 0.2518\n",
      "Epoch 11/20\n",
      "63/63 [==============================] - 9s 141ms/step - loss: 6.1228 - output_1_loss: 5.8720 - output_2_loss: 0.2508 - val_loss: 6.1600 - val_output_1_loss: 5.9095 - val_output_2_loss: 0.2505\n",
      "Epoch 12/20\n",
      "63/63 [==============================] - 9s 141ms/step - loss: 6.1227 - output_1_loss: 5.8720 - output_2_loss: 0.2506 - val_loss: 6.1593 - val_output_1_loss: 5.9093 - val_output_2_loss: 0.2500\n",
      "Epoch 13/20\n",
      "63/63 [==============================] - 9s 142ms/step - loss: 6.1244 - output_1_loss: 5.8727 - output_2_loss: 0.2516 - val_loss: 6.1666 - val_output_1_loss: 5.9095 - val_output_2_loss: 0.2571\n",
      "Epoch 14/20\n",
      "63/63 [==============================] - 9s 141ms/step - loss: 6.1236 - output_1_loss: 5.8725 - output_2_loss: 0.2512 - val_loss: 6.1593 - val_output_1_loss: 5.9093 - val_output_2_loss: 0.2500\n",
      "Epoch 15/20\n",
      "63/63 [==============================] - 9s 141ms/step - loss: 6.1237 - output_1_loss: 5.8724 - output_2_loss: 0.2513 - val_loss: 6.1599 - val_output_1_loss: 5.9098 - val_output_2_loss: 0.2500\n",
      "Epoch 16/20\n",
      "63/63 [==============================] - 9s 141ms/step - loss: 6.1234 - output_1_loss: 5.8724 - output_2_loss: 0.2510 - val_loss: 6.1600 - val_output_1_loss: 5.9099 - val_output_2_loss: 0.2500\n",
      "Epoch 17/20\n",
      "63/63 [==============================] - 9s 141ms/step - loss: 6.1231 - output_1_loss: 5.8724 - output_2_loss: 0.2508 - val_loss: 6.1602 - val_output_1_loss: 5.9103 - val_output_2_loss: 0.2500\n",
      "Epoch 18/20\n",
      "63/63 [==============================] - 9s 142ms/step - loss: 6.1228 - output_1_loss: 5.8722 - output_2_loss: 0.2506 - val_loss: 6.1618 - val_output_1_loss: 5.9100 - val_output_2_loss: 0.2517\n",
      "Epoch 19/20\n",
      "63/63 [==============================] - 9s 141ms/step - loss: 6.1241 - output_1_loss: 5.8725 - output_2_loss: 0.2517 - val_loss: 6.1612 - val_output_1_loss: 5.9101 - val_output_2_loss: 0.2512\n",
      "Epoch 20/20\n",
      "63/63 [==============================] - 9s 141ms/step - loss: 6.1231 - output_1_loss: 5.8725 - output_2_loss: 0.2506 - val_loss: 6.1591 - val_output_1_loss: 5.9090 - val_output_2_loss: 0.2501\n"
     ]
    },
    {
     "data": {
      "text/plain": "<keras.src.callbacks.History at 0x2fc5b5060>"
     },
     "execution_count": 26,
     "metadata": {},
     "output_type": "execute_result"
    }
   ],
   "source": [
    "model = AlphaZeroModel()\n",
    "model.compile(optimizer=optimizers.Adam(learning_rate=0.01), loss=['categorical_crossentropy', 'mse'])\n",
    "model.fit(input_data, [policy, value], epochs=20, batch_size=128, validation_split=0.2)"
   ],
   "metadata": {
    "collapsed": false,
    "ExecuteTime": {
     "end_time": "2023-11-08T14:03:25.998661Z",
     "start_time": "2023-11-08T14:00:22.242838Z"
    }
   },
   "id": "9270d38dfbe73659"
  },
  {
   "cell_type": "code",
   "execution_count": 27,
   "outputs": [
    {
     "data": {
      "text/plain": "<Figure size 600x500 with 1 Axes>",
      "image/png": "[encoded data removed]"
     },
     "metadata": {},
     "output_type": "display_data"
    }
   ],
   "source": [
    "# Plot the training loss and the validation\n",
    "fig, ax = plt.subplots(figsize=(6, 5))\n",
    "ax.plot(model.history.history['loss'], label='Training loss')\n",
    "ax.plot(model.history.history['val_loss'], label='Validation loss')\n",
    "ax.set_xlabel('Epoch')\n",
    "ax.set_ylabel('Loss')\n",
    "ax.legend()\n",
    "ax.grid(which='both')\n",
    "ax.grid(which='minor', alpha=0.2)\n",
    "ax.grid(which='major', alpha=0.5)\n",
    "fig.tight_layout()\n",
    "plt.show()"
   ],
   "metadata": {
    "collapsed": false,
    "ExecuteTime": {
     "end_time": "2023-11-08T14:03:30.624822Z",
     "start_time": "2023-11-08T14:03:28.893191Z"
    }
   },
   "id": "c99a710b039a039a"
  },
  {
   "cell_type": "code",
   "execution_count": null,
   "outputs": [],
   "source": [],
   "metadata": {
    "collapsed": false
   },
   "id": "98bea6d919a4d180"
  }
 ],
 "metadata": {
  "kernelspec": {
   "display_name": "Python 3",
   "language": "python",
   "name": "python3"
  },
  "language_info": {
   "codemirror_mode": {
    "name": "ipython",
    "version": 2
   },
   "file_extension": ".py",
   "mimetype": "text/x-python",
   "name": "python",
   "nbconvert_exporter": "python",
   "pygments_lexer": "ipython2",
   "version": "2.7.6"
  }
 },
 "nbformat": 4,
 "nbformat_minor": 5
}
