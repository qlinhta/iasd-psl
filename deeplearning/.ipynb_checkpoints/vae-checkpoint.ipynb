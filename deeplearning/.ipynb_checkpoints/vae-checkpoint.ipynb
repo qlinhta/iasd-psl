{
 "cells": [
  {
   "cell_type": "code",
   "execution_count": 1,
   "id": "initial_id",
   "metadata": {
    "collapsed": true,
    "ExecuteTime": {
     "end_time": "2023-10-04T13:45:36.081270Z",
     "start_time": "2023-10-04T13:45:35.630030Z"
    }
   },
   "outputs": [],
   "source": [
    "import numpy as np\n",
    "import matplotlib.pyplot as plt\n",
    "plt.style.use('default')\n",
    "plt.rc('text', usetex=True)\n",
    "plt.rc('font', family='sans-serif')\n",
    "plt.rc('font', size=18)\n",
    "plt.rc('axes', titlesize=18)\n",
    "plt.rc('axes', labelsize=18)\n",
    "plt.rc('xtick', labelsize=18)\n",
    "plt.rc('ytick', labelsize=18)\n",
    "plt.rc('legend', fontsize=18)\n",
    "plt.rc('lines', markersize=10)"
   ]
  },
  {
   "cell_type": "code",
   "execution_count": 2,
   "outputs": [],
   "source": [
    "import tensorflow as tf\n",
    "from tensorflow import keras\n",
    "from tensorflow.keras import Sequential\n",
    "from tensorflow.keras.layers import Dense, Flatten, Conv2D, MaxPooling2D, Dropout\n",
    "from tensorflow.keras.utils import plot_model\n",
    "from tensorflow.keras.utils import to_categorical\n",
    "from tensorflow.keras.datasets import fashion_mnist\n"
   ],
   "metadata": {
    "collapsed": false,
    "ExecuteTime": {
     "end_time": "2023-10-04T13:46:00.601921Z",
     "start_time": "2023-10-04T13:45:57.365322Z"
    }
   },
   "id": "81f8e531669d7240"
  },
  {
   "cell_type": "code",
   "execution_count": 3,
   "outputs": [],
   "source": [
    "# Load data\n",
    "(x_train, y_train), (x_test, y_test) = fashion_mnist.load_data()"
   ],
   "metadata": {
    "collapsed": false,
    "ExecuteTime": {
     "end_time": "2023-10-04T13:46:39.438473Z",
     "start_time": "2023-10-04T13:46:39.272163Z"
    }
   },
   "id": "870c4ccbc2cf0789"
  },
  {
   "cell_type": "code",
   "execution_count": 4,
   "outputs": [],
   "source": [
    "# Preprocess data\n",
    "x_train = x_train / 255.0\n",
    "x_test = x_test / 255.0"
   ],
   "metadata": {
    "collapsed": false,
    "ExecuteTime": {
     "end_time": "2023-10-04T13:46:46.142099Z",
     "start_time": "2023-10-04T13:46:45.992452Z"
    }
   },
   "id": "b1081344e83e5652"
  },
  {
   "cell_type": "code",
   "execution_count": 6,
   "outputs": [],
   "source": [
    "# Reshape data\n",
    "x_train = x_train.reshape(-1, 28, 28, 1)\n",
    "x_test = x_test.reshape(-1, 28, 28, 1)"
   ],
   "metadata": {
    "collapsed": false,
    "ExecuteTime": {
     "end_time": "2023-10-04T13:47:04.047965Z",
     "start_time": "2023-10-04T13:47:04.042641Z"
    }
   },
   "id": "8ad9d4fa10951c1b"
  },
  {
   "cell_type": "code",
   "execution_count": 7,
   "outputs": [
    {
     "name": "stderr",
     "output_type": "stream",
     "text": [
      "2023-10-04 15:50:16.851590: I metal_plugin/src/device/metal_device.cc:1154] Metal device set to: Apple M1 Pro\n",
      "2023-10-04 15:50:16.851655: I metal_plugin/src/device/metal_device.cc:296] systemMemory: 16.00 GB\n",
      "2023-10-04 15:50:16.851665: I metal_plugin/src/device/metal_device.cc:313] maxCacheSize: 5.33 GB\n",
      "2023-10-04 15:50:16.851891: I tensorflow/core/common_runtime/pluggable_device/pluggable_device_factory.cc:303] Could not identify NUMA node of platform GPU ID 0, defaulting to 0. Your kernel may not have been built with NUMA support.\n",
      "2023-10-04 15:50:16.851912: I tensorflow/core/common_runtime/pluggable_device/pluggable_device_factory.cc:269] Created TensorFlow device (/job:localhost/replica:0/task:0/device:GPU:0 with 0 MB memory) -> physical PluggableDevice (device: 0, name: METAL, pci bus id: <undefined>)\n"
     ]
    }
   ],
   "source": [
    "from keras.src.layers import Reshape, UpSampling2D, Conv2DTranspose\n",
    "\n",
    "# Train Variational Autoencoder\n",
    "# Encoder\n",
    "encoder = keras.Input(shape=(28, 28, 1))\n",
    "x = Conv2D(32, (3, 3), activation='relu', padding='same')(encoder)\n",
    "x = MaxPooling2D((2, 2), padding='same')(x)\n",
    "x = Conv2D(32, (3, 3), activation='relu', padding='same')(x)\n",
    "x = MaxPooling2D((2, 2), padding='same')(x)\n",
    "x = Conv2D(32, (3, 3), activation='relu', padding='same')(x)\n",
    "x = Flatten()(x)\n",
    "x = Dense(16, activation='relu')(x)\n",
    "z_mean = Dense(2)(x)\n",
    "z_log_var = Dense(2)(x)\n",
    "encoder = keras.Model(encoder, [z_mean, z_log_var], name='encoder')\n",
    "\n",
    "# Decoder\n",
    "latent_inputs = keras.Input(shape=(2,))\n",
    "x = Dense(7 * 7 * 32, activation='relu')(latent_inputs)\n",
    "x = Reshape((7, 7, 32))(x)\n",
    "x = Conv2D(32, (3, 3), activation='relu', padding='same')(x)\n",
    "x = UpSampling2D((2, 2))(x)\n",
    "x = Conv2D(32, (3, 3), activation='relu', padding='same')(x)\n",
    "x = UpSampling2D((2, 2))(x)\n",
    "decoder_outputs = Conv2DTranspose(1, (3, 3), activation='sigmoid', padding='same')(x)\n",
    "decoder = keras.Model(latent_inputs, decoder_outputs, name='decoder')\n",
    "\n",
    "# VAE\n",
    "outputs = decoder(encoder(encoder.inputs)[0])\n",
    "vae = keras.Model(encoder.inputs, outputs, name='vae')\n",
    "\n",
    "# Loss\n",
    "reconstruction_loss = keras.losses.mse(encoder(encoder.inputs)[0], outputs)\n",
    "reconstruction_loss *= 28 * 28\n",
    "kl_loss = 1 + z_log_var - tf.square(z_mean) - tf.exp(z_log_var)\n",
    "kl_loss = tf.reduce_mean(kl_loss)\n",
    "kl_loss *= -0.5\n",
    "vae_loss = tf.reduce_mean(reconstruction_loss + kl_loss)"
   ],
   "metadata": {
    "collapsed": false,
    "ExecuteTime": {
     "end_time": "2023-10-04T13:50:18.829823Z",
     "start_time": "2023-10-04T13:50:16.834933Z"
    }
   },
   "id": "be5e1ac40c5fde8d"
  },
  {
   "cell_type": "code",
   "execution_count": 8,
   "outputs": [
    {
     "ename": "TypeError",
     "evalue": "Keras symbolic inputs/outputs do not implement `__len__`. You may be trying to pass Keras symbolic inputs/outputs to a TF API that does not register dispatching, preventing Keras from automatically converting the API call to a lambda layer in the Functional Model. This error will also get raised if you try asserting a symbolic input/output directly.",
     "output_type": "error",
     "traceback": [
      "\u001B[0;31m---------------------------------------------------------------------------\u001B[0m",
      "\u001B[0;31mTypeError\u001B[0m                                 Traceback (most recent call last)",
      "Cell \u001B[0;32mIn[8], line 2\u001B[0m\n\u001B[1;32m      1\u001B[0m \u001B[38;5;66;03m# Compile\u001B[39;00m\n\u001B[0;32m----> 2\u001B[0m \u001B[43mvae\u001B[49m\u001B[38;5;241;43m.\u001B[39;49m\u001B[43mcompile\u001B[49m\u001B[43m(\u001B[49m\u001B[43moptimizer\u001B[49m\u001B[38;5;241;43m=\u001B[39;49m\u001B[38;5;124;43m'\u001B[39;49m\u001B[38;5;124;43madam\u001B[39;49m\u001B[38;5;124;43m'\u001B[39;49m\u001B[43m,\u001B[49m\u001B[43m \u001B[49m\u001B[43mloss\u001B[49m\u001B[38;5;241;43m=\u001B[39;49m\u001B[43mvae_loss\u001B[49m\u001B[43m)\u001B[49m\n",
      "File \u001B[0;32m~/IASD/iasd/lib/python3.10/site-packages/keras/src/utils/traceback_utils.py:70\u001B[0m, in \u001B[0;36mfilter_traceback.<locals>.error_handler\u001B[0;34m(*args, **kwargs)\u001B[0m\n\u001B[1;32m     67\u001B[0m     filtered_tb \u001B[38;5;241m=\u001B[39m _process_traceback_frames(e\u001B[38;5;241m.\u001B[39m__traceback__)\n\u001B[1;32m     68\u001B[0m     \u001B[38;5;66;03m# To get the full stack trace, call:\u001B[39;00m\n\u001B[1;32m     69\u001B[0m     \u001B[38;5;66;03m# `tf.debugging.disable_traceback_filtering()`\u001B[39;00m\n\u001B[0;32m---> 70\u001B[0m     \u001B[38;5;28;01mraise\u001B[39;00m e\u001B[38;5;241m.\u001B[39mwith_traceback(filtered_tb) \u001B[38;5;28;01mfrom\u001B[39;00m \u001B[38;5;28;01mNone\u001B[39;00m\n\u001B[1;32m     71\u001B[0m \u001B[38;5;28;01mfinally\u001B[39;00m:\n\u001B[1;32m     72\u001B[0m     \u001B[38;5;28;01mdel\u001B[39;00m filtered_tb\n",
      "File \u001B[0;32m~/IASD/iasd/lib/python3.10/site-packages/keras/src/engine/keras_tensor.py:246\u001B[0m, in \u001B[0;36mKerasTensor.__len__\u001B[0;34m(self)\u001B[0m\n\u001B[1;32m    245\u001B[0m \u001B[38;5;28;01mdef\u001B[39;00m \u001B[38;5;21m__len__\u001B[39m(\u001B[38;5;28mself\u001B[39m):\n\u001B[0;32m--> 246\u001B[0m     \u001B[38;5;28;01mraise\u001B[39;00m \u001B[38;5;167;01mTypeError\u001B[39;00m(\n\u001B[1;32m    247\u001B[0m         \u001B[38;5;124m\"\u001B[39m\u001B[38;5;124mKeras symbolic inputs/outputs do not \u001B[39m\u001B[38;5;124m\"\u001B[39m\n\u001B[1;32m    248\u001B[0m         \u001B[38;5;124m\"\u001B[39m\u001B[38;5;124mimplement `__len__`. You may be \u001B[39m\u001B[38;5;124m\"\u001B[39m\n\u001B[1;32m    249\u001B[0m         \u001B[38;5;124m\"\u001B[39m\u001B[38;5;124mtrying to pass Keras symbolic inputs/outputs \u001B[39m\u001B[38;5;124m\"\u001B[39m\n\u001B[1;32m    250\u001B[0m         \u001B[38;5;124m\"\u001B[39m\u001B[38;5;124mto a TF API that does not register dispatching, \u001B[39m\u001B[38;5;124m\"\u001B[39m\n\u001B[1;32m    251\u001B[0m         \u001B[38;5;124m\"\u001B[39m\u001B[38;5;124mpreventing Keras from automatically \u001B[39m\u001B[38;5;124m\"\u001B[39m\n\u001B[1;32m    252\u001B[0m         \u001B[38;5;124m\"\u001B[39m\u001B[38;5;124mconverting the API call to a lambda layer \u001B[39m\u001B[38;5;124m\"\u001B[39m\n\u001B[1;32m    253\u001B[0m         \u001B[38;5;124m\"\u001B[39m\u001B[38;5;124min the Functional Model. This error will also get raised \u001B[39m\u001B[38;5;124m\"\u001B[39m\n\u001B[1;32m    254\u001B[0m         \u001B[38;5;124m\"\u001B[39m\u001B[38;5;124mif you try asserting a symbolic input/output directly.\u001B[39m\u001B[38;5;124m\"\u001B[39m\n\u001B[1;32m    255\u001B[0m     )\n",
      "\u001B[0;31mTypeError\u001B[0m: Keras symbolic inputs/outputs do not implement `__len__`. You may be trying to pass Keras symbolic inputs/outputs to a TF API that does not register dispatching, preventing Keras from automatically converting the API call to a lambda layer in the Functional Model. This error will also get raised if you try asserting a symbolic input/output directly."
     ]
    }
   ],
   "source": [
    "# Compile\n",
    "vae.compile(optimizer='adam', loss=vae_loss)"
   ],
   "metadata": {
    "collapsed": false,
    "ExecuteTime": {
     "end_time": "2023-10-04T13:50:33.752621Z",
     "start_time": "2023-10-04T13:50:33.248660Z"
    }
   },
   "id": "81e1ab641441011"
  },
  {
   "cell_type": "code",
   "execution_count": null,
   "outputs": [],
   "source": [],
   "metadata": {
    "collapsed": false
   },
   "id": "e3dfce1dce007e70"
  }
 ],
 "metadata": {
  "kernelspec": {
   "display_name": "Python 3",
   "language": "python",
   "name": "python3"
  },
  "language_info": {
   "codemirror_mode": {
    "name": "ipython",
    "version": 2
   },
   "file_extension": ".py",
   "mimetype": "text/x-python",
   "name": "python",
   "nbconvert_exporter": "python",
   "pygments_lexer": "ipython2",
   "version": "2.7.6"
  }
 },
 "nbformat": 4,
 "nbformat_minor": 5
}
