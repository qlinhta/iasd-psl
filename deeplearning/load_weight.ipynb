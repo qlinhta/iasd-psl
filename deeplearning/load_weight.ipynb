{
 "cells": [
  {
   "cell_type": "code",
   "execution_count": 12,
   "id": "initial_id",
   "metadata": {
    "collapsed": true,
    "ExecuteTime": {
     "end_time": "2024-01-29T22:25:00.438578Z",
     "start_time": "2024-01-29T22:25:00.431571Z"
    }
   },
   "outputs": [],
   "source": [
    "import tensorflow as tf"
   ]
  },
  {
   "cell_type": "code",
   "execution_count": 14,
   "outputs": [
    {
     "name": "stderr",
     "output_type": "stream",
     "text": [
      "2024-01-29 23:28:05.135174: W tensorflow/core/util/tensor_slice_reader.cc:97] Could not open model.ckpt: DATA_LOSS: not an sstable (bad magic number): perhaps your file is in a different file format and you need to use a different restore operator?\n"
     ]
    },
    {
     "ename": "DataLossError",
     "evalue": "Unable to open table file model.ckpt: DATA_LOSS: not an sstable (bad magic number): perhaps your file is in a different file format and you need to use a different restore operator?",
     "output_type": "error",
     "traceback": [
      "\u001B[0;31m---------------------------------------------------------------------------\u001B[0m",
      "\u001B[0;31mRuntimeError\u001B[0m                              Traceback (most recent call last)",
      "File \u001B[0;32m~/IASD/iasd/lib/python3.10/site-packages/tensorflow/python/training/py_checkpoint_reader.py:92\u001B[0m, in \u001B[0;36mNewCheckpointReader\u001B[0;34m(filepattern)\u001B[0m\n\u001B[1;32m     91\u001B[0m \u001B[38;5;28;01mtry\u001B[39;00m:\n\u001B[0;32m---> 92\u001B[0m   \u001B[38;5;28;01mreturn\u001B[39;00m \u001B[43mCheckpointReader\u001B[49m\u001B[43m(\u001B[49m\u001B[43mcompat\u001B[49m\u001B[38;5;241;43m.\u001B[39;49m\u001B[43mas_bytes\u001B[49m\u001B[43m(\u001B[49m\u001B[43mfilepattern\u001B[49m\u001B[43m)\u001B[49m\u001B[43m)\u001B[49m\n\u001B[1;32m     93\u001B[0m \u001B[38;5;66;03m# TODO(b/143319754): Remove the RuntimeError casting logic once we resolve the\u001B[39;00m\n\u001B[1;32m     94\u001B[0m \u001B[38;5;66;03m# issue with throwing python exceptions from C++.\u001B[39;00m\n",
      "\u001B[0;31mRuntimeError\u001B[0m: Unable to open table file model.ckpt: DATA_LOSS: not an sstable (bad magic number): perhaps your file is in a different file format and you need to use a different restore operator?",
      "\nDuring handling of the above exception, another exception occurred:\n",
      "\u001B[0;31mDataLossError\u001B[0m                             Traceback (most recent call last)",
      "Cell \u001B[0;32mIn[14], line 1\u001B[0m\n\u001B[0;32m----> 1\u001B[0m reader \u001B[38;5;241m=\u001B[39m \u001B[43mtf\u001B[49m\u001B[38;5;241;43m.\u001B[39;49m\u001B[43mtrain\u001B[49m\u001B[38;5;241;43m.\u001B[39;49m\u001B[43mload_checkpoint\u001B[49m\u001B[43m(\u001B[49m\u001B[38;5;124;43m'\u001B[39;49m\u001B[38;5;124;43mmodel.ckpt\u001B[39;49m\u001B[38;5;124;43m'\u001B[39;49m\u001B[43m)\u001B[49m\n\u001B[1;32m      3\u001B[0m \u001B[38;5;66;03m# List variable names stored in the checkpoint\u001B[39;00m\n\u001B[1;32m      4\u001B[0m variable_shapes \u001B[38;5;241m=\u001B[39m reader\u001B[38;5;241m.\u001B[39mget_variable_to_shape_map()\n",
      "File \u001B[0;32m~/IASD/iasd/lib/python3.10/site-packages/tensorflow/python/training/checkpoint_utils.py:80\u001B[0m, in \u001B[0;36mload_checkpoint\u001B[0;34m(ckpt_dir_or_file)\u001B[0m\n\u001B[1;32m     77\u001B[0m \u001B[38;5;28;01mif\u001B[39;00m filename \u001B[38;5;129;01mis\u001B[39;00m \u001B[38;5;28;01mNone\u001B[39;00m:\n\u001B[1;32m     78\u001B[0m   \u001B[38;5;28;01mraise\u001B[39;00m \u001B[38;5;167;01mValueError\u001B[39;00m(\u001B[38;5;124m\"\u001B[39m\u001B[38;5;124mCouldn\u001B[39m\u001B[38;5;124m'\u001B[39m\u001B[38;5;124mt find \u001B[39m\u001B[38;5;124m'\u001B[39m\u001B[38;5;124mcheckpoint\u001B[39m\u001B[38;5;124m'\u001B[39m\u001B[38;5;124m file or checkpoints in \u001B[39m\u001B[38;5;124m\"\u001B[39m\n\u001B[1;32m     79\u001B[0m                    \u001B[38;5;124m\"\u001B[39m\u001B[38;5;124mgiven directory \u001B[39m\u001B[38;5;132;01m%s\u001B[39;00m\u001B[38;5;124m\"\u001B[39m \u001B[38;5;241m%\u001B[39m ckpt_dir_or_file)\n\u001B[0;32m---> 80\u001B[0m \u001B[38;5;28;01mreturn\u001B[39;00m \u001B[43mpy_checkpoint_reader\u001B[49m\u001B[38;5;241;43m.\u001B[39;49m\u001B[43mNewCheckpointReader\u001B[49m\u001B[43m(\u001B[49m\u001B[43mfilename\u001B[49m\u001B[43m)\u001B[49m\n",
      "File \u001B[0;32m~/IASD/iasd/lib/python3.10/site-packages/tensorflow/python/training/py_checkpoint_reader.py:96\u001B[0m, in \u001B[0;36mNewCheckpointReader\u001B[0;34m(filepattern)\u001B[0m\n\u001B[1;32m     93\u001B[0m \u001B[38;5;66;03m# TODO(b/143319754): Remove the RuntimeError casting logic once we resolve the\u001B[39;00m\n\u001B[1;32m     94\u001B[0m \u001B[38;5;66;03m# issue with throwing python exceptions from C++.\u001B[39;00m\n\u001B[1;32m     95\u001B[0m \u001B[38;5;28;01mexcept\u001B[39;00m \u001B[38;5;167;01mRuntimeError\u001B[39;00m \u001B[38;5;28;01mas\u001B[39;00m e:\n\u001B[0;32m---> 96\u001B[0m   \u001B[43merror_translator\u001B[49m\u001B[43m(\u001B[49m\u001B[43me\u001B[49m\u001B[43m)\u001B[49m\n",
      "File \u001B[0;32m~/IASD/iasd/lib/python3.10/site-packages/tensorflow/python/training/py_checkpoint_reader.py:40\u001B[0m, in \u001B[0;36merror_translator\u001B[0;34m(e)\u001B[0m\n\u001B[1;32m     38\u001B[0m   \u001B[38;5;28;01mraise\u001B[39;00m errors_impl\u001B[38;5;241m.\u001B[39mInvalidArgumentError(\u001B[38;5;28;01mNone\u001B[39;00m, \u001B[38;5;28;01mNone\u001B[39;00m, error_message)\n\u001B[1;32m     39\u001B[0m \u001B[38;5;28;01melif\u001B[39;00m \u001B[38;5;124m'\u001B[39m\u001B[38;5;124mUnable to open table file\u001B[39m\u001B[38;5;124m'\u001B[39m \u001B[38;5;129;01min\u001B[39;00m error_message:\n\u001B[0;32m---> 40\u001B[0m   \u001B[38;5;28;01mraise\u001B[39;00m errors_impl\u001B[38;5;241m.\u001B[39mDataLossError(\u001B[38;5;28;01mNone\u001B[39;00m, \u001B[38;5;28;01mNone\u001B[39;00m, error_message)\n\u001B[1;32m     41\u001B[0m \u001B[38;5;28;01melif\u001B[39;00m \u001B[38;5;124m'\u001B[39m\u001B[38;5;124mFailed to find the saved tensor slices\u001B[39m\u001B[38;5;124m'\u001B[39m \u001B[38;5;129;01min\u001B[39;00m error_message \u001B[38;5;129;01mor\u001B[39;00m (\n\u001B[1;32m     42\u001B[0m     \u001B[38;5;124m'\u001B[39m\u001B[38;5;124mnot convertible to numpy dtype\u001B[39m\u001B[38;5;124m'\u001B[39m \u001B[38;5;129;01min\u001B[39;00m error_message):\n\u001B[1;32m     43\u001B[0m   \u001B[38;5;28;01mraise\u001B[39;00m errors_impl\u001B[38;5;241m.\u001B[39mInternalError(\u001B[38;5;28;01mNone\u001B[39;00m, \u001B[38;5;28;01mNone\u001B[39;00m, error_message)\n",
      "\u001B[0;31mDataLossError\u001B[0m: Unable to open table file model.ckpt: DATA_LOSS: not an sstable (bad magic number): perhaps your file is in a different file format and you need to use a different restore operator?"
     ]
    }
   ],
   "source": [
    "reader = tf.train.load_checkpoint('model.ckpt')\n",
    "\n",
    "variable_shapes = reader.get_variable_to_shape_map()\n",
    "for key in variable_shapes:\n",
    "    print(\"tensor_name: \", key)\n"
   ],
   "metadata": {
    "collapsed": false,
    "ExecuteTime": {
     "end_time": "2024-01-29T22:28:05.255739Z",
     "start_time": "2024-01-29T22:28:05.159742Z"
    }
   },
   "id": "d7506d9475d82693"
  },
  {
   "cell_type": "code",
   "execution_count": null,
   "outputs": [],
   "source": [],
   "metadata": {
    "collapsed": false
   },
   "id": "17af01b28ca78b52"
  }
 ],
 "metadata": {
  "kernelspec": {
   "display_name": "Python 3",
   "language": "python",
   "name": "python3"
  },
  "language_info": {
   "codemirror_mode": {
    "name": "ipython",
    "version": 2
   },
   "file_extension": ".py",
   "mimetype": "text/x-python",
   "name": "python",
   "nbconvert_exporter": "python",
   "pygments_lexer": "ipython2",
   "version": "2.7.6"
  }
 },
 "nbformat": 4,
 "nbformat_minor": 5
}
