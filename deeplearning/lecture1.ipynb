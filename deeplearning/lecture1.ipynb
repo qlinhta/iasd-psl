{
 "cells": [
  {
   "cell_type": "markdown",
   "source": [
    "# Deep Learning\n",
    "Date: September 20, 2023"
   ],
   "metadata": {
    "collapsed": false
   },
   "id": "9b97e340a68c0c3d"
  },
  {
   "cell_type": "code",
   "execution_count": 50,
   "id": "initial_id",
   "metadata": {
    "collapsed": true,
    "ExecuteTime": {
     "end_time": "2023-09-20T20:10:02.700476Z",
     "start_time": "2023-09-20T20:10:02.669300Z"
    }
   },
   "outputs": [],
   "source": [
    "import numpy as np\n",
    "import matplotlib.pyplot as plt\n",
    "plt.style.use('default')\n",
    "plt.rc('text', usetex=True)\n",
    "plt.rc('font', family='serif')\n",
    "plt.rc('font', size=18)\n",
    "plt.rc('axes', titlesize=18)\n",
    "plt.rc('axes', labelsize=18)\n",
    "plt.rc('xtick', labelsize=18)\n",
    "plt.rc('ytick', labelsize=18)\n",
    "plt.rc('legend', fontsize=18)\n",
    "plt.rc('lines', markersize=10)"
   ]
  },
  {
   "cell_type": "code",
   "execution_count": 51,
   "outputs": [
    {
     "name": "stdout",
     "output_type": "stream",
     "text": [
      "The tensorboard extension is already loaded. To reload it, use:\n",
      "  %reload_ext tensorboard\n"
     ]
    }
   ],
   "source": [
    "import tensorflow as tf\n",
    "from tensorflow import keras\n",
    "from tensorflow.keras import Sequential\n",
    "from tensorflow.keras.layers import Dense, Flatten, Conv2D, MaxPooling2D\n",
    "from tensorflow.keras.utils import to_categorical\n",
    "from tensorflow.keras.datasets import mnist\n",
    "%load_ext tensorboard"
   ],
   "metadata": {
    "collapsed": false,
    "ExecuteTime": {
     "end_time": "2023-09-20T20:10:02.700874Z",
     "start_time": "2023-09-20T20:10:02.674481Z"
    }
   },
   "id": "88e713eaa783a645"
  },
  {
   "cell_type": "code",
   "execution_count": 52,
   "outputs": [],
   "source": [
    "# Load data\n",
    "(X_train, y_train), (X_test, y_test) = mnist.load_data()"
   ],
   "metadata": {
    "collapsed": false,
    "ExecuteTime": {
     "end_time": "2023-09-20T20:10:02.849197Z",
     "start_time": "2023-09-20T20:10:02.678062Z"
    }
   },
   "id": "58ae08ac6b251193"
  },
  {
   "cell_type": "code",
   "execution_count": 53,
   "outputs": [],
   "source": [
    "# Preprocess data\n",
    "X_train = X_train / 255.0\n",
    "X_test = X_test / 255.0"
   ],
   "metadata": {
    "collapsed": false,
    "ExecuteTime": {
     "end_time": "2023-09-20T20:10:02.946889Z",
     "start_time": "2023-09-20T20:10:02.849504Z"
    }
   },
   "id": "a138711605782792"
  },
  {
   "cell_type": "code",
   "execution_count": 54,
   "outputs": [],
   "source": [
    "# Reshape data to fit model\n",
    "X_train = X_train.reshape(60000, 28, 28, 1)\n",
    "X_test = X_test.reshape(10000, 28, 28, 1)"
   ],
   "metadata": {
    "collapsed": false,
    "ExecuteTime": {
     "end_time": "2023-09-20T20:10:02.958161Z",
     "start_time": "2023-09-20T20:10:02.948239Z"
    }
   },
   "id": "73b64a10c8b6f4"
  },
  {
   "cell_type": "code",
   "execution_count": 55,
   "outputs": [],
   "source": [
    "# One-hot encode target column\n",
    "y_train = to_categorical(y_train)\n",
    "y_test = to_categorical(y_test)"
   ],
   "metadata": {
    "collapsed": false,
    "ExecuteTime": {
     "end_time": "2023-09-20T20:10:02.958392Z",
     "start_time": "2023-09-20T20:10:02.951433Z"
    }
   },
   "id": "65c9648f24252f8d"
  },
  {
   "cell_type": "code",
   "execution_count": 56,
   "outputs": [],
   "source": [
    "def create_model():\n",
    "    return tf.keras.models.Sequential([\n",
    "        tf.keras.layers.Flatten(input_shape=(28, 28), name='layers_flatten'),\n",
    "        tf.keras.layers.Dense(512, activation='relu', name='layers_dense'),\n",
    "        tf.keras.layers.Dropout(0.2, name='layers_dropout'),\n",
    "        tf.keras.layers.Dense(10, activation='softmax', name='layers_dense_2')\n",
    "    ])"
   ],
   "metadata": {
    "collapsed": false,
    "ExecuteTime": {
     "end_time": "2023-09-20T20:10:02.958721Z",
     "start_time": "2023-09-20T20:10:02.956878Z"
    }
   },
   "id": "121c13bcd478063d"
  },
  {
   "cell_type": "code",
   "execution_count": 57,
   "outputs": [
    {
     "name": "stdout",
     "output_type": "stream",
     "text": [
      "Model: \"sequential_4\"\n",
      "_________________________________________________________________\n",
      " Layer (type)                Output Shape              Param #   \n",
      "=================================================================\n",
      " layers_flatten (Flatten)    (None, 784)               0         \n",
      "                                                                 \n",
      " layers_dense (Dense)        (None, 512)               401920    \n",
      "                                                                 \n",
      " layers_dropout (Dropout)    (None, 512)               0         \n",
      "                                                                 \n",
      " layers_dense_2 (Dense)      (None, 10)                5130      \n",
      "                                                                 \n",
      "=================================================================\n",
      "Total params: 407050 (1.55 MB)\n",
      "Trainable params: 407050 (1.55 MB)\n",
      "Non-trainable params: 0 (0.00 Byte)\n",
      "_________________________________________________________________\n"
     ]
    }
   ],
   "source": [
    "# Build model\n",
    "model = create_model()\n",
    "model.summary()"
   ],
   "metadata": {
    "collapsed": false,
    "ExecuteTime": {
     "end_time": "2023-09-20T20:10:02.989339Z",
     "start_time": "2023-09-20T20:10:02.961484Z"
    }
   },
   "id": "e056d48db5f88355"
  },
  {
   "cell_type": "code",
   "execution_count": 58,
   "outputs": [],
   "source": [
    "# Compile model\n",
    "logdir = 'logs'\n",
    "tensorboard_callback = tf.keras.callbacks.TensorBoard(logdir, histogram_freq=1)\n",
    "model.compile(optimizer='adam', loss='categorical_crossentropy', metrics=['accuracy'])"
   ],
   "metadata": {
    "collapsed": false,
    "ExecuteTime": {
     "end_time": "2023-09-20T20:10:02.997954Z",
     "start_time": "2023-09-20T20:10:02.990353Z"
    }
   },
   "id": "7ea4500ca2477f82"
  },
  {
   "cell_type": "code",
   "execution_count": 59,
   "outputs": [
    {
     "name": "stdout",
     "output_type": "stream",
     "text": [
      "Epoch 1/10\n",
      "   3/1875 [..............................] - ETA: 51s - loss: 2.3479 - accuracy: 0.1458 "
     ]
    },
    {
     "name": "stderr",
     "output_type": "stream",
     "text": [
      "2023-09-20 22:10:03.374500: I tensorflow/core/grappler/optimizers/custom_graph_optimizer_registry.cc:114] Plugin optimizer for device_type GPU is enabled.\n"
     ]
    },
    {
     "name": "stdout",
     "output_type": "stream",
     "text": [
      "1872/1875 [============================>.] - ETA: 0s - loss: 0.4024 - accuracy: 0.8871"
     ]
    },
    {
     "name": "stderr",
     "output_type": "stream",
     "text": [
      "2023-09-20 22:10:23.474260: I tensorflow/core/grappler/optimizers/custom_graph_optimizer_registry.cc:114] Plugin optimizer for device_type GPU is enabled.\n"
     ]
    },
    {
     "name": "stdout",
     "output_type": "stream",
     "text": [
      "1875/1875 [==============================] - 23s 12ms/step - loss: 0.4023 - accuracy: 0.8871 - val_loss: 0.3449 - val_accuracy: 0.9054 - lr: 0.0010\n",
      "Epoch 2/10\n",
      "1875/1875 [==============================] - 22s 12ms/step - loss: 0.4323 - accuracy: 0.8917 - val_loss: 0.4973 - val_accuracy: 0.8796 - lr: 0.0010\n",
      "Epoch 3/10\n",
      "1875/1875 [==============================] - 22s 12ms/step - loss: 0.4976 - accuracy: 0.8854 - val_loss: 0.4866 - val_accuracy: 0.8947 - lr: 0.0010\n",
      "Epoch 4/10\n",
      "1871/1875 [============================>.] - ETA: 0s - loss: 0.5773 - accuracy: 0.8824\n",
      "Epoch 4: ReduceLROnPlateau reducing learning rate to 0.0005000000237487257.\n",
      "1875/1875 [==============================] - 20s 11ms/step - loss: 0.5767 - accuracy: 0.8825 - val_loss: 0.5188 - val_accuracy: 0.8923 - lr: 0.0010\n",
      "Epoch 5/10\n",
      "1875/1875 [==============================] - 22s 12ms/step - loss: 0.4489 - accuracy: 0.9014 - val_loss: 0.3960 - val_accuracy: 0.9059 - lr: 5.0000e-04\n",
      "Epoch 6/10\n",
      "1875/1875 [==============================] - 21s 11ms/step - loss: 0.4360 - accuracy: 0.8993 - val_loss: 0.4117 - val_accuracy: 0.9059 - lr: 5.0000e-04\n",
      "Epoch 7/10\n",
      "1875/1875 [==============================] - 21s 11ms/step - loss: 0.4535 - accuracy: 0.8967 - val_loss: 0.4566 - val_accuracy: 0.8990 - lr: 5.0000e-04\n",
      "Epoch 8/10\n",
      "1875/1875 [==============================] - 21s 11ms/step - loss: 0.4647 - accuracy: 0.8957 - val_loss: 0.4108 - val_accuracy: 0.9111 - lr: 5.0000e-04\n",
      "Epoch 9/10\n",
      "1875/1875 [==============================] - 20s 11ms/step - loss: 0.4796 - accuracy: 0.8956 - val_loss: 0.4673 - val_accuracy: 0.8987 - lr: 5.0000e-04\n",
      "Epoch 10/10\n",
      "1875/1875 [==============================] - 21s 11ms/step - loss: 0.4959 - accuracy: 0.8941 - val_loss: 0.4629 - val_accuracy: 0.9032 - lr: 5.0000e-04\n"
     ]
    },
    {
     "data": {
      "text/plain": "<keras.src.callbacks.History at 0x2f88291e0>"
     },
     "execution_count": 59,
     "metadata": {},
     "output_type": "execute_result"
    }
   ],
   "source": [
    "# Train model\n",
    "learning_rate_reduction = tf.keras.callbacks.ReduceLROnPlateau(monitor='val_accuracy', patience=3, verbose=1, factor=0.5, min_lr=0.00001)\n",
    "model.fit(X_train, y_train, validation_data=(X_test, y_test), epochs=10, callbacks=[tensorboard_callback, learning_rate_reduction])"
   ],
   "metadata": {
    "collapsed": false,
    "ExecuteTime": {
     "end_time": "2023-09-20T20:13:35.847124Z",
     "start_time": "2023-09-20T20:10:02.995254Z"
    }
   },
   "id": "c1836bc643483c16"
  },
  {
   "cell_type": "code",
   "execution_count": 61,
   "outputs": [
    {
     "data": {
      "text/plain": "<Figure size 1000x500 with 1 Axes>",
      "image/png": "[encoded data removed]"
     },
     "metadata": {},
     "output_type": "display_data"
    }
   ],
   "source": [
    "fig, ax = plt.subplots(figsize=(10, 5))\n",
    "ax.plot(model.history.history['loss'], label='loss')\n",
    "ax.plot(model.history.history['val_loss'], label='val_loss')\n",
    "ax.legend()\n",
    "ax.set_xlabel('Epoch')\n",
    "ax.set_ylabel('Loss')\n",
    "ax.set_title('Loss per iteration')\n",
    "plt.show()"
   ],
   "metadata": {
    "collapsed": false,
    "ExecuteTime": {
     "end_time": "2023-09-20T20:13:57.885830Z",
     "start_time": "2023-09-20T20:13:57.731884Z"
    }
   },
   "id": "be2b67820df26874"
  },
  {
   "cell_type": "code",
   "execution_count": 60,
   "outputs": [],
   "source": [],
   "metadata": {
    "collapsed": false,
    "ExecuteTime": {
     "end_time": "2023-09-20T20:13:38.005165Z",
     "start_time": "2023-09-20T20:13:38.002074Z"
    }
   },
   "id": "8f13c522656b20c8"
  }
 ],
 "metadata": {
  "kernelspec": {
   "display_name": "Python 3",
   "language": "python",
   "name": "python3"
  },
  "language_info": {
   "codemirror_mode": {
    "name": "ipython",
    "version": 2
   },
   "file_extension": ".py",
   "mimetype": "text/x-python",
   "name": "python",
   "nbconvert_exporter": "python",
   "pygments_lexer": "ipython2",
   "version": "2.7.6"
  }
 },
 "nbformat": 4,
 "nbformat_minor": 5
}
