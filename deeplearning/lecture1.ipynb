{
 "cells": [
  {
   "cell_type": "markdown",
   "source": [
    "# Deep Learning\n",
    "Date: September 20, 2023"
   ],
   "metadata": {
    "collapsed": false
   },
   "id": "9b97e340a68c0c3d"
  },
  {
   "cell_type": "code",
   "execution_count": 1,
   "id": "initial_id",
   "metadata": {
    "collapsed": true,
    "ExecuteTime": {
     "end_time": "2023-09-27T11:45:00.624106Z",
     "start_time": "2023-09-27T11:45:00.213810Z"
    }
   },
   "outputs": [],
   "source": [
    "import numpy as np\n",
    "import matplotlib.pyplot as plt\n",
    "plt.style.use('default')\n",
    "plt.rc('text', usetex=True)\n",
    "plt.rc('font', family='serif')\n",
    "plt.rc('font', size=18)\n",
    "plt.rc('axes', titlesize=18)\n",
    "plt.rc('axes', labelsize=18)\n",
    "plt.rc('xtick', labelsize=18)\n",
    "plt.rc('ytick', labelsize=18)\n",
    "plt.rc('legend', fontsize=18)\n",
    "plt.rc('lines', markersize=10)"
   ]
  },
  {
   "cell_type": "code",
   "execution_count": 2,
   "outputs": [],
   "source": [
    "import tensorflow as tf\n",
    "from tensorflow import keras\n",
    "from tensorflow.keras import Sequential\n",
    "from tensorflow.keras.layers import Dense, Flatten, Conv2D, MaxPooling2D\n",
    "from tensorflow.keras.utils import to_categorical\n",
    "from tensorflow.keras.datasets import mnist\n",
    "%load_ext tensorboard"
   ],
   "metadata": {
    "collapsed": false,
    "ExecuteTime": {
     "end_time": "2023-09-27T11:45:06.686761Z",
     "start_time": "2023-09-27T11:45:00.625725Z"
    }
   },
   "id": "88e713eaa783a645"
  },
  {
   "cell_type": "code",
   "execution_count": 3,
   "outputs": [],
   "source": [
    "# Load data\n",
    "(X_train, y_train), (X_test, y_test) = mnist.load_data()"
   ],
   "metadata": {
    "collapsed": false,
    "ExecuteTime": {
     "end_time": "2023-09-27T11:45:06.864975Z",
     "start_time": "2023-09-27T11:45:06.688195Z"
    }
   },
   "id": "58ae08ac6b251193"
  },
  {
   "cell_type": "code",
   "execution_count": 4,
   "outputs": [],
   "source": [
    "# Preprocess data\n",
    "X_train = X_train / 255.0\n",
    "X_test = X_test / 255.0"
   ],
   "metadata": {
    "collapsed": false,
    "ExecuteTime": {
     "end_time": "2023-09-27T11:45:06.959771Z",
     "start_time": "2023-09-27T11:45:06.865552Z"
    }
   },
   "id": "a138711605782792"
  },
  {
   "cell_type": "code",
   "execution_count": 5,
   "outputs": [],
   "source": [
    "# Reshape data to fit model\n",
    "X_train = X_train.reshape(60000, 28, 28, 1)\n",
    "X_test = X_test.reshape(10000, 28, 28, 1)"
   ],
   "metadata": {
    "collapsed": false,
    "ExecuteTime": {
     "end_time": "2023-09-27T11:45:06.973397Z",
     "start_time": "2023-09-27T11:45:06.961060Z"
    }
   },
   "id": "73b64a10c8b6f4"
  },
  {
   "cell_type": "code",
   "execution_count": 6,
   "outputs": [],
   "source": [
    "# One-hot encode target column\n",
    "y_train = to_categorical(y_train)\n",
    "y_test = to_categorical(y_test)"
   ],
   "metadata": {
    "collapsed": false,
    "ExecuteTime": {
     "end_time": "2023-09-27T11:45:06.973654Z",
     "start_time": "2023-09-27T11:45:06.963598Z"
    }
   },
   "id": "65c9648f24252f8d"
  },
  {
   "cell_type": "code",
   "execution_count": 7,
   "outputs": [],
   "source": [
    "def create_model():\n",
    "    return tf.keras.models.Sequential([\n",
    "        tf.keras.layers.Flatten(input_shape=(28, 28), name='layers_flatten'),\n",
    "        tf.keras.layers.Dense(512, activation='relu', name='layers_dense'),\n",
    "        tf.keras.layers.Dropout(0.2, name='layers_dropout'),\n",
    "        tf.keras.layers.Dense(10, activation='softmax', name='layers_dense_2')\n",
    "    ])"
   ],
   "metadata": {
    "collapsed": false,
    "ExecuteTime": {
     "end_time": "2023-09-27T11:45:06.973719Z",
     "start_time": "2023-09-27T11:45:06.968063Z"
    }
   },
   "id": "121c13bcd478063d"
  },
  {
   "cell_type": "code",
   "execution_count": 8,
   "outputs": [
    {
     "name": "stdout",
     "output_type": "stream",
     "text": [
      "Model: \"sequential\"\n",
      "_________________________________________________________________\n",
      " Layer (type)                Output Shape              Param #   \n",
      "=================================================================\n",
      " layers_flatten (Flatten)    (None, 784)               0         \n",
      "                                                                 \n",
      " layers_dense (Dense)        (None, 512)               401920    \n",
      "                                                                 \n",
      " layers_dropout (Dropout)    (None, 512)               0         \n",
      "                                                                 \n",
      " layers_dense_2 (Dense)      (None, 10)                5130      \n",
      "                                                                 \n",
      "=================================================================\n",
      "Total params: 407050 (1.55 MB)\n",
      "Trainable params: 407050 (1.55 MB)\n",
      "Non-trainable params: 0 (0.00 Byte)\n",
      "_________________________________________________________________\n"
     ]
    },
    {
     "name": "stderr",
     "output_type": "stream",
     "text": [
      "2023-09-27 13:45:06.980940: I metal_plugin/src/device/metal_device.cc:1154] Metal device set to: Apple M1 Pro\n",
      "2023-09-27 13:45:06.980962: I metal_plugin/src/device/metal_device.cc:296] systemMemory: 16.00 GB\n",
      "2023-09-27 13:45:06.980968: I metal_plugin/src/device/metal_device.cc:313] maxCacheSize: 5.33 GB\n",
      "2023-09-27 13:45:06.981511: I tensorflow/core/common_runtime/pluggable_device/pluggable_device_factory.cc:303] Could not identify NUMA node of platform GPU ID 0, defaulting to 0. Your kernel may not have been built with NUMA support.\n",
      "2023-09-27 13:45:06.981682: I tensorflow/core/common_runtime/pluggable_device/pluggable_device_factory.cc:269] Created TensorFlow device (/job:localhost/replica:0/task:0/device:GPU:0 with 0 MB memory) -> physical PluggableDevice (device: 0, name: METAL, pci bus id: <undefined>)\n"
     ]
    }
   ],
   "source": [
    "# Build model\n",
    "model = create_model()\n",
    "model.summary()"
   ],
   "metadata": {
    "collapsed": false,
    "ExecuteTime": {
     "end_time": "2023-09-27T11:45:07.208846Z",
     "start_time": "2023-09-27T11:45:06.971302Z"
    }
   },
   "id": "e056d48db5f88355"
  },
  {
   "cell_type": "code",
   "execution_count": 9,
   "outputs": [],
   "source": [
    "# Compile model\n",
    "logdir = 'logs'\n",
    "tensorboard_callback = tf.keras.callbacks.TensorBoard(logdir, histogram_freq=1)\n",
    "model.compile(optimizer='adam', loss='categorical_crossentropy', metrics=['accuracy'])"
   ],
   "metadata": {
    "collapsed": false,
    "ExecuteTime": {
     "end_time": "2023-09-27T11:45:07.240408Z",
     "start_time": "2023-09-27T11:45:07.210775Z"
    }
   },
   "id": "7ea4500ca2477f82"
  },
  {
   "cell_type": "code",
   "execution_count": 10,
   "outputs": [
    {
     "name": "stdout",
     "output_type": "stream",
     "text": [
      "Epoch 1/10\n",
      "   1/1875 [..............................] - ETA: 10:04 - loss: 2.3988 - accuracy: 0.0625"
     ]
    },
    {
     "name": "stderr",
     "output_type": "stream",
     "text": [
      "2023-09-27 13:45:07.683168: I tensorflow/core/grappler/optimizers/custom_graph_optimizer_registry.cc:114] Plugin optimizer for device_type GPU is enabled.\n"
     ]
    },
    {
     "name": "stdout",
     "output_type": "stream",
     "text": [
      "1872/1875 [============================>.] - ETA: 0s - loss: 0.4068 - accuracy: 0.8864"
     ]
    },
    {
     "name": "stderr",
     "output_type": "stream",
     "text": [
      "2023-09-27 13:45:31.001632: I tensorflow/core/grappler/optimizers/custom_graph_optimizer_registry.cc:114] Plugin optimizer for device_type GPU is enabled.\n"
     ]
    },
    {
     "name": "stdout",
     "output_type": "stream",
     "text": [
      "1875/1875 [==============================] - 26s 14ms/step - loss: 0.4065 - accuracy: 0.8865 - val_loss: 0.3533 - val_accuracy: 0.9067 - lr: 0.0010\n",
      "Epoch 2/10\n",
      "1875/1875 [==============================] - 20s 11ms/step - loss: 0.4340 - accuracy: 0.8902 - val_loss: 0.4236 - val_accuracy: 0.9002 - lr: 0.0010\n",
      "Epoch 3/10\n",
      "1875/1875 [==============================] - 19s 10ms/step - loss: 0.5191 - accuracy: 0.8840 - val_loss: 0.4687 - val_accuracy: 0.9015 - lr: 0.0010\n",
      "Epoch 4/10\n",
      "1875/1875 [==============================] - ETA: 0s - loss: 0.5924 - accuracy: 0.8822\n",
      "Epoch 4: ReduceLROnPlateau reducing learning rate to 0.0005000000237487257.\n",
      "1875/1875 [==============================] - 19s 10ms/step - loss: 0.5924 - accuracy: 0.8822 - val_loss: 0.6391 - val_accuracy: 0.8634 - lr: 0.0010\n",
      "Epoch 5/10\n",
      "1875/1875 [==============================] - 20s 10ms/step - loss: 0.4687 - accuracy: 0.8993 - val_loss: 0.3716 - val_accuracy: 0.9226 - lr: 5.0000e-04\n",
      "Epoch 6/10\n",
      "1875/1875 [==============================] - 20s 11ms/step - loss: 0.4426 - accuracy: 0.9000 - val_loss: 0.4187 - val_accuracy: 0.9047 - lr: 5.0000e-04\n",
      "Epoch 7/10\n",
      "1875/1875 [==============================] - 19s 10ms/step - loss: 0.4581 - accuracy: 0.8975 - val_loss: 0.4236 - val_accuracy: 0.9123 - lr: 5.0000e-04\n",
      "Epoch 8/10\n",
      "1871/1875 [============================>.] - ETA: 0s - loss: 0.4674 - accuracy: 0.8971\n",
      "Epoch 8: ReduceLROnPlateau reducing learning rate to 0.0002500000118743628.\n",
      "1875/1875 [==============================] - 19s 10ms/step - loss: 0.4680 - accuracy: 0.8970 - val_loss: 0.4197 - val_accuracy: 0.9112 - lr: 5.0000e-04\n",
      "Epoch 9/10\n",
      "1875/1875 [==============================] - 19s 10ms/step - loss: 0.3810 - accuracy: 0.9103 - val_loss: 0.3663 - val_accuracy: 0.9166 - lr: 2.5000e-04\n",
      "Epoch 10/10\n",
      "1875/1875 [==============================] - 19s 10ms/step - loss: 0.3834 - accuracy: 0.9088 - val_loss: 0.3919 - val_accuracy: 0.9115 - lr: 2.5000e-04\n"
     ]
    },
    {
     "data": {
      "text/plain": "<keras.src.callbacks.History at 0x29415d420>"
     },
     "execution_count": 10,
     "metadata": {},
     "output_type": "execute_result"
    }
   ],
   "source": [
    "# Train model\n",
    "learning_rate_reduction = tf.keras.callbacks.ReduceLROnPlateau(monitor='val_accuracy', patience=3, verbose=1, factor=0.5, min_lr=0.00001)\n",
    "model.fit(X_train, y_train, validation_data=(X_test, y_test), epochs=10, callbacks=[tensorboard_callback, learning_rate_reduction])"
   ],
   "metadata": {
    "collapsed": false,
    "ExecuteTime": {
     "end_time": "2023-09-27T11:48:29.355502Z",
     "start_time": "2023-09-27T11:45:07.223176Z"
    }
   },
   "id": "c1836bc643483c16"
  },
  {
   "cell_type": "code",
   "execution_count": 15,
   "outputs": [
    {
     "data": {
      "text/plain": "<Figure size 700x500 with 1 Axes>",
      "image/png": "[encoded data removed]"
     },
     "metadata": {},
     "output_type": "display_data"
    }
   ],
   "source": [
    "fig, ax = plt.subplots(figsize=(7, 5))\n",
    "ax.plot(model.history.history['loss'], label='loss', marker='o')\n",
    "ax.plot(model.history.history['val_loss'], label='val_loss', marker='o')\n",
    "ax.legend()\n",
    "ax.set_xlabel('Epoch')\n",
    "ax.set_ylabel('Loss')\n",
    "ax.set_title('Loss per iteration')\n",
    "ax.grid(True)\n",
    "plt.show()"
   ],
   "metadata": {
    "collapsed": false,
    "ExecuteTime": {
     "end_time": "2023-09-27T11:49:25.303339Z",
     "start_time": "2023-09-27T11:49:25.190325Z"
    }
   },
   "id": "be2b67820df26874"
  },
  {
   "cell_type": "code",
   "execution_count": 11,
   "outputs": [],
   "source": [],
   "metadata": {
    "collapsed": false,
    "ExecuteTime": {
     "end_time": "2023-09-27T11:48:30.586281Z",
     "start_time": "2023-09-27T11:48:30.582518Z"
    }
   },
   "id": "8f13c522656b20c8"
  }
 ],
 "metadata": {
  "kernelspec": {
   "display_name": "Python 3",
   "language": "python",
   "name": "python3"
  },
  "language_info": {
   "codemirror_mode": {
    "name": "ipython",
    "version": 2
   },
   "file_extension": ".py",
   "mimetype": "text/x-python",
   "name": "python",
   "nbconvert_exporter": "python",
   "pygments_lexer": "ipython2",
   "version": "2.7.6"
  }
 },
 "nbformat": 4,
 "nbformat_minor": 5
}
