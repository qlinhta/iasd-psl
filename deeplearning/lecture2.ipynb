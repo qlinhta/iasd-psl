{
 "cells": [
  {
   "cell_type": "code",
   "execution_count": 262,
   "id": "initial_id",
   "metadata": {
    "collapsed": true,
    "ExecuteTime": {
     "end_time": "2023-09-27T13:00:04.163530Z",
     "start_time": "2023-09-27T13:00:04.155369Z"
    }
   },
   "outputs": [],
   "source": [
    "import numpy as np\n",
    "import matplotlib.pyplot as plt\n",
    "plt.style.use('default')\n",
    "plt.rc('text', usetex=True)\n",
    "plt.rc('font', family='sans-serif')\n",
    "plt.rc('font', size=18)\n",
    "plt.rc('axes', titlesize=18)\n",
    "plt.rc('axes', labelsize=18)\n",
    "plt.rc('xtick', labelsize=18)\n",
    "plt.rc('ytick', labelsize=18)\n",
    "plt.rc('legend', fontsize=18)\n",
    "plt.rc('lines', markersize=10)"
   ]
  },
  {
   "cell_type": "code",
   "execution_count": 263,
   "outputs": [],
   "source": [
    "import tensorflow as tf\n",
    "from tensorflow import keras\n",
    "from tensorflow.keras import Sequential\n",
    "from tensorflow.keras.layers import Dense, Flatten, Conv2D, MaxPooling2D, Dropout\n",
    "from tensorflow.keras.utils import to_categorical\n",
    "from tensorflow.keras.datasets import reuters"
   ],
   "metadata": {
    "collapsed": false,
    "ExecuteTime": {
     "end_time": "2023-09-27T13:00:04.163725Z",
     "start_time": "2023-09-27T13:00:04.160406Z"
    }
   },
   "id": "3bcff2120a18de65"
  },
  {
   "cell_type": "code",
   "execution_count": 264,
   "outputs": [],
   "source": [
    "(x_train, y_train), (x_test, y_test) = reuters.load_data(num_words=10000)"
   ],
   "metadata": {
    "collapsed": false,
    "ExecuteTime": {
     "end_time": "2023-09-27T13:00:04.465736Z",
     "start_time": "2023-09-27T13:00:04.163755Z"
    }
   },
   "id": "c6230f3676ad1de"
  },
  {
   "cell_type": "code",
   "execution_count": 265,
   "outputs": [],
   "source": [
    "def vectorize_sequences(sequences, dimension=10000):\n",
    "    results = np.zeros((len(sequences), dimension))\n",
    "    for i, sequence in enumerate(sequences):\n",
    "        results[i][sequence] = 1\n",
    "    return results\n",
    "\n",
    "x_train = vectorize_sequences(x_train)\n",
    "x_test = vectorize_sequences(x_test)"
   ],
   "metadata": {
    "collapsed": false,
    "ExecuteTime": {
     "end_time": "2023-09-27T13:00:04.695051Z",
     "start_time": "2023-09-27T13:00:04.475438Z"
    }
   },
   "id": "fae478bd0caa0039"
  },
  {
   "cell_type": "code",
   "execution_count": 266,
   "outputs": [],
   "source": [
    "# Encode labels\n",
    "y_train = to_categorical(y_train)\n",
    "y_test = to_categorical(y_test)"
   ],
   "metadata": {
    "collapsed": false,
    "ExecuteTime": {
     "end_time": "2023-09-27T13:00:04.696880Z",
     "start_time": "2023-09-27T13:00:04.685195Z"
    }
   },
   "id": "91a4bb1c29df1604"
  },
  {
   "cell_type": "code",
   "execution_count": 267,
   "outputs": [
    {
     "name": "stdout",
     "output_type": "stream",
     "text": [
      "Model: \"sequential_32\"\n",
      "_________________________________________________________________\n",
      " Layer (type)                Output Shape              Param #   \n",
      "=================================================================\n",
      " dense_98 (Dense)            (None, 128)               1280128   \n",
      "                                                                 \n",
      " dropout_52 (Dropout)        (None, 128)               0         \n",
      "                                                                 \n",
      " dense_99 (Dense)            (None, 128)               16512     \n",
      "                                                                 \n",
      " dropout_53 (Dropout)        (None, 128)               0         \n",
      "                                                                 \n",
      " dense_100 (Dense)           (None, 46)                5934      \n",
      "                                                                 \n",
      "=================================================================\n",
      "Total params: 1302574 (4.97 MB)\n",
      "Trainable params: 1302574 (4.97 MB)\n",
      "Non-trainable params: 0 (0.00 Byte)\n",
      "_________________________________________________________________\n"
     ]
    }
   ],
   "source": [
    "model = Sequential()\n",
    "kernel_regularizer = keras.regularizers.l2(0.01)\n",
    "model.add(Dense(128, activation='relu', input_shape=(10000,), kernel_regularizer=kernel_regularizer))\n",
    "model.add(Dropout(0.5))\n",
    "model.add(Dense(128, activation='relu', kernel_regularizer=kernel_regularizer))\n",
    "model.add(Dropout(0.5))\n",
    "model.add(Dense(46, activation='softmax', kernel_regularizer=kernel_regularizer))\n",
    "model.compile(optimizer='rmsprop', loss='categorical_crossentropy', metrics=['accuracy'])\n",
    "model.summary()"
   ],
   "metadata": {
    "collapsed": false,
    "ExecuteTime": {
     "end_time": "2023-09-27T13:00:04.788712Z",
     "start_time": "2023-09-27T13:00:04.703616Z"
    }
   },
   "id": "1ddf24b53b077696"
  },
  {
   "cell_type": "code",
   "execution_count": 268,
   "outputs": [
    {
     "name": "stdout",
     "output_type": "stream",
     "text": [
      "Epoch 1/20\n"
     ]
    },
    {
     "name": "stderr",
     "output_type": "stream",
     "text": [
      "2023-09-27 15:00:05.702445: I tensorflow/core/grappler/optimizers/custom_graph_optimizer_registry.cc:114] Plugin optimizer for device_type GPU is enabled.\n"
     ]
    },
    {
     "name": "stdout",
     "output_type": "stream",
     "text": [
      "15/15 [==============================] - 2s 74ms/step - loss: 5.2559 - accuracy: 0.4665 - val_loss: 3.6424 - val_accuracy: 0.5454\n",
      "Epoch 2/20\n",
      " 1/15 [=>............................] - ETA: 0s - loss: 3.8154 - accuracy: 0.5625"
     ]
    },
    {
     "name": "stderr",
     "output_type": "stream",
     "text": [
      "2023-09-27 15:00:06.974774: I tensorflow/core/grappler/optimizers/custom_graph_optimizer_registry.cc:114] Plugin optimizer for device_type GPU is enabled.\n"
     ]
    },
    {
     "name": "stdout",
     "output_type": "stream",
     "text": [
      "15/15 [==============================] - 1s 40ms/step - loss: 3.4157 - accuracy: 0.6039 - val_loss: 3.0008 - val_accuracy: 0.6444\n",
      "Epoch 3/20\n",
      "15/15 [==============================] - 1s 35ms/step - loss: 2.9477 - accuracy: 0.6486 - val_loss: 2.6833 - val_accuracy: 0.6772\n",
      "Epoch 4/20\n",
      "15/15 [==============================] - 1s 36ms/step - loss: 2.6693 - accuracy: 0.6692 - val_loss: 2.4945 - val_accuracy: 0.6722\n",
      "Epoch 5/20\n",
      "15/15 [==============================] - 1s 35ms/step - loss: 2.4536 - accuracy: 0.6799 - val_loss: 2.3016 - val_accuracy: 0.7073\n",
      "Epoch 6/20\n",
      "15/15 [==============================] - 0s 33ms/step - loss: 2.2870 - accuracy: 0.6902 - val_loss: 2.1933 - val_accuracy: 0.7001\n",
      "Epoch 7/20\n",
      "15/15 [==============================] - 0s 33ms/step - loss: 2.1648 - accuracy: 0.6920 - val_loss: 2.0763 - val_accuracy: 0.7145\n",
      "Epoch 8/20\n",
      "15/15 [==============================] - 0s 33ms/step - loss: 2.0570 - accuracy: 0.6997 - val_loss: 2.0175 - val_accuracy: 0.6917\n",
      "Epoch 9/20\n",
      "15/15 [==============================] - 0s 34ms/step - loss: 1.9893 - accuracy: 0.7008 - val_loss: 1.9302 - val_accuracy: 0.6995\n",
      "Epoch 10/20\n",
      "15/15 [==============================] - 1s 35ms/step - loss: 1.9160 - accuracy: 0.7049 - val_loss: 1.8780 - val_accuracy: 0.7123\n",
      "Epoch 11/20\n",
      "15/15 [==============================] - 1s 34ms/step - loss: 1.8620 - accuracy: 0.7118 - val_loss: 1.8653 - val_accuracy: 0.6978\n",
      "Epoch 12/20\n",
      "15/15 [==============================] - 0s 32ms/step - loss: 1.8387 - accuracy: 0.7066 - val_loss: 1.8332 - val_accuracy: 0.6978\n",
      "Epoch 13/20\n",
      "15/15 [==============================] - 1s 34ms/step - loss: 1.8048 - accuracy: 0.7086 - val_loss: 1.8025 - val_accuracy: 0.7067\n",
      "Epoch 14/20\n",
      "15/15 [==============================] - 0s 33ms/step - loss: 1.7731 - accuracy: 0.7154 - val_loss: 1.7838 - val_accuracy: 0.7106\n",
      "Epoch 15/20\n",
      "15/15 [==============================] - 0s 33ms/step - loss: 1.7637 - accuracy: 0.7097 - val_loss: 1.7788 - val_accuracy: 0.7240\n",
      "Epoch 16/20\n",
      "15/15 [==============================] - 0s 33ms/step - loss: 1.7482 - accuracy: 0.7162 - val_loss: 1.7806 - val_accuracy: 0.7223\n",
      "Epoch 17/20\n",
      "15/15 [==============================] - 1s 37ms/step - loss: 1.7327 - accuracy: 0.7158 - val_loss: 1.8169 - val_accuracy: 0.6722\n",
      "Epoch 18/20\n",
      "15/15 [==============================] - 1s 34ms/step - loss: 1.7269 - accuracy: 0.7098 - val_loss: 1.7350 - val_accuracy: 0.7023\n",
      "Epoch 19/20\n",
      "15/15 [==============================] - 0s 33ms/step - loss: 1.7163 - accuracy: 0.7115 - val_loss: 1.7262 - val_accuracy: 0.7145\n",
      "Epoch 20/20\n",
      "15/15 [==============================] - 0s 34ms/step - loss: 1.7087 - accuracy: 0.7104 - val_loss: 1.7459 - val_accuracy: 0.7173\n"
     ]
    }
   ],
   "source": [
    "history = model.fit(x_train, y_train, epochs=20, batch_size=512, validation_split=0.2)"
   ],
   "metadata": {
    "collapsed": false,
    "ExecuteTime": {
     "end_time": "2023-09-27T13:00:16.883924Z",
     "start_time": "2023-09-27T13:00:04.773706Z"
    }
   },
   "id": "47fd5b1332b4e50a"
  },
  {
   "cell_type": "code",
   "execution_count": 269,
   "outputs": [
    {
     "data": {
      "text/plain": "<Figure size 1200x400 with 2 Axes>",
      "image/png": "[encoded data removed]"
     },
     "metadata": {},
     "output_type": "display_data"
    }
   ],
   "source": [
    "# Plot training and validation loss\n",
    "fig, axes = plt.subplots(1, 2, figsize=(12, 4))\n",
    "marker_train = 'o'\n",
    "marker_val = 'v'\n",
    "marker_size = 5\n",
    "color_train = 'C0'\n",
    "color_val = 'C1'\n",
    "axes[0].plot(history.history['loss'], label='Training loss', marker=marker_train, color=color_train, markersize=marker_size)\n",
    "axes[0].plot(history.history['val_loss'], label='Validation loss', marker=marker_val, color=color_val, markersize=marker_size)\n",
    "axes[0].set_xlabel('Epochs')\n",
    "axes[0].set_ylabel('Loss')\n",
    "axes[0].legend()\n",
    "axes[0].grid()\n",
    "axes[1].plot(history.history['accuracy'], label='Training accuracy', marker=marker_train, color=color_train, markersize=marker_size)\n",
    "axes[1].plot(history.history['val_accuracy'], label='Validation accuracy', marker=marker_val, color=color_val, markersize=marker_size)\n",
    "axes[1].set_xlabel('Epochs')\n",
    "axes[1].set_ylabel('Accuracy')\n",
    "axes[1].legend()\n",
    "axes[1].grid()\n",
    "axes[0].set_xticks(np.arange(0, 20, 1), minor=True)\n",
    "axes[1].set_xticks(np.arange(0, 20, 1), minor=True)\n",
    "plt.show()"
   ],
   "metadata": {
    "collapsed": false,
    "ExecuteTime": {
     "end_time": "2023-09-27T13:00:17.085122Z",
     "start_time": "2023-09-27T13:00:16.890976Z"
    }
   },
   "id": "fc1e8c796c138a69"
  },
  {
   "cell_type": "markdown",
   "source": [
    "# Boston housing dataset"
   ],
   "metadata": {
    "collapsed": false
   },
   "id": "1e71035a1bbac539"
  },
  {
   "cell_type": "code",
   "execution_count": 270,
   "outputs": [],
   "source": [
    "from tensorflow.keras.datasets import boston_housing"
   ],
   "metadata": {
    "collapsed": false,
    "ExecuteTime": {
     "end_time": "2023-09-27T13:00:34.437257Z",
     "start_time": "2023-09-27T13:00:34.426414Z"
    }
   },
   "id": "6a51db91445b81d"
  },
  {
   "cell_type": "code",
   "execution_count": 271,
   "outputs": [
    {
     "name": "stdout",
     "output_type": "stream",
     "text": [
      "Downloading data from https://storage.googleapis.com/tensorflow/tf-keras-datasets/boston_housing.npz\n",
      "57026/57026 [==============================] - 0s 0us/step\n"
     ]
    }
   ],
   "source": [
    "(x_train, y_train), (x_test, y_test) = boston_housing.load_data()"
   ],
   "metadata": {
    "collapsed": false,
    "ExecuteTime": {
     "end_time": "2023-09-27T13:00:38.195507Z",
     "start_time": "2023-09-27T13:00:38.098365Z"
    }
   },
   "id": "c9c4f2f4e73c82c5"
  },
  {
   "cell_type": "code",
   "execution_count": 275,
   "outputs": [],
   "source": [
    "# Normalize data\n",
    "def normalize_data(data):\n",
    "    mean = np.mean(data, axis=0)\n",
    "    std = np.std(data, axis=0)\n",
    "    return (data - mean) / std"
   ],
   "metadata": {
    "collapsed": false,
    "ExecuteTime": {
     "end_time": "2023-09-27T13:01:30.249576Z",
     "start_time": "2023-09-27T13:01:30.242391Z"
    }
   },
   "id": "6cfa15c34afff82a"
  },
  {
   "cell_type": "code",
   "execution_count": 273,
   "outputs": [],
   "source": [
    "x_train = normalize_data(x_train)\n",
    "x_test = normalize_data(x_test)"
   ],
   "metadata": {
    "collapsed": false,
    "ExecuteTime": {
     "end_time": "2023-09-27T13:00:59.150858Z",
     "start_time": "2023-09-27T13:00:59.127412Z"
    }
   },
   "id": "8234a9eb1dfc6f58"
  },
  {
   "cell_type": "code",
   "execution_count": 277,
   "outputs": [
    {
     "name": "stdout",
     "output_type": "stream",
     "text": [
      "Model: \"sequential_33\"\n",
      "_________________________________________________________________\n",
      " Layer (type)                Output Shape              Param #   \n",
      "=================================================================\n",
      " dense_101 (Dense)           (None, 64)                896       \n",
      "                                                                 \n",
      " dropout_54 (Dropout)        (None, 64)                0         \n",
      "                                                                 \n",
      " dense_102 (Dense)           (None, 64)                4160      \n",
      "                                                                 \n",
      " dropout_55 (Dropout)        (None, 64)                0         \n",
      "                                                                 \n",
      " dense_103 (Dense)           (None, 1)                 65        \n",
      "                                                                 \n",
      "=================================================================\n",
      "Total params: 5121 (20.00 KB)\n",
      "Trainable params: 5121 (20.00 KB)\n",
      "Non-trainable params: 0 (0.00 Byte)\n",
      "_________________________________________________________________\n"
     ]
    }
   ],
   "source": [
    "# Build model, add regularization and dropout\n",
    "kernel_regularizer = keras.regularizers.l2(0.01)\n",
    "model = Sequential()\n",
    "model.add(Dense(64, activation='relu', input_shape=(13,), kernel_regularizer=kernel_regularizer))\n",
    "model.add(Dropout(0.5))\n",
    "model.add(Dense(64, activation='relu', kernel_regularizer=kernel_regularizer))\n",
    "model.add(Dropout(0.5))\n",
    "model.add(Dense(1))\n",
    "model.compile(optimizer='rmsprop', loss='mse', metrics=['mae'])\n",
    "model.summary()"
   ],
   "metadata": {
    "collapsed": false,
    "ExecuteTime": {
     "end_time": "2023-09-27T13:02:35.195530Z",
     "start_time": "2023-09-27T13:02:34.978277Z"
    }
   },
   "id": "8b1a47398aff16cf"
  },
  {
   "cell_type": "code",
   "execution_count": null,
   "outputs": [
    {
     "name": "stdout",
     "output_type": "stream",
     "text": [
      "Epoch 1/100\n"
     ]
    },
    {
     "name": "stderr",
     "output_type": "stream",
     "text": [
      "2023-09-27 15:02:39.395068: I tensorflow/core/grappler/optimizers/custom_graph_optimizer_registry.cc:114] Plugin optimizer for device_type GPU is enabled.\n"
     ]
    },
    {
     "name": "stdout",
     "output_type": "stream",
     "text": [
      "321/323 [============================>.] - ETA: 0s - loss: 477.5401 - mae: 19.6108"
     ]
    },
    {
     "name": "stderr",
     "output_type": "stream",
     "text": [
      "2023-09-27 15:02:46.568788: I tensorflow/core/grappler/optimizers/custom_graph_optimizer_registry.cc:114] Plugin optimizer for device_type GPU is enabled.\n"
     ]
    },
    {
     "name": "stdout",
     "output_type": "stream",
     "text": [
      "323/323 [==============================] - 8s 20ms/step - loss: 475.3804 - mae: 19.5595 - val_loss: 525.9044 - val_mae: 21.2669\n",
      "Epoch 2/100\n",
      "323/323 [==============================] - 6s 19ms/step - loss: 225.7908 - mae: 11.9334 - val_loss: 397.0209 - val_mae: 18.0266\n",
      "Epoch 3/100\n",
      "323/323 [==============================] - 6s 19ms/step - loss: 124.3722 - mae: 7.7233 - val_loss: 350.9791 - val_mae: 16.5024\n",
      "Epoch 4/100\n",
      "323/323 [==============================] - 6s 19ms/step - loss: 89.0924 - mae: 6.7073 - val_loss: 320.4615 - val_mae: 16.0588\n",
      "Epoch 5/100\n",
      "323/323 [==============================] - 6s 18ms/step - loss: 71.3743 - mae: 5.8760 - val_loss: 321.9247 - val_mae: 15.9449\n",
      "Epoch 6/100\n",
      "323/323 [==============================] - 6s 19ms/step - loss: 70.5502 - mae: 5.4450 - val_loss: 303.6433 - val_mae: 15.6454\n",
      "Epoch 7/100\n",
      "323/323 [==============================] - 6s 19ms/step - loss: 66.9493 - mae: 5.3515 - val_loss: 295.2263 - val_mae: 15.2854\n",
      "Epoch 8/100\n",
      "323/323 [==============================] - 6s 18ms/step - loss: 67.1207 - mae: 5.3892 - val_loss: 284.5329 - val_mae: 15.0355\n",
      "Epoch 9/100\n",
      "323/323 [==============================] - 6s 19ms/step - loss: 59.6287 - mae: 5.0466 - val_loss: 274.7892 - val_mae: 14.7657\n",
      "Epoch 10/100\n",
      "323/323 [==============================] - 6s 19ms/step - loss: 68.3214 - mae: 5.1709 - val_loss: 280.5904 - val_mae: 14.8702\n",
      "Epoch 11/100\n",
      "323/323 [==============================] - 6s 19ms/step - loss: 60.3621 - mae: 5.0782 - val_loss: 291.8345 - val_mae: 14.9168\n",
      "Epoch 12/100\n",
      "323/323 [==============================] - 7s 21ms/step - loss: 66.1388 - mae: 5.3768 - val_loss: 271.5702 - val_mae: 14.5822\n",
      "Epoch 13/100\n",
      "323/323 [==============================] - 6s 19ms/step - loss: 62.9846 - mae: 5.2017 - val_loss: 267.5829 - val_mae: 14.3978\n",
      "Epoch 14/100\n",
      "323/323 [==============================] - 6s 19ms/step - loss: 68.9356 - mae: 5.2146 - val_loss: 297.0948 - val_mae: 14.6971\n",
      "Epoch 15/100\n",
      "323/323 [==============================] - 6s 20ms/step - loss: 73.4150 - mae: 5.4763 - val_loss: 265.8311 - val_mae: 14.2718\n",
      "Epoch 16/100\n",
      "323/323 [==============================] - 6s 20ms/step - loss: 71.2283 - mae: 5.3386 - val_loss: 292.4928 - val_mae: 14.5681\n",
      "Epoch 17/100\n",
      "323/323 [==============================] - 6s 20ms/step - loss: 74.1664 - mae: 5.4773 - val_loss: 279.8390 - val_mae: 14.5062\n",
      "Epoch 18/100\n",
      "323/323 [==============================] - 6s 20ms/step - loss: 76.0873 - mae: 5.6244 - val_loss: 289.5516 - val_mae: 14.6555\n",
      "Epoch 19/100\n",
      "323/323 [==============================] - 6s 19ms/step - loss: 78.9800 - mae: 5.7028 - val_loss: 271.7230 - val_mae: 14.3624\n",
      "Epoch 20/100\n",
      "323/323 [==============================] - 6s 19ms/step - loss: 71.6163 - mae: 5.4563 - val_loss: 246.5594 - val_mae: 14.0107\n",
      "Epoch 21/100\n",
      "323/323 [==============================] - 6s 19ms/step - loss: 77.8272 - mae: 5.8027 - val_loss: 274.2433 - val_mae: 14.2100\n",
      "Epoch 22/100\n",
      "323/323 [==============================] - 6s 18ms/step - loss: 84.2289 - mae: 5.3368 - val_loss: 275.0926 - val_mae: 14.1735\n",
      "Epoch 23/100\n",
      "323/323 [==============================] - 6s 18ms/step - loss: 73.5851 - mae: 5.5719 - val_loss: 291.1490 - val_mae: 14.4221\n",
      "Epoch 24/100\n",
      "323/323 [==============================] - 6s 18ms/step - loss: 81.8914 - mae: 5.6968 - val_loss: 259.8416 - val_mae: 14.1883\n",
      "Epoch 25/100\n",
      "323/323 [==============================] - 6s 19ms/step - loss: 91.5130 - mae: 5.9895 - val_loss: 255.4045 - val_mae: 13.9783\n",
      "Epoch 26/100\n",
      "323/323 [==============================] - 6s 19ms/step - loss: 86.9530 - mae: 6.2074 - val_loss: 243.2259 - val_mae: 13.9305\n",
      "Epoch 27/100\n",
      "323/323 [==============================] - 7s 20ms/step - loss: 97.3854 - mae: 6.0856 - val_loss: 261.3060 - val_mae: 14.1638\n",
      "Epoch 28/100\n",
      "323/323 [==============================] - 6s 19ms/step - loss: 83.3003 - mae: 5.8053 - val_loss: 253.7576 - val_mae: 13.8679\n",
      "Epoch 29/100\n",
      "323/323 [==============================] - 6s 19ms/step - loss: 84.6824 - mae: 5.8993 - val_loss: 261.9214 - val_mae: 13.9552\n",
      "Epoch 30/100\n",
      "323/323 [==============================] - 6s 19ms/step - loss: 90.5407 - mae: 6.0793 - val_loss: 252.2727 - val_mae: 13.8736\n",
      "Epoch 31/100\n",
      "323/323 [==============================] - 6s 20ms/step - loss: 94.6549 - mae: 5.8186 - val_loss: 259.7104 - val_mae: 13.9717\n",
      "Epoch 32/100\n",
      "323/323 [==============================] - 6s 19ms/step - loss: 95.5188 - mae: 6.0852 - val_loss: 237.8321 - val_mae: 13.6767\n",
      "Epoch 33/100\n",
      "323/323 [==============================] - 6s 18ms/step - loss: 97.0416 - mae: 6.2943 - val_loss: 289.8181 - val_mae: 14.1498\n",
      "Epoch 34/100\n",
      "323/323 [==============================] - 6s 18ms/step - loss: 93.4547 - mae: 6.0214 - val_loss: 270.8422 - val_mae: 13.7584\n",
      "Epoch 35/100\n",
      "323/323 [==============================] - 6s 19ms/step - loss: 97.8423 - mae: 6.0067 - val_loss: 256.0849 - val_mae: 13.8047\n",
      "Epoch 36/100\n",
      "323/323 [==============================] - 6s 19ms/step - loss: 82.7995 - mae: 5.7816 - val_loss: 241.4653 - val_mae: 13.6033\n",
      "Epoch 37/100\n",
      "323/323 [==============================] - 6s 18ms/step - loss: 100.5335 - mae: 5.9575 - val_loss: 256.2340 - val_mae: 13.6928\n",
      "Epoch 38/100\n",
      "323/323 [==============================] - 6s 20ms/step - loss: 94.9927 - mae: 6.0360 - val_loss: 240.6567 - val_mae: 13.4531\n",
      "Epoch 39/100\n",
      "323/323 [==============================] - 6s 19ms/step - loss: 106.5514 - mae: 6.2031 - val_loss: 294.6144 - val_mae: 14.0892\n",
      "Epoch 40/100\n",
      "323/323 [==============================] - 6s 19ms/step - loss: 104.5668 - mae: 6.4205 - val_loss: 251.1432 - val_mae: 13.5293\n",
      "Epoch 41/100\n",
      "323/323 [==============================] - 6s 20ms/step - loss: 118.5471 - mae: 6.5055 - val_loss: 244.4423 - val_mae: 13.6124\n",
      "Epoch 42/100\n",
      "323/323 [==============================] - 6s 18ms/step - loss: 98.6787 - mae: 6.0723 - val_loss: 253.3488 - val_mae: 13.9507\n",
      "Epoch 43/100\n",
      "323/323 [==============================] - 6s 18ms/step - loss: 112.0354 - mae: 6.3335 - val_loss: 237.9828 - val_mae: 13.3752\n",
      "Epoch 44/100\n",
      "323/323 [==============================] - 6s 18ms/step - loss: 103.3017 - mae: 6.1514 - val_loss: 252.6038 - val_mae: 13.4460\n",
      "Epoch 45/100\n",
      "323/323 [==============================] - 6s 18ms/step - loss: 106.2224 - mae: 6.4402 - val_loss: 272.8430 - val_mae: 13.6704\n",
      "Epoch 46/100\n",
      "323/323 [==============================] - 6s 19ms/step - loss: 102.8538 - mae: 6.3513 - val_loss: 294.1727 - val_mae: 14.0397\n",
      "Epoch 47/100\n",
      "323/323 [==============================] - 6s 19ms/step - loss: 115.5951 - mae: 6.8287 - val_loss: 239.3325 - val_mae: 13.5012\n",
      "Epoch 48/100\n",
      "323/323 [==============================] - 6s 18ms/step - loss: 114.0701 - mae: 6.4635 - val_loss: 370.5296 - val_mae: 15.5770\n",
      "Epoch 49/100\n",
      "323/323 [==============================] - 6s 19ms/step - loss: 103.0856 - mae: 6.4320 - val_loss: 236.1123 - val_mae: 13.4664\n",
      "Epoch 50/100\n",
      "323/323 [==============================] - 6s 19ms/step - loss: 106.7850 - mae: 6.7825 - val_loss: 247.2372 - val_mae: 13.3255\n",
      "Epoch 51/100\n",
      "323/323 [==============================] - 6s 19ms/step - loss: 127.3222 - mae: 7.2232 - val_loss: 248.9491 - val_mae: 13.3108\n",
      "Epoch 52/100\n",
      "323/323 [==============================] - 6s 19ms/step - loss: 111.7246 - mae: 6.1195 - val_loss: 239.0371 - val_mae: 13.5434\n",
      "Epoch 53/100\n",
      "323/323 [==============================] - 6s 18ms/step - loss: 140.6483 - mae: 7.3550 - val_loss: 289.4748 - val_mae: 13.9014\n",
      "Epoch 54/100\n",
      "323/323 [==============================] - 6s 18ms/step - loss: 124.3046 - mae: 7.3804 - val_loss: 231.0277 - val_mae: 13.1421\n",
      "Epoch 55/100\n",
      "323/323 [==============================] - 6s 18ms/step - loss: 120.2649 - mae: 6.7790 - val_loss: 243.3565 - val_mae: 13.5099\n",
      "Epoch 56/100\n",
      "320/323 [============================>.] - ETA: 0s - loss: 122.4948 - mae: 6.6318"
     ]
    }
   ],
   "source": [
    "history = model.fit(x_train, y_train, epochs=100, batch_size=1, validation_split=0.2)"
   ],
   "metadata": {
    "collapsed": false,
    "is_executing": true,
    "ExecuteTime": {
     "start_time": "2023-09-27T13:02:39.150518Z"
    }
   },
   "id": "fe763b5aab397fc6"
  },
  {
   "cell_type": "code",
   "execution_count": null,
   "outputs": [],
   "source": [
    "# Plot training and validation loss\n",
    "fig, axes = plt.subplots(1, 2, figsize=(12, 4))\n",
    "marker_train = 'o'\n",
    "marker_val = 'v'\n",
    "marker_size = 5\n",
    "color_train = 'C0'\n",
    "color_val = 'C1'\n",
    "axes[0].plot(history.history['loss'], label='Training loss', marker=marker_train, color=color_train, markersize=marker_size)\n",
    "axes[0].plot(history.history['val_loss'], label='Validation loss', marker=marker_val, color=color_val, markersize=marker_size)\n",
    "axes[0].set_xlabel('Epochs')\n",
    "axes[0].set_ylabel('Loss')\n",
    "axes[0].legend()\n",
    "axes[0].grid()\n",
    "axes[1].plot(history.history['mae'], label='Training MAE', marker=marker_train, color=color_train, markersize=marker_size)\n",
    "axes[1].plot(history.history['val_mae'], label='Validation MAE', marker=marker_val, color=color_val, markersize=marker_size)\n",
    "axes[1].set_xlabel('Epochs')\n",
    "axes[1].set_ylabel('MAE')\n",
    "axes[1].legend()\n",
    "axes[1].grid()\n",
    "axes[0].set_xticks(np.arange(0, 100, 5), minor=True)\n",
    "axes[1].set_xticks(np.arange(0, 100, 5), minor=True)\n",
    "plt.show()"
   ],
   "metadata": {
    "collapsed": false
   },
   "id": "3761f536cfbd4ff8"
  }
 ],
 "metadata": {
  "kernelspec": {
   "display_name": "Python 3",
   "language": "python",
   "name": "python3"
  },
  "language_info": {
   "codemirror_mode": {
    "name": "ipython",
    "version": 2
   },
   "file_extension": ".py",
   "mimetype": "text/x-python",
   "name": "python",
   "nbconvert_exporter": "python",
   "pygments_lexer": "ipython2",
   "version": "2.7.6"
  }
 },
 "nbformat": 4,
 "nbformat_minor": 5
}
