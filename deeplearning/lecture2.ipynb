{
 "cells": [
  {
   "cell_type": "code",
   "execution_count": 295,
   "id": "initial_id",
   "metadata": {
    "collapsed": true,
    "ExecuteTime": {
     "end_time": "2023-09-27T13:39:42.916410Z",
     "start_time": "2023-09-27T13:39:42.820556Z"
    }
   },
   "outputs": [],
   "source": [
    "import numpy as np\n",
    "import matplotlib.pyplot as plt\n",
    "plt.style.use('default')\n",
    "plt.rc('text', usetex=True)\n",
    "plt.rc('font', family='sans-serif')\n",
    "plt.rc('font', size=18)\n",
    "plt.rc('axes', titlesize=18)\n",
    "plt.rc('axes', labelsize=18)\n",
    "plt.rc('xtick', labelsize=18)\n",
    "plt.rc('ytick', labelsize=18)\n",
    "plt.rc('legend', fontsize=18)\n",
    "plt.rc('lines', markersize=10)"
   ]
  },
  {
   "cell_type": "code",
   "execution_count": 296,
   "outputs": [],
   "source": [
    "import tensorflow as tf\n",
    "from tensorflow import keras\n",
    "from tensorflow.keras import Sequential\n",
    "from tensorflow.keras.layers import Dense, Flatten, Conv2D, MaxPooling2D, Dropout\n",
    "from tensorflow.keras.utils import to_categorical\n",
    "from tensorflow.keras.datasets import reuters"
   ],
   "metadata": {
    "collapsed": false,
    "ExecuteTime": {
     "end_time": "2023-09-27T13:39:42.921155Z",
     "start_time": "2023-09-27T13:39:42.827673Z"
    }
   },
   "id": "3bcff2120a18de65"
  },
  {
   "cell_type": "code",
   "execution_count": 297,
   "outputs": [],
   "source": [
    "(x_train, y_train), (x_test, y_test) = reuters.load_data(num_words=10000)"
   ],
   "metadata": {
    "collapsed": false,
    "ExecuteTime": {
     "end_time": "2023-09-27T13:39:43.165402Z",
     "start_time": "2023-09-27T13:39:42.832861Z"
    }
   },
   "id": "c6230f3676ad1de"
  },
  {
   "cell_type": "code",
   "execution_count": 298,
   "outputs": [],
   "source": [
    "def vectorize_sequences(sequences, dimension=10000):\n",
    "    results = np.zeros((len(sequences), dimension))\n",
    "    for i, sequence in enumerate(sequences):\n",
    "        results[i][sequence] = 1\n",
    "    return results\n",
    "\n",
    "x_train = vectorize_sequences(x_train)\n",
    "x_test = vectorize_sequences(x_test)"
   ],
   "metadata": {
    "collapsed": false,
    "ExecuteTime": {
     "end_time": "2023-09-27T13:39:43.413262Z",
     "start_time": "2023-09-27T13:39:43.156178Z"
    }
   },
   "id": "fae478bd0caa0039"
  },
  {
   "cell_type": "code",
   "execution_count": 299,
   "outputs": [],
   "source": [
    "# Encode labels\n",
    "y_train = to_categorical(y_train)\n",
    "y_test = to_categorical(y_test)"
   ],
   "metadata": {
    "collapsed": false,
    "ExecuteTime": {
     "end_time": "2023-09-27T13:39:43.413629Z",
     "start_time": "2023-09-27T13:39:43.400580Z"
    }
   },
   "id": "91a4bb1c29df1604"
  },
  {
   "cell_type": "code",
   "execution_count": 300,
   "outputs": [
    {
     "name": "stdout",
     "output_type": "stream",
     "text": [
      "Model: \"sequential_36\"\n",
      "_________________________________________________________________\n",
      " Layer (type)                Output Shape              Param #   \n",
      "=================================================================\n",
      " dense_110 (Dense)           (None, 128)               1280128   \n",
      "                                                                 \n",
      " dropout_60 (Dropout)        (None, 128)               0         \n",
      "                                                                 \n",
      " dense_111 (Dense)           (None, 128)               16512     \n",
      "                                                                 \n",
      " dropout_61 (Dropout)        (None, 128)               0         \n",
      "                                                                 \n",
      " dense_112 (Dense)           (None, 46)                5934      \n",
      "                                                                 \n",
      "=================================================================\n",
      "Total params: 1302574 (4.97 MB)\n",
      "Trainable params: 1302574 (4.97 MB)\n",
      "Non-trainable params: 0 (0.00 Byte)\n",
      "_________________________________________________________________\n"
     ]
    }
   ],
   "source": [
    "model = Sequential()\n",
    "kernel_regularizer = keras.regularizers.l2(0.01)\n",
    "model.add(Dense(128, activation='relu', input_shape=(10000,), kernel_regularizer=kernel_regularizer))\n",
    "model.add(Dropout(0.5))\n",
    "model.add(Dense(128, activation='relu', kernel_regularizer=kernel_regularizer))\n",
    "model.add(Dropout(0.5))\n",
    "model.add(Dense(46, activation='softmax', kernel_regularizer=kernel_regularizer))\n",
    "model.compile(optimizer='rmsprop', loss='categorical_crossentropy', metrics=['accuracy'])\n",
    "model.summary()"
   ],
   "metadata": {
    "collapsed": false,
    "ExecuteTime": {
     "end_time": "2023-09-27T13:39:43.498379Z",
     "start_time": "2023-09-27T13:39:43.419258Z"
    }
   },
   "id": "1ddf24b53b077696"
  },
  {
   "cell_type": "code",
   "execution_count": 301,
   "outputs": [
    {
     "name": "stdout",
     "output_type": "stream",
     "text": [
      "Epoch 1/20\n"
     ]
    },
    {
     "name": "stderr",
     "output_type": "stream",
     "text": [
      "2023-09-27 15:39:44.631331: I tensorflow/core/grappler/optimizers/custom_graph_optimizer_registry.cc:114] Plugin optimizer for device_type GPU is enabled.\n"
     ]
    },
    {
     "name": "stdout",
     "output_type": "stream",
     "text": [
      "15/15 [==============================] - ETA: 0s - loss: 5.2322 - accuracy: 0.4791"
     ]
    },
    {
     "name": "stderr",
     "output_type": "stream",
     "text": [
      "2023-09-27 15:39:46.174832: I tensorflow/core/grappler/optimizers/custom_graph_optimizer_registry.cc:114] Plugin optimizer for device_type GPU is enabled.\n"
     ]
    },
    {
     "name": "stdout",
     "output_type": "stream",
     "text": [
      "15/15 [==============================] - 2s 87ms/step - loss: 5.2322 - accuracy: 0.4791 - val_loss: 3.5788 - val_accuracy: 0.5582\n",
      "Epoch 2/20\n",
      "15/15 [==============================] - 1s 35ms/step - loss: 3.4058 - accuracy: 0.5947 - val_loss: 3.0696 - val_accuracy: 0.6194\n",
      "Epoch 3/20\n",
      "15/15 [==============================] - 1s 41ms/step - loss: 2.9376 - accuracy: 0.6342 - val_loss: 2.6747 - val_accuracy: 0.6717\n",
      "Epoch 4/20\n",
      "15/15 [==============================] - 1s 36ms/step - loss: 2.6588 - accuracy: 0.6628 - val_loss: 2.4851 - val_accuracy: 0.6489\n",
      "Epoch 5/20\n",
      "15/15 [==============================] - 1s 37ms/step - loss: 2.4288 - accuracy: 0.6711 - val_loss: 2.2929 - val_accuracy: 0.6811\n",
      "Epoch 6/20\n",
      "15/15 [==============================] - 1s 35ms/step - loss: 2.2787 - accuracy: 0.6830 - val_loss: 2.1518 - val_accuracy: 0.7040\n",
      "Epoch 7/20\n",
      "15/15 [==============================] - 1s 38ms/step - loss: 2.1372 - accuracy: 0.6939 - val_loss: 2.0817 - val_accuracy: 0.6906\n",
      "Epoch 8/20\n",
      "15/15 [==============================] - 0s 33ms/step - loss: 2.0365 - accuracy: 0.6984 - val_loss: 1.9815 - val_accuracy: 0.7112\n",
      "Epoch 9/20\n",
      "15/15 [==============================] - 1s 37ms/step - loss: 1.9694 - accuracy: 0.6966 - val_loss: 1.9205 - val_accuracy: 0.7112\n",
      "Epoch 10/20\n",
      "15/15 [==============================] - 0s 33ms/step - loss: 1.9050 - accuracy: 0.7076 - val_loss: 1.8753 - val_accuracy: 0.6984\n",
      "Epoch 11/20\n",
      "15/15 [==============================] - 1s 35ms/step - loss: 1.8644 - accuracy: 0.7061 - val_loss: 1.8354 - val_accuracy: 0.7062\n",
      "Epoch 12/20\n",
      "15/15 [==============================] - 0s 33ms/step - loss: 1.8183 - accuracy: 0.7079 - val_loss: 1.8203 - val_accuracy: 0.7023\n",
      "Epoch 13/20\n",
      "15/15 [==============================] - 1s 35ms/step - loss: 1.7990 - accuracy: 0.7063 - val_loss: 1.8688 - val_accuracy: 0.6605\n",
      "Epoch 14/20\n",
      "15/15 [==============================] - 0s 33ms/step - loss: 1.7763 - accuracy: 0.7076 - val_loss: 1.7950 - val_accuracy: 0.6945\n",
      "Epoch 15/20\n",
      "15/15 [==============================] - 0s 34ms/step - loss: 1.7523 - accuracy: 0.7094 - val_loss: 1.7682 - val_accuracy: 0.7078\n",
      "Epoch 16/20\n",
      "15/15 [==============================] - 1s 36ms/step - loss: 1.7361 - accuracy: 0.7123 - val_loss: 1.7728 - val_accuracy: 0.7084\n",
      "Epoch 17/20\n",
      "15/15 [==============================] - 1s 34ms/step - loss: 1.7338 - accuracy: 0.7098 - val_loss: 1.7336 - val_accuracy: 0.7084\n",
      "Epoch 18/20\n",
      "15/15 [==============================] - 1s 36ms/step - loss: 1.7251 - accuracy: 0.7119 - val_loss: 1.7308 - val_accuracy: 0.7073\n",
      "Epoch 19/20\n",
      "15/15 [==============================] - 1s 35ms/step - loss: 1.7025 - accuracy: 0.7116 - val_loss: 1.7676 - val_accuracy: 0.6978\n",
      "Epoch 20/20\n",
      "15/15 [==============================] - 1s 37ms/step - loss: 1.7115 - accuracy: 0.7101 - val_loss: 1.7343 - val_accuracy: 0.6950\n"
     ]
    }
   ],
   "source": [
    "history = model.fit(x_train, y_train, epochs=20, batch_size=512, validation_split=0.2)"
   ],
   "metadata": {
    "collapsed": false,
    "ExecuteTime": {
     "end_time": "2023-09-27T13:39:56.422226Z",
     "start_time": "2023-09-27T13:39:43.500838Z"
    }
   },
   "id": "47fd5b1332b4e50a"
  },
  {
   "cell_type": "code",
   "execution_count": null,
   "outputs": [],
   "source": [
    "# Plot training and validation loss\n",
    "fig, axes = plt.subplots(1, 2, figsize=(12, 4))\n",
    "marker_train = 'o'\n",
    "marker_val = 'v'\n",
    "marker_size = 5\n",
    "color_train = 'C0'\n",
    "color_val = 'C1'\n",
    "axes[0].plot(history.history['loss'], label='Training loss', marker=marker_train, color=color_train, markersize=marker_size)\n",
    "axes[0].plot(history.history['val_loss'], label='Validation loss', marker=marker_val, color=color_val, markersize=marker_size)\n",
    "axes[0].set_xlabel('Epochs')\n",
    "axes[0].set_ylabel('Loss')\n",
    "axes[0].legend()\n",
    "axes[0].grid()\n",
    "axes[1].plot(history.history['accuracy'], label='Training accuracy', marker=marker_train, color=color_train, markersize=marker_size)\n",
    "axes[1].plot(history.history['val_accuracy'], label='Validation accuracy', marker=marker_val, color=color_val, markersize=marker_size)\n",
    "axes[1].set_xlabel('Epochs')\n",
    "axes[1].set_ylabel('Accuracy')\n",
    "axes[1].legend()\n",
    "axes[1].grid()\n",
    "axes[0].set_xticks(np.arange(0, 20, 1), minor=True)\n",
    "axes[1].set_xticks(np.arange(0, 20, 1), minor=True)\n",
    "plt.show()"
   ],
   "metadata": {
    "collapsed": false
   },
   "id": "ff61777cb3e8c44b"
  },
  {
   "cell_type": "markdown",
   "source": [
    "# Boston housing dataset"
   ],
   "metadata": {
    "collapsed": false
   },
   "id": "dd49b50aca817b29"
  },
  {
   "cell_type": "code",
   "execution_count": 320,
   "outputs": [],
   "source": [
    "from tensorflow.keras.datasets import boston_housing"
   ],
   "metadata": {
    "collapsed": false,
    "ExecuteTime": {
     "end_time": "2023-09-27T13:42:14.808927Z",
     "start_time": "2023-09-27T13:42:14.799786Z"
    }
   },
   "id": "23272b031d16276a"
  },
  {
   "cell_type": "code",
   "execution_count": 321,
   "outputs": [],
   "source": [
    "# Normalize data\n",
    "def normalize_data(data):\n",
    "    mean = np.mean(data, axis=0)\n",
    "    std = np.std(data, axis=0)\n",
    "    return (data - mean) / std"
   ],
   "metadata": {
    "collapsed": false,
    "ExecuteTime": {
     "end_time": "2023-09-27T13:42:16.299775Z",
     "start_time": "2023-09-27T13:42:16.294095Z"
    }
   },
   "id": "6cfa15c34afff82a"
  },
  {
   "cell_type": "code",
   "execution_count": 316,
   "outputs": [],
   "source": [
    "x_train = normalize_data(x_train)\n",
    "x_test = normalize_data(x_test)"
   ],
   "metadata": {
    "collapsed": false,
    "ExecuteTime": {
     "end_time": "2023-09-27T13:41:27.498457Z",
     "start_time": "2023-09-27T13:41:27.492438Z"
    }
   },
   "id": "8234a9eb1dfc6f58"
  },
  {
   "cell_type": "code",
   "execution_count": 317,
   "outputs": [
    {
     "name": "stdout",
     "output_type": "stream",
     "text": [
      "Model: \"sequential_38\"\n",
      "_________________________________________________________________\n",
      " Layer (type)                Output Shape              Param #   \n",
      "=================================================================\n",
      " dense_116 (Dense)           (None, 64)                896       \n",
      "                                                                 \n",
      " dropout_64 (Dropout)        (None, 64)                0         \n",
      "                                                                 \n",
      " dense_117 (Dense)           (None, 64)                4160      \n",
      "                                                                 \n",
      " dropout_65 (Dropout)        (None, 64)                0         \n",
      "                                                                 \n",
      " dense_118 (Dense)           (None, 1)                 65        \n",
      "                                                                 \n",
      "=================================================================\n",
      "Total params: 5121 (20.00 KB)\n",
      "Trainable params: 5121 (20.00 KB)\n",
      "Non-trainable params: 0 (0.00 Byte)\n",
      "_________________________________________________________________\n"
     ]
    }
   ],
   "source": [
    "# Build model, add regularization and dropout\n",
    "kernel_regularizer = keras.regularizers.l2(0.01)\n",
    "model = Sequential()\n",
    "model.add(Dense(64, activation='relu', input_shape=(13,), kernel_regularizer=kernel_regularizer))\n",
    "model.add(Dropout(0.5))\n",
    "model.add(Dense(64, activation='relu', kernel_regularizer=kernel_regularizer))\n",
    "model.add(Dropout(0.5))\n",
    "model.add(Dense(1))\n",
    "model.compile(optimizer='rmsprop', loss='mse', metrics=['mae'])\n",
    "model.summary()"
   ],
   "metadata": {
    "collapsed": false,
    "ExecuteTime": {
     "end_time": "2023-09-27T13:41:27.898924Z",
     "start_time": "2023-09-27T13:41:27.819795Z"
    }
   },
   "id": "8b1a47398aff16cf"
  },
  {
   "cell_type": "code",
   "execution_count": 318,
   "outputs": [
    {
     "name": "stdout",
     "output_type": "stream",
     "text": [
      "Epoch 1/50\n"
     ]
    },
    {
     "name": "stderr",
     "output_type": "stream",
     "text": [
      "2023-09-27 15:41:29.019808: I tensorflow/core/grappler/optimizers/custom_graph_optimizer_registry.cc:114] Plugin optimizer for device_type GPU is enabled.\n"
     ]
    },
    {
     "name": "stdout",
     "output_type": "stream",
     "text": [
      "11/11 [==============================] - 2s 64ms/step - loss: 576.4018 - mae: 21.9833 - val_loss: 630.2354 - val_mae: 23.3629\n",
      "Epoch 2/50\n",
      " 1/11 [=>............................] - ETA: 0s - loss: 487.7349 - mae: 19.9937"
     ]
    },
    {
     "name": "stderr",
     "output_type": "stream",
     "text": [
      "2023-09-27 15:41:30.011940: I tensorflow/core/grappler/optimizers/custom_graph_optimizer_registry.cc:114] Plugin optimizer for device_type GPU is enabled.\n"
     ]
    },
    {
     "name": "stdout",
     "output_type": "stream",
     "text": [
      "11/11 [==============================] - 0s 23ms/step - loss: 556.4633 - mae: 21.7299 - val_loss: 611.6832 - val_mae: 23.0996\n",
      "Epoch 3/50\n",
      "11/11 [==============================] - 0s 27ms/step - loss: 537.0232 - mae: 21.5004 - val_loss: 592.4884 - val_mae: 22.8337\n",
      "Epoch 4/50\n",
      "11/11 [==============================] - 0s 26ms/step - loss: 510.1842 - mae: 21.0556 - val_loss: 572.4478 - val_mae: 22.5246\n",
      "Epoch 5/50\n",
      "11/11 [==============================] - 0s 29ms/step - loss: 498.8007 - mae: 20.9934 - val_loss: 551.4153 - val_mae: 22.1807\n",
      "Epoch 6/50\n",
      "11/11 [==============================] - 0s 24ms/step - loss: 489.6023 - mae: 20.7989 - val_loss: 531.7641 - val_mae: 21.8056\n",
      "Epoch 7/50\n",
      "11/11 [==============================] - 0s 23ms/step - loss: 463.3408 - mae: 20.2449 - val_loss: 512.6179 - val_mae: 21.4146\n",
      "Epoch 8/50\n",
      "11/11 [==============================] - 0s 23ms/step - loss: 449.4128 - mae: 19.9366 - val_loss: 492.2637 - val_mae: 20.9314\n",
      "Epoch 9/50\n",
      "11/11 [==============================] - 0s 24ms/step - loss: 438.8460 - mae: 19.6086 - val_loss: 475.8592 - val_mae: 20.5043\n",
      "Epoch 10/50\n",
      "11/11 [==============================] - 0s 23ms/step - loss: 424.1853 - mae: 19.0966 - val_loss: 460.1882 - val_mae: 20.0715\n",
      "Epoch 11/50\n",
      "11/11 [==============================] - 0s 22ms/step - loss: 406.8900 - mae: 18.6061 - val_loss: 444.7151 - val_mae: 19.5498\n",
      "Epoch 12/50\n",
      "11/11 [==============================] - 0s 22ms/step - loss: 423.9395 - mae: 18.7125 - val_loss: 432.8696 - val_mae: 19.0353\n",
      "Epoch 13/50\n",
      "11/11 [==============================] - 0s 23ms/step - loss: 380.6692 - mae: 17.5027 - val_loss: 415.5982 - val_mae: 18.6107\n",
      "Epoch 14/50\n",
      "11/11 [==============================] - 0s 34ms/step - loss: 388.0563 - mae: 17.3964 - val_loss: 397.5508 - val_mae: 18.0974\n",
      "Epoch 15/50\n",
      "11/11 [==============================] - 0s 38ms/step - loss: 388.8699 - mae: 17.4463 - val_loss: 380.5831 - val_mae: 17.6038\n",
      "Epoch 16/50\n",
      "11/11 [==============================] - 0s 33ms/step - loss: 377.9105 - mae: 16.9703 - val_loss: 359.4152 - val_mae: 17.1338\n",
      "Epoch 17/50\n",
      "11/11 [==============================] - 0s 28ms/step - loss: 348.1077 - mae: 15.8700 - val_loss: 340.8782 - val_mae: 16.5513\n",
      "Epoch 18/50\n",
      "11/11 [==============================] - 0s 22ms/step - loss: 337.7747 - mae: 15.4648 - val_loss: 320.7844 - val_mae: 16.0063\n",
      "Epoch 19/50\n",
      "11/11 [==============================] - 0s 24ms/step - loss: 310.9437 - mae: 14.7873 - val_loss: 308.0301 - val_mae: 15.3350\n",
      "Epoch 20/50\n",
      "11/11 [==============================] - 0s 23ms/step - loss: 311.7032 - mae: 14.3470 - val_loss: 289.2001 - val_mae: 14.7313\n",
      "Epoch 21/50\n",
      "11/11 [==============================] - 0s 24ms/step - loss: 317.5440 - mae: 14.3379 - val_loss: 268.4542 - val_mae: 14.0851\n",
      "Epoch 22/50\n",
      "11/11 [==============================] - 0s 22ms/step - loss: 272.3978 - mae: 12.9621 - val_loss: 253.7208 - val_mae: 13.5283\n",
      "Epoch 23/50\n",
      "11/11 [==============================] - 0s 23ms/step - loss: 248.8697 - mae: 12.5263 - val_loss: 235.6673 - val_mae: 12.9147\n",
      "Epoch 24/50\n",
      "11/11 [==============================] - 0s 24ms/step - loss: 267.2859 - mae: 12.5121 - val_loss: 225.7825 - val_mae: 12.2870\n",
      "Epoch 25/50\n",
      "11/11 [==============================] - 0s 23ms/step - loss: 264.6718 - mae: 12.7038 - val_loss: 204.1118 - val_mae: 11.7434\n",
      "Epoch 26/50\n",
      "11/11 [==============================] - 0s 23ms/step - loss: 263.5110 - mae: 12.2923 - val_loss: 186.9950 - val_mae: 11.2394\n",
      "Epoch 27/50\n",
      "11/11 [==============================] - 0s 22ms/step - loss: 238.4210 - mae: 11.7639 - val_loss: 208.7773 - val_mae: 10.7913\n",
      "Epoch 28/50\n",
      "11/11 [==============================] - 0s 24ms/step - loss: 244.6874 - mae: 11.5359 - val_loss: 160.2610 - val_mae: 10.1625\n",
      "Epoch 29/50\n",
      "11/11 [==============================] - 0s 23ms/step - loss: 235.2958 - mae: 11.5953 - val_loss: 151.7994 - val_mae: 9.5326\n",
      "Epoch 30/50\n",
      "11/11 [==============================] - 0s 22ms/step - loss: 189.2283 - mae: 10.4343 - val_loss: 162.8873 - val_mae: 9.3079\n",
      "Epoch 31/50\n",
      "11/11 [==============================] - 0s 23ms/step - loss: 174.0755 - mae: 9.9429 - val_loss: 134.4691 - val_mae: 8.6721\n",
      "Epoch 32/50\n",
      "11/11 [==============================] - 0s 23ms/step - loss: 171.2612 - mae: 9.7467 - val_loss: 121.4797 - val_mae: 8.2274\n",
      "Epoch 33/50\n",
      "11/11 [==============================] - 0s 22ms/step - loss: 178.1018 - mae: 9.9096 - val_loss: 143.6745 - val_mae: 8.4023\n",
      "Epoch 34/50\n",
      "11/11 [==============================] - 0s 23ms/step - loss: 152.8182 - mae: 8.8736 - val_loss: 134.1477 - val_mae: 8.0594\n",
      "Epoch 35/50\n",
      "11/11 [==============================] - 0s 24ms/step - loss: 158.5088 - mae: 9.0358 - val_loss: 153.4676 - val_mae: 8.7114\n",
      "Epoch 36/50\n",
      "11/11 [==============================] - 0s 23ms/step - loss: 130.5007 - mae: 8.4981 - val_loss: 110.6570 - val_mae: 7.2372\n",
      "Epoch 37/50\n",
      "11/11 [==============================] - 0s 22ms/step - loss: 115.2426 - mae: 7.9911 - val_loss: 125.2363 - val_mae: 7.6895\n",
      "Epoch 38/50\n",
      "11/11 [==============================] - 0s 24ms/step - loss: 135.6548 - mae: 8.4542 - val_loss: 104.1193 - val_mae: 6.8882\n",
      "Epoch 39/50\n",
      "11/11 [==============================] - 0s 22ms/step - loss: 111.6066 - mae: 7.7194 - val_loss: 113.5113 - val_mae: 7.2792\n",
      "Epoch 40/50\n",
      "11/11 [==============================] - 0s 25ms/step - loss: 102.0380 - mae: 7.5823 - val_loss: 146.4538 - val_mae: 8.5588\n",
      "Epoch 41/50\n",
      "11/11 [==============================] - 0s 23ms/step - loss: 118.9632 - mae: 7.7625 - val_loss: 117.9253 - val_mae: 7.5445\n",
      "Epoch 42/50\n",
      "11/11 [==============================] - 0s 22ms/step - loss: 97.4576 - mae: 7.1619 - val_loss: 152.7014 - val_mae: 8.8037\n",
      "Epoch 43/50\n",
      "11/11 [==============================] - 0s 23ms/step - loss: 97.9252 - mae: 7.2223 - val_loss: 99.4074 - val_mae: 6.8256\n",
      "Epoch 44/50\n",
      "11/11 [==============================] - 0s 24ms/step - loss: 99.4599 - mae: 7.3046 - val_loss: 125.2547 - val_mae: 7.9319\n",
      "Epoch 45/50\n",
      "11/11 [==============================] - 0s 24ms/step - loss: 88.4614 - mae: 6.8255 - val_loss: 86.1067 - val_mae: 6.3193\n",
      "Epoch 46/50\n",
      "11/11 [==============================] - 0s 23ms/step - loss: 94.9819 - mae: 7.2284 - val_loss: 143.3669 - val_mae: 8.6325\n",
      "Epoch 47/50\n",
      "11/11 [==============================] - 0s 25ms/step - loss: 80.4071 - mae: 6.5497 - val_loss: 87.2128 - val_mae: 6.4437\n",
      "Epoch 48/50\n",
      "11/11 [==============================] - 0s 22ms/step - loss: 78.0088 - mae: 6.2998 - val_loss: 161.7008 - val_mae: 9.2855\n",
      "Epoch 49/50\n",
      "11/11 [==============================] - 0s 22ms/step - loss: 75.0747 - mae: 6.2947 - val_loss: 171.0087 - val_mae: 9.6383\n",
      "Epoch 50/50\n",
      "11/11 [==============================] - 0s 25ms/step - loss: 73.5911 - mae: 6.1055 - val_loss: 181.9329 - val_mae: 10.0444\n"
     ]
    }
   ],
   "source": [
    "history = model.fit(x_train, y_train, epochs=50, batch_size=32, validation_split=0.2)"
   ],
   "metadata": {
    "collapsed": false,
    "ExecuteTime": {
     "end_time": "2023-09-27T13:41:43.063290Z",
     "start_time": "2023-09-27T13:41:28.015016Z"
    }
   },
   "id": "fe763b5aab397fc6"
  },
  {
   "cell_type": "code",
   "execution_count": 323,
   "outputs": [
    {
     "data": {
      "text/plain": "<Figure size 1200x400 with 2 Axes>",
      "image/png": "[encoded data removed]"
     },
     "metadata": {},
     "output_type": "display_data"
    }
   ],
   "source": [
    "# Plot training and validation loss\n",
    "fig, axes = plt.subplots(1, 2, figsize=(12, 4))\n",
    "marker_train = 'o'\n",
    "marker_val = 'v'\n",
    "marker_size = 5\n",
    "color_train = 'C0'\n",
    "color_val = 'C1'\n",
    "axes[0].plot(history.history['loss'], label='Training loss', marker=marker_train, color=color_train, markersize=marker_size)\n",
    "axes[0].plot(history.history['val_loss'], label='Validation loss', marker=marker_val, color=color_val, markersize=marker_size)\n",
    "axes[0].set_xlabel('Epochs')\n",
    "axes[0].set_ylabel('Loss')\n",
    "axes[0].legend()\n",
    "axes[0].grid()\n",
    "axes[1].plot(history.history['mae'], label='Training MAE', marker=marker_train, color=color_train, markersize=marker_size)\n",
    "axes[1].plot(history.history['val_mae'], label='Validation MAE', marker=marker_val, color=color_val, markersize=marker_size)\n",
    "axes[1].set_xlabel('Epochs')\n",
    "axes[1].set_ylabel('MAE')\n",
    "axes[1].legend()\n",
    "axes[1].grid()\n",
    "axes[0].set_xticks(np.arange(0, 50, 5), minor=True)\n",
    "axes[1].set_xticks(np.arange(0, 50, 5), minor=True)\n",
    "plt.show()"
   ],
   "metadata": {
    "collapsed": false,
    "ExecuteTime": {
     "end_time": "2023-09-27T13:43:13.347265Z",
     "start_time": "2023-09-27T13:43:13.179299Z"
    }
   },
   "id": "3761f536cfbd4ff8"
  },
  {
   "cell_type": "code",
   "execution_count": null,
   "outputs": [],
   "source": [],
   "metadata": {
    "collapsed": false
   },
   "id": "87990d88a8b121d9"
  }
 ],
 "metadata": {
  "kernelspec": {
   "display_name": "Python 3",
   "language": "python",
   "name": "python3"
  },
  "language_info": {
   "codemirror_mode": {
    "name": "ipython",
    "version": 2
   },
   "file_extension": ".py",
   "mimetype": "text/x-python",
   "name": "python",
   "nbconvert_exporter": "python",
   "pygments_lexer": "ipython2",
   "version": "2.7.6"
  }
 },
 "nbformat": 4,
 "nbformat_minor": 5
}
