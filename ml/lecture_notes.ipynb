{
 "cells": [
  {
   "cell_type": "markdown",
   "source": [
    "# Foundations of Machine Learning\n",
    "\n",
    "### Date: September 21, 2023"
   ],
   "metadata": {
    "collapsed": false
   },
   "id": "e585ca81ba4a4495"
  },
  {
   "cell_type": "code",
   "execution_count": 1,
   "outputs": [],
   "source": [
    "import numpy as np\n",
    "import matplotlib.pyplot as plt\n",
    "\n",
    "plt.style.use('default')\n",
    "plt.rc('text', usetex=True)\n",
    "plt.rc('font', family='sans-serif')\n",
    "plt.rc('font', size=18)\n",
    "plt.rc('axes', titlesize=18)\n",
    "plt.rc('axes', labelsize=18)\n",
    "plt.rc('xtick', labelsize=18)\n",
    "plt.rc('ytick', labelsize=18)\n",
    "plt.rc('legend', fontsize=18)\n",
    "plt.rc('lines', markersize=10)"
   ],
   "metadata": {
    "collapsed": false,
    "ExecuteTime": {
     "end_time": "2023-12-14T09:03:56.308282Z",
     "start_time": "2023-12-14T09:03:55.705422Z"
    }
   },
   "id": "initial_id"
  },
  {
   "cell_type": "markdown",
   "source": [
    "## Chapter 1: Probabilistic formulations of prediction problems (Supervised Learning)\n",
    "(a.k.a Statistical Learning Theory)\n",
    "\n",
    "#### Goal: \n",
    "Predict the outcome of $y$ from set $\\mathcal{Y}$ of possible outcomes on the basis of some observations $x$ from a feater space $\\mathcal{X}$.\n",
    "\n",
    "Example:\n",
    "$x$ : word in a document, image\n",
    "$y$ : category of document, image\n",
    "\n",
    "Denote $h(x)$ as the prediction of $y$ from $x$.\n",
    "\n",
    "Using dataset of $n$ pairs:\n",
    "$$\n",
    "(x_1, y_1), (x_2, y_2), \\dots, (x_n, y_n)\n",
    "$$\n",
    "to choose a function (hypothesis) $h : \\mathcal{X} \\rightarrow \\mathcal{Y}$ so that, for a new pair $(x, y)$, $h(x)$ is a good predictor of $y$.\n",
    "To define the notion of a GOOD prediction, we can define a loss function $l : \\mathcal{Y} \\times \\mathcal{Y} \\rightarrow \\mathbb{R}$ that measures the loss of predicting $y$ when the true outcome is $y$.\n",
    "\n",
    "So $l(y, h(x))$ quantifies the cost of predicting $h(x)$ when the true outcome is $y$, then we ensure that $l(y, h(x))$ is small.\n",
    "\n",
    "##### Example:\n",
    "In the pattern classification (binary classification) we could define the loss function as:\n",
    "$$\n",
    "l(y, h(x)) = \\begin{cases}\n",
    "0 & \\text{ if } y = h(x) \\\\\n",
    "1 & \\text{ if } y \\neq h(x)\n",
    "\\end{cases}\n",
    "$$\n",
    "For regression problems, wiht $\\mathcal{Y} = \\mathbb{R}$, we could define the loss function as:\n",
    "$$\n",
    "l(y, h(x)) = (y - h(x))^2\n",
    "$$\n",
    "Also known as the quadratic loss function.\n",
    "### Probabilistic assumptions\n",
    "\n",
    "Assumes:\n",
    "- There is a probability distribution $P$ on $\\mathcal{X} \\times \\mathcal{Y}$.\n",
    "- The pair $(\\mathcal{X}, \\mathcal{Y}), \\dots (\\mathcal{X}_n, \\mathcal{Y}_n)$ are i.i.d. samples from $P$.\n",
    "\n",
    "The aime is to choose a function $h : \\mathcal{X} \\rightarrow \\mathcal{Y}$ with small risk:\n",
    "$$\n",
    "R(h) = \\mathbb{E}_{(x, y) \\sim P}[l(y, h(x))]\n",
    "$$\n",
    "where the expectation is taken with respect to the distribution $P$.\n",
    "\n",
    "$$\n",
    "\\mathbb{E}_{(x, y) \\sim P}[l(y, h(x))] = \\int_{\\mathcal{X} \\times \\mathcal{Y}} l(y, h(x)) dP(x, y) \\\\\n",
    "= \\int_{\\mathcal{X}} \\int_{\\mathcal{Y}} l(y, h(x)) dP(y|x) dP(x) \\\\\n",
    "= \\int_{\\mathcal{X}} \\int_{\\mathcal{Y}} l(y, h(x)) P(y|x) dP(x) dy \\\\\n",
    "= \\int_{\\mathcal{X}} \\mathbb{E}_{y \\sim P(y|x)}[l(y, h(x))] dP(x) \\\\\n",
    "= \\mathbb{E}_{x \\sim P(x)}[\\mathbb{E}_{y \\sim P(y|x)}[l(y, h(x))]] \\\\\n",
    "= \\mathbb{E}_{x \\sim P(x)}[R_x(h)]\n",
    "$$\n",
    "where $P(y|x)$ is the conditional probability of $y$ given $x$.\n",
    "\n",
    "For instance, in binary classification, this is the misclassification probability:\n",
    "$$\n",
    "R(h) = \\mathbb{E}_P[1_{y \\neq h(x)}] = \\int_{\\mathcal{X}} \\int_{\\mathcal{Y}} 1_{y \\neq h(x)} P(y|x) dP(x) dy\n",
    "$$\n",
    "where:\n",
    "- $1_{y \\neq h(x)}$ is the indicator function that is 1 if $y \\neq h(x)$ and 0 otherwise. \n",
    "- $\\int_{\\mathcal{X}} \\int_{\\mathcal{Y}} 1_{y \\neq h(x)} P(y|x) dP(x) dy$ is the probability of misclassification.\n",
    "#### Remarks:\n",
    "- Capital letters $X$ and $Y$ are used to denote random variables, while lower case letters $x$ and $y$ are used to denote their values.\n",
    "- $P$ models both the relative frequency of different features $\\mathcal{X}$ and the relationship between the features and the labels $\\mathcal{Y}$.\n",
    "- The assumption that the samples are i.i.d. is very strong\n",
    "- The function $x \\mapsto h_n(x : \\mathcal{X}_1, \\mathcal{Y}_1 \\dots, \\mathcal{X}_n, \\mathcal{Y}_n$ is random, since it depends on the random samples $\\mathcal{D}_n = \\{(\\mathcal{X}_1, \\mathcal{Y}_1), \\dots, (\\mathcal{X}_n, \\mathcal{Y}_n)\\}$.\n",
    "\n",
    "Thus, the risk\n",
    "$$\n",
    "h_n = \\mathbb{E}_{P}[l(Y, h_n(X)) \\mid \\mathcal{D}_n] = \\mathbb{E}[l(\\mathcal{Y}_1, h_n(\\mathcal{X}_1)) + \\cdots + l(\\mathcal{Y}_n, h_n(\\mathcal{X}_n)) \\mid \\mathcal{D}_n]\n",
    "$$\n",
    "is a random variable. We might aime for $\\mathbb{E}[R(h_n)]$ to be small or for $R(h_n)$ to be small with high probability (over training sets $\\mathcal{D}_n$).\n",
    "### Key questions\n",
    "We might choose $h_n$ from some class $\\mathcal{H}$ of functions (such as (linear) classifiers, neural networks, decision trees, etc.). Question we are interested in:\n",
    "1. Can we design an algorithm for which $R(h_n)$ is closed to the best possible given that it was choosen from $\\mathcal{H}$? (that is $R(h_n) - \\inf_{h \\in \\mathcal{H}} R(h)$ is small)\n",
    "2. How does the performance of $h_n$ depend on the size of the training set $n$? On the complexity of the class $\\mathcal{H}$?\n",
    "3. Can we assure that $R(h_n)$ approaches the best performance possible: $\\inf_{f} R(f)$?\n",
    "### Key issues\n",
    "\n",
    "**Approximation**: How good is the best possible $h$ in $\\mathcal{H}$?\n",
    "$$\n",
    "\\inf_{h \\in \\mathcal{H}} R(h) - \\inf_{f} R(f)\n",
    "$$\n",
    "\n",
    "**Estimation**: How close is our performance to the best possible $h$ in $\\mathcal{H}$?\n",
    "$$\n",
    "R(h_n) - \\inf_{h \\in \\mathcal{H}} R(h)\n",
    "$$\n",
    "\n",
    "**Computation**: We need to use data to choose $h_n$ from $\\mathcal{H}$, typically by slowing some kind of optimization problem. How can we do this efficiently?\n"
   ],
   "metadata": {
    "collapsed": false
   },
   "id": "2cde2124e8845ebb"
  },
  {
   "cell_type": "code",
   "execution_count": 2,
   "outputs": [
    {
     "data": {
      "text/plain": "<Figure size 600x600 with 1 Axes>",
      "image/png": "[encoded data removed]"
     },
     "metadata": {},
     "output_type": "display_data"
    }
   ],
   "source": [
    "fig, ax = plt.subplots(figsize=(6, 6))\n",
    "ax.set_xlim(-1.05, 1.05)\n",
    "ax.set_ylim(-1.05, 1.05)\n",
    "ax.set_aspect('equal')\n",
    "ax.scatter(0, -0.24, marker='o', color='r', s=100)\n",
    "ax.scatter(0.5, 0, marker='v', color='b', s=100)\n",
    "ax.scatter(1, 0, marker='*', color='k', s=100)\n",
    "ax.add_artist(plt.Circle((0, 0), 0.5, color='green', fill=True, alpha=0.1, label='$\\mathcal{H}:$ Hypothesis Class'))\n",
    "ax.annotate('$h_n$', xy=(0, -0.25), xytext=(0, -0.35), ha='center', va='center')\n",
    "ax.annotate('$h^*$', xy=(0.5, 0), xytext=(0.45, 0.06), ha='center', va='center')\n",
    "ax.annotate('$f$', xy=(1, 0), xytext=(1.05, 0.07), ha='center', va='center')\n",
    "ax.text(0, 0, r'$\\mathcal{H}$', ha='center', va='center')\n",
    "ax.plot([0, 0.5], [-0.24, 0], '--', color='r', label='Estimation Error')\n",
    "ax.plot([0.5, 1], [0, 0], '--', color='b', label='Approximation Error')\n",
    "ax.legend(loc='upper right', fontsize=14)\n",
    "ax.set_xticks([])\n",
    "ax.set_yticks([])\n",
    "for spine in ax.spines.values():\n",
    "    spine.set_visible(False)\n",
    "plt.savefig('scripts/figures/fig1.1.pdf', bbox_inches='tight')\n",
    "plt.show()"
   ],
   "metadata": {
    "collapsed": false,
    "ExecuteTime": {
     "end_time": "2023-12-14T09:03:56.917373Z",
     "start_time": "2023-12-14T09:03:56.312703Z"
    }
   },
   "id": "15351b2d652fbb47"
  },
  {
   "cell_type": "markdown",
   "source": [
    "### Date: September 28, 2023"
   ],
   "metadata": {
    "collapsed": false
   },
   "id": "8d47ae0180af6aec"
  },
  {
   "cell_type": "markdown",
   "source": [
    "We have samples $S = \\{(x_1, y_1), \\dots, (x_n, y_n)\\}$ from a distribution $P$ on $\\mathcal{X} \\times \\mathcal{Y}$.\n",
    "\n",
    "The bad thing is that we could have bad luck and get a bad sample $S$. For example, if we have a sample of 1000 people and we want to predict the height of a person, we could have a sample of 1000 people that are all 2 meters tall. In this case, we would have a bad sample.\n",
    "\n",
    "Recall the **Approximation error**:\n",
    "$$\n",
    "\\inf_{h \\in \\mathcal{H}} R(h) - \\inf_{f} R(f)\n",
    "$$\n",
    "We find how close the best possible $h$ in $\\mathcal{H}$ is to the best possible $f$.\n",
    "\n",
    "We have $R(h) = \\mathbb{E}_{(x, y) \\sim P}[l(y, h(x))]$ and $R(f) = \\mathbb{E}_{(x, y) \\sim P}[l(y, f(x))]$.\n",
    "\n",
    "**Estimation error**:\n",
    "$$\n",
    "R(h_n) - \\inf_{h \\in \\mathcal{H}} R(h)\n",
    "$$\n",
    "For any $h$ how close is $R(h_n)$ to $R(h)$, where $R(h_n) = \\mathbb{E}_{(x, y) \\sim P}[l(y, h_n(x))] = \\frac{1}{n} \\sum_{i=1}^n l(y_i, h_n(x_i))$."
   ],
   "metadata": {
    "collapsed": false
   },
   "id": "d7e6de46904bd552"
  },
  {
   "cell_type": "markdown",
   "source": [
    "**Excess risk**:\n",
    "$$\n",
    "R(h_n) - \\inf_{h \\in \\mathcal{H}} R(h) = \\underbrace{\\left(R(h_n) - \\mathbb{E}_{(x, y) \\sim P}[l(y, h_n(x))]\\right)}_{\\text{Estimation error}} + \\underbrace{\\left(\\mathbb{E}_{(x, y) \\sim P}[l(y, h_n(x))] - \\inf_{h \\in \\mathcal{H}} R(h)\\right)}_{\\text{Approximation error}}\n",
    "$$"
   ],
   "metadata": {
    "collapsed": false
   },
   "id": "27104b4743259383"
  },
  {
   "cell_type": "markdown",
   "source": [
    "**Pattern classification:**\n",
    "\n",
    "Consider two class classification with $\\mathcal{Y} = \\{-1, 1\\}$ and so the data is represented by $(x_1, y_1), \\dots, (x_n, y_n)$ where $x_i \\in \\mathcal{X}$ and $y_i \\in \\{-1, 1\\}$, distributed according to $P$ on $\\mathcal{X} \\times \\mathcal{Y}$ as the pair $(\\mu, \\eta)$ where $\\mu = (\\mu_{-1}, \\mu_1) \\in \\mathbb{R}^d \\times \\mathbb{R}^d$ and $\\eta \\in \\mathbb{R}^{d \\times d}$.\n",
    "\n",
    "$\\mu$ is the marginal distribution of $x$ and $\\eta$ is the conditional distribution of $y$ given $x$.\n",
    "\n",
    "$$ \\eta(x) = \\mathbb{P}(y = 1 \\mid x) = \\frac{1}{1 + e^{-\\langle \\eta, x \\rangle}} = \\sigma(\\langle \\eta, x \\rangle)$$\n",
    "where $\\sigma(t) = \\frac{1}{1 + e^{-t}}$ is the sigmoid function.\n"
   ],
   "metadata": {
    "collapsed": false
   },
   "id": "77b1b82ff43ec350"
  },
  {
   "cell_type": "markdown",
   "source": [
    "**Remark:**\n",
    "If we know $\\eta$ then we could use it to find a decision function $h$ that minimizes the risk.\n",
    "$$\n",
    "R(h) = \\mathbb{E}_{(x, y) \\sim P}[l(y, h(x))] \\\\\n",
    "= \\mathbb{E}_{x \\sim \\mu}[\\mathbb{E}_{y \\sim \\eta(x)}[l(y, h(x))]] \\\\\n",
    "= \\mathbb{E}_{x}[l(h(x), 1) \\times P(y = 1 \\mid x) + l(h(x), -1) \\times P(y = -1 \\mid x)] \\\\\n",
    "= \\mathbb{E}_{x}[l(h(x), 1) \\times \\eta(x) + l(h(x), -1) \\times (1 - \\eta(x))] \\\\\n",
    "= \\mathbb{E}_{x}[\\mathbb{I}_{h(x) \\neq 1} \\times \\eta(x) + \\mathbb{I}_{h(x) \\neq -1} \\times (1 - \\eta(x))] \\\\\n",
    "= \\mathbb{E}_{x}[\\mathbb{I}_{h(x) \\neq 1} \\times \\eta(x) + (1- \\mathbb{I}_{h(x) \\neq 1}) \\times (1 - \\eta(x))] \\\\\n",
    "= \\mathbb{E}_{x}[2 \\times \\mathbb{I}_{h(x) \\neq 1} \\times \\eta(x) + 1 - \\eta(x) - \\mathbb{I}_{h(x) \\neq 1}] \\\\\n",
    "= \\mathbb{E}_{x}[\\mathbb{I}_{h(x) \\neq 1} \\times (2 \\times \\eta(x) - 1) + 1 - \\eta(x)] \\\\\n",
    "$$\n",
    "\n",
    "**Bayes Decision Rule:**\n",
    "This quantity is minimized by choosing $h = h^*$ where:\n",
    "$$\n",
    "h^*(x) = \\begin{cases}\n",
    "1 & \\text{ if } \\eta(x) \\geq \\frac{1}{2} \\\\\n",
    "-1 & \\text{ if } \\eta(x) < \\frac{1}{2}\n",
    "\\end{cases}\n",
    "$$"
   ],
   "metadata": {
    "collapsed": false
   },
   "id": "673105bd2c61e8d7"
  },
  {
   "cell_type": "markdown",
   "source": [
    "Exercise: Decompose the risk for quadratic loss in regression.\n",
    "\n",
    "$$\n",
    "\\mathcal{R}(h) = \\mathbb{E}_{(x, y) \\sim P}[l(y, h(x))] \\\\\n",
    "l(y, h(x)) = (w^T x - y)^2 \\\\\n",
    "$$\n",
    "where $w \\in \\mathbb{R}^d$.\n",
    "\n",
    "Bias: $$Bias[\\theta] = \\mathbb{E}_{S}[\\hat{\\theta}] - \\theta$$\n",
    "Variances: $$Var[\\theta] = \\mathbb{E}[(\\mathbb{E}_{S}[\\hat{\\theta}] - \\theta)^2]$$\n",
    "\n",
    "$$\n",
    "(y - \\hat{y})^2 = (y - \\mathbb{E}_{S}[\\hat{y}] + \\mathbb{E}_{S}[\\hat{y}] - \\hat{y})^2 \\\\\n",
    "= (y - \\mathbb{E}_{S}[\\hat{y}])^2 + (\\mathbb{E}_{S}[\\hat{y}] - \\hat{y})^2 + 2(y - \\mathbb{E}_{S}[\\hat{y}]) (\\mathbb{E}_{S}[\\hat{y}] - \\hat{y}) \\\\\n",
    "$$\n",
    "donc:\n",
    "$$\n",
    "\\mathbb{E}_{S}[(y - \\hat{y})^2] = \\mathbb{E}_{S}[(y - \\mathbb{E}_{S}[\\hat{y}])^2] + \\mathbb{E}_{S}[(\\mathbb{E}_{S}[\\hat{y}] - \\hat{y})^2] + 2 \\mathbb{E}_{S}[(y - \\mathbb{E}_{S}[\\hat{y}]) (\\mathbb{E}_{S}[\\hat{y}] - \\hat{y})] \\\\\n",
    "= \\mathbb{E}_{S}[(y - \\mathbb{E}_{S}[\\hat{y}])^2] + \\mathbb{E}_{S}[(\\mathbb{E}_{S}[\\hat{y}] - \\hat{y})^2] + 2 \\mathbb{E}_{S}[(y - \\mathbb{E}_{S}[\\hat{y}])] \\mathbb{E}_{S}[(\\mathbb{E}_{S}[\\hat{y}] - \\hat{y})] \\\\\n",
    "= \\mathbb{E}_{S}[(y - \\mathbb{E}_{S}[\\hat{y}])^2] + \\mathbb{E}_{S}[(\\mathbb{E}_{S}[\\hat{y}] - \\hat{y})^2]\n",
    "$$\n",
    "because $\\mathbb{E}_{S}[(y - \\mathbb{E}_{S}[\\hat{y}])] = 0$.\n",
    "To continue:\n",
    "$$\n",
    "\\mathbb{E}_{S}[(y - \\hat{y})^2] = \\mathbb{E}_{S}[(y - \\mathbb{E}_{S}[\\hat{y}])^2] + \\mathbb{E}_{S}[(\\mathbb{E}_{S}[\\hat{y}] - \\hat{y})^2] \\\\\n",
    "= \\mathbb{E}_{S}[(y - \\mathbb{E}_{S}[\\hat{y}])^2] + \\mathbb{E}_{S}[(\\mathbb{E}_{S}[\\hat{y}] - \\mathbb{E}_{S}[\\hat{y}] + \\mathbb{E}_{S}[\\hat{y}] - \\hat{y})^2] \\\\\n",
    "= \\mathbb{E}_{S}[(y - \\mathbb{E}_{S}[\\hat{y}])^2] + \\mathbb{E}_{S}[(\\mathbb{E}_{S}[\\hat{y}] - \\mathbb{E}_{S}[\\hat{y}])^2 + (\\mathbb{E}_{S}[\\hat{y}] - \\hat{y})^2 + 2(y - \\mathbb{E}_{S}[\\hat{y}]) (\\mathbb{E}_{S}[\\hat{y}] - \\hat{y})] \\\\\n",
    "= \\mathbb{E}_{S}[(y - \\mathbb{E}_{S}[\\hat{y}])^2] + \\mathbb{E}_{S}[(\\mathbb{E}_{S}[\\hat{y}] - \\hat{y})^2] + 2 \\mathbb{E}_{S}[(y - \\mathbb{E}_{S}[\\hat{y}])] \\mathbb{E}_{S}[(\\mathbb{E}_{S}[\\hat{y}] - \\hat{y})] \\\\\n",
    "= \\mathbb{E}_{S}[(y - \\mathbb{E}_{S}[\\hat{y}])^2] + \\mathbb{E}_{S}[(\\mathbb{E}_{S}[\\hat{y}] - \\hat{y})^2]\n",
    "$$\n",
    "\n",
    "Prove that $2 \\mathbb{E}_{S}[(y - \\mathbb{E}_{S}[\\hat{y}])] \\mathbb{E}_{S}[(\\mathbb{E}_{S}[\\hat{y}] - \\hat{y})] = 0$:\n",
    "$$\n",
    "2 \\mathbb{E}_{S}[(y - \\mathbb{E}_{S}[\\hat{y}])] \\mathbb{E}_{S}[(\\mathbb{E}_{S}[\\hat{y}] - \\hat{y})] \\\\\n",
    "= 2 \\mathbb{E}_{S}[(y - \\mathbb{E}_{S}[\\hat{y}])] (\\mathbb{E}_{S}[\\hat{y}] - \\mathbb{E}_{S}[\\hat{y} + \\hat{y} - \\hat{y}]) \\\\\n",
    "= 2 \\mathbb{E}_{S}[(y - \\mathbb{E}_{S}[\\hat{y}])] (\\mathbb{E}_{S}[\\hat{y}] - \\mathbb{E}_{S}[\\hat{y}] + \\mathbb{E}_{S}[\\hat{y}] - \\hat{y}) \\\\\n",
    "= 2 \\mathbb{E}_{S}[(y - \\mathbb{E}_{S}[\\hat{y}])] (\\mathbb{E}_{S}[\\hat{y}] - \\hat{y}) \\\\\n",
    "= 2 \\mathbb{E}_{S}[(y - \\mathbb{E}_{S}[\\hat{y}])] \\mathbb{E}_{S}[\\hat{y}] - 2 \\mathbb{E}_{S}[(y - \\mathbb{E}_{S}[\\hat{y}])] \\hat{y} \\\\\n",
    "= 2 \\mathbb{E}_{S}[(y - \\mathbb{E}_{S}[\\hat{y}])] \\mathbb{E}_{S}[\\hat{y}] - 2 \\mathbb{E}_{S}[(y - \\mathbb{E}_{S}[\\hat{y}])] \\mathbb{E}_{S}[\\hat{y}] \\\\\n",
    "$$\n",
    "So $2 \\mathbb{E}_{S}[(y - \\mathbb{E}_{S}[\\hat{y}])] \\mathbb{E}_{S}[(\\mathbb{E}_{S}[\\hat{y}] - \\hat{y})] = 0$."
   ],
   "metadata": {
    "collapsed": false
   },
   "id": "289a31344c0c0ddc"
  },
  {
   "cell_type": "markdown",
   "source": [
    "The optimal risk is called the **Bayes risk**, and is given by:\n",
    "$$\n",
    "R^* = \\inf_{f} R(f) = R(f^*)\n",
    "$$\n",
    "where $f^*$ is the Bayes decision rule."
   ],
   "metadata": {
    "collapsed": false
   },
   "id": "e813494946c16ded"
  },
  {
   "cell_type": "markdown",
   "source": [
    "**Recal**: $R(h) = \\mathbb{E}_{x}[\\mathbb{I}_{h(x) \\neq 1} \\times (2 \\times \\eta(x) - 1) + 1 - \\eta(x)]$\n",
    "$h = f^*$, so: \n",
    "$$\n",
    "R^* = \\begin{cases}\n",
    "\\mathbb{E}_{x}[\\mathbb{I}_{f^*(x) \\neq 1} \\times (2 \\times \\eta(x) - 1) + 1 - \\eta(x)] & \\text{ if } \\eta(x) \\geq \\frac{1}{2} \\\\\n",
    "\\mathbb{E}_{x}[\\mathbb{I}_{f^*(x) \\neq -1} \\times (2 \\times \\eta(x) - 1) + 1 - \\eta(x)] & \\text{ if } \\eta(x) < \\frac{1}{2}\n",
    "\\end{cases}\n",
    "= \\begin{cases}\n",
    "\\eta(x) & \\text{ if } \\eta(x) \\geq \\frac{1}{2} \\\\\n",
    "1 - \\eta(x) & \\text{ if } \\eta(x) < \\frac{1}{2}\n",
    "\\end{cases}\n",
    "$$"
   ],
   "metadata": {
    "collapsed": false
   },
   "id": "275cffb29075a898"
  },
  {
   "cell_type": "markdown",
   "source": [
    "### Risk and distance from $f^*$\n",
    "\n",
    "**Theorem**: For $h: \\mathcal{X} \\rightarrow \\mathcal{Y}$, we have:\n",
    "$$\n",
    "R(h) - R(f^*) = \\mathbb{E}_{x}[\\mathbb{I}_{h(x) \\neq f^*(x)} \\times (\\mid2 \\times \\eta(x) - 1\\mid)]\n",
    "$$\n",
    "\n",
    "Proof:\n",
    "$$\n",
    "R(h) - R(f^*) = \\mathbb{E}_{x}[\\mathbb{I}_{h(x) \\neq 1} \\times (2 \\times \\eta(x) - 1) + 1 - \\eta(x)] - \\mathbb{E}_{x}[\\mathbb{I}_{f^*(x) \\neq 1} \\times (2 \\times \\eta(x) - 1) + 1 - \\eta(x)] \\\\\n",
    "= \\mathbb{E}_{x}[\\mathbb{I}_{h(x) \\neq 1} \\times (2 \\times \\eta(x) - 1)] - \\mathbb{E}_{x}[\\mathbb{I}_{f^*(x) \\neq 1} \\times (2 \\times \\eta(x) - 1)] \\\\\n",
    "= \\mathbb{E}_{x}[\\mathbb{I}_{h(x) \\neq 1} \\times (2 \\times \\eta(x) - 1) - \\mathbb{I}_{f^*(x) \\neq 1} \\times (2 \\times \\eta(x) - 1)] \\\\\n",
    "= \\mathbb{E}_{x}[(\\mathbb{I}_{h(x) \\neq 1} - \\mathbb{I}_{f^*(x) \\neq 1}) \\times (2 \\times \\eta(x) - 1)] \\\\\n",
    "= \\mathbb{E}_{x}[\\mathbb{I}_{h(x) \\neq f^*(x)} \\times (2 \\times \\eta(x) - 1)]\n",
    "$$\n",
    "Value absolute value of $2 \\times \\eta(x) - 1$ is the distance from $f^*$ because $f^*(x) = 1$ if $\\eta(x) \\geq \\frac{1}{2}$ and $f^*(x) = -1$ if $\\eta(x) < \\frac{1}{2}$.\n",
    "\n",
    "So we can write the risk as:\n",
    "$$\n",
    "R(h) - R(f^*) = \\mathbb{E}_{x}[\\mathbb{I}_{h(x) \\neq f^*(x)} \\times (\\mid2 \\times \\eta(x) - 1\\mid)]\n",
    "$$\n",
    "\n",
    "**Proof from Prof**:\n",
    "We have $R(h) = \\mathbb{E}_{x}[\\mathbb{I}_{h(x) \\neq 1} \\times (2 \\times \\eta(x) - 1) + 1 - \\eta(x)]$ and $R(f^*) = \\mathbb{E}_{x}[\\mathbb{I}_{f^*(x) \\neq 1} \\times (2 \\times \\eta(x) - 1) + 1 - \\eta(x)]$.\n",
    "Hence:\n",
    "$$\n",
    "R(h) - R(f^*) = \\mathbb{E}_{x}[\\mathbb{I}_{h(x) \\neq 1} \\times (2 \\times \\eta(x) - 1) + 1 - \\eta(x)] - \\mathbb{E}_{x}[\\mathbb{I}_{f^*(x) \\neq 1} \\times (2 \\times \\eta(x) - 1) + 1 - \\eta(x)] \\\\\n",
    "= \\mathbb{E}_{x}[\\mathbb{I}_{h(x) \\neq 1} \\times (2 \\times \\eta(x) - 1)] - \\mathbb{E}_{x}[\\mathbb{I}_{f^*(x) \\neq 1} \\times (2 \\times \\eta(x) - 1)] \\\\\n",
    "= \\mathbb{E}_{x}[\\mathbb{I}_{h(x) \\neq 1} \\times (2 \\times \\eta(x) - 1) - \\mathbb{I}_{f^*(x) \\neq 1} \\times (2 \\times \\eta(x) - 1)] \\\\\n",
    "= \\mathbb{E}_{x}[\\underbrace{(\\mathbb{I}_{h(x) \\neq 1} - \\mathbb{I}_{f^*(x) \\neq 1}) \\times (2 \\times \\eta(x) - 1)}_{A}] \\\\\n",
    "$$\n",
    "\n",
    "We can write $A$ as:\n",
    "$$\n",
    "A = \\mathbb{I}_{h(x) \\neq f^*(x)}(\\mathbb{I}_{h(x) \\neq 1} - \\mathbb{I}_{f^*(x) \\neq 1}) \\times (2 \\times \\eta(x) - 1) \\\\\n",
    "= \\begin{cases}\n",
    "\\mathbb{I}_{h(x) \\neq f^*(x)} \\times (2 \\times \\eta(x) - 1) & \\text{ if } \\eta(x) \\geq \\frac{1}{2} \\\\\n",
    "-\\mathbb{I}_{h(x) \\neq f^*(x)} \\times (2 \\times \\eta(x) - 1) & \\text{ if } \\eta(x) < \\frac{1}{2}\n",
    "\\end{cases}\n",
    "= \\mathbb{I}_{h(x) \\neq f^*(x)} \\times (\\mid2 \\times \\eta(x) - 1\\mid)\n",
    "$$"
   ],
   "metadata": {
    "collapsed": false
   },
   "id": "fabffca90d0a026f"
  },
  {
   "cell_type": "markdown",
   "source": [
    "**Plug-in classifier**:\n",
    "Use the data to come up with an estimate $\\hat{\\eta}$ of $\\eta$ and then use the Bayes decision rule with $\\hat{\\eta}$ instead of $\\eta$.\n",
    "$$\n",
    "h_{\\hat{\\eta}}(x) = \\begin{cases}\n",
    "1 & \\text{ if } \\hat{\\eta}(x) \\geq \\frac{1}{2} \\\\\n",
    "-1 & \\text{ if } \\hat{\\eta}(x) < \\frac{1}{2}\n",
    "\\end{cases}\n",
    "$$\n",
    "\n",
    "In estimating $\\eta$, what criteria should we use? We could use the empirical risk minimization (ERM) criterion:\n",
    "$\\mathcal{L}_{\\mu}$ is the distance between $\\eta$ and $\\hat{\\eta}$:\n",
    "**Theorem**: For any $\\mu \\in \\mathbb{R}^d$ and $\\eta \\in \\mathbb{R}^{d \\times d}$, we have:\n",
    "$$\n",
    "R(h_{\\hat{\\eta}}) - R(f^*) \\leq \\mathcal{L}_{\\mu}(\\eta, \\hat{\\eta}) = 2 \\times \\mathbb{E}_{x \\sim \\mu}[\\mid \\eta(x) - \\hat{\\eta}(x) \\mid]\n",
    "$$\n"
   ],
   "metadata": {
    "collapsed": false
   },
   "id": "9f1dffd42e87d881"
  },
  {
   "cell_type": "markdown",
   "source": [
    "**Proof**:\n",
    "We can write that $R(h_{\\hat{\\eta}}) - R(f^*) = 2 \\times \\mathbb{E}_{x}[\\mathbb{I}_{h_{\\hat{\\eta}}(x) \\neq f^*(x)} \\times (\\mid \\eta(x) - \\frac{1}{2} \\mid)]$.\n",
    "\n",
    "See that $h_{\\hat{\\eta}}(x) \\neq f^*(x)$ if and only if $\\hat{\\eta}(x) \\neq \\eta(x)$ and $\\eta(x) \\geq \\frac{1}{2}$ or $\\hat{\\eta}(x) \\neq \\eta(x)$ and $\\eta(x) < \\frac{1}{2}$. They has to be different side of $\\frac{1}{2}$.\n",
    "So $|\\eta(x) - \\hat{\\eta}(x)| \\geq |\\eta(x) - \\frac{1}{2}|$.\n",
    "Then we have:\n",
    "$$\n",
    "R(h_{\\hat{\\eta}}) - R(f^*) = 2 \\times \\mathbb{E}_{x}[\\mathbb{I}_{h_{\\hat{\\eta}}(x) \\neq f^*(x)} \\times (\\mid \\eta(x) - \\frac{1}{2} \\mid)] \\\\\n",
    "\\leq 2|\\eta(x) - \\hat{\\eta}(x)| \\times \\mathbb{E}_{x}[\\mathbb{I}_{h_{\\hat{\\eta}}(x) \\neq f^*(x)}] \n",
    "$$"
   ],
   "metadata": {
    "collapsed": false
   },
   "id": "9252ecf2ae46e950"
  },
  {
   "cell_type": "markdown",
   "source": [
    "##### ESTIMATING $\\eta$ IS NOT NECESSARY\n",
    "\n",
    "Notice that estimating $\\eta$ accurately is not necessary for accurate classification. In particular, this bound a plugin classifier $h_{\\hat{\\eta}}$ can be very loose. For instance, if $\\eta(x) = \\{0, 1\\}$ then for any $\\epsilon > 0$, we can find $\\hat{\\eta}$ satisfying that:\n",
    "- $\\hat{\\eta}(x)$ and $\\eta(x)$ are always on the same side of $\\frac{1}{2}$. \n",
    "- $\\mathcal{L}_{\\mu}(\\eta, \\hat{\\eta}) = \\frac{1-\\epsilon}{2} \\text{Almost surely}$.\n",
    "\n",
    "So $R(h_{\\hat{\\eta}}) - R(f^*) = 0 \\ll 1 - \\epsilon = 2 \\times \\mathbb{E}_{x \\sim \\mu}[\\mid \\eta(x) - \\hat{\\eta}(x) \\mid]$.\n",
    "That is the bound might be vacuous even though the classifier is optimal."
   ],
   "metadata": {
    "collapsed": false
   },
   "id": "346f8b4cc9b15cec"
  },
  {
   "cell_type": "markdown",
   "source": [
    "##### Choosing from a class of decision rules\n",
    "\n",
    "An alternative to model the conditional probability $\\eta$ of $Y$ given $X$: Fix a class $\\mathcal{H}$ of functions from $X$ to $Y$ (decision rules), and use data choose $h_n$ from $\\mathcal{H}$.\n",
    "\n",
    "For examples, consider the class of linear threshold functions on $\\mathbb{R}^d$:\n",
    "$$\n",
    "\\mathcal{H} = x \\mapsto sign(\\theta^T x): \\theta \\in \\mathbb{R}^d\n",
    "$$\n",
    "where $sign(t) = \\begin{cases}\n",
    "1 & \\text{ if } t \\geq 0 \\\\\n",
    "-1 & \\text{ if } t < 0\n",
    "\\end{cases}$\n",
    "\n",
    "The decision boundaries are hyperplanes through the origin ($d - 1$ dimensional subspaces of $\\mathbb{R}^d$) and the decision regions are half-spaces through the origin.\n",
    "- Easy to understand and interpret\n",
    "- Easy to compute\n",
    "- Optimal if class conditional probabilities (conditional probabilities of $Y$ given $X$) are (linear functions of $X$) e.g. Gaussian with the same covariance matrix\n",
    "\n",
    "**Linear threshold functions**:\n",
    "For threshold linear functions, the decision boundaries are hyperplanes through the origin.\n",
    "For threshold affine functions, the decision boundaries are hyperplanes:\n",
    "$$\n",
    "\\mathcal{H} = \\begin{cases}\n",
    "x \\mapsto sign(\\theta^T x + c): \\theta \\in \\mathbb{R}^d, c \\in \\mathbb{R} \\\\\n",
    "x \\mapsto sign(\\theta^T \\tilde{x}): \\tilde{x} \\in \\mathbb{R}^{d+1}\n",
    "\\end{cases}\n",
    "$$"
   ],
   "metadata": {
    "collapsed": false
   },
   "id": "2501bcc00855bb93"
  },
  {
   "cell_type": "markdown",
   "source": [
    "## Empirical risk minimization\n",
    "**Question**: How to choose $h_n$ from $\\mathcal{H}$?\n",
    "**Answer**: One approach is empirical risk minimization (ERM), choose $h_n$ from $\\mathcal{H}$ to minimize the empirical risk:\n",
    "$$\n",
    "\\hat{R}_n(h) = \\mathbb{E}_{(x, y) \\sim \\hat{P}_n}[l(y, h(x))] = \\frac{1}{n} \\sum_{i=1}^n l(y_i, h(x_i))\n",
    "$$\n",
    "where $\\hat{P}_n$ is the empirical distribution of the data:"
   ],
   "metadata": {
    "collapsed": false
   },
   "id": "d6149a02a5f59ffb"
  },
  {
   "cell_type": "markdown",
   "source": [
    "**Linear threshold functions**:\n",
    "Consider empirical risk minimization for the class of linear threshold functions on $\\mathbb{R}^d$:\n",
    "- **Approximation**: Very restricted class of decision rules, we can consider a much larger class and retain the attractive properties of linearly parametrized functions, by considering a non-linear transformation of the input space:\n",
    "$$\n",
    "\\Phi: \\mathbb{R}^d \\rightarrow \\mathbb{R}^D \\quad \\text{for some } D \\gg d\n",
    "$$\n",
    "- **Estimation**: Small $\\frac{d}{n}$ is ok, but large can be ok if we regularize.\n",
    "- **Computation**: Easy if $\\hat{R}_n = 0$. In general, hard if not. Can simplify if we consider after native (convex) loss functions $l$."
   ],
   "metadata": {
    "collapsed": false
   },
   "id": "caa4d53a72f48f51"
  },
  {
   "cell_type": "markdown",
   "source": [
    "Logistic regression:\n",
    "$$\n",
    "\\mathcal{H} = \\{x \\mapsto sign(\\theta^T \\Phi(x)): \\theta \\in \\mathbb{R}^D\\}\n",
    "$$\n",
    "where $\\Phi: \\mathbb{R}^d \\rightarrow \\mathbb{R}^D$ is a non-linear transformation of the input space.\n",
    "\n",
    "**Logistic loss**:\n",
    "$$\n",
    "l(y, h(x)) = \\log(1 + e^{-y \\times h(x)})\n",
    "$$\n",
    "\n",
    "Maximizing the likelihood of the data under the model:\n",
    "$$\n",
    "\\mathcal{L}(\\theta) = \\prod_{i=1}^n \\frac{1}{1 + e^{-y_i \\times \\theta^T \\Phi(x_i)}}\n",
    "\n",
    "\\ell(\\theta) = \\log \\mathcal{L}(\\theta) = \\sum_{i=1}^n \\log(1 + e^{-y_i \\times \\theta^T \\Phi(x_i)})\n",
    "$$"
   ],
   "metadata": {
    "collapsed": false
   },
   "id": "a621bc6743215192"
  },
  {
   "cell_type": "markdown",
   "source": [
    "### Perceptron algorithm\n",
    "\n",
    "Input $\\left(X_1, Y_1\\right), \\ldots,\\left(X_N, Y_N\\right) \\in \\mathbb{R}^d \\times\\{-1,1\\}$\n",
    "- $\\theta_0 \\leftarrow 0 \\in \\mathbb{R}^d$\n",
    "- $t \\leftarrow 0$\n",
    "while $y_i \\neq \\operatorname{sign}\\left(\\theta_t^T x_i\\right)$, i.e some $\\left(x_i, y_i\\right)$ are misclassfied do\n",
    "- $\\theta_{t+1} \\leftarrow \\theta_t+y_i x_i$\n",
    "- $t \\leftarrow t+1$\n",
    "end while\n",
    "return $\\theta_t$\n",
    "\n",
    "Reminder\n",
    "$$\n",
    "\\operatorname{sign}(\\alpha)= \\begin{cases}1, & \\text { if } \\alpha>0 \\\\ -1, & \\text { if } \\alpha<0 \\\\ 0, & \\text { if } \\alpha=0\\end{cases}\n",
    "$$\n",
    "\n",
    "**Convergence of Perceptron algorithm**:\n",
    "Given linearly seperable data (i.e. there is a $\\theta \\in \\mathbb{R}^d$ such that $\\forall i, y_i \\theta^T x_i>0$ ), for any choices made at the update step, it terminates (with empirical risk zero) after no more than $\\frac{r^2}{\\gamma^2}$ iterations, where $r = \\max_i \\Vert x_i \\Vert$ and $\\gamma = \\min_i \\frac{y_i \\theta^T x_i}{\\Vert \\theta \\Vert}$."
   ],
   "metadata": {
    "collapsed": false
   },
   "id": "3a0c466f6f8a84b8"
  },
  {
   "cell_type": "markdown",
   "source": [
    "**Proof**:\n",
    "\n",
    "The idea is to use the inner product $\\theta_t^T \\theta$ as a measure of progress, and show that each mistake gives a big increase to the inner product (aligns $\\theta_t$ with $\\theta$ ), but gives only a small increase to $\\left\\|\\theta_t\\right\\|$.\n",
    "\n",
    "First,\n",
    "$$\n",
    "\\begin{aligned}\n",
    "\\theta_{t+1}^T \\theta & =\\left(\\theta_t+y_i x_i\\right)^T \\theta \\\\\n",
    "& \\geq \\theta_t^T \\theta+\\gamma\\|\\theta\\| .\n",
    "\\end{aligned}\n",
    "$$\n",
    "\n",
    "But $\\theta_0=0$, so $\\theta_t^T \\theta \\geq t \\gamma\\|\\theta\\|$.\n",
    "\n",
    "On the other hand,\n",
    "$$\n",
    "\\begin{aligned}\n",
    "\\left\\|\\theta_{t+1}\\right\\|^2 & =\\left\\|\\theta_t+y_i x_i\\right\\|^2 \\\\\n",
    "& =\\left\\|\\theta_t\\right\\|^2+\\left\\|x_i\\right\\|^2+2 y_i \\theta_t^T x_i \\\\\n",
    "& \\leq\\left\\|\\theta_t\\right\\|^2+r^2 .\n",
    "\\end{aligned}\n",
    "$$\n",
    "\n",
    "But $\\theta_0=0$, so $\\left\\|\\theta_t\\right\\|^2 \\leq t r^2$.\n",
    "Combining (and using Cauchy-Shwarz):\n",
    "$$\n",
    "\\begin{aligned}\n",
    "t \\gamma\\|\\theta\\| & \\leq \\theta_t^T \\theta & \\leq \\|\\theta_t\\| \\|\\theta\\| \\leq \\sqrt{t} r\\|\\theta\\| \\\\\n",
    "\\end{aligned}\n",
    "$$"
   ],
   "metadata": {
    "collapsed": false
   },
   "id": "d79a8e75a4fcad77"
  },
  {
   "cell_type": "markdown",
   "source": [
    "**Proof of Linh**:\n",
    "\n",
    "The goal is to analyze the behavior of the vector $\\theta_t$ as it gets updated over iterations. We're particularly interested in two aspects: how well $\\theta_t$ aligns with a fixed vector $\\theta$, and the growth of the magnitude of $\\theta_t$. To do this, we will examine the inner product $\\theta_t^T \\theta$ and the norm $\\left\\|\\theta_t\\right\\|$.\n",
    "\n",
    "First, consider the update rule for $\\theta_t$:\n",
    "\\begin{equation}\n",
    "\\theta_{t+1} = \\theta_t + y_i x_i\n",
    "\\end{equation}\n",
    "where $y_i$ and $x_i$ are data points.\n",
    "\n",
    "Now, let's analyze the inner product $\\theta_t^T \\theta$:\n",
    "\\begin{equation}\n",
    "\\begin{aligned}\n",
    "\\theta_{t+1}^T \\theta & =\\left(\\theta_t+y_i x_i\\right)^T \\theta \\\\\n",
    "& \\geq \\theta_t^T \\theta+\\gamma\\|\\theta\\| .\n",
    "\\end{aligned}\n",
    "\\end{equation}\n",
    "Here, $\\gamma$ is the minimum margin, and the inequality shows that each update increases the alignment of $\\theta_t$ with $\\theta$.\n",
    "\n",
    "Since $\\theta_0=0$, we have:\n",
    "\\begin{equation}\n",
    "\\theta_t^T \\theta \\geq t \\gamma\\|\\theta\\|.\n",
    "\\end{equation}\n",
    "This indicates that the alignment increases at least linearly with the number of updates.\n",
    "\n",
    "Next, we examine the growth of the norm of $\\theta_t$:\n",
    "\\begin{equation}\n",
    "\\begin{aligned}\n",
    "\\left\\|\\theta_{t+1}\\right\\|^2 & =\\left\\|\\theta_t+y_i x_i\\right\\|^2 \\\\\n",
    "& =\\left\\|\\theta_t\\right\\|^2+\\left\\|x_i\\right\\|^2+2 y_i \\theta_t^T x_i \\\\\n",
    "& \\leq\\left\\|\\theta_t\\right\\|^2+r^2 .\n",
    "\\end{aligned}\n",
    "\\end{equation}\n",
    "Here, $r$ is the maximum norm of $x_i$, and the inequality shows that the norm of $\\theta_t$ grows by at most $R^2$ per update.\n",
    "\n",
    "Since $\\theta_0=0$, we get:\n",
    "\\begin{equation}\n",
    "\\left\\|\\theta_t\\right\\|^2 \\leq t r^2.\n",
    "\\end{equation}\n",
    "This indicates that the norm's growth is bounded by $tr^2$.\n",
    "\n",
    "Finally, combining these results and using the Cauchy-Schwarz inequality:\n",
    "\\begin{equation}\n",
    "\\begin{aligned}\n",
    "t \\gamma\\|\\theta\\| & \\leq \\theta_t^T \\theta & \\leq \\|\\theta_t\\| \\|\\theta\\| \\leq \\sqrt{t} r\\|\\theta\\| \\\\\n",
    "\\end{aligned}\n",
    "\\end{equation}\n",
    "This encapsulates the balance between alignment and growth: as $\\theta_t$ aligns more with $\\theta$, its norm does not grow too fast.\n",
    "So we can have $t \\gamma\\|\\theta\\| \\leq \\sqrt{t} r\\|\\theta\\|$ then $t \\leq \\frac{r^2}{\\gamma^2}$. So the algorithm terminates after no more than $\\frac{r^2}{\\gamma^2}$ iterations."
   ],
   "metadata": {
    "collapsed": false
   },
   "id": "43633bc15fd4030e"
  },
  {
   "cell_type": "markdown",
   "source": [
    "New algorithm:\n",
    "\n",
    "$$\n",
    "\\begin{aligned}\n",
    "\\min_{w \\in \\mathbb{R}^d} t(w)\\\\\n",
    "s.t. \\quad & \\forall i, y_i w^T x_i \\geq 1 \\\\\n",
    "\n",
    "\\Leftrightarrow argmin_{w \\in \\mathbb{R}^d} \\frac{r^2}{\\gamma ^2(w)}\\\\\n",
    "s.t. \\quad & \\forall i, y_i w^T x_i \\geq 1 \\\\\n",
    "\n",
    "\\Leftrightarrow argmin_{w \\in \\mathbb{R}^d} \\frac{1}{\\gamma(w)}\\\\\n",
    "s.t. \\quad & \\forall i, y_i w^T x_i \\geq 1\n",
    "\\end{aligned}\n",
    "$$\n",
    "where $r = \\max_i \\Vert x_i \\Vert$ and $\\gamma(w) = \\min_i \\frac{y_i w^T x_i}{\\Vert w \\Vert}$."
   ],
   "metadata": {
    "collapsed": false
   },
   "id": "2f25fbc711c42b4d"
  },
  {
   "cell_type": "markdown",
   "source": [
    "**A glimpse of kernel methods**\n",
    "\n",
    "Notes: We can write $w_t$ in term of data: $w_t = \\sum_{i=1}^n \\alpha_i x_i$ where $\\Vert \\alpha \\Vert = \\sum_{i=1}^n |\\alpha_i| = t$.\n",
    "We can replace inner $\\langle x, w \\rangle = x^T w$ by $K(x, w) = \\langle \\Phi(x), \\Phi(w) \\rangle$ where $\\Phi$ is a non-linear transformation of the input space.\n",
    "- Predict: $$\\hat{y}_i = sign(\\sum_{j=1}^n \\alpha_j \\underbrace{\\langle x_j, x_i \\rangle}_{K(x_j, x_i)})$$\n",
    "- Update: If $y_i \\neq \\hat{y}_i$ then $\\alpha_i^{t+1} = \\alpha_i^t + y_i$"
   ],
   "metadata": {
    "collapsed": false
   },
   "id": "716fdbaaf66c24c3"
  },
  {
   "cell_type": "markdown",
   "source": [
    "### Support Vector Machines\n",
    "$ L(w, w_0, \\alpha) = \\frac{1}{2} \\Vert w \\Vert^2 - \\sum_{i=1}^n \\alpha_i (y_i (w^T x_i + w_0) - 1)$\n",
    "\n",
    "Derivative of $L$ with respect to $w$ and $w_0$:\n",
    "$$\n",
    "\\begin{aligned}\n",
    "\\frac{\\partial L}{\\partial w} & = w - \\sum_{i=1}^n \\alpha_i y_i x_i = 0 \\Rightarrow w = \\sum_{i=1}^n \\alpha_i y_i x_i \\\\\n",
    "\\frac{\\partial L}{\\partial w_0} & = - \\sum_{i=1}^n \\alpha_i y_i = 0 \\Rightarrow \\sum_{i=1}^n \\alpha_i y_i = 0\n",
    "\\end{aligned}\n",
    "$$\n",
    "\n",
    "Plug in $w$ and $w_0$:\n",
    "$$\n",
    "\\begin{aligned}\n",
    "L(w, w_0, \\alpha) & = \\frac{1}{2} \\Vert w \\Vert^2 - \\sum_{i=1}^n \\alpha_i (y_i (w^T x_i + w_0) - 1) \\\\\n",
    "& = \\frac{1}{2} \\Vert \\sum_{i=1}^n \\alpha_i y_i x_i \\Vert^2 - \\sum_{i=1}^n \\alpha_i (y_i (\\sum_{j=1}^n \\alpha_j y_j \\langle x_j, x_i \\rangle + w_0) - 1) \\\\\n",
    "& = \\frac{1}{2} \\sum_{i=1}^n \\sum_{j=1}^n \\alpha_i \\alpha_j y_i y_j \\langle x_i, x_j \\rangle - \\sum_{i=1}^n \\alpha_i y_i (\\sum_{j=1}^n \\alpha_j y_j \\langle x_j, x_i \\rangle + w_0) + \\sum_{i=1}^n \\alpha_i \\\\\n",
    "& = \\frac{1}{2} \\sum_{i=1}^n \\sum_{j=1}^n \\alpha_i \\alpha_j y_i y_j \\langle x_i, x_j \\rangle - \\sum_{i=1}^n \\sum_{j=1}^n \\alpha_i \\alpha_j y_i y_j \\langle x_j, x_i \\rangle - w_0 \\sum_{i=1}^n \\alpha_i y_i + \\sum_{i=1}^n \\alpha_i \\\\\n",
    "& = \\sum_{i=1}^n \\alpha_i - \\frac{1}{2} \\sum_{i=1}^n \\sum_{j=1}^n \\alpha_i \\alpha_j y_i y_j \\langle x_i, x_j \\rangle\n",
    "\\end{aligned}\n",
    "$$\n",
    "\n",
    "Derivative of $L$ with respect to $\\alpha$:\n",
    "$$\n",
    "\\begin{aligned}\n",
    "\\frac{\\partial L}{\\partial \\alpha_i} & = 1 - \\frac{1}{2} \\sum_{j=1}^n \\alpha_j y_j y_i \\langle x_j, x_i \\rangle - \\frac{1}{2} \\sum_{j=1}^n \\alpha_i y_i y_j \\langle x_i, x_j \\rangle \\\\\n",
    "\\end{aligned}\n",
    "$$\n",
    "Because $\\frac{\\partial L}{\\partial \\alpha_i} = 0$ then $1 - \\frac{1}{2} \\sum_{j=1}^n \\alpha_j y_j y_i \\langle x_j, x_i \\rangle - \\frac{1}{2} \\sum_{j=1}^n \\alpha_i y_i y_j \\langle x_i, x_j \\rangle = 0$.\n",
    "$$\n",
    "\\begin{aligned}\n",
    "\\Rightarrow 1 - \\frac{1}{2} \\sum_{j=1}^n \\alpha_j y_j y_i \\langle x_j, x_i \\rangle & = \\frac{1}{2} \\sum_{j=1}^n \\alpha_i y_i y_j \\langle x_i, x_j \\rangle \\\\\n",
    "\\Rightarrow 2 - \\sum_{j=1}^n \\alpha_j y_j y_i \\langle x_j, x_i \\rangle & = \\sum_{j=1}^n \\alpha_i y_i y_j \\langle x_i, x_j \\rangle \\\\\n",
    "\\end{aligned}\n",
    "$$\n",
    "\n",
    "So we have:\n",
    "$$\n",
    "\\begin{aligned}\n",
    "\\sum_{j=1}^n \\alpha_i y_i y_j \\langle x_i, x_j \\rangle & = 2 - \\sum_{j=1}^n \\alpha_j y_j y_i \\langle x_j, x_i \\rangle \\\\\n",
    "& = 2 - \\sum_{j=1}^n \\alpha_j y_j y_i \\langle x_i, x_j \\rangle \\\\\n",
    "& = 2 - \\sum_{j=1}^n \\alpha_j y_j y_i K(x_i, x_j) \\\\\n",
    "\\end{aligned}\n",
    "$$\n",
    "\n",
    "So $\\alpha_i = \\frac{1}{y^2_i \\Vert x_i \\Vert^2} (2 - \\sum_{j=1}^n \\alpha_j y_j y_i K(x_i, x_j))$.\n"
   ],
   "metadata": {
    "collapsed": false
   },
   "id": "37d2b312d22fdfda"
  },
  {
   "cell_type": "markdown",
   "source": [],
   "metadata": {
    "collapsed": false
   },
   "id": "397d99baf57f4525"
  },
  {
   "cell_type": "code",
   "execution_count": 2,
   "outputs": [],
   "source": [],
   "metadata": {
    "collapsed": false,
    "ExecuteTime": {
     "end_time": "2023-12-14T09:03:56.917960Z",
     "start_time": "2023-12-14T09:03:56.915868Z"
    }
   },
   "id": "e3d2e442744cba73"
  }
 ],
 "metadata": {
  "kernelspec": {
   "display_name": "Python 3",
   "language": "python",
   "name": "python3"
  },
  "language_info": {
   "codemirror_mode": {
    "name": "ipython",
    "version": 2
   },
   "file_extension": ".py",
   "mimetype": "text/x-python",
   "name": "python",
   "nbconvert_exporter": "python",
   "pygments_lexer": "ipython2",
   "version": "2.7.6"
  }
 },
 "nbformat": 4,
 "nbformat_minor": 5
}
