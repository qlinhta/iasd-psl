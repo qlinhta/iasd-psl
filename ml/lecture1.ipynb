{
 "cells": [
  {
   "cell_type": "markdown",
   "source": [
    "# Fundamentals of Machine Learning\n",
    "\n",
    "Date: September 21, 2023"
   ],
   "metadata": {
    "collapsed": false
   },
   "id": "e585ca81ba4a4495"
  },
  {
   "cell_type": "code",
   "execution_count": 3,
   "id": "initial_id",
   "metadata": {
    "collapsed": true,
    "ExecuteTime": {
     "end_time": "2023-09-21T07:37:58.362299Z",
     "start_time": "2023-09-21T07:37:58.358917Z"
    }
   },
   "outputs": [],
   "source": [
    "import numpy as np\n",
    "import matplotlib.pyplot as plt\n",
    "plt.style.use('default')\n",
    "plt.rc('text', usetex=True)\n",
    "plt.rc('font', family='serif')\n",
    "plt.rc('font', size=18)\n",
    "plt.rc('axes', titlesize=18)\n",
    "plt.rc('axes', labelsize=18)\n",
    "plt.rc('xtick', labelsize=18)\n",
    "plt.rc('ytick', labelsize=18)\n",
    "plt.rc('legend', fontsize=18)\n",
    "plt.rc('lines', markersize=10)"
   ]
  },
  {
   "cell_type": "markdown",
   "source": [
    "Inductive Learning and Generalization is about learning from examples and generalizing to unseen examples. The goal is to find a function $f$ that maps inputs $x$ to outputs $y$. How to define the rules of $f$? How to find the parameters of $f$? How to evaluate the performance of $f$? How to generalize $f$ to unseen examples?"
   ],
   "metadata": {
    "collapsed": false
   },
   "id": "c314fbc69dfa7844"
  },
  {
   "cell_type": "markdown",
   "source": [
    "![NeuralNet](net.png)"
   ],
   "metadata": {
    "collapsed": false
   },
   "id": "33f77e7c4336b1eb"
  },
  {
   "cell_type": "markdown",
   "source": [
    "##### Perceptron:\n",
    "In the context of machine learning, perception often refers to a machine's ability to receive and interpret sensory data or inputs from the external world, somewhat analogous to human or animal perception. This could involve processing raw data from sensors like cameras, microphones, or other input devices to understand or make sense of the environment. The idea is to enable machines to interpret data in a way that allows them to perform tasks, make decisions, or assist in decision-making processes.\n",
    "\n",
    "##### XOR Problem:\n",
    "The XOR problem is a classic problem in ANN research. It is a problem of using a neural network to predict the output of XOR logic gates given two binary inputs. The XOR problem is a two-class classification problem, where the classes are linearly inseparable. The XOR problem is solvable by a neural network with one hidden layer, but not by a perceptron."
   ],
   "metadata": {
    "collapsed": false
   },
   "id": "f714d1b64d331f43"
  },
  {
   "cell_type": "code",
   "execution_count": null,
   "outputs": [],
   "source": [],
   "metadata": {
    "collapsed": false
   },
   "id": "6ebd6a4f07d1b01b"
  }
 ],
 "metadata": {
  "kernelspec": {
   "display_name": "Python 3",
   "language": "python",
   "name": "python3"
  },
  "language_info": {
   "codemirror_mode": {
    "name": "ipython",
    "version": 2
   },
   "file_extension": ".py",
   "mimetype": "text/x-python",
   "name": "python",
   "nbconvert_exporter": "python",
   "pygments_lexer": "ipython2",
   "version": "2.7.6"
  }
 },
 "nbformat": 4,
 "nbformat_minor": 5
}
