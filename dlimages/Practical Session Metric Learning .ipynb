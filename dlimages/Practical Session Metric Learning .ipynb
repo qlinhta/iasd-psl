{
 "cells": [
  {
   "cell_type": "code",
   "execution_count": null,
   "id": "820e77e3",
   "metadata": {},
   "outputs": [],
   "source": [
    "import numpy as np\n",
    "import tensorflow as tf\n",
    "from tensorflow.keras import layers as kl\n",
    "import matplotlib.pyplot as plt"
   ]
  },
  {
   "cell_type": "code",
   "execution_count": null,
   "id": "8241777f",
   "metadata": {},
   "outputs": [],
   "source": [
    "def scatter_color(X,y,var=[0,1],colors=[]):\n",
    "    #Useful function for plot in 2D data with labels\n",
    "    #X is the data N x P\n",
    "    #y is the label N x 1\n",
    "    #var are the variables to plot from 0,P-1\n",
    "    if len(colors)==0:\n",
    "        for i in range(len(np.unique(y))):\n",
    "            colors.append(np.random.rand(3))\n",
    "    iteri=0\n",
    "    for i in np.unique(y):\n",
    "        plt.scatter(X[y==i,var[0]],X[y==i,var[1]],c=colors[iteri])\n",
    "        iteri=iteri+1\n",
    "    fig = plt.gcf()\n",
    "    ax = fig.gca()\n",
    "    circle1 = plt.Circle((0, 0), 1, color='r',fill=False)\n",
    "    ax.add_patch(circle1)"
   ]
  },
  {
   "cell_type": "code",
   "execution_count": null,
   "id": "01d02551",
   "metadata": {},
   "outputs": [],
   "source": [
    "# Model / data parameters\n",
    "num_classes = 10\n",
    "input_shape = (28, 28, 1)\n",
    "# Load the data and split it between train and test sets\n",
    "(x_train, y_train), (x_test, y_test) = tf.keras.datasets.mnist.load_data()\n",
    "\n",
    "# Scale images to the [0, 1] range\n",
    "x_train = x_train.astype(\"float32\") / 255\n",
    "x_test = x_test.astype(\"float32\") / 255\n",
    "# Make sure images have shape (28, 28, 1)\n",
    "x_train = np.expand_dims(x_train, -1)\n",
    "#y_train = y_train[:nexamples]\n",
    "x_test = np.expand_dims(x_test, -1)\n",
    "print(\"x_train shape:\", x_train.shape)\n",
    "print(x_train.shape[0], \"train samples\")\n",
    "print(x_test.shape[0], \"test samples\")"
   ]
  },
  {
   "cell_type": "code",
   "execution_count": null,
   "id": "f10ccfce",
   "metadata": {},
   "outputs": [],
   "source": [
    "#For the metric learning part, we have access to num_samples=512\n",
    "num_samples=512\n",
    "feature_space=16"
   ]
  },
  {
   "cell_type": "code",
   "execution_count": null,
   "id": "32677877",
   "metadata": {},
   "outputs": [],
   "source": [
    "def get_models(input_shape,feature_space,augmentation=True):\n",
    "    xin=tf.keras.Input(shape=input_shape)\n",
    "    if augmentation:\n",
    "        xaug=kl.RandomTranslation(width_factor=.1,height_factor=.1)(xin)\n",
    "        #Include other Augmentation usually helps!\n",
    "        #xaug=kl.RandomRotation(.1)(xaug)\n",
    "    else:\n",
    "        xaug=xin\n",
    "    x=kl.Flatten()(xaug)\n",
    "    x=kl.Dense(256,'relu')(x)\n",
    "    x=kl.Dense(64,'relu')(x)\n",
    "    x=kl.BatchNormalization()(x)\n",
    "    x=kl.Dense(feature_space)(x) #,kernel_constraint=tf.keras.constraints.UnitNorm(axis=0)\n",
    "    x=kl.Dense(num_samples,'softmax')(x)\n",
    "    model=tf.keras.Model(xin,x)\n",
    "    model_features=tf.keras.Model(model.input,model.layers[-2].output)\n",
    "    return model,model_features"
   ]
  },
  {
   "cell_type": "code",
   "execution_count": null,
   "id": "6a01ddaf",
   "metadata": {},
   "outputs": [],
   "source": [
    "model,model_features=get_models(input_shape=input_shape,feature_space=feature_space,augmentation=True)"
   ]
  },
  {
   "cell_type": "code",
   "execution_count": null,
   "id": "d5d795de",
   "metadata": {},
   "outputs": [],
   "source": [
    "model.summary()\n",
    "model_features.summary()"
   ]
  },
  {
   "cell_type": "code",
   "execution_count": null,
   "id": "9e8db87a",
   "metadata": {},
   "outputs": [],
   "source": [
    "epochs=512\n",
    "batch_size=128\n",
    "opt=tf.keras.optimizers.Adam(learning_rate=.001)\n",
    "model.compile(loss=\"sparse_categorical_crossentropy\", optimizer=opt, metrics=[\"accuracy\"])\n",
    "history=model.fit(x_train[0:num_samples], np.arange(num_samples), batch_size=batch_size, epochs=epochs)\n",
    "    "
   ]
  },
  {
   "cell_type": "code",
   "execution_count": null,
   "id": "4bda02dd",
   "metadata": {},
   "outputs": [],
   "source": [
    "x_features=model_features(x_train[:num_samples]).numpy()\n",
    "x_features.shape"
   ]
  },
  {
   "cell_type": "code",
   "execution_count": null,
   "id": "97420a47",
   "metadata": {},
   "outputs": [],
   "source": [
    "#Visualizing the first two coordinates\n",
    "scatter_color(x_features,y_train[:num_samples],var=[0,1])"
   ]
  },
  {
   "cell_type": "code",
   "execution_count": null,
   "id": "1bf3c79c",
   "metadata": {},
   "outputs": [],
   "source": [
    "#Are this feature space good for classification?\n",
    "xin=tf.keras.Input(shape=(feature_space))\n",
    "xclass=kl.Dense(num_classes,'softmax')(xin)\n",
    "model_classification=tf.keras.Model(xin,xclass)\n",
    "\n"
   ]
  },
  {
   "cell_type": "code",
   "execution_count": null,
   "id": "54c548f6",
   "metadata": {},
   "outputs": [],
   "source": [
    "model_classification.summary()"
   ]
  },
  {
   "cell_type": "code",
   "execution_count": null,
   "id": "f8cdc5a6",
   "metadata": {},
   "outputs": [],
   "source": [
    "opt=tf.keras.optimizers.Adam(learning_rate=.01)\n",
    "model_classification.compile(loss=\"sparse_categorical_crossentropy\", optimizer=opt, metrics=[\"accuracy\"])\n"
   ]
  },
  {
   "cell_type": "code",
   "execution_count": null,
   "id": "01268705",
   "metadata": {},
   "outputs": [],
   "source": [
    "history=model_classification.fit(model_features(x_train).numpy(), y_train, batch_size=batch_size, validation_data=(model_features(x_test).numpy(),y_test),epochs=80)"
   ]
  },
  {
   "cell_type": "code",
   "execution_count": null,
   "id": "b28cd701",
   "metadata": {},
   "outputs": [],
   "source": []
  }
 ],
 "metadata": {
  "kernelspec": {
   "display_name": "Python 3 (ipykernel)",
   "language": "python",
   "name": "python3"
  },
  "language_info": {
   "codemirror_mode": {
    "name": "ipython",
    "version": 3
   },
   "file_extension": ".py",
   "mimetype": "text/x-python",
   "name": "python",
   "nbconvert_exporter": "python",
   "pygments_lexer": "ipython3",
   "version": "3.9.15"
  }
 },
 "nbformat": 4,
 "nbformat_minor": 5
}
