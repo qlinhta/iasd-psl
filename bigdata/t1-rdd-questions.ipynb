{
 "cells": [
  {
   "cell_type": "markdown",
   "source": [
    "# Exploring the Movielens dataset with the Spark RDD API"
   ],
   "metadata": {
    "application/vnd.databricks.v1+cell": {
     "title": "",
     "showTitle": false,
     "inputWidgets": {},
     "nuid": "9414d64e-5c0f-49ba-976b-daaf7c49daff"
    },
    "id": "C_GP8Bylovk8"
   }
  },
  {
   "cell_type": "markdown",
   "source": [
    "# Prerequisites"
   ],
   "metadata": {
    "id": "z_SfL61UXuhV"
   }
  },
  {
   "cell_type": "markdown",
   "source": [
    "## Installing Spark Environment\n",
    "Since we are not running on databricks, we will need to install Spark by ourselves, every time we run the session.   "
   ],
   "metadata": {
    "id": "pN50BgfWo0tC"
   }
  },
  {
   "cell_type": "code",
   "source": [
    "!pip install pyspark"
   ],
   "metadata": {
    "id": "WK3pc-l0osTW",
    "ExecuteTime": {
     "end_time": "2023-12-15T13:48:16.201988Z",
     "start_time": "2023-12-15T13:48:14.141535Z"
    }
   },
   "execution_count": 1,
   "outputs": [
    {
     "name": "stdout",
     "output_type": "stream",
     "text": [
      "Requirement already satisfied: pyspark in /Users/quyenlinhta/IASD/iasd/lib/python3.10/site-packages (3.5.0)\r\n",
      "Requirement already satisfied: py4j==0.10.9.7 in /Users/quyenlinhta/IASD/iasd/lib/python3.10/site-packages (from pyspark) (0.10.9.7)\r\n",
      "\r\n",
      "\u001B[1m[\u001B[0m\u001B[34;49mnotice\u001B[0m\u001B[1;39;49m]\u001B[0m\u001B[39;49m A new release of pip is available: \u001B[0m\u001B[31;49m23.2.1\u001B[0m\u001B[39;49m -> \u001B[0m\u001B[32;49m23.3.1\u001B[0m\r\n",
      "\u001B[1m[\u001B[0m\u001B[34;49mnotice\u001B[0m\u001B[1;39;49m]\u001B[0m\u001B[39;49m To update, run: \u001B[0m\u001B[32;49mpip install --upgrade pip\u001B[0m\r\n"
     ]
    }
   ]
  },
  {
   "cell_type": "code",
   "execution_count": 49,
   "outputs": [],
   "source": [
    "import matplotlib.pyplot as plt\n",
    "from prettytable import PrettyTable\n",
    "\n",
    "plt.style.use('default')\n",
    "plt.rc('text', usetex=True)\n",
    "plt.rc('font', family='sans-serif')\n",
    "plt.rc('font', size=18)\n",
    "plt.rc('axes', titlesize=12)\n",
    "plt.rc('axes', labelsize=12)\n",
    "plt.rc('xtick', labelsize=12)\n",
    "plt.rc('ytick', labelsize=12)\n",
    "plt.rc('legend', fontsize=12)\n",
    "plt.rc('lines', markersize=12)"
   ],
   "metadata": {
    "collapsed": false,
    "ExecuteTime": {
     "end_time": "2023-12-15T14:54:58.735803Z",
     "start_time": "2023-12-15T14:54:58.710409Z"
    }
   }
  },
  {
   "cell_type": "code",
   "source": [
    "import pyspark\n",
    "from pyspark.sql import SparkSession\n",
    "from pyspark import SparkContext, SparkConf"
   ],
   "metadata": {
    "id": "8ISw7IYmpKHO",
    "ExecuteTime": {
     "end_time": "2023-12-15T14:09:01.762685Z",
     "start_time": "2023-12-15T14:09:01.691869Z"
    }
   },
   "execution_count": 2,
   "outputs": []
  },
  {
   "cell_type": "code",
   "source": [
    "conf = SparkConf() \\\n",
    "    .setMaster('local[*]') \\\n",
    "    .set('spark.ui.port', '4050')"
   ],
   "metadata": {
    "id": "OlbAjWMNrB6K",
    "ExecuteTime": {
     "end_time": "2023-12-15T14:09:03.649943Z",
     "start_time": "2023-12-15T14:09:03.642554Z"
    }
   },
   "execution_count": 3,
   "outputs": []
  },
  {
   "cell_type": "code",
   "source": [
    "spark = SparkSession.builder.config(conf=conf).getOrCreate()"
   ],
   "metadata": {
    "id": "0rOOIQccqDDu",
    "ExecuteTime": {
     "end_time": "2023-12-15T14:09:06.073691Z",
     "start_time": "2023-12-15T14:09:04.110782Z"
    }
   },
   "execution_count": 4,
   "outputs": [
    {
     "name": "stderr",
     "output_type": "stream",
     "text": [
      "23/12/15 15:09:04 WARN Utils: Your hostname, Beta.local resolves to a loopback address: 127.0.0.1; using 10.113.217.51 instead (on interface en0)\n",
      "23/12/15 15:09:04 WARN Utils: Set SPARK_LOCAL_IP if you need to bind to another address\n",
      "Setting default log level to \"WARN\".\n",
      "To adjust logging level use sc.setLogLevel(newLevel). For SparkR, use setLogLevel(newLevel).\n",
      "23/12/15 15:09:05 WARN NativeCodeLoader: Unable to load native-hadoop library for your platform... using builtin-java classes where applicable\n"
     ]
    }
   ]
  },
  {
   "cell_type": "code",
   "source": [
    "spark"
   ],
   "metadata": {
    "id": "ZAr4F-tYq9bo",
    "ExecuteTime": {
     "end_time": "2023-12-15T14:09:06.534738Z",
     "start_time": "2023-12-15T14:09:06.076142Z"
    }
   },
   "execution_count": 5,
   "outputs": [
    {
     "data": {
      "text/plain": "<pyspark.sql.session.SparkSession at 0x13467c460>",
      "text/html": "\n            <div>\n                <p><b>SparkSession - in-memory</b></p>\n                \n        <div>\n            <p><b>SparkContext</b></p>\n\n            <p><a href=\"http://10.113.217.51:4050\">Spark UI</a></p>\n\n            <dl>\n              <dt>Version</dt>\n                <dd><code>v3.5.0</code></dd>\n              <dt>Master</dt>\n                <dd><code>local[*]</code></dd>\n              <dt>AppName</dt>\n                <dd><code>pyspark-shell</code></dd>\n            </dl>\n        </div>\n        \n            </div>\n        "
     },
     "execution_count": 5,
     "metadata": {},
     "output_type": "execute_result"
    }
   ]
  },
  {
   "cell_type": "markdown",
   "source": [
    "## Optional step : Enabling Spark UI through secure tunnel\n",
    "This step is useful if you want to look at Spark UI.\n",
    "First, you need to create a free ngrok account : https://dashboard.ngrok.com/login.  \n",
    "Then connect on the website and copy your AuthToken."
   ],
   "metadata": {
    "id": "9gb_bdz9qZPr"
   }
  },
  {
   "cell_type": "code",
   "source": [
    "# this step downloads ngrok, configures your AuthToken, then starts the tunnel\n",
    "!wget https://bin.equinox.io/c/4VmDzA7iaHb/ngrok-stable-linux-amd64.zip\n",
    "!unzip ngrok-stable-linux-amd64.zip\n",
    "#!./ngrok authtoken my_ngrok_auth_token_retrieved_from_website # <-------------- change this line !\n",
    "get_ipython().system_raw('./ngrok http 4050 &')"
   ],
   "metadata": {
    "id": "qFlzHSUNqiIn",
    "ExecuteTime": {
     "end_time": "2023-12-15T13:49:31.130452Z",
     "start_time": "2023-12-15T13:49:15.807028Z"
    }
   },
   "execution_count": 9,
   "outputs": [
    {
     "name": "stdout",
     "output_type": "stream",
     "text": [
      "--2023-12-15 14:49:15--  https://bin.equinox.io/c/4VmDzA7iaHb/ngrok-stable-linux-amd64.zip\r\n",
      "Resolving bin.equinox.io (bin.equinox.io)... 54.161.241.46, 52.202.168.65, 18.205.222.128, ...\r\n",
      "Connecting to bin.equinox.io (bin.equinox.io)|54.161.241.46|:443... connected.\r\n",
      "HTTP request sent, awaiting response... 200 OK\r\n",
      "Length: 13921656 (13M) [application/octet-stream]\r\n",
      "Saving to: ‘ngrok-stable-linux-amd64.zip.2’\r\n",
      "\r\n",
      "ngrok-stable-linux- 100%[===================>]  13.28M  3.46MB/s    in 4.3s    \r\n",
      "\r\n",
      "2023-12-15 14:49:20 (3.11 MB/s) - ‘ngrok-stable-linux-amd64.zip.2’ saved [13921656/13921656]\r\n",
      "\r\n",
      "Archive:  ngrok-stable-linux-amd64.zip\r\n",
      "replace ngrok? [y]es, [n]o, [A]ll, [N]one, [r]ename: ^C\r\n"
     ]
    },
    {
     "name": "stderr",
     "output_type": "stream",
     "text": [
      "zsh:1: exec format error: ./ngrok\n"
     ]
    }
   ]
  },
  {
   "cell_type": "markdown",
   "source": [
    "## Other Imports"
   ],
   "metadata": {
    "id": "h1N7rSiyqkVQ"
   }
  },
  {
   "cell_type": "code",
   "source": [
    "%matplotlib inline\n",
    "\n",
    "import urllib\n",
    "import urllib.request as req\n",
    "import zipfile\n",
    "import glob\n",
    "import matplotlib.pyplot as plt\n",
    "import numpy as np\n",
    "import pandas as pd"
   ],
   "metadata": {
    "application/vnd.databricks.v1+cell": {
     "title": "",
     "showTitle": false,
     "inputWidgets": {},
     "nuid": "5e1bd4d2-d4ba-4ce4-841a-1996d75975e2"
    },
    "id": "f7pRHH29ovlQ",
    "ExecuteTime": {
     "end_time": "2023-12-15T14:09:15.572305Z",
     "start_time": "2023-12-15T14:09:15.314412Z"
    }
   },
   "outputs": [],
   "execution_count": 6
  },
  {
   "cell_type": "markdown",
   "source": [
    "## Downloading the dataset"
   ],
   "metadata": {
    "application/vnd.databricks.v1+cell": {
     "title": "",
     "showTitle": false,
     "inputWidgets": {},
     "nuid": "298fc35c-3d55-4ef3-b871-e93f7e28ff68"
    },
    "id": "_ygX9FKGovlY"
   }
  },
  {
   "cell_type": "code",
   "source": [
    "url = 'http://files.grouplens.org/datasets/movielens/ml-20m.zip'\n",
    "filehandle, _ = urllib.request.urlretrieve(url)\n",
    "zip_file_object = zipfile.ZipFile(filehandle, 'r')\n",
    "zip_file_object.namelist()\n",
    "zip_file_object.extractall()"
   ],
   "metadata": {
    "application/vnd.databricks.v1+cell": {
     "title": "",
     "showTitle": false,
     "inputWidgets": {},
     "nuid": "78cd57f5-3c06-4e38-be21-40fb49be98fd"
    },
    "id": "UlMv6YO6ovlb",
    "ExecuteTime": {
     "end_time": "2023-12-15T13:30:11.732123Z",
     "start_time": "2023-12-15T13:28:53.541989Z"
    }
   },
   "outputs": [],
   "execution_count": 8
  },
  {
   "cell_type": "code",
   "source": [
    "!ls -R"
   ],
   "metadata": {
    "id": "ZrRve531uWIh",
    "ExecuteTime": {
     "end_time": "2023-12-15T14:09:18.135579Z",
     "start_time": "2023-12-15T14:09:17.986506Z"
    }
   },
   "execution_count": 7,
   "outputs": [
    {
     "name": "stdout",
     "output_type": "stream",
     "text": [
      "Book 8.pdf                     \u001B[31mngrok\u001B[m\u001B[m\r\n",
      "MapReduce-book-final.pdf       ngrok-stable-linux-amd64.zip\r\n",
      "TP1.ipynb                      ngrok-stable-linux-amd64.zip.1\r\n",
      "TP2.ipynb                      ngrok-stable-linux-amd64.zip.2\r\n",
      "lecture1.ipynb                 shake.txt\r\n",
      "\u001B[1m\u001B[36mml-20m\u001B[m\u001B[m                         t1-rdd-questions.ipynb\r\n",
      "\r\n",
      "./ml-20m:\r\n",
      "README.txt          genome-tags.csv     movies.csv          \u001B[1m\u001B[36msampled_ratings.csv\u001B[m\u001B[m\r\n",
      "genome-scores.csv   links.csv           ratings.csv         tags.csv\r\n",
      "\r\n",
      "./ml-20m/sampled_ratings.csv:\r\n",
      "_SUCCESS\r\n",
      "part-00000-765a0b0e-6549-47b4-84cf-25e48c7d72f4-c000.csv\r\n",
      "part-00001-765a0b0e-6549-47b4-84cf-25e48c7d72f4-c000.csv\r\n",
      "part-00002-765a0b0e-6549-47b4-84cf-25e48c7d72f4-c000.csv\r\n",
      "part-00003-765a0b0e-6549-47b4-84cf-25e48c7d72f4-c000.csv\r\n",
      "part-00004-765a0b0e-6549-47b4-84cf-25e48c7d72f4-c000.csv\r\n",
      "part-00005-765a0b0e-6549-47b4-84cf-25e48c7d72f4-c000.csv\r\n",
      "part-00006-765a0b0e-6549-47b4-84cf-25e48c7d72f4-c000.csv\r\n",
      "part-00007-765a0b0e-6549-47b4-84cf-25e48c7d72f4-c000.csv\r\n"
     ]
    }
   ]
  },
  {
   "cell_type": "code",
   "source": [
    "movies_path = \"ml-20m/movies.csv\"\n",
    "ratings_path = \"ml-20m/ratings.csv\""
   ],
   "metadata": {
    "id": "MXJe1UFUucSZ",
    "ExecuteTime": {
     "end_time": "2023-12-15T14:09:20.703964Z",
     "start_time": "2023-12-15T14:09:20.689398Z"
    }
   },
   "execution_count": 8,
   "outputs": []
  },
  {
   "cell_type": "markdown",
   "source": [
    "## Loading the data"
   ],
   "metadata": {
    "application/vnd.databricks.v1+cell": {
     "title": "",
     "showTitle": false,
     "inputWidgets": {},
     "nuid": "8a64edbd-9938-4f1b-8ffa-797577b35777"
    },
    "id": "dFpcflF_ovlh"
   }
  },
  {
   "cell_type": "code",
   "source": [],
   "metadata": {
    "id": "vA88g0X7ZsVO",
    "ExecuteTime": {
     "end_time": "2023-12-15T14:09:22.008780Z",
     "start_time": "2023-12-15T14:09:22.001989Z"
    }
   },
   "execution_count": 8,
   "outputs": []
  },
  {
   "cell_type": "markdown",
   "source": [
    "Loading data with Spark Dataframe API.  \n",
    "Loading a csv with the RDD API is not supported out of the box and is painful to implement."
   ],
   "metadata": {
    "application/vnd.databricks.v1+cell": {
     "title": "",
     "showTitle": false,
     "inputWidgets": {},
     "nuid": "77642c8b-87f0-4a60-a9bc-d32d494ca168"
    },
    "id": "cov1MXjcovln"
   }
  },
  {
   "cell_type": "code",
   "source": [
    "ratings_df = spark.read.options(header=True, inferSchema=True).csv(ratings_path)"
   ],
   "metadata": {
    "application/vnd.databricks.v1+cell": {
     "title": "",
     "showTitle": false,
     "inputWidgets": {},
     "nuid": "15ab9a82-ad82-4801-99f6-2e03ec817660"
    },
    "id": "ZcljLfzLovlo",
    "ExecuteTime": {
     "end_time": "2023-12-15T14:09:29.798132Z",
     "start_time": "2023-12-15T14:09:23.500096Z"
    }
   },
   "outputs": [
    {
     "name": "stderr",
     "output_type": "stream",
     "text": [
      "                                                                                \r"
     ]
    }
   ],
   "execution_count": 9
  },
  {
   "cell_type": "markdown",
   "source": [
    "Did you notice this created a job in the Spark UI? I thought Spark was lazy until we requested an action ?  \n",
    "Rerun the same command with inferSchema=False and compare the schema with the command df.printSchema(). Can you understand why Spark triggered a job and what it was for ?"
   ],
   "metadata": {
    "application/vnd.databricks.v1+cell": {
     "title": "",
     "showTitle": false,
     "inputWidgets": {},
     "nuid": "d7843f69-dd3a-459e-8ea4-c065585e5f89"
    },
    "id": "KqLInDF0ovlr"
   }
  },
  {
   "cell_type": "markdown",
   "source": [
    "Two jobs are created when using inferSchema option. Spark needs to scan the whole dataset in order to infer the data type of each column. Yet, if you disable this option, you will realize that there is still one short job created. So much for the laziness ! To generate the dataframe, Spark needs to know how many columns we have inside each row. That's why a first job is created. Let's keep the inferSchema option set to True for now."
   ],
   "metadata": {
    "application/vnd.databricks.v1+cell": {
     "title": "",
     "showTitle": false,
     "inputWidgets": {},
     "nuid": "81b715c5-898c-4150-9866-4f02569f3b55"
    },
    "id": "104UuWK_ovls"
   }
  },
  {
   "cell_type": "code",
   "source": [
    "ratings_df.take(1)"
   ],
   "metadata": {
    "application/vnd.databricks.v1+cell": {
     "title": "",
     "showTitle": false,
     "inputWidgets": {},
     "nuid": "0460f469-e466-42e3-a138-b106bdad3e0f"
    },
    "id": "jHyU15LUovlu",
    "ExecuteTime": {
     "end_time": "2023-12-15T14:09:29.886182Z",
     "start_time": "2023-12-15T14:09:29.765871Z"
    }
   },
   "outputs": [
    {
     "data": {
      "text/plain": "[Row(userId=1, movieId=2, rating=3.5, timestamp=1112486027)]"
     },
     "execution_count": 10,
     "metadata": {},
     "output_type": "execute_result"
    }
   ],
   "execution_count": 10
  },
  {
   "cell_type": "code",
   "source": [
    "ratings_rdd = ratings_df.rdd.map(lambda x: x.asDict())"
   ],
   "metadata": {
    "application/vnd.databricks.v1+cell": {
     "title": "",
     "showTitle": false,
     "inputWidgets": {},
     "nuid": "9465e1ea-1f6f-452a-9656-d3a04c0f4e30"
    },
    "id": "847xh8_iovlw",
    "ExecuteTime": {
     "end_time": "2023-12-15T14:09:29.961298Z",
     "start_time": "2023-12-15T14:09:29.887674Z"
    }
   },
   "outputs": [],
   "execution_count": 11
  },
  {
   "cell_type": "code",
   "source": [
    "ratings_rdd.take(3)"
   ],
   "metadata": {
    "application/vnd.databricks.v1+cell": {
     "title": "",
     "showTitle": false,
     "inputWidgets": {},
     "nuid": "8d111954-6f6e-4eb3-8039-52b89ff04644"
    },
    "id": "zM9WUoBqovly",
    "ExecuteTime": {
     "end_time": "2023-12-15T14:09:30.501486Z",
     "start_time": "2023-12-15T14:09:29.918580Z"
    }
   },
   "outputs": [
    {
     "data": {
      "text/plain": "[{'userId': 1, 'movieId': 2, 'rating': 3.5, 'timestamp': 1112486027},\n {'userId': 1, 'movieId': 29, 'rating': 3.5, 'timestamp': 1112484676},\n {'userId': 1, 'movieId': 32, 'rating': 3.5, 'timestamp': 1112484819}]"
     },
     "execution_count": 12,
     "metadata": {},
     "output_type": "execute_result"
    }
   ],
   "execution_count": 12
  },
  {
   "cell_type": "markdown",
   "source": [
    "Record type of a dataframe is the 'Row'. You can have any record type inside your RDD, we are using Python dictionaries there."
   ],
   "metadata": {
    "application/vnd.databricks.v1+cell": {
     "title": "",
     "showTitle": false,
     "inputWidgets": {},
     "nuid": "cb086b19-108c-439e-a1de-6cc488374168"
    },
    "id": "tAj1Sf5bovlz"
   }
  },
  {
   "cell_type": "code",
   "source": [
    "movies_df = spark.read.options(header=True, inferSchema=True).csv(movies_path)\n",
    "movies_rdd = movies_df.rdd.map(lambda x: x.asDict())"
   ],
   "metadata": {
    "application/vnd.databricks.v1+cell": {
     "title": "",
     "showTitle": false,
     "inputWidgets": {},
     "nuid": "f49413b8-57bc-4c07-aceb-3364a2f5c157"
    },
    "id": "fkl5khoIovl0",
    "ExecuteTime": {
     "end_time": "2023-12-15T14:09:30.727731Z",
     "start_time": "2023-12-15T14:09:30.488284Z"
    }
   },
   "outputs": [],
   "execution_count": 13
  },
  {
   "cell_type": "code",
   "source": [
    "movies_rdd.take(1)"
   ],
   "metadata": {
    "application/vnd.databricks.v1+cell": {
     "title": "",
     "showTitle": false,
     "inputWidgets": {},
     "nuid": "6207a91e-e1a7-49e3-952e-2a28364c7dec"
    },
    "id": "mh7kqiU_ovl1",
    "ExecuteTime": {
     "end_time": "2023-12-15T14:09:30.858593Z",
     "start_time": "2023-12-15T14:09:30.729045Z"
    }
   },
   "outputs": [
    {
     "data": {
      "text/plain": "[{'movieId': 1,\n  'title': 'Toy Story (1995)',\n  'genres': 'Adventure|Animation|Children|Comedy|Fantasy'}]"
     },
     "execution_count": 14,
     "metadata": {},
     "output_type": "execute_result"
    }
   ],
   "execution_count": 14
  },
  {
   "cell_type": "markdown",
   "source": [
    "The ratings RDD is a bit large (about 2 min to run a request on it on a container with two cores). You can work on a smaller version of it to develop and debug your job and then run it on the full RDD to get the result.  \n",
    "Why do we persist the small RDD and not the regular one ?"
   ],
   "metadata": {
    "application/vnd.databricks.v1+cell": {
     "title": "",
     "showTitle": false,
     "inputWidgets": {},
     "nuid": "7d4a2e2a-fcc1-4b09-8477-39344a4afafd"
    },
    "id": "fqYCQueSovl3"
   }
  },
  {
   "cell_type": "code",
   "source": [
    "ratings_small_rdd = ratings_rdd.filter(lambda x: x['userId'] < 20000).persist(pyspark.StorageLevel.DISK_ONLY)"
   ],
   "metadata": {
    "application/vnd.databricks.v1+cell": {
     "title": "",
     "showTitle": false,
     "inputWidgets": {},
     "nuid": "7315fb92-e7d1-4584-8468-73c92c905153"
    },
    "id": "zJTj7fMhovl5",
    "ExecuteTime": {
     "end_time": "2023-12-15T14:09:30.859757Z",
     "start_time": "2023-12-15T14:09:30.830533Z"
    }
   },
   "outputs": [],
   "execution_count": 15
  },
  {
   "cell_type": "markdown",
   "source": [
    "If we persist the non-filtered RDD, we will lose all the benefits of the persist function and we will need to read the whole dataset every time. Some other remarks: when doing real analysis, filtering on userId may yield biased results, because you are likely to work with oldest users subscribed to MovieLens ; persist-to-disk function benefits are lost if you stop your Spark session. If your analysis is spanning over multiple sessions, you should save your dataset to distributed file system ; persist-to-memory may be adapted if you are running an iterative algorithm, but be vary, when using persist-to-memory, memory of executors may be shared with other users and you don't have a full guarantee that some partitions won't be recomputed from scratch at some point."
   ],
   "metadata": {
    "application/vnd.databricks.v1+cell": {
     "title": "",
     "showTitle": false,
     "inputWidgets": {},
     "nuid": "68ea281e-3d3d-46f3-ab76-dcd276727241"
    },
    "id": "N6gkkQhxovl6"
   }
  },
  {
   "cell_type": "markdown",
   "source": [
    "Here we will sample dataset and save it to DFS, then read-it again."
   ],
   "metadata": {
    "application/vnd.databricks.v1+cell": {
     "title": "",
     "showTitle": false,
     "inputWidgets": {},
     "nuid": "5d7b5648-2866-4a58-9fa3-2a600fd9d65e"
    },
    "id": "L-VNdwVHovl6"
   }
  },
  {
   "cell_type": "code",
   "source": [
    "sampled_path = \"ml-20m/sampled_ratings.csv\"\n",
    "ratings_df.sample(fraction=0.1).write.format(\"csv\").save(sampled_path, mode=\"overwrite\", header=True)"
   ],
   "metadata": {
    "application/vnd.databricks.v1+cell": {
     "title": "",
     "showTitle": false,
     "inputWidgets": {},
     "nuid": "ab9176e5-9d2c-41ee-9994-c39c6f1d82fb"
    },
    "id": "5M9AtKh0ovl7",
    "ExecuteTime": {
     "end_time": "2023-12-15T14:09:34.512608Z",
     "start_time": "2023-12-15T14:09:30.841205Z"
    }
   },
   "outputs": [
    {
     "name": "stderr",
     "output_type": "stream",
     "text": [
      "                                                                                \r"
     ]
    }
   ],
   "execution_count": 16
  },
  {
   "cell_type": "code",
   "source": [
    "ratings_small_df = spark.read.options(header=True, inferSchema=True).csv(sampled_path)\n",
    "ratings_small_rdd = ratings_small_df.rdd.map(lambda x: x.asDict())"
   ],
   "metadata": {
    "application/vnd.databricks.v1+cell": {
     "title": "",
     "showTitle": false,
     "inputWidgets": {},
     "nuid": "27ef56bf-c7aa-4a6e-aa5c-e10982250646"
    },
    "id": "vL5oQbccovl7",
    "ExecuteTime": {
     "end_time": "2023-12-15T14:09:35.111530Z",
     "start_time": "2023-12-15T14:09:34.510210Z"
    }
   },
   "outputs": [],
   "execution_count": 17
  },
  {
   "cell_type": "markdown",
   "source": [
    "Use the sampled rdd when tinkering with your RDD. When you are sure about what you are doing, you can try to use the entire RDD."
   ],
   "metadata": {
    "application/vnd.databricks.v1+cell": {
     "title": "",
     "showTitle": false,
     "inputWidgets": {},
     "nuid": "5768a9ee-d8c3-4aa3-8964-c6ab17507565"
    },
    "id": "zV6_pBDeovl8"
   }
  },
  {
   "cell_type": "markdown",
   "source": [
    "# Questions"
   ],
   "metadata": {
    "id": "g0AhrCEnXjiD"
   }
  },
  {
   "cell_type": "markdown",
   "source": [
    "### Q1. How many ratings ?"
   ],
   "metadata": {
    "application/vnd.databricks.v1+cell": {
     "title": "",
     "showTitle": false,
     "inputWidgets": {},
     "nuid": "f2bbaa94-00a4-4918-9a50-0e36a2624599"
    },
    "id": "FpzYeUk_ovl9"
   }
  },
  {
   "cell_type": "code",
   "source": [
    "print(\"Number of ratings : {}\".format(ratings_small_rdd.count()))"
   ],
   "metadata": {
    "application/vnd.databricks.v1+cell": {
     "title": "",
     "showTitle": false,
     "inputWidgets": {},
     "nuid": "6e4c40d3-a322-4a38-95c6-d988d11dc14c"
    },
    "id": "qVr6u71xovl-",
    "ExecuteTime": {
     "end_time": "2023-12-15T14:09:36.798993Z",
     "start_time": "2023-12-15T14:09:35.116520Z"
    }
   },
   "outputs": [
    {
     "name": "stderr",
     "output_type": "stream",
     "text": [
      "[Stage 10:>                                                         (0 + 8) / 8]\r"
     ]
    },
    {
     "name": "stdout",
     "output_type": "stream",
     "text": [
      "Number of ratings : 1999673\n"
     ]
    },
    {
     "name": "stderr",
     "output_type": "stream",
     "text": [
      "                                                                                \r"
     ]
    }
   ],
   "execution_count": 18
  },
  {
   "cell_type": "markdown",
   "source": [
    "### Q2. How many users ?\n",
    "\n",
    "Read the documentation for the distinct function in the RDD API and find a solution with this method.\n",
    "There is another solution relying on a more generic function ? Can you solve the problem without using distinct function ?"
   ],
   "metadata": {
    "application/vnd.databricks.v1+cell": {
     "title": "",
     "showTitle": false,
     "inputWidgets": {},
     "nuid": "95d32f14-b440-4887-b7b7-b1812a30c83b"
    },
    "id": "cRyI-MwtovmA"
   }
  },
  {
   "cell_type": "code",
   "source": [
    "print(\"Number of users : {}\".format(ratings_small_rdd.map(lambda x: x['userId']).distinct().count()))"
   ],
   "metadata": {
    "application/vnd.databricks.v1+cell": {
     "title": "",
     "showTitle": false,
     "inputWidgets": {},
     "nuid": "d43cdf33-30e9-4173-8cc0-b6f737c7930a"
    },
    "id": "B_hprYtDovmA",
    "ExecuteTime": {
     "end_time": "2023-12-15T14:09:38.741051Z",
     "start_time": "2023-12-15T14:09:36.799138Z"
    }
   },
   "outputs": [
    {
     "name": "stderr",
     "output_type": "stream",
     "text": [
      "[Stage 11:>                                                         (0 + 8) / 8]\r"
     ]
    },
    {
     "name": "stdout",
     "output_type": "stream",
     "text": [
      "Number of users : 135700\n"
     ]
    },
    {
     "name": "stderr",
     "output_type": "stream",
     "text": [
      "                                                                                \r"
     ]
    }
   ],
   "execution_count": 19
  },
  {
   "cell_type": "markdown",
   "source": [
    "### Q3. How many ratings per grade ?\n",
    "\n",
    "How many users rated a movie with grade r for r in [0,5]?    \n",
    "Plot it. Do you notice something unusual ?"
   ],
   "metadata": {
    "application/vnd.databricks.v1+cell": {
     "title": "",
     "showTitle": false,
     "inputWidgets": {},
     "nuid": "bcafcfa1-8fb3-40bc-8924-407fdca54fd8"
    },
    "id": "NZLObi3eovmB"
   }
  },
  {
   "cell_type": "code",
   "source": [
    "ratings_per_grade = ratings_small_rdd.map(lambda x: (x['rating'], 1)).reduceByKey(lambda x, y: x + y).collect()\n",
    "print(ratings_per_grade)\n",
    "\n",
    "fig, ax = plt.subplots(figsize=(5, 4))\n",
    "ax.bar([x[0] for x in ratings_per_grade], [x[1] for x in ratings_per_grade], width=0.4, align='center',\n",
    "       edgecolor='black', linewidth=1.2, facecolor='white', hatch='///', alpha=0.4)\n",
    "ax.set_xlabel('Grade')\n",
    "ax.set_xticks([x[0] for x in ratings_per_grade])\n",
    "ax.set_ylabel('Number of ratings')\n",
    "ax.set_title('Number of ratings per grade')\n",
    "plt.show()"
   ],
   "metadata": {
    "application/vnd.databricks.v1+cell": {
     "title": "",
     "showTitle": false,
     "inputWidgets": {},
     "nuid": "04289a83-cda5-48b0-8ecb-7c0652ac71f3"
    },
    "id": "ZOtkk9nAovmC",
    "ExecuteTime": {
     "end_time": "2023-12-15T14:09:40.821652Z",
     "start_time": "2023-12-15T14:09:38.738886Z"
    }
   },
   "outputs": [
    {
     "name": "stderr",
     "output_type": "stream",
     "text": [
      "                                                                                \r"
     ]
    },
    {
     "name": "stdout",
     "output_type": "stream",
     "text": [
      "[(0.5, 23963), (1.0, 68162), (1.5, 27791), (2.0, 143350), (2.5, 88523), (3.0, 428952), (3.5, 220008), (4.0, 556005), (4.5, 153359), (5.0, 289560)]\n"
     ]
    },
    {
     "data": {
      "text/plain": "<Figure size 500x400 with 1 Axes>",
      "image/png": "[encoded data removed]"
     },
     "metadata": {},
     "output_type": "display_data"
    }
   ],
   "execution_count": 20
  },
  {
   "cell_type": "markdown",
   "source": [
    "### Q4. Histogram of number of ratings per user\n",
    "\n",
    "Plot the distribution of the number of movies rated per user. In other words, what is the fraction of users that rated between bins[i] and bins[i+1] movies for the following bins.  \n",
    "What is the average and median number of ratings per user?"
   ],
   "metadata": {
    "application/vnd.databricks.v1+cell": {
     "title": "",
     "showTitle": false,
     "inputWidgets": {},
     "nuid": "32d301ab-9023-40cb-a481-774c72e0cd75"
    },
    "id": "yFr4a61WovmF"
   }
  },
  {
   "cell_type": "code",
   "source": [
    "bins = np.unique(np.logspace(0, 160, base=1.05, num=50, dtype='int32'))\n",
    "bins"
   ],
   "metadata": {
    "application/vnd.databricks.v1+cell": {
     "title": "",
     "showTitle": false,
     "inputWidgets": {},
     "nuid": "0544493a-3987-4623-a0b1-34fe95905722"
    },
    "id": "2reXpkrYovmG",
    "ExecuteTime": {
     "end_time": "2023-12-15T14:09:40.826022Z",
     "start_time": "2023-12-15T14:09:40.821795Z"
    }
   },
   "outputs": [
    {
     "data": {
      "text/plain": "array([   1,    2,    3,    4,    5,    6,    7,    9,   10,   12,   15,\n         17,   20,   24,   28,   33,   39,   45,   53,   62,   73,   86,\n        101,  119,  139,  163,  191,  225,  264,  309,  363,  425,  499,\n        585,  686,  805,  944, 1107, 1298, 1523, 1786, 2094, 2456],\n      dtype=int32)"
     },
     "execution_count": 21,
     "metadata": {},
     "output_type": "execute_result"
    }
   ],
   "execution_count": 21
  },
  {
   "cell_type": "code",
   "source": [
    "ratings_per_user = ratings_small_rdd.map(lambda x: (x['userId'], 1)).reduceByKey(lambda x, y: x + y).collect()\n",
    "ratings_per_user = np.array([x[1] for x in ratings_per_user])"
   ],
   "metadata": {
    "application/vnd.databricks.v1+cell": {
     "title": "",
     "showTitle": false,
     "inputWidgets": {},
     "nuid": "1280b702-8faa-4938-a848-b4b1e8a3a37f"
    },
    "id": "LVyoDcsMovmG",
    "ExecuteTime": {
     "end_time": "2023-12-15T14:09:42.586773Z",
     "start_time": "2023-12-15T14:09:40.827425Z"
    }
   },
   "outputs": [
    {
     "name": "stderr",
     "output_type": "stream",
     "text": [
      "                                                                                \r"
     ]
    }
   ],
   "execution_count": 22
  },
  {
   "cell_type": "code",
   "execution_count": 23,
   "outputs": [
    {
     "data": {
      "text/plain": "<Figure size 500x400 with 1 Axes>",
      "image/png": "[encoded data removed]"
     },
     "metadata": {},
     "output_type": "display_data"
    }
   ],
   "source": [
    "fig, ax = plt.subplots(figsize=(5, 4))\n",
    "ax.hist(ratings_per_user, bins=bins, edgecolor='black', facecolor='white', alpha=0.8)\n",
    "ax.set_xlabel('Number of ratings')\n",
    "ax.set_ylabel('Number of users')\n",
    "ax.set_title('Number of ratings per user')\n",
    "ax.set_xscale('log')\n",
    "ax.set_yscale('log')\n",
    "plt.show()"
   ],
   "metadata": {
    "collapsed": false,
    "ExecuteTime": {
     "end_time": "2023-12-15T14:09:42.957273Z",
     "start_time": "2023-12-15T14:09:42.596101Z"
    }
   }
  },
  {
   "cell_type": "markdown",
   "source": [
    "### Q5. Most popular movies\n",
    "\n",
    "What are the 20 movies with the most ratings ?  \n",
    "We would like the answer with the movie title and not the movie id.  \n",
    "Look at the documentation of the join and top functions."
   ],
   "metadata": {
    "application/vnd.databricks.v1+cell": {
     "title": "",
     "showTitle": false,
     "inputWidgets": {},
     "nuid": "3fde2c15-5bbd-4643-83cf-f664cfed3d05"
    },
    "id": "5dJO9u8kovmK"
   }
  },
  {
   "cell_type": "code",
   "source": [
    "tables = PrettyTable(['Movie', 'Number of ratings'])\n",
    "for movie in ratings_small_rdd.map(lambda x: (x['movieId'], 1)).reduceByKey(lambda x, y: x + y).join(\n",
    "        movies_rdd.map(lambda x: (x['movieId'], x['title']))).top(20, key=lambda x: x[1][0]):\n",
    "    tables.add_row([movie[1][1], movie[1][0]])\n",
    "print(tables)"
   ],
   "metadata": {
    "application/vnd.databricks.v1+cell": {
     "title": "",
     "showTitle": false,
     "inputWidgets": {},
     "nuid": "d96df17e-ff67-43ef-8699-f3b2dd798a48"
    },
    "id": "IYxsAF59ovmK",
    "ExecuteTime": {
     "end_time": "2023-12-15T14:55:25.941742Z",
     "start_time": "2023-12-15T14:55:23.299398Z"
    }
   },
   "outputs": [
    {
     "name": "stderr",
     "output_type": "stream",
     "text": [
      "[Stage 56:>                                                         (0 + 8) / 8]\r"
     ]
    },
    {
     "name": "stdout",
     "output_type": "stream",
     "text": [
      "+-------------------------------------------------------+-------------------+\n",
      "|                         Movie                         | Number of ratings |\n",
      "+-------------------------------------------------------+-------------------+\n",
      "|                  Pulp Fiction (1994)                  |        6675       |\n",
      "|                  Forrest Gump (1994)                  |        6556       |\n",
      "|            Silence of the Lambs, The (1991)           |        6422       |\n",
      "|            Shawshank Redemption, The (1994)           |        6304       |\n",
      "|                  Jurassic Park (1993)                 |        5784       |\n",
      "|       Star Wars: Episode IV - A New Hope (1977)       |        5406       |\n",
      "|                   Braveheart (1995)                   |        5296       |\n",
      "|           Terminator 2: Judgment Day (1991)           |        5266       |\n",
      "|                   Matrix, The (1999)                  |        5147       |\n",
      "|                Schindler's List (1993)                |        5134       |\n",
      "|                  Fugitive, The (1993)                 |        4954       |\n",
      "|                    Toy Story (1995)                   |        4912       |\n",
      "|                    Apollo 13 (1995)                   |        4738       |\n",
      "|          Independence Day (a.k.a. ID4) (1996)         |        4712       |\n",
      "|   Star Wars: Episode VI - Return of the Jedi (1983)   |        4683       |\n",
      "|               Usual Suspects, The (1995)              |        4666       |\n",
      "| Star Wars: Episode V - The Empire Strikes Back (1980) |        4578       |\n",
      "|                     Batman (1989)                     |        4575       |\n",
      "|                 American Beauty (1999)                |        4545       |\n",
      "|       Twelve Monkeys (a.k.a. 12 Monkeys) (1995)       |        4432       |\n",
      "+-------------------------------------------------------+-------------------+\n"
     ]
    },
    {
     "name": "stderr",
     "output_type": "stream",
     "text": [
      "                                                                                \r"
     ]
    }
   ],
   "execution_count": 51
  },
  {
   "cell_type": "markdown",
   "source": [
    "### Q6. Writing partioned datasets\n",
    "\n",
    "The ratings dataset is available as one big csv file. It is not very convenient since we have to go through the entire file to look for ratings for a specific userId. Moreover, we cannot open only a small part of the dataset.  \n",
    "Could you write the ratings dataset into 16 files located in /<wbr>tmp/ratings/part=X/ratings.csv for X in [0, 16[ where userId in part=X are such that userId % 16 == X ?  Your function should return the list of written files with the number of ratings for each file.\n",
    "Look at the documentation of partitionBy and mapPartitionsWithIndex."
   ],
   "metadata": {
    "application/vnd.databricks.v1+cell": {
     "title": "",
     "showTitle": false,
     "inputWidgets": {},
     "nuid": "c2640dd5-bc4c-4fbe-9049-cbcac05b8e2e"
    },
    "id": "8XiTvAzKovmV"
   }
  },
  {
   "cell_type": "code",
   "source": [
    "def write_partitioned_dataset(rdd, path, num_partitions):\n",
    "    def write_partition(index, iterator, path=path):\n",
    "        with open(path + \"/part={}/ratings.csv\".format(index), 'w') as f:\n",
    "            for x in iterator:\n",
    "                f.write(\"{},{},{},{}\\n\".format(x['userId'], x['movieId'], x['rating'], x['timestamp']))\n",
    "        return [index, sum(1 for _ in iterator)]\n",
    "\n",
    "    return rdd.mapPartitionsWithIndex(write_partition).collect()\n",
    "\n",
    "\n",
    "write_partitioned_dataset(ratings_rdd, \"/tmp/ratings\", 16)"
   ],
   "metadata": {
    "application/vnd.databricks.v1+cell": {
     "title": "",
     "showTitle": false,
     "inputWidgets": {},
     "nuid": "32f3748b-9925-4997-9940-860392f7b51e"
    },
    "id": "FFMmgDy-ovmX",
    "ExecuteTime": {
     "end_time": "2023-12-15T15:42:05.264856Z",
     "start_time": "2023-12-15T15:41:50.035778Z"
    }
   },
   "outputs": [
    {
     "name": "stderr",
     "output_type": "stream",
     "text": [
      "                                                                                \r"
     ]
    },
    {
     "data": {
      "text/plain": "[0, 0, 1, 0, 2, 0, 3, 0, 4, 0, 5, 0, 6, 0, 7, 0]"
     },
     "execution_count": 86,
     "metadata": {},
     "output_type": "execute_result"
    }
   ],
   "execution_count": 86
  },
  {
   "cell_type": "code",
   "execution_count": 87,
   "outputs": [
    {
     "name": "stdout",
     "output_type": "stream",
     "text": [
      "\u001B[1m\u001B[36mpart=0\u001B[m\u001B[m \u001B[1m\u001B[36mpart=1\u001B[m\u001B[m \u001B[1m\u001B[36mpart=2\u001B[m\u001B[m \u001B[1m\u001B[36mpart=3\u001B[m\u001B[m \u001B[1m\u001B[36mpart=4\u001B[m\u001B[m \u001B[1m\u001B[36mpart=5\u001B[m\u001B[m \u001B[1m\u001B[36mpart=6\u001B[m\u001B[m \u001B[1m\u001B[36mpart=7\u001B[m\u001B[m\r\n",
      "\r\n",
      "/tmp/ratings/part=0:\r\n",
      "ratings.csv\r\n",
      "\r\n",
      "/tmp/ratings/part=1:\r\n",
      "ratings.csv\r\n",
      "\r\n",
      "/tmp/ratings/part=2:\r\n",
      "ratings.csv\r\n",
      "\r\n",
      "/tmp/ratings/part=3:\r\n",
      "ratings.csv\r\n",
      "\r\n",
      "/tmp/ratings/part=4:\r\n",
      "ratings.csv\r\n",
      "\r\n",
      "/tmp/ratings/part=5:\r\n",
      "ratings.csv\r\n",
      "\r\n",
      "/tmp/ratings/part=6:\r\n",
      "ratings.csv\r\n",
      "\r\n",
      "/tmp/ratings/part=7:\r\n",
      "ratings.csv\r\n"
     ]
    }
   ],
   "source": [
    "!ls -R /tmp/ratings"
   ],
   "metadata": {
    "collapsed": false,
    "ExecuteTime": {
     "end_time": "2023-12-15T15:42:05.388626Z",
     "start_time": "2023-12-15T15:42:05.265919Z"
    }
   }
  },
  {
   "cell_type": "code",
   "execution_count": 58,
   "outputs": [
    {
     "name": "stderr",
     "output_type": "stream",
     "text": [
      "                                                                                \r"
     ]
    },
    {
     "data": {
      "text/plain": "[{'userId': 1, 'movieId': 2, 'rating': 3.5, 'timestamp': 1112486027}]"
     },
     "execution_count": 58,
     "metadata": {},
     "output_type": "execute_result"
    }
   ],
   "source": [
    "# Display Rdd\n",
    "ratings_rdd.take(1)"
   ],
   "metadata": {
    "collapsed": false,
    "ExecuteTime": {
     "end_time": "2023-12-15T15:11:47.736073Z",
     "start_time": "2023-12-15T15:11:47.625516Z"
    }
   }
  },
  {
   "cell_type": "markdown",
   "source": [
    "### Q7. Most popular genre per year\n",
    "\n",
    "For every year since 1980, determine what is the most popular genre.  \n",
    "Look at the documentation of the flatMap function."
   ],
   "metadata": {
    "application/vnd.databricks.v1+cell": {
     "title": "",
     "showTitle": false,
     "inputWidgets": {},
     "nuid": "989bc3f3-9fdf-4867-b3bc-0161e71c2861"
    },
    "id": "vUz09o9povma"
   }
  },
  {
   "cell_type": "code",
   "execution_count": 75,
   "outputs": [],
   "source": [],
   "metadata": {
    "collapsed": false,
    "ExecuteTime": {
     "end_time": "2023-12-15T15:31:01.014955Z",
     "start_time": "2023-12-15T15:31:00.980534Z"
    }
   }
  },
  {
   "cell_type": "markdown",
   "source": [
    "### Q8.  Best movies\n",
    "\n",
    "Amongst the movies with at least 1000 ratings, what are the top 20 movies per median rating ?"
   ],
   "metadata": {
    "application/vnd.databricks.v1+cell": {
     "title": "",
     "showTitle": false,
     "inputWidgets": {},
     "nuid": "13200f13-1641-4774-bb22-00b75c9b377c"
    },
    "id": "xctn2Rn6ovmj"
   }
  },
  {
   "cell_type": "code",
   "execution_count": 48,
   "outputs": [
    {
     "name": "stderr",
     "output_type": "stream",
     "text": [
      "                                                                                \r"
     ]
    },
    {
     "name": "stdout",
     "output_type": "stream",
     "text": [
      "+------------------------------------------------------------------------------------+---------------+\n",
      "|                                       Movie                                        | Median rating |\n",
      "+------------------------------------------------------------------------------------+---------------+\n",
      "|                          Shawshank Redemption, The (1994)                          |      5.0      |\n",
      "|             And Nobody Weeps for Me (Und keiner weint mir nach) (1996)             |      5.0      |\n",
      "|                         Gate of Heavenly Peace, The (1995)                         |      5.0      |\n",
      "|                           Hippie Revolution, The (1996)                            |      5.0      |\n",
      "|                               For the Moment (1994)                                |      5.0      |\n",
      "|                              Talking About Sex (1994)                              |      5.0      |\n",
      "|                 Entertaining Angels: The Dorothy Day Story (1996)                  |      5.0      |\n",
      "|                             Santa with Muscles (1996)                              |      5.0      |\n",
      "|                              Kids of Survival (1996)                               |      5.0      |\n",
      "|                 Forbidden Christ, The (Cristo proibito, Il) (1950)                 |      5.0      |\n",
      "|                            Lay of the Land, The (1997)                             |      5.0      |\n",
      "|                                     Tar (1996)                                     |      5.0      |\n",
      "|                           Slappy and the Stinkers (1998)                           |      5.0      |\n",
      "|                                 Dancemaker (1998)                                  |      5.0      |\n",
      "|                                   Harvest (1998)                                   |      5.0      |\n",
      "|                     Amor brujo, El (Love Bewitched, A) (1986)                      |      5.0      |\n",
      "|       Ninth Configuration, The (a.k.a. Twinkle, Twinkle, Killer Kane) (1980)       |      5.0      |\n",
      "| Bizarre, Bizarre (Drôle de drame ou L'étrange aventure de Docteur Molyneux) (1937) |      5.0      |\n",
      "|                  Rowing with the Wind (Remando al viento) (1988)                   |      5.0      |\n",
      "|                        War and Peace (Jang Aur Aman) (2001)                        |      5.0      |\n",
      "+------------------------------------------------------------------------------------+---------------+\n"
     ]
    }
   ],
   "source": [
    "def median(values):\n",
    "    sorted_values = sorted(values)\n",
    "    if len(sorted_values) % 2 == 1:\n",
    "        return sorted_values[len(sorted_values) // 2]\n",
    "    else:\n",
    "        return (sorted_values[len(sorted_values) // 2 - 1] + sorted_values[len(sorted_values) // 2]) / 2\n",
    "\n",
    "\n",
    "ratings_per_movie = ratings_small_rdd.map(lambda x: (x['movieId'], x['rating'])).groupByKey().mapValues(median).filter(\n",
    "    lambda x: x[1] is not None).collect()\n",
    "ratings_per_movie = dict(ratings_per_movie)\n",
    "\n",
    "movies_rdd.map(lambda x: (x['movieId'], x['title'], x['genres'])).filter(\n",
    "    lambda x: x[0] in ratings_per_movie and ratings_per_movie[x[0]] >= 3.5).top(20,\n",
    "                                                                                key=lambda x: ratings_per_movie[x[0]])\n",
    "tables = PrettyTable(['Movie', 'Median rating'])\n",
    "for movie in movies_rdd.map(lambda x: (x['movieId'], x['title'], x['genres'])).filter(\n",
    "        lambda x: x[0] in ratings_per_movie and ratings_per_movie[x[0]] >= 3.5).top(20,\n",
    "                                                                                    key=lambda x: ratings_per_movie[\n",
    "                                                                                        x[0]]):\n",
    "    tables.add_row([movie[1], ratings_per_movie[movie[0]]])\n",
    "print(tables)"
   ],
   "metadata": {
    "collapsed": false,
    "ExecuteTime": {
     "end_time": "2023-12-15T14:54:36.968384Z",
     "start_time": "2023-12-15T14:54:34.238885Z"
    }
   }
  },
  {
   "cell_type": "markdown",
   "source": [],
   "metadata": {
    "collapsed": false
   }
  },
  {
   "cell_type": "code",
   "source": [
    "# When you're done with a session you've created, stop it\n",
    "# spark.stop()"
   ],
   "metadata": {
    "application/vnd.databricks.v1+cell": {
     "title": "",
     "showTitle": false,
     "inputWidgets": {},
     "nuid": "00572075-6e9d-49a5-9c54-9f40e2999e6a"
    },
    "id": "vyr3hrSGovmm"
   },
   "outputs": [],
   "execution_count": null
  }
 ],
 "metadata": {
  "language_info": {
   "mimetype": "text/x-python",
   "name": "python",
   "pygments_lexer": "ipython3",
   "codemirror_mode": {
    "name": "ipython",
    "version": 3
   },
   "version": "3.6.15",
   "nbconvert_exporter": "python",
   "file_extension": ".py"
  },
  "name": "rdd",
  "notebookId": 869522255783514,
  "kernelspec": {
   "display_name": "Python 3",
   "language": "python",
   "name": "python3"
  },
  "application/vnd.databricks.v1+notebook": {
   "notebookName": "rdd solution",
   "dashboards": [],
   "notebookMetadata": {
    "pythonIndentUnit": 4
   },
   "language": "python",
   "widgets": {},
   "notebookOrigID": 78139586907239
  },
  "colab": {
   "provenance": [],
   "toc_visible": true
  }
 },
 "nbformat": 4,
 "nbformat_minor": 0
}
