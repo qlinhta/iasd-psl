{
 "cells": [
  {
   "cell_type": "markdown",
   "source": [
    "# Exploring the Movielens dataset with the Spark RDD API"
   ],
   "metadata": {
    "application/vnd.databricks.v1+cell": {
     "title": "",
     "showTitle": false,
     "inputWidgets": {},
     "nuid": "9414d64e-5c0f-49ba-976b-daaf7c49daff"
    },
    "id": "C_GP8Bylovk8"
   }
  },
  {
   "cell_type": "markdown",
   "source": [
    "# Prerequisites"
   ],
   "metadata": {
    "id": "z_SfL61UXuhV"
   }
  },
  {
   "cell_type": "markdown",
   "source": [
    "## Installing Spark Environment\n",
    "Since we are not running on databricks, we will need to install Spark by ourselves, every time we run the session.   "
   ],
   "metadata": {
    "id": "pN50BgfWo0tC"
   }
  },
  {
   "cell_type": "code",
   "source": [
    "!pip install pyspark"
   ],
   "metadata": {
    "id": "WK3pc-l0osTW",
    "ExecuteTime": {
     "end_time": "2023-12-21T16:15:31.790575Z",
     "start_time": "2023-12-21T16:15:29.399896Z"
    }
   },
   "execution_count": 1,
   "outputs": [
    {
     "name": "stdout",
     "output_type": "stream",
     "text": [
      "Requirement already satisfied: pyspark in /Users/quyenlinhta/IASD/iasd/lib/python3.10/site-packages (3.5.0)\r\n",
      "Requirement already satisfied: py4j==0.10.9.7 in /Users/quyenlinhta/IASD/iasd/lib/python3.10/site-packages (from pyspark) (0.10.9.7)\r\n",
      "\r\n",
      "\u001B[1m[\u001B[0m\u001B[34;49mnotice\u001B[0m\u001B[1;39;49m]\u001B[0m\u001B[39;49m A new release of pip is available: \u001B[0m\u001B[31;49m23.2.1\u001B[0m\u001B[39;49m -> \u001B[0m\u001B[32;49m23.3.1\u001B[0m\r\n",
      "\u001B[1m[\u001B[0m\u001B[34;49mnotice\u001B[0m\u001B[1;39;49m]\u001B[0m\u001B[39;49m To update, run: \u001B[0m\u001B[32;49mpip install --upgrade pip\u001B[0m\r\n"
     ]
    }
   ]
  },
  {
   "cell_type": "code",
   "execution_count": 2,
   "outputs": [],
   "source": [
    "import matplotlib.pyplot as plt\n",
    "from prettytable import PrettyTable\n",
    "\n",
    "plt.style.use('default')\n",
    "plt.rc('text', usetex=True)\n",
    "plt.rc('font', family='sans-serif')\n",
    "plt.rc('font', size=18)\n",
    "plt.rc('axes', titlesize=12)\n",
    "plt.rc('axes', labelsize=12)\n",
    "plt.rc('xtick', labelsize=12)\n",
    "plt.rc('ytick', labelsize=12)\n",
    "plt.rc('legend', fontsize=12)\n",
    "plt.rc('lines', markersize=12)"
   ],
   "metadata": {
    "collapsed": false,
    "ExecuteTime": {
     "end_time": "2023-12-21T16:15:33.036773Z",
     "start_time": "2023-12-21T16:15:31.790151Z"
    }
   }
  },
  {
   "cell_type": "code",
   "source": [
    "import pyspark\n",
    "from pyspark.sql import SparkSession\n",
    "from pyspark import SparkContext, SparkConf"
   ],
   "metadata": {
    "id": "8ISw7IYmpKHO",
    "ExecuteTime": {
     "end_time": "2023-12-21T16:15:33.087269Z",
     "start_time": "2023-12-21T16:15:33.037543Z"
    }
   },
   "execution_count": 3,
   "outputs": []
  },
  {
   "cell_type": "code",
   "source": [
    "conf = SparkConf() \\\n",
    "    .setMaster('local[*]') \\\n",
    "    .set('spark.ui.port', '4050')"
   ],
   "metadata": {
    "id": "OlbAjWMNrB6K",
    "ExecuteTime": {
     "end_time": "2023-12-21T16:15:33.126650Z",
     "start_time": "2023-12-21T16:15:33.088359Z"
    }
   },
   "execution_count": 4,
   "outputs": []
  },
  {
   "cell_type": "code",
   "source": [
    "spark = SparkSession.builder.config(conf=conf).getOrCreate()"
   ],
   "metadata": {
    "id": "0rOOIQccqDDu",
    "ExecuteTime": {
     "end_time": "2023-12-21T16:15:36.148043Z",
     "start_time": "2023-12-21T16:15:33.092215Z"
    }
   },
   "execution_count": 5,
   "outputs": [
    {
     "name": "stderr",
     "output_type": "stream",
     "text": [
      "23/12/21 17:15:34 WARN Utils: Your hostname, Beta.local resolves to a loopback address: 127.0.0.1; using 192.168.0.30 instead (on interface en0)\n",
      "23/12/21 17:15:34 WARN Utils: Set SPARK_LOCAL_IP if you need to bind to another address\n",
      "Setting default log level to \"WARN\".\n",
      "To adjust logging level use sc.setLogLevel(newLevel). For SparkR, use setLogLevel(newLevel).\n",
      "23/12/21 17:15:35 WARN NativeCodeLoader: Unable to load native-hadoop library for your platform... using builtin-java classes where applicable\n"
     ]
    }
   ]
  },
  {
   "cell_type": "code",
   "source": [
    "spark"
   ],
   "metadata": {
    "id": "ZAr4F-tYq9bo",
    "ExecuteTime": {
     "end_time": "2023-12-21T16:15:36.677276Z",
     "start_time": "2023-12-21T16:15:36.146097Z"
    }
   },
   "execution_count": 6,
   "outputs": [
    {
     "data": {
      "text/plain": "<pyspark.sql.session.SparkSession at 0x10c53d6c0>",
      "text/html": "\n            <div>\n                <p><b>SparkSession - in-memory</b></p>\n                \n        <div>\n            <p><b>SparkContext</b></p>\n\n            <p><a href=\"http://192.168.0.30:4050\">Spark UI</a></p>\n\n            <dl>\n              <dt>Version</dt>\n                <dd><code>v3.5.0</code></dd>\n              <dt>Master</dt>\n                <dd><code>local[*]</code></dd>\n              <dt>AppName</dt>\n                <dd><code>pyspark-shell</code></dd>\n            </dl>\n        </div>\n        \n            </div>\n        "
     },
     "execution_count": 6,
     "metadata": {},
     "output_type": "execute_result"
    }
   ]
  },
  {
   "cell_type": "markdown",
   "source": [
    "## Optional step : Enabling Spark UI through secure tunnel\n",
    "This step is useful if you want to look at Spark UI.\n",
    "First, you need to create a free ngrok account : https://dashboard.ngrok.com/login.  \n",
    "Then connect on the website and copy your AuthToken."
   ],
   "metadata": {
    "id": "9gb_bdz9qZPr"
   }
  },
  {
   "cell_type": "code",
   "source": [
    "# this step downloads ngrok, configures your AuthToken, then starts the tunnel\n",
    "!wget https://bin.equinox.io/c/4VmDzA7iaHb/ngrok-stable-linux-amd64.zip\n",
    "!unzip ngrok-stable-linux-amd64.zip\n",
    "#!./ngrok authtoken my_ngrok_auth_token_retrieved_from_website # <-------------- change this line !\n",
    "get_ipython().system_raw('./ngrok http 4050 &')"
   ],
   "metadata": {
    "id": "qFlzHSUNqiIn",
    "ExecuteTime": {
     "end_time": "2023-12-21T16:22:57.944043Z",
     "start_time": "2023-12-21T16:22:54.617764Z"
    }
   },
   "execution_count": 13,
   "outputs": [
    {
     "name": "stdout",
     "output_type": "stream",
     "text": [
      "--2023-12-21 17:22:54--  https://bin.equinox.io/c/4VmDzA7iaHb/ngrok-stable-linux-amd64.zip\r\n",
      "Resolving bin.equinox.io (bin.equinox.io)... 54.161.241.46, 52.202.168.65, 18.205.222.128, ...\r\n",
      "Connecting to bin.equinox.io (bin.equinox.io)|54.161.241.46|:443... connected.\r\n",
      "HTTP request sent, awaiting response... 200 OK\r\n",
      "Length: 13921656 (13M) [application/octet-stream]\r\n",
      "Saving to: ‘ngrok-stable-linux-amd64.zip’\r\n",
      "\r\n",
      "ngrok-stable-linux- 100%[===================>]  13.28M  5.98MB/s    in 2.2s    \r\n",
      "\r\n",
      "2023-12-21 17:22:57 (5.98 MB/s) - ‘ngrok-stable-linux-amd64.zip’ saved [13921656/13921656]\r\n",
      "\r\n",
      "Archive:  ngrok-stable-linux-amd64.zip\r\n",
      "  inflating: ngrok                   \r\n"
     ]
    },
    {
     "name": "stderr",
     "output_type": "stream",
     "text": [
      "zsh:1: exec format error: ./ngrok\n"
     ]
    }
   ]
  },
  {
   "cell_type": "markdown",
   "source": [
    "## Other Imports"
   ],
   "metadata": {
    "id": "h1N7rSiyqkVQ"
   }
  },
  {
   "cell_type": "code",
   "source": [
    "%matplotlib inline\n",
    "\n",
    "import urllib\n",
    "import urllib.request as req\n",
    "import zipfile\n",
    "import glob\n",
    "import matplotlib.pyplot as plt\n",
    "import numpy as np\n",
    "import pandas as pd"
   ],
   "metadata": {
    "application/vnd.databricks.v1+cell": {
     "title": "",
     "showTitle": false,
     "inputWidgets": {},
     "nuid": "5e1bd4d2-d4ba-4ce4-841a-1996d75975e2"
    },
    "id": "f7pRHH29ovlQ",
    "ExecuteTime": {
     "end_time": "2023-12-21T16:23:01.882351Z",
     "start_time": "2023-12-21T16:23:01.869746Z"
    }
   },
   "outputs": [],
   "execution_count": 14
  },
  {
   "cell_type": "markdown",
   "source": [
    "## Downloading the dataset"
   ],
   "metadata": {
    "application/vnd.databricks.v1+cell": {
     "title": "",
     "showTitle": false,
     "inputWidgets": {},
     "nuid": "298fc35c-3d55-4ef3-b871-e93f7e28ff68"
    },
    "id": "_ygX9FKGovlY"
   }
  },
  {
   "cell_type": "code",
   "source": [
    "url = 'http://files.grouplens.org/datasets/movielens/ml-20m.zip'\n",
    "filehandle, _ = urllib.request.urlretrieve(url)\n",
    "zip_file_object = zipfile.ZipFile(filehandle, 'r')\n",
    "zip_file_object.namelist()\n",
    "zip_file_object.extractall()"
   ],
   "metadata": {
    "application/vnd.databricks.v1+cell": {
     "title": "",
     "showTitle": false,
     "inputWidgets": {},
     "nuid": "78cd57f5-3c06-4e38-be21-40fb49be98fd"
    },
    "id": "UlMv6YO6ovlb",
    "ExecuteTime": {
     "end_time": "2023-12-21T16:23:55.355263Z",
     "start_time": "2023-12-21T16:23:07.121013Z"
    }
   },
   "outputs": [],
   "execution_count": 15
  },
  {
   "cell_type": "code",
   "source": [
    "!ls -R"
   ],
   "metadata": {
    "id": "ZrRve531uWIh",
    "ExecuteTime": {
     "end_time": "2023-12-21T16:15:38.564874Z",
     "start_time": "2023-12-21T16:15:37.878905Z"
    }
   },
   "execution_count": 10,
   "outputs": [
    {
     "name": "stdout",
     "output_type": "stream",
     "text": [
      "Book 8.pdf                   lecture1.ipynb\r\n",
      "MapReduce-book-final.pdf     t1-rdd-questions.ipynb\r\n",
      "TP1.ipynb                    t2-dataframe-questions.ipynb\r\n",
      "TP2.ipynb\r\n"
     ]
    }
   ]
  },
  {
   "cell_type": "code",
   "source": [
    "movies_path = \"ml-20m/movies.csv\"\n",
    "ratings_path = \"ml-20m/ratings.csv\""
   ],
   "metadata": {
    "id": "MXJe1UFUucSZ",
    "ExecuteTime": {
     "end_time": "2023-12-21T16:15:38.566155Z",
     "start_time": "2023-12-21T16:15:38.020547Z"
    }
   },
   "execution_count": 11,
   "outputs": []
  },
  {
   "cell_type": "markdown",
   "source": [
    "## Loading the data"
   ],
   "metadata": {
    "application/vnd.databricks.v1+cell": {
     "title": "",
     "showTitle": false,
     "inputWidgets": {},
     "nuid": "8a64edbd-9938-4f1b-8ffa-797577b35777"
    },
    "id": "dFpcflF_ovlh"
   }
  },
  {
   "cell_type": "markdown",
   "source": [
    "Loading data with Spark Dataframe API.  \n",
    "Loading a csv with the RDD API is not supported out of the box and is painful to implement."
   ],
   "metadata": {
    "application/vnd.databricks.v1+cell": {
     "title": "",
     "showTitle": false,
     "inputWidgets": {},
     "nuid": "77642c8b-87f0-4a60-a9bc-d32d494ca168"
    },
    "id": "cov1MXjcovln"
   }
  },
  {
   "cell_type": "code",
   "source": [
    "ratings_df = spark.read.options(header=True, inferSchema=True).csv(ratings_path)"
   ],
   "metadata": {
    "application/vnd.databricks.v1+cell": {
     "title": "",
     "showTitle": false,
     "inputWidgets": {},
     "nuid": "15ab9a82-ad82-4801-99f6-2e03ec817660"
    },
    "id": "ZcljLfzLovlo",
    "ExecuteTime": {
     "end_time": "2023-12-21T17:35:43.049023Z",
     "start_time": "2023-12-21T17:35:35.489501Z"
    }
   },
   "outputs": [
    {
     "name": "stderr",
     "output_type": "stream",
     "text": [
      "                                                                                \r"
     ]
    }
   ],
   "execution_count": 16
  },
  {
   "cell_type": "markdown",
   "source": [
    "Did you notice this created a job in the Spark UI? I thought Spark was lazy until we requested an action ?  \n",
    "Rerun the same command with inferSchema=False and compare the schema with the command df.printSchema(). Can you understand why Spark triggered a job and what it was for ?"
   ],
   "metadata": {
    "application/vnd.databricks.v1+cell": {
     "title": "",
     "showTitle": false,
     "inputWidgets": {},
     "nuid": "d7843f69-dd3a-459e-8ea4-c065585e5f89"
    },
    "id": "KqLInDF0ovlr"
   }
  },
  {
   "cell_type": "markdown",
   "source": [
    "Two jobs are created when using inferSchema option. Spark needs to scan the whole dataset in order to infer the data type of each column. Yet, if you disable this option, you will realize that there is still one short job created. So much for the laziness ! To generate the dataframe, Spark needs to know how many columns we have inside each row. That's why a first job is created. Let's keep the inferSchema option set to True for now."
   ],
   "metadata": {
    "application/vnd.databricks.v1+cell": {
     "title": "",
     "showTitle": false,
     "inputWidgets": {},
     "nuid": "81b715c5-898c-4150-9866-4f02569f3b55"
    },
    "id": "104UuWK_ovls"
   }
  },
  {
   "cell_type": "code",
   "source": [
    "ratings_df.take(1)"
   ],
   "metadata": {
    "application/vnd.databricks.v1+cell": {
     "title": "",
     "showTitle": false,
     "inputWidgets": {},
     "nuid": "0460f469-e466-42e3-a138-b106bdad3e0f"
    },
    "id": "jHyU15LUovlu",
    "ExecuteTime": {
     "end_time": "2023-12-21T17:35:45.612829Z",
     "start_time": "2023-12-21T17:35:45.498281Z"
    }
   },
   "outputs": [
    {
     "data": {
      "text/plain": "[Row(userId=1, movieId=2, rating=3.5, timestamp=1112486027)]"
     },
     "execution_count": 17,
     "metadata": {},
     "output_type": "execute_result"
    }
   ],
   "execution_count": 17
  },
  {
   "cell_type": "code",
   "source": [
    "ratings_rdd = ratings_df.rdd.map(lambda x: x.asDict())"
   ],
   "metadata": {
    "application/vnd.databricks.v1+cell": {
     "title": "",
     "showTitle": false,
     "inputWidgets": {},
     "nuid": "9465e1ea-1f6f-452a-9656-d3a04c0f4e30"
    },
    "id": "847xh8_iovlw",
    "ExecuteTime": {
     "end_time": "2023-12-21T17:35:46.150804Z",
     "start_time": "2023-12-21T17:35:46.124237Z"
    }
   },
   "outputs": [],
   "execution_count": 18
  },
  {
   "cell_type": "code",
   "source": [
    "ratings_rdd.take(3)"
   ],
   "metadata": {
    "application/vnd.databricks.v1+cell": {
     "title": "",
     "showTitle": false,
     "inputWidgets": {},
     "nuid": "8d111954-6f6e-4eb3-8039-52b89ff04644"
    },
    "id": "zM9WUoBqovly",
    "ExecuteTime": {
     "end_time": "2023-12-21T17:35:47.521515Z",
     "start_time": "2023-12-21T17:35:46.814309Z"
    }
   },
   "outputs": [
    {
     "data": {
      "text/plain": "[{'userId': 1, 'movieId': 2, 'rating': 3.5, 'timestamp': 1112486027},\n {'userId': 1, 'movieId': 29, 'rating': 3.5, 'timestamp': 1112484676},\n {'userId': 1, 'movieId': 32, 'rating': 3.5, 'timestamp': 1112484819}]"
     },
     "execution_count": 19,
     "metadata": {},
     "output_type": "execute_result"
    }
   ],
   "execution_count": 19
  },
  {
   "cell_type": "markdown",
   "source": [
    "Record type of a dataframe is the 'Row'. You can have any record type inside your RDD, we are using Python dictionaries there."
   ],
   "metadata": {
    "application/vnd.databricks.v1+cell": {
     "title": "",
     "showTitle": false,
     "inputWidgets": {},
     "nuid": "cb086b19-108c-439e-a1de-6cc488374168"
    },
    "id": "tAj1Sf5bovlz"
   }
  },
  {
   "cell_type": "code",
   "source": [
    "movies_df = spark.read.options(header=True, inferSchema=True).csv(movies_path)\n",
    "movies_rdd = movies_df.rdd.map(lambda x: x.asDict())"
   ],
   "metadata": {
    "application/vnd.databricks.v1+cell": {
     "title": "",
     "showTitle": false,
     "inputWidgets": {},
     "nuid": "f49413b8-57bc-4c07-aceb-3364a2f5c157"
    },
    "id": "fkl5khoIovl0",
    "ExecuteTime": {
     "end_time": "2023-12-21T17:35:49.266946Z",
     "start_time": "2023-12-21T17:35:49.019340Z"
    }
   },
   "outputs": [],
   "execution_count": 20
  },
  {
   "cell_type": "code",
   "source": [
    "movies_rdd.take(1)"
   ],
   "metadata": {
    "application/vnd.databricks.v1+cell": {
     "title": "",
     "showTitle": false,
     "inputWidgets": {},
     "nuid": "6207a91e-e1a7-49e3-952e-2a28364c7dec"
    },
    "id": "mh7kqiU_ovl1",
    "ExecuteTime": {
     "end_time": "2023-12-21T17:35:49.921154Z",
     "start_time": "2023-12-21T17:35:49.772944Z"
    }
   },
   "outputs": [
    {
     "data": {
      "text/plain": "[{'movieId': 1,\n  'title': 'Toy Story (1995)',\n  'genres': 'Adventure|Animation|Children|Comedy|Fantasy'}]"
     },
     "execution_count": 21,
     "metadata": {},
     "output_type": "execute_result"
    }
   ],
   "execution_count": 21
  },
  {
   "cell_type": "markdown",
   "source": [
    "The ratings RDD is a bit large (about 2 min to run a request on it on a container with two cores). You can work on a smaller version of it to develop and debug your job and then run it on the full RDD to get the result.  \n",
    "Why do we persist the small RDD and not the regular one ?"
   ],
   "metadata": {
    "application/vnd.databricks.v1+cell": {
     "title": "",
     "showTitle": false,
     "inputWidgets": {},
     "nuid": "7d4a2e2a-fcc1-4b09-8477-39344a4afafd"
    },
    "id": "fqYCQueSovl3"
   }
  },
  {
   "cell_type": "code",
   "source": [
    "ratings_small_rdd = ratings_rdd.filter(lambda x: x['userId'] < 20000).persist(pyspark.StorageLevel.DISK_ONLY)"
   ],
   "metadata": {
    "application/vnd.databricks.v1+cell": {
     "title": "",
     "showTitle": false,
     "inputWidgets": {},
     "nuid": "7315fb92-e7d1-4584-8468-73c92c905153"
    },
    "id": "zJTj7fMhovl5",
    "ExecuteTime": {
     "end_time": "2023-12-21T17:35:50.712125Z",
     "start_time": "2023-12-21T17:35:50.698700Z"
    }
   },
   "outputs": [],
   "execution_count": 22
  },
  {
   "cell_type": "markdown",
   "source": [
    "If we persist the non-filtered RDD, we will lose all the benefits of the persist function and we will need to read the whole dataset every time. Some other remarks: when doing real analysis, filtering on userId may yield biased results, because you are likely to work with oldest users subscribed to MovieLens ; persist-to-disk function benefits are lost if you stop your Spark session. If your analysis is spanning over multiple sessions, you should save your dataset to distributed file system ; persist-to-memory may be adapted if you are running an iterative algorithm, but be vary, when using persist-to-memory, memory of executors may be shared with other users and you don't have a full guarantee that some partitions won't be recomputed from scratch at some point."
   ],
   "metadata": {
    "application/vnd.databricks.v1+cell": {
     "title": "",
     "showTitle": false,
     "inputWidgets": {},
     "nuid": "68ea281e-3d3d-46f3-ab76-dcd276727241"
    },
    "id": "N6gkkQhxovl6"
   }
  },
  {
   "cell_type": "markdown",
   "source": [
    "Here we will sample dataset and save it to DFS, then read-it again."
   ],
   "metadata": {
    "application/vnd.databricks.v1+cell": {
     "title": "",
     "showTitle": false,
     "inputWidgets": {},
     "nuid": "5d7b5648-2866-4a58-9fa3-2a600fd9d65e"
    },
    "id": "L-VNdwVHovl6"
   }
  },
  {
   "cell_type": "code",
   "source": [
    "sampled_path = \"ml-20m/sampled_ratings.csv\"\n",
    "ratings_df.sample(fraction=0.1).write.format(\"csv\").save(sampled_path, mode=\"overwrite\", header=True)"
   ],
   "metadata": {
    "application/vnd.databricks.v1+cell": {
     "title": "",
     "showTitle": false,
     "inputWidgets": {},
     "nuid": "ab9176e5-9d2c-41ee-9994-c39c6f1d82fb"
    },
    "id": "5M9AtKh0ovl7",
    "ExecuteTime": {
     "end_time": "2023-12-21T17:35:56.694280Z",
     "start_time": "2023-12-21T17:35:52.130151Z"
    }
   },
   "outputs": [
    {
     "name": "stderr",
     "output_type": "stream",
     "text": [
      "                                                                                \r"
     ]
    }
   ],
   "execution_count": 23
  },
  {
   "cell_type": "code",
   "source": [
    "ratings_small_df = spark.read.options(header=True, inferSchema=True).csv(sampled_path)\n",
    "ratings_small_rdd = ratings_small_df.rdd.map(lambda x: x.asDict())"
   ],
   "metadata": {
    "application/vnd.databricks.v1+cell": {
     "title": "",
     "showTitle": false,
     "inputWidgets": {},
     "nuid": "27ef56bf-c7aa-4a6e-aa5c-e10982250646"
    },
    "id": "vL5oQbccovl7",
    "ExecuteTime": {
     "end_time": "2023-12-21T17:35:57.389224Z",
     "start_time": "2023-12-21T17:35:56.696670Z"
    }
   },
   "outputs": [],
   "execution_count": 24
  },
  {
   "cell_type": "markdown",
   "source": [
    "Use the sampled rdd when tinkering with your RDD. When you are sure about what you are doing, you can try to use the entire RDD."
   ],
   "metadata": {
    "application/vnd.databricks.v1+cell": {
     "title": "",
     "showTitle": false,
     "inputWidgets": {},
     "nuid": "5768a9ee-d8c3-4aa3-8964-c6ab17507565"
    },
    "id": "zV6_pBDeovl8"
   }
  },
  {
   "cell_type": "markdown",
   "source": [
    "# Questions"
   ],
   "metadata": {
    "id": "g0AhrCEnXjiD"
   }
  },
  {
   "cell_type": "markdown",
   "source": [
    "### Q1. How many ratings ?"
   ],
   "metadata": {
    "application/vnd.databricks.v1+cell": {
     "title": "",
     "showTitle": false,
     "inputWidgets": {},
     "nuid": "f2bbaa94-00a4-4918-9a50-0e36a2624599"
    },
    "id": "FpzYeUk_ovl9"
   }
  },
  {
   "cell_type": "code",
   "source": [
    "print(\"Number of ratings : {}\".format(ratings_small_rdd.count()))"
   ],
   "metadata": {
    "application/vnd.databricks.v1+cell": {
     "title": "",
     "showTitle": false,
     "inputWidgets": {},
     "nuid": "6e4c40d3-a322-4a38-95c6-d988d11dc14c"
    },
    "id": "qVr6u71xovl-",
    "ExecuteTime": {
     "end_time": "2023-12-21T17:35:59.816970Z",
     "start_time": "2023-12-21T17:35:57.390935Z"
    }
   },
   "outputs": [
    {
     "name": "stderr",
     "output_type": "stream",
     "text": [
      "[Stage 10:>                                                         (0 + 8) / 8]\r"
     ]
    },
    {
     "name": "stdout",
     "output_type": "stream",
     "text": [
      "Number of ratings : 2001435\n"
     ]
    },
    {
     "name": "stderr",
     "output_type": "stream",
     "text": [
      "                                                                                \r"
     ]
    }
   ],
   "execution_count": 25
  },
  {
   "cell_type": "markdown",
   "source": [
    "### Q2. How many users ?\n",
    "\n",
    "Read the documentation for the distinct function in the RDD API and find a solution with this method.\n",
    "There is another solution relying on a more generic function ? Can you solve the problem without using distinct function ?"
   ],
   "metadata": {
    "application/vnd.databricks.v1+cell": {
     "title": "",
     "showTitle": false,
     "inputWidgets": {},
     "nuid": "95d32f14-b440-4887-b7b7-b1812a30c83b"
    },
    "id": "cRyI-MwtovmA"
   }
  },
  {
   "cell_type": "code",
   "source": [
    "print(\"Number of users : {}\".format(ratings_small_rdd.map(lambda x: x['userId']).distinct().count()))"
   ],
   "metadata": {
    "application/vnd.databricks.v1+cell": {
     "title": "",
     "showTitle": false,
     "inputWidgets": {},
     "nuid": "d43cdf33-30e9-4173-8cc0-b6f737c7930a"
    },
    "id": "B_hprYtDovmA",
    "ExecuteTime": {
     "end_time": "2023-12-21T17:36:02.585802Z",
     "start_time": "2023-12-21T17:35:59.798257Z"
    }
   },
   "outputs": [
    {
     "name": "stderr",
     "output_type": "stream",
     "text": [
      "[Stage 11:>                                                         (0 + 8) / 8]\r"
     ]
    },
    {
     "name": "stdout",
     "output_type": "stream",
     "text": [
      "Number of users : 135663\n"
     ]
    },
    {
     "name": "stderr",
     "output_type": "stream",
     "text": [
      "                                                                                \r"
     ]
    }
   ],
   "execution_count": 26
  },
  {
   "cell_type": "markdown",
   "source": [
    "### Q3. How many ratings per grade ?\n",
    "\n",
    "How many users rated a movie with grade r for r in [0,5]?    \n",
    "Plot it. Do you notice something unusual ?"
   ],
   "metadata": {
    "application/vnd.databricks.v1+cell": {
     "title": "",
     "showTitle": false,
     "inputWidgets": {},
     "nuid": "bcafcfa1-8fb3-40bc-8924-407fdca54fd8"
    },
    "id": "NZLObi3eovmB"
   }
  },
  {
   "cell_type": "code",
   "source": [
    "ratings_per_grade = ratings_small_rdd.map(lambda x: (x['rating'], 1)).reduceByKey(lambda x, y: x + y).collect()\n",
    "print(ratings_per_grade)\n",
    "\n",
    "fig, ax = plt.subplots(figsize=(5, 4))\n",
    "ax.bar([x[0] for x in ratings_per_grade], [x[1] for x in ratings_per_grade], width=0.4, align='center',\n",
    "       edgecolor='black', linewidth=1.2, facecolor='white', hatch='///', alpha=0.4)\n",
    "ax.set_xlabel('Grade')\n",
    "ax.set_xticks([x[0] for x in ratings_per_grade])\n",
    "ax.set_ylabel('Number of ratings')\n",
    "ax.set_title('Number of ratings per grade')\n",
    "plt.show()"
   ],
   "metadata": {
    "application/vnd.databricks.v1+cell": {
     "title": "",
     "showTitle": false,
     "inputWidgets": {},
     "nuid": "04289a83-cda5-48b0-8ecb-7c0652ac71f3"
    },
    "id": "ZOtkk9nAovmC",
    "ExecuteTime": {
     "end_time": "2023-12-21T17:36:05.858449Z",
     "start_time": "2023-12-21T17:36:02.590680Z"
    }
   },
   "outputs": [
    {
     "name": "stderr",
     "output_type": "stream",
     "text": [
      "                                                                                \r"
     ]
    },
    {
     "name": "stdout",
     "output_type": "stream",
     "text": [
      "[(0.5, 24009), (1.5, 27915), (1.0, 67934), (2.0, 143303), (2.5, 88323), (3.0, 429082), (3.5, 220371), (4.0, 557014), (4.5, 153539), (5.0, 289945)]\n"
     ]
    },
    {
     "data": {
      "text/plain": "<Figure size 500x400 with 1 Axes>",
      "image/png": "[encoded data removed]"
     },
     "metadata": {},
     "output_type": "display_data"
    }
   ],
   "execution_count": 27
  },
  {
   "cell_type": "markdown",
   "source": [
    "### Q4. Histogram of number of ratings per user\n",
    "\n",
    "Plot the distribution of the number of movies rated per user. In other words, what is the fraction of users that rated between bins[i] and bins[i+1] movies for the following bins.  \n",
    "What is the average and median number of ratings per user?"
   ],
   "metadata": {
    "application/vnd.databricks.v1+cell": {
     "title": "",
     "showTitle": false,
     "inputWidgets": {},
     "nuid": "32d301ab-9023-40cb-a481-774c72e0cd75"
    },
    "id": "yFr4a61WovmF"
   }
  },
  {
   "cell_type": "code",
   "source": [
    "bins = np.unique(np.logspace(0, 160, base=1.05, num=50, dtype='int32'))\n",
    "bins"
   ],
   "metadata": {
    "application/vnd.databricks.v1+cell": {
     "title": "",
     "showTitle": false,
     "inputWidgets": {},
     "nuid": "0544493a-3987-4623-a0b1-34fe95905722"
    },
    "id": "2reXpkrYovmG",
    "ExecuteTime": {
     "end_time": "2023-12-21T17:36:05.868574Z",
     "start_time": "2023-12-21T17:36:05.856916Z"
    }
   },
   "outputs": [
    {
     "data": {
      "text/plain": "array([   1,    2,    3,    4,    5,    6,    7,    9,   10,   12,   15,\n         17,   20,   24,   28,   33,   39,   45,   53,   62,   73,   86,\n        101,  119,  139,  163,  191,  225,  264,  309,  363,  425,  499,\n        585,  686,  805,  944, 1107, 1298, 1523, 1786, 2094, 2456],\n      dtype=int32)"
     },
     "execution_count": 28,
     "metadata": {},
     "output_type": "execute_result"
    }
   ],
   "execution_count": 28
  },
  {
   "cell_type": "code",
   "source": [
    "ratings_per_user = ratings_small_rdd.map(lambda x: (x['userId'], 1)).reduceByKey(lambda x, y: x + y).collect()\n",
    "ratings_per_user = np.array([x[1] for x in ratings_per_user])"
   ],
   "metadata": {
    "application/vnd.databricks.v1+cell": {
     "title": "",
     "showTitle": false,
     "inputWidgets": {},
     "nuid": "1280b702-8faa-4938-a848-b4b1e8a3a37f"
    },
    "id": "LVyoDcsMovmG",
    "ExecuteTime": {
     "end_time": "2023-12-21T17:36:09.117920Z",
     "start_time": "2023-12-21T17:36:05.864305Z"
    }
   },
   "outputs": [
    {
     "name": "stderr",
     "output_type": "stream",
     "text": [
      "                                                                                \r"
     ]
    }
   ],
   "execution_count": 29
  },
  {
   "cell_type": "code",
   "execution_count": 30,
   "outputs": [
    {
     "data": {
      "text/plain": "<Figure size 500x400 with 1 Axes>",
      "image/png": "[encoded data removed]"
     },
     "metadata": {},
     "output_type": "display_data"
    }
   ],
   "source": [
    "fig, ax = plt.subplots(figsize=(5, 4))\n",
    "ax.hist(ratings_per_user, bins=bins, edgecolor='black', facecolor='white', alpha=0.8)\n",
    "ax.set_xlabel('Number of ratings')\n",
    "ax.set_ylabel('Number of users')\n",
    "ax.set_title('Number of ratings per user')\n",
    "ax.set_xscale('log')\n",
    "ax.set_yscale('log')\n",
    "plt.show()"
   ],
   "metadata": {
    "collapsed": false,
    "ExecuteTime": {
     "end_time": "2023-12-21T17:36:09.632686Z",
     "start_time": "2023-12-21T17:36:09.117750Z"
    }
   }
  },
  {
   "cell_type": "markdown",
   "source": [
    "### Q5. Most popular movies\n",
    "\n",
    "What are the 20 movies with the most ratings ?  \n",
    "We would like the answer with the movie title and not the movie id.  \n",
    "Look at the documentation of the join and top functions."
   ],
   "metadata": {
    "application/vnd.databricks.v1+cell": {
     "title": "",
     "showTitle": false,
     "inputWidgets": {},
     "nuid": "3fde2c15-5bbd-4643-83cf-f664cfed3d05"
    },
    "id": "5dJO9u8kovmK"
   }
  },
  {
   "cell_type": "code",
   "source": [
    "tables = PrettyTable(['Movie', 'Number of ratings'])\n",
    "for movie in ratings_small_rdd.map(lambda x: (x['movieId'], 1)).reduceByKey(lambda x, y: x + y).join(\n",
    "        movies_rdd.map(lambda x: (x['movieId'], x['title']))).top(20, key=lambda x: x[1][0]):\n",
    "    tables.add_row([movie[1][1], movie[1][0]])\n",
    "print(tables)"
   ],
   "metadata": {
    "application/vnd.databricks.v1+cell": {
     "title": "",
     "showTitle": false,
     "inputWidgets": {},
     "nuid": "d96df17e-ff67-43ef-8699-f3b2dd798a48"
    },
    "id": "IYxsAF59ovmK",
    "ExecuteTime": {
     "end_time": "2023-12-21T17:36:13.392819Z",
     "start_time": "2023-12-21T17:36:09.609824Z"
    }
   },
   "outputs": [
    {
     "name": "stderr",
     "output_type": "stream",
     "text": [
      "[Stage 18:===================================================>      (8 + 1) / 9]\r"
     ]
    },
    {
     "name": "stdout",
     "output_type": "stream",
     "text": [
      "+-------------------------------------------------------+-------------------+\n",
      "|                         Movie                         | Number of ratings |\n",
      "+-------------------------------------------------------+-------------------+\n",
      "|                  Pulp Fiction (1994)                  |        6714       |\n",
      "|                  Forrest Gump (1994)                  |        6575       |\n",
      "|            Shawshank Redemption, The (1994)           |        6527       |\n",
      "|            Silence of the Lambs, The (1991)           |        6210       |\n",
      "|                  Jurassic Park (1993)                 |        6084       |\n",
      "|       Star Wars: Episode IV - A New Hope (1977)       |        5662       |\n",
      "|                   Braveheart (1995)                   |        5415       |\n",
      "|           Terminator 2: Judgment Day (1991)           |        5261       |\n",
      "|                   Matrix, The (1999)                  |        5120       |\n",
      "|                Schindler's List (1993)                |        5004       |\n",
      "|                    Toy Story (1995)                   |        4914       |\n",
      "|                  Fugitive, The (1993)                 |        4906       |\n",
      "|          Independence Day (a.k.a. ID4) (1996)         |        4727       |\n",
      "|   Star Wars: Episode VI - Return of the Jedi (1983)   |        4694       |\n",
      "|                    Apollo 13 (1995)                   |        4663       |\n",
      "|                     Batman (1989)                     |        4643       |\n",
      "| Star Wars: Episode V - The Empire Strikes Back (1980) |        4527       |\n",
      "|               Usual Suspects, The (1995)              |        4491       |\n",
      "|                 American Beauty (1999)                |        4427       |\n",
      "|       Twelve Monkeys (a.k.a. 12 Monkeys) (1995)       |        4385       |\n",
      "+-------------------------------------------------------+-------------------+\n"
     ]
    },
    {
     "name": "stderr",
     "output_type": "stream",
     "text": [
      "                                                                                \r"
     ]
    }
   ],
   "execution_count": 31
  },
  {
   "cell_type": "markdown",
   "source": [
    "### Q6. Writing partioned datasets\n",
    "\n",
    "The ratings dataset is available as one big csv file. It is not very convenient since we have to go through the entire file to look for ratings for a specific userId. Moreover, we cannot open only a small part of the dataset.  \n",
    "Could you write the ratings dataset into 16 files located in /<wbr>tmp/ratings/part=X/ratings.csv for X in [0, 16[ where userId in part=X are such that userId % 16 == X ?  Your function should return the list of written files with the number of ratings for each file.\n",
    "Look at the documentation of partitionBy and mapPartitionsWithIndex."
   ],
   "metadata": {
    "application/vnd.databricks.v1+cell": {
     "title": "",
     "showTitle": false,
     "inputWidgets": {},
     "nuid": "c2640dd5-bc4c-4fbe-9049-cbcac05b8e2e"
    },
    "id": "8XiTvAzKovmV"
   }
  },
  {
   "cell_type": "code",
   "source": [
    "def write_partition(index, iterator):\n",
    "    import os\n",
    "    os.makedirs(f'/tmp/ratings/part={index}', exist_ok=True)\n",
    "    file_path = f'/tmp/ratings/part={index}/ratings.csv'\n",
    "    count = 0\n",
    "    with open(file_path, 'w') as f:\n",
    "        for _, record in iterator:\n",
    "            f.write(f\"{record['userId']},{record['movieId']},{record['rating']},{record['timestamp']}\\n\")\n",
    "            count += 1\n",
    "    return [(file_path, count)]\n",
    "\n",
    "\n",
    "key_value_rdd = ratings_rdd.keyBy(lambda x: x['userId'])\n",
    "partitioned_rdd = key_value_rdd.partitionBy(16, lambda x: x % 16)\n",
    "file_info = partitioned_rdd.mapPartitionsWithIndex(write_partition).collect()\n",
    "\n",
    "for file_path, count in file_info:\n",
    "    print(f'File: {file_path}, Number of ratings: {count}')"
   ],
   "metadata": {
    "application/vnd.databricks.v1+cell": {
     "title": "",
     "showTitle": false,
     "inputWidgets": {},
     "nuid": "32f3748b-9925-4997-9940-860392f7b51e"
    },
    "id": "FFMmgDy-ovmX",
    "ExecuteTime": {
     "end_time": "2023-12-21T17:42:25.041520Z",
     "start_time": "2023-12-21T17:41:47.977745Z"
    }
   },
   "outputs": [
    {
     "name": "stderr",
     "output_type": "stream",
     "text": [
      "[Stage 28:============================>                            (8 + 8) / 16]\r"
     ]
    },
    {
     "name": "stdout",
     "output_type": "stream",
     "text": [
      "File: /tmp/ratings/part=0/ratings.csv, Number of ratings: 1226643\n",
      "File: /tmp/ratings/part=1/ratings.csv, Number of ratings: 1251582\n",
      "File: /tmp/ratings/part=2/ratings.csv, Number of ratings: 1290082\n",
      "File: /tmp/ratings/part=3/ratings.csv, Number of ratings: 1261058\n",
      "File: /tmp/ratings/part=4/ratings.csv, Number of ratings: 1244472\n",
      "File: /tmp/ratings/part=5/ratings.csv, Number of ratings: 1287006\n",
      "File: /tmp/ratings/part=6/ratings.csv, Number of ratings: 1252140\n",
      "File: /tmp/ratings/part=7/ratings.csv, Number of ratings: 1235974\n",
      "File: /tmp/ratings/part=8/ratings.csv, Number of ratings: 1258352\n",
      "File: /tmp/ratings/part=9/ratings.csv, Number of ratings: 1199879\n",
      "File: /tmp/ratings/part=10/ratings.csv, Number of ratings: 1245584\n",
      "File: /tmp/ratings/part=11/ratings.csv, Number of ratings: 1245817\n",
      "File: /tmp/ratings/part=12/ratings.csv, Number of ratings: 1244863\n",
      "File: /tmp/ratings/part=13/ratings.csv, Number of ratings: 1280600\n",
      "File: /tmp/ratings/part=14/ratings.csv, Number of ratings: 1219400\n",
      "File: /tmp/ratings/part=15/ratings.csv, Number of ratings: 1256811\n"
     ]
    },
    {
     "name": "stderr",
     "output_type": "stream",
     "text": [
      "                                                                                \r"
     ]
    }
   ],
   "execution_count": 36
  },
  {
   "cell_type": "code",
   "execution_count": 37,
   "outputs": [
    {
     "name": "stdout",
     "output_type": "stream",
     "text": [
      "\u001B[1m\u001B[36mpart=0\u001B[m\u001B[m  \u001B[1m\u001B[36mpart=10\u001B[m\u001B[m \u001B[1m\u001B[36mpart=12\u001B[m\u001B[m \u001B[1m\u001B[36mpart=14\u001B[m\u001B[m \u001B[1m\u001B[36mpart=2\u001B[m\u001B[m  \u001B[1m\u001B[36mpart=4\u001B[m\u001B[m  \u001B[1m\u001B[36mpart=6\u001B[m\u001B[m  \u001B[1m\u001B[36mpart=8\u001B[m\u001B[m\r\n",
      "\u001B[1m\u001B[36mpart=1\u001B[m\u001B[m  \u001B[1m\u001B[36mpart=11\u001B[m\u001B[m \u001B[1m\u001B[36mpart=13\u001B[m\u001B[m \u001B[1m\u001B[36mpart=15\u001B[m\u001B[m \u001B[1m\u001B[36mpart=3\u001B[m\u001B[m  \u001B[1m\u001B[36mpart=5\u001B[m\u001B[m  \u001B[1m\u001B[36mpart=7\u001B[m\u001B[m  \u001B[1m\u001B[36mpart=9\u001B[m\u001B[m\r\n",
      "\r\n",
      "/tmp/ratings/part=0:\r\n",
      "ratings.csv\r\n",
      "\r\n",
      "/tmp/ratings/part=1:\r\n",
      "ratings.csv\r\n",
      "\r\n",
      "/tmp/ratings/part=10:\r\n",
      "ratings.csv\r\n",
      "\r\n",
      "/tmp/ratings/part=11:\r\n",
      "ratings.csv\r\n",
      "\r\n",
      "/tmp/ratings/part=12:\r\n",
      "ratings.csv\r\n",
      "\r\n",
      "/tmp/ratings/part=13:\r\n",
      "ratings.csv\r\n",
      "\r\n",
      "/tmp/ratings/part=14:\r\n",
      "ratings.csv\r\n",
      "\r\n",
      "/tmp/ratings/part=15:\r\n",
      "ratings.csv\r\n",
      "\r\n",
      "/tmp/ratings/part=2:\r\n",
      "ratings.csv\r\n",
      "\r\n",
      "/tmp/ratings/part=3:\r\n",
      "ratings.csv\r\n",
      "\r\n",
      "/tmp/ratings/part=4:\r\n",
      "ratings.csv\r\n",
      "\r\n",
      "/tmp/ratings/part=5:\r\n",
      "ratings.csv\r\n",
      "\r\n",
      "/tmp/ratings/part=6:\r\n",
      "ratings.csv\r\n",
      "\r\n",
      "/tmp/ratings/part=7:\r\n",
      "ratings.csv\r\n",
      "\r\n",
      "/tmp/ratings/part=8:\r\n",
      "ratings.csv\r\n",
      "\r\n",
      "/tmp/ratings/part=9:\r\n",
      "ratings.csv\r\n"
     ]
    }
   ],
   "source": [
    "!ls -R /tmp/ratings"
   ],
   "metadata": {
    "collapsed": false,
    "ExecuteTime": {
     "end_time": "2023-12-21T17:42:35.590188Z",
     "start_time": "2023-12-21T17:42:35.416197Z"
    }
   }
  },
  {
   "cell_type": "code",
   "execution_count": 38,
   "outputs": [
    {
     "data": {
      "text/plain": "[{'userId': 1, 'movieId': 2, 'rating': 3.5, 'timestamp': 1112486027}]"
     },
     "execution_count": 38,
     "metadata": {},
     "output_type": "execute_result"
    }
   ],
   "source": [
    "# Display Rdd\n",
    "ratings_rdd.take(1)"
   ],
   "metadata": {
    "collapsed": false,
    "ExecuteTime": {
     "end_time": "2023-12-21T17:42:41.755952Z",
     "start_time": "2023-12-21T17:42:41.641829Z"
    }
   }
  },
  {
   "cell_type": "markdown",
   "source": [
    "### Q7. Most popular genre per year\n",
    "\n",
    "For every year since 1980, determine what is the most popular genre.  \n",
    "Look at the documentation of the flatMap function."
   ],
   "metadata": {
    "application/vnd.databricks.v1+cell": {
     "title": "",
     "showTitle": false,
     "inputWidgets": {},
     "nuid": "989bc3f3-9fdf-4867-b3bc-0161e71c2861"
    },
    "id": "vUz09o9povma"
   }
  },
  {
   "cell_type": "code",
   "execution_count": 39,
   "outputs": [
    {
     "name": "stderr",
     "output_type": "stream",
     "text": [
      "[Stage 31:===================================================>      (8 + 1) / 9]\r"
     ]
    },
    {
     "name": "stdout",
     "output_type": "stream",
     "text": [
      "Year: 1980, Most Popular Genre: Action, Number of Ratings: 8026\n",
      "Year: 1981, Most Popular Genre: Action, Number of Ratings: 10135\n",
      "Year: 1982, Most Popular Genre: Drama, Number of Ratings: 11043\n",
      "Year: 1983, Most Popular Genre: Comedy, Number of Ratings: 7784\n",
      "Year: 1984, Most Popular Genre: Comedy, Number of Ratings: 14092\n",
      "Year: 1985, Most Popular Genre: Comedy, Number of Ratings: 16999\n",
      "Year: 1986, Most Popular Genre: Comedy, Number of Ratings: 13946\n",
      "Year: 1987, Most Popular Genre: Comedy, Number of Ratings: 18662\n",
      "Year: 1988, Most Popular Genre: Comedy, Number of Ratings: 18403\n",
      "Year: 1989, Most Popular Genre: Comedy, Number of Ratings: 20474\n",
      "Year: 1990, Most Popular Genre: Drama, Number of Ratings: 21224\n",
      "Year: 1991, Most Popular Genre: Drama, Number of Ratings: 12452\n",
      "Year: 1992, Most Popular Genre: Comedy, Number of Ratings: 20814\n",
      "Year: 1993, Most Popular Genre: Drama, Number of Ratings: 42543\n",
      "Year: 1994, Most Popular Genre: Drama, Number of Ratings: 68204\n",
      "Year: 1995, Most Popular Genre: Drama, Number of Ratings: 61906\n",
      "Year: 1996, Most Popular Genre: Comedy, Number of Ratings: 49602\n",
      "Year: 1997, Most Popular Genre: Drama, Number of Ratings: 42511\n",
      "Year: 1998, Most Popular Genre: Drama, Number of Ratings: 40822\n",
      "Year: 1999, Most Popular Genre: Comedy, Number of Ratings: 46389\n",
      "Year: 2000, Most Popular Genre: Drama, Number of Ratings: 40925\n",
      "Year: 2001, Most Popular Genre: Drama, Number of Ratings: 29786\n",
      "Year: 2002, Most Popular Genre: Drama, Number of Ratings: 26947\n",
      "Year: 2003, Most Popular Genre: Action, Number of Ratings: 22338\n",
      "Year: 2004, Most Popular Genre: Drama, Number of Ratings: 26186\n",
      "Year: 2005, Most Popular Genre: Drama, Number of Ratings: 14364\n",
      "Year: 2006, Most Popular Genre: Drama, Number of Ratings: 21499\n",
      "Year: 2007, Most Popular Genre: Drama, Number of Ratings: 16586\n",
      "Year: 2008, Most Popular Genre: Drama, Number of Ratings: 13775\n",
      "Year: 2009, Most Popular Genre: Drama, Number of Ratings: 10995\n",
      "Year: 2010, Most Popular Genre: Drama, Number of Ratings: 7965\n",
      "Year: 2011, Most Popular Genre: Drama, Number of Ratings: 6088\n",
      "Year: 2012, Most Popular Genre: Action, Number of Ratings: 4442\n",
      "Year: 2013, Most Popular Genre: Drama, Number of Ratings: 3004\n",
      "Year: 2014, Most Popular Genre: Action, Number of Ratings: 1799\n",
      "Year: 2015, Most Popular Genre: Action, Number of Ratings: 49\n"
     ]
    },
    {
     "name": "stderr",
     "output_type": "stream",
     "text": [
      "                                                                                \r"
     ]
    }
   ],
   "source": [
    "import re\n",
    "\n",
    "\n",
    "def extract_year(title):\n",
    "    match = re.search(r'\\((\\d{4})\\)', title)\n",
    "    return int(match.group(1)) if match else None\n",
    "\n",
    "\n",
    "movies_with_year = movies_rdd.map(lambda x: (x['movieId'], (extract_year(x['title']), x['genres'].split('|'))))\n",
    "ratings_with_movies = ratings_small_rdd.map(lambda x: (x['movieId'], x['userId'])).join(movies_with_year)\n",
    "\n",
    "genre_year = ratings_with_movies.flatMap(\n",
    "    lambda x: [((x[1][1][0], genre), 1) for genre in x[1][1][1] if x[1][1][0] and x[1][1][0] >= 1980]\n",
    ")\n",
    "\n",
    "genre_year_count = genre_year.reduceByKey(lambda x, y: x + y)\n",
    "\n",
    "most_popular_genre_per_year = genre_year_count.map(lambda x: (x[0][0], (x[0][1], x[1]))).reduceByKey(\n",
    "    lambda x, y: x if x[1] > y[1] else y\n",
    ").collect()\n",
    "\n",
    "for year, genre_info in sorted(most_popular_genre_per_year):\n",
    "    print(f'Year: {year}, Most Popular Genre: {genre_info[0]}, Number of Ratings: {genre_info[1]}')"
   ],
   "metadata": {
    "collapsed": false,
    "ExecuteTime": {
     "end_time": "2023-12-21T17:43:23.062919Z",
     "start_time": "2023-12-21T17:43:17.005202Z"
    }
   }
  },
  {
   "cell_type": "markdown",
   "source": [
    "### Q8.  Best movies\n",
    "\n",
    "Amongst the movies with at least 1000 ratings, what are the top 20 movies per median rating ?"
   ],
   "metadata": {
    "application/vnd.databricks.v1+cell": {
     "title": "",
     "showTitle": false,
     "inputWidgets": {},
     "nuid": "13200f13-1641-4774-bb22-00b75c9b377c"
    },
    "id": "xctn2Rn6ovmj"
   }
  },
  {
   "cell_type": "code",
   "execution_count": 40,
   "outputs": [
    {
     "name": "stderr",
     "output_type": "stream",
     "text": [
      "                                                                                \r"
     ]
    },
    {
     "name": "stdout",
     "output_type": "stream",
     "text": [
      "+----------------------------------------------------------------------------------+---------------+\n",
      "|                                      Movie                                       | Median rating |\n",
      "+----------------------------------------------------------------------------------+---------------+\n",
      "|                     From the Journals of Jean Seberg (1995)                      |      5.0      |\n",
      "|                         Shawshank Redemption, The (1994)                         |      5.0      |\n",
      "|                                War Stories (1995)                                |      5.0      |\n",
      "|                             Crude Oasis, The (1995)                              |      5.0      |\n",
      "|                                1-900 (06) (1994)                                 |      5.0      |\n",
      "|                                Snowriders (1996)                                 |      5.0      |\n",
      "|                     I Can't Sleep (J'ai pas sommeil) (1994)                      |      5.0      |\n",
      "|                             Hearts and Minds (1996)                              |      5.0      |\n",
      "|                             War at Home, The (1996)                              |      5.0      |\n",
      "|                              Next Step, The (1997)                               |      5.0      |\n",
      "|                              For Ever Mozart (1996)                              |      5.0      |\n",
      "|                             Arguing the World (1998)                             |      5.0      |\n",
      "|                         Letter From Death Row, A (1998)                          |      5.0      |\n",
      "|               Children of Paradise (Les enfants du paradis) (1945)               |      5.0      |\n",
      "|                               Smashing Time (1967)                               |      5.0      |\n",
      "|                             One Little Indian (1973)                             |      5.0      |\n",
      "|                               Pandaemonium (2000)                                |      5.0      |\n",
      "| Who's Singin' Over There? (a.k.a. Who Sings Over There) (Ko to tamo peva) (1980) |      5.0      |\n",
      "|                  Life is to Whistle (Vida es silbar, La) (1998)                  |      5.0      |\n",
      "|                               Spooky House (2000)                                |      5.0      |\n",
      "+----------------------------------------------------------------------------------+---------------+\n"
     ]
    }
   ],
   "source": [
    "def median(values):\n",
    "    sorted_values = sorted(values)\n",
    "    if len(sorted_values) % 2 == 1:\n",
    "        return sorted_values[len(sorted_values) // 2]\n",
    "    else:\n",
    "        return (sorted_values[len(sorted_values) // 2 - 1] + sorted_values[len(sorted_values) // 2]) / 2\n",
    "\n",
    "\n",
    "ratings_per_movie = ratings_small_rdd.map(lambda x: (x['movieId'], x['rating'])).groupByKey().mapValues(median).filter(\n",
    "    lambda x: x[1] is not None).collect()\n",
    "ratings_per_movie = dict(ratings_per_movie)\n",
    "\n",
    "movies_rdd.map(lambda x: (x['movieId'], x['title'], x['genres'])).filter(\n",
    "    lambda x: x[0] in ratings_per_movie and ratings_per_movie[x[0]] >= 3.5).top(20,\n",
    "                                                                                key=lambda x: ratings_per_movie[x[0]])\n",
    "tables = PrettyTable(['Movie', 'Median rating'])\n",
    "for movie in movies_rdd.map(lambda x: (x['movieId'], x['title'], x['genres'])).filter(\n",
    "        lambda x: x[0] in ratings_per_movie and ratings_per_movie[x[0]] >= 3.5).top(20,\n",
    "                                                                                    key=lambda x: ratings_per_movie[\n",
    "                                                                                        x[0]]):\n",
    "    tables.add_row([movie[1], ratings_per_movie[movie[0]]])\n",
    "print(tables)"
   ],
   "metadata": {
    "collapsed": false,
    "ExecuteTime": {
     "end_time": "2023-12-21T17:43:34.127222Z",
     "start_time": "2023-12-21T17:43:30.453230Z"
    }
   }
  },
  {
   "cell_type": "markdown",
   "source": [],
   "metadata": {
    "collapsed": false
   }
  },
  {
   "cell_type": "code",
   "source": [
    "# When you're done with a session you've created, stop it\n",
    "# spark.stop()"
   ],
   "metadata": {
    "application/vnd.databricks.v1+cell": {
     "title": "",
     "showTitle": false,
     "inputWidgets": {},
     "nuid": "00572075-6e9d-49a5-9c54-9f40e2999e6a"
    },
    "id": "vyr3hrSGovmm",
    "ExecuteTime": {
     "start_time": "2023-12-21T16:15:38.685538Z"
    }
   },
   "outputs": [],
   "execution_count": null
  }
 ],
 "metadata": {
  "language_info": {
   "mimetype": "text/x-python",
   "name": "python",
   "pygments_lexer": "ipython3",
   "codemirror_mode": {
    "name": "ipython",
    "version": 3
   },
   "version": "3.6.15",
   "nbconvert_exporter": "python",
   "file_extension": ".py"
  },
  "name": "rdd",
  "notebookId": 869522255783514,
  "kernelspec": {
   "display_name": "Python 3",
   "language": "python",
   "name": "python3"
  },
  "application/vnd.databricks.v1+notebook": {
   "notebookName": "rdd solution",
   "dashboards": [],
   "notebookMetadata": {
    "pythonIndentUnit": 4
   },
   "language": "python",
   "widgets": {},
   "notebookOrigID": 78139586907239
  },
  "colab": {
   "provenance": [],
   "toc_visible": true
  }
 },
 "nbformat": 4,
 "nbformat_minor": 0
}
