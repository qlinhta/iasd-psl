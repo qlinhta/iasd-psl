{
 "cells": [
  {
   "cell_type": "markdown",
   "source": [
    "# Tutorial 2: Exploring the Movielens dataset with Spark Dataframes and Spark SQL\n",
    "\n",
    "In this session we will use the movielens dataset to introduce the essential features of the Spark DataFrame API and showcase its power. This tutorial also has important links to the Spark documentation and/or other relevant material."
   ],
   "metadata": {
    "application/vnd.databricks.v1+cell": {
     "title": "",
     "showTitle": false,
     "inputWidgets": {},
     "nuid": "170fa17c-ff25-4d87-a019-11d3d9fcd796"
    },
    "id": "9okae-NnxhR0"
   }
  },
  {
   "cell_type": "markdown",
   "source": [
    "# Prerequisites"
   ],
   "metadata": {
    "id": "aHGnavRyEEDQ"
   }
  },
  {
   "cell_type": "markdown",
   "source": [
    "## Install Spark Environment\n",
    "Since we are not running on databricks, we will need to install Spark by ourselves, every time we run the session.  "
   ],
   "metadata": {
    "id": "q392zOmQyG1T"
   }
  },
  {
   "cell_type": "code",
   "source": [
    "!pip install pyspark"
   ],
   "metadata": {
    "id": "FwjlINKayMry",
    "ExecuteTime": {
     "end_time": "2023-12-19T14:46:22.111764Z",
     "start_time": "2023-12-19T14:46:20.976440Z"
    }
   },
   "execution_count": 36,
   "outputs": [
    {
     "name": "stdout",
     "output_type": "stream",
     "text": [
      "Requirement already satisfied: pyspark in /Users/quyenlinhta/IASD/iasd/lib/python3.10/site-packages (3.5.0)\r\n",
      "Requirement already satisfied: py4j==0.10.9.7 in /Users/quyenlinhta/IASD/iasd/lib/python3.10/site-packages (from pyspark) (0.10.9.7)\r\n",
      "\r\n",
      "\u001B[1m[\u001B[0m\u001B[34;49mnotice\u001B[0m\u001B[1;39;49m]\u001B[0m\u001B[39;49m A new release of pip is available: \u001B[0m\u001B[31;49m23.2.1\u001B[0m\u001B[39;49m -> \u001B[0m\u001B[32;49m23.3.1\u001B[0m\r\n",
      "\u001B[1m[\u001B[0m\u001B[34;49mnotice\u001B[0m\u001B[1;39;49m]\u001B[0m\u001B[39;49m To update, run: \u001B[0m\u001B[32;49mpip install --upgrade pip\u001B[0m\r\n"
     ]
    }
   ]
  },
  {
   "cell_type": "code",
   "source": [
    "import pyspark\n",
    "from pyspark.sql import SparkSession\n",
    "from pyspark import SparkContext, SparkConf\n",
    "\n",
    "conf = SparkConf().set('spark.ui.port', '4050')\n",
    "sc = SparkContext(conf=conf)\n",
    "spark = SparkSession.builder.master('local[*]').getOrCreate()"
   ],
   "metadata": {
    "id": "Fx0O5nUByWKr",
    "ExecuteTime": {
     "end_time": "2023-12-19T14:46:22.154438Z",
     "start_time": "2023-12-19T14:46:22.113949Z"
    }
   },
   "execution_count": 37,
   "outputs": [
    {
     "ename": "ValueError",
     "evalue": "Cannot run multiple SparkContexts at once; existing SparkContext(app=pyspark-shell, master=local[*]) created by __init__ at /var/folders/sm/lw2bbffs15g5l3r4ldd25hc00000gn/T/ipykernel_12410/2894928871.py:6 ",
     "output_type": "error",
     "traceback": [
      "\u001B[0;31m---------------------------------------------------------------------------\u001B[0m",
      "\u001B[0;31mValueError\u001B[0m                                Traceback (most recent call last)",
      "Cell \u001B[0;32mIn[37], line 6\u001B[0m\n\u001B[1;32m      3\u001B[0m \u001B[38;5;28;01mfrom\u001B[39;00m \u001B[38;5;21;01mpyspark\u001B[39;00m \u001B[38;5;28;01mimport\u001B[39;00m SparkContext, SparkConf\n\u001B[1;32m      5\u001B[0m conf \u001B[38;5;241m=\u001B[39m SparkConf()\u001B[38;5;241m.\u001B[39mset(\u001B[38;5;124m'\u001B[39m\u001B[38;5;124mspark.ui.port\u001B[39m\u001B[38;5;124m'\u001B[39m, \u001B[38;5;124m'\u001B[39m\u001B[38;5;124m4050\u001B[39m\u001B[38;5;124m'\u001B[39m)\n\u001B[0;32m----> 6\u001B[0m sc \u001B[38;5;241m=\u001B[39m \u001B[43mSparkContext\u001B[49m\u001B[43m(\u001B[49m\u001B[43mconf\u001B[49m\u001B[38;5;241;43m=\u001B[39;49m\u001B[43mconf\u001B[49m\u001B[43m)\u001B[49m\n\u001B[1;32m      7\u001B[0m spark \u001B[38;5;241m=\u001B[39m SparkSession\u001B[38;5;241m.\u001B[39mbuilder\u001B[38;5;241m.\u001B[39mmaster(\u001B[38;5;124m'\u001B[39m\u001B[38;5;124mlocal[*]\u001B[39m\u001B[38;5;124m'\u001B[39m)\u001B[38;5;241m.\u001B[39mgetOrCreate()\n",
      "File \u001B[0;32m~/IASD/iasd/lib/python3.10/site-packages/pyspark/context.py:201\u001B[0m, in \u001B[0;36mSparkContext.__init__\u001B[0;34m(self, master, appName, sparkHome, pyFiles, environment, batchSize, serializer, conf, gateway, jsc, profiler_cls, udf_profiler_cls, memory_profiler_cls)\u001B[0m\n\u001B[1;32m    195\u001B[0m \u001B[38;5;28;01mif\u001B[39;00m gateway \u001B[38;5;129;01mis\u001B[39;00m \u001B[38;5;129;01mnot\u001B[39;00m \u001B[38;5;28;01mNone\u001B[39;00m \u001B[38;5;129;01mand\u001B[39;00m gateway\u001B[38;5;241m.\u001B[39mgateway_parameters\u001B[38;5;241m.\u001B[39mauth_token \u001B[38;5;129;01mis\u001B[39;00m \u001B[38;5;28;01mNone\u001B[39;00m:\n\u001B[1;32m    196\u001B[0m     \u001B[38;5;28;01mraise\u001B[39;00m \u001B[38;5;167;01mValueError\u001B[39;00m(\n\u001B[1;32m    197\u001B[0m         \u001B[38;5;124m\"\u001B[39m\u001B[38;5;124mYou are trying to pass an insecure Py4j gateway to Spark. This\u001B[39m\u001B[38;5;124m\"\u001B[39m\n\u001B[1;32m    198\u001B[0m         \u001B[38;5;124m\"\u001B[39m\u001B[38;5;124m is not allowed as it is a security risk.\u001B[39m\u001B[38;5;124m\"\u001B[39m\n\u001B[1;32m    199\u001B[0m     )\n\u001B[0;32m--> 201\u001B[0m \u001B[43mSparkContext\u001B[49m\u001B[38;5;241;43m.\u001B[39;49m\u001B[43m_ensure_initialized\u001B[49m\u001B[43m(\u001B[49m\u001B[38;5;28;43mself\u001B[39;49m\u001B[43m,\u001B[49m\u001B[43m \u001B[49m\u001B[43mgateway\u001B[49m\u001B[38;5;241;43m=\u001B[39;49m\u001B[43mgateway\u001B[49m\u001B[43m,\u001B[49m\u001B[43m \u001B[49m\u001B[43mconf\u001B[49m\u001B[38;5;241;43m=\u001B[39;49m\u001B[43mconf\u001B[49m\u001B[43m)\u001B[49m\n\u001B[1;32m    202\u001B[0m \u001B[38;5;28;01mtry\u001B[39;00m:\n\u001B[1;32m    203\u001B[0m     \u001B[38;5;28mself\u001B[39m\u001B[38;5;241m.\u001B[39m_do_init(\n\u001B[1;32m    204\u001B[0m         master,\n\u001B[1;32m    205\u001B[0m         appName,\n\u001B[0;32m   (...)\u001B[0m\n\u001B[1;32m    215\u001B[0m         memory_profiler_cls,\n\u001B[1;32m    216\u001B[0m     )\n",
      "File \u001B[0;32m~/IASD/iasd/lib/python3.10/site-packages/pyspark/context.py:449\u001B[0m, in \u001B[0;36mSparkContext._ensure_initialized\u001B[0;34m(cls, instance, gateway, conf)\u001B[0m\n\u001B[1;32m    446\u001B[0m     callsite \u001B[38;5;241m=\u001B[39m SparkContext\u001B[38;5;241m.\u001B[39m_active_spark_context\u001B[38;5;241m.\u001B[39m_callsite\n\u001B[1;32m    448\u001B[0m     \u001B[38;5;66;03m# Raise error if there is already a running Spark context\u001B[39;00m\n\u001B[0;32m--> 449\u001B[0m     \u001B[38;5;28;01mraise\u001B[39;00m \u001B[38;5;167;01mValueError\u001B[39;00m(\n\u001B[1;32m    450\u001B[0m         \u001B[38;5;124m\"\u001B[39m\u001B[38;5;124mCannot run multiple SparkContexts at once; \u001B[39m\u001B[38;5;124m\"\u001B[39m\n\u001B[1;32m    451\u001B[0m         \u001B[38;5;124m\"\u001B[39m\u001B[38;5;124mexisting SparkContext(app=\u001B[39m\u001B[38;5;132;01m%s\u001B[39;00m\u001B[38;5;124m, master=\u001B[39m\u001B[38;5;132;01m%s\u001B[39;00m\u001B[38;5;124m)\u001B[39m\u001B[38;5;124m\"\u001B[39m\n\u001B[1;32m    452\u001B[0m         \u001B[38;5;124m\"\u001B[39m\u001B[38;5;124m created by \u001B[39m\u001B[38;5;132;01m%s\u001B[39;00m\u001B[38;5;124m at \u001B[39m\u001B[38;5;132;01m%s\u001B[39;00m\u001B[38;5;124m:\u001B[39m\u001B[38;5;132;01m%s\u001B[39;00m\u001B[38;5;124m \u001B[39m\u001B[38;5;124m\"\u001B[39m\n\u001B[1;32m    453\u001B[0m         \u001B[38;5;241m%\u001B[39m (\n\u001B[1;32m    454\u001B[0m             currentAppName,\n\u001B[1;32m    455\u001B[0m             currentMaster,\n\u001B[1;32m    456\u001B[0m             callsite\u001B[38;5;241m.\u001B[39mfunction,\n\u001B[1;32m    457\u001B[0m             callsite\u001B[38;5;241m.\u001B[39mfile,\n\u001B[1;32m    458\u001B[0m             callsite\u001B[38;5;241m.\u001B[39mlinenum,\n\u001B[1;32m    459\u001B[0m         )\n\u001B[1;32m    460\u001B[0m     )\n\u001B[1;32m    461\u001B[0m \u001B[38;5;28;01melse\u001B[39;00m:\n\u001B[1;32m    462\u001B[0m     SparkContext\u001B[38;5;241m.\u001B[39m_active_spark_context \u001B[38;5;241m=\u001B[39m instance\n",
      "\u001B[0;31mValueError\u001B[0m: Cannot run multiple SparkContexts at once; existing SparkContext(app=pyspark-shell, master=local[*]) created by __init__ at /var/folders/sm/lw2bbffs15g5l3r4ldd25hc00000gn/T/ipykernel_12410/2894928871.py:6 "
     ]
    }
   ]
  },
  {
   "cell_type": "code",
   "source": [
    "import matplotlib.pyplot as plt\n",
    "%matplotlib inline"
   ],
   "metadata": {
    "application/vnd.databricks.v1+cell": {
     "title": "",
     "showTitle": false,
     "inputWidgets": {},
     "nuid": "f623d620-792d-47b5-b629-e099b76f5b4f"
    },
    "id": "PwYcRsyHxhR4",
    "ExecuteTime": {
     "end_time": "2023-12-19T14:46:48.300998Z",
     "start_time": "2023-12-19T14:46:48.272294Z"
    }
   },
   "outputs": [],
   "execution_count": 38
  },
  {
   "cell_type": "markdown",
   "source": [
    "## Optional step : Enabling Spark UI through secure tunnel\n",
    "\n",
    "This step is useful if you want to look at Spark UI.\n",
    "First, you need to create a free ngrok account : https://dashboard.ngrok.com/login.  \n",
    "Then connect on the website and copy your AuthToken."
   ],
   "metadata": {
    "id": "78ZSghQoE5Gu"
   }
  },
  {
   "cell_type": "code",
   "source": [
    "\"\"\"# this step downloads ngrok, configures your AuthToken, then starts the tunnel\n",
    "!wget https://bin.equinox.io/c/4VmDzA7iaHb/ngrok-stable-linux-amd64.zip\n",
    "!unzip ngrok-stable-linux-amd64.zip\n",
    "#!./ngrok authtoken my_ngrok_auth_token_retrieved_from_website # <-------------- change this line !\n",
    "get_ipython().system_raw('./ngrok http 4050 &')\"\"\""
   ],
   "metadata": {
    "id": "m-Bz2KdLE_Ot",
    "ExecuteTime": {
     "end_time": "2023-12-19T14:46:49.106057Z",
     "start_time": "2023-12-19T14:46:49.097309Z"
    }
   },
   "execution_count": 39,
   "outputs": [
    {
     "data": {
      "text/plain": "\"# this step downloads ngrok, configures your AuthToken, then starts the tunnel\\n!wget https://bin.equinox.io/c/4VmDzA7iaHb/ngrok-stable-linux-amd64.zip\\n!unzip ngrok-stable-linux-amd64.zip\\n#!./ngrok authtoken my_ngrok_auth_token_retrieved_from_website # <-------------- change this line !\\nget_ipython().system_raw('./ngrok http 4050 &')\""
     },
     "execution_count": 39,
     "metadata": {},
     "output_type": "execute_result"
    }
   ]
  },
  {
   "cell_type": "markdown",
   "source": [
    "## Other imports"
   ],
   "metadata": {
    "id": "jIooy0loFKkq"
   }
  },
  {
   "cell_type": "code",
   "source": [
    "%matplotlib inline\n",
    "\n",
    "import urllib\n",
    "import urllib.request as req\n",
    "import zipfile\n",
    "import glob\n",
    "import matplotlib.pyplot as plt\n",
    "import numpy as np\n",
    "import pandas as pd\n",
    "\n",
    "# PySpark DataFrame\n",
    "import pyspark.sql.functions as F"
   ],
   "metadata": {
    "id": "YxEXH_TGFPb9",
    "ExecuteTime": {
     "end_time": "2023-12-19T14:46:49.793858Z",
     "start_time": "2023-12-19T14:46:49.772087Z"
    }
   },
   "execution_count": 40,
   "outputs": []
  },
  {
   "cell_type": "markdown",
   "source": [
    "\n",
    "\n",
    "\n",
    "## Downloading and unzipping the data (run only once !)"
   ],
   "metadata": {
    "application/vnd.databricks.v1+cell": {
     "title": "",
     "showTitle": false,
     "inputWidgets": {},
     "nuid": "041cdfc4-46fc-4490-962a-72baa30440e4"
    },
    "id": "LPc7bEydxhR9"
   }
  },
  {
   "cell_type": "code",
   "source": [
    "\"\"\"url = 'http://files.grouplens.org/datasets/movielens/ml-20m.zip'\n",
    "filehandle, _ = urllib.request.urlretrieve(url)\n",
    "zip_file_object = zipfile.ZipFile(filehandle, 'r')\n",
    "zip_file_object.namelist()\"\"\""
   ],
   "metadata": {
    "application/vnd.databricks.v1+cell": {
     "title": "",
     "showTitle": false,
     "inputWidgets": {},
     "nuid": "c43c2d2f-ea5a-4555-b855-caca395647ee"
    },
    "id": "uEW_NgvIxhR_",
    "ExecuteTime": {
     "end_time": "2023-12-19T14:46:57.167479Z",
     "start_time": "2023-12-19T14:46:57.160421Z"
    }
   },
   "outputs": [
    {
     "data": {
      "text/plain": "\"url = 'http://files.grouplens.org/datasets/movielens/ml-20m.zip'\\nfilehandle, _ = urllib.request.urlretrieve(url)\\nzip_file_object = zipfile.ZipFile(filehandle, 'r')\\nzip_file_object.namelist()\""
     },
     "execution_count": 41,
     "metadata": {},
     "output_type": "execute_result"
    }
   ],
   "execution_count": 41
  },
  {
   "cell_type": "code",
   "source": [
    "# zip_file_object.extractall()"
   ],
   "metadata": {
    "application/vnd.databricks.v1+cell": {
     "title": "",
     "showTitle": false,
     "inputWidgets": {},
     "nuid": "712ce604-ad47-4319-ba49-b8d0df40ea9b"
    },
    "id": "TOF9I4dOxhSB",
    "ExecuteTime": {
     "end_time": "2023-12-19T14:46:57.363739Z",
     "start_time": "2023-12-19T14:46:57.355989Z"
    }
   },
   "outputs": [],
   "execution_count": 42
  },
  {
   "cell_type": "code",
   "source": [
    "!cd ml-20m ; ls"
   ],
   "metadata": {
    "id": "XgxL32xVz9N0",
    "ExecuteTime": {
     "end_time": "2023-12-19T14:46:57.661996Z",
     "start_time": "2023-12-19T14:46:57.537339Z"
    }
   },
   "execution_count": 43,
   "outputs": [
    {
     "name": "stdout",
     "output_type": "stream",
     "text": [
      "README.txt          links.csv           ratings.csv         tags.csv\r\n",
      "genome-scores.csv   \u001B[1m\u001B[36mmovies-sample.csv\u001B[m\u001B[m   \u001B[1m\u001B[36mratings.parquet\u001B[m\u001B[m\r\n",
      "genome-tags.csv     movies.csv          \u001B[1m\u001B[36msampled_ratings.csv\u001B[m\u001B[m\r\n"
     ]
    }
   ]
  },
  {
   "cell_type": "markdown",
   "source": [
    "## Spark DataFrames essentials\n",
    "\n",
    "\n",
    "### Reading data"
   ],
   "metadata": {
    "application/vnd.databricks.v1+cell": {
     "title": "",
     "showTitle": false,
     "inputWidgets": {},
     "nuid": "1400a8fd-86c9-4e41-b39d-9a3dc2b105fd"
    },
    "id": "yWe5-STxxhSD"
   }
  },
  {
   "cell_type": "code",
   "source": [
    "movies_path = \"ml-20m/movies.csv\"\n",
    "ratings_path = \"ml-20m/ratings.csv\""
   ],
   "metadata": {
    "application/vnd.databricks.v1+cell": {
     "title": "",
     "showTitle": false,
     "inputWidgets": {},
     "nuid": "6ab802b9-46a0-40f6-89ae-2221cf4b000b"
    },
    "id": "pmb5u3pLxhSE",
    "ExecuteTime": {
     "end_time": "2023-12-19T14:46:57.901805Z",
     "start_time": "2023-12-19T14:46:57.881319Z"
    }
   },
   "outputs": [],
   "execution_count": 44
  },
  {
   "cell_type": "markdown",
   "source": [
    "We read the csv files using [`spark.read`](https://spark.apache.org/docs/latest/sql-data-sources-load-save-functions.html)"
   ],
   "metadata": {
    "application/vnd.databricks.v1+cell": {
     "title": "",
     "showTitle": false,
     "inputWidgets": {},
     "nuid": "bd59e075-f2f0-4ce3-ae63-abb2ac5ad515"
    },
    "id": "4deTpFphxhSG"
   }
  },
  {
   "cell_type": "code",
   "source": [
    "movies_df = spark.read.options(header=True).csv(movies_path)\n",
    "ratings_df = spark.read.options(header=True).csv(ratings_path).sample(0.01)"
   ],
   "metadata": {
    "application/vnd.databricks.v1+cell": {
     "title": "",
     "showTitle": false,
     "inputWidgets": {},
     "nuid": "e17a1b72-3e17-4a33-ba51-b09ea109743c"
    },
    "id": "VQYgL_HCxhSJ",
    "ExecuteTime": {
     "end_time": "2023-12-19T14:46:58.406085Z",
     "start_time": "2023-12-19T14:46:58.216809Z"
    }
   },
   "outputs": [],
   "execution_count": 45
  },
  {
   "cell_type": "markdown",
   "source": [
    "We cache the read dataframes to avoid reloading them in subsequent computation."
   ],
   "metadata": {
    "application/vnd.databricks.v1+cell": {
     "title": "",
     "showTitle": false,
     "inputWidgets": {},
     "nuid": "4901a996-6efc-465a-b5c7-152850acab78"
    },
    "id": "zxbPyi8VxhSK"
   }
  },
  {
   "cell_type": "code",
   "source": [
    "movies_df.cache()\n",
    "ratings_df.cache()"
   ],
   "metadata": {
    "application/vnd.databricks.v1+cell": {
     "title": "",
     "showTitle": false,
     "inputWidgets": {},
     "nuid": "85124b91-e8be-4ef6-aac6-303fb084d3b2"
    },
    "id": "bdpJE_RPxhSL",
    "ExecuteTime": {
     "end_time": "2023-12-19T14:46:58.585722Z",
     "start_time": "2023-12-19T14:46:58.567709Z"
    }
   },
   "outputs": [
    {
     "name": "stderr",
     "output_type": "stream",
     "text": [
      "23/12/19 15:46:58 WARN CacheManager: Asked to cache already cached data.\n"
     ]
    },
    {
     "data": {
      "text/plain": "DataFrame[userId: string, movieId: string, rating: string, timestamp: string]"
     },
     "execution_count": 46,
     "metadata": {},
     "output_type": "execute_result"
    }
   ],
   "execution_count": 46
  },
  {
   "cell_type": "markdown",
   "source": [
    "We then print a few rows from each dataframe."
   ],
   "metadata": {
    "application/vnd.databricks.v1+cell": {
     "title": "",
     "showTitle": false,
     "inputWidgets": {},
     "nuid": "5c0f0847-69ca-4181-b49e-6ec3a7aa8f06"
    },
    "id": "sWcVp3uJxhSN"
   }
  },
  {
   "cell_type": "code",
   "source": [
    "movies_df.show(5)"
   ],
   "metadata": {
    "application/vnd.databricks.v1+cell": {
     "title": "",
     "showTitle": false,
     "inputWidgets": {},
     "nuid": "164bdf37-ee60-4c5e-b684-61f7ba0ac370"
    },
    "id": "Ax0dB-GRxhSN",
    "ExecuteTime": {
     "end_time": "2023-12-19T14:46:58.944207Z",
     "start_time": "2023-12-19T14:46:58.916074Z"
    }
   },
   "outputs": [
    {
     "name": "stdout",
     "output_type": "stream",
     "text": [
      "+-------+--------------------+--------------------+\n",
      "|movieId|               title|              genres|\n",
      "+-------+--------------------+--------------------+\n",
      "|      1|    Toy Story (1995)|Adventure|Animati...|\n",
      "|      2|      Jumanji (1995)|Adventure|Childre...|\n",
      "|      3|Grumpier Old Men ...|      Comedy|Romance|\n",
      "|      4|Waiting to Exhale...|Comedy|Drama|Romance|\n",
      "|      5|Father of the Bri...|              Comedy|\n",
      "+-------+--------------------+--------------------+\n"
     ]
    }
   ],
   "execution_count": 47
  },
  {
   "cell_type": "code",
   "source": [
    "ratings_df.show(5)"
   ],
   "metadata": {
    "application/vnd.databricks.v1+cell": {
     "title": "",
     "showTitle": false,
     "inputWidgets": {},
     "nuid": "c9689128-5540-46fd-9f6d-a54e7704abad"
    },
    "id": "6jMFWy-wxhSO",
    "ExecuteTime": {
     "end_time": "2023-12-19T14:47:03.320011Z",
     "start_time": "2023-12-19T14:46:59.120121Z"
    }
   },
   "outputs": [
    {
     "name": "stderr",
     "output_type": "stream",
     "text": [
      "[Stage 34:=======>                                                  (1 + 7) / 8]\r"
     ]
    },
    {
     "name": "stdout",
     "output_type": "stream",
     "text": [
      "+------+-------+------+----------+\n",
      "|userId|movieId|rating| timestamp|\n",
      "+------+-------+------+----------+\n",
      "|     1|   1278|   4.0|1094785986|\n",
      "|     3|   1084|   5.0| 944918103|\n",
      "|     7|    788|   3.0|1011208527|\n",
      "|     7|   3334|   3.0|1011207570|\n",
      "|     7|   3417|   5.0|1011206698|\n",
      "+------+-------+------+----------+\n"
     ]
    },
    {
     "name": "stderr",
     "output_type": "stream",
     "text": [
      "                                                                                \r"
     ]
    }
   ],
   "execution_count": 48
  },
  {
   "cell_type": "markdown",
   "source": [
    "### Manipulating data"
   ],
   "metadata": {
    "application/vnd.databricks.v1+cell": {
     "title": "",
     "showTitle": false,
     "inputWidgets": {},
     "nuid": "d7c226cb-65fd-45d2-ba31-fb0579cd60b9"
    },
    "id": "RYaJzQXjxhSP"
   }
  },
  {
   "cell_type": "code",
   "source": [
    "movies_df.select(\"title\").show(5)"
   ],
   "metadata": {
    "application/vnd.databricks.v1+cell": {
     "title": "",
     "showTitle": false,
     "inputWidgets": {},
     "nuid": "b3f5658d-46bd-431c-90e7-73aee307bc13"
    },
    "id": "lPhcwU2nxhSP",
    "ExecuteTime": {
     "end_time": "2023-12-19T14:47:03.396016Z",
     "start_time": "2023-12-19T14:47:03.320725Z"
    }
   },
   "outputs": [
    {
     "name": "stdout",
     "output_type": "stream",
     "text": [
      "+--------------------+\n",
      "|               title|\n",
      "+--------------------+\n",
      "|    Toy Story (1995)|\n",
      "|      Jumanji (1995)|\n",
      "|Grumpier Old Men ...|\n",
      "|Waiting to Exhale...|\n",
      "|Father of the Bri...|\n",
      "+--------------------+\n"
     ]
    }
   ],
   "execution_count": 49
  },
  {
   "cell_type": "code",
   "source": [
    "ratings_df.filter(\"rating=5\").show(5)"
   ],
   "metadata": {
    "application/vnd.databricks.v1+cell": {
     "title": "",
     "showTitle": false,
     "inputWidgets": {},
     "nuid": "864b079d-f282-4ae7-9acc-13dde09b9a74"
    },
    "id": "nB91iohMxhSQ",
    "ExecuteTime": {
     "end_time": "2023-12-19T14:47:03.453801Z",
     "start_time": "2023-12-19T14:47:03.348667Z"
    }
   },
   "outputs": [
    {
     "name": "stdout",
     "output_type": "stream",
     "text": [
      "+------+-------+------+----------+\n",
      "|userId|movieId|rating| timestamp|\n",
      "+------+-------+------+----------+\n",
      "|     3|   1084|   5.0| 944918103|\n",
      "|     7|   3417|   5.0|1011206698|\n",
      "|    11|   7481|   5.0|1230788624|\n",
      "|    11|   8810|   5.0|1230783579|\n",
      "|    14|   6424|   5.0|1225310675|\n",
      "+------+-------+------+----------+\n"
     ]
    }
   ],
   "execution_count": 50
  },
  {
   "cell_type": "code",
   "source": [
    "ratings_df.groupby(\"userId\").agg({\"movieId\": \"count\"}).show(5)"
   ],
   "metadata": {
    "application/vnd.databricks.v1+cell": {
     "title": "",
     "showTitle": false,
     "inputWidgets": {},
     "nuid": "ba116641-6eb3-4682-a89b-f00f339b6d04"
    },
    "id": "733lNSouxhSR",
    "ExecuteTime": {
     "end_time": "2023-12-19T14:47:03.750662Z",
     "start_time": "2023-12-19T14:47:03.386418Z"
    }
   },
   "outputs": [
    {
     "name": "stdout",
     "output_type": "stream",
     "text": [
      "+------+--------------+\n",
      "|userId|count(movieId)|\n",
      "+------+--------------+\n",
      "|   675|             4|\n",
      "|   829|             7|\n",
      "|  1090|             1|\n",
      "|  1159|             2|\n",
      "|  1436|             4|\n",
      "+------+--------------+\n"
     ]
    }
   ],
   "execution_count": 51
  },
  {
   "cell_type": "code",
   "source": [
    "ratings_df.withColumn(\"is_rating_high\", ratings_df[\"rating\"] >= 4).show(5)"
   ],
   "metadata": {
    "application/vnd.databricks.v1+cell": {
     "title": "",
     "showTitle": false,
     "inputWidgets": {},
     "nuid": "4a8d55dc-eea6-4887-a1f0-62dab2fd049d"
    },
    "id": "CyLYxVZtxhSS",
    "ExecuteTime": {
     "end_time": "2023-12-19T14:47:03.811282Z",
     "start_time": "2023-12-19T14:47:03.702791Z"
    }
   },
   "outputs": [
    {
     "name": "stdout",
     "output_type": "stream",
     "text": [
      "+------+-------+------+----------+--------------+\n",
      "|userId|movieId|rating| timestamp|is_rating_high|\n",
      "+------+-------+------+----------+--------------+\n",
      "|     1|   1278|   4.0|1094785986|          true|\n",
      "|     3|   1084|   5.0| 944918103|          true|\n",
      "|     7|    788|   3.0|1011208527|         false|\n",
      "|     7|   3334|   3.0|1011207570|         false|\n",
      "|     7|   3417|   5.0|1011206698|          true|\n",
      "+------+-------+------+----------+--------------+\n"
     ]
    }
   ],
   "execution_count": 52
  },
  {
   "cell_type": "code",
   "source": [
    "ratings_df.withColumn(\"is_rating_low\", ratings_df.rating < 4).show(5)"
   ],
   "metadata": {
    "application/vnd.databricks.v1+cell": {
     "title": "",
     "showTitle": false,
     "inputWidgets": {},
     "nuid": "fd9885ee-735c-469a-afaa-318f4c5ea790"
    },
    "id": "xxqzZTvSxhSS",
    "ExecuteTime": {
     "end_time": "2023-12-19T14:47:03.921156Z",
     "start_time": "2023-12-19T14:47:03.738986Z"
    }
   },
   "outputs": [
    {
     "name": "stdout",
     "output_type": "stream",
     "text": [
      "+------+-------+------+----------+-------------+\n",
      "|userId|movieId|rating| timestamp|is_rating_low|\n",
      "+------+-------+------+----------+-------------+\n",
      "|     1|   1278|   4.0|1094785986|        false|\n",
      "|     3|   1084|   5.0| 944918103|        false|\n",
      "|     7|    788|   3.0|1011208527|         true|\n",
      "|     7|   3334|   3.0|1011207570|         true|\n",
      "|     7|   3417|   5.0|1011206698|        false|\n",
      "+------+-------+------+----------+-------------+\n"
     ]
    }
   ],
   "execution_count": 53
  },
  {
   "cell_type": "code",
   "source": [
    "ratings_df.withColumnRenamed(\"rating\", \"note\").show(5)"
   ],
   "metadata": {
    "application/vnd.databricks.v1+cell": {
     "title": "",
     "showTitle": false,
     "inputWidgets": {},
     "nuid": "24a0400b-4b93-4ec8-aecb-e81764eb9659"
    },
    "id": "IWbV8E-mxhST",
    "ExecuteTime": {
     "end_time": "2023-12-19T14:47:03.952555Z",
     "start_time": "2023-12-19T14:47:03.777771Z"
    }
   },
   "outputs": [
    {
     "name": "stdout",
     "output_type": "stream",
     "text": [
      "+------+-------+----+----------+\n",
      "|userId|movieId|note| timestamp|\n",
      "+------+-------+----+----------+\n",
      "|     1|   1278| 4.0|1094785986|\n",
      "|     3|   1084| 5.0| 944918103|\n",
      "|     7|    788| 3.0|1011208527|\n",
      "|     7|   3334| 3.0|1011207570|\n",
      "|     7|   3417| 5.0|1011206698|\n",
      "+------+-------+----+----------+\n"
     ]
    }
   ],
   "execution_count": 54
  },
  {
   "cell_type": "markdown",
   "source": [
    "https://spark.apache.org/docs/2.3.0/api/python/pyspark.sql.html#module-pyspark.sql.functions"
   ],
   "metadata": {
    "application/vnd.databricks.v1+cell": {
     "title": "",
     "showTitle": false,
     "inputWidgets": {},
     "nuid": "d70bac07-e07a-47e1-b41a-dc306bc157ba"
    },
    "id": "KEKoq5bAxhSU"
   }
  },
  {
   "cell_type": "markdown",
   "source": [
    "### Built-in transformations and aggregations"
   ],
   "metadata": {
    "application/vnd.databricks.v1+cell": {
     "title": "",
     "showTitle": false,
     "inputWidgets": {},
     "nuid": "fb4faaa1-0aa2-4663-9cdf-a698bcf5c9da"
    },
    "id": "ucG-o5c8xhSV"
   }
  },
  {
   "cell_type": "code",
   "source": [
    "ratings_df.select(F.avg(\"rating\"), F.min(\"rating\"), F.max(\"rating\")).show()"
   ],
   "metadata": {
    "application/vnd.databricks.v1+cell": {
     "title": "",
     "showTitle": false,
     "inputWidgets": {},
     "nuid": "00c6d382-5208-4f6f-a5e9-4af83b63382a"
    },
    "id": "XEHHxaLfxhSW",
    "ExecuteTime": {
     "end_time": "2023-12-19T14:47:04.003370Z",
     "start_time": "2023-12-19T14:47:03.811817Z"
    }
   },
   "outputs": [
    {
     "name": "stdout",
     "output_type": "stream",
     "text": [
      "+-----------------+-----------+-----------+\n",
      "|      avg(rating)|min(rating)|max(rating)|\n",
      "+-----------------+-----------+-----------+\n",
      "|3.522168166422831|        0.5|        5.0|\n",
      "+-----------------+-----------+-----------+\n"
     ]
    }
   ],
   "execution_count": 55
  },
  {
   "cell_type": "markdown",
   "source": [
    "### Joining Dataframes"
   ],
   "metadata": {
    "application/vnd.databricks.v1+cell": {
     "title": "",
     "showTitle": false,
     "inputWidgets": {},
     "nuid": "34b47d97-66a2-4f1b-b8b4-1dc73eee3042"
    },
    "id": "0qrAMULXxhSX"
   }
  },
  {
   "cell_type": "code",
   "source": [
    "ratings_df.join(movies_df, \"movieId\").show(5)"
   ],
   "metadata": {
    "application/vnd.databricks.v1+cell": {
     "title": "",
     "showTitle": false,
     "inputWidgets": {},
     "nuid": "4a14bd7c-6da3-4030-8124-48d696d2a71b"
    },
    "id": "2_EwAPfZxhSX",
    "ExecuteTime": {
     "end_time": "2023-12-19T14:47:04.204866Z",
     "start_time": "2023-12-19T14:47:03.924021Z"
    }
   },
   "outputs": [
    {
     "name": "stdout",
     "output_type": "stream",
     "text": [
      "+-------+------+------+----------+--------------------+--------------------+\n",
      "|movieId|userId|rating| timestamp|               title|              genres|\n",
      "+-------+------+------+----------+--------------------+--------------------+\n",
      "|   1278|     1|   4.0|1094785986|Young Frankenstei...|      Comedy|Fantasy|\n",
      "|   1084|     3|   5.0| 944918103|Bonnie and Clyde ...|         Crime|Drama|\n",
      "|    788|     7|   3.0|1011208527|Nutty Professor, ...|Comedy|Fantasy|Ro...|\n",
      "|   3334|     7|   3.0|1011207570|    Key Largo (1948)|Crime|Drama|Film-...|\n",
      "|   3417|     7|   5.0|1011206698|Crimson Pirate, T...|    Adventure|Comedy|\n",
      "+-------+------+------+----------+--------------------+--------------------+\n"
     ]
    }
   ],
   "execution_count": 56
  },
  {
   "cell_type": "markdown",
   "source": [
    "### User Defined functions (UDFs)"
   ],
   "metadata": {
    "application/vnd.databricks.v1+cell": {
     "title": "",
     "showTitle": false,
     "inputWidgets": {},
     "nuid": "72d716fa-d5d4-4605-a5dd-f2bbd78616dd"
    },
    "id": "ur3enjo1xhSY"
   }
  },
  {
   "cell_type": "code",
   "source": [
    "from pyspark.sql.functions import udf\n",
    "from pyspark.sql.types import LongType\n",
    "\n",
    "\n",
    "def length(string: str):\n",
    "    return len(string)\n",
    "\n",
    "\n",
    "length_udf = udf(length, LongType())"
   ],
   "metadata": {
    "application/vnd.databricks.v1+cell": {
     "title": "",
     "showTitle": false,
     "inputWidgets": {},
     "nuid": "a5bd91e0-5711-48ca-a8ce-aaaa87fcd0d4"
    },
    "id": "Koj8J-LCxhSY",
    "ExecuteTime": {
     "end_time": "2023-12-19T14:47:04.206381Z",
     "start_time": "2023-12-19T14:47:04.045726Z"
    }
   },
   "outputs": [],
   "execution_count": 57
  },
  {
   "cell_type": "code",
   "source": [
    "movies_df.select(length_udf(\"title\")).show(5)"
   ],
   "metadata": {
    "application/vnd.databricks.v1+cell": {
     "title": "",
     "showTitle": false,
     "inputWidgets": {},
     "nuid": "5b8be010-571c-45ad-9097-4525c32dfd94"
    },
    "id": "x4RT7LIsxhSZ",
    "ExecuteTime": {
     "end_time": "2023-12-19T14:47:04.443810Z",
     "start_time": "2023-12-19T14:47:04.212429Z"
    }
   },
   "outputs": [
    {
     "name": "stdout",
     "output_type": "stream",
     "text": [
      "+-------------+\n",
      "|length(title)|\n",
      "+-------------+\n",
      "|           16|\n",
      "|           14|\n",
      "|           23|\n",
      "|           24|\n",
      "|           34|\n",
      "+-------------+\n"
     ]
    }
   ],
   "execution_count": 58
  },
  {
   "cell_type": "code",
   "source": [
    "@udf(\"string\")\n",
    "def length2(string: str):\n",
    "    return len(string)"
   ],
   "metadata": {
    "application/vnd.databricks.v1+cell": {
     "title": "",
     "showTitle": false,
     "inputWidgets": {},
     "nuid": "8eeb46c4-c5ef-4767-951c-7ebf31e28fcc"
    },
    "id": "KMEGeXQGxhSa",
    "ExecuteTime": {
     "end_time": "2023-12-19T14:47:04.653556Z",
     "start_time": "2023-12-19T14:47:04.607269Z"
    }
   },
   "outputs": [],
   "execution_count": 59
  },
  {
   "cell_type": "code",
   "source": [
    "movies_df.select(length2(\"title\")).show(5)"
   ],
   "metadata": {
    "application/vnd.databricks.v1+cell": {
     "title": "",
     "showTitle": false,
     "inputWidgets": {},
     "nuid": "03c0ada0-cae5-46da-a607-ab69a1e18c96"
    },
    "id": "wyDzGprYxhSa",
    "ExecuteTime": {
     "end_time": "2023-12-19T14:47:18.898742Z",
     "start_time": "2023-12-19T14:47:18.850462Z"
    }
   },
   "outputs": [
    {
     "name": "stdout",
     "output_type": "stream",
     "text": [
      "+--------------+\n",
      "|length2(title)|\n",
      "+--------------+\n",
      "|            16|\n",
      "|            14|\n",
      "|            23|\n",
      "|            24|\n",
      "|            34|\n",
      "+--------------+\n"
     ]
    }
   ],
   "execution_count": 60
  },
  {
   "cell_type": "code",
   "source": [
    "title_lengths = movies_df.select(length2(\"title\").alias(\"title_length\"))"
   ],
   "metadata": {
    "application/vnd.databricks.v1+cell": {
     "title": "",
     "showTitle": false,
     "inputWidgets": {},
     "nuid": "43ac47d8-b85b-4e34-beda-2ed5b0093f61"
    },
    "id": "3tijyUNQxhSc",
    "ExecuteTime": {
     "end_time": "2023-12-19T14:47:19.693123Z",
     "start_time": "2023-12-19T14:47:19.684413Z"
    }
   },
   "outputs": [],
   "execution_count": 61
  },
  {
   "cell_type": "code",
   "source": [
    "title_lengths.select(F.max(\"title_length\")).show()"
   ],
   "metadata": {
    "application/vnd.databricks.v1+cell": {
     "title": "",
     "showTitle": false,
     "inputWidgets": {},
     "nuid": "1903acfa-345f-4324-bc1e-602329c59616"
    },
    "id": "hzdNMc9qxhSc",
    "ExecuteTime": {
     "end_time": "2023-12-19T14:47:26.101117Z",
     "start_time": "2023-12-19T14:47:26.048788Z"
    }
   },
   "outputs": [
    {
     "name": "stdout",
     "output_type": "stream",
     "text": [
      "+-----------------+\n",
      "|max(title_length)|\n",
      "+-----------------+\n",
      "|               99|\n",
      "+-----------------+\n"
     ]
    }
   ],
   "execution_count": 62
  },
  {
   "cell_type": "code",
   "source": [
    "title_lengths.select(F.min(\"title_length\")).show()"
   ],
   "metadata": {
    "application/vnd.databricks.v1+cell": {
     "title": "",
     "showTitle": false,
     "inputWidgets": {},
     "nuid": "dbcb3fe5-71c3-4b82-b814-7c96968d67bf"
    },
    "id": "S-Py0H0-xhSd",
    "ExecuteTime": {
     "end_time": "2023-12-19T14:47:30.142099Z",
     "start_time": "2023-12-19T14:47:30.094399Z"
    }
   },
   "outputs": [
    {
     "name": "stdout",
     "output_type": "stream",
     "text": [
      "+-----------------+\n",
      "|min(title_length)|\n",
      "+-----------------+\n",
      "|               10|\n",
      "+-----------------+\n"
     ]
    }
   ],
   "execution_count": 63
  },
  {
   "cell_type": "markdown",
   "source": [
    "### Query plan inspection and caching"
   ],
   "metadata": {
    "application/vnd.databricks.v1+cell": {
     "title": "",
     "showTitle": false,
     "inputWidgets": {},
     "nuid": "d5c78c61-ebe9-4b3f-88da-5e70214906e7"
    },
    "id": "iJIK-1qwxhSd"
   }
  },
  {
   "cell_type": "code",
   "source": [
    "title_lengths.select(F.max(\"title_length\")).explain()"
   ],
   "metadata": {
    "application/vnd.databricks.v1+cell": {
     "title": "",
     "showTitle": false,
     "inputWidgets": {},
     "nuid": "686caef7-fcdb-48e2-9147-b551d9da7ce6"
    },
    "id": "PMeGqZiCxhSf",
    "ExecuteTime": {
     "end_time": "2023-12-19T14:47:32.003591Z",
     "start_time": "2023-12-19T14:47:31.981913Z"
    }
   },
   "outputs": [
    {
     "name": "stdout",
     "output_type": "stream",
     "text": [
      "== Physical Plan ==\n",
      "AdaptiveSparkPlan isFinalPlan=false\n",
      "+- SortAggregate(key=[], functions=[max(title_length#3046)])\n",
      "   +- Exchange SinglePartition, ENSURE_REQUIREMENTS, [plan_id=1368]\n",
      "      +- SortAggregate(key=[], functions=[partial_max(title_length#3046)])\n",
      "         +- InMemoryTableScan [title_length#3046]\n",
      "               +- InMemoryRelation [title_length#3046], StorageLevel(disk, memory, deserialized, 1 replicas)\n",
      "                     +- AdaptiveSparkPlan isFinalPlan=false\n",
      "                        +- Project [pythonUDF0#1638 AS title_length#1326]\n",
      "                           +- BatchEvalPython [length2(title#18)#1325], [pythonUDF0#1638]\n",
      "                              +- InMemoryTableScan [title#18]\n",
      "                                    +- InMemoryRelation [movieId#17, title#18, genres#19], StorageLevel(disk, memory, deserialized, 1 replicas)\n",
      "                                          +- FileScan csv [movieId#17,title#18,genres#19] Batched: false, DataFilters: [], Format: CSV, Location: InMemoryFileIndex(1 paths)[file:/Users/quyenlinhta/IASD/bigdata/ml-20m/movies.csv], PartitionFilters: [], PushedFilters: [], ReadSchema: struct<movieId:string,title:string,genres:string>\n"
     ]
    }
   ],
   "execution_count": 64
  },
  {
   "cell_type": "code",
   "source": [
    "title_lengths.select(F.min(\"title_length\")).explain()"
   ],
   "metadata": {
    "application/vnd.databricks.v1+cell": {
     "title": "",
     "showTitle": false,
     "inputWidgets": {},
     "nuid": "5d6b4101-2ab6-4ee6-ad77-4f14d8e1a1de"
    },
    "id": "-P4YgNutxhSg",
    "ExecuteTime": {
     "end_time": "2023-12-19T14:47:33.484575Z",
     "start_time": "2023-12-19T14:47:33.459319Z"
    }
   },
   "outputs": [
    {
     "name": "stdout",
     "output_type": "stream",
     "text": [
      "== Physical Plan ==\n",
      "AdaptiveSparkPlan isFinalPlan=false\n",
      "+- SortAggregate(key=[], functions=[min(title_length#3046)])\n",
      "   +- Exchange SinglePartition, ENSURE_REQUIREMENTS, [plan_id=1382]\n",
      "      +- SortAggregate(key=[], functions=[partial_min(title_length#3046)])\n",
      "         +- InMemoryTableScan [title_length#3046]\n",
      "               +- InMemoryRelation [title_length#3046], StorageLevel(disk, memory, deserialized, 1 replicas)\n",
      "                     +- AdaptiveSparkPlan isFinalPlan=false\n",
      "                        +- Project [pythonUDF0#1638 AS title_length#1326]\n",
      "                           +- BatchEvalPython [length2(title#18)#1325], [pythonUDF0#1638]\n",
      "                              +- InMemoryTableScan [title#18]\n",
      "                                    +- InMemoryRelation [movieId#17, title#18, genres#19], StorageLevel(disk, memory, deserialized, 1 replicas)\n",
      "                                          +- FileScan csv [movieId#17,title#18,genres#19] Batched: false, DataFilters: [], Format: CSV, Location: InMemoryFileIndex(1 paths)[file:/Users/quyenlinhta/IASD/bigdata/ml-20m/movies.csv], PartitionFilters: [], PushedFilters: [], ReadSchema: struct<movieId:string,title:string,genres:string>\n"
     ]
    }
   ],
   "execution_count": 65
  },
  {
   "cell_type": "code",
   "source": [
    "title_lengths.cache()\n",
    "title_lengths.select(F.max(\"title_length\")).show()"
   ],
   "metadata": {
    "application/vnd.databricks.v1+cell": {
     "title": "",
     "showTitle": false,
     "inputWidgets": {},
     "nuid": "ba1d51d1-7ebe-47b0-96e9-1bc61ee2c302"
    },
    "id": "EdqWQtTUxhSh",
    "ExecuteTime": {
     "end_time": "2023-12-19T14:47:34.313563Z",
     "start_time": "2023-12-19T14:47:34.258151Z"
    }
   },
   "outputs": [
    {
     "name": "stdout",
     "output_type": "stream",
     "text": [
      "+-----------------+\n",
      "|max(title_length)|\n",
      "+-----------------+\n",
      "|               99|\n",
      "+-----------------+\n"
     ]
    },
    {
     "name": "stderr",
     "output_type": "stream",
     "text": [
      "23/12/19 15:47:34 WARN CacheManager: Asked to cache already cached data.\n"
     ]
    }
   ],
   "execution_count": 66
  },
  {
   "cell_type": "code",
   "source": [
    "title_lengths.select(F.min(\"title_length\")).explain()"
   ],
   "metadata": {
    "application/vnd.databricks.v1+cell": {
     "title": "",
     "showTitle": false,
     "inputWidgets": {},
     "nuid": "4849d89e-af7a-4e73-923a-94f5526caee0"
    },
    "id": "daS5uHeTxhSh",
    "ExecuteTime": {
     "end_time": "2023-12-19T14:47:34.988677Z",
     "start_time": "2023-12-19T14:47:34.977838Z"
    }
   },
   "outputs": [
    {
     "name": "stdout",
     "output_type": "stream",
     "text": [
      "== Physical Plan ==\n",
      "AdaptiveSparkPlan isFinalPlan=false\n",
      "+- SortAggregate(key=[], functions=[min(title_length#3046)])\n",
      "   +- Exchange SinglePartition, ENSURE_REQUIREMENTS, [plan_id=1432]\n",
      "      +- SortAggregate(key=[], functions=[partial_min(title_length#3046)])\n",
      "         +- InMemoryTableScan [title_length#3046]\n",
      "               +- InMemoryRelation [title_length#3046], StorageLevel(disk, memory, deserialized, 1 replicas)\n",
      "                     +- AdaptiveSparkPlan isFinalPlan=false\n",
      "                        +- Project [pythonUDF0#1638 AS title_length#1326]\n",
      "                           +- BatchEvalPython [length2(title#18)#1325], [pythonUDF0#1638]\n",
      "                              +- InMemoryTableScan [title#18]\n",
      "                                    +- InMemoryRelation [movieId#17, title#18, genres#19], StorageLevel(disk, memory, deserialized, 1 replicas)\n",
      "                                          +- FileScan csv [movieId#17,title#18,genres#19] Batched: false, DataFilters: [], Format: CSV, Location: InMemoryFileIndex(1 paths)[file:/Users/quyenlinhta/IASD/bigdata/ml-20m/movies.csv], PartitionFilters: [], PushedFilters: [], ReadSchema: struct<movieId:string,title:string,genres:string>\n"
     ]
    }
   ],
   "execution_count": 67
  },
  {
   "cell_type": "markdown",
   "source": [
    "### Writing csv"
   ],
   "metadata": {
    "application/vnd.databricks.v1+cell": {
     "title": "",
     "showTitle": false,
     "inputWidgets": {},
     "nuid": "300ecd36-6f25-4143-9b53-038cd4edbabb"
    },
    "id": "V8Oqc96jxhSi"
   }
  },
  {
   "cell_type": "code",
   "source": [
    "movies_df.sample(0.1).write.csv(\"ml-20m/movies-sample.csv\")"
   ],
   "metadata": {
    "application/vnd.databricks.v1+cell": {
     "title": "",
     "showTitle": false,
     "inputWidgets": {},
     "nuid": "910a105e-8b86-4d98-8ed5-4e5d8feb8a7f"
    },
    "id": "wUu9fmNTxhSi",
    "ExecuteTime": {
     "end_time": "2023-12-19T14:47:35.748277Z",
     "start_time": "2023-12-19T14:47:35.700914Z"
    }
   },
   "outputs": [
    {
     "ename": "AnalysisException",
     "evalue": "[PATH_ALREADY_EXISTS] Path file:/Users/quyenlinhta/IASD/bigdata/ml-20m/movies-sample.csv already exists. Set mode as \"overwrite\" to overwrite the existing path.",
     "output_type": "error",
     "traceback": [
      "\u001B[0;31m---------------------------------------------------------------------------\u001B[0m",
      "\u001B[0;31mAnalysisException\u001B[0m                         Traceback (most recent call last)",
      "Cell \u001B[0;32mIn[68], line 1\u001B[0m\n\u001B[0;32m----> 1\u001B[0m \u001B[43mmovies_df\u001B[49m\u001B[38;5;241;43m.\u001B[39;49m\u001B[43msample\u001B[49m\u001B[43m(\u001B[49m\u001B[38;5;241;43m0.1\u001B[39;49m\u001B[43m)\u001B[49m\u001B[38;5;241;43m.\u001B[39;49m\u001B[43mwrite\u001B[49m\u001B[38;5;241;43m.\u001B[39;49m\u001B[43mcsv\u001B[49m\u001B[43m(\u001B[49m\u001B[38;5;124;43m\"\u001B[39;49m\u001B[38;5;124;43mml-20m/movies-sample.csv\u001B[39;49m\u001B[38;5;124;43m\"\u001B[39;49m\u001B[43m)\u001B[49m\n",
      "File \u001B[0;32m~/IASD/iasd/lib/python3.10/site-packages/pyspark/sql/readwriter.py:1864\u001B[0m, in \u001B[0;36mDataFrameWriter.csv\u001B[0;34m(self, path, mode, compression, sep, quote, escape, header, nullValue, escapeQuotes, quoteAll, dateFormat, timestampFormat, ignoreLeadingWhiteSpace, ignoreTrailingWhiteSpace, charToEscapeQuoteEscaping, encoding, emptyValue, lineSep)\u001B[0m\n\u001B[1;32m   1845\u001B[0m \u001B[38;5;28mself\u001B[39m\u001B[38;5;241m.\u001B[39mmode(mode)\n\u001B[1;32m   1846\u001B[0m \u001B[38;5;28mself\u001B[39m\u001B[38;5;241m.\u001B[39m_set_opts(\n\u001B[1;32m   1847\u001B[0m     compression\u001B[38;5;241m=\u001B[39mcompression,\n\u001B[1;32m   1848\u001B[0m     sep\u001B[38;5;241m=\u001B[39msep,\n\u001B[0;32m   (...)\u001B[0m\n\u001B[1;32m   1862\u001B[0m     lineSep\u001B[38;5;241m=\u001B[39mlineSep,\n\u001B[1;32m   1863\u001B[0m )\n\u001B[0;32m-> 1864\u001B[0m \u001B[38;5;28;43mself\u001B[39;49m\u001B[38;5;241;43m.\u001B[39;49m\u001B[43m_jwrite\u001B[49m\u001B[38;5;241;43m.\u001B[39;49m\u001B[43mcsv\u001B[49m\u001B[43m(\u001B[49m\u001B[43mpath\u001B[49m\u001B[43m)\u001B[49m\n",
      "File \u001B[0;32m~/IASD/iasd/lib/python3.10/site-packages/py4j/java_gateway.py:1322\u001B[0m, in \u001B[0;36mJavaMember.__call__\u001B[0;34m(self, *args)\u001B[0m\n\u001B[1;32m   1316\u001B[0m command \u001B[38;5;241m=\u001B[39m proto\u001B[38;5;241m.\u001B[39mCALL_COMMAND_NAME \u001B[38;5;241m+\u001B[39m\\\n\u001B[1;32m   1317\u001B[0m     \u001B[38;5;28mself\u001B[39m\u001B[38;5;241m.\u001B[39mcommand_header \u001B[38;5;241m+\u001B[39m\\\n\u001B[1;32m   1318\u001B[0m     args_command \u001B[38;5;241m+\u001B[39m\\\n\u001B[1;32m   1319\u001B[0m     proto\u001B[38;5;241m.\u001B[39mEND_COMMAND_PART\n\u001B[1;32m   1321\u001B[0m answer \u001B[38;5;241m=\u001B[39m \u001B[38;5;28mself\u001B[39m\u001B[38;5;241m.\u001B[39mgateway_client\u001B[38;5;241m.\u001B[39msend_command(command)\n\u001B[0;32m-> 1322\u001B[0m return_value \u001B[38;5;241m=\u001B[39m \u001B[43mget_return_value\u001B[49m\u001B[43m(\u001B[49m\n\u001B[1;32m   1323\u001B[0m \u001B[43m    \u001B[49m\u001B[43manswer\u001B[49m\u001B[43m,\u001B[49m\u001B[43m \u001B[49m\u001B[38;5;28;43mself\u001B[39;49m\u001B[38;5;241;43m.\u001B[39;49m\u001B[43mgateway_client\u001B[49m\u001B[43m,\u001B[49m\u001B[43m \u001B[49m\u001B[38;5;28;43mself\u001B[39;49m\u001B[38;5;241;43m.\u001B[39;49m\u001B[43mtarget_id\u001B[49m\u001B[43m,\u001B[49m\u001B[43m \u001B[49m\u001B[38;5;28;43mself\u001B[39;49m\u001B[38;5;241;43m.\u001B[39;49m\u001B[43mname\u001B[49m\u001B[43m)\u001B[49m\n\u001B[1;32m   1325\u001B[0m \u001B[38;5;28;01mfor\u001B[39;00m temp_arg \u001B[38;5;129;01min\u001B[39;00m temp_args:\n\u001B[1;32m   1326\u001B[0m     \u001B[38;5;28;01mif\u001B[39;00m \u001B[38;5;28mhasattr\u001B[39m(temp_arg, \u001B[38;5;124m\"\u001B[39m\u001B[38;5;124m_detach\u001B[39m\u001B[38;5;124m\"\u001B[39m):\n",
      "File \u001B[0;32m~/IASD/iasd/lib/python3.10/site-packages/pyspark/errors/exceptions/captured.py:185\u001B[0m, in \u001B[0;36mcapture_sql_exception.<locals>.deco\u001B[0;34m(*a, **kw)\u001B[0m\n\u001B[1;32m    181\u001B[0m converted \u001B[38;5;241m=\u001B[39m convert_exception(e\u001B[38;5;241m.\u001B[39mjava_exception)\n\u001B[1;32m    182\u001B[0m \u001B[38;5;28;01mif\u001B[39;00m \u001B[38;5;129;01mnot\u001B[39;00m \u001B[38;5;28misinstance\u001B[39m(converted, UnknownException):\n\u001B[1;32m    183\u001B[0m     \u001B[38;5;66;03m# Hide where the exception came from that shows a non-Pythonic\u001B[39;00m\n\u001B[1;32m    184\u001B[0m     \u001B[38;5;66;03m# JVM exception message.\u001B[39;00m\n\u001B[0;32m--> 185\u001B[0m     \u001B[38;5;28;01mraise\u001B[39;00m converted \u001B[38;5;28;01mfrom\u001B[39;00m \u001B[38;5;28;01mNone\u001B[39;00m\n\u001B[1;32m    186\u001B[0m \u001B[38;5;28;01melse\u001B[39;00m:\n\u001B[1;32m    187\u001B[0m     \u001B[38;5;28;01mraise\u001B[39;00m\n",
      "\u001B[0;31mAnalysisException\u001B[0m: [PATH_ALREADY_EXISTS] Path file:/Users/quyenlinhta/IASD/bigdata/ml-20m/movies-sample.csv already exists. Set mode as \"overwrite\" to overwrite the existing path."
     ]
    }
   ],
   "execution_count": 68
  },
  {
   "cell_type": "code",
   "source": [
    "movies_df.sample(0.1).write.mode(\"overwrite\").csv(\"ml-20m/movies-sample.csv\")"
   ],
   "metadata": {
    "application/vnd.databricks.v1+cell": {
     "title": "",
     "showTitle": false,
     "inputWidgets": {},
     "nuid": "ff09fef0-9948-4cd8-8106-144152b3f5eb"
    },
    "id": "puHBOTv1xhSk",
    "ExecuteTime": {
     "end_time": "2023-12-19T14:47:36.458607Z",
     "start_time": "2023-12-19T14:47:36.285201Z"
    }
   },
   "outputs": [],
   "execution_count": 69
  },
  {
   "cell_type": "markdown",
   "source": [
    "Make sure you have written on filesystem correctly."
   ],
   "metadata": {
    "application/vnd.databricks.v1+cell": {
     "title": "",
     "showTitle": false,
     "inputWidgets": {},
     "nuid": "9c1a647b-a882-4ee8-be19-4b0d243bdb7f"
    },
    "id": "XwfnBqIPxhSl"
   }
  },
  {
   "cell_type": "code",
   "source": [
    "!cd ml-20m ; ls"
   ],
   "metadata": {
    "id": "Qz3eY3Nfz2Ta",
    "ExecuteTime": {
     "end_time": "2023-12-19T14:47:38.095879Z",
     "start_time": "2023-12-19T14:47:37.971472Z"
    }
   },
   "execution_count": 70,
   "outputs": [
    {
     "name": "stdout",
     "output_type": "stream",
     "text": [
      "README.txt          links.csv           ratings.csv         tags.csv\r\n",
      "genome-scores.csv   \u001B[1m\u001B[36mmovies-sample.csv\u001B[m\u001B[m   \u001B[1m\u001B[36mratings.parquet\u001B[m\u001B[m\r\n",
      "genome-tags.csv     movies.csv          \u001B[1m\u001B[36msampled_ratings.csv\u001B[m\u001B[m\r\n"
     ]
    }
   ]
  },
  {
   "cell_type": "code",
   "source": [
    "import os\n",
    "\n",
    "os.listdir(\"ml-20m\")"
   ],
   "metadata": {
    "application/vnd.databricks.v1+cell": {
     "title": "",
     "showTitle": false,
     "inputWidgets": {},
     "nuid": "5514eec6-3015-44fa-8e76-23ddf26f89f9"
    },
    "id": "wgXJEjduxhSm",
    "ExecuteTime": {
     "end_time": "2023-12-19T14:47:38.412232Z",
     "start_time": "2023-12-19T14:47:38.403359Z"
    }
   },
   "outputs": [
    {
     "data": {
      "text/plain": "['links.csv',\n 'sampled_ratings.csv',\n 'ratings.parquet',\n 'movies-sample.csv',\n 'tags.csv',\n 'genome-tags.csv',\n 'ratings.csv',\n 'README.txt',\n 'genome-scores.csv',\n 'movies.csv']"
     },
     "execution_count": 71,
     "metadata": {},
     "output_type": "execute_result"
    }
   ],
   "execution_count": 71
  },
  {
   "cell_type": "markdown",
   "source": [
    "This command writes a dataframe in parquet format :"
   ],
   "metadata": {
    "application/vnd.databricks.v1+cell": {
     "title": "",
     "showTitle": false,
     "inputWidgets": {},
     "nuid": "bd03d9df-44ce-4f17-ba9a-fc24ed460331"
    },
    "id": "v43TCkLKxhSn"
   }
  },
  {
   "cell_type": "code",
   "source": [
    "ratings_parquet_path = \"ml-20m/ratings.parquet\"\n",
    "spark.read.options(header=True).csv(ratings_path).write.parquet(ratings_parquet_path)"
   ],
   "metadata": {
    "application/vnd.databricks.v1+cell": {
     "title": "",
     "showTitle": false,
     "inputWidgets": {},
     "nuid": "b350b1d1-0f46-4d79-abd4-7602c646d62f"
    },
    "id": "RLC2OrUAxhSo",
    "ExecuteTime": {
     "end_time": "2023-12-19T14:47:39.423544Z",
     "start_time": "2023-12-19T14:47:39.308891Z"
    }
   },
   "outputs": [
    {
     "ename": "AnalysisException",
     "evalue": "[PATH_ALREADY_EXISTS] Path file:/Users/quyenlinhta/IASD/bigdata/ml-20m/ratings.parquet already exists. Set mode as \"overwrite\" to overwrite the existing path.",
     "output_type": "error",
     "traceback": [
      "\u001B[0;31m---------------------------------------------------------------------------\u001B[0m",
      "\u001B[0;31mAnalysisException\u001B[0m                         Traceback (most recent call last)",
      "Cell \u001B[0;32mIn[72], line 2\u001B[0m\n\u001B[1;32m      1\u001B[0m ratings_parquet_path \u001B[38;5;241m=\u001B[39m \u001B[38;5;124m\"\u001B[39m\u001B[38;5;124mml-20m/ratings.parquet\u001B[39m\u001B[38;5;124m\"\u001B[39m\n\u001B[0;32m----> 2\u001B[0m \u001B[43mspark\u001B[49m\u001B[38;5;241;43m.\u001B[39;49m\u001B[43mread\u001B[49m\u001B[38;5;241;43m.\u001B[39;49m\u001B[43moptions\u001B[49m\u001B[43m(\u001B[49m\u001B[43mheader\u001B[49m\u001B[38;5;241;43m=\u001B[39;49m\u001B[38;5;28;43;01mTrue\u001B[39;49;00m\u001B[43m)\u001B[49m\u001B[38;5;241;43m.\u001B[39;49m\u001B[43mcsv\u001B[49m\u001B[43m(\u001B[49m\u001B[43mratings_path\u001B[49m\u001B[43m)\u001B[49m\u001B[38;5;241;43m.\u001B[39;49m\u001B[43mwrite\u001B[49m\u001B[38;5;241;43m.\u001B[39;49m\u001B[43mparquet\u001B[49m\u001B[43m(\u001B[49m\u001B[43mratings_parquet_path\u001B[49m\u001B[43m)\u001B[49m\n",
      "File \u001B[0;32m~/IASD/iasd/lib/python3.10/site-packages/pyspark/sql/readwriter.py:1721\u001B[0m, in \u001B[0;36mDataFrameWriter.parquet\u001B[0;34m(self, path, mode, partitionBy, compression)\u001B[0m\n\u001B[1;32m   1719\u001B[0m     \u001B[38;5;28mself\u001B[39m\u001B[38;5;241m.\u001B[39mpartitionBy(partitionBy)\n\u001B[1;32m   1720\u001B[0m \u001B[38;5;28mself\u001B[39m\u001B[38;5;241m.\u001B[39m_set_opts(compression\u001B[38;5;241m=\u001B[39mcompression)\n\u001B[0;32m-> 1721\u001B[0m \u001B[38;5;28;43mself\u001B[39;49m\u001B[38;5;241;43m.\u001B[39;49m\u001B[43m_jwrite\u001B[49m\u001B[38;5;241;43m.\u001B[39;49m\u001B[43mparquet\u001B[49m\u001B[43m(\u001B[49m\u001B[43mpath\u001B[49m\u001B[43m)\u001B[49m\n",
      "File \u001B[0;32m~/IASD/iasd/lib/python3.10/site-packages/py4j/java_gateway.py:1322\u001B[0m, in \u001B[0;36mJavaMember.__call__\u001B[0;34m(self, *args)\u001B[0m\n\u001B[1;32m   1316\u001B[0m command \u001B[38;5;241m=\u001B[39m proto\u001B[38;5;241m.\u001B[39mCALL_COMMAND_NAME \u001B[38;5;241m+\u001B[39m\\\n\u001B[1;32m   1317\u001B[0m     \u001B[38;5;28mself\u001B[39m\u001B[38;5;241m.\u001B[39mcommand_header \u001B[38;5;241m+\u001B[39m\\\n\u001B[1;32m   1318\u001B[0m     args_command \u001B[38;5;241m+\u001B[39m\\\n\u001B[1;32m   1319\u001B[0m     proto\u001B[38;5;241m.\u001B[39mEND_COMMAND_PART\n\u001B[1;32m   1321\u001B[0m answer \u001B[38;5;241m=\u001B[39m \u001B[38;5;28mself\u001B[39m\u001B[38;5;241m.\u001B[39mgateway_client\u001B[38;5;241m.\u001B[39msend_command(command)\n\u001B[0;32m-> 1322\u001B[0m return_value \u001B[38;5;241m=\u001B[39m \u001B[43mget_return_value\u001B[49m\u001B[43m(\u001B[49m\n\u001B[1;32m   1323\u001B[0m \u001B[43m    \u001B[49m\u001B[43manswer\u001B[49m\u001B[43m,\u001B[49m\u001B[43m \u001B[49m\u001B[38;5;28;43mself\u001B[39;49m\u001B[38;5;241;43m.\u001B[39;49m\u001B[43mgateway_client\u001B[49m\u001B[43m,\u001B[49m\u001B[43m \u001B[49m\u001B[38;5;28;43mself\u001B[39;49m\u001B[38;5;241;43m.\u001B[39;49m\u001B[43mtarget_id\u001B[49m\u001B[43m,\u001B[49m\u001B[43m \u001B[49m\u001B[38;5;28;43mself\u001B[39;49m\u001B[38;5;241;43m.\u001B[39;49m\u001B[43mname\u001B[49m\u001B[43m)\u001B[49m\n\u001B[1;32m   1325\u001B[0m \u001B[38;5;28;01mfor\u001B[39;00m temp_arg \u001B[38;5;129;01min\u001B[39;00m temp_args:\n\u001B[1;32m   1326\u001B[0m     \u001B[38;5;28;01mif\u001B[39;00m \u001B[38;5;28mhasattr\u001B[39m(temp_arg, \u001B[38;5;124m\"\u001B[39m\u001B[38;5;124m_detach\u001B[39m\u001B[38;5;124m\"\u001B[39m):\n",
      "File \u001B[0;32m~/IASD/iasd/lib/python3.10/site-packages/pyspark/errors/exceptions/captured.py:185\u001B[0m, in \u001B[0;36mcapture_sql_exception.<locals>.deco\u001B[0;34m(*a, **kw)\u001B[0m\n\u001B[1;32m    181\u001B[0m converted \u001B[38;5;241m=\u001B[39m convert_exception(e\u001B[38;5;241m.\u001B[39mjava_exception)\n\u001B[1;32m    182\u001B[0m \u001B[38;5;28;01mif\u001B[39;00m \u001B[38;5;129;01mnot\u001B[39;00m \u001B[38;5;28misinstance\u001B[39m(converted, UnknownException):\n\u001B[1;32m    183\u001B[0m     \u001B[38;5;66;03m# Hide where the exception came from that shows a non-Pythonic\u001B[39;00m\n\u001B[1;32m    184\u001B[0m     \u001B[38;5;66;03m# JVM exception message.\u001B[39;00m\n\u001B[0;32m--> 185\u001B[0m     \u001B[38;5;28;01mraise\u001B[39;00m converted \u001B[38;5;28;01mfrom\u001B[39;00m \u001B[38;5;28;01mNone\u001B[39;00m\n\u001B[1;32m    186\u001B[0m \u001B[38;5;28;01melse\u001B[39;00m:\n\u001B[1;32m    187\u001B[0m     \u001B[38;5;28;01mraise\u001B[39;00m\n",
      "\u001B[0;31mAnalysisException\u001B[0m: [PATH_ALREADY_EXISTS] Path file:/Users/quyenlinhta/IASD/bigdata/ml-20m/ratings.parquet already exists. Set mode as \"overwrite\" to overwrite the existing path."
     ]
    }
   ],
   "execution_count": 72
  },
  {
   "cell_type": "markdown",
   "source": [
    "# Questions"
   ],
   "metadata": {
    "id": "a2FhfvjCEWQW"
   }
  },
  {
   "cell_type": "markdown",
   "source": [
    "## Question 0: Compare processing time and amount of executors used, when reading from csv versus reading from parquet, for the following pipelines:\n",
    "- count total amount of records\n",
    "- count total amount of records for user 1\n",
    "- distinct count of timestamps"
   ],
   "metadata": {
    "application/vnd.databricks.v1+cell": {
     "title": "",
     "showTitle": false,
     "inputWidgets": {},
     "nuid": "3490aef9-8fc9-43c6-8f47-581ba1995d03"
    },
    "id": "3GrJ_cooxhSo"
   }
  },
  {
   "cell_type": "markdown",
   "source": [
    "**hint** `countDistinct` method can be used for third pipeline"
   ],
   "metadata": {
    "application/vnd.databricks.v1+cell": {
     "title": "",
     "showTitle": false,
     "inputWidgets": {},
     "nuid": "957cb22c-bb77-4f4f-be22-a2243e39d628"
    },
    "id": "jl5jSFp2xhSo"
   }
  },
  {
   "cell_type": "code",
   "source": [
    "def timeit(func):\n",
    "    import time\n",
    "    def wrapper(*args, **kwargs):\n",
    "        start = time.time()\n",
    "        result = func(*args, **kwargs)\n",
    "        end = time.time()\n",
    "        print(f\"Execution time: {end - start}\")\n",
    "        return result\n",
    "\n",
    "    return wrapper"
   ],
   "metadata": {
    "application/vnd.databricks.v1+cell": {
     "title": "",
     "showTitle": false,
     "inputWidgets": {},
     "nuid": "349bc8b9-3c77-40f6-b5c9-27fce22156fc"
    },
    "id": "W9kd5Z0uxhSr",
    "ExecuteTime": {
     "end_time": "2023-12-19T14:47:41.099677Z",
     "start_time": "2023-12-19T14:47:41.089836Z"
    }
   },
   "outputs": [],
   "execution_count": 73
  },
  {
   "cell_type": "code",
   "execution_count": 74,
   "outputs": [],
   "source": [
    "import warnings\n",
    "\n",
    "warnings.filterwarnings(\"ignore\")"
   ],
   "metadata": {
    "collapsed": false,
    "ExecuteTime": {
     "end_time": "2023-12-19T14:47:42.285990Z",
     "start_time": "2023-12-19T14:47:42.275148Z"
    }
   }
  },
  {
   "cell_type": "code",
   "execution_count": 75,
   "outputs": [
    {
     "name": "stderr",
     "output_type": "stream",
     "text": [
      "                                                                                \r"
     ]
    },
    {
     "name": "stdout",
     "output_type": "stream",
     "text": [
      "Execution time: 0.9606108665466309\n",
      "Counting records for csv: 20000263\n",
      "Execution time: 0.21493005752563477\n",
      "Counting records for parquet: 20000263\n"
     ]
    },
    {
     "name": "stderr",
     "output_type": "stream",
     "text": [
      "                                                                                \r"
     ]
    },
    {
     "name": "stdout",
     "output_type": "stream",
     "text": [
      "Execution time: 3.397679328918457\n",
      "Counting records for user 1 for csv: 175\n"
     ]
    },
    {
     "name": "stderr",
     "output_type": "stream",
     "text": [
      "                                                                                \r"
     ]
    },
    {
     "name": "stdout",
     "output_type": "stream",
     "text": [
      "Execution time: 0.9519250392913818\n",
      "Counting records for user 1 for parquet: 175\n",
      "Counting distinct timestamps for csv:\n"
     ]
    },
    {
     "name": "stderr",
     "output_type": "stream",
     "text": [
      "23/12/19 15:47:50 WARN RowBasedKeyValueBatch: Calling spill() on RowBasedKeyValueBatch. Will not spill but return 0.\n",
      "23/12/19 15:47:50 WARN RowBasedKeyValueBatch: Calling spill() on RowBasedKeyValueBatch. Will not spill but return 0.\n",
      "23/12/19 15:47:50 WARN RowBasedKeyValueBatch: Calling spill() on RowBasedKeyValueBatch. Will not spill but return 0.\n",
      "23/12/19 15:47:50 WARN RowBasedKeyValueBatch: Calling spill() on RowBasedKeyValueBatch. Will not spill but return 0.\n",
      "23/12/19 15:47:50 WARN RowBasedKeyValueBatch: Calling spill() on RowBasedKeyValueBatch. Will not spill but return 0.\n",
      "23/12/19 15:47:50 WARN RowBasedKeyValueBatch: Calling spill() on RowBasedKeyValueBatch. Will not spill but return 0.\n",
      "23/12/19 15:47:50 WARN RowBasedKeyValueBatch: Calling spill() on RowBasedKeyValueBatch. Will not spill but return 0.\n",
      "23/12/19 15:47:50 WARN RowBasedKeyValueBatch: Calling spill() on RowBasedKeyValueBatch. Will not spill but return 0.\n",
      "23/12/19 15:47:51 WARN RowBasedKeyValueBatch: Calling spill() on RowBasedKeyValueBatch. Will not spill but return 0.\n",
      "23/12/19 15:47:51 WARN RowBasedKeyValueBatch: Calling spill() on RowBasedKeyValueBatch. Will not spill but return 0.\n",
      "23/12/19 15:47:51 WARN RowBasedKeyValueBatch: Calling spill() on RowBasedKeyValueBatch. Will not spill but return 0.\n",
      "23/12/19 15:47:51 WARN RowBasedKeyValueBatch: Calling spill() on RowBasedKeyValueBatch. Will not spill but return 0.\n",
      "23/12/19 15:47:51 WARN RowBasedKeyValueBatch: Calling spill() on RowBasedKeyValueBatch. Will not spill but return 0.\n",
      "23/12/19 15:47:51 WARN RowBasedKeyValueBatch: Calling spill() on RowBasedKeyValueBatch. Will not spill but return 0.\n",
      "23/12/19 15:47:51 WARN RowBasedKeyValueBatch: Calling spill() on RowBasedKeyValueBatch. Will not spill but return 0.\n",
      "23/12/19 15:47:51 WARN RowBasedKeyValueBatch: Calling spill() on RowBasedKeyValueBatch. Will not spill but return 0.\n",
      "23/12/19 15:47:52 WARN RowBasedKeyValueBatch: Calling spill() on RowBasedKeyValueBatch. Will not spill but return 0.\n",
      "23/12/19 15:47:52 WARN RowBasedKeyValueBatch: Calling spill() on RowBasedKeyValueBatch. Will not spill but return 0.\n",
      "23/12/19 15:47:52 WARN RowBasedKeyValueBatch: Calling spill() on RowBasedKeyValueBatch. Will not spill but return 0.\n",
      "23/12/19 15:47:52 WARN RowBasedKeyValueBatch: Calling spill() on RowBasedKeyValueBatch. Will not spill but return 0.\n",
      "23/12/19 15:47:53 WARN RowBasedKeyValueBatch: Calling spill() on RowBasedKeyValueBatch. Will not spill but return 0.\n",
      "23/12/19 15:47:53 WARN RowBasedKeyValueBatch: Calling spill() on RowBasedKeyValueBatch. Will not spill but return 0.\n",
      "23/12/19 15:47:53 WARN RowBasedKeyValueBatch: Calling spill() on RowBasedKeyValueBatch. Will not spill but return 0.\n",
      "23/12/19 15:47:53 WARN RowBasedKeyValueBatch: Calling spill() on RowBasedKeyValueBatch. Will not spill but return 0.\n",
      "23/12/19 15:47:56 WARN RowBasedKeyValueBatch: Calling spill() on RowBasedKeyValueBatch. Will not spill but return 0.\n",
      "23/12/19 15:47:56 WARN RowBasedKeyValueBatch: Calling spill() on RowBasedKeyValueBatch. Will not spill but return 0.\n",
      "23/12/19 15:47:56 WARN RowBasedKeyValueBatch: Calling spill() on RowBasedKeyValueBatch. Will not spill but return 0.\n",
      "23/12/19 15:47:56 WARN RowBasedKeyValueBatch: Calling spill() on RowBasedKeyValueBatch. Will not spill but return 0.\n",
      "23/12/19 15:47:56 WARN RowBasedKeyValueBatch: Calling spill() on RowBasedKeyValueBatch. Will not spill but return 0.\n",
      "23/12/19 15:47:56 WARN RowBasedKeyValueBatch: Calling spill() on RowBasedKeyValueBatch. Will not spill but return 0.\n",
      "23/12/19 15:47:56 WARN RowBasedKeyValueBatch: Calling spill() on RowBasedKeyValueBatch. Will not spill but return 0.\n",
      "23/12/19 15:47:56 WARN RowBasedKeyValueBatch: Calling spill() on RowBasedKeyValueBatch. Will not spill but return 0.\n",
      "23/12/19 15:47:56 WARN RowBasedKeyValueBatch: Calling spill() on RowBasedKeyValueBatch. Will not spill but return 0.\n",
      "23/12/19 15:47:56 WARN RowBasedKeyValueBatch: Calling spill() on RowBasedKeyValueBatch. Will not spill but return 0.\n",
      "23/12/19 15:47:56 WARN RowBasedKeyValueBatch: Calling spill() on RowBasedKeyValueBatch. Will not spill but return 0.\n",
      "23/12/19 15:47:56 WARN RowBasedKeyValueBatch: Calling spill() on RowBasedKeyValueBatch. Will not spill but return 0.\n",
      "23/12/19 15:47:56 WARN RowBasedKeyValueBatch: Calling spill() on RowBasedKeyValueBatch. Will not spill but return 0.\n",
      "23/12/19 15:47:56 WARN RowBasedKeyValueBatch: Calling spill() on RowBasedKeyValueBatch. Will not spill but return 0.\n",
      "23/12/19 15:47:56 WARN RowBasedKeyValueBatch: Calling spill() on RowBasedKeyValueBatch. Will not spill but return 0.\n",
      "23/12/19 15:47:57 WARN RowBasedKeyValueBatch: Calling spill() on RowBasedKeyValueBatch. Will not spill but return 0.\n",
      "23/12/19 15:47:57 WARN RowBasedKeyValueBatch: Calling spill() on RowBasedKeyValueBatch. Will not spill but return 0.\n",
      "23/12/19 15:47:57 WARN RowBasedKeyValueBatch: Calling spill() on RowBasedKeyValueBatch. Will not spill but return 0.\n",
      "23/12/19 15:47:57 WARN RowBasedKeyValueBatch: Calling spill() on RowBasedKeyValueBatch. Will not spill but return 0.\n",
      "23/12/19 15:47:57 WARN RowBasedKeyValueBatch: Calling spill() on RowBasedKeyValueBatch. Will not spill but return 0.\n",
      "23/12/19 15:47:57 WARN RowBasedKeyValueBatch: Calling spill() on RowBasedKeyValueBatch. Will not spill but return 0.\n",
      "23/12/19 15:47:57 WARN RowBasedKeyValueBatch: Calling spill() on RowBasedKeyValueBatch. Will not spill but return 0.\n",
      "23/12/19 15:47:57 WARN RowBasedKeyValueBatch: Calling spill() on RowBasedKeyValueBatch. Will not spill but return 0.\n",
      "23/12/19 15:47:57 WARN RowBasedKeyValueBatch: Calling spill() on RowBasedKeyValueBatch. Will not spill but return 0.\n",
      "                                                                                \r"
     ]
    },
    {
     "name": "stdout",
     "output_type": "stream",
     "text": [
      "+-------------------------+\n",
      "|count(DISTINCT timestamp)|\n",
      "+-------------------------+\n",
      "|                 15351121|\n",
      "+-------------------------+\n",
      "\n",
      "Execution time: 9.734538078308105\n",
      "Counting distinct timestamps for parquet:\n"
     ]
    },
    {
     "name": "stderr",
     "output_type": "stream",
     "text": [
      "23/12/19 15:47:59 WARN RowBasedKeyValueBatch: Calling spill() on RowBasedKeyValueBatch. Will not spill but return 0.\n",
      "23/12/19 15:47:59 WARN RowBasedKeyValueBatch: Calling spill() on RowBasedKeyValueBatch. Will not spill but return 0.\n",
      "23/12/19 15:47:59 WARN RowBasedKeyValueBatch: Calling spill() on RowBasedKeyValueBatch. Will not spill but return 0.\n",
      "23/12/19 15:47:59 WARN RowBasedKeyValueBatch: Calling spill() on RowBasedKeyValueBatch. Will not spill but return 0.\n",
      "23/12/19 15:47:59 WARN RowBasedKeyValueBatch: Calling spill() on RowBasedKeyValueBatch. Will not spill but return 0.\n",
      "23/12/19 15:47:59 WARN RowBasedKeyValueBatch: Calling spill() on RowBasedKeyValueBatch. Will not spill but return 0.\n",
      "23/12/19 15:47:59 WARN RowBasedKeyValueBatch: Calling spill() on RowBasedKeyValueBatch. Will not spill but return 0.\n",
      "23/12/19 15:47:59 WARN RowBasedKeyValueBatch: Calling spill() on RowBasedKeyValueBatch. Will not spill but return 0.\n",
      "23/12/19 15:47:59 WARN RowBasedKeyValueBatch: Calling spill() on RowBasedKeyValueBatch. Will not spill but return 0.\n",
      "23/12/19 15:47:59 WARN RowBasedKeyValueBatch: Calling spill() on RowBasedKeyValueBatch. Will not spill but return 0.\n",
      "23/12/19 15:47:59 WARN RowBasedKeyValueBatch: Calling spill() on RowBasedKeyValueBatch. Will not spill but return 0.\n",
      "23/12/19 15:47:59 WARN RowBasedKeyValueBatch: Calling spill() on RowBasedKeyValueBatch. Will not spill but return 0.\n",
      "23/12/19 15:47:59 WARN RowBasedKeyValueBatch: Calling spill() on RowBasedKeyValueBatch. Will not spill but return 0.\n",
      "23/12/19 15:47:59 WARN RowBasedKeyValueBatch: Calling spill() on RowBasedKeyValueBatch. Will not spill but return 0.\n",
      "23/12/19 15:47:59 WARN RowBasedKeyValueBatch: Calling spill() on RowBasedKeyValueBatch. Will not spill but return 0.\n",
      "23/12/19 15:47:59 WARN RowBasedKeyValueBatch: Calling spill() on RowBasedKeyValueBatch. Will not spill but return 0.\n",
      "23/12/19 15:48:00 WARN RowBasedKeyValueBatch: Calling spill() on RowBasedKeyValueBatch. Will not spill but return 0.\n",
      "23/12/19 15:48:00 WARN RowBasedKeyValueBatch: Calling spill() on RowBasedKeyValueBatch. Will not spill but return 0.\n",
      "23/12/19 15:48:00 WARN RowBasedKeyValueBatch: Calling spill() on RowBasedKeyValueBatch. Will not spill but return 0.\n",
      "23/12/19 15:48:00 WARN RowBasedKeyValueBatch: Calling spill() on RowBasedKeyValueBatch. Will not spill but return 0.\n",
      "23/12/19 15:48:00 WARN RowBasedKeyValueBatch: Calling spill() on RowBasedKeyValueBatch. Will not spill but return 0.\n",
      "23/12/19 15:48:00 WARN RowBasedKeyValueBatch: Calling spill() on RowBasedKeyValueBatch. Will not spill but return 0.\n",
      "23/12/19 15:48:00 WARN RowBasedKeyValueBatch: Calling spill() on RowBasedKeyValueBatch. Will not spill but return 0.\n",
      "23/12/19 15:48:00 WARN RowBasedKeyValueBatch: Calling spill() on RowBasedKeyValueBatch. Will not spill but return 0.\n",
      "23/12/19 15:48:03 WARN RowBasedKeyValueBatch: Calling spill() on RowBasedKeyValueBatch. Will not spill but return 0.\n",
      "23/12/19 15:48:03 WARN RowBasedKeyValueBatch: Calling spill() on RowBasedKeyValueBatch. Will not spill but return 0.\n",
      "23/12/19 15:48:03 WARN RowBasedKeyValueBatch: Calling spill() on RowBasedKeyValueBatch. Will not spill but return 0.\n",
      "23/12/19 15:48:03 WARN RowBasedKeyValueBatch: Calling spill() on RowBasedKeyValueBatch. Will not spill but return 0.\n",
      "23/12/19 15:48:03 WARN RowBasedKeyValueBatch: Calling spill() on RowBasedKeyValueBatch. Will not spill but return 0.\n",
      "23/12/19 15:48:03 WARN RowBasedKeyValueBatch: Calling spill() on RowBasedKeyValueBatch. Will not spill but return 0.\n",
      "23/12/19 15:48:03 WARN RowBasedKeyValueBatch: Calling spill() on RowBasedKeyValueBatch. Will not spill but return 0.\n",
      "23/12/19 15:48:03 WARN RowBasedKeyValueBatch: Calling spill() on RowBasedKeyValueBatch. Will not spill but return 0.\n",
      "23/12/19 15:48:03 WARN RowBasedKeyValueBatch: Calling spill() on RowBasedKeyValueBatch. Will not spill but return 0.\n",
      "23/12/19 15:48:03 WARN RowBasedKeyValueBatch: Calling spill() on RowBasedKeyValueBatch. Will not spill but return 0.\n",
      "23/12/19 15:48:03 WARN RowBasedKeyValueBatch: Calling spill() on RowBasedKeyValueBatch. Will not spill but return 0.\n",
      "23/12/19 15:48:03 WARN RowBasedKeyValueBatch: Calling spill() on RowBasedKeyValueBatch. Will not spill but return 0.\n",
      "23/12/19 15:48:03 WARN RowBasedKeyValueBatch: Calling spill() on RowBasedKeyValueBatch. Will not spill but return 0.\n",
      "23/12/19 15:48:03 WARN RowBasedKeyValueBatch: Calling spill() on RowBasedKeyValueBatch. Will not spill but return 0.\n",
      "23/12/19 15:48:03 WARN RowBasedKeyValueBatch: Calling spill() on RowBasedKeyValueBatch. Will not spill but return 0.\n",
      "23/12/19 15:48:03 WARN RowBasedKeyValueBatch: Calling spill() on RowBasedKeyValueBatch. Will not spill but return 0.\n",
      "23/12/19 15:48:03 WARN RowBasedKeyValueBatch: Calling spill() on RowBasedKeyValueBatch. Will not spill but return 0.\n",
      "23/12/19 15:48:03 WARN RowBasedKeyValueBatch: Calling spill() on RowBasedKeyValueBatch. Will not spill but return 0.\n",
      "23/12/19 15:48:03 WARN RowBasedKeyValueBatch: Calling spill() on RowBasedKeyValueBatch. Will not spill but return 0.\n",
      "23/12/19 15:48:03 WARN RowBasedKeyValueBatch: Calling spill() on RowBasedKeyValueBatch. Will not spill but return 0.\n",
      "23/12/19 15:48:04 WARN RowBasedKeyValueBatch: Calling spill() on RowBasedKeyValueBatch. Will not spill but return 0.\n",
      "23/12/19 15:48:04 WARN RowBasedKeyValueBatch: Calling spill() on RowBasedKeyValueBatch. Will not spill but return 0.\n",
      "23/12/19 15:48:04 WARN RowBasedKeyValueBatch: Calling spill() on RowBasedKeyValueBatch. Will not spill but return 0.\n",
      "23/12/19 15:48:04 WARN RowBasedKeyValueBatch: Calling spill() on RowBasedKeyValueBatch. Will not spill but return 0.\n"
     ]
    },
    {
     "name": "stdout",
     "output_type": "stream",
     "text": [
      "+-------------------------+\n",
      "|count(DISTINCT timestamp)|\n",
      "+-------------------------+\n",
      "|                 15351121|\n",
      "+-------------------------+\n",
      "\n",
      "Execution time: 6.573633909225464\n"
     ]
    },
    {
     "name": "stderr",
     "output_type": "stream",
     "text": [
      "                                                                                \r"
     ]
    }
   ],
   "source": [
    "@timeit\n",
    "def count_records(df):\n",
    "    return df.count()\n",
    "\n",
    "\n",
    "@timeit\n",
    "def count_records_for_user(df, user_id):\n",
    "    return df.filter(f\"userId={user_id}\").count()\n",
    "\n",
    "\n",
    "@timeit\n",
    "def count_distinct_timestamps(df):\n",
    "    return df.select(F.countDistinct(\"timestamp\")).show()\n",
    "\n",
    "\n",
    "for_df = spark.read.options(header=True).csv(ratings_path)\n",
    "for_parquet = spark.read.parquet(ratings_parquet_path)\n",
    "print(\"Counting records for csv:\", count_records(for_df))\n",
    "print(\"Counting records for parquet:\", count_records(for_parquet))\n",
    "\n",
    "print(\"Counting records for user 1 for csv:\", count_records_for_user(for_df, 1))\n",
    "print(\"Counting records for user 1 for parquet:\", count_records_for_user(for_parquet, 1))\n",
    "\n",
    "print(\"Counting distinct timestamps for csv:\")\n",
    "count_distinct_timestamps(for_df)\n",
    "print(\"Counting distinct timestamps for parquet:\")\n",
    "count_distinct_timestamps(for_parquet)"
   ],
   "metadata": {
    "collapsed": false,
    "ExecuteTime": {
     "end_time": "2023-12-19T14:48:05.186433Z",
     "start_time": "2023-12-19T14:47:43.066459Z"
    }
   }
  },
  {
   "cell_type": "markdown",
   "source": [
    "## Question 1: Compute the (average, max, min) rating per movie, and get the highest and lowest rated movies ?"
   ],
   "metadata": {
    "application/vnd.databricks.v1+cell": {
     "title": "",
     "showTitle": false,
     "inputWidgets": {},
     "nuid": "5a6d3266-ec98-4f17-998a-906c7db92d37"
    },
    "id": "1cGBCABrxhSv"
   }
  },
  {
   "cell_type": "markdown",
   "source": [
    "**hint** Straightforward GroupBy then Aggregate"
   ],
   "metadata": {
    "application/vnd.databricks.v1+cell": {
     "title": "",
     "showTitle": false,
     "inputWidgets": {},
     "nuid": "c9afac8a-2b7b-4f64-8558-07659bf6c01f"
    },
    "id": "jmpnXpqKxhSv"
   }
  },
  {
   "cell_type": "code",
   "source": [
    "ratings_df.show(5)"
   ],
   "metadata": {
    "application/vnd.databricks.v1+cell": {
     "title": "",
     "showTitle": false,
     "inputWidgets": {},
     "nuid": "3826159f-9982-4754-8151-8f341f65e7ea"
    },
    "id": "kPEbH3ZXxhSw",
    "ExecuteTime": {
     "end_time": "2023-12-19T14:48:05.229336Z",
     "start_time": "2023-12-19T14:48:05.188714Z"
    }
   },
   "outputs": [
    {
     "name": "stdout",
     "output_type": "stream",
     "text": [
      "+------+-------+------+----------+\n",
      "|userId|movieId|rating| timestamp|\n",
      "+------+-------+------+----------+\n",
      "|     1|   1278|   4.0|1094785986|\n",
      "|     3|   1084|   5.0| 944918103|\n",
      "|     7|    788|   3.0|1011208527|\n",
      "|     7|   3334|   3.0|1011207570|\n",
      "|     7|   3417|   5.0|1011206698|\n",
      "+------+-------+------+----------+\n"
     ]
    }
   ],
   "execution_count": 76
  },
  {
   "cell_type": "code",
   "execution_count": 77,
   "outputs": [],
   "source": [
    "def get_avg_max_min(df):\n",
    "    return df.groupBy(\"movieId\").agg(F.avg(\"rating\"), F.max(\"rating\"), F.min(\"rating\")).show()"
   ],
   "metadata": {
    "collapsed": false,
    "ExecuteTime": {
     "end_time": "2023-12-19T14:48:05.231049Z",
     "start_time": "2023-12-19T14:48:05.215278Z"
    }
   }
  },
  {
   "cell_type": "code",
   "execution_count": 78,
   "outputs": [
    {
     "name": "stdout",
     "output_type": "stream",
     "text": [
      "The highest and lowest average rated movies are:\n",
      "+-------+------------------+-----------+-----------+\n",
      "|movieId|       avg(rating)|max(rating)|min(rating)|\n",
      "+-------+------------------+-----------+-----------+\n",
      "|      1|3.8811320754716983|        5.0|        0.5|\n",
      "|     10|3.4105263157894736|        5.0|        0.5|\n",
      "|    100|3.3421052631578947|        5.0|        1.0|\n",
      "|   1000|               3.5|        5.0|        2.0|\n",
      "| 100032|               3.0|        3.0|        3.0|\n",
      "| 100052|               0.5|        0.5|        0.5|\n",
      "| 100072|               3.0|        3.0|        3.0|\n",
      "| 100083|               2.5|        2.5|        2.5|\n",
      "| 100108|2.8333333333333335|        3.5|        2.0|\n",
      "| 100163|               3.0|        3.0|        3.0|\n",
      "|   1002|               3.0|        3.0|        3.0|\n",
      "| 100244|3.3333333333333335|        3.5|        3.0|\n",
      "| 100253|               3.0|        3.0|        3.0|\n",
      "|   1003|3.1666666666666665|        5.0|        2.0|\n",
      "| 100302|               2.5|        2.5|        2.5|\n",
      "| 100304|               1.5|        1.5|        1.5|\n",
      "| 100326|               3.5|        4.0|        3.0|\n",
      "| 100330|               4.0|        4.0|        4.0|\n",
      "| 100342|               3.0|        3.0|        3.0|\n",
      "| 100363|               4.0|        4.0|        4.0|\n",
      "+-------+------------------+-----------+-----------+\n",
      "only showing top 20 rows\n"
     ]
    },
    {
     "name": "stderr",
     "output_type": "stream",
     "text": [
      "                                                                                \r"
     ]
    }
   ],
   "source": [
    "print(\"The highest and lowest average rated movies are:\")\n",
    "get_avg_max_min(ratings_df)"
   ],
   "metadata": {
    "collapsed": false,
    "ExecuteTime": {
     "end_time": "2023-12-19T14:48:06.020330Z",
     "start_time": "2023-12-19T14:48:05.219675Z"
    }
   }
  },
  {
   "cell_type": "code",
   "execution_count": 105,
   "outputs": [
    {
     "name": "stdout",
     "output_type": "stream",
     "text": [
      "+-------+-----------+-----------+-----------+\n",
      "|movieId|avg(rating)|max(rating)|min(rating)|\n",
      "+-------+-----------+-----------+-----------+\n",
      "| 100509|        5.0|        5.0|        5.0|\n",
      "+-------+-----------+-----------+-----------+\n"
     ]
    }
   ],
   "source": [
    "question1 = ratings_df.groupBy(\"movieId\").agg(F.avg(\"rating\"), F.max(\"rating\"), F.min(\"rating\"))\n",
    "max_rating = question1.agg(F.max(\"avg(rating)\")).collect()[0][0]\n",
    "question1.filter(F.col(\"avg(rating)\") == max_rating).show(1)"
   ],
   "metadata": {
    "collapsed": false,
    "ExecuteTime": {
     "end_time": "2023-12-19T15:05:07.323386Z",
     "start_time": "2023-12-19T15:05:06.591503Z"
    }
   }
  },
  {
   "cell_type": "code",
   "execution_count": 107,
   "outputs": [
    {
     "name": "stdout",
     "output_type": "stream",
     "text": [
      "+-------+-----------+-----------+-----------+\n",
      "|movieId|avg(rating)|max(rating)|min(rating)|\n",
      "+-------+-----------+-----------+-----------+\n",
      "| 100052|        0.5|        0.5|        0.5|\n",
      "+-------+-----------+-----------+-----------+\n"
     ]
    }
   ],
   "source": [
    "min_rating = question1.agg(F.min(\"avg(rating)\")).collect()[0][0]\n",
    "question1.filter(F.col(\"avg(rating)\") == min_rating).show(1)"
   ],
   "metadata": {
    "collapsed": false,
    "ExecuteTime": {
     "end_time": "2023-12-19T15:06:16.654866Z",
     "start_time": "2023-12-19T15:06:16.024551Z"
    }
   }
  },
  {
   "cell_type": "code",
   "execution_count": 87,
   "outputs": [
    {
     "ename": "AnalysisException",
     "evalue": "[INVALID_LIMIT_LIKE_EXPRESSION.IS_NEGATIVE] The limit like expression \"-1\" is invalid. The limit expression must be equal to or greater than 0, but got -1.;\nGlobalLimit -1\n+- LocalLimit -1\n   +- Sort [avg(rating)#4703 ASC NULLS FIRST], true\n      +- Aggregate [movieId#1820], [movieId#1820, avg(cast(rating#1821 as double)) AS avg(rating)#4703, max(rating#1821) AS max(rating)#4704, min(rating#1821) AS min(rating)#4705]\n         +- Sample 0.0, 0.01, false, 8901743572571516393\n            +- Relation [userId#1819,movieId#1820,rating#1821,timestamp#1822] csv\n",
     "output_type": "error",
     "traceback": [
      "\u001B[0;31m---------------------------------------------------------------------------\u001B[0m",
      "\u001B[0;31mAnalysisException\u001B[0m                         Traceback (most recent call last)",
      "Cell \u001B[0;32mIn[87], line 1\u001B[0m\n\u001B[0;32m----> 1\u001B[0m \u001B[43mratings_df\u001B[49m\u001B[38;5;241;43m.\u001B[39;49m\u001B[43mgroupBy\u001B[49m\u001B[43m(\u001B[49m\u001B[38;5;124;43m\"\u001B[39;49m\u001B[38;5;124;43mmovieId\u001B[39;49m\u001B[38;5;124;43m\"\u001B[39;49m\u001B[43m)\u001B[49m\u001B[38;5;241;43m.\u001B[39;49m\u001B[43magg\u001B[49m\u001B[43m(\u001B[49m\u001B[43mF\u001B[49m\u001B[38;5;241;43m.\u001B[39;49m\u001B[43mavg\u001B[49m\u001B[43m(\u001B[49m\u001B[38;5;124;43m\"\u001B[39;49m\u001B[38;5;124;43mrating\u001B[39;49m\u001B[38;5;124;43m\"\u001B[39;49m\u001B[43m)\u001B[49m\u001B[43m,\u001B[49m\u001B[43m \u001B[49m\u001B[43mF\u001B[49m\u001B[38;5;241;43m.\u001B[39;49m\u001B[43mmax\u001B[49m\u001B[43m(\u001B[49m\u001B[38;5;124;43m\"\u001B[39;49m\u001B[38;5;124;43mrating\u001B[39;49m\u001B[38;5;124;43m\"\u001B[39;49m\u001B[43m)\u001B[49m\u001B[43m,\u001B[49m\u001B[43m \u001B[49m\u001B[43mF\u001B[49m\u001B[38;5;241;43m.\u001B[39;49m\u001B[43mmin\u001B[49m\u001B[43m(\u001B[49m\u001B[38;5;124;43m\"\u001B[39;49m\u001B[38;5;124;43mrating\u001B[39;49m\u001B[38;5;124;43m\"\u001B[39;49m\u001B[43m)\u001B[49m\u001B[43m)\u001B[49m\u001B[38;5;241;43m.\u001B[39;49m\u001B[43msort\u001B[49m\u001B[43m(\u001B[49m\u001B[38;5;124;43m\"\u001B[39;49m\u001B[38;5;124;43mavg(rating)\u001B[39;49m\u001B[38;5;124;43m\"\u001B[39;49m\u001B[43m)\u001B[49m\u001B[38;5;241;43m.\u001B[39;49m\u001B[43mtake\u001B[49m\u001B[43m(\u001B[49m\u001B[38;5;241;43m-\u001B[39;49m\u001B[38;5;241;43m1\u001B[39;49m\u001B[43m)\u001B[49m\n",
      "File \u001B[0;32m~/IASD/iasd/lib/python3.10/site-packages/pyspark/sql/dataframe.py:1401\u001B[0m, in \u001B[0;36mDataFrame.take\u001B[0;34m(self, num)\u001B[0m\n\u001B[1;32m   1372\u001B[0m \u001B[38;5;28;01mdef\u001B[39;00m \u001B[38;5;21mtake\u001B[39m(\u001B[38;5;28mself\u001B[39m, num: \u001B[38;5;28mint\u001B[39m) \u001B[38;5;241m-\u001B[39m\u001B[38;5;241m>\u001B[39m List[Row]:\n\u001B[1;32m   1373\u001B[0m \u001B[38;5;250m    \u001B[39m\u001B[38;5;124;03m\"\"\"Returns the first ``num`` rows as a :class:`list` of :class:`Row`.\u001B[39;00m\n\u001B[1;32m   1374\u001B[0m \n\u001B[1;32m   1375\u001B[0m \u001B[38;5;124;03m    .. versionadded:: 1.3.0\u001B[39;00m\n\u001B[0;32m   (...)\u001B[0m\n\u001B[1;32m   1399\u001B[0m \u001B[38;5;124;03m    [Row(age=14, name='Tom'), Row(age=23, name='Alice')]\u001B[39;00m\n\u001B[1;32m   1400\u001B[0m \u001B[38;5;124;03m    \"\"\"\u001B[39;00m\n\u001B[0;32m-> 1401\u001B[0m     \u001B[38;5;28;01mreturn\u001B[39;00m \u001B[38;5;28;43mself\u001B[39;49m\u001B[38;5;241;43m.\u001B[39;49m\u001B[43mlimit\u001B[49m\u001B[43m(\u001B[49m\u001B[43mnum\u001B[49m\u001B[43m)\u001B[49m\u001B[38;5;241m.\u001B[39mcollect()\n",
      "File \u001B[0;32m~/IASD/iasd/lib/python3.10/site-packages/pyspark/sql/dataframe.py:1331\u001B[0m, in \u001B[0;36mDataFrame.limit\u001B[0;34m(self, num)\u001B[0m\n\u001B[1;32m   1296\u001B[0m \u001B[38;5;28;01mdef\u001B[39;00m \u001B[38;5;21mlimit\u001B[39m(\u001B[38;5;28mself\u001B[39m, num: \u001B[38;5;28mint\u001B[39m) \u001B[38;5;241m-\u001B[39m\u001B[38;5;241m>\u001B[39m \u001B[38;5;124m\"\u001B[39m\u001B[38;5;124mDataFrame\u001B[39m\u001B[38;5;124m\"\u001B[39m:\n\u001B[1;32m   1297\u001B[0m \u001B[38;5;250m    \u001B[39m\u001B[38;5;124;03m\"\"\"Limits the result count to the number specified.\u001B[39;00m\n\u001B[1;32m   1298\u001B[0m \n\u001B[1;32m   1299\u001B[0m \u001B[38;5;124;03m    .. versionadded:: 1.3.0\u001B[39;00m\n\u001B[0;32m   (...)\u001B[0m\n\u001B[1;32m   1329\u001B[0m \u001B[38;5;124;03m    +---+----+\u001B[39;00m\n\u001B[1;32m   1330\u001B[0m \u001B[38;5;124;03m    \"\"\"\u001B[39;00m\n\u001B[0;32m-> 1331\u001B[0m     jdf \u001B[38;5;241m=\u001B[39m \u001B[38;5;28;43mself\u001B[39;49m\u001B[38;5;241;43m.\u001B[39;49m\u001B[43m_jdf\u001B[49m\u001B[38;5;241;43m.\u001B[39;49m\u001B[43mlimit\u001B[49m\u001B[43m(\u001B[49m\u001B[43mnum\u001B[49m\u001B[43m)\u001B[49m\n\u001B[1;32m   1332\u001B[0m     \u001B[38;5;28;01mreturn\u001B[39;00m DataFrame(jdf, \u001B[38;5;28mself\u001B[39m\u001B[38;5;241m.\u001B[39msparkSession)\n",
      "File \u001B[0;32m~/IASD/iasd/lib/python3.10/site-packages/py4j/java_gateway.py:1322\u001B[0m, in \u001B[0;36mJavaMember.__call__\u001B[0;34m(self, *args)\u001B[0m\n\u001B[1;32m   1316\u001B[0m command \u001B[38;5;241m=\u001B[39m proto\u001B[38;5;241m.\u001B[39mCALL_COMMAND_NAME \u001B[38;5;241m+\u001B[39m\\\n\u001B[1;32m   1317\u001B[0m     \u001B[38;5;28mself\u001B[39m\u001B[38;5;241m.\u001B[39mcommand_header \u001B[38;5;241m+\u001B[39m\\\n\u001B[1;32m   1318\u001B[0m     args_command \u001B[38;5;241m+\u001B[39m\\\n\u001B[1;32m   1319\u001B[0m     proto\u001B[38;5;241m.\u001B[39mEND_COMMAND_PART\n\u001B[1;32m   1321\u001B[0m answer \u001B[38;5;241m=\u001B[39m \u001B[38;5;28mself\u001B[39m\u001B[38;5;241m.\u001B[39mgateway_client\u001B[38;5;241m.\u001B[39msend_command(command)\n\u001B[0;32m-> 1322\u001B[0m return_value \u001B[38;5;241m=\u001B[39m \u001B[43mget_return_value\u001B[49m\u001B[43m(\u001B[49m\n\u001B[1;32m   1323\u001B[0m \u001B[43m    \u001B[49m\u001B[43manswer\u001B[49m\u001B[43m,\u001B[49m\u001B[43m \u001B[49m\u001B[38;5;28;43mself\u001B[39;49m\u001B[38;5;241;43m.\u001B[39;49m\u001B[43mgateway_client\u001B[49m\u001B[43m,\u001B[49m\u001B[43m \u001B[49m\u001B[38;5;28;43mself\u001B[39;49m\u001B[38;5;241;43m.\u001B[39;49m\u001B[43mtarget_id\u001B[49m\u001B[43m,\u001B[49m\u001B[43m \u001B[49m\u001B[38;5;28;43mself\u001B[39;49m\u001B[38;5;241;43m.\u001B[39;49m\u001B[43mname\u001B[49m\u001B[43m)\u001B[49m\n\u001B[1;32m   1325\u001B[0m \u001B[38;5;28;01mfor\u001B[39;00m temp_arg \u001B[38;5;129;01min\u001B[39;00m temp_args:\n\u001B[1;32m   1326\u001B[0m     \u001B[38;5;28;01mif\u001B[39;00m \u001B[38;5;28mhasattr\u001B[39m(temp_arg, \u001B[38;5;124m\"\u001B[39m\u001B[38;5;124m_detach\u001B[39m\u001B[38;5;124m\"\u001B[39m):\n",
      "File \u001B[0;32m~/IASD/iasd/lib/python3.10/site-packages/pyspark/errors/exceptions/captured.py:185\u001B[0m, in \u001B[0;36mcapture_sql_exception.<locals>.deco\u001B[0;34m(*a, **kw)\u001B[0m\n\u001B[1;32m    181\u001B[0m converted \u001B[38;5;241m=\u001B[39m convert_exception(e\u001B[38;5;241m.\u001B[39mjava_exception)\n\u001B[1;32m    182\u001B[0m \u001B[38;5;28;01mif\u001B[39;00m \u001B[38;5;129;01mnot\u001B[39;00m \u001B[38;5;28misinstance\u001B[39m(converted, UnknownException):\n\u001B[1;32m    183\u001B[0m     \u001B[38;5;66;03m# Hide where the exception came from that shows a non-Pythonic\u001B[39;00m\n\u001B[1;32m    184\u001B[0m     \u001B[38;5;66;03m# JVM exception message.\u001B[39;00m\n\u001B[0;32m--> 185\u001B[0m     \u001B[38;5;28;01mraise\u001B[39;00m converted \u001B[38;5;28;01mfrom\u001B[39;00m \u001B[38;5;28;01mNone\u001B[39;00m\n\u001B[1;32m    186\u001B[0m \u001B[38;5;28;01melse\u001B[39;00m:\n\u001B[1;32m    187\u001B[0m     \u001B[38;5;28;01mraise\u001B[39;00m\n",
      "\u001B[0;31mAnalysisException\u001B[0m: [INVALID_LIMIT_LIKE_EXPRESSION.IS_NEGATIVE] The limit like expression \"-1\" is invalid. The limit expression must be equal to or greater than 0, but got -1.;\nGlobalLimit -1\n+- LocalLimit -1\n   +- Sort [avg(rating)#4703 ASC NULLS FIRST], true\n      +- Aggregate [movieId#1820], [movieId#1820, avg(cast(rating#1821 as double)) AS avg(rating)#4703, max(rating#1821) AS max(rating)#4704, min(rating#1821) AS min(rating)#4705]\n         +- Sample 0.0, 0.01, false, 8901743572571516393\n            +- Relation [userId#1819,movieId#1820,rating#1821,timestamp#1822] csv\n"
     ]
    }
   ],
   "source": [
    "ratings_df.groupBy(\"movieId\").agg(F.avg(\"rating\"), F.max(\"rating\"), F.min(\"rating\")).sort(\"avg(rating)\").take(-1)"
   ],
   "metadata": {
    "collapsed": false,
    "ExecuteTime": {
     "end_time": "2023-12-19T14:53:54.814Z",
     "start_time": "2023-12-19T14:53:54.628973Z"
    }
   }
  },
  {
   "cell_type": "markdown",
   "source": [
    "## Question 2: Amongst movies that were rated by at least 20 users, what are the movies with highest and lowest rating standard deviation ?"
   ],
   "metadata": {
    "application/vnd.databricks.v1+cell": {
     "title": "",
     "showTitle": false,
     "inputWidgets": {},
     "nuid": "b8eadfa1-8d03-4723-ae18-ee507900df7b"
    },
    "id": "EeoE_lqtxhSx"
   }
  },
  {
   "cell_type": "markdown",
   "source": [
    "**hint** How do you use a join to keep only a subset of movies ?"
   ],
   "metadata": {
    "application/vnd.databricks.v1+cell": {
     "title": "",
     "showTitle": false,
     "inputWidgets": {},
     "nuid": "cc97e39c-8485-48c5-a293-76d7ebbd857a"
    },
    "id": "do2m3mXAxhSy"
   }
  },
  {
   "cell_type": "code",
   "source": [
    "question2 = ratings_df.groupBy(\"movieId\").agg(F.count(\"userId\"), F.stddev(\"rating\")).filter(\"count(userId)>=20\")\n",
    "min_std = question2.agg(F.min(\"stddev(rating)\")).collect()[0][0]\n",
    "max_std = question2.agg(F.max(\"stddev(rating)\")).collect()[0][0]\n",
    "question2.filter(F.col(\"stddev(rating)\") == min_std).show(1)\n",
    "question2.filter(F.col(\"stddev(rating)\") == max_std).show(1)\n"
   ],
   "metadata": {
    "application/vnd.databricks.v1+cell": {
     "title": "",
     "showTitle": false,
     "inputWidgets": {},
     "nuid": "85091f9f-63e1-4e0d-b25a-44ab19e29ed0"
    },
    "id": "tfViVoQhxhSy",
    "ExecuteTime": {
     "end_time": "2023-12-19T15:13:04.014495Z",
     "start_time": "2023-12-19T15:13:02.767756Z"
    }
   },
   "outputs": [
    {
     "name": "stdout",
     "output_type": "stream",
     "text": [
      "+-------+-------------+-------------------+\n",
      "|movieId|count(userId)|     stddev(rating)|\n",
      "+-------+-------------+-------------------+\n",
      "|   2922|           21|0.45512949491639976|\n",
      "+-------+-------------+-------------------+\n",
      "+-------+-------------+-----------------+\n",
      "|movieId|count(userId)|   stddev(rating)|\n",
      "+-------+-------------+-----------------+\n",
      "|   1924|           24|1.485284094232383|\n",
      "+-------+-------------+-----------------+\n"
     ]
    }
   ],
   "execution_count": 114
  },
  {
   "cell_type": "markdown",
   "source": [
    "## Question 3: Compute the (average, max, min) rating per genre and get the highest and lowest rated genres, as well as the ones with the highest rating standard deviation ?"
   ],
   "metadata": {
    "application/vnd.databricks.v1+cell": {
     "title": "",
     "showTitle": false,
     "inputWidgets": {},
     "nuid": "f2a1b266-a676-42ca-a5b3-2925d817da0e"
    },
    "id": "qcJlKxkOxhSz"
   }
  },
  {
   "cell_type": "markdown",
   "source": [
    "**hint** How can you extract the individual genres from the genres column ? How do you use a custom function to do this ?"
   ],
   "metadata": {
    "application/vnd.databricks.v1+cell": {
     "title": "",
     "showTitle": false,
     "inputWidgets": {},
     "nuid": "9b60f1f0-e62b-49da-b791-b38f7e3703e7"
    },
    "id": "ykzBbnz_xhSz"
   }
  },
  {
   "cell_type": "code",
   "source": [
    "def get_genre(df):\n",
    "    return df.withColumn(\"genre\", F.explode(F.split(\"genres\", \"\\|\"))).groupBy(\"genre\").agg(F.avg(\"rating\"),\n",
    "                                                                                           F.max(\"rating\"),\n",
    "                                                                                           F.min(\"rating\")).show()\n",
    "\n",
    "\n",
    "print(\"The highest and lowest average rated genres are:\")\n",
    "get_genre(ratings_df)"
   ],
   "metadata": {
    "application/vnd.databricks.v1+cell": {
     "title": "",
     "showTitle": false,
     "inputWidgets": {},
     "nuid": "f8ccd806-11f1-4b4d-b96b-420ad98938b2"
    },
    "id": "hTMqZ8Q_xhS0",
    "ExecuteTime": {
     "end_time": "2023-12-19T15:16:46.639839Z",
     "start_time": "2023-12-19T15:16:46.576894Z"
    }
   },
   "outputs": [
    {
     "name": "stdout",
     "output_type": "stream",
     "text": [
      "The highest and lowest average rated genres are:\n"
     ]
    },
    {
     "ename": "AnalysisException",
     "evalue": "[UNRESOLVED_COLUMN.WITH_SUGGESTION] A column or function parameter with name `genres` cannot be resolved. Did you mean one of the following? [`userId`, `movieId`, `rating`, `timestamp`].;\n'Project [userId#1819, movieId#1820, rating#1821, timestamp#1822, explode(split('genres, \\|, -1)) AS genre#10681]\n+- Sample 0.0, 0.01, false, 8901743572571516393\n   +- Relation [userId#1819,movieId#1820,rating#1821,timestamp#1822] csv\n",
     "output_type": "error",
     "traceback": [
      "\u001B[0;31m---------------------------------------------------------------------------\u001B[0m",
      "\u001B[0;31mAnalysisException\u001B[0m                         Traceback (most recent call last)",
      "Cell \u001B[0;32mIn[115], line 8\u001B[0m\n\u001B[1;32m      2\u001B[0m     \u001B[38;5;28;01mreturn\u001B[39;00m df\u001B[38;5;241m.\u001B[39mwithColumn(\u001B[38;5;124m\"\u001B[39m\u001B[38;5;124mgenre\u001B[39m\u001B[38;5;124m\"\u001B[39m, F\u001B[38;5;241m.\u001B[39mexplode(F\u001B[38;5;241m.\u001B[39msplit(\u001B[38;5;124m\"\u001B[39m\u001B[38;5;124mgenres\u001B[39m\u001B[38;5;124m\"\u001B[39m, \u001B[38;5;124m\"\u001B[39m\u001B[38;5;124m\\\u001B[39m\u001B[38;5;124m|\u001B[39m\u001B[38;5;124m\"\u001B[39m)))\u001B[38;5;241m.\u001B[39mgroupBy(\u001B[38;5;124m\"\u001B[39m\u001B[38;5;124mgenre\u001B[39m\u001B[38;5;124m\"\u001B[39m)\u001B[38;5;241m.\u001B[39magg(F\u001B[38;5;241m.\u001B[39mavg(\u001B[38;5;124m\"\u001B[39m\u001B[38;5;124mrating\u001B[39m\u001B[38;5;124m\"\u001B[39m),\n\u001B[1;32m      3\u001B[0m                                                                                            F\u001B[38;5;241m.\u001B[39mmax(\u001B[38;5;124m\"\u001B[39m\u001B[38;5;124mrating\u001B[39m\u001B[38;5;124m\"\u001B[39m),\n\u001B[1;32m      4\u001B[0m                                                                                            F\u001B[38;5;241m.\u001B[39mmin(\u001B[38;5;124m\"\u001B[39m\u001B[38;5;124mrating\u001B[39m\u001B[38;5;124m\"\u001B[39m))\u001B[38;5;241m.\u001B[39mshow()\n\u001B[1;32m      7\u001B[0m \u001B[38;5;28mprint\u001B[39m(\u001B[38;5;124m\"\u001B[39m\u001B[38;5;124mThe highest and lowest average rated genres are:\u001B[39m\u001B[38;5;124m\"\u001B[39m)\n\u001B[0;32m----> 8\u001B[0m \u001B[43mget_genre\u001B[49m\u001B[43m(\u001B[49m\u001B[43mratings_df\u001B[49m\u001B[43m)\u001B[49m\n",
      "Cell \u001B[0;32mIn[115], line 2\u001B[0m, in \u001B[0;36mget_genre\u001B[0;34m(df)\u001B[0m\n\u001B[1;32m      1\u001B[0m \u001B[38;5;28;01mdef\u001B[39;00m \u001B[38;5;21mget_genre\u001B[39m(df):\n\u001B[0;32m----> 2\u001B[0m     \u001B[38;5;28;01mreturn\u001B[39;00m \u001B[43mdf\u001B[49m\u001B[38;5;241;43m.\u001B[39;49m\u001B[43mwithColumn\u001B[49m\u001B[43m(\u001B[49m\u001B[38;5;124;43m\"\u001B[39;49m\u001B[38;5;124;43mgenre\u001B[39;49m\u001B[38;5;124;43m\"\u001B[39;49m\u001B[43m,\u001B[49m\u001B[43m \u001B[49m\u001B[43mF\u001B[49m\u001B[38;5;241;43m.\u001B[39;49m\u001B[43mexplode\u001B[49m\u001B[43m(\u001B[49m\u001B[43mF\u001B[49m\u001B[38;5;241;43m.\u001B[39;49m\u001B[43msplit\u001B[49m\u001B[43m(\u001B[49m\u001B[38;5;124;43m\"\u001B[39;49m\u001B[38;5;124;43mgenres\u001B[39;49m\u001B[38;5;124;43m\"\u001B[39;49m\u001B[43m,\u001B[49m\u001B[43m \u001B[49m\u001B[38;5;124;43m\"\u001B[39;49m\u001B[38;5;124;43m\\\u001B[39;49m\u001B[38;5;124;43m|\u001B[39;49m\u001B[38;5;124;43m\"\u001B[39;49m\u001B[43m)\u001B[49m\u001B[43m)\u001B[49m\u001B[43m)\u001B[49m\u001B[38;5;241m.\u001B[39mgroupBy(\u001B[38;5;124m\"\u001B[39m\u001B[38;5;124mgenre\u001B[39m\u001B[38;5;124m\"\u001B[39m)\u001B[38;5;241m.\u001B[39magg(F\u001B[38;5;241m.\u001B[39mavg(\u001B[38;5;124m\"\u001B[39m\u001B[38;5;124mrating\u001B[39m\u001B[38;5;124m\"\u001B[39m),\n\u001B[1;32m      3\u001B[0m                                                                                            F\u001B[38;5;241m.\u001B[39mmax(\u001B[38;5;124m\"\u001B[39m\u001B[38;5;124mrating\u001B[39m\u001B[38;5;124m\"\u001B[39m),\n\u001B[1;32m      4\u001B[0m                                                                                            F\u001B[38;5;241m.\u001B[39mmin(\u001B[38;5;124m\"\u001B[39m\u001B[38;5;124mrating\u001B[39m\u001B[38;5;124m\"\u001B[39m))\u001B[38;5;241m.\u001B[39mshow()\n",
      "File \u001B[0;32m~/IASD/iasd/lib/python3.10/site-packages/pyspark/sql/dataframe.py:5170\u001B[0m, in \u001B[0;36mDataFrame.withColumn\u001B[0;34m(self, colName, col)\u001B[0m\n\u001B[1;32m   5165\u001B[0m \u001B[38;5;28;01mif\u001B[39;00m \u001B[38;5;129;01mnot\u001B[39;00m \u001B[38;5;28misinstance\u001B[39m(col, Column):\n\u001B[1;32m   5166\u001B[0m     \u001B[38;5;28;01mraise\u001B[39;00m PySparkTypeError(\n\u001B[1;32m   5167\u001B[0m         error_class\u001B[38;5;241m=\u001B[39m\u001B[38;5;124m\"\u001B[39m\u001B[38;5;124mNOT_COLUMN\u001B[39m\u001B[38;5;124m\"\u001B[39m,\n\u001B[1;32m   5168\u001B[0m         message_parameters\u001B[38;5;241m=\u001B[39m{\u001B[38;5;124m\"\u001B[39m\u001B[38;5;124marg_name\u001B[39m\u001B[38;5;124m\"\u001B[39m: \u001B[38;5;124m\"\u001B[39m\u001B[38;5;124mcol\u001B[39m\u001B[38;5;124m\"\u001B[39m, \u001B[38;5;124m\"\u001B[39m\u001B[38;5;124marg_type\u001B[39m\u001B[38;5;124m\"\u001B[39m: \u001B[38;5;28mtype\u001B[39m(col)\u001B[38;5;241m.\u001B[39m\u001B[38;5;18m__name__\u001B[39m},\n\u001B[1;32m   5169\u001B[0m     )\n\u001B[0;32m-> 5170\u001B[0m \u001B[38;5;28;01mreturn\u001B[39;00m DataFrame(\u001B[38;5;28;43mself\u001B[39;49m\u001B[38;5;241;43m.\u001B[39;49m\u001B[43m_jdf\u001B[49m\u001B[38;5;241;43m.\u001B[39;49m\u001B[43mwithColumn\u001B[49m\u001B[43m(\u001B[49m\u001B[43mcolName\u001B[49m\u001B[43m,\u001B[49m\u001B[43m \u001B[49m\u001B[43mcol\u001B[49m\u001B[38;5;241;43m.\u001B[39;49m\u001B[43m_jc\u001B[49m\u001B[43m)\u001B[49m, \u001B[38;5;28mself\u001B[39m\u001B[38;5;241m.\u001B[39msparkSession)\n",
      "File \u001B[0;32m~/IASD/iasd/lib/python3.10/site-packages/py4j/java_gateway.py:1322\u001B[0m, in \u001B[0;36mJavaMember.__call__\u001B[0;34m(self, *args)\u001B[0m\n\u001B[1;32m   1316\u001B[0m command \u001B[38;5;241m=\u001B[39m proto\u001B[38;5;241m.\u001B[39mCALL_COMMAND_NAME \u001B[38;5;241m+\u001B[39m\\\n\u001B[1;32m   1317\u001B[0m     \u001B[38;5;28mself\u001B[39m\u001B[38;5;241m.\u001B[39mcommand_header \u001B[38;5;241m+\u001B[39m\\\n\u001B[1;32m   1318\u001B[0m     args_command \u001B[38;5;241m+\u001B[39m\\\n\u001B[1;32m   1319\u001B[0m     proto\u001B[38;5;241m.\u001B[39mEND_COMMAND_PART\n\u001B[1;32m   1321\u001B[0m answer \u001B[38;5;241m=\u001B[39m \u001B[38;5;28mself\u001B[39m\u001B[38;5;241m.\u001B[39mgateway_client\u001B[38;5;241m.\u001B[39msend_command(command)\n\u001B[0;32m-> 1322\u001B[0m return_value \u001B[38;5;241m=\u001B[39m \u001B[43mget_return_value\u001B[49m\u001B[43m(\u001B[49m\n\u001B[1;32m   1323\u001B[0m \u001B[43m    \u001B[49m\u001B[43manswer\u001B[49m\u001B[43m,\u001B[49m\u001B[43m \u001B[49m\u001B[38;5;28;43mself\u001B[39;49m\u001B[38;5;241;43m.\u001B[39;49m\u001B[43mgateway_client\u001B[49m\u001B[43m,\u001B[49m\u001B[43m \u001B[49m\u001B[38;5;28;43mself\u001B[39;49m\u001B[38;5;241;43m.\u001B[39;49m\u001B[43mtarget_id\u001B[49m\u001B[43m,\u001B[49m\u001B[43m \u001B[49m\u001B[38;5;28;43mself\u001B[39;49m\u001B[38;5;241;43m.\u001B[39;49m\u001B[43mname\u001B[49m\u001B[43m)\u001B[49m\n\u001B[1;32m   1325\u001B[0m \u001B[38;5;28;01mfor\u001B[39;00m temp_arg \u001B[38;5;129;01min\u001B[39;00m temp_args:\n\u001B[1;32m   1326\u001B[0m     \u001B[38;5;28;01mif\u001B[39;00m \u001B[38;5;28mhasattr\u001B[39m(temp_arg, \u001B[38;5;124m\"\u001B[39m\u001B[38;5;124m_detach\u001B[39m\u001B[38;5;124m\"\u001B[39m):\n",
      "File \u001B[0;32m~/IASD/iasd/lib/python3.10/site-packages/pyspark/errors/exceptions/captured.py:185\u001B[0m, in \u001B[0;36mcapture_sql_exception.<locals>.deco\u001B[0;34m(*a, **kw)\u001B[0m\n\u001B[1;32m    181\u001B[0m converted \u001B[38;5;241m=\u001B[39m convert_exception(e\u001B[38;5;241m.\u001B[39mjava_exception)\n\u001B[1;32m    182\u001B[0m \u001B[38;5;28;01mif\u001B[39;00m \u001B[38;5;129;01mnot\u001B[39;00m \u001B[38;5;28misinstance\u001B[39m(converted, UnknownException):\n\u001B[1;32m    183\u001B[0m     \u001B[38;5;66;03m# Hide where the exception came from that shows a non-Pythonic\u001B[39;00m\n\u001B[1;32m    184\u001B[0m     \u001B[38;5;66;03m# JVM exception message.\u001B[39;00m\n\u001B[0;32m--> 185\u001B[0m     \u001B[38;5;28;01mraise\u001B[39;00m converted \u001B[38;5;28;01mfrom\u001B[39;00m \u001B[38;5;28;01mNone\u001B[39;00m\n\u001B[1;32m    186\u001B[0m \u001B[38;5;28;01melse\u001B[39;00m:\n\u001B[1;32m    187\u001B[0m     \u001B[38;5;28;01mraise\u001B[39;00m\n",
      "\u001B[0;31mAnalysisException\u001B[0m: [UNRESOLVED_COLUMN.WITH_SUGGESTION] A column or function parameter with name `genres` cannot be resolved. Did you mean one of the following? [`userId`, `movieId`, `rating`, `timestamp`].;\n'Project [userId#1819, movieId#1820, rating#1821, timestamp#1822, explode(split('genres, \\|, -1)) AS genre#10681]\n+- Sample 0.0, 0.01, false, 8901743572571516393\n   +- Relation [userId#1819,movieId#1820,rating#1821,timestamp#1822] csv\n"
     ]
    }
   ],
   "execution_count": 115
  },
  {
   "cell_type": "code",
   "execution_count": 125,
   "outputs": [
    {
     "data": {
      "text/plain": "[Row(genres='Adventure|Drama|Horror|Sci-Fi|Thriller', avg(rating)=0.5, max(rating)='0.5', min(rating)='0.5', stddev(rating)=None),\n Row(genres='Documentary|Fantasy', avg(rating)=0.5, max(rating)='0.5', min(rating)='0.5', stddev(rating)=None),\n Row(genres='Animation|Crime|Drama', avg(rating)=0.5, max(rating)='0.5', min(rating)='0.5', stddev(rating)=None),\n Row(genres='Comedy|Horror|Mystery|Sci-Fi', avg(rating)=0.5, max(rating)='0.5', min(rating)='0.5', stddev(rating)=None),\n Row(genres='Crime|Drama|Fantasy|Mystery|Thriller', avg(rating)=0.5, max(rating)='0.5', min(rating)='0.5', stddev(rating)=None)]"
     },
     "execution_count": 125,
     "metadata": {},
     "output_type": "execute_result"
    }
   ],
   "source": [
    "question3 = ratings_df.join(other=movies_df,\n",
    "                            on=[\"movieId\"],\n",
    "                            how=\"left\")\n",
    "\n",
    "#Genres with the lowest ratings\n",
    "question3.groupBy(\"genres\").agg(F.avg(\"rating\"), F.max(\"rating\"), F.min(\"rating\"), F.stddev(\"rating\")).sort(\n",
    "    \"avg(rating)\").head(5)"
   ],
   "metadata": {
    "collapsed": false,
    "ExecuteTime": {
     "end_time": "2023-12-19T15:28:54.215306Z",
     "start_time": "2023-12-19T15:28:53.873984Z"
    }
   }
  },
  {
   "cell_type": "code",
   "execution_count": 126,
   "outputs": [
    {
     "data": {
      "text/plain": "[Row(genres='Animation|Crime|War', avg(rating)=5.0, max(rating)='5.0', min(rating)='5.0', stddev(rating)=None),\n Row(genres='Comedy|Fantasy|Musical|Romance', avg(rating)=5.0, max(rating)='5.0', min(rating)='5.0', stddev(rating)=0.0),\n Row(genres='Comedy|Romance|Sci-Fi|Thriller', avg(rating)=5.0, max(rating)='5.0', min(rating)='5.0', stddev(rating)=None),\n Row(genres='Comedy|Romance|War', avg(rating)=5.0, max(rating)='5.0', min(rating)='5.0', stddev(rating)=None),\n Row(genres='Crime|Documentary|Drama|War', avg(rating)=5.0, max(rating)='5.0', min(rating)='5.0', stddev(rating)=None)]"
     },
     "execution_count": 126,
     "metadata": {},
     "output_type": "execute_result"
    }
   ],
   "source": [
    "#Genres with the highest ratings\n",
    "question3.groupBy(\"genres\").agg(F.avg(\"rating\"), F.max(\"rating\"), F.min(\"rating\"), F.stddev(\"rating\")).sort(\n",
    "    \"avg(rating)\").tail(5)"
   ],
   "metadata": {
    "collapsed": false,
    "ExecuteTime": {
     "end_time": "2023-12-19T15:29:03.015260Z",
     "start_time": "2023-12-19T15:29:02.598339Z"
    }
   }
  },
  {
   "cell_type": "code",
   "execution_count": 127,
   "outputs": [
    {
     "data": {
      "text/plain": "[Row(genres='Children|Comedy|Drama|Musical', avg(rating)=2.5, max(rating)='4.0', min(rating)='1.0', stddev(rating)=2.1213203435596424),\n Row(genres='Horror|Thriller|IMAX', avg(rating)=2.5, max(rating)='4.0', min(rating)='1.0', stddev(rating)=2.1213203435596424),\n Row(genres='Musical|Sci-Fi', avg(rating)=3.5, max(rating)='5.0', min(rating)='2.0', stddev(rating)=2.1213203435596424),\n Row(genres='Action|Comedy|Drama|Romance', avg(rating)=2.6666666666666665, max(rating)='5.0', min(rating)='0.5', stddev(rating)=2.254624876411447),\n Row(genres='Action|Horror|Mystery|Thriller', avg(rating)=2.25, max(rating)='4.0', min(rating)='0.5', stddev(rating)=2.4748737341529163)]"
     },
     "execution_count": 127,
     "metadata": {},
     "output_type": "execute_result"
    }
   ],
   "source": [
    "#Genres with the highest std\n",
    "question3.groupBy(\"genres\").agg(F.avg(\"rating\"), F.max(\"rating\"), F.min(\"rating\"), F.stddev(\"rating\")).sort(\n",
    "    \"stddev(rating)\").tail(5)"
   ],
   "metadata": {
    "collapsed": false,
    "ExecuteTime": {
     "end_time": "2023-12-19T15:29:36.809486Z",
     "start_time": "2023-12-19T15:29:36.285523Z"
    }
   }
  },
  {
   "cell_type": "markdown",
   "source": [
    "## Question 4: Extract the year information from the title and compute the average rating per year (for years where more than 10 movies came out), how does the this quantity evolve ?"
   ],
   "metadata": {
    "application/vnd.databricks.v1+cell": {
     "title": "",
     "showTitle": false,
     "inputWidgets": {},
     "nuid": "4fe1a628-5a75-4cd7-b3ed-dfb70c976a4d"
    },
    "id": "mG0J52-ixhS4"
   }
  },
  {
   "cell_type": "markdown",
   "source": [
    "**hint** Extracting the year from the title can be done with a Regular Expression"
   ],
   "metadata": {
    "application/vnd.databricks.v1+cell": {
     "title": "",
     "showTitle": false,
     "inputWidgets": {},
     "nuid": "8804cc01-f75b-4250-b9ee-fa35996bda08"
    },
    "id": "tgH2_ld2xhS4"
   }
  },
  {
   "cell_type": "code",
   "execution_count": 129,
   "outputs": [
    {
     "name": "stdout",
     "output_type": "stream",
     "text": [
      "+-------+--------------------+--------------------+----+\n",
      "|movieId|               title|              genres|year|\n",
      "+-------+--------------------+--------------------+----+\n",
      "|      1|    Toy Story (1995)|Adventure|Animati...|1995|\n",
      "|      2|      Jumanji (1995)|Adventure|Childre...|1995|\n",
      "|      3|Grumpier Old Men ...|      Comedy|Romance|1995|\n",
      "|      4|Waiting to Exhale...|Comedy|Drama|Romance|1995|\n",
      "|      5|Father of the Bri...|              Comedy|1995|\n",
      "|      6|         Heat (1995)|Action|Crime|Thri...|1995|\n",
      "|      7|      Sabrina (1995)|      Comedy|Romance|1995|\n",
      "|      8| Tom and Huck (1995)|  Adventure|Children|1995|\n",
      "|      9| Sudden Death (1995)|              Action|1995|\n",
      "|     10|    GoldenEye (1995)|Action|Adventure|...|1995|\n",
      "|     11|American Presiden...|Comedy|Drama|Romance|1995|\n",
      "|     12|Dracula: Dead and...|       Comedy|Horror|1995|\n",
      "|     13|        Balto (1995)|Adventure|Animati...|1995|\n",
      "|     14|        Nixon (1995)|               Drama|1995|\n",
      "|     15|Cutthroat Island ...|Action|Adventure|...|1995|\n",
      "|     16|       Casino (1995)|         Crime|Drama|1995|\n",
      "|     17|Sense and Sensibi...|       Drama|Romance|1995|\n",
      "|     18|   Four Rooms (1995)|              Comedy|1995|\n",
      "|     19|Ace Ventura: When...|              Comedy|1995|\n",
      "|     20|  Money Train (1995)|Action|Comedy|Cri...|1995|\n",
      "+-------+--------------------+--------------------+----+\n"
     ]
    },
    {
     "name": "stderr",
     "output_type": "stream",
     "text": [
      "23/12/19 16:40:36 WARN SparkSession: Using an existing Spark session; only runtime SQL configurations will take effect.\n"
     ]
    }
   ],
   "source": [
    "from pyspark.sql import SparkSession\n",
    "from pyspark.sql.functions import regexp_extract\n",
    "\n",
    "# Initialize Spark session\n",
    "spark = SparkSession.builder.appName(\"ExtractYear\").getOrCreate()\n",
    "\n",
    "# Assuming your DataFrame is named 'movies_df' and the title column is 'title'\n",
    "# Define the regular expression pattern for the year\n",
    "pattern = r\"\\((\\d{4})\\)\"\n",
    "\n",
    "# Apply regexp_extract to create a new column 'year'\n",
    "movies_df = movies_df.withColumn(\"year\", regexp_extract(\"title\", pattern, 1))\n",
    "\n",
    "# Show the results\n",
    "movies_df.show()\n"
   ],
   "metadata": {
    "collapsed": false,
    "ExecuteTime": {
     "end_time": "2023-12-19T15:40:37.070514Z",
     "start_time": "2023-12-19T15:40:36.981902Z"
    }
   }
  },
  {
   "cell_type": "code",
   "execution_count": 146,
   "outputs": [
    {
     "name": "stdout",
     "output_type": "stream",
     "text": [
      "+----+------------------+--------------+\n",
      "|year|       avg(rating)|count(movieId)|\n",
      "+----+------------------+--------------+\n",
      "|    |             3.625|            24|\n",
      "|1914|               3.5|            13|\n",
      "|1915|               3.0|            18|\n",
      "|1916|3.1666666666666665|            20|\n",
      "|1917|               4.0|            12|\n",
      "|1918|               3.0|            10|\n",
      "|1919|              3.25|            20|\n",
      "|1920|3.9166666666666665|            34|\n",
      "|1921| 3.361111111111111|            43|\n",
      "|1922|  3.75531914893617|            69|\n",
      "|1923| 4.111111111111111|            23|\n",
      "|1924|               3.7|            39|\n",
      "|1925|3.7777777777777777|            85|\n",
      "|1926|3.9393939393939394|            66|\n",
      "|1927| 3.722972972972973|            95|\n",
      "|1928|3.8870967741935485|            71|\n",
      "|1929|3.9285714285714284|            64|\n",
      "|1930|3.8636363636363638|            96|\n",
      "|1931| 3.814207650273224|           232|\n",
      "|1932|3.5823529411764707|           163|\n",
      "+----+------------------+--------------+\n"
     ]
    }
   ],
   "source": [
    "question4 = movies_df.join(ratings_df, on=\"movieId\", how=\"left\")\n",
    "\n",
    "question4 = question4.groupBy(\"year\").agg(F.avg(\"rating\"), F.count(\"movieId\")).filter(\n",
    "    F.col(\"count(movieId)\") >= 10).sort(\n",
    "    \"year\")\n",
    "question4.show()"
   ],
   "metadata": {
    "collapsed": false,
    "ExecuteTime": {
     "end_time": "2023-12-19T15:53:05.333100Z",
     "start_time": "2023-12-19T15:53:05.021640Z"
    }
   }
  },
  {
   "cell_type": "code",
   "execution_count": 150,
   "outputs": [
    {
     "data": {
      "text/plain": "<Figure size 640x480 with 1 Axes>",
      "image/png": "[encoded data removed]"
     },
     "metadata": {},
     "output_type": "display_data"
    }
   ],
   "source": [
    "avg_ratings = question4.toPandas()\n",
    "plt.plot(avg_ratings[\"year\"], avg_ratings[\"avg(rating)\"], label=\"avg(rating)\")\n",
    "plt.grid()\n",
    "plt.show()"
   ],
   "metadata": {
    "collapsed": false,
    "ExecuteTime": {
     "end_time": "2023-12-19T15:59:28.043016Z",
     "start_time": "2023-12-19T15:59:27.732084Z"
    }
   }
  },
  {
   "cell_type": "markdown",
   "source": [
    "## Question 5: What are the top 3 genres per year ?"
   ],
   "metadata": {
    "application/vnd.databricks.v1+cell": {
     "title": "",
     "showTitle": false,
     "inputWidgets": {},
     "nuid": "39ba5e62-e569-42e1-83bf-711e4b04b1d4"
    },
    "id": "vdB3jNiVxhS6"
   }
  },
  {
   "cell_type": "markdown",
   "source": [
    "**hint** Look at the answer here https://stackoverflow.com/questions/38397796/retrieve-top-n-in-each-group-of-a-dataframe-in-pyspark"
   ],
   "metadata": {
    "application/vnd.databricks.v1+cell": {
     "title": "",
     "showTitle": false,
     "inputWidgets": {},
     "nuid": "1dfb28a0-3013-47a3-9d9f-6b25ef84ab53"
    },
    "id": "HQCmWvUBxhS7"
   }
  },
  {
   "cell_type": "code",
   "source": [],
   "metadata": {
    "application/vnd.databricks.v1+cell": {
     "title": "",
     "showTitle": false,
     "inputWidgets": {},
     "nuid": "3c027f7f-2269-469f-adbd-7ddc39ba0ae8"
    },
    "id": "DmF4TSPTxhS7",
    "ExecuteTime": {
     "start_time": "2023-12-19T14:46:22.202117Z"
    }
   },
   "outputs": [],
   "execution_count": null
  },
  {
   "cell_type": "markdown",
   "source": [
    "## Question 6: What words of the titles cooccure the most with each genre ? Is the number of cooccurence enough ? Compute the [pointwise mutual information](https://en.wikipedia.org/wiki/Pointwise_mutual_information) between genres and movie title words, and filter out words that appear fewer than 100 times."
   ],
   "metadata": {
    "application/vnd.databricks.v1+cell": {
     "title": "",
     "showTitle": false,
     "inputWidgets": {},
     "nuid": "a64f1b52-66c6-473b-8fec-dbb140fb002e"
    },
    "id": "clOWC40XxhS9"
   }
  },
  {
   "cell_type": "code",
   "source": [],
   "metadata": {
    "application/vnd.databricks.v1+cell": {
     "title": "",
     "showTitle": false,
     "inputWidgets": {},
     "nuid": "ac8caaf4-daf0-4191-b7bd-bdca46fe45bc"
    },
    "id": "WuLPTvFexhS-",
    "ExecuteTime": {
     "start_time": "2023-12-19T14:46:22.203081Z"
    }
   },
   "outputs": [],
   "execution_count": null
  }
 ],
 "metadata": {
  "application/vnd.databricks.v1+notebook": {
   "notebookName": "spark-dataset-problems-databricks",
   "dashboards": [],
   "language": "python",
   "widgets": {},
   "notebookOrigID": 406204942312403
  },
  "colab": {
   "provenance": []
  },
  "language_info": {
   "name": "python"
  },
  "kernelspec": {
   "name": "python3",
   "language": "python",
   "display_name": "Python 3 (ipykernel)"
  },
  "gpuClass": "standard"
 },
 "nbformat": 4,
 "nbformat_minor": 0
}
