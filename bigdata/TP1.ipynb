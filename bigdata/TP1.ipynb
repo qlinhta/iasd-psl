{
 "cells": [
  {
   "cell_type": "code",
   "execution_count": 1,
   "id": "initial_id",
   "metadata": {
    "collapsed": true,
    "ExecuteTime": {
     "end_time": "2023-09-26T14:46:43.427471Z",
     "start_time": "2023-09-26T14:46:43.032710Z"
    }
   },
   "outputs": [],
   "source": [
    "import matplotlib.pyplot as plt\n",
    "plt.style.use('default')\n",
    "plt.rc('text', usetex=True)\n",
    "plt.rc('font', family='serif')\n",
    "plt.rc('font', size=18)\n",
    "plt.rc('axes', titlesize=18)\n",
    "plt.rc('axes', labelsize=18)\n",
    "plt.rc('xtick', labelsize=18)\n",
    "plt.rc('ytick', labelsize=18)\n",
    "plt.rc('legend', fontsize=18)\n",
    "plt.rc('lines', markersize=10)"
   ]
  },
  {
   "cell_type": "markdown",
   "source": [],
   "metadata": {
    "collapsed": false
   },
   "id": "a63b1c61a33c404a"
  },
  {
   "cell_type": "code",
   "execution_count": 5,
   "outputs": [
    {
     "data": {
      "text/plain": "'\\nSearching via partitioning. Write a Python program that \\n•    Generates a collection I of 900,000 random integer numbers. \\n•    Asks then 5 integer numbers to the user, and for each number answers YES if the number is in I, NO otherwise \\n\\nProvide two possible implementations, one by simply using a list for I, the other by using a \\nportioned list for I, that is a list of lists, each sub-list being a partition. \\n\\nIn this second case, you can use a Python dictionary, in which a couple (key, value) represents one partition: \\nkey is the label/index for the partition while value is the list of values for the partition. How \\nmany partitions ? How could you distribute the 900,000  numbers over partitions ? Could \\nan hashing function based on the modulo operator help? Recall that H(n)=n mod m, where \\nn and m are positive integers, returns a number between 0 and m-1 for any n.\\n'"
     },
     "execution_count": 5,
     "metadata": {},
     "output_type": "execute_result"
    }
   ],
   "source": [
    "\"\"\"\n",
    "Searching via partitioning. Write a Python program that \n",
    "•    Generates a collection I of 900,000 random integer numbers. \n",
    "•    Asks then 5 integer numbers to the user, and for each number answers YES if the number is in I, NO otherwise \n",
    "\n",
    "Provide two possible implementations, one by simply using a list for I, the other by using a \n",
    "portioned list for I, that is a list of lists, each sub-list being a partition. \n",
    "\n",
    "In this second case, you can use a Python dictionary, in which a couple (key, value) represents one partition: \n",
    "key is the label/index for the partition while value is the list of values for the partition. How \n",
    "many partitions ? How could you distribute the 900,000  numbers over partitions ? Could \n",
    "an hashing function based on the modulo operator help? Recall that H(n)=n mod m, where \n",
    "n and m are positive integers, returns a number between 0 and m-1 for any n.\n",
    "\"\"\""
   ],
   "metadata": {
    "collapsed": false,
    "ExecuteTime": {
     "end_time": "2023-09-26T14:47:40.707955Z",
     "start_time": "2023-09-26T14:47:40.702277Z"
    }
   },
   "id": "9f264866951db89d"
  },
  {
   "cell_type": "markdown",
   "source": [
    "The difference between partitioning and non-partitioning is that in the first case we have to search in a list of lists, while in the second case we have to search in a single list. The first case is more efficient because we can reduce the number of elements to search in each list. In the second case we have to search in all the elements of the list."
   ],
   "metadata": {
    "collapsed": false
   },
   "id": "a8c223e2992d9dfe"
  },
  {
   "cell_type": "code",
   "execution_count": 10,
   "outputs": [
    {
     "name": "stdout",
     "output_type": "stream",
     "text": [
      "YES\n",
      "Time:  0.00783085823059082\n",
      "YES\n",
      "Time:  0.0043370723724365234\n",
      "YES\n",
      "Time:  0.0010190010070800781\n",
      "YES\n",
      "Time:  0.0029468536376953125\n",
      "YES\n",
      "Time:  0.004498958587646484\n"
     ]
    }
   ],
   "source": [
    "# Non-partitioning\n",
    "import random\n",
    "import time\n",
    "\n",
    "\n",
    "def generate_list():\n",
    "    return [random.randint(0, 1000000) for _ in range(900000)]\n",
    "\n",
    "\n",
    "def search_in_list(l, n):\n",
    "    return n in l\n",
    "\n",
    "l = generate_list()\n",
    "for _ in range(5):\n",
    "    n = int(input(\"Insert a number: \"))\n",
    "    start = time.time()\n",
    "    if search_in_list(l, n):\n",
    "        print(\"YES\")\n",
    "    else:\n",
    "        print(\"NO\")\n",
    "    end = time.time()\n",
    "    print(\"Time: \", end - start)\n",
    "    "
   ],
   "metadata": {
    "collapsed": false,
    "ExecuteTime": {
     "end_time": "2023-09-26T14:53:39.638073Z",
     "start_time": "2023-09-26T14:53:36.301594Z"
    }
   },
   "id": "d50baaea1dc603d8"
  },
  {
   "cell_type": "code",
   "execution_count": 16,
   "outputs": [
    {
     "name": "stdout",
     "output_type": "stream",
     "text": [
      "YES\n",
      "Time:  0.011238336563110352\n",
      "NO\n",
      "Time:  0.024731159210205078\n",
      "NO\n",
      "Time:  0.03307676315307617\n",
      "YES\n",
      "Time:  0.0020110607147216797\n",
      "YES\n",
      "Time:  0.00731968879699707\n"
     ]
    }
   ],
   "source": [
    "# Partitioning\n",
    "dictionary = {}\n",
    "for i in range(10):\n",
    "    dictionary[i] = []\n",
    "\n",
    "for i in range(900000):\n",
    "    dictionary[i % 10].append(random.randint(0, 1000000))\n",
    "\n",
    "\n",
    "def search_in_dictionary(d, n):\n",
    "    for k in d.keys():\n",
    "        if n in d[k]:\n",
    "            return True\n",
    "    return False\n",
    "\n",
    "\n",
    "for _ in range(5):\n",
    "    n = int(input(\"Insert a number: \"))\n",
    "    start = time.time()\n",
    "    if search_in_dictionary(dictionary, n):\n",
    "        print(\"YES\")\n",
    "    else:\n",
    "        print(\"NO\")\n",
    "    end = time.time()\n",
    "    print(\"Time: \", end - start)"
   ],
   "metadata": {
    "collapsed": false,
    "ExecuteTime": {
     "end_time": "2023-09-26T15:05:34.978748Z",
     "start_time": "2023-09-26T15:05:31.519821Z"
    }
   },
   "id": "e642c7061b2793f9"
  },
  {
   "cell_type": "code",
   "execution_count": null,
   "outputs": [],
   "source": [],
   "metadata": {
    "collapsed": false
   },
   "id": "fcd437fc6e6d8b63"
  }
 ],
 "metadata": {
  "kernelspec": {
   "display_name": "Python 3",
   "language": "python",
   "name": "python3"
  },
  "language_info": {
   "codemirror_mode": {
    "name": "ipython",
    "version": 2
   },
   "file_extension": ".py",
   "mimetype": "text/x-python",
   "name": "python",
   "nbconvert_exporter": "python",
   "pygments_lexer": "ipython2",
   "version": "2.7.6"
  }
 },
 "nbformat": 4,
 "nbformat_minor": 5
}
