{
 "cells": [
  {
   "cell_type": "code",
   "outputs": [],
   "source": [
    "from pyspark.sql import SparkSession\n",
    "\n",
    "spark = SparkSession.builder.appName('rdd').getOrCreate()\n",
    "sc = spark.sparkContext"
   ],
   "metadata": {
    "collapsed": false,
    "ExecuteTime": {
     "end_time": "2024-03-07T17:57:16.045886Z",
     "start_time": "2024-03-07T17:57:16.040441Z"
    }
   },
   "id": "6cab116b9524d3fe",
   "execution_count": 21
  },
  {
   "cell_type": "code",
   "execution_count": 30,
   "id": "initial_id",
   "metadata": {
    "collapsed": true,
    "ExecuteTime": {
     "end_time": "2024-03-07T17:57:47.510814Z",
     "start_time": "2024-03-07T17:57:47.507465Z"
    }
   },
   "outputs": [],
   "source": [
    "def fibonacci(n):\n",
    "    a, b = 0, 1\n",
    "    for _ in range(n):\n",
    "        yield a\n",
    "        a, b = b, a + b\n",
    "\n",
    "\n",
    "fib = list(fibonacci(20))"
   ]
  },
  {
   "cell_type": "code",
   "outputs": [],
   "source": [
    "rdd = sc.parallelize(fib)"
   ],
   "metadata": {
    "collapsed": false,
    "ExecuteTime": {
     "end_time": "2024-03-07T17:57:47.838475Z",
     "start_time": "2024-03-07T17:57:47.833486Z"
    }
   },
   "id": "25b7f0478f0ded5b",
   "execution_count": 31
  },
  {
   "cell_type": "code",
   "outputs": [
    {
     "data": {
      "text/plain": "[0,\n 1,\n 1,\n 2,\n 3,\n 5,\n 8,\n 13,\n 21,\n 34,\n 55,\n 89,\n 144,\n 233,\n 377,\n 610,\n 987,\n 1597,\n 2584,\n 4181]"
     },
     "execution_count": 32,
     "metadata": {},
     "output_type": "execute_result"
    }
   ],
   "source": [
    "rdd.collect()"
   ],
   "metadata": {
    "collapsed": false,
    "ExecuteTime": {
     "end_time": "2024-03-07T17:57:48.454852Z",
     "start_time": "2024-03-07T17:57:48.432053Z"
    }
   },
   "id": "2a7ec432a09aa7b1",
   "execution_count": 32
  },
  {
   "cell_type": "code",
   "outputs": [
    {
     "data": {
      "text/plain": "[0,\n 1,\n 1,\n 4,\n 9,\n 25,\n 64,\n 169,\n 441,\n 1156,\n 3025,\n 7921,\n 20736,\n 54289,\n 142129,\n 372100,\n 974169,\n 2550409,\n 6677056,\n 17480761]"
     },
     "execution_count": 33,
     "metadata": {},
     "output_type": "execute_result"
    }
   ],
   "source": [
    "squared = rdd.map(lambda x: x ** 2)\n",
    "squared.collect()"
   ],
   "metadata": {
    "collapsed": false,
    "ExecuteTime": {
     "end_time": "2024-03-07T17:57:52.408197Z",
     "start_time": "2024-03-07T17:57:52.268732Z"
    }
   },
   "id": "4a36df4dd23c75f8",
   "execution_count": 33
  },
  {
   "cell_type": "code",
   "outputs": [
    {
     "data": {
      "text/plain": "[2, 3, 5, 13, 89, 233, 1597]"
     },
     "execution_count": 34,
     "metadata": {},
     "output_type": "execute_result"
    }
   ],
   "source": [
    "def be_prime(x):\n",
    "    if x < 2:\n",
    "        return False\n",
    "    for i in range(2, x):\n",
    "        if x % i == 0:\n",
    "            return False\n",
    "    return True\n",
    "\n",
    "\n",
    "prime_number = rdd.filter(lambda x: be_prime(x))\n",
    "prime_number.collect()"
   ],
   "metadata": {
    "collapsed": false,
    "ExecuteTime": {
     "end_time": "2024-03-07T17:57:56.162809Z",
     "start_time": "2024-03-07T17:57:56.048070Z"
    }
   },
   "id": "506e347026ef0b0b",
   "execution_count": 34
  },
  {
   "cell_type": "code",
   "outputs": [
    {
     "name": "stdout",
     "output_type": "stream",
     "text": [
      "7\n"
     ]
    }
   ],
   "source": [
    "number_of_prime = rdd.filter(lambda x: be_prime(x)).count()\n",
    "print(number_of_prime)"
   ],
   "metadata": {
    "collapsed": false,
    "ExecuteTime": {
     "end_time": "2024-03-07T17:59:12.698760Z",
     "start_time": "2024-03-07T17:59:12.529512Z"
    }
   },
   "id": "438af7bba478c69d",
   "execution_count": 35
  },
  {
   "cell_type": "code",
   "outputs": [
    {
     "name": "stdout",
     "output_type": "stream",
     "text": [
      "Sum of prime number: 1942, average of prime number: 277.42857142857144\n"
     ]
    }
   ],
   "source": [
    "sum_of_prime = rdd.filter(lambda x: be_prime(x)).sum()\n",
    "print(\n",
    "    f\"Sum of prime number: {sum_of_prime}, average of prime number: {sum_of_prime / number_of_prime}\")"
   ],
   "metadata": {
    "collapsed": false,
    "ExecuteTime": {
     "end_time": "2024-03-07T18:03:16.062277Z",
     "start_time": "2024-03-07T18:03:15.904235Z"
    }
   },
   "id": "9e63d55d3e90f7d0",
   "execution_count": 41
  },
  {
   "cell_type": "code",
   "outputs": [
    {
     "data": {
      "text/plain": "[4181,\n 2584,\n 1597,\n 987,\n 610,\n 377,\n 233,\n 144,\n 89,\n 55,\n 34,\n 21,\n 13,\n 8,\n 5,\n 3,\n 2,\n 1,\n 1,\n 0]"
     },
     "execution_count": 42,
     "metadata": {},
     "output_type": "execute_result"
    }
   ],
   "source": [
    "ordered = rdd.sortBy(lambda x: x, ascending=False)\n",
    "ordered.collect()"
   ],
   "metadata": {
    "collapsed": false,
    "ExecuteTime": {
     "end_time": "2024-03-07T18:04:49.430145Z",
     "start_time": "2024-03-07T18:04:48.605949Z"
    }
   },
   "id": "712cd8f09001bf2c",
   "execution_count": 42
  },
  {
   "cell_type": "code",
   "outputs": [
    {
     "data": {
      "text/plain": "[1, 2, 2, 3, 3, 4, 4, 5]"
     },
     "execution_count": 46,
     "metadata": {},
     "output_type": "execute_result"
    }
   ],
   "source": [
    "rdd = sc.parallelize([1, 2, 3, 4])\n",
    "flat = rdd.flatMap(lambda x: [x, x + 1])\n",
    "flat.collect()"
   ],
   "metadata": {
    "collapsed": false,
    "ExecuteTime": {
     "end_time": "2024-03-07T18:44:02.043272Z",
     "start_time": "2024-03-07T18:44:01.914267Z"
    }
   },
   "id": "fffe6be556c31fbb",
   "execution_count": 46
  },
  {
   "cell_type": "code",
   "outputs": [
    {
     "name": "stdout",
     "output_type": "stream",
     "text": [
      "Initial edges:\n",
      "[(1, 2), (2, 3), (4, 5), (6, 5)]\n",
      "Flat-mapped vertices:\n",
      "[1, 2, 3, 4, 5, 6]\n",
      "After map phase:\n",
      "[(1, 1), (2, 2), (3, 3), (4, 4), (5, 5), (6, 6)]\n",
      "Initial vertices and labels:\n",
      "[(1, 1), (2, 2), (3, 3), (4, 4), (5, 5), (6, 6)]\n",
      "\n",
      "Contributions after map phase, iteration 1:\n",
      "[(1, 2), (2, 1), (2, 3), (3, 2), (4, 5), (5, 4), (6, 5), (5, 6)]\n",
      "Updated vertices and labels after reduce phase, iteration 1:\n",
      "[(1, 2), (2, 1), (3, 2), (4, 5), (5, 4), (6, 5)]\n",
      "\n",
      "After map-reduce phase, iteration 1:\n",
      "[(1, 2), (2, 1), (3, 2), (4, 5), (5, 4), (6, 5)]\n",
      "\n",
      "Contributions after map phase, iteration 2:\n",
      "[(1, 2), (2, 1), (2, 3), (3, 2), (4, 5), (5, 4), (6, 5), (5, 6)]\n",
      "Updated vertices and labels after reduce phase, iteration 2:\n",
      "[(1, 2), (2, 1), (3, 2), (4, 5), (5, 4), (6, 5)]\n",
      "\n",
      "After map-reduce phase, iteration 2:\n",
      "[(1, 2), (2, 1), (3, 2), (4, 5), (5, 4), (6, 5)]\n",
      "\n",
      "No more changes, stopping the iteration.\n",
      "\n",
      "Final Components:\n",
      "[(1, 2), (2, 1), (3, 2), (4, 5), (5, 4), (6, 5)]\n"
     ]
    }
   ],
   "source": [
    "edges = [(1, 2), (2, 3), (4, 5), (6, 5)]\n",
    "edgesRDD = sc.parallelize(edges)\n",
    "print(\"Initial edges:\")\n",
    "print(edgesRDD.collect())\n",
    "\n",
    "vertices = edgesRDD.flatMap(lambda edge: [edge[0], edge[1]]).distinct()\n",
    "print(\"Flat-mapped vertices:\")\n",
    "print(vertices.collect())\n",
    "verticesRDD = vertices.map(lambda vertex: (vertex, vertex))\n",
    "print(\"After map phase:\")\n",
    "print(verticesRDD.collect())\n",
    "\n",
    "print(\"Initial vertices and labels:\")\n",
    "print(verticesRDD.collect())\n",
    "\n",
    "\n",
    "def emit_edges(edge):\n",
    "    return [(edge[0], edge[1]), (edge[1], edge[0])]\n",
    "\n",
    "\n",
    "iteration = 0\n",
    "while True:\n",
    "    iteration += 1\n",
    "\n",
    "    contribs = edgesRDD.flatMap(emit_edges)\n",
    "    print(f\"\\nContributions after map phase, iteration {iteration}:\")\n",
    "    print(contribs.collect())\n",
    "\n",
    "    newVerticesRDD = contribs.reduceByKey(min)\n",
    "    print(f\"Updated vertices and labels after reduce phase, iteration {iteration}:\")\n",
    "    print(newVerticesRDD.collect())\n",
    "\n",
    "    changes = newVerticesRDD.join(verticesRDD).filter(lambda x: x[1][0] != x[1][1]).count()\n",
    "\n",
    "    print(f\"\\nAfter map-reduce phase, iteration {iteration}:\")\n",
    "    print(newVerticesRDD.collect())\n",
    "\n",
    "    if changes == 0:\n",
    "        print(\"\\nNo more changes, stopping the iteration.\")\n",
    "        break\n",
    "    else:\n",
    "        verticesRDD = newVerticesRDD\n",
    "\n",
    "print(\"\\nFinal Components:\")\n",
    "print(newVerticesRDD.collect())\n"
   ],
   "metadata": {
    "collapsed": false,
    "ExecuteTime": {
     "end_time": "2024-03-07T19:28:46.571704Z",
     "start_time": "2024-03-07T19:28:44.154916Z"
    }
   },
   "id": "657c500c687bf55",
   "execution_count": 63
  },
  {
   "cell_type": "code",
   "outputs": [],
   "source": [],
   "metadata": {
    "collapsed": false
   },
   "id": "dacef68d650e145f"
  }
 ],
 "metadata": {
  "kernelspec": {
   "display_name": "Python 3",
   "language": "python",
   "name": "python3"
  },
  "language_info": {
   "codemirror_mode": {
    "name": "ipython",
    "version": 2
   },
   "file_extension": ".py",
   "mimetype": "text/x-python",
   "name": "python",
   "nbconvert_exporter": "python",
   "pygments_lexer": "ipython2",
   "version": "2.7.6"
  }
 },
 "nbformat": 4,
 "nbformat_minor": 5
}
