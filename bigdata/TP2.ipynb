{
 "cells": [
  {
   "cell_type": "code",
   "execution_count": 1,
   "id": "initial_id",
   "metadata": {
    "collapsed": true,
    "ExecuteTime": {
     "end_time": "2023-11-17T15:24:08.321645Z",
     "start_time": "2023-11-17T15:24:05.097526Z"
    }
   },
   "outputs": [
    {
     "name": "stderr",
     "output_type": "stream",
     "text": [
      "Setting default log level to \"WARN\".\n",
      "To adjust logging level use sc.setLogLevel(newLevel). For SparkR, use setLogLevel(newLevel).\n",
      "23/11/17 16:24:07 WARN NativeCodeLoader: Unable to load native-hadoop library for your platform... using builtin-java classes where applicable\n"
     ]
    }
   ],
   "source": [
    "from pyspark import SparkContext\n",
    "sc = SparkContext()"
   ]
  },
  {
   "cell_type": "code",
   "execution_count": 2,
   "outputs": [],
   "source": [
    "document = sc.textFile(\"shake.txt\")"
   ],
   "metadata": {
    "collapsed": false,
    "ExecuteTime": {
     "end_time": "2023-11-17T15:24:08.800157Z",
     "start_time": "2023-11-17T15:24:08.322078Z"
    }
   },
   "id": "e270ab2a29cfb3af"
  },
  {
   "cell_type": "code",
   "execution_count": 3,
   "outputs": [
    {
     "name": "stderr",
     "output_type": "stream",
     "text": [
      "                                                                                \r"
     ]
    },
    {
     "data": {
      "text/plain": "124475"
     },
     "execution_count": 3,
     "metadata": {},
     "output_type": "execute_result"
    }
   ],
   "source": [
    "document.count()"
   ],
   "metadata": {
    "collapsed": false,
    "ExecuteTime": {
     "end_time": "2023-11-17T15:24:09.606801Z",
     "start_time": "2023-11-17T15:24:08.800420Z"
    }
   },
   "id": "ded356e2654e2e5c"
  },
  {
   "cell_type": "code",
   "execution_count": 4,
   "outputs": [
    {
     "data": {
      "text/plain": "['This is the 100th Etext file presented by Project Gutenberg, and',\n 'is presented in cooperation with World Library, Inc., from their',\n 'Library of the Future and Shakespeare CDROMS.  Project Gutenberg',\n 'often releases Etexts that are NOT placed in the Public Domain!!',\n '',\n 'Shakespeare',\n '',\n '',\n '',\n '']"
     },
     "execution_count": 4,
     "metadata": {},
     "output_type": "execute_result"
    }
   ],
   "source": [
    "document.take(10)"
   ],
   "metadata": {
    "collapsed": false,
    "ExecuteTime": {
     "end_time": "2023-11-17T15:24:09.709204Z",
     "start_time": "2023-11-17T15:24:09.604805Z"
    }
   },
   "id": "8e5eff5f6b8b06fb"
  },
  {
   "cell_type": "code",
   "execution_count": 5,
   "outputs": [],
   "source": [
    "def word_count(document):\n",
    "    return document.flatMap(lambda line: line.lower().split()).map(lambda word: (word, 1)).reduceByKey(\n",
    "        lambda x, y: x + y)"
   ],
   "metadata": {
    "collapsed": false,
    "ExecuteTime": {
     "end_time": "2023-11-17T15:24:09.725671Z",
     "start_time": "2023-11-17T15:24:09.710042Z"
    }
   },
   "id": "3aa6acb45a6b33a1"
  },
  {
   "cell_type": "code",
   "execution_count": 6,
   "outputs": [
    {
     "data": {
      "text/plain": "[('this', 5882),\n ('is', 9145),\n ('presented', 14),\n ('project', 244),\n ('gutenberg,', 1),\n ('in', 10671),\n ('cooperation', 1),\n ('world', 568),\n ('library,', 224),\n ('library', 7),\n ('of', 18010),\n ('shakespeare', 268),\n ('gutenberg', 232),\n ('are', 3683),\n ('placed', 10),\n ('public', 55),\n ('domain!!', 1),\n ('gg', 1),\n ('*this', 1),\n ('certain', 121)]"
     },
     "execution_count": 6,
     "metadata": {},
     "output_type": "execute_result"
    }
   ],
   "source": [
    "word_count(document).take(20)"
   ],
   "metadata": {
    "collapsed": false,
    "ExecuteTime": {
     "end_time": "2023-11-17T15:24:10.393679Z",
     "start_time": "2023-11-17T15:24:09.714924Z"
    }
   },
   "id": "200171ae4e0a8e8e"
  },
  {
   "cell_type": "markdown",
   "source": [
    "**Exercice 2**. Consider the RDDs pets seen the slides (ﬁrst part on Spark) for today class: \n",
    "```pets = sc.parallelize([(\"cat\", 1), (\"dog\", 1), (\"cat\", 2), (\"dog\", 3),(\"dog\", 2)  ])```\n",
    "and design a Spark script for compute the average quantity of each pet."
   ],
   "metadata": {
    "collapsed": false
   },
   "id": "71bfdb333ec2e743"
  },
  {
   "cell_type": "code",
   "execution_count": 7,
   "outputs": [],
   "source": [
    "def average_pets(pets):\n",
    "    return pets.map(lambda x: (x[0], (x[1], 1))).reduceByKey(lambda x, y: (x[0] + y[0], x[1] + y[1])).map(\n",
    "        lambda x: (x[0], x[1][0] / x[1][1]))"
   ],
   "metadata": {
    "collapsed": false,
    "ExecuteTime": {
     "end_time": "2023-11-17T15:24:10.418861Z",
     "start_time": "2023-11-17T15:24:10.395312Z"
    }
   },
   "id": "fe8436af45481299"
  },
  {
   "cell_type": "code",
   "execution_count": 8,
   "outputs": [
    {
     "data": {
      "text/plain": "[('dog', 2.0), ('cat', 1.5)]"
     },
     "execution_count": 8,
     "metadata": {},
     "output_type": "execute_result"
    }
   ],
   "source": [
    "pets = sc.parallelize([(\"cat\", 1), (\"dog\", 1), (\"cat\", 2), (\"dog\", 3),(\"dog\", 2)  ])\n",
    "average_pets(pets).collect()"
   ],
   "metadata": {
    "collapsed": false,
    "ExecuteTime": {
     "end_time": "2023-11-17T15:24:10.856757Z",
     "start_time": "2023-11-17T15:24:10.398686Z"
    }
   },
   "id": "9f8d0e3f66c12ba6"
  },
  {
   "cell_type": "markdown",
   "source": [
    "**Exercice 4.** Graph analytics. Design and implement algorithms in Spark for the following \n",
    "analytics problems on directed graphs.  Assume that a graph is a set of edge pairs (v,w) \n",
    "indicating that an edge exists from node v to node w. \n",
    "Sinks. Given a directed graph, ﬁnd the set of nodes having only  incoming edges and  \n",
    "having no outgoing edges.\n",
    "Universal sinks.  Given a directed graph, ﬁnd the set of nodes having an incoming edge \n",
    "from all the remaining nodes, and  having no outgoing edges.  \n",
    "You can use sc.parallelize to create a small RDD containing pairs for a graph to use as \n",
    "input for your algorithms.\n",
    "For this exercice you can use this graph:\n",
    "```g = sc.parallelize([(1,4), (4,2), (2,1), (3,2), (2,5), (5,3)])```\n",
    "Triangles (*) Given a directed graph, enumerate all directed triangles. "
   ],
   "metadata": {
    "collapsed": false
   },
   "id": "678252e1afcabedb"
  },
  {
   "cell_type": "code",
   "execution_count": 38,
   "outputs": [],
   "source": [
    "g = sc.parallelize([(1, 4), (4, 2), (2, 1), (3, 2), (2, 5), (5, 3), (4, 6), (5, 6)])"
   ],
   "metadata": {
    "collapsed": false,
    "ExecuteTime": {
     "end_time": "2023-11-17T15:29:50.188562Z",
     "start_time": "2023-11-17T15:29:50.180012Z"
    }
   },
   "id": "709886df96220a2b"
  },
  {
   "cell_type": "code",
   "execution_count": 39,
   "outputs": [],
   "source": [
    "def sinks(g):\n",
    "    return g.map(lambda x: (x[1], 1)).reduceByKey(lambda x, y: x + y).filter(lambda x: x[1] == 1).map(\n",
    "        lambda x: x[0]).collect()"
   ],
   "metadata": {
    "collapsed": false,
    "ExecuteTime": {
     "end_time": "2023-11-17T15:29:50.346162Z",
     "start_time": "2023-11-17T15:29:50.341472Z"
    }
   },
   "id": "87d131eaff8731ed"
  },
  {
   "cell_type": "code",
   "execution_count": 40,
   "outputs": [
    {
     "data": {
      "text/plain": "[1, 3, 4, 5]"
     },
     "execution_count": 40,
     "metadata": {},
     "output_type": "execute_result"
    }
   ],
   "source": [
    "sinks(g)"
   ],
   "metadata": {
    "collapsed": false,
    "ExecuteTime": {
     "end_time": "2023-11-17T15:29:50.807820Z",
     "start_time": "2023-11-17T15:29:50.571891Z"
    }
   },
   "id": "b2dbd2f0e5c772cc"
  },
  {
   "cell_type": "code",
   "execution_count": null,
   "outputs": [],
   "source": [],
   "metadata": {
    "collapsed": false
   },
   "id": "813611d579dcadbc"
  }
 ],
 "metadata": {
  "kernelspec": {
   "display_name": "Python 3",
   "language": "python",
   "name": "python3"
  },
  "language_info": {
   "codemirror_mode": {
    "name": "ipython",
    "version": 2
   },
   "file_extension": ".py",
   "mimetype": "text/x-python",
   "name": "python",
   "nbconvert_exporter": "python",
   "pygments_lexer": "ipython2",
   "version": "2.7.6"
  }
 },
 "nbformat": 4,
 "nbformat_minor": 5
}
