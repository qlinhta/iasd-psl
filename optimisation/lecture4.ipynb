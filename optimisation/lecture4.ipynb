{
 "cells": [
  {
   "cell_type": "markdown",
   "source": [
    "# Optimisation for Machine Learning\n",
    "\n",
    "October 05, 2023\n",
    "\n",
    "### Logistic\n",
    "Contact: [Clement Royer](mailto:clement.royer@lamsade.dauphine.fr)\n",
    "Lecture's web: [URL](https://www.lamsade.dauphine.fr/%7Ecroyer/teachOAA.html)\n",
    "Examen: 60% (2h), dated December 13, 2023 10:00 AM - 12:00 PM\n",
    "Project: 40%, during from October 6, 2023 to December 23, 2023"
   ],
   "metadata": {
    "collapsed": false
   },
   "id": "de2546425df18f63"
  },
  {
   "cell_type": "code",
   "execution_count": 21,
   "id": "initial_id",
   "metadata": {
    "collapsed": true,
    "ExecuteTime": {
     "end_time": "2023-10-05T13:03:23.692308Z",
     "start_time": "2023-10-05T13:03:23.689339Z"
    }
   },
   "outputs": [],
   "source": [
    "import numpy as np\n",
    "import matplotlib.pyplot as plt\n",
    "plt.style.use('default')\n",
    "plt.rc('text', usetex=True)\n",
    "plt.rc('font', family='sans-serif')\n",
    "plt.rc('font', size=14)\n",
    "plt.rc('axes', titlesize=14)\n",
    "plt.rc('axes', labelsize=14)\n",
    "plt.rc('xtick', labelsize=14)\n",
    "plt.rc('ytick', labelsize=14)\n",
    "plt.rc('legend', fontsize=14)\n",
    "plt.rc('lines', markersize=10)"
   ]
  },
  {
   "cell_type": "markdown",
   "source": [
    "## Non-smooth optimization and regularization\n",
    "\n",
    "About what can we do if we don't have gradient?\n",
    "How can we guarantee that a solution has a specific structure/property?"
   ],
   "metadata": {
    "collapsed": false
   },
   "id": "61109b4fe37969bf"
  },
  {
   "cell_type": "markdown",
   "source": [
    "#### Optimizing without gradients\n",
    "\n",
    "$$ \\min_{w \\in \\mathbb{R}^d} f(w) \\text{ with } f: \\mathbb{R}^d \\rightarrow \\mathbb{R}$$\n",
    "So far we have assumed that $f$ was $C^1$ and that we could compute its gradient $\\nabla f$.\n",
    "But many problems involve functions that are not differentiable, or for which the gradient is not available in certain points.\n",
    "\n",
    "**Example:** $f(w) = |w| \\in \\mathbb{R}$ is not differentiable at $w=0$."
   ],
   "metadata": {
    "collapsed": false
   },
   "id": "4a8a8ff019089a30"
  },
  {
   "cell_type": "code",
   "execution_count": 22,
   "outputs": [
    {
     "data": {
      "text/plain": "<Figure size 400x400 with 1 Axes>",
      "image/png": "[encoded data removed]"
     },
     "metadata": {},
     "output_type": "display_data"
    }
   ],
   "source": [
    "def f(w):\n",
    "    return np.abs(w)\n",
    "fig, ax = plt.subplots(figsize=(4, 4))\n",
    "w = np.linspace(-1, 1, 100)\n",
    "ax.plot(w, f(w))\n",
    "ax.set_xlabel(r'$w$')\n",
    "ax.set_ylabel(r'$f(w)$')\n",
    "ax.set_title(r'$f(w) = |w|$')\n",
    "ax.grid(True)\n",
    "plt.show()"
   ],
   "metadata": {
    "collapsed": false,
    "ExecuteTime": {
     "end_time": "2023-10-05T13:03:25.066060Z",
     "start_time": "2023-10-05T13:03:24.935488Z"
    }
   },
   "id": "d3ee402d4916a485"
  },
  {
   "cell_type": "markdown",
   "source": [
    "**Definition:** A function $f: \\mathbb{R}^d \\rightarrow \\mathbb{R}$ is non-smooth if there exists a vector $w \\in \\mathbb{R}^d$ such that $f$ is not differentiable at $w$.\n",
    "\n",
    "**Remark**: A non-smooth function need to be discontinuous. \n",
    "\n",
    "We will focus on the case where $f$ is convex non-smooth. That is necessary continuous.\n",
    "\n",
    "**Definition:** Let $f: \\mathbb{R}^d \\rightarrow \\mathbb{R}$ be a convex function (hence continuous) function and let $w \\in \\mathbb{R}^d$. A vector $g \\in \\mathbb{R}^d$ is called a subgradient of $f$ at $w$ if for all $v \\in \\mathbb{R}^d$, we have:\n",
    "$$ f(v) \\geq f(w) + g^T(v-w)$$\n",
    "The set of all subgradients of $f$ at $w$ is called the subdifferential of $f$ at $w$ and is denoted by $\\partial f(w) \\subset \\mathbb{R}^d$."
   ],
   "metadata": {
    "collapsed": false
   },
   "id": "4e44730e0173c9ee"
  },
  {
   "cell_type": "markdown",
   "source": [
    "For $\\mathcal{C}^1$ convex $f$, we have $f(v) \\geq f(w) + \\nabla f(w)^T(v-w)$ for all $v \\in \\mathbb{R}^d$.\n",
    "In that case, $\\partial f(w) = \\{\\nabla f(w)\\}$."
   ],
   "metadata": {
    "collapsed": false
   },
   "id": "14b0af28157b7716"
  },
  {
   "cell_type": "markdown",
   "source": [
    "**Theorem**: If $f: \\mathbb{R}^d \\rightarrow \\mathbb{R}$ is non-smooth convex, then:\n",
    "$$\n",
    "[\\bar{w} \\in \\mathbb{R}^d \\text{ is a minimizer of } f] \\Leftrightarrow [0_{\\mathbb{R}^d} \\in \\partial f(\\bar{w})]\n",
    "$$\n",
    "\n",
    "Generalization of the $\\mathcal{C}^1$ equivalent when $f$ is $\\mathcal{C}^1$: $\\partial f(\\bar{w}) = \\{\\nabla f(\\bar{w})\\}$.\n",
    "Using the notion of subgradient, we can build a class of algorithms for minimizing non-smooth convex functions. $\\Rightarrow$ Subgradient methods."
   ],
   "metadata": {
    "collapsed": false
   },
   "id": "546a75a1f3e61abe"
  },
  {
   "cell_type": "markdown",
   "source": [
    "Basic subgradient method iteration:\n",
    "$$\n",
    "\\forall k \\geq 0, \\quad w_{k+1} = w^k - \\alpha_k g_k\n",
    "$$\n",
    "where $g_k \\in \\partial f(w^k)$ and $\\alpha_k > 0$ is a stepsize.\n",
    "This is the GD iteration when $\\partial f(w^k) = \\{\\nabla f(w^k)\\}$."
   ],
   "metadata": {
    "collapsed": false
   },
   "id": "51608f4e602f32b8"
  },
  {
   "cell_type": "code",
   "execution_count": null,
   "outputs": [],
   "source": [],
   "metadata": {
    "collapsed": false
   },
   "id": "ccf721f36b46ebfc"
  }
 ],
 "metadata": {
  "kernelspec": {
   "display_name": "Python 3",
   "language": "python",
   "name": "python3"
  },
  "language_info": {
   "codemirror_mode": {
    "name": "ipython",
    "version": 2
   },
   "file_extension": ".py",
   "mimetype": "text/x-python",
   "name": "python",
   "nbconvert_exporter": "python",
   "pygments_lexer": "ipython2",
   "version": "2.7.6"
  }
 },
 "nbformat": 4,
 "nbformat_minor": 5
}
