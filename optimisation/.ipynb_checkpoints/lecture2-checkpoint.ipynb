{
 "cells": [
  {
   "cell_type": "markdown",
   "source": [
    "# Optimisation for Machine Learning\n",
    "\n",
    "September 27, 2023\n",
    "\n",
    "### Logistic\n",
    "Contact: [Clement Royer](mailto:clement.royer@lamsade.dauphine.fr)\n",
    "Lecture's web: [URL](https://www.lamsade.dauphine.fr/%7Ecroyer/teachOAA.html)\n",
    "Examen: 60% (2h), dated December 13, 2023 10:00 AM - 12:00 PM\n",
    "Project: 40%, during from October 6, 2023 to December 23, 2023"
   ],
   "metadata": {
    "collapsed": false
   },
   "id": "3544c55eed147464"
  },
  {
   "cell_type": "code",
   "execution_count": 51,
   "id": "initial_id",
   "metadata": {
    "collapsed": true,
    "ExecuteTime": {
     "end_time": "2023-09-27T08:24:08.485097Z",
     "start_time": "2023-09-27T08:24:08.476958Z"
    }
   },
   "outputs": [],
   "source": [
    "import numpy as np\n",
    "import matplotlib.pyplot as plt\n",
    "plt.style.use('default')\n",
    "plt.rc('text', usetex=True)\n",
    "plt.rc('font', family='serif')\n",
    "plt.rc('font', size=18)\n",
    "plt.rc('axes', titlesize=18)\n",
    "plt.rc('axes', labelsize=18)\n",
    "plt.rc('xtick', labelsize=18)\n",
    "plt.rc('ytick', labelsize=18)\n",
    "plt.rc('legend', fontsize=18)\n",
    "plt.rc('lines', markersize=10)"
   ]
  },
  {
   "cell_type": "markdown",
   "source": [
    "## GRADIENT METHODS AND CONVEX OPTIMIZATION\n",
    "\n",
    "**Problem of interest**: $\\min_{w \\in \\mathbb{R}^d} f(w)$ and $f: \\mathbb{R}^d \\rightarrow \\mathbb{R}$ is convex and differentiable.\n",
    "\n",
    "When it is convex we don't have to worry about local minima, because the local minima is the global minima.\n",
    "\n",
    "**Assumption**: $f$ belongs to $C^{1,1}_{L}$ functions, i.e. $f$ is convex and its gradient is $L$-Lipschitz continuous.\n",
    "- $f$ is $C^1$ (continuously differentiable) at every point $w \\in \\mathbb{R}^d$, $\\exists \\nabla f(w) \\in \\mathbb{R}^d$ (gradient of $f$ at $w$) that represents how the function $f$ varies locally around $w$.\n",
    "- The gradient mapping $\\nabla f: \\mathbb{R}^d \\rightarrow \\mathbb{R}^d, w \\mapsto \\nabla f(w)$ is $L$-Lipschitz continuous where $L > 0$ is the Lipschitz constant of $\\nabla f$. This means that $\\forall w, w' \\in \\mathbb{R}^d, \\|\\nabla f(w) - \\nabla f(w')\\| \\leq L \\|w - w'\\|$. (At $L = 0$, $\\nabla f$ is constant, i.e. $\\nabla f(w) = \\nabla f(w')$ for all $w, w' \\in \\mathbb{R}^d$.)"
   ],
   "metadata": {
    "collapsed": false
   },
   "id": "d4c9f1317ab6d87a"
  },
  {
   "cell_type": "markdown",
   "source": [
    "**Examples of $C^{1,1}_{L}$ functions**:\n",
    "- Linear least squares: $f(w) = \\frac{1}{2} \\|Xw - y\\|^2$ where $X \\in \\mathbb{R}^{n \\times d}$ and $y \\in \\mathbb{R}^n$.\n",
    "- Logistic regression objective function: $f(w) = \\sum_{i=1}^n \\log(1 + \\exp(-y_i x_i^T w))$ where $x_i \\in \\mathbb{R}^d$ and $y_i \\in \\{-1, 1\\}$.\n",
    "- Quadratic function: $f(w) = \\frac{1}{2} w^T A w - b^T w$ where $A \\in \\mathbb{R}^{d \\times d}$ and $b \\in \\mathbb{R}^d$."
   ],
   "metadata": {
    "collapsed": false
   },
   "id": "6f49dce74634d412"
  },
  {
   "cell_type": "markdown",
   "source": [
    "**Remark**: $C^{1,1}_{L}$ assumption is a simplifying assumption that:\n",
    "- Functions are not always $C^{1}$\n",
    "- Functions/gradients are not always Lipschitz continuous on the whole space $\\mathbb{R}^d$. $\\rightarrow$ Possible to use local Lipschitz constants instead of global Lipschitz constants.\n",
    "\n",
    "Sometimes $C^{1,1}_{L}$ are called $L$-smooth functions. $L$ is called the smoothness constant."
   ],
   "metadata": {
    "collapsed": false
   },
   "id": "5e90c46456345909"
  },
  {
   "cell_type": "markdown",
   "source": [
    "**Properties of $C^{1,1}_{L}$ functions**: If $f$ is $C^{1,1}_{L}$ convex then \n",
    "\n",
    "- $\\forall w, w' \\in \\mathbb{R}^d f(w') \\leq f(w) + \\nabla f(w)^T (w' - w) + \\frac{L}{2} \\|w' - w\\|^2$ $\\rightarrow$ Upper bound on $f(w')$ with a quadratic function of $w'$.\n",
    "- $\\forall w, w' \\in \\mathbb{R}^d f(w') \\geq f(w) + \\nabla f(w)^T (w' - w)$ $\\rightarrow$ Lower bound on $f(w')$ with a linear function of $w'$. (This is actually a characterization of convexity for $C^1$ functions.)"
   ],
   "metadata": {
    "collapsed": false
   },
   "id": "f05ebea7d9a67aef"
  },
  {
   "cell_type": "markdown",
   "source": [
    "Toward gradient descent:\n",
    "1. Suppose that we are at $w \\in \\mathbb{R}^d$ and we know $f(w)$ and $\\nabla f(w)$.\n",
    "2. If $\\|\\nabla f(w)\\| = 0$ then $w$ is a global minimum of $f$ (because $f$ is convex).\n",
    "3. When $\\|\\nabla f(w)\\| \\neq 0$, using (1) we can find $v$ such that: $f(w) + \\nabla f(w)^T v + \\frac{L}{2} \\|v\\|^2 < f(w)$ implying that $f(v) \\leq f(w) + \\nabla f(w)^T v + \\frac{L}{2} \\|v\\|^2 < f(w)$.\n",
    "4. We can then replace $w$ by $v$ and repeat the process until $\\|\\nabla f(w)\\| = 0$."
   ],
   "metadata": {
    "collapsed": false
   },
   "id": "cd42fca2e2008210"
  },
  {
   "cell_type": "markdown",
   "source": [
    "### Gradient Descent\n",
    "\n",
    "**Gradient descent algorithm**: $f$ is $C^{1,1}_{L}$ convex and differentiable.\n",
    "1. Initialize $w_0 \\in \\mathbb{R}^d$.\n",
    "2. For $k = 0, 1, \\dots$:\n",
    "    - Evaluate $f(w_k)$ and $\\nabla f(w_k)$. If $\\|\\nabla f(w_k)\\| = 0$ then stop. $\\Longrightarrow$ Output $w_k$.\n",
    "    - Choose a step size $\\alpha_k > 0$.\n",
    "    - Set $w_{k+1} = w_k - \\alpha_k \\nabla f(w_k)$.\n",
    "    End For.\n",
    "\n",
    "$w_{k+1} = w_k - \\alpha_k \\nabla f(w_k)$ is called the **gradient descent iteration**.\n",
    "\n",
    "**Remark**: $f$ is $C^{1,1}_{L}$ convex and differentiable $\\Longrightarrow$ $f$ is $C^1$ and convex $\\Longrightarrow$ $f$ is convex $\\Longrightarrow$ $f$ is $C^1$."
   ],
   "metadata": {
    "collapsed": false
   },
   "id": "522f5168b7a54473"
  },
  {
   "cell_type": "markdown",
   "source": [
    "**At step 1**: In an implementation, the for loop is replaced by a while loop involving a convergence criterion and a budget of iterations.\n",
    "- Convergence criterion: $\\|\\nabla f(w_k)\\| < \\epsilon$ for some $\\epsilon > 0$.\n",
    "- Budget of iterations: $k < k_{\\max}$ for some $k_{\\max} \\in \\mathbb{N}$.\n",
    "$\\Longrightarrow$ The algorithm stops when $\\|\\nabla f(w_k)\\| < \\epsilon$ or $k = k_{\\max}$.\n",
    "Budget of iterations is useful when the convergence criterion is not satisfied. It could be number of iterations, number of function evaluations, CPU time, etc."
   ],
   "metadata": {
    "collapsed": false
   },
   "id": "655119c355331cd9"
  },
  {
   "cell_type": "code",
   "execution_count": 52,
   "outputs": [],
   "source": [
    "# Visualisation of gradient descent\n",
    "def plot_gradient_descent(f, grad_f, alpha, w0, max_iter=1000, eps=1e-6):\n",
    "    w = w0\n",
    "    w_list = [w]\n",
    "    while np.linalg.norm(grad_f(w)) > eps and len(w_list) < max_iter:\n",
    "        w = w - alpha * grad_f(w)\n",
    "        w_list.append(w)\n",
    "    w_list = np.array(w_list)\n",
    "    plt.figure(figsize=(5, 5))\n",
    "    plt.plot(w_list[:, 0], w_list[:, 1], 'o-', markersize=5, color='cyan')\n",
    "    plt.xlabel('$w_1$')\n",
    "    plt.ylabel('$w_2$')\n",
    "    plt.grid()\n",
    "    plt.title('Gradient descent')\n",
    "    plt.show()"
   ],
   "metadata": {
    "collapsed": false,
    "ExecuteTime": {
     "end_time": "2023-09-27T08:24:08.487623Z",
     "start_time": "2023-09-27T08:24:08.481547Z"
    }
   },
   "id": "6204700d7eedeabe"
  },
  {
   "cell_type": "code",
   "execution_count": 53,
   "outputs": [
    {
     "data": {
      "text/plain": "<Figure size 500x500 with 1 Axes>",
      "image/png": "[encoded data removed]"
     },
     "metadata": {},
     "output_type": "display_data"
    }
   ],
   "source": [
    "n = 100\n",
    "d = 10\n",
    "X = np.random.randn(n, d)\n",
    "y = np.random.randn(n)\n",
    "def f(w):\n",
    "    return 0.5 * np.linalg.norm(X @ w - y) ** 2\n",
    "def grad_f(w):\n",
    "    return X.T @ (X @ w - y)\n",
    "alpha = 0.001\n",
    "w0 = np.random.randn(d)\n",
    "plot_gradient_descent(f, grad_f, alpha, w0)"
   ],
   "metadata": {
    "collapsed": false,
    "ExecuteTime": {
     "end_time": "2023-09-27T08:24:09.688516Z",
     "start_time": "2023-09-27T08:24:08.489910Z"
    }
   },
   "id": "779faa11e85348f2"
  },
  {
   "cell_type": "markdown",
   "source": [
    "Other convergence criteria:\n",
    "- $\\| \\nabla f(w_k) \\| < \\epsilon \\| \\nabla f(w_0) \\|$ where $\\epsilon$ is small tolerance/precision parameter. (e.g. $\\epsilon = 10^{-6}$)\n",
    "- $f(w_k) - \\min_{w \\in \\mathbb{R}^d} f(w) < \\epsilon$ where $\\epsilon$ is small tolerance/precision parameter. Closed to the best possible objective. Most of the time the optimal value is unknown. But for the convex functions, we can provide theorical bounds on the cost of satisfying this condition.\n",
    "- $\\|w_k - w^*\\| < \\epsilon$ where $\\epsilon$ is small tolerance/precision parameter, $w^* in \\arg\\min_{w \\in \\mathbb{R}^d} f(w)$ is the optimal solution.\n",
    "\n",
    "**Remark**: In general the optimal solution is unknown. But for certain convex functions, we can provide theorical bounds on the cost of satisfying $\\|w_k - w^*\\| < \\epsilon$."
   ],
   "metadata": {
    "collapsed": false
   },
   "id": "51ef91f2a1270414"
  },
  {
   "cell_type": "markdown",
   "source": [
    "**At second step** How we can choose $\\alpha_k$?\n",
    "\n",
    "One choice that works for $C^{1,1}_{L}$ functions is $\\alpha_k = \\frac{1}{L}$.\n",
    "Proposition: Suppose that we are at iteration $k$ of gradient descent and $\\| \\nabla f(w_k) \\| \\neq 0$. Then, if $\\alpha_k = \\frac{1}{L}$, we have:\n",
    "$$\n",
    "f(w_k) - \\alpha_k \\|\\nabla f(w_k)\\|^2 \\leq f(w_k) - \\frac{1}{2L} \\|\\nabla f(w_k)\\|^2 < f(w_{k})\n",
    "$$\n",
    "\n",
    "Proof **(PLEASE REDO THIS!)**:\n",
    "Apply (1) with $v = w_k - \\alpha \\nabla f(w_k)$ and $w = w_k$:\n",
    "$$\n",
    "f(w_k) + \\nabla f(w_k) \\leq f(w_k) + \\nabla f(w_k)^T (-\\frac{1}{L} \\nabla f(w_k)) + \\frac{L}{2} \\|-\\frac{1}{L} \\nabla f(w_k)\\|^2 \\\\\n",
    "= f(w_k) - \\frac{1}{L} \\|\\nabla f(w_k)\\|^2 + \\frac{1}{2L} \\|\\nabla f(w_k)\\|^2 \\\\\n",
    "= f(w_k) - \\frac{1}{2L} \\|\\nabla f(w_k)\\|^2 \\\\\n",
    "= f(w_k) - \\alpha_k \\|\\nabla f(w_k)\\|^2\n",
    "$$\n",
    "\n",
    "More general result: For any $\\alpha_k \\in (0, \\frac{2}{L})$, we have:\n",
    "$$\n",
    "f(w_k) - \\alpha_k \\nabla f(w_k) < f(w_k)\n",
    "$$\n",
    "\n",
    "**Remark**:\n",
    "- This suggests a problem dependent choice of $\\alpha_k$.\n",
    "- Requires knowledge of Lipschitz constant $L$.\n"
   ],
   "metadata": {
    "collapsed": false
   },
   "id": "7729a842349590f"
  },
  {
   "cell_type": "markdown",
   "source": [
    "QUESTION: Under our assumptions, what can we prove about the algorithm?\n",
    "\n",
    "**Theorem**: Suppose that $f$ is $C^{1,1}_{L}$ convex and differentiable. Then, for any $\\alpha_k = \\frac{1}{L}$, we have:\n",
    "1. Convergence rate: For any $k \\geq 1$, after $k$ iterations of gradient descent, we have: $$f(w_k) - \\min_{w \\in \\mathbb{R}^d} f(w) \\leq \\mathcal{O}(\\frac{1}{k})$$\n",
    "2. Complexity bound: For any $\\epsilon > 0$, GD reaches an iterate $w_k$ such that $f(w_k) - \\min_{w \\in \\mathbb{R}^d} f(w) \\leq \\epsilon$ in at most $\\mathcal{O}(\\frac{1}{\\epsilon})$ iterations. The cost of satisfying $f(w_k) - \\min_{w \\in \\mathbb{R}^d} f(w) \\leq \\epsilon$ is $\\mathcal{O}(\\frac{1}{\\epsilon})$ iterations.\n",
    "\n",
    "$\\mathcal{O}$ constant is dependent on $w_0$ and $L$, distance between $w_0$ and $w^*$.\n",
    "$\\leq$ signify that it is a worst case "
   ],
   "metadata": {
    "collapsed": false
   },
   "id": "aeb0a6dd65f53a11"
  },
  {
   "cell_type": "code",
   "execution_count": 53,
   "outputs": [],
   "source": [],
   "metadata": {
    "collapsed": false,
    "ExecuteTime": {
     "end_time": "2023-09-27T08:24:09.688724Z",
     "start_time": "2023-09-27T08:24:09.683274Z"
    }
   },
   "id": "72b215424a59590d"
  }
 ],
 "metadata": {
  "kernelspec": {
   "display_name": "Python 3",
   "language": "python",
   "name": "python3"
  },
  "language_info": {
   "codemirror_mode": {
    "name": "ipython",
    "version": 2
   },
   "file_extension": ".py",
   "mimetype": "text/x-python",
   "name": "python",
   "nbconvert_exporter": "python",
   "pygments_lexer": "ipython2",
   "version": "2.7.6"
  }
 },
 "nbformat": 4,
 "nbformat_minor": 5
}
