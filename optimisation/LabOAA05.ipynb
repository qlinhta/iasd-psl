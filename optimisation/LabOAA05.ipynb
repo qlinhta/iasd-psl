{
 "cells": [
  {
   "cell_type": "markdown",
   "metadata": {
    "id": "xd5ny1idR-1-"
   },
   "source": [
    "### <span style=\"color:rgb(234,81,96)\">Optimization for Machine Learning</span>\n",
    "### <span style=\"color:rgb(234,81,96)\">Master 2 IASD Apprentissage, 2023-2024</span>\n",
    "\n",
    "# <span style=\"color:rgb(234,81,96)\">Lab 05 - Stochastic gradient methods in practice</span>\n",
    "\n",
    "\n",
    "Lecture notes for this course are available [here](https://www.lamsade.dauphine.fr/~croyer/ensdocs/OAA/PolyOAA.pdf).\n",
    "\n",
    "This Jupyter notebook can be obtained [here](https://www.lamsade.dauphine.fr/~croyer/ensdocs/OAA/SourcesLabOAA05.zip).\n",
    "\n",
    "For any comment regarding this notebook (including typos), please send an email to: **clement.royer@lamsade.dauphine.fr**.\n",
    "\n",
    "For a better performance, this notebook should be run via [Google Colabs](https://colab.research.google.com/notebooks/welcome.ipynb) (requires a Google account). Otherwise, the packages associated with PyTorch may need to be installed in your local Python distribution."
   ]
  },
  {
   "cell_type": "markdown",
   "metadata": {
    "id": "5jWuhCSFj6YG"
   },
   "source": [
    "# <span style=\"color:rgb(234,81,96)\">Foreword</span>\n",
    "\n",
    "The goal of this lab session is to evolve from the setup of the first lab session, where we built a stochastic gradient method *from scratch*, to the modern practice of invoking standard optimization packages for ML tasks such as PyTorch. This allows for more reliable and efficient implementations.\n",
    "\n",
    "Part 1 of this notebook is concerned with Autograd, a popular automatic differentiation package.\n",
    "\n",
    "Part 2 focuses on implementing regression and classification tasks within the PyTorch framework. As we will see, most of the routines we hand-coded in other lab sessions are already built in within PyTorch.\n",
    "\n",
    "Part 3 is optional, and presents more sophisticated tools and (neural network) structures for optimization in ML."
   ]
  },
  {
   "cell_type": "code",
   "execution_count": 1,
   "metadata": {
    "ExecuteTime": {
     "end_time": "2019-10-31T12:22:44.598927Z",
     "start_time": "2019-10-31T12:22:44.194779Z"
    },
    "id": "IBaWGusjYVl7"
   },
   "outputs": [],
   "source": [
    "# Importing useful packages from PyTorch\n",
    "import torch\n",
    "from torch import nn # Neural networls\n",
    "import torchvision\n",
    "from torchvision import transforms\n",
    "import torch.nn.functional as F\n",
    "import matplotlib.pyplot as plt\n",
    "from torch.backends import cudnn # CUDA neural networks\n",
    "cudnn.benchmarks = True\n",
    "import time\n",
    "\n",
    "# Other imports\n",
    "import numpy as np # Numpy\n",
    "from numpy.random import multivariate_normal, randn\n",
    "from scipy.linalg.special_matrices import toeplitz"
   ]
  },
  {
   "cell_type": "markdown",
   "metadata": {
    "ExecuteTime": {
     "end_time": "2019-10-23T15:08:38.593695Z",
     "start_time": "2019-10-23T15:08:38.591717Z"
    },
    "id": "lMp6SH3ZYVmB"
   },
   "source": [
    "# <span style=\"color:rgb(234,81,96)\"> Part 1: Automatic differentiation via Autograd</span>\n",
    "\n",
    "Most optimization algorithms that we studied in this course relied on the gradient, i.e. the derivative of the function. For complex models, this derivative can be expensive to compute. The Autograd package uses *automatic differentiation* to compute gradients numerically and efficiently from the code of the function.\n",
    "\n",
    "\n"
   ]
  },
  {
   "cell_type": "markdown",
   "metadata": {
    "id": "e-cWMBV0YVmC"
   },
   "source": [
    "## <span style=\"color:rgb(234,81,96)\">1.1 Tensors and PyTorch</span>\n",
    "\n",
    "Tensors are multidimensional arrays, that generalize the concepts of scalars (0 dimension), vectors (1 dimension) and matrices (2 dimensions). PyTorch tensors are similar to NumPy arrays, and are at the heart of automatic differentiation in PyTorch. \n",
    "\n",
    "In this section, we study the basics of PyTorch tensors."
   ]
  },
  {
   "cell_type": "code",
   "execution_count": 5,
   "metadata": {
    "ExecuteTime": {
     "end_time": "2019-10-31T09:57:07.424799Z",
     "start_time": "2019-10-31T09:57:07.419528Z"
    },
    "colab": {
     "base_uri": "https://localhost:8080/"
    },
    "id": "RDJlG-m1YVmD",
    "outputId": "88a5bc50-5123-43e2-ebca-91baa37a5d7b"
   },
   "outputs": [
    {
     "name": "stdout",
     "output_type": "stream",
     "text": [
      "tensor([10., 20.])\n",
      "tensor([[10],\n",
      "        [20]])\n",
      "tensor([[10, 20]])\n",
      "tensor(3.)\n",
      "tensor([[0., 0., 0., 0.],\n",
      "        [0., 0., 0., 0.],\n",
      "        [0., 0., 0., 0.]])\n",
      "tensor([[ 0.1619, -0.6078],\n",
      "        [ 0.7681,  1.4239]])\n"
     ]
    }
   ],
   "source": [
    "# Several examples of PyTorch tensors\n",
    "\n",
    "#  A vector of size 2\n",
    "x1 = torch.tensor([10.0,20.0])\n",
    "print(x1) # Tensor objects can be printed (yet difficult to visualize in many dimensions!)\n",
    "\n",
    "#  A matrix of size 2x1\n",
    "x2 = torch.tensor([[10],[20]])\n",
    "print(x2)\n",
    "\n",
    "#  A matrix of dimensions 1x2,\n",
    "x3 = torch.tensor([[10,20]])\n",
    "print(x3)\n",
    "\n",
    "# A \"0 dimension\" tensor, i.e. a scalar\n",
    "x4 = torch.tensor(3.0)\n",
    "print(x4)\n",
    "\n",
    "# A zero-filled matrix of size 3x4\n",
    "x5 = torch.zeros(3,4)\n",
    "print(x5)\n",
    "\n",
    "# A 2x2 matrix with normal random coefficients\n",
    "x6 = torch.randn(2,2)\n",
    "print(x6)"
   ]
  },
  {
   "cell_type": "markdown",
   "metadata": {
    "ExecuteTime": {
     "end_time": "2019-10-26T11:03:34.240390Z",
     "start_time": "2019-10-26T11:03:34.235683Z"
    },
    "id": "_6ci6jMFYVmF"
   },
   "source": [
    "Operations on PyTorch tensors work the same way as for NumPy arrays."
   ]
  },
  {
   "cell_type": "code",
   "execution_count": 7,
   "metadata": {
    "ExecuteTime": {
     "end_time": "2019-10-31T09:57:07.819300Z",
     "start_time": "2019-10-31T09:57:07.816388Z"
    },
    "colab": {
     "base_uri": "https://localhost:8080/"
    },
    "id": "MTKzKga6YVmG",
    "outputId": "93bf4834-9a18-435a-a6a9-205b28190178"
   },
   "outputs": [
    {
     "name": "stdout",
     "output_type": "stream",
     "text": [
      "tensor([13., 23.])\n",
      "tensor([169., 529.])\n",
      "tensor([0., 0.])\n"
     ]
    }
   ],
   "source": [
    "# Add 3 to all elements\n",
    "x5 = x1 + 3\n",
    "print(x5)\n",
    "# Square every elements in x5\n",
    "x6 = x5 ** 2\n",
    "print(x6)\n",
    "# Fill a vector with zeros\n",
    "x6.zero_()\n",
    "print(x6)"
   ]
  },
  {
   "cell_type": "code",
   "execution_count": 8,
   "metadata": {
    "ExecuteTime": {
     "end_time": "2019-10-31T09:57:08.025291Z",
     "start_time": "2019-10-31T09:57:08.019664Z"
    },
    "colab": {
     "base_uri": "https://localhost:8080/"
    },
    "id": "gsIHnjr9YVmH",
    "outputId": "76666a8c-bcc5-4ce4-986b-e9099fc80f5d"
   },
   "outputs": [
    {
     "name": "stdout",
     "output_type": "stream",
     "text": [
      "tensor([[10, 20]])\n",
      "tensor([[10],\n",
      "        [20]])\n",
      "tensor([[100, 200],\n",
      "        [200, 400]])\n",
      "tensor([[100, 200],\n",
      "        [200, 400]])\n",
      "tensor([[100, 400]])\n"
     ]
    }
   ],
   "source": [
    "# Transpose a matrix\n",
    "x7 = x2.t()\n",
    "print(x7)\n",
    "\n",
    "# Reshaping a vector\n",
    "x8 = x7.view(2,1)\n",
    "print(x8)\n",
    "\n",
    "# Matrix multiplication (2 equivalent formulations)\n",
    "x9 = torch.mm(x8,x7)\n",
    "x10 = x8 @ x7\n",
    "print(x9)\n",
    "print(x10)\n",
    "\n",
    "# Component-wise product\n",
    "x11 = x7*x7\n",
    "print(x11)"
   ]
  },
  {
   "cell_type": "markdown",
   "metadata": {
    "ExecuteTime": {
     "end_time": "2019-10-26T11:04:11.667958Z",
     "start_time": "2019-10-26T11:04:11.663954Z"
    },
    "id": "-G-3py8jYVmJ"
   },
   "source": [
    "It is possible to convert NumPy arrays to PyTorch tensors and vice-versa."
   ]
  },
  {
   "cell_type": "code",
   "execution_count": 9,
   "metadata": {
    "ExecuteTime": {
     "end_time": "2019-10-31T09:57:08.402801Z",
     "start_time": "2019-10-31T09:57:08.399577Z"
    },
    "colab": {
     "base_uri": "https://localhost:8080/"
    },
    "id": "920oxQqxYVmK",
    "outputId": "cceaa3e4-0e7f-488e-8451-93652ad71027"
   },
   "outputs": [
    {
     "name": "stdout",
     "output_type": "stream",
     "text": [
      "[0 1 2 3 4 5 6 7 8 9]\n",
      "tensor([0., 1., 2., 3., 4., 5., 6., 7., 8., 9.])\n"
     ]
    }
   ],
   "source": [
    "# Convert a Pytorch to a NumPy array\n",
    "x7_numpy = x7.numpy()\n",
    "\n",
    "# Convert a NumPy array to a PyRorch array\n",
    "a=np.arange(10) # Generates a NumPy array with a range of 10 values (by default, starts at 0 and values are spaced by 1)\n",
    "print(a)\n",
    "a_torch = torch.tensor(a,dtype=torch.float)\n",
    "print(a_torch)"
   ]
  },
  {
   "cell_type": "markdown",
   "metadata": {
    "id": "rmzdepQAYVmM"
   },
   "source": [
    "## <span style=\"color:rgb(234,81,96)\">1.2 Cuda Tensors</span>\n",
    "\n",
    "Cuda tensors are a specific kind of tensors that can be efficiently implemented and manipulated on GPUs.\n",
    "\n",
    "***NB: This section can and should be skipped if the notebook is not run on Colabs or a platform with at least one GPU.***"
   ]
  },
  {
   "cell_type": "code",
   "execution_count": 10,
   "metadata": {
    "ExecuteTime": {
     "end_time": "2019-10-31T15:13:04.099620Z",
     "start_time": "2019-10-31T15:13:04.001127Z"
    },
    "colab": {
     "base_uri": "https://localhost:8080/"
    },
    "id": "fRII_XXNYVmM",
    "outputId": "f626a8b7-3d53-4341-b0f6-c3e7ce3d7224"
   },
   "outputs": [
    {
     "name": "stdout",
     "output_type": "stream",
     "text": [
      "True\n",
      "0\n",
      "1\n"
     ]
    }
   ],
   "source": [
    "# Run this command to see if cuda is installed\n",
    "print(torch.cuda.is_available())\n",
    "# If so, we can use a GPU device; otherwise, standard tensors will be used.\n",
    "if torch.cuda.is_available():\n",
    "    # Index of currently selected device\n",
    "    print(torch.cuda.current_device())\n",
    "    # Obtain the name of the current device (0 here)\n",
    "    torch.cuda.get_device_name(0) \n",
    "    # Number of GPUs available\n",
    "    print(torch.cuda.device_count())"
   ]
  },
  {
   "cell_type": "code",
   "execution_count": 11,
   "metadata": {
    "colab": {
     "base_uri": "https://localhost:8080/"
    },
    "id": "kYtNC3lIYizN",
    "outputId": "ff83fa8c-b0ae-4875-8270-9ea83b0aaa3b"
   },
   "outputs": [
    {
     "name": "stdout",
     "output_type": "stream",
     "text": [
      "-1\n",
      "0\n"
     ]
    }
   ],
   "source": [
    "if torch.cuda.is_available():\n",
    "    a = torch.Tensor([1,2])\n",
    "    # Get the device on which the tensor is stored\n",
    "    print(a.get_device())\n",
    "    # a.cuda() returns a copy of the object in Cuda memory\n",
    "    a = a.cuda()\n",
    "    print(a.get_device())"
   ]
  },
  {
   "cell_type": "code",
   "execution_count": 12,
   "metadata": {
    "colab": {
     "base_uri": "https://localhost:8080/",
     "height": 211
    },
    "id": "8f7gphVqYzOA",
    "outputId": "f3a8e6c8-fa0e-45ad-9609-75c861f48d7f"
   },
   "outputs": [
    {
     "ename": "TypeError",
     "evalue": "ignored",
     "output_type": "error",
     "traceback": [
      "\u001b[0;31m---------------------------------------------------------------------------\u001b[0m",
      "\u001b[0;31mTypeError\u001b[0m                                 Traceback (most recent call last)",
      "\u001b[0;32m<ipython-input-12-4ecc6d53ce57>\u001b[0m in \u001b[0;36m<module>\u001b[0;34m()\u001b[0m\n\u001b[1;32m      1\u001b[0m \u001b[0;32mif\u001b[0m \u001b[0mtorch\u001b[0m\u001b[0;34m.\u001b[0m\u001b[0mcuda\u001b[0m\u001b[0;34m.\u001b[0m\u001b[0mis_available\u001b[0m\u001b[0;34m(\u001b[0m\u001b[0;34m)\u001b[0m\u001b[0;34m:\u001b[0m\u001b[0;34m\u001b[0m\u001b[0;34m\u001b[0m\u001b[0m\n\u001b[1;32m      2\u001b[0m     \u001b[0;31m# This retuns an error: one cannot convert a Cuda Tensor to a Numpy array directly\u001b[0m\u001b[0;34m\u001b[0m\u001b[0;34m\u001b[0m\u001b[0;34m\u001b[0m\u001b[0m\n\u001b[0;32m----> 3\u001b[0;31m     \u001b[0ma\u001b[0m\u001b[0;34m.\u001b[0m\u001b[0mnumpy\u001b[0m\u001b[0;34m(\u001b[0m\u001b[0;34m)\u001b[0m\u001b[0;34m\u001b[0m\u001b[0;34m\u001b[0m\u001b[0m\n\u001b[0m",
      "\u001b[0;31mTypeError\u001b[0m: can't convert cuda:0 device type tensor to numpy. Use Tensor.cpu() to copy the tensor to host memory first."
     ]
    }
   ],
   "source": [
    "if torch.cuda.is_available():\n",
    "    # This retuns an error: one cannot convert a Cuda Tensor to a Numpy array directly\n",
    "    a.numpy()"
   ]
  },
  {
   "cell_type": "code",
   "execution_count": 13,
   "metadata": {
    "id": "JlVOfQugY1MQ"
   },
   "outputs": [],
   "source": [
    "if torch.cuda.is_available():\n",
    "    # To convert a Cuda tensor into a Numpy array, copy the tensor in CPU memory first\n",
    "    a.cpu().numpy()"
   ]
  },
  {
   "cell_type": "markdown",
   "metadata": {
    "id": "uUm7j4NVYVmP"
   },
   "source": [
    "## <span style=\"color:rgb(234,81,96)\">1.3 Autograd</span>"
   ]
  },
  {
   "cell_type": "markdown",
   "metadata": {
    "id": "WtKyziK1YVmP"
   },
   "source": [
    "We now describe the ideas behind automatic differentiation as well as their implementation in PyTorch.\n",
    "\n",
    "When creating a PyTorch tensor ``x``, one can ''track'' the gradient with respect to ``x`` of any subsequent function of ``x`` by specifying ``requires_grad=True`` in its definition."
   ]
  },
  {
   "cell_type": "code",
   "execution_count": 14,
   "metadata": {
    "ExecuteTime": {
     "end_time": "2019-10-31T09:57:09.011995Z",
     "start_time": "2019-10-31T09:57:09.008244Z"
    },
    "colab": {
     "base_uri": "https://localhost:8080/"
    },
    "id": "awKwA5Q2YVmQ",
    "outputId": "e65b1f19-4ced-49be-971a-fc363cffc39f"
   },
   "outputs": [
    {
     "name": "stdout",
     "output_type": "stream",
     "text": [
      "<MulBackward0 object at 0x7feea11a7b70>\n"
     ]
    }
   ],
   "source": [
    "x=torch.ones(10,10,requires_grad=True)\n",
    "y=3*x\n",
    "print(y.grad_fn)"
   ]
  },
  {
   "cell_type": "markdown",
   "metadata": {
    "id": "LSrVsyNgYVmR"
   },
   "source": [
    "In the above example, the gradient with respect to x is tracked within the graph of dependencies of y with respect to x. The operations are recorded in the structure ``y.grad_fn``, and will be used to compute the gradient of ``y`` with respect to ``x``.\n",
    "\n",
    "By default, ``requires_grad`` is set to ``True``. If *requires_grad*=*False*, no dependency will be tracked, as shown by the example below."
   ]
  },
  {
   "cell_type": "code",
   "execution_count": 15,
   "metadata": {
    "ExecuteTime": {
     "end_time": "2019-10-31T09:57:09.423847Z",
     "start_time": "2019-10-31T09:57:09.419754Z"
    },
    "colab": {
     "base_uri": "https://localhost:8080/"
    },
    "id": "kDn56kQMYVmS",
    "outputId": "c121fff8-8d50-4206-fb47-9a9248574320"
   },
   "outputs": [
    {
     "name": "stdout",
     "output_type": "stream",
     "text": [
      "None\n"
     ]
    }
   ],
   "source": [
    "# PyTorch tensors without tracking dependencies\n",
    "x=torch.ones(10,10,requires_grad = False)\n",
    "y=3*x\n",
    "y =y.sum()\n",
    "\n",
    "\n",
    "print(y.grad_fn)"
   ]
  },
  {
   "cell_type": "markdown",
   "metadata": {
    "ExecuteTime": {
     "end_time": "2019-10-23T15:16:54.625453Z",
     "start_time": "2019-10-23T15:16:54.622001Z"
    },
    "id": "7FGrYjB4YVmT"
   },
   "source": [
    "Note that it is not possible to start tracking gradients once operations have been made on the graph."
   ]
  },
  {
   "cell_type": "code",
   "execution_count": 16,
   "metadata": {
    "ExecuteTime": {
     "end_time": "2019-10-31T09:57:09.838760Z",
     "start_time": "2019-10-31T09:57:09.834686Z"
    },
    "colab": {
     "base_uri": "https://localhost:8080/"
    },
    "id": "9wDN73xdYVmU",
    "outputId": "02262170-7537-43c8-9e12-67425e04fd84"
   },
   "outputs": [
    {
     "name": "stdout",
     "output_type": "stream",
     "text": [
      "None\n",
      "None\n"
     ]
    }
   ],
   "source": [
    "x=torch.ones(10,10,requires_grad = False)\n",
    "y=3*x\n",
    "y =y.sum()\n",
    "print(y.grad_fn)\n",
    "x.requires_grad_(True)\n",
    "print(y.grad_fn)"
   ]
  },
  {
   "cell_type": "markdown",
   "metadata": {
    "ExecuteTime": {
     "end_time": "2019-10-23T15:14:10.046729Z",
     "start_time": "2019-10-23T15:14:10.040558Z"
    },
    "id": "gmqT2XAfYVmV"
   },
   "source": [
    "We know turn to the actual gradient calculation process, which corresponds to a **backward pass** in the computational graph."
   ]
  },
  {
   "cell_type": "code",
   "execution_count": 17,
   "metadata": {
    "ExecuteTime": {
     "end_time": "2019-10-31T09:57:10.264539Z",
     "start_time": "2019-10-31T09:57:10.260725Z"
    },
    "id": "TFWbpstkYVmW"
   },
   "outputs": [],
   "source": [
    "x=torch.ones(10,10,requires_grad = True)\n",
    "y=3*x\n",
    "y = y.sum()\n",
    "y.backward()"
   ]
  },
  {
   "cell_type": "markdown",
   "metadata": {
    "ExecuteTime": {
     "end_time": "2019-10-23T15:20:51.883134Z",
     "start_time": "2019-10-23T15:20:51.879830Z"
    },
    "id": "1yvOncSgYVmX"
   },
   "source": [
    "Once this backward pass has been performed, the derivative of y with respect to x is available directly from x through the operation ``x.grad``"
   ]
  },
  {
   "cell_type": "code",
   "execution_count": 18,
   "metadata": {
    "ExecuteTime": {
     "end_time": "2019-10-31T09:57:10.699618Z",
     "start_time": "2019-10-31T09:57:10.691675Z"
    },
    "colab": {
     "base_uri": "https://localhost:8080/"
    },
    "id": "b-JCgm-CYVmX",
    "outputId": "93ddaf39-55a0-4ae7-a182-0d94b1e69e40"
   },
   "outputs": [
    {
     "data": {
      "text/plain": [
       "tensor([[3., 3., 3., 3., 3., 3., 3., 3., 3., 3.],\n",
       "        [3., 3., 3., 3., 3., 3., 3., 3., 3., 3.],\n",
       "        [3., 3., 3., 3., 3., 3., 3., 3., 3., 3.],\n",
       "        [3., 3., 3., 3., 3., 3., 3., 3., 3., 3.],\n",
       "        [3., 3., 3., 3., 3., 3., 3., 3., 3., 3.],\n",
       "        [3., 3., 3., 3., 3., 3., 3., 3., 3., 3.],\n",
       "        [3., 3., 3., 3., 3., 3., 3., 3., 3., 3.],\n",
       "        [3., 3., 3., 3., 3., 3., 3., 3., 3., 3.],\n",
       "        [3., 3., 3., 3., 3., 3., 3., 3., 3., 3.],\n",
       "        [3., 3., 3., 3., 3., 3., 3., 3., 3., 3.]])"
      ]
     },
     "execution_count": 18,
     "metadata": {
      "tags": []
     },
     "output_type": "execute_result"
    }
   ],
   "source": [
    "# x.grad plots the tensor of derivatives of y with respect to every component of the tensor x.\n",
    "x.grad"
   ]
  },
  {
   "cell_type": "markdown",
   "metadata": {
    "id": "C3LS5j85YVmY"
   },
   "source": [
    "In the previous example, y is a scalar (equal to 3 times the sum of elements of x). When y is a tensor, one then needs to specify a tensor w.r.t. which the derivation will be performed."
   ]
  },
  {
   "cell_type": "code",
   "execution_count": 19,
   "metadata": {
    "ExecuteTime": {
     "end_time": "2019-10-31T09:57:11.236559Z",
     "start_time": "2019-10-31T09:57:11.136002Z"
    },
    "colab": {
     "base_uri": "https://localhost:8080/",
     "height": 364
    },
    "id": "c_8Q8vUwYVmY",
    "outputId": "9bdb7102-fa12-4b02-c885-c753ffb6ccd0"
   },
   "outputs": [
    {
     "ename": "RuntimeError",
     "evalue": "ignored",
     "output_type": "error",
     "traceback": [
      "\u001b[0;31m---------------------------------------------------------------------------\u001b[0m",
      "\u001b[0;31mRuntimeError\u001b[0m                              Traceback (most recent call last)",
      "\u001b[0;32m<ipython-input-19-f86a7c948a0b>\u001b[0m in \u001b[0;36m<module>\u001b[0;34m()\u001b[0m\n\u001b[1;32m      4\u001b[0m \u001b[0my\u001b[0m\u001b[0;34m=\u001b[0m\u001b[0;36m3\u001b[0m\u001b[0;34m*\u001b[0m\u001b[0mx\u001b[0m\u001b[0;34m\u001b[0m\u001b[0;34m\u001b[0m\u001b[0m\n\u001b[1;32m      5\u001b[0m \u001b[0;34m\u001b[0m\u001b[0m\n\u001b[0;32m----> 6\u001b[0;31m \u001b[0my\u001b[0m\u001b[0;34m.\u001b[0m\u001b[0mbackward\u001b[0m\u001b[0;34m(\u001b[0m\u001b[0;34m)\u001b[0m\u001b[0;34m\u001b[0m\u001b[0;34m\u001b[0m\u001b[0m\n\u001b[0m",
      "\u001b[0;32m/usr/local/lib/python3.6/dist-packages/torch/tensor.py\u001b[0m in \u001b[0;36mbackward\u001b[0;34m(self, gradient, retain_graph, create_graph)\u001b[0m\n\u001b[1;32m    219\u001b[0m                 \u001b[0mretain_graph\u001b[0m\u001b[0;34m=\u001b[0m\u001b[0mretain_graph\u001b[0m\u001b[0;34m,\u001b[0m\u001b[0;34m\u001b[0m\u001b[0;34m\u001b[0m\u001b[0m\n\u001b[1;32m    220\u001b[0m                 create_graph=create_graph)\n\u001b[0;32m--> 221\u001b[0;31m         \u001b[0mtorch\u001b[0m\u001b[0;34m.\u001b[0m\u001b[0mautograd\u001b[0m\u001b[0;34m.\u001b[0m\u001b[0mbackward\u001b[0m\u001b[0;34m(\u001b[0m\u001b[0mself\u001b[0m\u001b[0;34m,\u001b[0m \u001b[0mgradient\u001b[0m\u001b[0;34m,\u001b[0m \u001b[0mretain_graph\u001b[0m\u001b[0;34m,\u001b[0m \u001b[0mcreate_graph\u001b[0m\u001b[0;34m)\u001b[0m\u001b[0;34m\u001b[0m\u001b[0;34m\u001b[0m\u001b[0m\n\u001b[0m\u001b[1;32m    222\u001b[0m \u001b[0;34m\u001b[0m\u001b[0m\n\u001b[1;32m    223\u001b[0m     \u001b[0;32mdef\u001b[0m \u001b[0mregister_hook\u001b[0m\u001b[0;34m(\u001b[0m\u001b[0mself\u001b[0m\u001b[0;34m,\u001b[0m \u001b[0mhook\u001b[0m\u001b[0;34m)\u001b[0m\u001b[0;34m:\u001b[0m\u001b[0;34m\u001b[0m\u001b[0;34m\u001b[0m\u001b[0m\n",
      "\u001b[0;32m/usr/local/lib/python3.6/dist-packages/torch/autograd/__init__.py\u001b[0m in \u001b[0;36mbackward\u001b[0;34m(tensors, grad_tensors, retain_graph, create_graph, grad_variables)\u001b[0m\n\u001b[1;32m    124\u001b[0m \u001b[0;34m\u001b[0m\u001b[0m\n\u001b[1;32m    125\u001b[0m     \u001b[0mgrad_tensors_\u001b[0m \u001b[0;34m=\u001b[0m \u001b[0m_tensor_or_tensors_to_tuple\u001b[0m\u001b[0;34m(\u001b[0m\u001b[0mgrad_tensors\u001b[0m\u001b[0;34m,\u001b[0m \u001b[0mlen\u001b[0m\u001b[0;34m(\u001b[0m\u001b[0mtensors\u001b[0m\u001b[0;34m)\u001b[0m\u001b[0;34m)\u001b[0m\u001b[0;34m\u001b[0m\u001b[0;34m\u001b[0m\u001b[0m\n\u001b[0;32m--> 126\u001b[0;31m     \u001b[0mgrad_tensors_\u001b[0m \u001b[0;34m=\u001b[0m \u001b[0m_make_grads\u001b[0m\u001b[0;34m(\u001b[0m\u001b[0mtensors\u001b[0m\u001b[0;34m,\u001b[0m \u001b[0mgrad_tensors_\u001b[0m\u001b[0;34m)\u001b[0m\u001b[0;34m\u001b[0m\u001b[0;34m\u001b[0m\u001b[0m\n\u001b[0m\u001b[1;32m    127\u001b[0m     \u001b[0;32mif\u001b[0m \u001b[0mretain_graph\u001b[0m \u001b[0;32mis\u001b[0m \u001b[0;32mNone\u001b[0m\u001b[0;34m:\u001b[0m\u001b[0;34m\u001b[0m\u001b[0;34m\u001b[0m\u001b[0m\n\u001b[1;32m    128\u001b[0m         \u001b[0mretain_graph\u001b[0m \u001b[0;34m=\u001b[0m \u001b[0mcreate_graph\u001b[0m\u001b[0;34m\u001b[0m\u001b[0;34m\u001b[0m\u001b[0m\n",
      "\u001b[0;32m/usr/local/lib/python3.6/dist-packages/torch/autograd/__init__.py\u001b[0m in \u001b[0;36m_make_grads\u001b[0;34m(outputs, grads)\u001b[0m\n\u001b[1;32m     48\u001b[0m             \u001b[0;32mif\u001b[0m \u001b[0mout\u001b[0m\u001b[0;34m.\u001b[0m\u001b[0mrequires_grad\u001b[0m\u001b[0;34m:\u001b[0m\u001b[0;34m\u001b[0m\u001b[0;34m\u001b[0m\u001b[0m\n\u001b[1;32m     49\u001b[0m                 \u001b[0;32mif\u001b[0m \u001b[0mout\u001b[0m\u001b[0;34m.\u001b[0m\u001b[0mnumel\u001b[0m\u001b[0;34m(\u001b[0m\u001b[0;34m)\u001b[0m \u001b[0;34m!=\u001b[0m \u001b[0;36m1\u001b[0m\u001b[0;34m:\u001b[0m\u001b[0;34m\u001b[0m\u001b[0;34m\u001b[0m\u001b[0m\n\u001b[0;32m---> 50\u001b[0;31m                     \u001b[0;32mraise\u001b[0m \u001b[0mRuntimeError\u001b[0m\u001b[0;34m(\u001b[0m\u001b[0;34m\"grad can be implicitly created only for scalar outputs\"\u001b[0m\u001b[0;34m)\u001b[0m\u001b[0;34m\u001b[0m\u001b[0;34m\u001b[0m\u001b[0m\n\u001b[0m\u001b[1;32m     51\u001b[0m                 \u001b[0mnew_grads\u001b[0m\u001b[0;34m.\u001b[0m\u001b[0mappend\u001b[0m\u001b[0;34m(\u001b[0m\u001b[0mtorch\u001b[0m\u001b[0;34m.\u001b[0m\u001b[0mones_like\u001b[0m\u001b[0;34m(\u001b[0m\u001b[0mout\u001b[0m\u001b[0;34m,\u001b[0m \u001b[0mmemory_format\u001b[0m\u001b[0;34m=\u001b[0m\u001b[0mtorch\u001b[0m\u001b[0;34m.\u001b[0m\u001b[0mpreserve_format\u001b[0m\u001b[0;34m)\u001b[0m\u001b[0;34m)\u001b[0m\u001b[0;34m\u001b[0m\u001b[0;34m\u001b[0m\u001b[0m\n\u001b[1;32m     52\u001b[0m             \u001b[0;32melse\u001b[0m\u001b[0;34m:\u001b[0m\u001b[0;34m\u001b[0m\u001b[0;34m\u001b[0m\u001b[0m\n",
      "\u001b[0;31mRuntimeError\u001b[0m: grad can be implicitly created only for scalar outputs"
     ]
    }
   ],
   "source": [
    "# INCORRECT WAY TO COMPUTE THE GRADIENT FOR A TENSOR-VALUED FUNCTION\n",
    "# This block returns an error as y is not a scalar\n",
    "x=torch.ones(10,10,requires_grad = True)\n",
    "y=3*x\n",
    "\n",
    "y.backward()"
   ]
  },
  {
   "cell_type": "code",
   "execution_count": 20,
   "metadata": {
    "ExecuteTime": {
     "end_time": "2019-10-31T09:57:11.356004Z",
     "start_time": "2019-10-31T09:57:11.349552Z"
    },
    "colab": {
     "base_uri": "https://localhost:8080/"
    },
    "id": "Kw2ahBDaYVmZ",
    "outputId": "5608ba79-f43c-4867-b5cc-3f58d7518a06"
   },
   "outputs": [
    {
     "name": "stdout",
     "output_type": "stream",
     "text": [
      "tensor([[3., 3., 3., 3., 3., 3., 3., 3., 3., 3.],\n",
      "        [3., 3., 3., 3., 3., 3., 3., 3., 3., 3.],\n",
      "        [3., 3., 3., 3., 3., 3., 3., 3., 3., 3.],\n",
      "        [3., 3., 3., 3., 3., 3., 3., 3., 3., 3.],\n",
      "        [3., 3., 3., 3., 3., 3., 3., 3., 3., 3.],\n",
      "        [3., 3., 3., 3., 3., 3., 3., 3., 3., 3.],\n",
      "        [3., 3., 3., 3., 3., 3., 3., 3., 3., 3.],\n",
      "        [3., 3., 3., 3., 3., 3., 3., 3., 3., 3.],\n",
      "        [3., 3., 3., 3., 3., 3., 3., 3., 3., 3.],\n",
      "        [3., 3., 3., 3., 3., 3., 3., 3., 3., 3.]])\n"
     ]
    }
   ],
   "source": [
    "# Correct way to obtain gradients for a tensor-valued function \n",
    "# (Note: In this case, the gradient is sometimes called the Jacobian or the tensor derivative)\n",
    "x=torch.ones(10,10,requires_grad = True)\n",
    "y=3*x\n",
    "\n",
    "y.backward(torch.ones(x.shape)) # Putting values other than ones here would scale the gradient\n",
    "print(x.grad)"
   ]
  },
  {
   "cell_type": "markdown",
   "metadata": {
    "id": "Kn4wRmV8YVma"
   },
   "source": [
    "To obtain two or more gradients, we use the same process."
   ]
  },
  {
   "cell_type": "code",
   "execution_count": 21,
   "metadata": {
    "ExecuteTime": {
     "end_time": "2019-10-31T09:57:12.054170Z",
     "start_time": "2019-10-31T09:57:12.048288Z"
    },
    "colab": {
     "base_uri": "https://localhost:8080/"
    },
    "id": "xY3OYm-SYVma",
    "outputId": "51cc94ee-0c44-4a71-c0d1-5960b9b035a3"
   },
   "outputs": [
    {
     "name": "stdout",
     "output_type": "stream",
     "text": [
      "tensor([10.])\n",
      "tensor([40.])\n"
     ]
    }
   ],
   "source": [
    "# An example with a function of two (scalar) tensors.\n",
    "# The call to backward() will compute the gradient w.r.t. both a and b\n",
    "a = torch.ones(1, requires_grad = True)\n",
    "b = torch.ones(1, requires_grad = True)\n",
    "y=(a+4*b)**2\n",
    "y.backward()\n",
    "print(a.grad)\n",
    "print(b.grad)\n"
   ]
  },
  {
   "cell_type": "markdown",
   "metadata": {
    "id": "321ZoLvCYVmb"
   },
   "source": [
    "Remark: A *tracked tensor*, i.e. a tensor for which *requires_grad*=*True*, cannot be directly converted to a NumPy array. One first needs to detach the tracking of the variable."
   ]
  },
  {
   "cell_type": "code",
   "execution_count": 22,
   "metadata": {
    "ExecuteTime": {
     "end_time": "2019-10-31T09:57:12.566592Z",
     "start_time": "2019-10-31T09:57:12.559483Z"
    },
    "colab": {
     "base_uri": "https://localhost:8080/",
     "height": 193
    },
    "id": "wbVi-ZgjYVmc",
    "outputId": "14bd3b5f-4893-4a19-ee72-41ffd5d07be0"
   },
   "outputs": [
    {
     "ename": "RuntimeError",
     "evalue": "ignored",
     "output_type": "error",
     "traceback": [
      "\u001b[0;31m---------------------------------------------------------------------------\u001b[0m",
      "\u001b[0;31mRuntimeError\u001b[0m                              Traceback (most recent call last)",
      "\u001b[0;32m<ipython-input-22-7269d6822c39>\u001b[0m in \u001b[0;36m<module>\u001b[0;34m()\u001b[0m\n\u001b[1;32m      1\u001b[0m \u001b[0;31m# This code generates an error\u001b[0m\u001b[0;34m\u001b[0m\u001b[0;34m\u001b[0m\u001b[0;34m\u001b[0m\u001b[0m\n\u001b[0;32m----> 2\u001b[0;31m \u001b[0ma\u001b[0m\u001b[0;34m.\u001b[0m\u001b[0mnumpy\u001b[0m\u001b[0;34m(\u001b[0m\u001b[0;34m)\u001b[0m\u001b[0;34m\u001b[0m\u001b[0;34m\u001b[0m\u001b[0m\n\u001b[0m",
      "\u001b[0;31mRuntimeError\u001b[0m: Can't call numpy() on Tensor that requires grad. Use tensor.detach().numpy() instead."
     ]
    }
   ],
   "source": [
    "# This code generates an error\n",
    "a.numpy()"
   ]
  },
  {
   "cell_type": "code",
   "execution_count": 23,
   "metadata": {
    "ExecuteTime": {
     "end_time": "2019-10-31T09:57:12.797661Z",
     "start_time": "2019-10-31T09:57:12.793088Z"
    },
    "colab": {
     "base_uri": "https://localhost:8080/"
    },
    "id": "JBAss3teYVmc",
    "outputId": "17327d0f-be85-460c-dadf-ec29e5c3a2ea"
   },
   "outputs": [
    {
     "name": "stdout",
     "output_type": "stream",
     "text": [
      "tensor([1.])\n",
      "[1.]\n"
     ]
    }
   ],
   "source": [
    "# This code is valid\n",
    "x= a.detach()\n",
    "print(x)\n",
    "x_numpy = x.numpy()\n",
    "print(x_numpy)\n"
   ]
  },
  {
   "cell_type": "markdown",
   "metadata": {
    "id": "pphw6Wl9OTon"
   },
   "source": [
    "#### <span style=\"color:rgb(234,81,96)\">Example</span>\n",
    "\n",
    "Using PyTorch tensors and Autograd, we plot the function $f(x)=(1+x^2e^{-x})^{1/3}$ and its derivative on [-1,1].\n",
    "\n",
    "---\n",
    "\n"
   ]
  },
  {
   "cell_type": "code",
   "execution_count": 24,
   "metadata": {
    "colab": {
     "base_uri": "https://localhost:8080/",
     "height": 706
    },
    "id": "rl0-GCCDOylY",
    "outputId": "bb698d8f-c1d9-4abf-85e2-f434edb0b619"
   },
   "outputs": [
    {
     "name": "stdout",
     "output_type": "stream",
     "text": [
      "tensor([-1.1326e+00, -1.1127e+00, -1.0926e+00, -1.0722e+00, -1.0515e+00,\n",
      "        -1.0305e+00, -1.0092e+00, -9.8760e-01, -9.6566e-01, -9.4340e-01,\n",
      "        -9.2080e-01, -8.9787e-01, -8.7459e-01, -8.5098e-01, -8.2703e-01,\n",
      "        -8.0276e-01, -7.7817e-01, -7.5328e-01, -7.2809e-01, -7.0264e-01,\n",
      "        -6.7693e-01, -6.5101e-01, -6.2490e-01, -5.9863e-01, -5.7224e-01,\n",
      "        -5.4577e-01, -5.1927e-01, -4.9278e-01, -4.6635e-01, -4.4004e-01,\n",
      "        -4.1390e-01, -3.8798e-01, -3.6233e-01, -3.3702e-01, -3.1210e-01,\n",
      "        -2.8762e-01, -2.6363e-01, -2.4018e-01, -2.1732e-01, -1.9509e-01,\n",
      "        -1.7353e-01, -1.5267e-01, -1.3255e-01, -1.1318e-01, -9.4591e-02,\n",
      "        -7.6797e-02, -5.9810e-02, -4.3637e-02, -2.8279e-02, -1.3735e-02,\n",
      "         5.9212e-16,  1.2935e-02,  2.5083e-02,  3.6458e-02,  4.7078e-02,\n",
      "         5.6963e-02,  6.6135e-02,  7.4615e-02,  8.2429e-02,  8.9602e-02,\n",
      "         9.6160e-02,  1.0213e-01,  1.0753e-01,  1.1240e-01,  1.1676e-01,\n",
      "         1.2063e-01,  1.2405e-01,  1.2703e-01,  1.2960e-01,  1.3179e-01,\n",
      "         1.3361e-01,  1.3509e-01,  1.3625e-01,  1.3711e-01,  1.3769e-01,\n",
      "         1.3801e-01,  1.3809e-01,  1.3793e-01,  1.3757e-01,  1.3701e-01,\n",
      "         1.3626e-01,  1.3535e-01,  1.3429e-01,  1.3308e-01,  1.3174e-01,\n",
      "         1.3027e-01,  1.2870e-01,  1.2703e-01,  1.2526e-01,  1.2341e-01,\n",
      "         1.2149e-01,  1.1950e-01,  1.1744e-01,  1.1533e-01,  1.1318e-01,\n",
      "         1.1098e-01,  1.0874e-01,  1.0647e-01,  1.0417e-01,  1.0185e-01],\n",
      "       dtype=torch.float64)\n"
     ]
    },
    {
     "data": {
      "image/png": "[encoded data removed]",
      "text/plain": [
       "<Figure size 504x360 with 1 Axes>"
      ]
     },
     "metadata": {
      "needs_background": "light",
      "tags": []
     },
     "output_type": "display_data"
    }
   ],
   "source": [
    "# Creating a NumPy array with values in [-1,1]\n",
    "v=np.arange(-1,1,0.02) # Other possibility: use np.linspace(-1,1,100)\n",
    "\n",
    "# Creating the corresponding PyTorch tensor\n",
    "x=torch.tensor(v,requires_grad = True)\n",
    "# Forming the tensor containing the values f(x_i) for every coefficient x_i of x \n",
    "# NB: We could differentiate any of these variables with respect to x.\n",
    "y=x**2\n",
    "z=torch.exp(-x)\n",
    "w=1+y*z\n",
    "f = w**(1/3)\n",
    "\n",
    "# Calling backward on f (Important: f is a tensor, not a scalar)\n",
    "f.backward(torch.ones(x.shape))\n",
    "print(x.grad)\n",
    "\n",
    "# Plotting the values in f and x.grad\n",
    "# In order to plot them like NumPy arrays, we need to use the detach() function (see Section 1.1).\n",
    "plt.figure(figsize=(7, 5))\n",
    "plt.plot(v,f.detach().numpy(),'g',label='f(x)')\n",
    "plt.plot(v,x.grad.detach().numpy(),'b',label=\"f'(x)\")\n",
    "plt.legend()\n",
    "plt.show()"
   ]
  },
  {
   "cell_type": "markdown",
   "metadata": {
    "ExecuteTime": {
     "end_time": "2019-10-23T15:30:56.719577Z",
     "start_time": "2019-10-23T15:30:56.717193Z"
    },
    "id": "teIX6QgAYVmd"
   },
   "source": [
    "## <span style=\"color:rgb(234,81,96)\"> 1.4 Application: Linear regression using Autograd</span>\n",
    "\n",
    "We now consider the same data generator as in the first lab session."
   ]
  },
  {
   "cell_type": "code",
   "execution_count": 25,
   "metadata": {
    "ExecuteTime": {
     "end_time": "2019-10-31T09:57:13.748244Z",
     "start_time": "2019-10-31T09:57:13.723849Z"
    },
    "id": "eC5YLhPwYVmd"
   },
   "outputs": [],
   "source": [
    "# Data generation.\n",
    "# This code is inspired by a generator proposed by A. Gramfort.\n",
    "    \n",
    "def simu_linreg(w, n, std=1., corr=0.5):\n",
    "    \"\"\"\n",
    "    Simulation of the least-squares problem\n",
    "    \n",
    "    Parameters\n",
    "    ----------\n",
    "    w : np.ndarray, shape=(d,)\n",
    "        The coefficients of the model\n",
    "    \n",
    "    n : int\n",
    "        Sample size\n",
    "    \n",
    "    std : float, default=1.\n",
    "        Standard-deviation of the noise\n",
    "\n",
    "    corr : float, default=0.5\n",
    "        Correlation of the feature matrix\n",
    "    \"\"\"    \n",
    "    d = w.shape[0]\n",
    "    cov = toeplitz(corr ** np.arange(0, d))\n",
    "    X = multivariate_normal(np.zeros(d), cov, size=n)\n",
    "    noise = std * randn(n)\n",
    "    y = X.dot(w) + noise\n",
    "    return X, y"
   ]
  },
  {
   "cell_type": "code",
   "execution_count": 26,
   "metadata": {
    "ExecuteTime": {
     "end_time": "2019-10-31T09:57:14.482542Z",
     "start_time": "2019-10-31T09:57:14.460787Z"
    },
    "id": "cCoLD_MFYVme"
   },
   "outputs": [],
   "source": [
    "d = 50\n",
    "n = 1000\n",
    "idx = np.arange(d)\n",
    "\n",
    "# Ground truth coefficients of the model\n",
    "w_model_truth = (-1)**idx * np.exp(-idx / 10.)\n",
    "\n",
    "# Data X and y are generated accordingly\n",
    "X, y = simu_linreg(w_model_truth, n, std=1., corr=0.1)\n",
    "X=torch.as_tensor(X,dtype = torch.float)\n",
    "y=torch.as_tensor(y,dtype = torch.float).view(-1,1)"
   ]
  },
  {
   "cell_type": "markdown",
   "metadata": {
    "id": "hvMKi9BSR-2E"
   },
   "source": [
    "The gradient descent code below uses Autograd to compute the gradient, with a stepsize of $0.1$."
   ]
  },
  {
   "cell_type": "code",
   "execution_count": 32,
   "metadata": {
    "ExecuteTime": {
     "end_time": "2019-10-31T09:57:20.295875Z",
     "start_time": "2019-10-31T09:57:20.002293Z"
    },
    "colab": {
     "base_uri": "https://localhost:8080/",
     "height": 725
    },
    "id": "JkgjhRsUYVmf",
    "outputId": "e7e2f0b8-4bb8-4c6f-a7eb-907680878055"
   },
   "outputs": [
    {
     "name": "stdout",
     "output_type": "stream",
     "text": [
      "Iteration 0/100 : Loss :5.8679656982421875\n",
      "Iteration 10/100 : Loss :1.131339192390442\n",
      "Iteration 20/100 : Loss :0.9910747408866882\n",
      "Iteration 30/100 : Loss :0.9849121570587158\n",
      "Iteration 40/100 : Loss :0.9845978021621704\n",
      "Iteration 50/100 : Loss :0.9845802187919617\n",
      "Iteration 60/100 : Loss :0.9845790863037109\n",
      "Iteration 70/100 : Loss :0.9845791459083557\n",
      "Iteration 80/100 : Loss :0.9845790863037109\n",
      "Iteration 90/100 : Loss :0.9845790863037109\n"
     ]
    },
    {
     "data": {
      "image/png": "[encoded data removed]",
      "text/plain": [
       "<Figure size 432x288 with 1 Axes>"
      ]
     },
     "metadata": {
      "needs_background": "light",
      "tags": []
     },
     "output_type": "display_data"
    },
    {
     "data": {
      "image/png": "[encoded data removed]",
      "text/plain": [
       "<Figure size 432x288 with 1 Axes>"
      ]
     },
     "metadata": {
      "needs_background": "light",
      "tags": []
     },
     "output_type": "display_data"
    }
   ],
   "source": [
    "# Start from zero\n",
    "w = torch.zeros((d,1),requires_grad = True)\n",
    "nb_iters = 100\n",
    "\n",
    "grad_norms = []\n",
    "losses = []\n",
    "# Main gradient descent loop\n",
    "for i in range(nb_iters):\n",
    "    \n",
    "    # Evaluate the loss function ||X*w-y||^2\n",
    "    y_pred = torch.mm(X,w)\n",
    "    loss = (y-y_pred)**2\n",
    "    loss = loss.mean()\n",
    "    # Compute the gradient via backward\n",
    "    loss.backward()\n",
    "\n",
    "    # Compute a gradient descent step - Here we choose the stepsize to be constant equal to 0.1\n",
    "    # Two differences with gradient descent as we implemented it in Lab01:\n",
    "    # a) We cannot write the classical iteration (w=w-0.1*w.grad or w-=0.1*w.grad) because it will update \n",
    "    # w and consider it as a function of w! This cannot be done in PyTorch and yields the following error:\n",
    "    #       RuntimeError: a leaf Variable that requires grad has been used in an in-place operation\n",
    "    # We need to use the no_grad() function from the torch package to \n",
    "    # indicate that we do not want this update to matter in the gradient calculation.\n",
    "    #\n",
    "    # b) Every gradient value that is calculated is added to the value in w.grad : After the function has been updated,\n",
    "    # we thus need to reset the gradient of w so that the gradients do not add up.\n",
    "\n",
    "    with torch.no_grad():\n",
    "        w -= 0.1*w.grad\n",
    "    grad_norms.append(torch.norm(w.grad).detach())\n",
    "    losses.append(loss)\n",
    "    w.grad.zero_()   \n",
    "    \n",
    "    \n",
    "    if i% 10 == 0:\n",
    "        print(\"Iteration {}/{} : Loss :{}\".format(i,nb_iters,loss))\n",
    "\n",
    "        \n",
    "        \n",
    "# Plot the gradient norm and the loss (objective) function        \n",
    "plt.figure()\n",
    "plt.semilogy(grad_norms)\n",
    "plt.ylabel(\"Gradient norm (log scale)\")\n",
    "plt.xlabel(\"# iterations\")\n",
    "plt.show()\n",
    "\n",
    "\n",
    "plt.figure()\n",
    "plt.semilogy(losses)\n",
    "plt.ylabel(\"Loss (log scale)\")\n",
    "plt.xlabel(\"# iterations\")\n",
    "plt.show()"
   ]
  },
  {
   "cell_type": "markdown",
   "metadata": {
    "ExecuteTime": {
     "end_time": "2019-10-23T15:35:48.682195Z",
     "start_time": "2019-10-23T15:35:48.678367Z"
    },
    "id": "-E_-W8YKYVmg"
   },
   "source": [
    "# <span style=\"color:rgb(234,81,96)\"> Part 2 - PyTorch *nn* and *optim* packages </span>\n",
    "\n",
    "In the last example, we only used PyTorch to compute the gradient. It is actually possible to implement both the linear regression problem and the gradient descent algorithm using instances of the PyTorch classes nn.Module and torch.optim, respectively."
   ]
  },
  {
   "cell_type": "markdown",
   "metadata": {
    "id": "rQ0oDedsR-2E"
   },
   "source": [
    "## <span style=\"color:rgb(234,81,96)\"> 2.1 An illustration: Gradient descent for linear regression</span>"
   ]
  },
  {
   "cell_type": "code",
   "execution_count": 33,
   "metadata": {
    "ExecuteTime": {
     "end_time": "2019-10-31T09:57:22.736463Z",
     "start_time": "2019-10-31T09:57:22.731926Z"
    },
    "id": "xqBAHEzGYVmg"
   },
   "outputs": [],
   "source": [
    "# Define a class for linear models (predictors)\n",
    "class LinearPredictor(nn.Module):\n",
    "    def __init__(self,d,k):\n",
    "        super(LinearPredictor,self).__init__()\n",
    "        self.linear = nn.Linear(d,k,bias=False)\n",
    "    \n",
    "    # Forward operator: Computes the prediction of a linear model (x^T*w)\n",
    "    def forward(self,x):\n",
    "        x = x.view(x.shape[0],-1)\n",
    "        y = self.linear(x)\n",
    "        return y\n",
    "    "
   ]
  },
  {
   "cell_type": "code",
   "execution_count": 30,
   "metadata": {
    "ExecuteTime": {
     "end_time": "2019-10-31T09:57:23.575078Z",
     "start_time": "2019-10-31T09:57:23.571527Z"
    },
    "id": "WWFIGt1uYVmh"
   },
   "outputs": [],
   "source": [
    "# Form the optimization problem: Optimize the parameters of a linear regression \n",
    "# model with mean-squared error (i.e. quadratic) loss as the objective, using a ``stochastic gradient descent''\n",
    "# algorithm (can correspond to gradient descent or stochastic gradient)\n",
    "linreg = LinearPredictor(d,1)\n",
    "criterion = nn.MSELoss(reduction = 'mean')\n",
    "optimizer = torch.optim.SGD(linreg.parameters(),lr=0.1)"
   ]
  },
  {
   "cell_type": "markdown",
   "metadata": {
    "id": "5FE0lQxyR-2E"
   },
   "source": [
    "Below is an example of a gradient descent implementation for this problem."
   ]
  },
  {
   "cell_type": "code",
   "execution_count": 31,
   "metadata": {
    "ExecuteTime": {
     "end_time": "2019-10-31T10:00:02.533388Z",
     "start_time": "2019-10-31T10:00:02.267503Z"
    },
    "colab": {
     "base_uri": "https://localhost:8080/",
     "height": 725
    },
    "id": "8WvKdTe3YVmh",
    "outputId": "4cd11611-d12e-4173-988b-04777a5220c1"
   },
   "outputs": [
    {
     "name": "stdout",
     "output_type": "stream",
     "text": [
      "Iteration 0/100 : Loss : 5.8679656982421875\n",
      "Iteration 10/100 : Loss : 1.131339192390442\n",
      "Iteration 20/100 : Loss : 0.9910747408866882\n",
      "Iteration 30/100 : Loss : 0.9849121570587158\n",
      "Iteration 40/100 : Loss : 0.9845978021621704\n",
      "Iteration 50/100 : Loss : 0.9845803380012512\n",
      "Iteration 60/100 : Loss : 0.9845790863037109\n",
      "Iteration 70/100 : Loss : 0.9845791459083557\n",
      "Iteration 80/100 : Loss : 0.9845790266990662\n",
      "Iteration 90/100 : Loss : 0.9845790863037109\n"
     ]
    },
    {
     "data": {
      "image/png": "[encoded data removed]",
      "text/plain": [
       "<Figure size 432x288 with 1 Axes>"
      ]
     },
     "metadata": {
      "needs_background": "light",
      "tags": []
     },
     "output_type": "display_data"
    },
    {
     "data": {
      "image/png": "[encoded data removed]",
      "text/plain": [
       "<Figure size 432x288 with 1 Axes>"
      ]
     },
     "metadata": {
      "needs_background": "light",
      "tags": []
     },
     "output_type": "display_data"
    }
   ],
   "source": [
    "# Gradient descent for linear regression using torch packages\n",
    "for p in linreg.parameters():\n",
    "    p.data = torch.zeros(p.data.shape)\n",
    "    \n",
    "nb_iters = 100\n",
    "\n",
    "grad_norms = []\n",
    "losses = []\n",
    "for i in range(nb_iters):\n",
    "\n",
    "    #  Compute the loss function\n",
    "    y_pred = linreg(X) # NB: X are defined as in Section 1.4 above\n",
    "    loss = criterion(y_pred,y)\n",
    "    loss = loss.mean()\n",
    "    # Calculate the gradient \n",
    "    loss.backward()\n",
    "    # Do one step of gradient descent with the full gradient\n",
    "    optimizer.step()\n",
    "    \n",
    "    grad_norms.append(torch.norm(list(linreg.parameters())[0].grad.data).detach())\n",
    "    losses.append(loss.item())\n",
    "    \n",
    "    optimizer.zero_grad()\n",
    "    \n",
    "\n",
    "    if i% 10 == 0:\n",
    "        print(\"Iteration {}/{} : Loss : {}\".format(i,nb_iters,loss))\n",
    "\n",
    "# Plot gradient norm and loss function\n",
    "plt.figure()\n",
    "plt.semilogy(grad_norms)\n",
    "plt.ylabel(\"Gradient norm (log)\")\n",
    "plt.xlabel(\"# iterations\")\n",
    "plt.show()\n",
    "\n",
    "\n",
    "plt.figure()\n",
    "plt.semilogy(losses)\n",
    "plt.ylabel(\"Loss (log scale)\")\n",
    "plt.xlabel(\"# iterations\")\n",
    "plt.show()"
   ]
  },
  {
   "cell_type": "markdown",
   "metadata": {
    "id": "5JEizh8SR-2E"
   },
   "source": [
    "##  <span style=\"color:rgb(234,81,96)\">2.2 Stochastic gradient for linear regression in PyTorch</span>"
   ]
  },
  {
   "cell_type": "code",
   "execution_count": 34,
   "metadata": {
    "id": "f_C73QduYVmi"
   },
   "outputs": [],
   "source": [
    "# Select problem instance and optimizer\n",
    "linreg = LinearPredictor(d,1)\n",
    "criterion = nn.MSELoss(reduction = 'mean')\n",
    "optimizer = torch.optim.SGD(linreg.parameters(),lr=0.1)\n"
   ]
  },
  {
   "cell_type": "markdown",
   "metadata": {
    "id": "IOiu3zVtYVmi"
   },
   "source": [
    "The code below runs SGD as a batch stochastic gradient (of batch size $b$, see below)."
   ]
  },
  {
   "cell_type": "code",
   "execution_count": null,
   "metadata": {
    "ExecuteTime": {
     "end_time": "2019-10-31T10:19:33.485703Z",
     "start_time": "2019-10-31T10:19:14.505986Z"
    },
    "colab": {
     "base_uri": "https://localhost:8080/",
     "height": 1000
    },
    "id": "u_Ec9hwBYVmj",
    "outputId": "9f254195-4cf2-4540-ca47-b76bfd2e84bc",
    "scrolled": true
   },
   "outputs": [
    {
     "name": "stdout",
     "output_type": "stream",
     "text": [
      "Iteration 0/100000 : Loss : 24.08277130126953\n",
      "Iteration 1000/100000 : Loss : 1.0312297344207764\n",
      "Iteration 2000/100000 : Loss : 0.9867491722106934\n",
      "Iteration 3000/100000 : Loss : 0.9196421504020691\n",
      "Iteration 4000/100000 : Loss : 0.9265223741531372\n",
      "Iteration 5000/100000 : Loss : 0.930971086025238\n",
      "Iteration 6000/100000 : Loss : 0.911715030670166\n",
      "Iteration 7000/100000 : Loss : 0.9218866229057312\n",
      "Iteration 8000/100000 : Loss : 0.8935813903808594\n",
      "Iteration 9000/100000 : Loss : 0.9083192348480225\n",
      "Iteration 10000/100000 : Loss : 0.9130901098251343\n",
      "Iteration 11000/100000 : Loss : 0.8849766254425049\n",
      "Iteration 12000/100000 : Loss : 0.8980252146720886\n",
      "Iteration 13000/100000 : Loss : 0.8771864175796509\n",
      "Iteration 14000/100000 : Loss : 0.8931546807289124\n",
      "Iteration 15000/100000 : Loss : 0.8758766651153564\n",
      "Iteration 16000/100000 : Loss : 0.880808413028717\n",
      "Iteration 17000/100000 : Loss : 0.8928748369216919\n",
      "Iteration 18000/100000 : Loss : 0.8847684264183044\n",
      "Iteration 19000/100000 : Loss : 0.8793045878410339\n",
      "Iteration 20000/100000 : Loss : 0.8800162672996521\n",
      "Iteration 21000/100000 : Loss : 0.8777148723602295\n",
      "Iteration 22000/100000 : Loss : 0.8809045553207397\n",
      "Iteration 23000/100000 : Loss : 0.8832830786705017\n",
      "Iteration 24000/100000 : Loss : 0.875182032585144\n",
      "Iteration 25000/100000 : Loss : 0.8764188885688782\n",
      "Iteration 26000/100000 : Loss : 0.8820608854293823\n",
      "Iteration 27000/100000 : Loss : 0.876484215259552\n",
      "Iteration 28000/100000 : Loss : 0.8824689984321594\n",
      "Iteration 29000/100000 : Loss : 0.8811661005020142\n",
      "Iteration 30000/100000 : Loss : 0.8849015235900879\n",
      "Iteration 31000/100000 : Loss : 0.8730676770210266\n",
      "Iteration 32000/100000 : Loss : 0.8779624700546265\n",
      "Iteration 33000/100000 : Loss : 0.8728830218315125\n",
      "Iteration 34000/100000 : Loss : 0.8687049150466919\n",
      "Iteration 35000/100000 : Loss : 0.8695451021194458\n",
      "Iteration 36000/100000 : Loss : 0.8719754219055176\n",
      "Iteration 37000/100000 : Loss : 0.8695902824401855\n",
      "Iteration 38000/100000 : Loss : 0.8694049715995789\n",
      "Iteration 39000/100000 : Loss : 0.8710442781448364\n",
      "Iteration 40000/100000 : Loss : 0.8767337799072266\n",
      "Iteration 41000/100000 : Loss : 0.8752654790878296\n",
      "Iteration 42000/100000 : Loss : 0.8679239749908447\n",
      "Iteration 43000/100000 : Loss : 0.8732287287712097\n",
      "Iteration 44000/100000 : Loss : 0.8708475828170776\n",
      "Iteration 45000/100000 : Loss : 0.8710736036300659\n",
      "Iteration 46000/100000 : Loss : 0.8686141967773438\n",
      "Iteration 47000/100000 : Loss : 0.8681163191795349\n",
      "Iteration 48000/100000 : Loss : 0.8715313673019409\n",
      "Iteration 49000/100000 : Loss : 0.871407151222229\n",
      "Iteration 50000/100000 : Loss : 0.8758994340896606\n",
      "Iteration 51000/100000 : Loss : 0.8740021586418152\n",
      "Iteration 52000/100000 : Loss : 0.8653388023376465\n",
      "Iteration 53000/100000 : Loss : 0.8625046610832214\n",
      "Iteration 54000/100000 : Loss : 0.8681849241256714\n",
      "Iteration 55000/100000 : Loss : 0.8639231324195862\n",
      "Iteration 56000/100000 : Loss : 0.8711844086647034\n",
      "Iteration 57000/100000 : Loss : 0.8695784211158752\n",
      "Iteration 58000/100000 : Loss : 0.862193763256073\n",
      "Iteration 59000/100000 : Loss : 0.863895833492279\n",
      "Iteration 60000/100000 : Loss : 0.8621007204055786\n",
      "Iteration 61000/100000 : Loss : 0.8663460612297058\n",
      "Iteration 62000/100000 : Loss : 0.8673645257949829\n",
      "Iteration 63000/100000 : Loss : 0.8685827851295471\n",
      "Iteration 64000/100000 : Loss : 0.8695368766784668\n",
      "Iteration 65000/100000 : Loss : 0.8652266263961792\n",
      "Iteration 66000/100000 : Loss : 0.870841920375824\n",
      "Iteration 67000/100000 : Loss : 0.8630103468894958\n",
      "Iteration 68000/100000 : Loss : 0.8632215261459351\n",
      "Iteration 69000/100000 : Loss : 0.8650047183036804\n",
      "Iteration 70000/100000 : Loss : 0.870530903339386\n",
      "Iteration 71000/100000 : Loss : 0.8648214936256409\n",
      "Iteration 72000/100000 : Loss : 0.8711252212524414\n",
      "Iteration 73000/100000 : Loss : 0.8672669529914856\n",
      "Iteration 74000/100000 : Loss : 0.8645327687263489\n",
      "Iteration 75000/100000 : Loss : 0.8690126538276672\n",
      "Iteration 76000/100000 : Loss : 0.8636440634727478\n",
      "Iteration 77000/100000 : Loss : 0.8683233261108398\n",
      "Iteration 78000/100000 : Loss : 0.8731576800346375\n",
      "Iteration 79000/100000 : Loss : 0.8664407730102539\n",
      "Iteration 80000/100000 : Loss : 0.868712306022644\n",
      "Iteration 81000/100000 : Loss : 0.8677918910980225\n",
      "Iteration 82000/100000 : Loss : 0.864898145198822\n",
      "Iteration 83000/100000 : Loss : 0.8658090829849243\n",
      "Iteration 84000/100000 : Loss : 0.8658223748207092\n",
      "Iteration 85000/100000 : Loss : 0.8716839551925659\n",
      "Iteration 86000/100000 : Loss : 0.863460123538971\n",
      "Iteration 87000/100000 : Loss : 0.8618302345275879\n",
      "Iteration 88000/100000 : Loss : 0.8661536574363708\n",
      "Iteration 89000/100000 : Loss : 0.8635165691375732\n",
      "Iteration 90000/100000 : Loss : 0.8695071935653687\n",
      "Iteration 91000/100000 : Loss : 0.8694506883621216\n",
      "Iteration 92000/100000 : Loss : 0.8654969334602356\n",
      "Iteration 93000/100000 : Loss : 0.8639683723449707\n",
      "Iteration 94000/100000 : Loss : 0.8600733876228333\n",
      "Iteration 95000/100000 : Loss : 0.8666462302207947\n",
      "Iteration 96000/100000 : Loss : 0.8610425591468811\n",
      "Iteration 97000/100000 : Loss : 0.865175724029541\n",
      "Iteration 98000/100000 : Loss : 0.8619844913482666\n",
      "Iteration 99000/100000 : Loss : 0.859480619430542\n"
     ]
    }
   ],
   "source": [
    "# Code for stochastic gradient using the optim.SGD class with a batch stochastic gradient\n",
    "for p in linreg.parameters():\n",
    "    p.data = torch.zeros(p.data.shape)\n",
    "    \n",
    "nb_iters = n*100\n",
    "b = 1 # batch size\n",
    "\n",
    "grad_norms = []\n",
    "losses = []\n",
    "for i in range(nb_iters):\n",
    "    \n",
    "    optimizer.zero_grad()\n",
    "    choice_batch = np.random.choice(np.arange(n),size = b)\n",
    "    X_b = X[choice_batch]\n",
    "    y_b = y[choice_batch]\n",
    "    y_pred = linreg(X_b)\n",
    "    loss = criterion(y_pred,y_b)\n",
    "    loss.backward()\n",
    "    optimizer.step()\n",
    "\n",
    "    # Plot appropriate quantities after every epoch\n",
    "    if  (i*b) % n == 0:\n",
    "        optimizer.zero_grad()\n",
    "        y_pred = linreg(X)\n",
    "        loss = criterion(y_pred,y)\n",
    "        loss = loss.mean()\n",
    "        loss.backward()\n",
    "        grad_norms.append(torch.norm(list(linreg.parameters())[0].grad.data).detach())\n",
    "        losses.append(loss.item())\n",
    "        print(\"Iteration {}/{} : Loss : {}\".format(i,nb_iters,loss))\n",
    "\n",
    "\n",
    "\n",
    "    # Update learning rate/stepsize: here we chose a decreasing stepsize\n",
    "    for param_group in optimizer.param_groups:\n",
    "        param_group['lr'] = 0.1/np.sqrt(i+1)\n",
    "     "
   ]
  },
  {
   "cell_type": "code",
   "execution_count": 35,
   "metadata": {
    "ExecuteTime": {
     "end_time": "2019-10-31T10:19:42.754224Z",
     "start_time": "2019-10-31T10:19:42.500901Z"
    },
    "colab": {
     "base_uri": "https://localhost:8080/",
     "height": 541
    },
    "id": "MR3eol3XYVmk",
    "outputId": "3dbfee2e-b9cf-4a7d-dfc6-1cdc58e03f44",
    "scrolled": true
   },
   "outputs": [
    {
     "data": {
      "image/png": "[encoded data removed]",
      "text/plain": [
       "<Figure size 432x288 with 1 Axes>"
      ]
     },
     "metadata": {
      "needs_background": "light",
      "tags": []
     },
     "output_type": "display_data"
    },
    {
     "data": {
      "image/png": "[encoded data removed]",
      "text/plain": [
       "<Figure size 432x288 with 1 Axes>"
      ]
     },
     "metadata": {
      "needs_background": "light",
      "tags": []
     },
     "output_type": "display_data"
    }
   ],
   "source": [
    "# Plot the results\n",
    "plt.figure()\n",
    "plt.semilogy(grad_norms)\n",
    "plt.ylabel(\"Gradient norm (log)\")\n",
    "plt.xlabel(\"# iterations\")\n",
    "plt.show()\n",
    "\n",
    "\n",
    "plt.figure()\n",
    "plt.semilogy(losses)\n",
    "plt.ylabel(\"Loss (log)\")\n",
    "plt.xlabel(\"# iterations\")\n",
    "plt.show()"
   ]
  },
  {
   "cell_type": "markdown",
   "metadata": {
    "id": "-SZDqCxyYVmk"
   },
   "source": [
    "## <span style=\"color:rgb(234,81,96)\"> 2.3 Classification using PyTorch</span>"
   ]
  },
  {
   "cell_type": "code",
   "execution_count": 36,
   "metadata": {
    "ExecuteTime": {
     "end_time": "2019-10-31T10:22:24.024459Z",
     "start_time": "2019-10-31T10:22:23.987390Z"
    },
    "colab": {
     "base_uri": "https://localhost:8080/",
     "height": 404,
     "referenced_widgets": [
      "a7c3eb759b104116b97d5049ac7a26a8",
      "eb3f181b7e3d4d1dad440f02fe358f30",
      "0e96bf2763624c22a05a9804af118616",
      "db36edfe535840d1a5f6d6ea3f3d71d1",
      "1cf3bf52a01646cf8a4cee94a4042c24",
      "04b83f1666a64e02af2d7b76883db0ad",
      "e2bc7ea270a543fc86085c72a42e58df",
      "542ade372b2841e292a9ea4f8b0bda4f",
      "2889eb02682141e1a6aaa9489f030900",
      "d0a347869f284835886d2758c1daf4de",
      "d76502fd94974c43a14e2595ee57937d",
      "9f8295a42846455298c6eeb9c6b1447c",
      "b9d4e866abb54ae09bc2978cf52affa6",
      "25daec40451c44538e1e5dda09c4c352",
      "fcd5959bf1a246a5a3aef748b896e797",
      "1f7ca0df0861479b904868245b6ed43c",
      "d7fac056c76e4ae7bceef35b18a8c984",
      "dd0ba424e8864d2da4f9bbbbb28a5509",
      "af9791ff555148baac7ee0e8ecbddd9e",
      "d6073eb318514d5994ef212c7b9abfdc",
      "d9953a472c15484a9aeaccb888d93094",
      "13ac9b9c9a4f4490b6d2e4dad83d8b8a",
      "a100fa38e05e400a888567d6e84a0a49",
      "feaa4d188b044f369859a8d12145acd8",
      "4b768a0d73c64507965d837b1ab121ef",
      "61111773208c490b970a9ee450ca9cbf",
      "aac558f593f54b3cbc3049ca8e9b0cfb",
      "6c14b56b59e742dc87c6982b36b90d49",
      "d4b1a751884745c5a8700f24dd4e3f28",
      "3879eb52fa9b40f38b3ee521745f2ed9",
      "2386b319a92447328674d9067b28c56f",
      "ca07291da28d41b5b47ecb55f50ffa63"
     ]
    },
    "id": "pJIQW76xYVml",
    "outputId": "1907b19e-d1c4-4833-9ba9-b097bb090cad"
   },
   "outputs": [
    {
     "name": "stdout",
     "output_type": "stream",
     "text": [
      "Downloading http://yann.lecun.com/exdb/mnist/train-images-idx3-ubyte.gz to datasets/MNIST/raw/train-images-idx3-ubyte.gz\n"
     ]
    },
    {
     "data": {
      "application/vnd.jupyter.widget-view+json": {
       "model_id": "a7c3eb759b104116b97d5049ac7a26a8",
       "version_major": 2,
       "version_minor": 0
      },
      "text/plain": [
       "HBox(children=(FloatProgress(value=1.0, bar_style='info', max=1.0), HTML(value='')))"
      ]
     },
     "metadata": {
      "tags": []
     },
     "output_type": "display_data"
    },
    {
     "name": "stdout",
     "output_type": "stream",
     "text": [
      "Extracting datasets/MNIST/raw/train-images-idx3-ubyte.gz to datasets/MNIST/raw\n",
      "Downloading http://yann.lecun.com/exdb/mnist/train-labels-idx1-ubyte.gz to datasets/MNIST/raw/train-labels-idx1-ubyte.gz\n",
      "\n"
     ]
    },
    {
     "data": {
      "application/vnd.jupyter.widget-view+json": {
       "model_id": "2889eb02682141e1a6aaa9489f030900",
       "version_major": 2,
       "version_minor": 0
      },
      "text/plain": [
       "HBox(children=(FloatProgress(value=1.0, bar_style='info', max=1.0), HTML(value='')))"
      ]
     },
     "metadata": {
      "tags": []
     },
     "output_type": "display_data"
    },
    {
     "name": "stdout",
     "output_type": "stream",
     "text": [
      "Extracting datasets/MNIST/raw/train-labels-idx1-ubyte.gz to datasets/MNIST/raw\n",
      "Downloading http://yann.lecun.com/exdb/mnist/t10k-images-idx3-ubyte.gz to datasets/MNIST/raw/t10k-images-idx3-ubyte.gz\n"
     ]
    },
    {
     "data": {
      "application/vnd.jupyter.widget-view+json": {
       "model_id": "d7fac056c76e4ae7bceef35b18a8c984",
       "version_major": 2,
       "version_minor": 0
      },
      "text/plain": [
       "HBox(children=(FloatProgress(value=1.0, bar_style='info', max=1.0), HTML(value='')))"
      ]
     },
     "metadata": {
      "tags": []
     },
     "output_type": "display_data"
    },
    {
     "name": "stdout",
     "output_type": "stream",
     "text": [
      "Extracting datasets/MNIST/raw/t10k-images-idx3-ubyte.gz to datasets/MNIST/raw\n",
      "Downloading http://yann.lecun.com/exdb/mnist/t10k-labels-idx1-ubyte.gz to datasets/MNIST/raw/t10k-labels-idx1-ubyte.gz\n"
     ]
    },
    {
     "data": {
      "application/vnd.jupyter.widget-view+json": {
       "model_id": "4b768a0d73c64507965d837b1ab121ef",
       "version_major": 2,
       "version_minor": 0
      },
      "text/plain": [
       "HBox(children=(FloatProgress(value=1.0, bar_style='info', max=1.0), HTML(value='')))"
      ]
     },
     "metadata": {
      "tags": []
     },
     "output_type": "display_data"
    },
    {
     "name": "stdout",
     "output_type": "stream",
     "text": [
      "Extracting datasets/MNIST/raw/t10k-labels-idx1-ubyte.gz to datasets/MNIST/raw\n",
      "Processing...\n",
      "Done!\n"
     ]
    },
    {
     "name": "stderr",
     "output_type": "stream",
     "text": [
      "/usr/local/lib/python3.6/dist-packages/torchvision/datasets/mnist.py:480: UserWarning: The given NumPy array is not writeable, and PyTorch does not support non-writeable tensors. This means you can write to the underlying (supposedly non-writeable) NumPy array using the tensor. You may want to copy the array to protect its data or make it writeable before converting it to a tensor. This type of warning will be suppressed for the rest of this program. (Triggered internally at  /pytorch/torch/csrc/utils/tensor_numpy.cpp:141.)\n",
      "  return torch.from_numpy(parsed.astype(m[2], copy=False)).view(*s)\n"
     ]
    }
   ],
   "source": [
    "# We use data from MNIST, a dataset of handwritten digits\n",
    "bs = 64\n",
    "\n",
    "# Load MNIST data\n",
    "train_data = torchvision.datasets.MNIST(\"datasets/\", \n",
    "                                       train=True,\n",
    "                                        transform=torchvision.transforms.Compose([\n",
    "                                                   torchvision.transforms.ToTensor(),\n",
    "                                                   torchvision.transforms.Normalize(\n",
    "                                                     (0.1307,), (0.3081,))\n",
    "                                                 ]), \n",
    "                                        target_transform=None, download=True)\n",
    "\n",
    "\n",
    "\n",
    "# Load MNIST data\n",
    "test_data = torchvision.datasets.MNIST(\"datasets/\", \n",
    "                                        train=False,\n",
    "                                        transform=torchvision.transforms.Compose([\n",
    "                                                   torchvision.transforms.ToTensor(),\n",
    "                                                   torchvision.transforms.Normalize(\n",
    "                                                     (0.1307,), (0.3081,))\n",
    "                                                 ]), \n",
    "                                        target_transform=None, download=True)\n",
    "\n",
    "\n",
    "\n",
    "\n",
    "n_data_train = len(train_data.data)\n",
    "n_data_test = len(test_data.data)"
   ]
  },
  {
   "cell_type": "markdown",
   "metadata": {
    "id": "mWpZoATTR-2F"
   },
   "source": [
    "We now train several optimizers from the torch.optim package on the MNIST dataset. \n",
    "*A look at the [PyTorch SGD documentation](https://pytorch.org/docs/stable/optim.html#torch.optim) can be helpful to understand the rest of the code.*"
   ]
  },
  {
   "cell_type": "code",
   "execution_count": 38,
   "metadata": {
    "id": "QVKNimDu8mk_"
   },
   "outputs": [],
   "source": [
    "## Training with several optimizers on MNIST\n",
    "def train(model,bs,n_epochs,optimizer,gpu_mode=True):\n",
    "    if gpu_mode:\n",
    "        model = model.cuda()\n",
    "\n",
    "    train_loader = torch.utils.data.DataLoader(train_data,\n",
    "                                          batch_size=bs,\n",
    "                                          shuffle=True)\n",
    "    test_loader = torch.utils.data.DataLoader(test_data,\n",
    "                                            batch_size=bs,\n",
    "                                            shuffle=True)\n",
    "    \n",
    "    \n",
    "    # We use the cross-entropy loss, particularly useful in classification problems\n",
    "    criterion = nn.CrossEntropyLoss(reduction = 'mean')\n",
    "\n",
    "    # We have the choice between three possible optimizers (and we'll compare them in section 2.6). \n",
    "    # Check the PyTorch documentation for more information on Adam and RMSprop.\n",
    "    if optimizer == \"SGD\":\n",
    "        optimizer = torch.optim.SGD(model.parameters(),lr=0.001)\n",
    "    elif optimizer == \"Adam\":\n",
    "        optimizer = torch.optim.Adam(model.parameters(), lr=0.001)\n",
    "    elif optimizer == \"RMSprop\":\n",
    "        optimizer = torch.optim.RMSprop(model.parameters(),lr=0.001)\n",
    "\n",
    "    losses_train = []\n",
    "    losses_test = []\n",
    "    acc_train = []\n",
    "    acc_test=[]\n",
    "    for n in range(n_epochs):\n",
    "        beg_epoch = time.time()\n",
    "\n",
    "        i = 0\n",
    "        for x, y in train_loader:\n",
    "            # Use CUDA tensors if GPU(s) available\n",
    "            if gpu_mode:\n",
    "                x,y = x.cuda(), y.cuda()\n",
    "\n",
    "            y_pred = model(x)\n",
    "            loss = criterion(y_pred,y)\n",
    "            loss.backward()\n",
    "            optimizer.step()\n",
    "            optimizer.zero_grad()\n",
    "            i += 1 \n",
    "\n",
    "\n",
    "            with torch.no_grad():\n",
    "                y_pred =  torch.argmax(y_pred,dim=1)\n",
    "                acc = (y_pred == y).sum().item()\n",
    "\n",
    "                acc_train.append(acc/len(y))\n",
    "                losses_train.append(loss.item())\n",
    "                if i % 50 == 0 :\n",
    "                    print(\"Epoch [{}/{}], [{}/{}], batch loss = {}, epoch time = {}\".format(n+1,n_epochs,i*bs,n_data_train,loss.item(),time.time()-beg_epoch))    \n",
    "        with torch.no_grad():\n",
    "            # ADD the code for evalution of the loss and accuracy on the test set here\n",
    "            loss = 0\n",
    "            acc = 0\n",
    "            for x, y in test_loader:\n",
    "                if gpu_mode:\n",
    "                    x,y = x.cuda(), y.cuda()\n",
    "                y_pred = model(x)\n",
    "\n",
    "                \n",
    "                curr_loss = criterion(y_pred,y)\n",
    "                loss += len(y)*curr_loss.item()\n",
    "\n",
    "                y_pred = torch.argmax(y_pred,dim=1)\n",
    "                acc += (y_pred == y).sum().item()\n",
    "            # END ADDED CODE\n",
    "            acc_test.append(acc/n_data_test)\n",
    "            losses_test.append(loss/n_data_test)\n",
    "\n",
    "        print(\"Epoch [{}/{}], test accuracy = {}, testloss = {}, total epoch time = {}\".format(n+1,n_epochs,acc/n_data_test,loss/n_data_test,time.time()-beg_epoch))\n",
    "\n",
    "    return losses_train, losses_test, acc_train, acc_test"
   ]
  },
  {
   "cell_type": "code",
   "execution_count": 39,
   "metadata": {
    "ExecuteTime": {
     "end_time": "2019-10-31T10:22:24.378678Z",
     "start_time": "2019-10-31T10:22:24.374441Z"
    },
    "colab": {
     "base_uri": "https://localhost:8080/"
    },
    "id": "67wFq7pRYVml",
    "outputId": "137a404e-57dd-4034-a8dd-44033cccfa59"
   },
   "outputs": [
    {
     "name": "stdout",
     "output_type": "stream",
     "text": [
      "Epoch [1/10], [25000/60000], batch loss = 1.9212188720703125, epoch time = 4.388010025024414\n",
      "Epoch [1/10], [50000/60000], batch loss = 1.5613982677459717, epoch time = 8.599504947662354\n",
      "Epoch [1/10], test accuracy = 0.6331, testloss = 1.4607947051525116, total epoch time = 11.88004183769226\n",
      "Epoch [2/10], [25000/60000], batch loss = 1.3027596473693848, epoch time = 4.215657711029053\n",
      "Epoch [2/10], [50000/60000], batch loss = 1.1458674669265747, epoch time = 8.247860670089722\n",
      "Epoch [2/10], test accuracy = 0.7633, testloss = 1.0801032960414887, total epoch time = 11.438286304473877\n",
      "Epoch [3/10], [25000/60000], batch loss = 1.0172698497772217, epoch time = 4.215636253356934\n",
      "Epoch [3/10], [50000/60000], batch loss = 0.9874776601791382, epoch time = 8.238672733306885\n",
      "Epoch [3/10], test accuracy = 0.8125, testloss = 0.8899235755205155, total epoch time = 11.481548547744751\n",
      "Epoch [4/10], [25000/60000], batch loss = 0.8769786357879639, epoch time = 4.26997709274292\n",
      "Epoch [4/10], [50000/60000], batch loss = 0.8620462417602539, epoch time = 8.590851068496704\n",
      "Epoch [4/10], test accuracy = 0.8328, testloss = 0.7781385838985443, total epoch time = 11.975915670394897\n",
      "Epoch [5/10], [25000/60000], batch loss = 0.751714825630188, epoch time = 4.175781011581421\n",
      "Epoch [5/10], [50000/60000], batch loss = 0.7008154392242432, epoch time = 8.461501598358154\n",
      "Epoch [5/10], test accuracy = 0.8455, testloss = 0.7045333176851273, total epoch time = 11.7288076877594\n",
      "Epoch [6/10], [25000/60000], batch loss = 0.7320765852928162, epoch time = 4.09537410736084\n",
      "Epoch [6/10], [50000/60000], batch loss = 0.6683956384658813, epoch time = 8.08767032623291\n",
      "Epoch [6/10], test accuracy = 0.8539, testloss = 0.6521776258945465, total epoch time = 11.3577561378479\n",
      "Epoch [7/10], [25000/60000], batch loss = 0.656393826007843, epoch time = 4.081268072128296\n",
      "Epoch [7/10], [50000/60000], batch loss = 0.6436412930488586, epoch time = 8.276479244232178\n",
      "Epoch [7/10], test accuracy = 0.8602, testloss = 0.6128805369138718, total epoch time = 11.302100419998169\n",
      "Epoch [8/10], [25000/60000], batch loss = 0.5927597284317017, epoch time = 4.093558311462402\n",
      "Epoch [8/10], [50000/60000], batch loss = 0.6181939840316772, epoch time = 7.930333137512207\n",
      "Epoch [8/10], test accuracy = 0.865, testloss = 0.5822799682617188, total epoch time = 10.943208456039429\n",
      "Epoch [9/10], [25000/60000], batch loss = 0.6235612630844116, epoch time = 3.8845434188842773\n",
      "Epoch [9/10], [50000/60000], batch loss = 0.5590635538101196, epoch time = 7.88148307800293\n",
      "Epoch [9/10], test accuracy = 0.8685, testloss = 0.5575147658586502, total epoch time = 10.968523979187012\n",
      "Epoch [10/10], [25000/60000], batch loss = 0.5415492653846741, epoch time = 3.745734214782715\n",
      "Epoch [10/10], [50000/60000], batch loss = 0.5136989951133728, epoch time = 7.868779182434082\n",
      "Epoch [10/10], test accuracy = 0.8721, testloss = 0.5370865523815155, total epoch time = 11.244418382644653\n"
     ]
    }
   ],
   "source": [
    "## Testing script for the code\n",
    "# The code will be slower if run with gpu_mode=False (but won't run with gpu_mode=True if no GPU(s) are available)\n",
    "model = LinearPredictor(784,10)\n",
    "opt = \"SGD\"\n",
    "#losses_train, losses_test,acc_train, acc_test = train(model,bs=500,n_epochs=10,optimizer=opt,gpu_mode=True)\n",
    "losses_train, losses_test,acc_train, acc_test = train(model,bs=500,n_epochs=10,optimizer=opt,gpu_mode=False)\n",
    "\n"
   ]
  },
  {
   "cell_type": "code",
   "execution_count": 41,
   "metadata": {
    "colab": {
     "base_uri": "https://localhost:8080/",
     "height": 541
    },
    "id": "-0t_lkfHAlKr",
    "outputId": "272d076e-90a0-4721-e3e4-a4288dcb3f8b"
   },
   "outputs": [
    {
     "data": {
      "image/png": "[encoded data removed]",
      "text/plain": [
       "<Figure size 432x288 with 1 Axes>"
      ]
     },
     "metadata": {
      "needs_background": "light",
      "tags": []
     },
     "output_type": "display_data"
    },
    {
     "data": {
      "image/png": "[encoded data removed]",
      "text/plain": [
       "<Figure size 432x288 with 1 Axes>"
      ]
     },
     "metadata": {
      "needs_background": "light",
      "tags": []
     },
     "output_type": "display_data"
    }
   ],
   "source": [
    "# Plotting the results\n",
    "\n",
    "# Loss function\n",
    "plt.figure()\n",
    "plt.semilogy(np.linspace(0,10,len(losses_train)),losses_train,label=\"train\")\n",
    "plt.semilogy(np.linspace(1,10,len(losses_test)),losses_test,label=\"test\")\n",
    "plt.xlabel(\"epoch\")\n",
    "plt.ylabel(\"loss\")\n",
    "plt.legend()\n",
    "plt.show()\n",
    "\n",
    "# Classification accuracy\n",
    "plt.figure()\n",
    "plt.plot(np.linspace(0,10,len(acc_train)),acc_train,label=\"train\")\n",
    "plt.plot(np.linspace(1,10,len(acc_test)),acc_test,label=\"test\")\n",
    "plt.xlabel(\"epoch\")\n",
    "plt.ylabel(\"accuracy\")\n",
    "plt.legend()\n",
    "plt.show()"
   ]
  },
  {
   "cell_type": "markdown",
   "metadata": {
    "id": "lfhPNW7lYVmn"
   },
   "source": [
    "# <span style=\"color:rgb(234,81,96)\">Part 3 - Additional experiments using other models</span>\n",
    "\n"
   ]
  },
  {
   "cell_type": "markdown",
   "metadata": {},
   "source": [
    "## <span style=\"color:rgb(234,81,96)\">3.1 Multilayer perceptron </span>\n",
    "\n",
    "\n",
    "We now add layers of linear predictors in order to make a better prediction."
   ]
  },
  {
   "cell_type": "code",
   "execution_count": 42,
   "metadata": {
    "ExecuteTime": {
     "end_time": "2019-10-31T10:25:10.802121Z",
     "start_time": "2019-10-31T10:25:10.796586Z"
    },
    "id": "zvw5pZffYVmn"
   },
   "outputs": [],
   "source": [
    "# Class MLP built on nn.Linear - inherits from nn.Module\n",
    "class MLP(nn.Module):\n",
    "    def __init__(self,d):\n",
    "        super(MLP,self).__init__()\n",
    "        self.linear_1 = nn.Linear(d,100,bias=True)\n",
    "        self.linear_2 = nn.Linear(100,40,bias=True)\n",
    "        self.linear_3 = nn.Linear(40,10,bias=True)\n",
    "\n",
    "\n",
    "    \n",
    "    def forward(self,x):\n",
    "        y = x.view(x.shape[0],-1)\n",
    "        y = F.relu(self.linear_1(y))\n",
    "        y = F.relu(self.linear_2(y))\n",
    "        y = self.linear_3(y)\n",
    "        return y"
   ]
  },
  {
   "cell_type": "code",
   "execution_count": 43,
   "metadata": {
    "ExecuteTime": {
     "end_time": "2019-10-31T10:25:11.167173Z",
     "start_time": "2019-10-31T10:25:11.163357Z"
    },
    "colab": {
     "base_uri": "https://localhost:8080/"
    },
    "id": "pJqveJWNYVmo",
    "outputId": "ebc3d649-1782-4988-f3cb-dcf1c6e2a47f"
   },
   "outputs": [
    {
     "name": "stdout",
     "output_type": "stream",
     "text": [
      "Epoch [1/10], [3200/60000], batch loss = 2.3030378818511963, epoch time = 0.5909590721130371\n",
      "Epoch [1/10], [6400/60000], batch loss = 2.294259548187256, epoch time = 1.1602072715759277\n",
      "Epoch [1/10], [9600/60000], batch loss = 2.2769603729248047, epoch time = 1.7203278541564941\n",
      "Epoch [1/10], [12800/60000], batch loss = 2.28139328956604, epoch time = 2.2959818840026855\n",
      "Epoch [1/10], [16000/60000], batch loss = 2.2818384170532227, epoch time = 2.8532049655914307\n",
      "Epoch [1/10], [19200/60000], batch loss = 2.2660489082336426, epoch time = 3.42647385597229\n",
      "Epoch [1/10], [22400/60000], batch loss = 2.250370740890503, epoch time = 3.995954751968384\n",
      "Epoch [1/10], [25600/60000], batch loss = 2.2393906116485596, epoch time = 4.643495559692383\n",
      "Epoch [1/10], [28800/60000], batch loss = 2.23439359664917, epoch time = 5.301188945770264\n",
      "Epoch [1/10], [32000/60000], batch loss = 2.2162539958953857, epoch time = 5.852553844451904\n",
      "Epoch [1/10], [35200/60000], batch loss = 2.1882002353668213, epoch time = 6.490591526031494\n",
      "Epoch [1/10], [38400/60000], batch loss = 2.218343734741211, epoch time = 7.055749177932739\n",
      "Epoch [1/10], [41600/60000], batch loss = 2.1902778148651123, epoch time = 7.617901802062988\n",
      "Epoch [1/10], [44800/60000], batch loss = 2.200012445449829, epoch time = 8.208192825317383\n",
      "Epoch [1/10], [48000/60000], batch loss = 2.137425422668457, epoch time = 8.875057458877563\n",
      "Epoch [1/10], [51200/60000], batch loss = 2.16412091255188, epoch time = 9.436776399612427\n",
      "Epoch [1/10], [54400/60000], batch loss = 2.1287100315093994, epoch time = 9.989129781723022\n",
      "Epoch [1/10], [57600/60000], batch loss = 2.131934404373169, epoch time = 10.565686225891113\n",
      "Epoch [1/10], test accuracy = 0.4384, testloss = 2.0929431346893312, total epoch time = 12.597088098526001\n",
      "Epoch [2/10], [3200/60000], batch loss = 2.0374109745025635, epoch time = 0.5481524467468262\n",
      "Epoch [2/10], [6400/60000], batch loss = 2.026035785675049, epoch time = 1.103717565536499\n",
      "Epoch [2/10], [9600/60000], batch loss = 2.0162835121154785, epoch time = 1.6955933570861816\n",
      "Epoch [2/10], [12800/60000], batch loss = 2.032276153564453, epoch time = 2.2549586296081543\n",
      "Epoch [2/10], [16000/60000], batch loss = 2.026761531829834, epoch time = 2.823579788208008\n",
      "Epoch [2/10], [19200/60000], batch loss = 1.9683059453964233, epoch time = 3.3690361976623535\n",
      "Epoch [2/10], [22400/60000], batch loss = 1.8827457427978516, epoch time = 3.9819087982177734\n",
      "Epoch [2/10], [25600/60000], batch loss = 1.9420807361602783, epoch time = 4.546624422073364\n",
      "Epoch [2/10], [28800/60000], batch loss = 1.9156546592712402, epoch time = 5.12755823135376\n",
      "Epoch [2/10], [32000/60000], batch loss = 1.8524882793426514, epoch time = 5.703282594680786\n",
      "Epoch [2/10], [35200/60000], batch loss = 1.870788812637329, epoch time = 6.25715970993042\n",
      "Epoch [2/10], [38400/60000], batch loss = 1.812800645828247, epoch time = 6.832062482833862\n",
      "Epoch [2/10], [41600/60000], batch loss = 1.8476674556732178, epoch time = 7.3741772174835205\n",
      "Epoch [2/10], [44800/60000], batch loss = 1.83627450466156, epoch time = 7.9812867641448975\n",
      "Epoch [2/10], [48000/60000], batch loss = 1.6917263269424438, epoch time = 8.547822952270508\n",
      "Epoch [2/10], [51200/60000], batch loss = 1.6548516750335693, epoch time = 9.231764793395996\n",
      "Epoch [2/10], [54400/60000], batch loss = 1.6324626207351685, epoch time = 9.82731819152832\n",
      "Epoch [2/10], [57600/60000], batch loss = 1.576338529586792, epoch time = 10.384504318237305\n",
      "Epoch [2/10], test accuracy = 0.6669, testloss = 1.5073109434127807, total epoch time = 12.423744440078735\n",
      "Epoch [3/10], [3200/60000], batch loss = 1.5030525922775269, epoch time = 0.561229944229126\n",
      "Epoch [3/10], [6400/60000], batch loss = 1.4480810165405273, epoch time = 1.1089122295379639\n",
      "Epoch [3/10], [9600/60000], batch loss = 1.3699378967285156, epoch time = 1.6799368858337402\n",
      "Epoch [3/10], [12800/60000], batch loss = 1.1450003385543823, epoch time = 2.2365684509277344\n",
      "Epoch [3/10], [16000/60000], batch loss = 1.3468940258026123, epoch time = 2.8013436794281006\n",
      "Epoch [3/10], [19200/60000], batch loss = 1.3285391330718994, epoch time = 3.462794065475464\n",
      "Epoch [3/10], [22400/60000], batch loss = 1.2431775331497192, epoch time = 4.077155590057373\n",
      "Epoch [3/10], [25600/60000], batch loss = 1.2123290300369263, epoch time = 4.643831491470337\n",
      "Epoch [3/10], [28800/60000], batch loss = 1.2412233352661133, epoch time = 5.190388202667236\n",
      "Epoch [3/10], [32000/60000], batch loss = 1.0924272537231445, epoch time = 5.753352165222168\n",
      "Epoch [3/10], [35200/60000], batch loss = 1.1492681503295898, epoch time = 6.343453407287598\n",
      "Epoch [3/10], [38400/60000], batch loss = 1.0305860042572021, epoch time = 6.919735431671143\n",
      "Epoch [3/10], [41600/60000], batch loss = 1.0633245706558228, epoch time = 7.56046462059021\n",
      "Epoch [3/10], [44800/60000], batch loss = 1.0471632480621338, epoch time = 8.19848918914795\n",
      "Epoch [3/10], [48000/60000], batch loss = 0.957391619682312, epoch time = 8.908106327056885\n",
      "Epoch [3/10], [51200/60000], batch loss = 1.0119658708572388, epoch time = 9.611253261566162\n",
      "Epoch [3/10], [54400/60000], batch loss = 0.9175283908843994, epoch time = 10.23914623260498\n",
      "Epoch [3/10], [57600/60000], batch loss = 0.8621084690093994, epoch time = 10.788617372512817\n",
      "Epoch [3/10], test accuracy = 0.7967, testloss = 0.8973985522270203, total epoch time = 12.953714370727539\n",
      "Epoch [4/10], [3200/60000], batch loss = 0.925392210483551, epoch time = 0.5919222831726074\n",
      "Epoch [4/10], [6400/60000], batch loss = 0.9087338447570801, epoch time = 1.1999454498291016\n",
      "Epoch [4/10], [9600/60000], batch loss = 0.9089789390563965, epoch time = 1.7577240467071533\n",
      "Epoch [4/10], [12800/60000], batch loss = 0.7718104720115662, epoch time = 2.309802770614624\n",
      "Epoch [4/10], [16000/60000], batch loss = 0.5876939296722412, epoch time = 2.8700265884399414\n",
      "Epoch [4/10], [19200/60000], batch loss = 0.7792530059814453, epoch time = 3.487010955810547\n",
      "Epoch [4/10], [22400/60000], batch loss = 0.7763674855232239, epoch time = 4.220370531082153\n",
      "Epoch [4/10], [25600/60000], batch loss = 0.792745053768158, epoch time = 4.79313063621521\n",
      "Epoch [4/10], [28800/60000], batch loss = 0.8030818104743958, epoch time = 5.3569114208221436\n",
      "Epoch [4/10], [32000/60000], batch loss = 0.801811933517456, epoch time = 5.913330554962158\n",
      "Epoch [4/10], [35200/60000], batch loss = 0.6609768867492676, epoch time = 6.459866523742676\n",
      "Epoch [4/10], [38400/60000], batch loss = 0.7494901418685913, epoch time = 7.028890609741211\n",
      "Epoch [4/10], [41600/60000], batch loss = 0.6710096597671509, epoch time = 7.720772981643677\n",
      "Epoch [4/10], [44800/60000], batch loss = 0.7102534174919128, epoch time = 8.362569093704224\n",
      "Epoch [4/10], [48000/60000], batch loss = 0.6879705786705017, epoch time = 8.909874677658081\n",
      "Epoch [4/10], [51200/60000], batch loss = 0.5589825510978699, epoch time = 9.5136137008667\n",
      "Epoch [4/10], [54400/60000], batch loss = 0.738196611404419, epoch time = 10.075797319412231\n",
      "Epoch [4/10], [57600/60000], batch loss = 0.7006936073303223, epoch time = 10.634848833084106\n",
      "Epoch [4/10], test accuracy = 0.8359, testloss = 0.6483343481063842, total epoch time = 12.631362438201904\n",
      "Epoch [5/10], [3200/60000], batch loss = 0.6696495413780212, epoch time = 0.5975821018218994\n",
      "Epoch [5/10], [6400/60000], batch loss = 0.6546356081962585, epoch time = 1.1728267669677734\n",
      "Epoch [5/10], [9600/60000], batch loss = 0.6615622043609619, epoch time = 1.734424352645874\n",
      "Epoch [5/10], [12800/60000], batch loss = 0.6456228494644165, epoch time = 2.4587557315826416\n",
      "Epoch [5/10], [16000/60000], batch loss = 0.6327377557754517, epoch time = 3.0447702407836914\n",
      "Epoch [5/10], [19200/60000], batch loss = 0.5681766867637634, epoch time = 3.5998759269714355\n",
      "Epoch [5/10], [22400/60000], batch loss = 0.5710734724998474, epoch time = 4.148839712142944\n",
      "Epoch [5/10], [25600/60000], batch loss = 0.5505381226539612, epoch time = 4.871612310409546\n",
      "Epoch [5/10], [28800/60000], batch loss = 0.602504312992096, epoch time = 5.489077568054199\n",
      "Epoch [5/10], [32000/60000], batch loss = 0.5788867473602295, epoch time = 6.058399200439453\n",
      "Epoch [5/10], [35200/60000], batch loss = 0.4883537292480469, epoch time = 6.618626117706299\n",
      "Epoch [5/10], [38400/60000], batch loss = 0.6233152151107788, epoch time = 7.174449682235718\n",
      "Epoch [5/10], [41600/60000], batch loss = 0.7546306848526001, epoch time = 7.789945840835571\n",
      "Epoch [5/10], [44800/60000], batch loss = 0.5448867678642273, epoch time = 8.337807655334473\n",
      "Epoch [5/10], [48000/60000], batch loss = 0.5255373120307922, epoch time = 8.88866114616394\n",
      "Epoch [5/10], [51200/60000], batch loss = 0.5481613874435425, epoch time = 9.427454471588135\n",
      "Epoch [5/10], [54400/60000], batch loss = 0.6174957752227783, epoch time = 9.996125221252441\n",
      "Epoch [5/10], [57600/60000], batch loss = 0.717013955116272, epoch time = 10.544430494308472\n",
      "Epoch [5/10], test accuracy = 0.8541, testloss = 0.5355769347667694, total epoch time = 12.530800104141235\n",
      "Epoch [6/10], [3200/60000], batch loss = 0.5495571494102478, epoch time = 0.5434539318084717\n",
      "Epoch [6/10], [6400/60000], batch loss = 0.5484505295753479, epoch time = 1.098271131515503\n",
      "Epoch [6/10], [9600/60000], batch loss = 0.4971604347229004, epoch time = 1.6409924030303955\n",
      "Epoch [6/10], [12800/60000], batch loss = 0.37270089983940125, epoch time = 2.2397725582122803\n",
      "Epoch [6/10], [16000/60000], batch loss = 0.5314086079597473, epoch time = 2.7725045680999756\n",
      "Epoch [6/10], [19200/60000], batch loss = 0.6046056151390076, epoch time = 3.4461286067962646\n",
      "Epoch [6/10], [22400/60000], batch loss = 0.5230538249015808, epoch time = 4.143932580947876\n",
      "Epoch [6/10], [25600/60000], batch loss = 0.5376119017601013, epoch time = 4.798131942749023\n",
      "Epoch [6/10], [28800/60000], batch loss = 0.4419013261795044, epoch time = 5.376204967498779\n",
      "Epoch [6/10], [32000/60000], batch loss = 0.7466364502906799, epoch time = 5.923684597015381\n",
      "Epoch [6/10], [35200/60000], batch loss = 0.45157718658447266, epoch time = 6.458924055099487\n",
      "Epoch [6/10], [38400/60000], batch loss = 0.5362501740455627, epoch time = 6.994489669799805\n",
      "Epoch [6/10], [41600/60000], batch loss = 0.5046247243881226, epoch time = 7.537064790725708\n",
      "Epoch [6/10], [44800/60000], batch loss = 0.4482865333557129, epoch time = 8.085689067840576\n",
      "Epoch [6/10], [48000/60000], batch loss = 0.4246998131275177, epoch time = 8.745057106018066\n",
      "Epoch [6/10], [51200/60000], batch loss = 0.4039079546928406, epoch time = 9.288719177246094\n",
      "Epoch [6/10], [54400/60000], batch loss = 0.38189592957496643, epoch time = 9.825202941894531\n",
      "Epoch [6/10], [57600/60000], batch loss = 0.5430898070335388, epoch time = 10.394054174423218\n",
      "Epoch [6/10], test accuracy = 0.8689, testloss = 0.471575186252594, total epoch time = 12.685326099395752\n",
      "Epoch [7/10], [3200/60000], batch loss = 0.45279523730278015, epoch time = 0.5909771919250488\n",
      "Epoch [7/10], [6400/60000], batch loss = 0.4145076870918274, epoch time = 1.1194956302642822\n",
      "Epoch [7/10], [9600/60000], batch loss = 0.44622600078582764, epoch time = 1.7876665592193604\n",
      "Epoch [7/10], [12800/60000], batch loss = 0.5105710625648499, epoch time = 2.4585859775543213\n",
      "Epoch [7/10], [16000/60000], batch loss = 0.42676061391830444, epoch time = 2.989436388015747\n",
      "Epoch [7/10], [19200/60000], batch loss = 0.5596756935119629, epoch time = 3.6181602478027344\n",
      "Epoch [7/10], [22400/60000], batch loss = 0.2603724002838135, epoch time = 4.287176847457886\n",
      "Epoch [7/10], [25600/60000], batch loss = 0.5903823375701904, epoch time = 4.817489385604858\n",
      "Epoch [7/10], [28800/60000], batch loss = 0.552331805229187, epoch time = 5.3489532470703125\n",
      "Epoch [7/10], [32000/60000], batch loss = 0.4124724268913269, epoch time = 6.007689714431763\n",
      "Epoch [7/10], [35200/60000], batch loss = 0.617253839969635, epoch time = 6.613616466522217\n",
      "Epoch [7/10], [38400/60000], batch loss = 0.311805784702301, epoch time = 7.299476861953735\n",
      "Epoch [7/10], [41600/60000], batch loss = 0.31839948892593384, epoch time = 7.990966081619263\n",
      "Epoch [7/10], [44800/60000], batch loss = 0.32900673151016235, epoch time = 8.651728391647339\n",
      "Epoch [7/10], [48000/60000], batch loss = 0.4844295084476471, epoch time = 9.243572473526001\n",
      "Epoch [7/10], [51200/60000], batch loss = 0.42682090401649475, epoch time = 9.778974056243896\n",
      "Epoch [7/10], [54400/60000], batch loss = 0.5232295989990234, epoch time = 10.302501440048218\n",
      "Epoch [7/10], [57600/60000], batch loss = 0.5550750494003296, epoch time = 10.951715469360352\n",
      "Epoch [7/10], test accuracy = 0.8803, testloss = 0.42797552938461303, total epoch time = 12.957210063934326\n",
      "Epoch [8/10], [3200/60000], batch loss = 0.45712921023368835, epoch time = 0.543290376663208\n",
      "Epoch [8/10], [6400/60000], batch loss = 0.6368159055709839, epoch time = 1.0790214538574219\n",
      "Epoch [8/10], [9600/60000], batch loss = 0.2797423005104065, epoch time = 1.605818271636963\n",
      "Epoch [8/10], [12800/60000], batch loss = 0.409400075674057, epoch time = 2.125380754470825\n",
      "Epoch [8/10], [16000/60000], batch loss = 0.4943646788597107, epoch time = 2.693697929382324\n",
      "Epoch [8/10], [19200/60000], batch loss = 0.5687929391860962, epoch time = 3.226231813430786\n",
      "Epoch [8/10], [22400/60000], batch loss = 0.24988408386707306, epoch time = 3.7735044956207275\n",
      "Epoch [8/10], [25600/60000], batch loss = 0.36332571506500244, epoch time = 4.30036735534668\n",
      "Epoch [8/10], [28800/60000], batch loss = 0.42728886008262634, epoch time = 4.836660385131836\n",
      "Epoch [8/10], [32000/60000], batch loss = 0.6497137546539307, epoch time = 5.387419939041138\n",
      "Epoch [8/10], [35200/60000], batch loss = 0.4328801929950714, epoch time = 5.927545547485352\n",
      "Epoch [8/10], [38400/60000], batch loss = 0.36178669333457947, epoch time = 6.454206228256226\n",
      "Epoch [8/10], [41600/60000], batch loss = 0.2727818489074707, epoch time = 6.988201141357422\n",
      "Epoch [8/10], [44800/60000], batch loss = 0.45826369524002075, epoch time = 7.523175239562988\n",
      "Epoch [8/10], [48000/60000], batch loss = 0.4110811948776245, epoch time = 8.074336528778076\n",
      "Epoch [8/10], [51200/60000], batch loss = 0.4541396498680115, epoch time = 8.619226694107056\n",
      "Epoch [8/10], [54400/60000], batch loss = 0.541107177734375, epoch time = 9.146583795547485\n",
      "Epoch [8/10], [57600/60000], batch loss = 0.5052316784858704, epoch time = 9.778006076812744\n",
      "Epoch [8/10], test accuracy = 0.8865, testloss = 0.3973783389568329, total epoch time = 11.761455297470093\n",
      "Epoch [9/10], [3200/60000], batch loss = 0.26368236541748047, epoch time = 0.5211682319641113\n",
      "Epoch [9/10], [6400/60000], batch loss = 0.48981693387031555, epoch time = 1.0816330909729004\n",
      "Epoch [9/10], [9600/60000], batch loss = 0.39304813742637634, epoch time = 1.6160805225372314\n",
      "Epoch [9/10], [12800/60000], batch loss = 0.4105357825756073, epoch time = 2.150538444519043\n",
      "Epoch [9/10], [16000/60000], batch loss = 0.3470797538757324, epoch time = 2.6764590740203857\n",
      "Epoch [9/10], [19200/60000], batch loss = 0.36631104350090027, epoch time = 3.2075324058532715\n",
      "Epoch [9/10], [22400/60000], batch loss = 0.36115631461143494, epoch time = 3.742867946624756\n",
      "Epoch [9/10], [25600/60000], batch loss = 0.503691554069519, epoch time = 4.301336288452148\n",
      "Epoch [9/10], [28800/60000], batch loss = 0.5990864038467407, epoch time = 4.825560569763184\n",
      "Epoch [9/10], [32000/60000], batch loss = 0.34168899059295654, epoch time = 5.356056451797485\n",
      "Epoch [9/10], [35200/60000], batch loss = 0.42397943139076233, epoch time = 5.888710975646973\n",
      "Epoch [9/10], [38400/60000], batch loss = 0.49868348240852356, epoch time = 6.421388149261475\n",
      "Epoch [9/10], [41600/60000], batch loss = 0.3666187524795532, epoch time = 6.972626209259033\n",
      "Epoch [9/10], [44800/60000], batch loss = 0.3956020474433899, epoch time = 7.5000903606414795\n",
      "Epoch [9/10], [48000/60000], batch loss = 0.49104198813438416, epoch time = 8.047160387039185\n",
      "Epoch [9/10], [51200/60000], batch loss = 0.3349056541919708, epoch time = 8.581376075744629\n",
      "Epoch [9/10], [54400/60000], batch loss = 0.39283865690231323, epoch time = 9.11583161354065\n",
      "Epoch [9/10], [57600/60000], batch loss = 0.31662601232528687, epoch time = 9.656294584274292\n",
      "Epoch [9/10], test accuracy = 0.893, testloss = 0.3742148406505585, total epoch time = 11.854389905929565\n",
      "Epoch [10/10], [3200/60000], batch loss = 0.39776819944381714, epoch time = 0.6677432060241699\n",
      "Epoch [10/10], [6400/60000], batch loss = 0.30559784173965454, epoch time = 1.3380100727081299\n",
      "Epoch [10/10], [9600/60000], batch loss = 0.4699476957321167, epoch time = 1.865210771560669\n",
      "Epoch [10/10], [12800/60000], batch loss = 0.2872261106967926, epoch time = 2.4162845611572266\n",
      "Epoch [10/10], [16000/60000], batch loss = 0.3301219344139099, epoch time = 2.9479904174804688\n",
      "Epoch [10/10], [19200/60000], batch loss = 0.46761584281921387, epoch time = 3.4774551391601562\n",
      "Epoch [10/10], [22400/60000], batch loss = 0.5119068026542664, epoch time = 4.018714904785156\n",
      "Epoch [10/10], [25600/60000], batch loss = 0.30401554703712463, epoch time = 4.557804584503174\n",
      "Epoch [10/10], [28800/60000], batch loss = 0.4754796326160431, epoch time = 5.139497995376587\n",
      "Epoch [10/10], [32000/60000], batch loss = 0.4767005741596222, epoch time = 5.659128427505493\n",
      "Epoch [10/10], [35200/60000], batch loss = 0.28634199500083923, epoch time = 6.256484746932983\n",
      "Epoch [10/10], [38400/60000], batch loss = 0.4531348943710327, epoch time = 6.7868969440460205\n",
      "Epoch [10/10], [41600/60000], batch loss = 0.6842343807220459, epoch time = 7.340522766113281\n",
      "Epoch [10/10], [44800/60000], batch loss = 0.34629905223846436, epoch time = 7.900034189224243\n",
      "Epoch [10/10], [48000/60000], batch loss = 0.2817828953266144, epoch time = 8.43011999130249\n",
      "Epoch [10/10], [51200/60000], batch loss = 0.4385058581829071, epoch time = 8.97020697593689\n",
      "Epoch [10/10], [54400/60000], batch loss = 0.42846882343292236, epoch time = 9.496396780014038\n",
      "Epoch [10/10], [57600/60000], batch loss = 0.32352373003959656, epoch time = 10.105385541915894\n",
      "Epoch [10/10], test accuracy = 0.8972, testloss = 0.35647008004188535, total epoch time = 12.09554147720337\n"
     ]
    }
   ],
   "source": [
    "# Running SGD. We only changed the model\n",
    "model = MLP(784)\n",
    "opt = \"SGD\"\n",
    "opt_params = {'lr' : 0.01}\n",
    "#losses_train, losses_test,acc_train, acc_test = train(model,bs=64,n_epochs=10,optimizer=opt)\n",
    "# Use this command if not running with GPUs available\n",
    "losses_train, losses_test,acc_train, acc_test = train(model,bs=64,n_epochs=10,optimizer=opt,gpu_mode=False)\n"
   ]
  },
  {
   "cell_type": "code",
   "execution_count": 45,
   "metadata": {
    "ExecuteTime": {
     "end_time": "2019-10-31T10:26:54.249385Z",
     "start_time": "2019-10-31T10:25:11.491828Z"
    },
    "colab": {
     "base_uri": "https://localhost:8080/",
     "height": 541
    },
    "id": "MqDn2D7PYVmo",
    "outputId": "6481706b-3714-4d3e-d46b-86db9e24a476"
   },
   "outputs": [
    {
     "data": {
      "image/png": "[encoded data removed]",
      "text/plain": [
       "<Figure size 432x288 with 1 Axes>"
      ]
     },
     "metadata": {
      "needs_background": "light",
      "tags": []
     },
     "output_type": "display_data"
    },
    {
     "data": {
      "image/png": "[encoded data removed]",
      "text/plain": [
       "<Figure size 432x288 with 1 Axes>"
      ]
     },
     "metadata": {
      "needs_background": "light",
      "tags": []
     },
     "output_type": "display_data"
    }
   ],
   "source": [
    "# Plotting the results\n",
    "plt.figure()\n",
    "plt.semilogy(np.linspace(0,10,len(losses_train)),losses_train)\n",
    "plt.semilogy(np.linspace(1,10,len(losses_test)),losses_test)\n",
    "plt.xlabel(\"epoch\")\n",
    "plt.ylabel(\"loss\")\n",
    "plt.show()\n",
    "\n",
    "\n",
    "plt.figure()\n",
    "plt.plot(np.linspace(0,10,len(acc_train)),acc_train)\n",
    "plt.plot(np.linspace(1,10,len(acc_test)),acc_test)\n",
    "plt.xlabel(\"epoch\")\n",
    "plt.ylabel(\"accuracy\")\n",
    "plt.show()"
   ]
  },
  {
   "cell_type": "markdown",
   "metadata": {
    "id": "3ntFL7wKYVmp"
   },
   "source": [
    "##  <span style=\"color:rgb(234,81,96)\"> 3.2 Convolutional networks</span>"
   ]
  },
  {
   "cell_type": "markdown",
   "metadata": {
    "id": "WAhDLObWYVmp"
   },
   "source": [
    "We will now use convolutional layers instead of fully connected layers."
   ]
  },
  {
   "cell_type": "code",
   "execution_count": 46,
   "metadata": {
    "ExecuteTime": {
     "end_time": "2019-10-31T10:37:13.169457Z",
     "start_time": "2019-10-31T10:37:13.162539Z"
    },
    "id": "XowUByLeYVmp"
   },
   "outputs": [],
   "source": [
    "class ConvNet(nn.Module):\n",
    "    \"\"\"ConvNet -> Max_Pool -> RELU -> ConvNet -> Max_Pool -> RELU -> FC -> RELU -> FC -> SOFTMAX\"\"\"\n",
    "    def __init__(self):\n",
    "        super(ConvNet, self).__init__()\n",
    "        self.conv1 = nn.Conv2d(1, 20, 5, 1)\n",
    "        self.conv2 = nn.Conv2d(20, 50, 5, 1)\n",
    "        self.fc1 = nn.Linear(4*4*50, 100)\n",
    "        self.fc2 = nn.Linear(100, 10)\n",
    "\n",
    "    def forward(self, x):\n",
    "        x = F.relu(self.conv1(x))\n",
    "        x = F.max_pool2d(x, 2, 2)\n",
    "        x = F.relu(self.conv2(x))\n",
    "        x = F.max_pool2d(x, 2, 2)\n",
    "        x = x.view(-1, 4*4*50)\n",
    "        x = F.relu(self.fc1(x))\n",
    "        x = self.fc2(x)\n",
    "        return x#F.log_softmax(x, dim=1)"
   ]
  },
  {
   "cell_type": "code",
   "execution_count": 47,
   "metadata": {
    "ExecuteTime": {
     "end_time": "2019-10-31T10:38:01.770543Z",
     "start_time": "2019-10-31T10:38:01.765866Z"
    },
    "colab": {
     "base_uri": "https://localhost:8080/"
    },
    "id": "RBFiUVkdYVmq",
    "outputId": "78cd9ebd-9b3d-41a7-db16-a33377106254"
   },
   "outputs": [
    {
     "name": "stdout",
     "output_type": "stream",
     "text": [
      "Epoch [1/10], [3200/60000], batch loss = 2.291274070739746, epoch time = 2.475829601287842\n",
      "Epoch [1/10], [6400/60000], batch loss = 2.2720377445220947, epoch time = 4.81854510307312\n",
      "Epoch [1/10], [9600/60000], batch loss = 2.2431106567382812, epoch time = 7.197681188583374\n",
      "Epoch [1/10], [12800/60000], batch loss = 2.253396987915039, epoch time = 9.548489332199097\n",
      "Epoch [1/10], [16000/60000], batch loss = 2.2198281288146973, epoch time = 11.950687885284424\n",
      "Epoch [1/10], [19200/60000], batch loss = 2.163238286972046, epoch time = 14.352348566055298\n",
      "Epoch [1/10], [22400/60000], batch loss = 2.1382241249084473, epoch time = 16.69381833076477\n",
      "Epoch [1/10], [25600/60000], batch loss = 2.132157802581787, epoch time = 19.027663469314575\n",
      "Epoch [1/10], [28800/60000], batch loss = 2.064349412918091, epoch time = 21.398418188095093\n",
      "Epoch [1/10], [32000/60000], batch loss = 1.9909018278121948, epoch time = 23.821786642074585\n",
      "Epoch [1/10], [35200/60000], batch loss = 2.008704423904419, epoch time = 26.273862600326538\n",
      "Epoch [1/10], [38400/60000], batch loss = 1.9891502857208252, epoch time = 28.580403566360474\n",
      "Epoch [1/10], [41600/60000], batch loss = 1.8972591161727905, epoch time = 30.884507656097412\n",
      "Epoch [1/10], [44800/60000], batch loss = 1.7736930847167969, epoch time = 33.15667104721069\n",
      "Epoch [1/10], [48000/60000], batch loss = 1.7774614095687866, epoch time = 35.46659278869629\n",
      "Epoch [1/10], [51200/60000], batch loss = 1.7152929306030273, epoch time = 37.80595803260803\n",
      "Epoch [1/10], [54400/60000], batch loss = 1.5580739974975586, epoch time = 40.095803022384644\n",
      "Epoch [1/10], [57600/60000], batch loss = 1.4224088191986084, epoch time = 42.344672441482544\n",
      "Epoch [1/10], test accuracy = 0.7237, testloss = 1.4042799684524536, total epoch time = 47.41115641593933\n",
      "Epoch [2/10], [3200/60000], batch loss = 1.3154875040054321, epoch time = 2.29634428024292\n",
      "Epoch [2/10], [6400/60000], batch loss = 1.1786302328109741, epoch time = 4.5946290493011475\n",
      "Epoch [2/10], [9600/60000], batch loss = 0.9558898210525513, epoch time = 6.944278240203857\n",
      "Epoch [2/10], [12800/60000], batch loss = 1.0089774131774902, epoch time = 9.159304857254028\n",
      "Epoch [2/10], [16000/60000], batch loss = 1.0749704837799072, epoch time = 11.373962879180908\n",
      "Epoch [2/10], [19200/60000], batch loss = 0.938460111618042, epoch time = 13.617455244064331\n",
      "Epoch [2/10], [22400/60000], batch loss = 0.8474062085151672, epoch time = 15.897376298904419\n",
      "Epoch [2/10], [25600/60000], batch loss = 0.6859604120254517, epoch time = 18.208553075790405\n",
      "Epoch [2/10], [28800/60000], batch loss = 0.7646554112434387, epoch time = 20.45576572418213\n",
      "Epoch [2/10], [32000/60000], batch loss = 0.7568585872650146, epoch time = 22.644063472747803\n",
      "Epoch [2/10], [35200/60000], batch loss = 0.5617001056671143, epoch time = 24.883261919021606\n",
      "Epoch [2/10], [38400/60000], batch loss = 0.542192280292511, epoch time = 27.16065740585327\n",
      "Epoch [2/10], [41600/60000], batch loss = 0.6629391312599182, epoch time = 29.44225764274597\n",
      "Epoch [2/10], [44800/60000], batch loss = 0.6068314909934998, epoch time = 31.724402904510498\n",
      "Epoch [2/10], [48000/60000], batch loss = 0.6306219696998596, epoch time = 33.92965745925903\n",
      "Epoch [2/10], [51200/60000], batch loss = 0.4865601658821106, epoch time = 36.12826204299927\n",
      "Epoch [2/10], [54400/60000], batch loss = 0.652288556098938, epoch time = 38.411038875579834\n",
      "Epoch [2/10], [57600/60000], batch loss = 0.5018401145935059, epoch time = 40.64075827598572\n",
      "Epoch [2/10], test accuracy = 0.871, testloss = 0.48748281803131105, total epoch time = 45.55912494659424\n",
      "Epoch [3/10], [3200/60000], batch loss = 0.43665632605552673, epoch time = 2.1930017471313477\n",
      "Epoch [3/10], [6400/60000], batch loss = 0.4035506844520569, epoch time = 4.430341958999634\n",
      "Epoch [3/10], [9600/60000], batch loss = 0.47309771180152893, epoch time = 6.668035507202148\n",
      "Epoch [3/10], [12800/60000], batch loss = 0.44924572110176086, epoch time = 8.957705020904541\n",
      "Epoch [3/10], [16000/60000], batch loss = 0.5086537003517151, epoch time = 11.284921407699585\n",
      "Epoch [3/10], [19200/60000], batch loss = 0.3721367418766022, epoch time = 13.603297710418701\n",
      "Epoch [3/10], [22400/60000], batch loss = 0.5679391622543335, epoch time = 15.90686321258545\n",
      "Epoch [3/10], [25600/60000], batch loss = 0.2857716381549835, epoch time = 18.092084884643555\n",
      "Epoch [3/10], [28800/60000], batch loss = 0.3900749981403351, epoch time = 20.282989263534546\n",
      "Epoch [3/10], [32000/60000], batch loss = 0.468465656042099, epoch time = 22.49406385421753\n",
      "Epoch [3/10], [35200/60000], batch loss = 0.41463467478752136, epoch time = 24.66303253173828\n",
      "Epoch [3/10], [38400/60000], batch loss = 0.20421630144119263, epoch time = 26.832118272781372\n",
      "Epoch [3/10], [41600/60000], batch loss = 0.47221797704696655, epoch time = 29.071293115615845\n",
      "Epoch [3/10], [44800/60000], batch loss = 0.27904269099235535, epoch time = 31.27465844154358\n",
      "Epoch [3/10], [48000/60000], batch loss = 0.3945307433605194, epoch time = 33.51250410079956\n",
      "Epoch [3/10], [51200/60000], batch loss = 0.4811389446258545, epoch time = 35.726141691207886\n",
      "Epoch [3/10], [54400/60000], batch loss = 0.31624680757522583, epoch time = 37.92721629142761\n",
      "Epoch [3/10], [57600/60000], batch loss = 0.3390336036682129, epoch time = 40.110167026519775\n",
      "Epoch [3/10], test accuracy = 0.9008, testloss = 0.34632335982322693, total epoch time = 44.95740485191345\n",
      "Epoch [4/10], [3200/60000], batch loss = 0.508195698261261, epoch time = 2.205240249633789\n",
      "Epoch [4/10], [6400/60000], batch loss = 0.36397212743759155, epoch time = 4.376260757446289\n",
      "Epoch [4/10], [9600/60000], batch loss = 0.3312777876853943, epoch time = 6.5187859535217285\n",
      "Epoch [4/10], [12800/60000], batch loss = 0.25879883766174316, epoch time = 8.68360185623169\n",
      "Epoch [4/10], [16000/60000], batch loss = 0.27767181396484375, epoch time = 10.807310581207275\n",
      "Epoch [4/10], [19200/60000], batch loss = 0.4492456912994385, epoch time = 12.965378522872925\n",
      "Epoch [4/10], [22400/60000], batch loss = 0.22596344351768494, epoch time = 15.193058013916016\n",
      "Epoch [4/10], [25600/60000], batch loss = 0.3150440752506256, epoch time = 17.40429973602295\n",
      "Epoch [4/10], [28800/60000], batch loss = 0.2589275538921356, epoch time = 19.610780954360962\n",
      "Epoch [4/10], [32000/60000], batch loss = 0.2838660478591919, epoch time = 21.753204822540283\n",
      "Epoch [4/10], [35200/60000], batch loss = 0.3340088129043579, epoch time = 24.001478672027588\n",
      "Epoch [4/10], [38400/60000], batch loss = 0.3767126500606537, epoch time = 26.176717042922974\n",
      "Epoch [4/10], [41600/60000], batch loss = 0.22857671976089478, epoch time = 28.377368927001953\n",
      "Epoch [4/10], [44800/60000], batch loss = 0.392551064491272, epoch time = 30.607173204421997\n",
      "Epoch [4/10], [48000/60000], batch loss = 0.3210258483886719, epoch time = 32.86774206161499\n",
      "Epoch [4/10], [51200/60000], batch loss = 0.2649170756340027, epoch time = 35.058428049087524\n",
      "Epoch [4/10], [54400/60000], batch loss = 0.4807363748550415, epoch time = 37.220369815826416\n",
      "Epoch [4/10], [57600/60000], batch loss = 0.28074130415916443, epoch time = 39.486823320388794\n",
      "Epoch [4/10], test accuracy = 0.9184, testloss = 0.282805566072464, total epoch time = 44.51076054573059\n",
      "Epoch [5/10], [3200/60000], batch loss = 0.42878884077072144, epoch time = 2.2078542709350586\n",
      "Epoch [5/10], [6400/60000], batch loss = 0.39529678225517273, epoch time = 4.433265924453735\n",
      "Epoch [5/10], [9600/60000], batch loss = 0.32927340269088745, epoch time = 6.650066375732422\n",
      "Epoch [5/10], [12800/60000], batch loss = 0.3403517007827759, epoch time = 8.80734395980835\n",
      "Epoch [5/10], [16000/60000], batch loss = 0.26957765221595764, epoch time = 11.014103651046753\n",
      "Epoch [5/10], [19200/60000], batch loss = 0.4128037691116333, epoch time = 13.2325279712677\n",
      "Epoch [5/10], [22400/60000], batch loss = 0.24100753664970398, epoch time = 15.38019347190857\n",
      "Epoch [5/10], [25600/60000], batch loss = 0.5031613707542419, epoch time = 17.495999336242676\n",
      "Epoch [5/10], [28800/60000], batch loss = 0.252936989068985, epoch time = 19.676666021347046\n",
      "Epoch [5/10], [32000/60000], batch loss = 0.20081676542758942, epoch time = 21.793763637542725\n",
      "Epoch [5/10], [35200/60000], batch loss = 0.3076876997947693, epoch time = 23.908917903900146\n",
      "Epoch [5/10], [38400/60000], batch loss = 0.23519042134284973, epoch time = 26.02406907081604\n",
      "Epoch [5/10], [41600/60000], batch loss = 0.2091478556394577, epoch time = 28.138569355010986\n",
      "Epoch [5/10], [44800/60000], batch loss = 0.5209541320800781, epoch time = 30.325329542160034\n",
      "Epoch [5/10], [48000/60000], batch loss = 0.3949103057384491, epoch time = 32.46870684623718\n",
      "Epoch [5/10], [51200/60000], batch loss = 0.2473077028989792, epoch time = 34.60707664489746\n",
      "Epoch [5/10], [54400/60000], batch loss = 0.295002281665802, epoch time = 36.7442307472229\n",
      "Epoch [5/10], [57600/60000], batch loss = 0.23933161795139313, epoch time = 38.9126410484314\n",
      "Epoch [5/10], test accuracy = 0.9262, testloss = 0.24705796058177948, total epoch time = 43.87168645858765\n",
      "Epoch [6/10], [3200/60000], batch loss = 0.3177339434623718, epoch time = 2.1702070236206055\n",
      "Epoch [6/10], [6400/60000], batch loss = 0.16455133259296417, epoch time = 4.354959011077881\n",
      "Epoch [6/10], [9600/60000], batch loss = 0.13975971937179565, epoch time = 6.595005512237549\n",
      "Epoch [6/10], [12800/60000], batch loss = 0.40874820947647095, epoch time = 8.795977354049683\n",
      "Epoch [6/10], [16000/60000], batch loss = 0.29764750599861145, epoch time = 11.071317672729492\n",
      "Epoch [6/10], [19200/60000], batch loss = 0.2630152106285095, epoch time = 13.266505002975464\n",
      "Epoch [6/10], [22400/60000], batch loss = 0.2544783055782318, epoch time = 15.479686498641968\n",
      "Epoch [6/10], [25600/60000], batch loss = 0.4003191292285919, epoch time = 17.60539960861206\n",
      "Epoch [6/10], [28800/60000], batch loss = 0.12722241878509521, epoch time = 19.75170612335205\n",
      "Epoch [6/10], [32000/60000], batch loss = 0.5451690554618835, epoch time = 21.912256717681885\n",
      "Epoch [6/10], [35200/60000], batch loss = 0.32784202694892883, epoch time = 24.05753183364868\n",
      "Epoch [6/10], [38400/60000], batch loss = 0.1587381362915039, epoch time = 26.335468292236328\n",
      "Epoch [6/10], [41600/60000], batch loss = 0.1864515244960785, epoch time = 28.459523677825928\n",
      "Epoch [6/10], [44800/60000], batch loss = 0.14756764471530914, epoch time = 30.637893676757812\n",
      "Epoch [6/10], [48000/60000], batch loss = 0.20489461719989777, epoch time = 32.77080488204956\n",
      "Epoch [6/10], [51200/60000], batch loss = 0.30583253502845764, epoch time = 34.97613191604614\n",
      "Epoch [6/10], [54400/60000], batch loss = 0.20033271610736847, epoch time = 37.19628095626831\n",
      "Epoch [6/10], [57600/60000], batch loss = 0.27103468775749207, epoch time = 39.42707061767578\n",
      "Epoch [6/10], test accuracy = 0.9381, testloss = 0.21541150314807891, total epoch time = 44.689509868621826\n",
      "Epoch [7/10], [3200/60000], batch loss = 0.23069258034229279, epoch time = 2.1747219562530518\n",
      "Epoch [7/10], [6400/60000], batch loss = 0.1825074404478073, epoch time = 4.2997987270355225\n",
      "Epoch [7/10], [9600/60000], batch loss = 0.2382201999425888, epoch time = 6.486741304397583\n",
      "Epoch [7/10], [12800/60000], batch loss = 0.15037982165813446, epoch time = 8.643283367156982\n",
      "Epoch [7/10], [16000/60000], batch loss = 0.1876046061515808, epoch time = 10.763872146606445\n",
      "Epoch [7/10], [19200/60000], batch loss = 0.12952812016010284, epoch time = 12.88912034034729\n",
      "Epoch [7/10], [22400/60000], batch loss = 0.3573792278766632, epoch time = 15.04023027420044\n",
      "Epoch [7/10], [25600/60000], batch loss = 0.2625771760940552, epoch time = 17.17509388923645\n",
      "Epoch [7/10], [28800/60000], batch loss = 0.21397818624973297, epoch time = 19.349421501159668\n",
      "Epoch [7/10], [32000/60000], batch loss = 0.18389198184013367, epoch time = 21.57452654838562\n",
      "Epoch [7/10], [35200/60000], batch loss = 0.36825740337371826, epoch time = 23.722333431243896\n",
      "Epoch [7/10], [38400/60000], batch loss = 0.14991579949855804, epoch time = 25.85347557067871\n",
      "Epoch [7/10], [41600/60000], batch loss = 0.5574023723602295, epoch time = 27.977066040039062\n",
      "Epoch [7/10], [44800/60000], batch loss = 0.2555825114250183, epoch time = 30.17361569404602\n",
      "Epoch [7/10], [48000/60000], batch loss = 0.29363828897476196, epoch time = 32.31075930595398\n",
      "Epoch [7/10], [51200/60000], batch loss = 0.29284197092056274, epoch time = 34.43040060997009\n",
      "Epoch [7/10], [54400/60000], batch loss = 0.1314511001110077, epoch time = 36.57939839363098\n",
      "Epoch [7/10], [57600/60000], batch loss = 0.19828858971595764, epoch time = 38.750521183013916\n",
      "Epoch [7/10], test accuracy = 0.9451, testloss = 0.1925202841758728, total epoch time = 43.79975509643555\n",
      "Epoch [8/10], [3200/60000], batch loss = 0.10495826601982117, epoch time = 2.143383741378784\n",
      "Epoch [8/10], [6400/60000], batch loss = 0.3585309088230133, epoch time = 4.315139293670654\n",
      "Epoch [8/10], [9600/60000], batch loss = 0.05600516125559807, epoch time = 6.489546060562134\n",
      "Epoch [8/10], [12800/60000], batch loss = 0.2531726658344269, epoch time = 8.646376609802246\n",
      "Epoch [8/10], [16000/60000], batch loss = 0.23129412531852722, epoch time = 10.835948467254639\n",
      "Epoch [8/10], [19200/60000], batch loss = 0.31710314750671387, epoch time = 12.9802827835083\n",
      "Epoch [8/10], [22400/60000], batch loss = 0.11167140305042267, epoch time = 15.114208936691284\n",
      "Epoch [8/10], [25600/60000], batch loss = 0.30174520611763, epoch time = 17.319628953933716\n",
      "Epoch [8/10], [28800/60000], batch loss = 0.24171756207942963, epoch time = 19.432656049728394\n",
      "Epoch [8/10], [32000/60000], batch loss = 0.16536173224449158, epoch time = 21.57261061668396\n",
      "Epoch [8/10], [35200/60000], batch loss = 0.13362880051136017, epoch time = 23.703765153884888\n",
      "Epoch [8/10], [38400/60000], batch loss = 0.18933652341365814, epoch time = 25.89971923828125\n",
      "Epoch [8/10], [41600/60000], batch loss = 0.21380284428596497, epoch time = 28.154295921325684\n",
      "Epoch [8/10], [44800/60000], batch loss = 0.19501566886901855, epoch time = 30.304118394851685\n",
      "Epoch [8/10], [48000/60000], batch loss = 0.17302200198173523, epoch time = 32.466057777404785\n",
      "Epoch [8/10], [51200/60000], batch loss = 0.2343064397573471, epoch time = 34.65513849258423\n",
      "Epoch [8/10], [54400/60000], batch loss = 0.155389204621315, epoch time = 36.86085367202759\n",
      "Epoch [8/10], [57600/60000], batch loss = 0.4511876404285431, epoch time = 39.0465624332428\n",
      "Epoch [8/10], test accuracy = 0.9493, testloss = 0.17550172815322876, total epoch time = 43.93445158004761\n",
      "Epoch [9/10], [3200/60000], batch loss = 0.1879439353942871, epoch time = 2.167698383331299\n",
      "Epoch [9/10], [6400/60000], batch loss = 0.19464653730392456, epoch time = 4.283072233200073\n",
      "Epoch [9/10], [9600/60000], batch loss = 0.09400094300508499, epoch time = 6.410434246063232\n",
      "Epoch [9/10], [12800/60000], batch loss = 0.19598951935768127, epoch time = 8.519850492477417\n",
      "Epoch [9/10], [16000/60000], batch loss = 0.0804271548986435, epoch time = 10.666931629180908\n",
      "Epoch [9/10], [19200/60000], batch loss = 0.2143200784921646, epoch time = 12.765776872634888\n",
      "Epoch [9/10], [22400/60000], batch loss = 0.39232179522514343, epoch time = 14.885712623596191\n",
      "Epoch [9/10], [25600/60000], batch loss = 0.15373411774635315, epoch time = 17.00149440765381\n",
      "Epoch [9/10], [28800/60000], batch loss = 0.3900614380836487, epoch time = 19.10870623588562\n",
      "Epoch [9/10], [32000/60000], batch loss = 0.08075486868619919, epoch time = 21.301864624023438\n",
      "Epoch [9/10], [35200/60000], batch loss = 0.05451134592294693, epoch time = 23.51241707801819\n",
      "Epoch [9/10], [38400/60000], batch loss = 0.10477527976036072, epoch time = 25.668689966201782\n",
      "Epoch [9/10], [41600/60000], batch loss = 0.3343442380428314, epoch time = 27.764713525772095\n",
      "Epoch [9/10], [44800/60000], batch loss = 0.14527584612369537, epoch time = 29.89949893951416\n",
      "Epoch [9/10], [48000/60000], batch loss = 0.1271989345550537, epoch time = 32.03982591629028\n",
      "Epoch [9/10], [51200/60000], batch loss = 0.2698432207107544, epoch time = 34.24688506126404\n",
      "Epoch [9/10], [54400/60000], batch loss = 0.14753055572509766, epoch time = 36.422242164611816\n",
      "Epoch [9/10], [57600/60000], batch loss = 0.11075295507907867, epoch time = 38.50708770751953\n",
      "Epoch [9/10], test accuracy = 0.9544, testloss = 0.15895474027395248, total epoch time = 43.26221966743469\n",
      "Epoch [10/10], [3200/60000], batch loss = 0.22189933061599731, epoch time = 2.1267549991607666\n",
      "Epoch [10/10], [6400/60000], batch loss = 0.16874590516090393, epoch time = 4.2739527225494385\n",
      "Epoch [10/10], [9600/60000], batch loss = 0.2199251502752304, epoch time = 6.3575098514556885\n",
      "Epoch [10/10], [12800/60000], batch loss = 0.02572549134492874, epoch time = 8.519447565078735\n",
      "Epoch [10/10], [16000/60000], batch loss = 0.043159741908311844, epoch time = 10.75270414352417\n",
      "Epoch [10/10], [19200/60000], batch loss = 0.1026487722992897, epoch time = 12.848828554153442\n",
      "Epoch [10/10], [22400/60000], batch loss = 0.10146637260913849, epoch time = 14.985963582992554\n",
      "Epoch [10/10], [25600/60000], batch loss = 0.1515679657459259, epoch time = 17.1969211101532\n",
      "Epoch [10/10], [28800/60000], batch loss = 0.12977749109268188, epoch time = 19.39366841316223\n",
      "Epoch [10/10], [32000/60000], batch loss = 0.11851140111684799, epoch time = 21.548847675323486\n",
      "Epoch [10/10], [35200/60000], batch loss = 0.12232179939746857, epoch time = 23.779730558395386\n",
      "Epoch [10/10], [38400/60000], batch loss = 0.08450886607170105, epoch time = 25.938428163528442\n",
      "Epoch [10/10], [41600/60000], batch loss = 0.12817642092704773, epoch time = 28.22087550163269\n",
      "Epoch [10/10], [44800/60000], batch loss = 0.07456865161657333, epoch time = 30.36726188659668\n",
      "Epoch [10/10], [48000/60000], batch loss = 0.22560472786426544, epoch time = 32.478543519973755\n",
      "Epoch [10/10], [51200/60000], batch loss = 0.05278560891747475, epoch time = 34.582720041275024\n",
      "Epoch [10/10], [54400/60000], batch loss = 0.05325352028012276, epoch time = 36.69972825050354\n",
      "Epoch [10/10], [57600/60000], batch loss = 0.22921746969223022, epoch time = 38.80054450035095\n",
      "Epoch [10/10], test accuracy = 0.9592, testloss = 0.14580830005407333, total epoch time = 43.64886021614075\n"
     ]
    }
   ],
   "source": [
    "model = ConvNet()\n",
    "opt = \"SGD\"\n",
    "# Use the function below if GPUs are available\n",
    "#losses_train, losses_test,acc_train, acc_test = train(model,bs=64,n_epochs=10,optimizer=opt)\n",
    "# Use the function below if no GPU is available\n",
    "losses_train, losses_test,acc_train, acc_test = train(model,bs=64,n_epochs=10,optimizer=opt,gpu_mode=False)"
   ]
  },
  {
   "cell_type": "code",
   "execution_count": 48,
   "metadata": {
    "ExecuteTime": {
     "end_time": "2019-10-31T10:43:52.536361Z",
     "start_time": "2019-10-31T10:38:02.293304Z"
    },
    "colab": {
     "base_uri": "https://localhost:8080/",
     "height": 541
    },
    "id": "amibj-4bYVmq",
    "outputId": "0240fdcb-1137-4940-94a3-e6afe896c3a4",
    "scrolled": true
   },
   "outputs": [
    {
     "data": {
      "image/png": "[encoded data removed]",
      "text/plain": [
       "<Figure size 432x288 with 1 Axes>"
      ]
     },
     "metadata": {
      "needs_background": "light",
      "tags": []
     },
     "output_type": "display_data"
    },
    {
     "data": {
      "image/png": "[encoded data removed]",
      "text/plain": [
       "<Figure size 432x288 with 1 Axes>"
      ]
     },
     "metadata": {
      "needs_background": "light",
      "tags": []
     },
     "output_type": "display_data"
    }
   ],
   "source": [
    "# Plotting the results\n",
    "plt.figure()\n",
    "plt.semilogy(np.linspace(0,10,len(losses_train)),losses_train)\n",
    "plt.semilogy(np.linspace(1,10,len(losses_test)),losses_test)\n",
    "plt.xlabel(\"epoch\")\n",
    "plt.ylabel(\"loss\")\n",
    "plt.show()\n",
    "\n",
    "\n",
    "plt.figure()\n",
    "plt.plot(np.linspace(0,10,len(acc_train)),acc_train)\n",
    "plt.plot(np.linspace(1,10,len(acc_test)),acc_test)\n",
    "plt.xlabel(\"epoch\")\n",
    "plt.ylabel(\"accuracy\")\n",
    "plt.show()"
   ]
  },
  {
   "cell_type": "markdown",
   "metadata": {
    "id": "8Kwy2dYoCT8G"
   },
   "source": [
    "##  <span style=\"color:rgb(234,81,96)\"> 3.3 Comparison of ```gpu_mode```</span>\n",
    "\n",
    "\n",
    "**This section requires to have a GPU available - Cannot be run on CPUs.**\n",
    "\n",
    "\n",
    "In this section your goal is to compare on one epoch the time when the models are run on gpus or cpus on one epoch of training."
   ]
  },
  {
   "cell_type": "code",
   "execution_count": 49,
   "metadata": {
    "colab": {
     "base_uri": "https://localhost:8080/"
    },
    "id": "g2NzHAflCMHk",
    "outputId": "14eb2d9e-7929-4b70-e662-006e911b326b"
   },
   "outputs": [
    {
     "name": "stdout",
     "output_type": "stream",
     "text": [
      "Epoch [1/1], [3200/60000], batch loss = 2.2969837188720703, epoch time = 0.6840066909790039\n",
      "Epoch [1/1], [6400/60000], batch loss = 2.2870593070983887, epoch time = 1.2793736457824707\n",
      "Epoch [1/1], [9600/60000], batch loss = 2.261462926864624, epoch time = 1.8419694900512695\n",
      "Epoch [1/1], [12800/60000], batch loss = 2.245049476623535, epoch time = 2.404733180999756\n",
      "Epoch [1/1], [16000/60000], batch loss = 2.2185137271881104, epoch time = 2.9558651447296143\n",
      "Epoch [1/1], [19200/60000], batch loss = 2.2175135612487793, epoch time = 3.5247721672058105\n",
      "Epoch [1/1], [22400/60000], batch loss = 2.2002086639404297, epoch time = 4.084828853607178\n",
      "Epoch [1/1], [25600/60000], batch loss = 2.147818088531494, epoch time = 4.648583650588989\n",
      "Epoch [1/1], [28800/60000], batch loss = 2.136775255203247, epoch time = 5.20771050453186\n",
      "Epoch [1/1], [32000/60000], batch loss = 2.1195061206817627, epoch time = 5.791024208068848\n",
      "Epoch [1/1], [35200/60000], batch loss = 2.067978620529175, epoch time = 6.364396333694458\n",
      "Epoch [1/1], [38400/60000], batch loss = 2.0026352405548096, epoch time = 6.916689395904541\n",
      "Epoch [1/1], [41600/60000], batch loss = 2.0092854499816895, epoch time = 7.477364778518677\n",
      "Epoch [1/1], [44800/60000], batch loss = 1.9174233675003052, epoch time = 8.058646440505981\n",
      "Epoch [1/1], [48000/60000], batch loss = 1.8738542795181274, epoch time = 8.630237579345703\n",
      "Epoch [1/1], [51200/60000], batch loss = 1.7995070219039917, epoch time = 9.21851921081543\n",
      "Epoch [1/1], [54400/60000], batch loss = 1.8137084245681763, epoch time = 9.787267923355103\n",
      "Epoch [1/1], [57600/60000], batch loss = 1.6549078226089478, epoch time = 10.492393255233765\n",
      "Epoch [1/1], test accuracy = 0.7285, testloss = 1.5781356834411622, total epoch time = 12.61625599861145\n"
     ]
    }
   ],
   "source": [
    "model = ConvNet()\n",
    "opt = \"SGD\"\n",
    "losses_train, losses_test,acc_train, acc_test = train(model,bs=64,n_epochs=1,optimizer=opt,gpu_mode =True)\n",
    "# Results below are given for a run on Google Colabs\n",
    "#Epoch [1/1], [6400/60000], batch loss = 0.25592249631881714, epoch time = 1.8242907524108887\n",
    "#Epoch [1/1], [12800/60000], batch loss = 0.16618403792381287, epoch time = 3.5998780727386475\n",
    "#Epoch [1/1], [19200/60000], batch loss = 0.03176499903202057, epoch time = 5.348331689834595\n",
    "#Epoch [1/1], [25600/60000], batch loss = 0.21775972843170166, epoch time = 7.101007699966431\n",
    "#Epoch [1/1], [32000/60000], batch loss = 0.03961403667926788, epoch time = 8.855834007263184\n",
    "#Epoch [1/1], [38400/60000], batch loss = 0.02127920836210251, epoch time = 10.629091024398804\n",
    "#Epoch [1/1], [44800/60000], batch loss = 0.052795153111219406, epoch time = 12.460267543792725\n",
    "#Epoch [1/1], [51200/60000], batch loss = 0.05879978463053703, epoch time = 14.238498449325562\n",
    "#Epoch [1/1], [57600/60000], batch loss = 0.13118669390678406, epoch time = 16.037851095199585\n",
    "#Epoch [1/1], test accuracy = 0.9812, testloss = 0.05701951904296875, total epoch time = 19.066580533981323\n"
   ]
  },
  {
   "cell_type": "code",
   "execution_count": 50,
   "metadata": {
    "colab": {
     "base_uri": "https://localhost:8080/"
    },
    "id": "e4FcKMD4Q4TK",
    "outputId": "fcaac15e-f553-43db-a52e-1bee16f57392"
   },
   "outputs": [
    {
     "name": "stdout",
     "output_type": "stream",
     "text": [
      "Epoch [1/1], [3200/60000], batch loss = 2.286106586456299, epoch time = 2.208163261413574\n",
      "Epoch [1/1], [6400/60000], batch loss = 2.2451999187469482, epoch time = 4.338131666183472\n",
      "Epoch [1/1], [9600/60000], batch loss = 2.2522823810577393, epoch time = 6.434709787368774\n",
      "Epoch [1/1], [12800/60000], batch loss = 2.201765537261963, epoch time = 8.571654558181763\n",
      "Epoch [1/1], [16000/60000], batch loss = 2.2090747356414795, epoch time = 10.767637252807617\n",
      "Epoch [1/1], [19200/60000], batch loss = 2.16682767868042, epoch time = 12.950025796890259\n",
      "Epoch [1/1], [22400/60000], batch loss = 2.1500165462493896, epoch time = 15.047606468200684\n",
      "Epoch [1/1], [25600/60000], batch loss = 2.149719476699829, epoch time = 17.135181665420532\n",
      "Epoch [1/1], [28800/60000], batch loss = 2.1202404499053955, epoch time = 19.24329900741577\n",
      "Epoch [1/1], [32000/60000], batch loss = 2.034745454788208, epoch time = 21.348342657089233\n",
      "Epoch [1/1], [35200/60000], batch loss = 1.9964056015014648, epoch time = 23.444621801376343\n",
      "Epoch [1/1], [38400/60000], batch loss = 1.9709115028381348, epoch time = 25.568560361862183\n",
      "Epoch [1/1], [41600/60000], batch loss = 1.848134160041809, epoch time = 27.716392993927002\n",
      "Epoch [1/1], [44800/60000], batch loss = 1.7803665399551392, epoch time = 29.837255239486694\n",
      "Epoch [1/1], [48000/60000], batch loss = 1.7372913360595703, epoch time = 32.064181327819824\n",
      "Epoch [1/1], [51200/60000], batch loss = 1.5464329719543457, epoch time = 34.25182390213013\n",
      "Epoch [1/1], [54400/60000], batch loss = 1.5222176313400269, epoch time = 36.4438419342041\n",
      "Epoch [1/1], [57600/60000], batch loss = 1.4231762886047363, epoch time = 38.627187728881836\n",
      "Epoch [1/1], test accuracy = 0.7411, testloss = 1.351302310180664, total epoch time = 43.541133880615234\n"
     ]
    }
   ],
   "source": [
    "model = ConvNet()\n",
    "opt = \"SGD\"\n",
    "losses_train, losses_test,acc_train, acc_test = train(model,bs=64,n_epochs=1,optimizer=opt,gpu_mode =False)"
   ]
  },
  {
   "cell_type": "markdown",
   "metadata": {
    "id": "0hOV93J2YVmr"
   },
   "source": [
    "##  <span style=\"color:rgb(234,81,96)\"> 3.4 Comparison of optimizers</span>"
   ]
  },
  {
   "cell_type": "markdown",
   "metadata": {
    "id": "dqWtItd0YVmr"
   },
   "source": [
    "FInally, we compare 3 of the main optimizers in PyTorch, namely ADAM, RMSprop and SGD, for training convolutional neural networks."
   ]
  },
  {
   "cell_type": "code",
   "execution_count": 51,
   "metadata": {
    "colab": {
     "base_uri": "https://localhost:8080/"
    },
    "id": "vdCOTpuLYVmr",
    "outputId": "66e34d9b-c325-4c4d-a917-3579d10e3844"
   },
   "outputs": [
    {
     "name": "stdout",
     "output_type": "stream",
     "text": [
      "Epoch [1/10], [3200/60000], batch loss = 2.3024282455444336, epoch time = 2.194108486175537\n",
      "Epoch [1/10], [6400/60000], batch loss = 2.2559874057769775, epoch time = 4.379814147949219\n",
      "Epoch [1/10], [9600/60000], batch loss = 2.228447198867798, epoch time = 6.551106929779053\n",
      "Epoch [1/10], [12800/60000], batch loss = 2.198899507522583, epoch time = 8.807650804519653\n",
      "Epoch [1/10], [16000/60000], batch loss = 2.171481132507324, epoch time = 10.991693496704102\n",
      "Epoch [1/10], [19200/60000], batch loss = 2.188828945159912, epoch time = 13.249772787094116\n",
      "Epoch [1/10], [22400/60000], batch loss = 2.131582021713257, epoch time = 15.40365743637085\n",
      "Epoch [1/10], [25600/60000], batch loss = 2.075411081314087, epoch time = 17.56035280227661\n",
      "Epoch [1/10], [28800/60000], batch loss = 2.036778211593628, epoch time = 19.704362392425537\n",
      "Epoch [1/10], [32000/60000], batch loss = 1.9950308799743652, epoch time = 21.938392639160156\n",
      "Epoch [1/10], [35200/60000], batch loss = 1.9351590871810913, epoch time = 24.17808485031128\n",
      "Epoch [1/10], [38400/60000], batch loss = 1.8798713684082031, epoch time = 26.32927942276001\n",
      "Epoch [1/10], [41600/60000], batch loss = 1.8100237846374512, epoch time = 28.466071605682373\n",
      "Epoch [1/10], [44800/60000], batch loss = 1.6498922109603882, epoch time = 30.670121431350708\n",
      "Epoch [1/10], [48000/60000], batch loss = 1.8101381063461304, epoch time = 32.77674055099487\n",
      "Epoch [1/10], [51200/60000], batch loss = 1.4747695922851562, epoch time = 34.98207354545593\n",
      "Epoch [1/10], [54400/60000], batch loss = 1.5240511894226074, epoch time = 37.17552185058594\n",
      "Epoch [1/10], [57600/60000], batch loss = 1.3188287019729614, epoch time = 39.410167932510376\n",
      "Epoch [1/10], test accuracy = 0.7642, testloss = 1.2718679023742676, total epoch time = 44.35982823371887\n",
      "Epoch [2/10], [3200/60000], batch loss = 1.201436996459961, epoch time = 2.142631769180298\n",
      "Epoch [2/10], [6400/60000], batch loss = 1.087509036064148, epoch time = 4.295816659927368\n",
      "Epoch [2/10], [9600/60000], batch loss = 1.1085495948791504, epoch time = 6.419744968414307\n",
      "Epoch [2/10], [12800/60000], batch loss = 0.9297113418579102, epoch time = 8.648422718048096\n",
      "Epoch [2/10], [16000/60000], batch loss = 0.8149136304855347, epoch time = 10.765848398208618\n",
      "Epoch [2/10], [19200/60000], batch loss = 0.9204419851303101, epoch time = 12.914511442184448\n",
      "Epoch [2/10], [22400/60000], batch loss = 0.7367246747016907, epoch time = 15.03451657295227\n",
      "Epoch [2/10], [25600/60000], batch loss = 0.8906586766242981, epoch time = 17.199705600738525\n",
      "Epoch [2/10], [28800/60000], batch loss = 0.7299157381057739, epoch time = 19.33468270301819\n",
      "Epoch [2/10], [32000/60000], batch loss = 0.721510112285614, epoch time = 21.53165030479431\n",
      "Epoch [2/10], [35200/60000], batch loss = 0.6600720882415771, epoch time = 23.703649282455444\n",
      "Epoch [2/10], [38400/60000], batch loss = 0.557101309299469, epoch time = 25.85599970817566\n",
      "Epoch [2/10], [41600/60000], batch loss = 0.6357161998748779, epoch time = 27.990552186965942\n",
      "Epoch [2/10], [44800/60000], batch loss = 0.83167964220047, epoch time = 30.16555428504944\n",
      "Epoch [2/10], [48000/60000], batch loss = 0.5272325873374939, epoch time = 32.44661521911621\n",
      "Epoch [2/10], [51200/60000], batch loss = 0.4997352361679077, epoch time = 34.63436675071716\n",
      "Epoch [2/10], [54400/60000], batch loss = 0.4344120919704437, epoch time = 36.84293985366821\n",
      "Epoch [2/10], [57600/60000], batch loss = 0.41803285479545593, epoch time = 39.065573930740356\n",
      "Epoch [2/10], test accuracy = 0.8706, testloss = 0.48360724658966064, total epoch time = 44.028852224349976\n",
      "Epoch [3/10], [3200/60000], batch loss = 0.44516393542289734, epoch time = 2.1658642292022705\n",
      "Epoch [3/10], [6400/60000], batch loss = 0.4350816309452057, epoch time = 4.362767219543457\n",
      "Epoch [3/10], [9600/60000], batch loss = 0.42868107557296753, epoch time = 6.506546258926392\n",
      "Epoch [3/10], [12800/60000], batch loss = 0.5638410449028015, epoch time = 8.624360799789429\n",
      "Epoch [3/10], [16000/60000], batch loss = 0.42938539385795593, epoch time = 10.733973741531372\n",
      "Epoch [3/10], [19200/60000], batch loss = 0.54019695520401, epoch time = 12.887206077575684\n",
      "Epoch [3/10], [22400/60000], batch loss = 0.5769942402839661, epoch time = 15.021278381347656\n",
      "Epoch [3/10], [25600/60000], batch loss = 0.392255961894989, epoch time = 17.18673062324524\n",
      "Epoch [3/10], [28800/60000], batch loss = 0.31869742274284363, epoch time = 19.375296115875244\n",
      "Epoch [3/10], [32000/60000], batch loss = 0.569108247756958, epoch time = 21.568945169448853\n",
      "Epoch [3/10], [35200/60000], batch loss = 0.497282475233078, epoch time = 23.711806774139404\n",
      "Epoch [3/10], [38400/60000], batch loss = 0.3951621651649475, epoch time = 25.847665548324585\n",
      "Epoch [3/10], [41600/60000], batch loss = 0.3286013603210449, epoch time = 27.96045756340027\n",
      "Epoch [3/10], [44800/60000], batch loss = 0.3830171227455139, epoch time = 30.052008628845215\n",
      "Epoch [3/10], [48000/60000], batch loss = 0.4971224069595337, epoch time = 32.23417663574219\n",
      "Epoch [3/10], [51200/60000], batch loss = 0.33022502064704895, epoch time = 34.433929204940796\n",
      "Epoch [3/10], [54400/60000], batch loss = 0.6306039094924927, epoch time = 36.663477659225464\n",
      "Epoch [3/10], [57600/60000], batch loss = 0.3520950973033905, epoch time = 38.79511284828186\n",
      "Epoch [3/10], test accuracy = 0.9009, testloss = 0.3537376719713211, total epoch time = 43.67724943161011\n",
      "Epoch [4/10], [3200/60000], batch loss = 0.3591018319129944, epoch time = 2.103970527648926\n",
      "Epoch [4/10], [6400/60000], batch loss = 0.3443903923034668, epoch time = 4.215388774871826\n",
      "Epoch [4/10], [9600/60000], batch loss = 0.42624688148498535, epoch time = 6.337841510772705\n",
      "Epoch [4/10], [12800/60000], batch loss = 0.38207462430000305, epoch time = 8.515493392944336\n",
      "Epoch [4/10], [16000/60000], batch loss = 0.4900156557559967, epoch time = 10.642781496047974\n",
      "Epoch [4/10], [19200/60000], batch loss = 0.38178229331970215, epoch time = 12.824760437011719\n",
      "Epoch [4/10], [22400/60000], batch loss = 0.17923937737941742, epoch time = 14.953102350234985\n",
      "Epoch [4/10], [25600/60000], batch loss = 0.3508392870426178, epoch time = 17.117526531219482\n",
      "Epoch [4/10], [28800/60000], batch loss = 0.34623610973358154, epoch time = 19.290270566940308\n",
      "Epoch [4/10], [32000/60000], batch loss = 0.3690146207809448, epoch time = 21.448258638381958\n",
      "Epoch [4/10], [35200/60000], batch loss = 0.23716674745082855, epoch time = 23.57312846183777\n",
      "Epoch [4/10], [38400/60000], batch loss = 0.16426315903663635, epoch time = 25.671467542648315\n",
      "Epoch [4/10], [41600/60000], batch loss = 0.30069699883461, epoch time = 27.8706955909729\n",
      "Epoch [4/10], [44800/60000], batch loss = 0.3363317847251892, epoch time = 30.05972194671631\n",
      "Epoch [4/10], [48000/60000], batch loss = 0.3104029893875122, epoch time = 32.23323202133179\n",
      "Epoch [4/10], [51200/60000], batch loss = 0.24872353672981262, epoch time = 34.50749897956848\n",
      "Epoch [4/10], [54400/60000], batch loss = 0.27926626801490784, epoch time = 36.65334415435791\n",
      "Epoch [4/10], [57600/60000], batch loss = 0.31193849444389343, epoch time = 38.8468382358551\n",
      "Epoch [4/10], test accuracy = 0.9173, testloss = 0.29303602192401884, total epoch time = 43.82111144065857\n",
      "Epoch [5/10], [3200/60000], batch loss = 0.1962278038263321, epoch time = 2.2358920574188232\n",
      "Epoch [5/10], [6400/60000], batch loss = 0.24947160482406616, epoch time = 4.478703498840332\n",
      "Epoch [5/10], [9600/60000], batch loss = 0.3223491311073303, epoch time = 6.6794586181640625\n",
      "Epoch [5/10], [12800/60000], batch loss = 0.24042221903800964, epoch time = 8.8294358253479\n",
      "Epoch [5/10], [16000/60000], batch loss = 0.21255485713481903, epoch time = 10.944915771484375\n",
      "Epoch [5/10], [19200/60000], batch loss = 0.18142598867416382, epoch time = 13.135990858078003\n",
      "Epoch [5/10], [22400/60000], batch loss = 0.3251524865627289, epoch time = 15.321759700775146\n",
      "Epoch [5/10], [25600/60000], batch loss = 0.31900665163993835, epoch time = 17.424145221710205\n",
      "Epoch [5/10], [28800/60000], batch loss = 0.15775659680366516, epoch time = 19.59217071533203\n",
      "Epoch [5/10], [32000/60000], batch loss = 0.42376622557640076, epoch time = 21.84771418571472\n",
      "Epoch [5/10], [35200/60000], batch loss = 0.27419689297676086, epoch time = 24.055306673049927\n",
      "Epoch [5/10], [38400/60000], batch loss = 0.21392087638378143, epoch time = 26.13854193687439\n",
      "Epoch [5/10], [41600/60000], batch loss = 0.15609844028949738, epoch time = 28.222798109054565\n",
      "Epoch [5/10], [44800/60000], batch loss = 0.28795596957206726, epoch time = 30.33305811882019\n",
      "Epoch [5/10], [48000/60000], batch loss = 0.37167245149612427, epoch time = 32.45331931114197\n",
      "Epoch [5/10], [51200/60000], batch loss = 0.29799070954322815, epoch time = 34.53782272338867\n",
      "Epoch [5/10], [54400/60000], batch loss = 0.19161637127399445, epoch time = 36.630021810531616\n",
      "Epoch [5/10], [57600/60000], batch loss = 0.23480403423309326, epoch time = 38.75639581680298\n",
      "Epoch [5/10], test accuracy = 0.9281, testloss = 0.2549393131971359, total epoch time = 43.627110958099365\n",
      "Epoch [6/10], [3200/60000], batch loss = 0.21543516218662262, epoch time = 2.1580429077148438\n",
      "Epoch [6/10], [6400/60000], batch loss = 0.1616434007883072, epoch time = 4.257009267807007\n",
      "Epoch [6/10], [9600/60000], batch loss = 0.2178780883550644, epoch time = 6.401172876358032\n",
      "Epoch [6/10], [12800/60000], batch loss = 0.4291152358055115, epoch time = 8.53515911102295\n",
      "Epoch [6/10], [16000/60000], batch loss = 0.14958171546459198, epoch time = 10.74436640739441\n",
      "Epoch [6/10], [19200/60000], batch loss = 0.2899622619152069, epoch time = 12.821771144866943\n",
      "Epoch [6/10], [22400/60000], batch loss = 0.16310285031795502, epoch time = 14.897776126861572\n",
      "Epoch [6/10], [25600/60000], batch loss = 0.2844809293746948, epoch time = 16.98096227645874\n",
      "Epoch [6/10], [28800/60000], batch loss = 0.26974305510520935, epoch time = 19.16113305091858\n",
      "Epoch [6/10], [32000/60000], batch loss = 0.30063432455062866, epoch time = 21.349416494369507\n",
      "Epoch [6/10], [35200/60000], batch loss = 0.19032445549964905, epoch time = 23.554940462112427\n",
      "Epoch [6/10], [38400/60000], batch loss = 0.22489112615585327, epoch time = 25.668700695037842\n",
      "Epoch [6/10], [41600/60000], batch loss = 0.25459176301956177, epoch time = 27.884199380874634\n",
      "Epoch [6/10], [44800/60000], batch loss = 0.3421580195426941, epoch time = 30.02582812309265\n",
      "Epoch [6/10], [48000/60000], batch loss = 0.38094568252563477, epoch time = 32.11995720863342\n",
      "Epoch [6/10], [51200/60000], batch loss = 0.35587963461875916, epoch time = 34.29560923576355\n",
      "Epoch [6/10], [54400/60000], batch loss = 0.1806163489818573, epoch time = 36.436463594436646\n",
      "Epoch [6/10], [57600/60000], batch loss = 0.2899688482284546, epoch time = 38.55488085746765\n",
      "Epoch [6/10], test accuracy = 0.9317, testloss = 0.23263759558200836, total epoch time = 43.265761852264404\n",
      "Epoch [7/10], [3200/60000], batch loss = 0.2529705762863159, epoch time = 2.082990884780884\n",
      "Epoch [7/10], [6400/60000], batch loss = 0.3567543625831604, epoch time = 4.207254886627197\n",
      "Epoch [7/10], [9600/60000], batch loss = 0.21812595427036285, epoch time = 6.405898332595825\n",
      "Epoch [7/10], [12800/60000], batch loss = 0.23204392194747925, epoch time = 8.606553554534912\n",
      "Epoch [7/10], [16000/60000], batch loss = 0.12181437760591507, epoch time = 10.74954080581665\n",
      "Epoch [7/10], [19200/60000], batch loss = 0.3521995544433594, epoch time = 12.91371464729309\n",
      "Epoch [7/10], [22400/60000], batch loss = 0.24812588095664978, epoch time = 15.096111059188843\n",
      "Epoch [7/10], [25600/60000], batch loss = 0.2960360050201416, epoch time = 17.239423513412476\n",
      "Epoch [7/10], [28800/60000], batch loss = 0.19590245187282562, epoch time = 19.33534860610962\n",
      "Epoch [7/10], [32000/60000], batch loss = 0.12700140476226807, epoch time = 21.468578100204468\n",
      "Epoch [7/10], [35200/60000], batch loss = 0.27611613273620605, epoch time = 23.55922508239746\n",
      "Epoch [7/10], [38400/60000], batch loss = 0.423936665058136, epoch time = 25.64834237098694\n",
      "Epoch [7/10], [41600/60000], batch loss = 0.24273356795310974, epoch time = 27.76207160949707\n",
      "Epoch [7/10], [44800/60000], batch loss = 0.2519907057285309, epoch time = 29.974752187728882\n",
      "Epoch [7/10], [48000/60000], batch loss = 0.08297573029994965, epoch time = 32.08347725868225\n",
      "Epoch [7/10], [51200/60000], batch loss = 0.23582470417022705, epoch time = 34.207937240600586\n",
      "Epoch [7/10], [54400/60000], batch loss = 0.082456573843956, epoch time = 36.35598802566528\n",
      "Epoch [7/10], [57600/60000], batch loss = 0.2824251353740692, epoch time = 38.56631588935852\n",
      "Epoch [7/10], test accuracy = 0.9404, testloss = 0.20724875544309615, total epoch time = 43.336671590805054\n",
      "Epoch [8/10], [3200/60000], batch loss = 0.21406963467597961, epoch time = 2.1293153762817383\n",
      "Epoch [8/10], [6400/60000], batch loss = 0.10465869307518005, epoch time = 4.2666335105896\n",
      "Epoch [8/10], [9600/60000], batch loss = 0.26329973340034485, epoch time = 6.377567291259766\n",
      "Epoch [8/10], [12800/60000], batch loss = 0.11474332213401794, epoch time = 8.515942811965942\n",
      "Epoch [8/10], [16000/60000], batch loss = 0.22455395758152008, epoch time = 10.589135646820068\n",
      "Epoch [8/10], [19200/60000], batch loss = 0.17175088822841644, epoch time = 12.699272871017456\n",
      "Epoch [8/10], [22400/60000], batch loss = 0.22561940550804138, epoch time = 14.797465324401855\n",
      "Epoch [8/10], [25600/60000], batch loss = 0.29300743341445923, epoch time = 16.937011241912842\n",
      "Epoch [8/10], [28800/60000], batch loss = 0.39647722244262695, epoch time = 19.07086420059204\n",
      "Epoch [8/10], [32000/60000], batch loss = 0.2545398771762848, epoch time = 21.210543394088745\n",
      "Epoch [8/10], [35200/60000], batch loss = 0.24595940113067627, epoch time = 23.459165811538696\n",
      "Epoch [8/10], [38400/60000], batch loss = 0.2633399963378906, epoch time = 25.624634742736816\n",
      "Epoch [8/10], [41600/60000], batch loss = 0.10181453824043274, epoch time = 27.736523628234863\n",
      "Epoch [8/10], [44800/60000], batch loss = 0.2225620299577713, epoch time = 29.84507727622986\n",
      "Epoch [8/10], [48000/60000], batch loss = 0.26159191131591797, epoch time = 31.908129453659058\n",
      "Epoch [8/10], [51200/60000], batch loss = 0.146713525056839, epoch time = 34.01167893409729\n",
      "Epoch [8/10], [54400/60000], batch loss = 0.2341551035642624, epoch time = 36.08931851387024\n",
      "Epoch [8/10], [57600/60000], batch loss = 0.20485202968120575, epoch time = 38.16824650764465\n",
      "Epoch [8/10], test accuracy = 0.946, testloss = 0.1891509227514267, total epoch time = 42.91904354095459\n",
      "Epoch [9/10], [3200/60000], batch loss = 0.35516801476478577, epoch time = 2.081096887588501\n",
      "Epoch [9/10], [6400/60000], batch loss = 0.23041953146457672, epoch time = 4.209264278411865\n",
      "Epoch [9/10], [9600/60000], batch loss = 0.24454063177108765, epoch time = 6.371917486190796\n",
      "Epoch [9/10], [12800/60000], batch loss = 0.15102814137935638, epoch time = 8.477150440216064\n",
      "Epoch [9/10], [16000/60000], batch loss = 0.1306838095188141, epoch time = 10.59283709526062\n",
      "Epoch [9/10], [19200/60000], batch loss = 0.24256546795368195, epoch time = 12.789747953414917\n",
      "Epoch [9/10], [22400/60000], batch loss = 0.2309289574623108, epoch time = 14.871710538864136\n",
      "Epoch [9/10], [25600/60000], batch loss = 0.1744384914636612, epoch time = 17.026328802108765\n",
      "Epoch [9/10], [28800/60000], batch loss = 0.16618549823760986, epoch time = 19.12009906768799\n",
      "Epoch [9/10], [32000/60000], batch loss = 0.14782434701919556, epoch time = 21.208337545394897\n",
      "Epoch [9/10], [35200/60000], batch loss = 0.15410330891609192, epoch time = 23.34390115737915\n",
      "Epoch [9/10], [38400/60000], batch loss = 0.16680340468883514, epoch time = 25.435467004776\n",
      "Epoch [9/10], [41600/60000], batch loss = 0.10662128776311874, epoch time = 27.52049160003662\n",
      "Epoch [9/10], [44800/60000], batch loss = 0.1464594602584839, epoch time = 29.60071301460266\n",
      "Epoch [9/10], [48000/60000], batch loss = 0.1403311938047409, epoch time = 31.687941074371338\n",
      "Epoch [9/10], [51200/60000], batch loss = 0.22275404632091522, epoch time = 33.87593078613281\n",
      "Epoch [9/10], [54400/60000], batch loss = 0.11642809957265854, epoch time = 36.08444428443909\n",
      "Epoch [9/10], [57600/60000], batch loss = 0.2547597885131836, epoch time = 38.22377824783325\n",
      "Epoch [9/10], test accuracy = 0.9504, testloss = 0.17313886320590974, total epoch time = 43.13755750656128\n",
      "Epoch [10/10], [3200/60000], batch loss = 0.1333380788564682, epoch time = 2.150073528289795\n",
      "Epoch [10/10], [6400/60000], batch loss = 0.06696073710918427, epoch time = 4.243407964706421\n",
      "Epoch [10/10], [9600/60000], batch loss = 0.07840502262115479, epoch time = 6.3413169384002686\n",
      "Epoch [10/10], [12800/60000], batch loss = 0.2340942919254303, epoch time = 8.516793489456177\n",
      "Epoch [10/10], [16000/60000], batch loss = 0.1212138831615448, epoch time = 10.656579494476318\n",
      "Epoch [10/10], [19200/60000], batch loss = 0.1282060593366623, epoch time = 12.809810638427734\n",
      "Epoch [10/10], [22400/60000], batch loss = 0.16092582046985626, epoch time = 14.910821914672852\n",
      "Epoch [10/10], [25600/60000], batch loss = 0.2229924350976944, epoch time = 17.02791953086853\n",
      "Epoch [10/10], [28800/60000], batch loss = 0.19359005987644196, epoch time = 19.12658929824829\n",
      "Epoch [10/10], [32000/60000], batch loss = 0.11906082183122635, epoch time = 21.22715425491333\n",
      "Epoch [10/10], [35200/60000], batch loss = 0.19395272433757782, epoch time = 23.36687970161438\n",
      "Epoch [10/10], [38400/60000], batch loss = 0.4539158046245575, epoch time = 25.477378845214844\n",
      "Epoch [10/10], [41600/60000], batch loss = 0.24731194972991943, epoch time = 27.57478952407837\n",
      "Epoch [10/10], [44800/60000], batch loss = 0.10328414291143417, epoch time = 29.66442060470581\n",
      "Epoch [10/10], [48000/60000], batch loss = 0.2592583894729614, epoch time = 31.788596630096436\n",
      "Epoch [10/10], [51200/60000], batch loss = 0.2381729632616043, epoch time = 33.868688344955444\n",
      "Epoch [10/10], [54400/60000], batch loss = 0.17883619666099548, epoch time = 35.93578004837036\n",
      "Epoch [10/10], [57600/60000], batch loss = 0.13553883135318756, epoch time = 38.068742513656616\n",
      "Epoch [10/10], test accuracy = 0.9552, testloss = 0.1585538304209709, total epoch time = 42.85128211975098\n",
      "Epoch [1/10], [3200/60000], batch loss = 0.3363255560398102, epoch time = 2.1739542484283447\n",
      "Epoch [1/10], [6400/60000], batch loss = 0.30376267433166504, epoch time = 4.354902029037476\n",
      "Epoch [1/10], [9600/60000], batch loss = 0.15459956228733063, epoch time = 6.49911904335022\n",
      "Epoch [1/10], [12800/60000], batch loss = 0.09893785417079926, epoch time = 8.640023946762085\n",
      "Epoch [1/10], [16000/60000], batch loss = 0.08925284445285797, epoch time = 10.854773759841919\n",
      "Epoch [1/10], [19200/60000], batch loss = 0.1976558119058609, epoch time = 12.956344842910767\n",
      "Epoch [1/10], [22400/60000], batch loss = 0.08546750992536545, epoch time = 15.09139895439148\n",
      "Epoch [1/10], [25600/60000], batch loss = 0.1273697018623352, epoch time = 17.18330192565918\n",
      "Epoch [1/10], [28800/60000], batch loss = 0.041483696550130844, epoch time = 19.415126085281372\n",
      "Epoch [1/10], [32000/60000], batch loss = 0.06420144438743591, epoch time = 21.553427696228027\n",
      "Epoch [1/10], [35200/60000], batch loss = 0.13447582721710205, epoch time = 23.642440795898438\n",
      "Epoch [1/10], [38400/60000], batch loss = 0.09357496351003647, epoch time = 25.79189944267273\n",
      "Epoch [1/10], [41600/60000], batch loss = 0.004437500610947609, epoch time = 27.941415309906006\n",
      "Epoch [1/10], [44800/60000], batch loss = 0.019808901473879814, epoch time = 30.18971824645996\n",
      "Epoch [1/10], [48000/60000], batch loss = 0.08044569939374924, epoch time = 32.38009071350098\n",
      "Epoch [1/10], [51200/60000], batch loss = 0.04935164749622345, epoch time = 34.52792000770569\n",
      "Epoch [1/10], [54400/60000], batch loss = 0.011754587292671204, epoch time = 36.76195287704468\n",
      "Epoch [1/10], [57600/60000], batch loss = 0.01156580075621605, epoch time = 38.93946051597595\n",
      "Epoch [1/10], test accuracy = 0.9845, testloss = 0.04495574139207602, total epoch time = 43.665704011917114\n",
      "Epoch [2/10], [3200/60000], batch loss = 0.031716249883174896, epoch time = 2.1766724586486816\n",
      "Epoch [2/10], [6400/60000], batch loss = 0.013784054666757584, epoch time = 4.367937088012695\n",
      "Epoch [2/10], [9600/60000], batch loss = 0.23681458830833435, epoch time = 6.640667915344238\n",
      "Epoch [2/10], [12800/60000], batch loss = 0.09613792598247528, epoch time = 8.837398529052734\n",
      "Epoch [2/10], [16000/60000], batch loss = 0.03990503400564194, epoch time = 11.014176845550537\n",
      "Epoch [2/10], [19200/60000], batch loss = 0.18182063102722168, epoch time = 13.192602396011353\n",
      "Epoch [2/10], [22400/60000], batch loss = 0.013677284121513367, epoch time = 15.384579181671143\n",
      "Epoch [2/10], [25600/60000], batch loss = 0.010087613016366959, epoch time = 17.602546215057373\n",
      "Epoch [2/10], [28800/60000], batch loss = 0.0767248347401619, epoch time = 19.7680242061615\n",
      "Epoch [2/10], [32000/60000], batch loss = 0.014042424038052559, epoch time = 21.976510286331177\n",
      "Epoch [2/10], [35200/60000], batch loss = 0.023063771426677704, epoch time = 24.116230964660645\n",
      "Epoch [2/10], [38400/60000], batch loss = 0.12532265484333038, epoch time = 26.307911157608032\n",
      "Epoch [2/10], [41600/60000], batch loss = 0.05672186613082886, epoch time = 28.421956062316895\n",
      "Epoch [2/10], [44800/60000], batch loss = 0.004289139993488789, epoch time = 30.546804189682007\n",
      "Epoch [2/10], [48000/60000], batch loss = 0.025960834696888924, epoch time = 32.72579002380371\n",
      "Epoch [2/10], [51200/60000], batch loss = 0.021448547020554543, epoch time = 34.85164833068848\n",
      "Epoch [2/10], [54400/60000], batch loss = 0.031213710084557533, epoch time = 37.00583863258362\n",
      "Epoch [2/10], [57600/60000], batch loss = 0.046311769634485245, epoch time = 39.25356936454773\n",
      "Epoch [2/10], test accuracy = 0.9843, testloss = 0.0452426215365529, total epoch time = 43.99138689041138\n",
      "Epoch [3/10], [3200/60000], batch loss = 0.09634380787611008, epoch time = 2.1043639183044434\n",
      "Epoch [3/10], [6400/60000], batch loss = 0.04211566597223282, epoch time = 4.21284294128418\n",
      "Epoch [3/10], [9600/60000], batch loss = 0.04901106283068657, epoch time = 6.3537328243255615\n",
      "Epoch [3/10], [12800/60000], batch loss = 0.00548681290820241, epoch time = 8.515255689620972\n",
      "Epoch [3/10], [16000/60000], batch loss = 0.04365113005042076, epoch time = 10.748592853546143\n",
      "Epoch [3/10], [19200/60000], batch loss = 0.04683427885174751, epoch time = 12.922023057937622\n",
      "Epoch [3/10], [22400/60000], batch loss = 0.010335014201700687, epoch time = 15.058896780014038\n",
      "Epoch [3/10], [25600/60000], batch loss = 0.040859729051589966, epoch time = 17.255775928497314\n",
      "Epoch [3/10], [28800/60000], batch loss = 0.007634651381522417, epoch time = 19.366621017456055\n",
      "Epoch [3/10], [32000/60000], batch loss = 0.011250438168644905, epoch time = 21.54874038696289\n",
      "Epoch [3/10], [35200/60000], batch loss = 0.004566386807709932, epoch time = 23.72964835166931\n",
      "Epoch [3/10], [38400/60000], batch loss = 0.022268440574407578, epoch time = 25.839527130126953\n",
      "Epoch [3/10], [41600/60000], batch loss = 0.003908177372068167, epoch time = 27.946762084960938\n",
      "Epoch [3/10], [44800/60000], batch loss = 0.003154661739245057, epoch time = 30.20923638343811\n",
      "Epoch [3/10], [48000/60000], batch loss = 0.014635629951953888, epoch time = 32.33979845046997\n",
      "Epoch [3/10], [51200/60000], batch loss = 0.0028349757194519043, epoch time = 34.442755460739136\n",
      "Epoch [3/10], [54400/60000], batch loss = 0.005925409495830536, epoch time = 36.685983657836914\n",
      "Epoch [3/10], [57600/60000], batch loss = 0.033662911504507065, epoch time = 38.81690192222595\n",
      "Epoch [3/10], test accuracy = 0.9877, testloss = 0.035391803872957824, total epoch time = 43.55826425552368\n",
      "Epoch [4/10], [3200/60000], batch loss = 0.01888194866478443, epoch time = 2.2334370613098145\n",
      "Epoch [4/10], [6400/60000], batch loss = 0.003002716228365898, epoch time = 4.387537240982056\n",
      "Epoch [4/10], [9600/60000], batch loss = 0.012410580180585384, epoch time = 6.538106918334961\n",
      "Epoch [4/10], [12800/60000], batch loss = 0.0034348457120358944, epoch time = 8.722983598709106\n",
      "Epoch [4/10], [16000/60000], batch loss = 0.029099440202116966, epoch time = 10.883631706237793\n",
      "Epoch [4/10], [19200/60000], batch loss = 0.007196931168437004, epoch time = 13.13648533821106\n",
      "Epoch [4/10], [22400/60000], batch loss = 0.004580887034535408, epoch time = 15.343969583511353\n",
      "Epoch [4/10], [25600/60000], batch loss = 0.03597823530435562, epoch time = 17.593793630599976\n",
      "Epoch [4/10], [28800/60000], batch loss = 0.0009182834182865918, epoch time = 19.848134994506836\n",
      "Epoch [4/10], [32000/60000], batch loss = 0.03361135721206665, epoch time = 22.239526987075806\n",
      "Epoch [4/10], [35200/60000], batch loss = 0.021451164036989212, epoch time = 24.537538290023804\n",
      "Epoch [4/10], [38400/60000], batch loss = 0.008970553055405617, epoch time = 26.695080041885376\n",
      "Epoch [4/10], [41600/60000], batch loss = 0.012633103877305984, epoch time = 28.82567834854126\n",
      "Epoch [4/10], [44800/60000], batch loss = 0.01989918202161789, epoch time = 31.025596857070923\n",
      "Epoch [4/10], [48000/60000], batch loss = 0.011677595786750317, epoch time = 33.19462490081787\n",
      "Epoch [4/10], [51200/60000], batch loss = 0.017512241378426552, epoch time = 35.36233615875244\n",
      "Epoch [4/10], [54400/60000], batch loss = 0.05671033263206482, epoch time = 37.52508807182312\n",
      "Epoch [4/10], [57600/60000], batch loss = 0.10656996816396713, epoch time = 39.64577770233154\n",
      "Epoch [4/10], test accuracy = 0.9907, testloss = 0.02728734525553882, total epoch time = 44.335559129714966\n",
      "Epoch [5/10], [3200/60000], batch loss = 0.0002690001856535673, epoch time = 2.1923515796661377\n",
      "Epoch [5/10], [6400/60000], batch loss = 0.0003152565623167902, epoch time = 4.322351694107056\n",
      "Epoch [5/10], [9600/60000], batch loss = 0.010950902476906776, epoch time = 6.4594151973724365\n",
      "Epoch [5/10], [12800/60000], batch loss = 0.00337603990919888, epoch time = 8.596582889556885\n",
      "Epoch [5/10], [16000/60000], batch loss = 0.008620130829513073, epoch time = 10.823140621185303\n",
      "Epoch [5/10], [19200/60000], batch loss = 0.004562863148748875, epoch time = 13.011661529541016\n",
      "Epoch [5/10], [22400/60000], batch loss = 0.009183483198285103, epoch time = 15.143416404724121\n",
      "Epoch [5/10], [25600/60000], batch loss = 0.005583554040640593, epoch time = 17.31390118598938\n",
      "Epoch [5/10], [28800/60000], batch loss = 0.04441174492239952, epoch time = 19.43907618522644\n",
      "Epoch [5/10], [32000/60000], batch loss = 0.03511105105280876, epoch time = 21.635773420333862\n",
      "Epoch [5/10], [35200/60000], batch loss = 0.0005929984617978334, epoch time = 23.85719895362854\n",
      "Epoch [5/10], [38400/60000], batch loss = 0.0017298393649980426, epoch time = 26.05650496482849\n",
      "Epoch [5/10], [41600/60000], batch loss = 0.0028655212372541428, epoch time = 28.179370403289795\n",
      "Epoch [5/10], [44800/60000], batch loss = 0.0006810062914155424, epoch time = 30.317721843719482\n",
      "Epoch [5/10], [48000/60000], batch loss = 0.00686383992433548, epoch time = 32.497570753097534\n",
      "Epoch [5/10], [51200/60000], batch loss = 0.12636986374855042, epoch time = 34.64961385726929\n",
      "Epoch [5/10], [54400/60000], batch loss = 0.002449422376230359, epoch time = 36.84796142578125\n",
      "Epoch [5/10], [57600/60000], batch loss = 0.031794462352991104, epoch time = 39.06478261947632\n",
      "Epoch [5/10], test accuracy = 0.9911, testloss = 0.028706920420273674, total epoch time = 43.95341110229492\n",
      "Epoch [6/10], [3200/60000], batch loss = 0.053292036056518555, epoch time = 2.1286163330078125\n",
      "Epoch [6/10], [6400/60000], batch loss = 0.012297527864575386, epoch time = 4.246508598327637\n",
      "Epoch [6/10], [9600/60000], batch loss = 0.027233507484197617, epoch time = 6.447330951690674\n",
      "Epoch [6/10], [12800/60000], batch loss = 0.0015680075157433748, epoch time = 8.582014560699463\n",
      "Epoch [6/10], [16000/60000], batch loss = 0.0027086620684713125, epoch time = 10.716798543930054\n",
      "Epoch [6/10], [19200/60000], batch loss = 0.0014695695135742426, epoch time = 12.899404048919678\n",
      "Epoch [6/10], [22400/60000], batch loss = 0.020645756274461746, epoch time = 15.099832773208618\n",
      "Epoch [6/10], [25600/60000], batch loss = 0.003274416085332632, epoch time = 17.250808000564575\n",
      "Epoch [6/10], [28800/60000], batch loss = 0.15971419215202332, epoch time = 19.3973171710968\n",
      "Epoch [6/10], [32000/60000], batch loss = 0.004752201959490776, epoch time = 21.581098556518555\n",
      "Epoch [6/10], [35200/60000], batch loss = 0.03780576214194298, epoch time = 23.861160278320312\n",
      "Epoch [6/10], [38400/60000], batch loss = 0.0018201324855908751, epoch time = 26.116827249526978\n",
      "Epoch [6/10], [41600/60000], batch loss = 0.01238998118788004, epoch time = 28.260042190551758\n",
      "Epoch [6/10], [44800/60000], batch loss = 0.0006836159736849368, epoch time = 30.39533758163452\n",
      "Epoch [6/10], [48000/60000], batch loss = 0.0014342755312100053, epoch time = 32.613454818725586\n",
      "Epoch [6/10], [51200/60000], batch loss = 0.0006145170773379505, epoch time = 34.78824067115784\n",
      "Epoch [6/10], [54400/60000], batch loss = 0.004991691093891859, epoch time = 36.98602223396301\n",
      "Epoch [6/10], [57600/60000], batch loss = 0.003181559033691883, epoch time = 39.19369387626648\n",
      "Epoch [6/10], test accuracy = 0.9908, testloss = 0.029193828405532987, total epoch time = 43.89677309989929\n",
      "Epoch [7/10], [3200/60000], batch loss = 0.0006415130337700248, epoch time = 2.163259744644165\n",
      "Epoch [7/10], [6400/60000], batch loss = 0.0004647325840778649, epoch time = 4.294981956481934\n",
      "Epoch [7/10], [9600/60000], batch loss = 0.05194235220551491, epoch time = 6.426036596298218\n",
      "Epoch [7/10], [12800/60000], batch loss = 0.04954589903354645, epoch time = 8.591888427734375\n",
      "Epoch [7/10], [16000/60000], batch loss = 0.00926177203655243, epoch time = 10.719286441802979\n",
      "Epoch [7/10], [19200/60000], batch loss = 0.02839452028274536, epoch time = 12.87721848487854\n",
      "Epoch [7/10], [22400/60000], batch loss = 0.013200231827795506, epoch time = 15.042845010757446\n",
      "Epoch [7/10], [25600/60000], batch loss = 0.00015152632840909064, epoch time = 17.173362016677856\n",
      "Epoch [7/10], [28800/60000], batch loss = 0.0032401266507804394, epoch time = 19.30866026878357\n",
      "Epoch [7/10], [32000/60000], batch loss = 0.001296637230552733, epoch time = 21.434707403182983\n",
      "Epoch [7/10], [35200/60000], batch loss = 0.026218552142381668, epoch time = 23.62304377555847\n",
      "Epoch [7/10], [38400/60000], batch loss = 0.0016525598475709558, epoch time = 25.81081461906433\n",
      "Epoch [7/10], [41600/60000], batch loss = 0.001394046819768846, epoch time = 28.043426990509033\n",
      "Epoch [7/10], [44800/60000], batch loss = 0.04108194261789322, epoch time = 30.317503929138184\n",
      "Epoch [7/10], [48000/60000], batch loss = 0.0077035087160766125, epoch time = 32.50045371055603\n",
      "Epoch [7/10], [51200/60000], batch loss = 0.008244205266237259, epoch time = 34.650564432144165\n",
      "Epoch [7/10], [54400/60000], batch loss = 0.01248986180871725, epoch time = 36.78981351852417\n",
      "Epoch [7/10], [57600/60000], batch loss = 0.006375705823302269, epoch time = 38.914793252944946\n",
      "Epoch [7/10], test accuracy = 0.9911, testloss = 0.03204963061777526, total epoch time = 43.68450999259949\n",
      "Epoch [8/10], [3200/60000], batch loss = 0.00035414297599345446, epoch time = 2.2301242351531982\n",
      "Epoch [8/10], [6400/60000], batch loss = 0.0020418341737240553, epoch time = 4.453999757766724\n",
      "Epoch [8/10], [9600/60000], batch loss = 0.0002985613245982677, epoch time = 6.630922317504883\n",
      "Epoch [8/10], [12800/60000], batch loss = 0.019292499870061874, epoch time = 8.827044248580933\n",
      "Epoch [8/10], [16000/60000], batch loss = 0.01315473672002554, epoch time = 11.042040824890137\n",
      "Epoch [8/10], [19200/60000], batch loss = 0.027974605560302734, epoch time = 13.170907020568848\n",
      "Epoch [8/10], [22400/60000], batch loss = 0.0043018958531320095, epoch time = 15.299767971038818\n",
      "Epoch [8/10], [25600/60000], batch loss = 0.003706418676301837, epoch time = 17.444645881652832\n",
      "Epoch [8/10], [28800/60000], batch loss = 0.00011764435475924984, epoch time = 19.588347911834717\n",
      "Epoch [8/10], [32000/60000], batch loss = 0.006057960446923971, epoch time = 21.75005292892456\n",
      "Epoch [8/10], [35200/60000], batch loss = 0.014531604014337063, epoch time = 23.869290828704834\n",
      "Epoch [8/10], [38400/60000], batch loss = 0.003653434570878744, epoch time = 26.029489278793335\n",
      "Epoch [8/10], [41600/60000], batch loss = 0.003090021200478077, epoch time = 28.22223472595215\n",
      "Epoch [8/10], [44800/60000], batch loss = 0.0035345894284546375, epoch time = 30.453044891357422\n",
      "Epoch [8/10], [48000/60000], batch loss = 0.0005904316203668714, epoch time = 32.70098423957825\n",
      "Epoch [8/10], [51200/60000], batch loss = 0.0013215567450970411, epoch time = 34.84172773361206\n",
      "Epoch [8/10], [54400/60000], batch loss = 0.006094448734074831, epoch time = 37.03420805931091\n",
      "Epoch [8/10], [57600/60000], batch loss = 0.002274248981848359, epoch time = 39.23611569404602\n",
      "Epoch [8/10], test accuracy = 0.9906, testloss = 0.03180478998264298, total epoch time = 44.008872509002686\n",
      "Epoch [9/10], [3200/60000], batch loss = 0.0003739053208846599, epoch time = 2.291011095046997\n",
      "Epoch [9/10], [6400/60000], batch loss = 0.011860311962664127, epoch time = 4.441471815109253\n",
      "Epoch [9/10], [9600/60000], batch loss = 0.03685130923986435, epoch time = 6.678002119064331\n",
      "Epoch [9/10], [12800/60000], batch loss = 0.0011110729537904263, epoch time = 8.829311609268188\n",
      "Epoch [9/10], [16000/60000], batch loss = 0.000980875687673688, epoch time = 11.050447940826416\n",
      "Epoch [9/10], [19200/60000], batch loss = 0.0005492328782565892, epoch time = 13.192869901657104\n",
      "Epoch [9/10], [22400/60000], batch loss = 0.0036945228930562735, epoch time = 15.32951545715332\n",
      "Epoch [9/10], [25600/60000], batch loss = 0.00866482313722372, epoch time = 17.490251541137695\n",
      "Epoch [9/10], [28800/60000], batch loss = 0.019113654270768166, epoch time = 19.70012331008911\n",
      "Epoch [9/10], [32000/60000], batch loss = 0.0003318547096569091, epoch time = 21.944302082061768\n",
      "Epoch [9/10], [35200/60000], batch loss = 0.005682155955582857, epoch time = 24.187690019607544\n",
      "Epoch [9/10], [38400/60000], batch loss = 0.00029393687145784497, epoch time = 26.41598391532898\n",
      "Epoch [9/10], [41600/60000], batch loss = 0.012891695834696293, epoch time = 28.62110733985901\n",
      "Epoch [9/10], [44800/60000], batch loss = 0.0036963808815926313, epoch time = 30.741952896118164\n",
      "Epoch [9/10], [48000/60000], batch loss = 0.00043807821930386126, epoch time = 32.94544553756714\n",
      "Epoch [9/10], [51200/60000], batch loss = 2.686943298613187e-05, epoch time = 35.08781123161316\n",
      "Epoch [9/10], [54400/60000], batch loss = 0.0010131221497431397, epoch time = 37.31058716773987\n",
      "Epoch [9/10], [57600/60000], batch loss = 0.002032816642895341, epoch time = 39.509620904922485\n",
      "Epoch [9/10], test accuracy = 0.9907, testloss = 0.035900944631733, total epoch time = 44.259127378463745\n",
      "Epoch [10/10], [3200/60000], batch loss = 0.0194843839854002, epoch time = 2.2192933559417725\n",
      "Epoch [10/10], [6400/60000], batch loss = 0.00016742486332077533, epoch time = 4.433149099349976\n",
      "Epoch [10/10], [9600/60000], batch loss = 0.00018587078375276178, epoch time = 6.539583683013916\n",
      "Epoch [10/10], [12800/60000], batch loss = 0.0016961817163974047, epoch time = 8.64377236366272\n",
      "Epoch [10/10], [16000/60000], batch loss = 0.0009608841501176357, epoch time = 10.755013227462769\n",
      "Epoch [10/10], [19200/60000], batch loss = 5.661855084326817e-06, epoch time = 12.867659330368042\n",
      "Epoch [10/10], [22400/60000], batch loss = 3.0881321436027065e-05, epoch time = 14.988866567611694\n",
      "Epoch [10/10], [25600/60000], batch loss = 0.001939875539392233, epoch time = 17.095221281051636\n",
      "Epoch [10/10], [28800/60000], batch loss = 0.032262831926345825, epoch time = 19.1952702999115\n",
      "Epoch [10/10], [32000/60000], batch loss = 0.0001275709073524922, epoch time = 21.34922504425049\n",
      "Epoch [10/10], [35200/60000], batch loss = 0.00025357786216773093, epoch time = 23.555073976516724\n",
      "Epoch [10/10], [38400/60000], batch loss = 0.001660804613493383, epoch time = 25.6624493598938\n",
      "Epoch [10/10], [41600/60000], batch loss = 0.05802527815103531, epoch time = 27.777217626571655\n",
      "Epoch [10/10], [44800/60000], batch loss = 0.002798655303195119, epoch time = 29.939053535461426\n",
      "Epoch [10/10], [48000/60000], batch loss = 0.016711203381419182, epoch time = 32.0803005695343\n",
      "Epoch [10/10], [51200/60000], batch loss = 5.1472539780661464e-05, epoch time = 34.27863788604736\n",
      "Epoch [10/10], [54400/60000], batch loss = 0.01360285747796297, epoch time = 36.43735885620117\n",
      "Epoch [10/10], [57600/60000], batch loss = 0.0015869473572820425, epoch time = 38.572643995285034\n",
      "Epoch [10/10], test accuracy = 0.9903, testloss = 0.032812620777061964, total epoch time = 43.28507924079895\n",
      "Epoch [1/10], [3200/60000], batch loss = 0.18176378309726715, epoch time = 2.171926736831665\n",
      "Epoch [1/10], [6400/60000], batch loss = 0.10619034618139267, epoch time = 4.290342330932617\n",
      "Epoch [1/10], [9600/60000], batch loss = 0.13994498550891876, epoch time = 6.404146194458008\n",
      "Epoch [1/10], [12800/60000], batch loss = 0.3084990978240967, epoch time = 8.500830173492432\n",
      "Epoch [1/10], [16000/60000], batch loss = 0.18466180562973022, epoch time = 10.640551328659058\n",
      "Epoch [1/10], [19200/60000], batch loss = 0.14825664460659027, epoch time = 12.781311273574829\n",
      "Epoch [1/10], [22400/60000], batch loss = 0.13423751294612885, epoch time = 14.93376088142395\n",
      "Epoch [1/10], [25600/60000], batch loss = 0.028498446568846703, epoch time = 17.229111909866333\n",
      "Epoch [1/10], [28800/60000], batch loss = 0.07504063099622726, epoch time = 19.422377586364746\n",
      "Epoch [1/10], [32000/60000], batch loss = 0.020846253260970116, epoch time = 21.590015172958374\n",
      "Epoch [1/10], [35200/60000], batch loss = 0.03497230261564255, epoch time = 23.84861993789673\n",
      "Epoch [1/10], [38400/60000], batch loss = 0.06116552650928497, epoch time = 26.06107234954834\n",
      "Epoch [1/10], [41600/60000], batch loss = 0.07627986371517181, epoch time = 28.271121501922607\n",
      "Epoch [1/10], [44800/60000], batch loss = 0.09522274881601334, epoch time = 30.3517107963562\n",
      "Epoch [1/10], [48000/60000], batch loss = 0.09217648953199387, epoch time = 32.45224976539612\n",
      "Epoch [1/10], [51200/60000], batch loss = 0.09309009462594986, epoch time = 34.5782687664032\n",
      "Epoch [1/10], [54400/60000], batch loss = 0.06397422403097153, epoch time = 36.7360200881958\n",
      "Epoch [1/10], [57600/60000], batch loss = 0.0150441974401474, epoch time = 38.809653759002686\n",
      "Epoch [1/10], test accuracy = 0.981, testloss = 0.058569092860817906, total epoch time = 43.48969841003418\n",
      "Epoch [2/10], [3200/60000], batch loss = 0.1301155686378479, epoch time = 2.0713229179382324\n",
      "Epoch [2/10], [6400/60000], batch loss = 0.025903312489390373, epoch time = 4.166945695877075\n",
      "Epoch [2/10], [9600/60000], batch loss = 0.012627803720533848, epoch time = 6.25032377243042\n",
      "Epoch [2/10], [12800/60000], batch loss = 0.002762392396107316, epoch time = 8.366794347763062\n",
      "Epoch [2/10], [16000/60000], batch loss = 0.016247406601905823, epoch time = 10.537206172943115\n",
      "Epoch [2/10], [19200/60000], batch loss = 0.05497400462627411, epoch time = 12.728503704071045\n",
      "Epoch [2/10], [22400/60000], batch loss = 0.0532054640352726, epoch time = 14.885808229446411\n",
      "Epoch [2/10], [25600/60000], batch loss = 0.07163336127996445, epoch time = 17.106517553329468\n",
      "Epoch [2/10], [28800/60000], batch loss = 0.025207839906215668, epoch time = 19.21187925338745\n",
      "Epoch [2/10], [32000/60000], batch loss = 0.00975990854203701, epoch time = 21.3100163936615\n",
      "Epoch [2/10], [35200/60000], batch loss = 0.06347669661045074, epoch time = 23.471712827682495\n",
      "Epoch [2/10], [38400/60000], batch loss = 0.008473490364849567, epoch time = 25.554494857788086\n",
      "Epoch [2/10], [41600/60000], batch loss = 0.13759064674377441, epoch time = 27.62267017364502\n",
      "Epoch [2/10], [44800/60000], batch loss = 0.09259311854839325, epoch time = 29.81796622276306\n",
      "Epoch [2/10], [48000/60000], batch loss = 0.009687008336186409, epoch time = 31.967228889465332\n",
      "Epoch [2/10], [51200/60000], batch loss = 0.014281347393989563, epoch time = 34.11393427848816\n",
      "Epoch [2/10], [54400/60000], batch loss = 0.05958512797951698, epoch time = 36.190964221954346\n",
      "Epoch [2/10], [57600/60000], batch loss = 0.0180628951638937, epoch time = 38.27372694015503\n",
      "Epoch [2/10], test accuracy = 0.9892, testloss = 0.031585096642374993, total epoch time = 43.05325365066528\n",
      "Epoch [3/10], [3200/60000], batch loss = 0.02245616912841797, epoch time = 2.1822047233581543\n",
      "Epoch [3/10], [6400/60000], batch loss = 0.003376167267560959, epoch time = 4.343890428543091\n",
      "Epoch [3/10], [9600/60000], batch loss = 0.006339570507407188, epoch time = 6.492718935012817\n",
      "Epoch [3/10], [12800/60000], batch loss = 0.006110324524343014, epoch time = 8.663981437683105\n",
      "Epoch [3/10], [16000/60000], batch loss = 0.006126827094703913, epoch time = 10.821550846099854\n",
      "Epoch [3/10], [19200/60000], batch loss = 0.011502695269882679, epoch time = 12.95073676109314\n",
      "Epoch [3/10], [22400/60000], batch loss = 0.1287699192762375, epoch time = 15.101479053497314\n",
      "Epoch [3/10], [25600/60000], batch loss = 0.005666348617523909, epoch time = 17.247682332992554\n",
      "Epoch [3/10], [28800/60000], batch loss = 0.015068788081407547, epoch time = 19.372408151626587\n",
      "Epoch [3/10], [32000/60000], batch loss = 0.07015068084001541, epoch time = 21.501478910446167\n",
      "Epoch [3/10], [35200/60000], batch loss = 0.004131499212235212, epoch time = 23.58396601676941\n",
      "Epoch [3/10], [38400/60000], batch loss = 0.004627494141459465, epoch time = 25.746313333511353\n",
      "Epoch [3/10], [41600/60000], batch loss = 0.1411401629447937, epoch time = 27.90875506401062\n",
      "Epoch [3/10], [44800/60000], batch loss = 0.004671302158385515, epoch time = 30.063416957855225\n",
      "Epoch [3/10], [48000/60000], batch loss = 0.003189611714333296, epoch time = 32.20614218711853\n",
      "Epoch [3/10], [51200/60000], batch loss = 0.08120516687631607, epoch time = 34.38394117355347\n",
      "Epoch [3/10], [54400/60000], batch loss = 0.005356156267225742, epoch time = 36.502052307128906\n",
      "Epoch [3/10], [57600/60000], batch loss = 0.12159185111522675, epoch time = 38.611684799194336\n",
      "Epoch [3/10], test accuracy = 0.9889, testloss = 0.03141619209721684, total epoch time = 43.24569392204285\n",
      "Epoch [4/10], [3200/60000], batch loss = 0.016192296519875526, epoch time = 2.086688756942749\n",
      "Epoch [4/10], [6400/60000], batch loss = 0.012468366883695126, epoch time = 4.185154914855957\n",
      "Epoch [4/10], [9600/60000], batch loss = 0.0020268855150789022, epoch time = 6.352844476699829\n",
      "Epoch [4/10], [12800/60000], batch loss = 0.03538542985916138, epoch time = 8.465662717819214\n",
      "Epoch [4/10], [16000/60000], batch loss = 0.0010879990877583623, epoch time = 10.532043933868408\n",
      "Epoch [4/10], [19200/60000], batch loss = 0.006135675590485334, epoch time = 12.643089771270752\n",
      "Epoch [4/10], [22400/60000], batch loss = 0.014374571852385998, epoch time = 14.82527494430542\n",
      "Epoch [4/10], [25600/60000], batch loss = 0.0013950656866654754, epoch time = 16.96217131614685\n",
      "Epoch [4/10], [28800/60000], batch loss = 0.04670451208949089, epoch time = 19.142555475234985\n",
      "Epoch [4/10], [32000/60000], batch loss = 0.007402552291750908, epoch time = 21.214717864990234\n",
      "Epoch [4/10], [35200/60000], batch loss = 0.0018370072357356548, epoch time = 23.354748487472534\n",
      "Epoch [4/10], [38400/60000], batch loss = 0.009585009887814522, epoch time = 25.42815661430359\n",
      "Epoch [4/10], [41600/60000], batch loss = 0.00481091532856226, epoch time = 27.516109943389893\n",
      "Epoch [4/10], [44800/60000], batch loss = 0.02555721066892147, epoch time = 29.70211625099182\n",
      "Epoch [4/10], [48000/60000], batch loss = 0.008596519939601421, epoch time = 31.84066128730774\n",
      "Epoch [4/10], [51200/60000], batch loss = 0.014203093014657497, epoch time = 34.01941275596619\n",
      "Epoch [4/10], [54400/60000], batch loss = 0.008612642996013165, epoch time = 36.12831115722656\n",
      "Epoch [4/10], [57600/60000], batch loss = 0.0010352389654144645, epoch time = 38.29110097885132\n",
      "Epoch [4/10], test accuracy = 0.9925, testloss = 0.022917606072640047, total epoch time = 43.27296233177185\n",
      "Epoch [5/10], [3200/60000], batch loss = 0.0029363147914409637, epoch time = 2.118556499481201\n",
      "Epoch [5/10], [6400/60000], batch loss = 0.016854673624038696, epoch time = 4.291459321975708\n",
      "Epoch [5/10], [9600/60000], batch loss = 0.06372429430484772, epoch time = 6.470210313796997\n",
      "Epoch [5/10], [12800/60000], batch loss = 0.0007501757354475558, epoch time = 8.652379512786865\n",
      "Epoch [5/10], [16000/60000], batch loss = 0.0066241552121937275, epoch time = 10.762890577316284\n",
      "Epoch [5/10], [19200/60000], batch loss = 0.0009170209523290396, epoch time = 12.87359094619751\n",
      "Epoch [5/10], [22400/60000], batch loss = 0.027059679850935936, epoch time = 14.996581077575684\n",
      "Epoch [5/10], [25600/60000], batch loss = 0.008109550923109055, epoch time = 17.08719491958618\n",
      "Epoch [5/10], [28800/60000], batch loss = 0.02065778337419033, epoch time = 19.150156497955322\n",
      "Epoch [5/10], [32000/60000], batch loss = 0.057708483189344406, epoch time = 21.224239826202393\n",
      "Epoch [5/10], [35200/60000], batch loss = 0.0008798525668680668, epoch time = 23.315510749816895\n",
      "Epoch [5/10], [38400/60000], batch loss = 0.004908027593046427, epoch time = 25.40976619720459\n",
      "Epoch [5/10], [41600/60000], batch loss = 0.055913008749485016, epoch time = 27.583221197128296\n",
      "Epoch [5/10], [44800/60000], batch loss = 0.0017962702549993992, epoch time = 29.72410249710083\n",
      "Epoch [5/10], [48000/60000], batch loss = 0.01348565798252821, epoch time = 31.865873098373413\n",
      "Epoch [5/10], [51200/60000], batch loss = 0.12600183486938477, epoch time = 33.97282338142395\n",
      "Epoch [5/10], [54400/60000], batch loss = 0.0020928846206516027, epoch time = 36.17191815376282\n",
      "Epoch [5/10], [57600/60000], batch loss = 0.014783980324864388, epoch time = 38.353588342666626\n",
      "Epoch [5/10], test accuracy = 0.9884, testloss = 0.034480784495244735, total epoch time = 43.17456889152527\n",
      "Epoch [6/10], [3200/60000], batch loss = 0.018128979951143265, epoch time = 2.1985602378845215\n",
      "Epoch [6/10], [6400/60000], batch loss = 0.03203278407454491, epoch time = 4.322006464004517\n",
      "Epoch [6/10], [9600/60000], batch loss = 0.02167038433253765, epoch time = 6.406965494155884\n",
      "Epoch [6/10], [12800/60000], batch loss = 0.0326322503387928, epoch time = 8.509989500045776\n",
      "Epoch [6/10], [16000/60000], batch loss = 0.008530810475349426, epoch time = 10.591918706893921\n",
      "Epoch [6/10], [19200/60000], batch loss = 0.014909311197698116, epoch time = 12.671759128570557\n",
      "Epoch [6/10], [22400/60000], batch loss = 0.0018613145221024752, epoch time = 14.754317045211792\n",
      "Epoch [6/10], [25600/60000], batch loss = 0.0010248080361634493, epoch time = 16.82495665550232\n",
      "Epoch [6/10], [28800/60000], batch loss = 0.015131106600165367, epoch time = 18.884750366210938\n",
      "Epoch [6/10], [32000/60000], batch loss = 0.01699930429458618, epoch time = 20.95063066482544\n",
      "Epoch [6/10], [35200/60000], batch loss = 0.01719319447875023, epoch time = 23.029951095581055\n",
      "Epoch [6/10], [38400/60000], batch loss = 0.02151755429804325, epoch time = 25.187326669692993\n",
      "Epoch [6/10], [41600/60000], batch loss = 0.025132227689027786, epoch time = 27.298511028289795\n",
      "Epoch [6/10], [44800/60000], batch loss = 0.015689630061388016, epoch time = 29.384296655654907\n",
      "Epoch [6/10], [48000/60000], batch loss = 0.0020751904230564833, epoch time = 31.505988121032715\n",
      "Epoch [6/10], [51200/60000], batch loss = 0.0005283885402604938, epoch time = 33.62870645523071\n",
      "Epoch [6/10], [54400/60000], batch loss = 0.0002828649594448507, epoch time = 35.74387526512146\n",
      "Epoch [6/10], [57600/60000], batch loss = 0.00377308065071702, epoch time = 37.87719750404358\n",
      "Epoch [6/10], test accuracy = 0.9925, testloss = 0.024223393015144392, total epoch time = 42.766770124435425\n",
      "Epoch [7/10], [3200/60000], batch loss = 0.0008417527424171567, epoch time = 2.1135737895965576\n",
      "Epoch [7/10], [6400/60000], batch loss = 0.0003528330707922578, epoch time = 4.194923400878906\n",
      "Epoch [7/10], [9600/60000], batch loss = 0.010450332425534725, epoch time = 6.327029228210449\n",
      "Epoch [7/10], [12800/60000], batch loss = 0.0017000874504446983, epoch time = 8.466440439224243\n",
      "Epoch [7/10], [16000/60000], batch loss = 0.03934869170188904, epoch time = 10.592435836791992\n",
      "Epoch [7/10], [19200/60000], batch loss = 0.0032209770288318396, epoch time = 12.730112552642822\n",
      "Epoch [7/10], [22400/60000], batch loss = 0.0057984269224107265, epoch time = 14.869772672653198\n",
      "Epoch [7/10], [25600/60000], batch loss = 0.0023397926706820726, epoch time = 16.960428476333618\n",
      "Epoch [7/10], [28800/60000], batch loss = 0.00027689969283528626, epoch time = 19.072627067565918\n",
      "Epoch [7/10], [32000/60000], batch loss = 0.002090035006403923, epoch time = 21.214765787124634\n",
      "Epoch [7/10], [35200/60000], batch loss = 0.00171564647462219, epoch time = 23.30456280708313\n",
      "Epoch [7/10], [38400/60000], batch loss = 0.01866394840180874, epoch time = 25.38966941833496\n",
      "Epoch [7/10], [41600/60000], batch loss = 0.008964856155216694, epoch time = 27.57995915412903\n",
      "Epoch [7/10], [44800/60000], batch loss = 0.005894910078495741, epoch time = 29.812965869903564\n",
      "Epoch [7/10], [48000/60000], batch loss = 6.980466423556209e-05, epoch time = 32.01504421234131\n",
      "Epoch [7/10], [51200/60000], batch loss = 0.00025465150247327983, epoch time = 34.15484976768494\n",
      "Epoch [7/10], [54400/60000], batch loss = 0.047930579632520676, epoch time = 36.34951949119568\n",
      "Epoch [7/10], [57600/60000], batch loss = 0.011630160734057426, epoch time = 38.45689105987549\n",
      "Epoch [7/10], test accuracy = 0.9933, testloss = 0.023370554171293044, total epoch time = 43.319331645965576\n",
      "Epoch [8/10], [3200/60000], batch loss = 0.000182373434654437, epoch time = 2.1229515075683594\n",
      "Epoch [8/10], [6400/60000], batch loss = 0.054997190833091736, epoch time = 4.2250895500183105\n",
      "Epoch [8/10], [9600/60000], batch loss = 0.014696069061756134, epoch time = 6.382234334945679\n",
      "Epoch [8/10], [12800/60000], batch loss = 0.00020646644406951964, epoch time = 8.629724502563477\n",
      "Epoch [8/10], [16000/60000], batch loss = 0.0005432816687971354, epoch time = 10.795350790023804\n",
      "Epoch [8/10], [19200/60000], batch loss = 0.03664566949009895, epoch time = 12.909097909927368\n",
      "Epoch [8/10], [22400/60000], batch loss = 0.001003697165288031, epoch time = 15.098724126815796\n",
      "Epoch [8/10], [25600/60000], batch loss = 0.02942068502306938, epoch time = 17.2983455657959\n",
      "Epoch [8/10], [28800/60000], batch loss = 0.00020649231737479568, epoch time = 19.421559810638428\n",
      "Epoch [8/10], [32000/60000], batch loss = 7.632820052094758e-05, epoch time = 21.55775237083435\n",
      "Epoch [8/10], [35200/60000], batch loss = 6.18531194049865e-05, epoch time = 23.76190733909607\n",
      "Epoch [8/10], [38400/60000], batch loss = 0.0006858393317088485, epoch time = 26.103108167648315\n",
      "Epoch [8/10], [41600/60000], batch loss = 0.00040795281529426575, epoch time = 28.28461265563965\n",
      "Epoch [8/10], [44800/60000], batch loss = 0.001411173027008772, epoch time = 30.522226095199585\n",
      "Epoch [8/10], [48000/60000], batch loss = 0.0020092553459107876, epoch time = 32.78971338272095\n",
      "Epoch [8/10], [51200/60000], batch loss = 0.0034144450910389423, epoch time = 35.07865619659424\n",
      "Epoch [8/10], [54400/60000], batch loss = 0.0040884194895625114, epoch time = 37.27430820465088\n",
      "Epoch [8/10], [57600/60000], batch loss = 0.0012172379065304995, epoch time = 39.42768335342407\n",
      "Epoch [8/10], test accuracy = 0.9931, testloss = 0.02426071760482737, total epoch time = 44.164998292922974\n",
      "Epoch [9/10], [3200/60000], batch loss = 9.535098797641695e-05, epoch time = 2.1766858100891113\n",
      "Epoch [9/10], [6400/60000], batch loss = 0.002175373025238514, epoch time = 4.313962697982788\n",
      "Epoch [9/10], [9600/60000], batch loss = 9.060766751645133e-05, epoch time = 6.4398980140686035\n",
      "Epoch [9/10], [12800/60000], batch loss = 0.008600757457315922, epoch time = 8.592526912689209\n",
      "Epoch [9/10], [16000/60000], batch loss = 9.793071512831375e-06, epoch time = 10.72529411315918\n",
      "Epoch [9/10], [19200/60000], batch loss = 0.0002966486499644816, epoch time = 12.895029544830322\n",
      "Epoch [9/10], [22400/60000], batch loss = 0.00137725577224046, epoch time = 15.05622673034668\n",
      "Epoch [9/10], [25600/60000], batch loss = 0.0024948767386376858, epoch time = 17.238277912139893\n",
      "Epoch [9/10], [28800/60000], batch loss = 0.00030549673829227686, epoch time = 19.37891125679016\n",
      "Epoch [9/10], [32000/60000], batch loss = 0.002492672298103571, epoch time = 21.508174419403076\n",
      "Epoch [9/10], [35200/60000], batch loss = 0.00012112881813663989, epoch time = 23.644449710845947\n",
      "Epoch [9/10], [38400/60000], batch loss = 0.000620118691585958, epoch time = 25.84289574623108\n",
      "Epoch [9/10], [41600/60000], batch loss = 2.117795702361036e-05, epoch time = 28.092798709869385\n",
      "Epoch [9/10], [44800/60000], batch loss = 0.0007442308124154806, epoch time = 30.243477821350098\n",
      "Epoch [9/10], [48000/60000], batch loss = 0.006692648399621248, epoch time = 32.40128421783447\n",
      "Epoch [9/10], [51200/60000], batch loss = 0.0011968680191785097, epoch time = 34.53986883163452\n",
      "Epoch [9/10], [54400/60000], batch loss = 0.0074098375625908375, epoch time = 36.66724634170532\n",
      "Epoch [9/10], [57600/60000], batch loss = 0.03406120091676712, epoch time = 38.823647260665894\n",
      "Epoch [9/10], test accuracy = 0.9915, testloss = 0.032236900825263, total epoch time = 43.775601625442505\n",
      "Epoch [10/10], [3200/60000], batch loss = 1.1700292816385627e-05, epoch time = 2.2159669399261475\n",
      "Epoch [10/10], [6400/60000], batch loss = 0.001999389147385955, epoch time = 4.3907246589660645\n",
      "Epoch [10/10], [9600/60000], batch loss = 0.003132599638774991, epoch time = 6.6297032833099365\n",
      "Epoch [10/10], [12800/60000], batch loss = 0.0004793190455529839, epoch time = 8.825028419494629\n",
      "Epoch [10/10], [16000/60000], batch loss = 0.00019226678705308586, epoch time = 10.982699632644653\n",
      "Epoch [10/10], [19200/60000], batch loss = 3.6487276702246163e-06, epoch time = 13.158061265945435\n",
      "Epoch [10/10], [22400/60000], batch loss = 0.0003423165180720389, epoch time = 15.331387758255005\n",
      "Epoch [10/10], [25600/60000], batch loss = 0.000782932445872575, epoch time = 17.590547561645508\n",
      "Epoch [10/10], [28800/60000], batch loss = 0.0001979330845642835, epoch time = 19.757604837417603\n",
      "Epoch [10/10], [32000/60000], batch loss = 4.0611317672301084e-05, epoch time = 21.950690984725952\n",
      "Epoch [10/10], [35200/60000], batch loss = 0.00010031067358795553, epoch time = 24.189006090164185\n",
      "Epoch [10/10], [38400/60000], batch loss = 0.0072405170649290085, epoch time = 26.477142572402954\n",
      "Epoch [10/10], [41600/60000], batch loss = 6.508337537525222e-05, epoch time = 28.706073760986328\n",
      "Epoch [10/10], [44800/60000], batch loss = 6.004661372571718e-06, epoch time = 30.947640419006348\n",
      "Epoch [10/10], [48000/60000], batch loss = 0.000203022820642218, epoch time = 33.08930850028992\n",
      "Epoch [10/10], [51200/60000], batch loss = 0.00027283193776383996, epoch time = 35.2993860244751\n",
      "Epoch [10/10], [54400/60000], batch loss = 0.0005682704504579306, epoch time = 37.47229599952698\n",
      "Epoch [10/10], [57600/60000], batch loss = 1.8374221326666884e-05, epoch time = 39.65085792541504\n",
      "Epoch [10/10], test accuracy = 0.9916, testloss = 0.028884067629353378, total epoch time = 44.50916767120361\n"
     ]
    }
   ],
   "source": [
    "# Compare three optimizers\n",
    "optimizers = [\"SGD\",\"Adam\",\"RMSprop\"]\n",
    "losses_train, losses_test,acc_train, acc_test = {},{},{},{}\n",
    "\n",
    "for opt in optimizers:\n",
    "    model = ConvNet()\n",
    "    #losses_train[opt], losses_test[opt],acc_train[opt], acc_test[opt] = train(model,bs=64,n_epochs=10,optimizer=opt,gpu_mode =True)\n",
    "    # Use this command if GPUs are not available\n",
    "    losses_train[opt], losses_test[opt],acc_train[opt], acc_test[opt] = train(model,bs=64,n_epochs=10,optimizer=opt,gpu_mode=False)\n"
   ]
  },
  {
   "cell_type": "code",
   "execution_count": 52,
   "metadata": {
    "colab": {
     "base_uri": "https://localhost:8080/",
     "height": 1000
    },
    "id": "-JTdfBMYwlgd",
    "outputId": "8ad9e291-45f5-4ca5-fda9-a389a4a1ec3a"
   },
   "outputs": [
    {
     "data": {
      "image/png": "[encoded data removed]",
      "text/plain": [
       "<Figure size 432x288 with 1 Axes>"
      ]
     },
     "metadata": {
      "needs_background": "light",
      "tags": []
     },
     "output_type": "display_data"
    },
    {
     "data": {
      "image/png": "[encoded data removed]",
      "text/plain": [
       "<Figure size 432x288 with 1 Axes>"
      ]
     },
     "metadata": {
      "needs_background": "light",
      "tags": []
     },
     "output_type": "display_data"
    },
    {
     "data": {
      "image/png": "[encoded data removed]",
      "text/plain": [
       "<Figure size 432x288 with 1 Axes>"
      ]
     },
     "metadata": {
      "needs_background": "light",
      "tags": []
     },
     "output_type": "display_data"
    },
    {
     "data": {
      "image/png": "[encoded data removed]",
      "text/plain": [
       "<Figure size 432x288 with 1 Axes>"
      ]
     },
     "metadata": {
      "needs_background": "light",
      "tags": []
     },
     "output_type": "display_data"
    }
   ],
   "source": [
    "# Plotting the results\n",
    "plt.figure()\n",
    "for opt in optimizers:\n",
    "    plt.plot(np.linspace(0,10,len(losses_train[opt])),losses_train[opt],label=opt,linewidth=1,alpha=0.7)\n",
    "plt.yscale(\"log\")\n",
    "plt.legend()\n",
    "plt.title(\"train time\")\n",
    "plt.xlabel(\"epoch\")\n",
    "plt.ylabel(\"loss\")\n",
    "plt.show()\n",
    "\n",
    "plt.figure()\n",
    "for opt in optimizers:\n",
    "    plt.plot(np.linspace(1,10,len(acc_test[opt])),acc_test[opt],label=opt)\n",
    "plt.legend()\n",
    "plt.title(\"train time\")\n",
    "\n",
    "plt.xlabel(\"epoch\")\n",
    "plt.ylabel(\"accuracy\")\n",
    "plt.show()\n",
    "\n",
    "\n",
    "\n",
    "plt.figure()\n",
    "for opt in optimizers:\n",
    "    plt.plot(np.linspace(1,10,len(losses_test[opt])),losses_test[opt],label=opt,linewidth=1,alpha=0.7)\n",
    "plt.yscale(\"log\")\n",
    "plt.legend()\n",
    "plt.title(\"test time\")\n",
    "plt.xlabel(\"epoch\")\n",
    "plt.ylabel(\"loss\")\n",
    "plt.show()\n",
    "\n",
    "plt.figure()\n",
    "for opt in optimizers:\n",
    "    plt.plot(np.linspace(1,10,len(acc_test[opt])),acc_test[opt],label=opt,alpha=0.7)\n",
    "plt.legend()\n",
    "plt.title(\"test time\")\n",
    "plt.xlabel(\"epoch\")\n",
    "plt.ylabel(\"accuracy\")\n",
    "plt.show()"
   ]
  },
  {
   "cell_type": "code",
   "execution_count": null,
   "metadata": {},
   "outputs": [],
   "source": [
    "# Based on a notebook initially proposed with Laurent Meunier in 2019-2020.\n",
    "# Version 2.0 - C. W. Royer, November 2023"
   ]
  }
 ],
 "metadata": {
  "accelerator": "GPU",
  "colab": {
   "collapsed_sections": [],
   "name": "LabOML02-Solutions.ipynb",
   "provenance": []
  },
  "kernelspec": {
   "display_name": "Python 3 (ipykernel)",
   "language": "python",
   "name": "python3"
  },
  "language_info": {
   "codemirror_mode": {
    "name": "ipython",
    "version": 3
   },
   "file_extension": ".py",
   "mimetype": "text/x-python",
   "name": "python",
   "nbconvert_exporter": "python",
   "pygments_lexer": "ipython3",
   "version": "3.10.12"
  },
  "widgets": {
   "application/vnd.jupyter.widget-state+json": {
    "04b83f1666a64e02af2d7b76883db0ad": {
     "model_module": "@jupyter-widgets/base",
     "model_name": "LayoutModel",
     "state": {
      "_model_module": "@jupyter-widgets/base",
      "_model_module_version": "1.2.0",
      "_model_name": "LayoutModel",
      "_view_count": null,
      "_view_module": "@jupyter-widgets/base",
      "_view_module_version": "1.2.0",
      "_view_name": "LayoutView",
      "align_content": null,
      "align_items": null,
      "align_self": null,
      "border": null,
      "bottom": null,
      "display": null,
      "flex": null,
      "flex_flow": null,
      "grid_area": null,
      "grid_auto_columns": null,
      "grid_auto_flow": null,
      "grid_auto_rows": null,
      "grid_column": null,
      "grid_gap": null,
      "grid_row": null,
      "grid_template_areas": null,
      "grid_template_columns": null,
      "grid_template_rows": null,
      "height": null,
      "justify_content": null,
      "justify_items": null,
      "left": null,
      "margin": null,
      "max_height": null,
      "max_width": null,
      "min_height": null,
      "min_width": null,
      "object_fit": null,
      "object_position": null,
      "order": null,
      "overflow": null,
      "overflow_x": null,
      "overflow_y": null,
      "padding": null,
      "right": null,
      "top": null,
      "visibility": null,
      "width": null
     }
    },
    "0e96bf2763624c22a05a9804af118616": {
     "model_module": "@jupyter-widgets/controls",
     "model_name": "FloatProgressModel",
     "state": {
      "_dom_classes": [],
      "_model_module": "@jupyter-widgets/controls",
      "_model_module_version": "1.5.0",
      "_model_name": "FloatProgressModel",
      "_view_count": null,
      "_view_module": "@jupyter-widgets/controls",
      "_view_module_version": "1.5.0",
      "_view_name": "ProgressView",
      "bar_style": "success",
      "description": "",
      "description_tooltip": null,
      "layout": "IPY_MODEL_04b83f1666a64e02af2d7b76883db0ad",
      "max": 1,
      "min": 0,
      "orientation": "horizontal",
      "style": "IPY_MODEL_1cf3bf52a01646cf8a4cee94a4042c24",
      "value": 1
     }
    },
    "13ac9b9c9a4f4490b6d2e4dad83d8b8a": {
     "model_module": "@jupyter-widgets/base",
     "model_name": "LayoutModel",
     "state": {
      "_model_module": "@jupyter-widgets/base",
      "_model_module_version": "1.2.0",
      "_model_name": "LayoutModel",
      "_view_count": null,
      "_view_module": "@jupyter-widgets/base",
      "_view_module_version": "1.2.0",
      "_view_name": "LayoutView",
      "align_content": null,
      "align_items": null,
      "align_self": null,
      "border": null,
      "bottom": null,
      "display": null,
      "flex": null,
      "flex_flow": null,
      "grid_area": null,
      "grid_auto_columns": null,
      "grid_auto_flow": null,
      "grid_auto_rows": null,
      "grid_column": null,
      "grid_gap": null,
      "grid_row": null,
      "grid_template_areas": null,
      "grid_template_columns": null,
      "grid_template_rows": null,
      "height": null,
      "justify_content": null,
      "justify_items": null,
      "left": null,
      "margin": null,
      "max_height": null,
      "max_width": null,
      "min_height": null,
      "min_width": null,
      "object_fit": null,
      "object_position": null,
      "order": null,
      "overflow": null,
      "overflow_x": null,
      "overflow_y": null,
      "padding": null,
      "right": null,
      "top": null,
      "visibility": null,
      "width": null
     }
    },
    "1cf3bf52a01646cf8a4cee94a4042c24": {
     "model_module": "@jupyter-widgets/controls",
     "model_name": "ProgressStyleModel",
     "state": {
      "_model_module": "@jupyter-widgets/controls",
      "_model_module_version": "1.5.0",
      "_model_name": "ProgressStyleModel",
      "_view_count": null,
      "_view_module": "@jupyter-widgets/base",
      "_view_module_version": "1.2.0",
      "_view_name": "StyleView",
      "bar_color": null,
      "description_width": "initial"
     }
    },
    "1f7ca0df0861479b904868245b6ed43c": {
     "model_module": "@jupyter-widgets/base",
     "model_name": "LayoutModel",
     "state": {
      "_model_module": "@jupyter-widgets/base",
      "_model_module_version": "1.2.0",
      "_model_name": "LayoutModel",
      "_view_count": null,
      "_view_module": "@jupyter-widgets/base",
      "_view_module_version": "1.2.0",
      "_view_name": "LayoutView",
      "align_content": null,
      "align_items": null,
      "align_self": null,
      "border": null,
      "bottom": null,
      "display": null,
      "flex": null,
      "flex_flow": null,
      "grid_area": null,
      "grid_auto_columns": null,
      "grid_auto_flow": null,
      "grid_auto_rows": null,
      "grid_column": null,
      "grid_gap": null,
      "grid_row": null,
      "grid_template_areas": null,
      "grid_template_columns": null,
      "grid_template_rows": null,
      "height": null,
      "justify_content": null,
      "justify_items": null,
      "left": null,
      "margin": null,
      "max_height": null,
      "max_width": null,
      "min_height": null,
      "min_width": null,
      "object_fit": null,
      "object_position": null,
      "order": null,
      "overflow": null,
      "overflow_x": null,
      "overflow_y": null,
      "padding": null,
      "right": null,
      "top": null,
      "visibility": null,
      "width": null
     }
    },
    "2386b319a92447328674d9067b28c56f": {
     "model_module": "@jupyter-widgets/controls",
     "model_name": "DescriptionStyleModel",
     "state": {
      "_model_module": "@jupyter-widgets/controls",
      "_model_module_version": "1.5.0",
      "_model_name": "DescriptionStyleModel",
      "_view_count": null,
      "_view_module": "@jupyter-widgets/base",
      "_view_module_version": "1.2.0",
      "_view_name": "StyleView",
      "description_width": ""
     }
    },
    "25daec40451c44538e1e5dda09c4c352": {
     "model_module": "@jupyter-widgets/base",
     "model_name": "LayoutModel",
     "state": {
      "_model_module": "@jupyter-widgets/base",
      "_model_module_version": "1.2.0",
      "_model_name": "LayoutModel",
      "_view_count": null,
      "_view_module": "@jupyter-widgets/base",
      "_view_module_version": "1.2.0",
      "_view_name": "LayoutView",
      "align_content": null,
      "align_items": null,
      "align_self": null,
      "border": null,
      "bottom": null,
      "display": null,
      "flex": null,
      "flex_flow": null,
      "grid_area": null,
      "grid_auto_columns": null,
      "grid_auto_flow": null,
      "grid_auto_rows": null,
      "grid_column": null,
      "grid_gap": null,
      "grid_row": null,
      "grid_template_areas": null,
      "grid_template_columns": null,
      "grid_template_rows": null,
      "height": null,
      "justify_content": null,
      "justify_items": null,
      "left": null,
      "margin": null,
      "max_height": null,
      "max_width": null,
      "min_height": null,
      "min_width": null,
      "object_fit": null,
      "object_position": null,
      "order": null,
      "overflow": null,
      "overflow_x": null,
      "overflow_y": null,
      "padding": null,
      "right": null,
      "top": null,
      "visibility": null,
      "width": null
     }
    },
    "2889eb02682141e1a6aaa9489f030900": {
     "model_module": "@jupyter-widgets/controls",
     "model_name": "HBoxModel",
     "state": {
      "_dom_classes": [],
      "_model_module": "@jupyter-widgets/controls",
      "_model_module_version": "1.5.0",
      "_model_name": "HBoxModel",
      "_view_count": null,
      "_view_module": "@jupyter-widgets/controls",
      "_view_module_version": "1.5.0",
      "_view_name": "HBoxView",
      "box_style": "",
      "children": [
       "IPY_MODEL_d76502fd94974c43a14e2595ee57937d",
       "IPY_MODEL_9f8295a42846455298c6eeb9c6b1447c"
      ],
      "layout": "IPY_MODEL_d0a347869f284835886d2758c1daf4de"
     }
    },
    "3879eb52fa9b40f38b3ee521745f2ed9": {
     "model_module": "@jupyter-widgets/base",
     "model_name": "LayoutModel",
     "state": {
      "_model_module": "@jupyter-widgets/base",
      "_model_module_version": "1.2.0",
      "_model_name": "LayoutModel",
      "_view_count": null,
      "_view_module": "@jupyter-widgets/base",
      "_view_module_version": "1.2.0",
      "_view_name": "LayoutView",
      "align_content": null,
      "align_items": null,
      "align_self": null,
      "border": null,
      "bottom": null,
      "display": null,
      "flex": null,
      "flex_flow": null,
      "grid_area": null,
      "grid_auto_columns": null,
      "grid_auto_flow": null,
      "grid_auto_rows": null,
      "grid_column": null,
      "grid_gap": null,
      "grid_row": null,
      "grid_template_areas": null,
      "grid_template_columns": null,
      "grid_template_rows": null,
      "height": null,
      "justify_content": null,
      "justify_items": null,
      "left": null,
      "margin": null,
      "max_height": null,
      "max_width": null,
      "min_height": null,
      "min_width": null,
      "object_fit": null,
      "object_position": null,
      "order": null,
      "overflow": null,
      "overflow_x": null,
      "overflow_y": null,
      "padding": null,
      "right": null,
      "top": null,
      "visibility": null,
      "width": null
     }
    },
    "4b768a0d73c64507965d837b1ab121ef": {
     "model_module": "@jupyter-widgets/controls",
     "model_name": "HBoxModel",
     "state": {
      "_dom_classes": [],
      "_model_module": "@jupyter-widgets/controls",
      "_model_module_version": "1.5.0",
      "_model_name": "HBoxModel",
      "_view_count": null,
      "_view_module": "@jupyter-widgets/controls",
      "_view_module_version": "1.5.0",
      "_view_name": "HBoxView",
      "box_style": "",
      "children": [
       "IPY_MODEL_aac558f593f54b3cbc3049ca8e9b0cfb",
       "IPY_MODEL_6c14b56b59e742dc87c6982b36b90d49"
      ],
      "layout": "IPY_MODEL_61111773208c490b970a9ee450ca9cbf"
     }
    },
    "542ade372b2841e292a9ea4f8b0bda4f": {
     "model_module": "@jupyter-widgets/base",
     "model_name": "LayoutModel",
     "state": {
      "_model_module": "@jupyter-widgets/base",
      "_model_module_version": "1.2.0",
      "_model_name": "LayoutModel",
      "_view_count": null,
      "_view_module": "@jupyter-widgets/base",
      "_view_module_version": "1.2.0",
      "_view_name": "LayoutView",
      "align_content": null,
      "align_items": null,
      "align_self": null,
      "border": null,
      "bottom": null,
      "display": null,
      "flex": null,
      "flex_flow": null,
      "grid_area": null,
      "grid_auto_columns": null,
      "grid_auto_flow": null,
      "grid_auto_rows": null,
      "grid_column": null,
      "grid_gap": null,
      "grid_row": null,
      "grid_template_areas": null,
      "grid_template_columns": null,
      "grid_template_rows": null,
      "height": null,
      "justify_content": null,
      "justify_items": null,
      "left": null,
      "margin": null,
      "max_height": null,
      "max_width": null,
      "min_height": null,
      "min_width": null,
      "object_fit": null,
      "object_position": null,
      "order": null,
      "overflow": null,
      "overflow_x": null,
      "overflow_y": null,
      "padding": null,
      "right": null,
      "top": null,
      "visibility": null,
      "width": null
     }
    },
    "61111773208c490b970a9ee450ca9cbf": {
     "model_module": "@jupyter-widgets/base",
     "model_name": "LayoutModel",
     "state": {
      "_model_module": "@jupyter-widgets/base",
      "_model_module_version": "1.2.0",
      "_model_name": "LayoutModel",
      "_view_count": null,
      "_view_module": "@jupyter-widgets/base",
      "_view_module_version": "1.2.0",
      "_view_name": "LayoutView",
      "align_content": null,
      "align_items": null,
      "align_self": null,
      "border": null,
      "bottom": null,
      "display": null,
      "flex": null,
      "flex_flow": null,
      "grid_area": null,
      "grid_auto_columns": null,
      "grid_auto_flow": null,
      "grid_auto_rows": null,
      "grid_column": null,
      "grid_gap": null,
      "grid_row": null,
      "grid_template_areas": null,
      "grid_template_columns": null,
      "grid_template_rows": null,
      "height": null,
      "justify_content": null,
      "justify_items": null,
      "left": null,
      "margin": null,
      "max_height": null,
      "max_width": null,
      "min_height": null,
      "min_width": null,
      "object_fit": null,
      "object_position": null,
      "order": null,
      "overflow": null,
      "overflow_x": null,
      "overflow_y": null,
      "padding": null,
      "right": null,
      "top": null,
      "visibility": null,
      "width": null
     }
    },
    "6c14b56b59e742dc87c6982b36b90d49": {
     "model_module": "@jupyter-widgets/controls",
     "model_name": "HTMLModel",
     "state": {
      "_dom_classes": [],
      "_model_module": "@jupyter-widgets/controls",
      "_model_module_version": "1.5.0",
      "_model_name": "HTMLModel",
      "_view_count": null,
      "_view_module": "@jupyter-widgets/controls",
      "_view_module_version": "1.5.0",
      "_view_name": "HTMLView",
      "description": "",
      "description_tooltip": null,
      "layout": "IPY_MODEL_ca07291da28d41b5b47ecb55f50ffa63",
      "placeholder": "​",
      "style": "IPY_MODEL_2386b319a92447328674d9067b28c56f",
      "value": " 0/? [00:00&lt;?, ?it/s]"
     }
    },
    "9f8295a42846455298c6eeb9c6b1447c": {
     "model_module": "@jupyter-widgets/controls",
     "model_name": "HTMLModel",
     "state": {
      "_dom_classes": [],
      "_model_module": "@jupyter-widgets/controls",
      "_model_module_version": "1.5.0",
      "_model_name": "HTMLModel",
      "_view_count": null,
      "_view_module": "@jupyter-widgets/controls",
      "_view_module_version": "1.5.0",
      "_view_name": "HTMLView",
      "description": "",
      "description_tooltip": null,
      "layout": "IPY_MODEL_1f7ca0df0861479b904868245b6ed43c",
      "placeholder": "​",
      "style": "IPY_MODEL_fcd5959bf1a246a5a3aef748b896e797",
      "value": " 0/? [00:00&lt;?, ?it/s]"
     }
    },
    "a100fa38e05e400a888567d6e84a0a49": {
     "model_module": "@jupyter-widgets/controls",
     "model_name": "DescriptionStyleModel",
     "state": {
      "_model_module": "@jupyter-widgets/controls",
      "_model_module_version": "1.5.0",
      "_model_name": "DescriptionStyleModel",
      "_view_count": null,
      "_view_module": "@jupyter-widgets/base",
      "_view_module_version": "1.2.0",
      "_view_name": "StyleView",
      "description_width": ""
     }
    },
    "a7c3eb759b104116b97d5049ac7a26a8": {
     "model_module": "@jupyter-widgets/controls",
     "model_name": "HBoxModel",
     "state": {
      "_dom_classes": [],
      "_model_module": "@jupyter-widgets/controls",
      "_model_module_version": "1.5.0",
      "_model_name": "HBoxModel",
      "_view_count": null,
      "_view_module": "@jupyter-widgets/controls",
      "_view_module_version": "1.5.0",
      "_view_name": "HBoxView",
      "box_style": "",
      "children": [
       "IPY_MODEL_0e96bf2763624c22a05a9804af118616",
       "IPY_MODEL_db36edfe535840d1a5f6d6ea3f3d71d1"
      ],
      "layout": "IPY_MODEL_eb3f181b7e3d4d1dad440f02fe358f30"
     }
    },
    "aac558f593f54b3cbc3049ca8e9b0cfb": {
     "model_module": "@jupyter-widgets/controls",
     "model_name": "FloatProgressModel",
     "state": {
      "_dom_classes": [],
      "_model_module": "@jupyter-widgets/controls",
      "_model_module_version": "1.5.0",
      "_model_name": "FloatProgressModel",
      "_view_count": null,
      "_view_module": "@jupyter-widgets/controls",
      "_view_module_version": "1.5.0",
      "_view_name": "ProgressView",
      "bar_style": "info",
      "description": "",
      "description_tooltip": null,
      "layout": "IPY_MODEL_3879eb52fa9b40f38b3ee521745f2ed9",
      "max": 1,
      "min": 0,
      "orientation": "horizontal",
      "style": "IPY_MODEL_d4b1a751884745c5a8700f24dd4e3f28",
      "value": 0
     }
    },
    "af9791ff555148baac7ee0e8ecbddd9e": {
     "model_module": "@jupyter-widgets/controls",
     "model_name": "FloatProgressModel",
     "state": {
      "_dom_classes": [],
      "_model_module": "@jupyter-widgets/controls",
      "_model_module_version": "1.5.0",
      "_model_name": "FloatProgressModel",
      "_view_count": null,
      "_view_module": "@jupyter-widgets/controls",
      "_view_module_version": "1.5.0",
      "_view_name": "ProgressView",
      "bar_style": "info",
      "description": "",
      "description_tooltip": null,
      "layout": "IPY_MODEL_13ac9b9c9a4f4490b6d2e4dad83d8b8a",
      "max": 1,
      "min": 0,
      "orientation": "horizontal",
      "style": "IPY_MODEL_d9953a472c15484a9aeaccb888d93094",
      "value": 1
     }
    },
    "b9d4e866abb54ae09bc2978cf52affa6": {
     "model_module": "@jupyter-widgets/controls",
     "model_name": "ProgressStyleModel",
     "state": {
      "_model_module": "@jupyter-widgets/controls",
      "_model_module_version": "1.5.0",
      "_model_name": "ProgressStyleModel",
      "_view_count": null,
      "_view_module": "@jupyter-widgets/base",
      "_view_module_version": "1.2.0",
      "_view_name": "StyleView",
      "bar_color": null,
      "description_width": "initial"
     }
    },
    "ca07291da28d41b5b47ecb55f50ffa63": {
     "model_module": "@jupyter-widgets/base",
     "model_name": "LayoutModel",
     "state": {
      "_model_module": "@jupyter-widgets/base",
      "_model_module_version": "1.2.0",
      "_model_name": "LayoutModel",
      "_view_count": null,
      "_view_module": "@jupyter-widgets/base",
      "_view_module_version": "1.2.0",
      "_view_name": "LayoutView",
      "align_content": null,
      "align_items": null,
      "align_self": null,
      "border": null,
      "bottom": null,
      "display": null,
      "flex": null,
      "flex_flow": null,
      "grid_area": null,
      "grid_auto_columns": null,
      "grid_auto_flow": null,
      "grid_auto_rows": null,
      "grid_column": null,
      "grid_gap": null,
      "grid_row": null,
      "grid_template_areas": null,
      "grid_template_columns": null,
      "grid_template_rows": null,
      "height": null,
      "justify_content": null,
      "justify_items": null,
      "left": null,
      "margin": null,
      "max_height": null,
      "max_width": null,
      "min_height": null,
      "min_width": null,
      "object_fit": null,
      "object_position": null,
      "order": null,
      "overflow": null,
      "overflow_x": null,
      "overflow_y": null,
      "padding": null,
      "right": null,
      "top": null,
      "visibility": null,
      "width": null
     }
    },
    "d0a347869f284835886d2758c1daf4de": {
     "model_module": "@jupyter-widgets/base",
     "model_name": "LayoutModel",
     "state": {
      "_model_module": "@jupyter-widgets/base",
      "_model_module_version": "1.2.0",
      "_model_name": "LayoutModel",
      "_view_count": null,
      "_view_module": "@jupyter-widgets/base",
      "_view_module_version": "1.2.0",
      "_view_name": "LayoutView",
      "align_content": null,
      "align_items": null,
      "align_self": null,
      "border": null,
      "bottom": null,
      "display": null,
      "flex": null,
      "flex_flow": null,
      "grid_area": null,
      "grid_auto_columns": null,
      "grid_auto_flow": null,
      "grid_auto_rows": null,
      "grid_column": null,
      "grid_gap": null,
      "grid_row": null,
      "grid_template_areas": null,
      "grid_template_columns": null,
      "grid_template_rows": null,
      "height": null,
      "justify_content": null,
      "justify_items": null,
      "left": null,
      "margin": null,
      "max_height": null,
      "max_width": null,
      "min_height": null,
      "min_width": null,
      "object_fit": null,
      "object_position": null,
      "order": null,
      "overflow": null,
      "overflow_x": null,
      "overflow_y": null,
      "padding": null,
      "right": null,
      "top": null,
      "visibility": null,
      "width": null
     }
    },
    "d4b1a751884745c5a8700f24dd4e3f28": {
     "model_module": "@jupyter-widgets/controls",
     "model_name": "ProgressStyleModel",
     "state": {
      "_model_module": "@jupyter-widgets/controls",
      "_model_module_version": "1.5.0",
      "_model_name": "ProgressStyleModel",
      "_view_count": null,
      "_view_module": "@jupyter-widgets/base",
      "_view_module_version": "1.2.0",
      "_view_name": "StyleView",
      "bar_color": null,
      "description_width": "initial"
     }
    },
    "d6073eb318514d5994ef212c7b9abfdc": {
     "model_module": "@jupyter-widgets/controls",
     "model_name": "HTMLModel",
     "state": {
      "_dom_classes": [],
      "_model_module": "@jupyter-widgets/controls",
      "_model_module_version": "1.5.0",
      "_model_name": "HTMLModel",
      "_view_count": null,
      "_view_module": "@jupyter-widgets/controls",
      "_view_module_version": "1.5.0",
      "_view_name": "HTMLView",
      "description": "",
      "description_tooltip": null,
      "layout": "IPY_MODEL_feaa4d188b044f369859a8d12145acd8",
      "placeholder": "​",
      "style": "IPY_MODEL_a100fa38e05e400a888567d6e84a0a49",
      "value": " 1654784/? [00:19&lt;00:00, 140141.16it/s]"
     }
    },
    "d76502fd94974c43a14e2595ee57937d": {
     "model_module": "@jupyter-widgets/controls",
     "model_name": "FloatProgressModel",
     "state": {
      "_dom_classes": [],
      "_model_module": "@jupyter-widgets/controls",
      "_model_module_version": "1.5.0",
      "_model_name": "FloatProgressModel",
      "_view_count": null,
      "_view_module": "@jupyter-widgets/controls",
      "_view_module_version": "1.5.0",
      "_view_name": "ProgressView",
      "bar_style": "info",
      "description": "",
      "description_tooltip": null,
      "layout": "IPY_MODEL_25daec40451c44538e1e5dda09c4c352",
      "max": 1,
      "min": 0,
      "orientation": "horizontal",
      "style": "IPY_MODEL_b9d4e866abb54ae09bc2978cf52affa6",
      "value": 0
     }
    },
    "d7fac056c76e4ae7bceef35b18a8c984": {
     "model_module": "@jupyter-widgets/controls",
     "model_name": "HBoxModel",
     "state": {
      "_dom_classes": [],
      "_model_module": "@jupyter-widgets/controls",
      "_model_module_version": "1.5.0",
      "_model_name": "HBoxModel",
      "_view_count": null,
      "_view_module": "@jupyter-widgets/controls",
      "_view_module_version": "1.5.0",
      "_view_name": "HBoxView",
      "box_style": "",
      "children": [
       "IPY_MODEL_af9791ff555148baac7ee0e8ecbddd9e",
       "IPY_MODEL_d6073eb318514d5994ef212c7b9abfdc"
      ],
      "layout": "IPY_MODEL_dd0ba424e8864d2da4f9bbbbb28a5509"
     }
    },
    "d9953a472c15484a9aeaccb888d93094": {
     "model_module": "@jupyter-widgets/controls",
     "model_name": "ProgressStyleModel",
     "state": {
      "_model_module": "@jupyter-widgets/controls",
      "_model_module_version": "1.5.0",
      "_model_name": "ProgressStyleModel",
      "_view_count": null,
      "_view_module": "@jupyter-widgets/base",
      "_view_module_version": "1.2.0",
      "_view_name": "StyleView",
      "bar_color": null,
      "description_width": "initial"
     }
    },
    "db36edfe535840d1a5f6d6ea3f3d71d1": {
     "model_module": "@jupyter-widgets/controls",
     "model_name": "HTMLModel",
     "state": {
      "_dom_classes": [],
      "_model_module": "@jupyter-widgets/controls",
      "_model_module_version": "1.5.0",
      "_model_name": "HTMLModel",
      "_view_count": null,
      "_view_module": "@jupyter-widgets/controls",
      "_view_module_version": "1.5.0",
      "_view_name": "HTMLView",
      "description": "",
      "description_tooltip": null,
      "layout": "IPY_MODEL_542ade372b2841e292a9ea4f8b0bda4f",
      "placeholder": "​",
      "style": "IPY_MODEL_e2bc7ea270a543fc86085c72a42e58df",
      "value": " 9920512/? [00:00&lt;00:00, 15421877.08it/s]"
     }
    },
    "dd0ba424e8864d2da4f9bbbbb28a5509": {
     "model_module": "@jupyter-widgets/base",
     "model_name": "LayoutModel",
     "state": {
      "_model_module": "@jupyter-widgets/base",
      "_model_module_version": "1.2.0",
      "_model_name": "LayoutModel",
      "_view_count": null,
      "_view_module": "@jupyter-widgets/base",
      "_view_module_version": "1.2.0",
      "_view_name": "LayoutView",
      "align_content": null,
      "align_items": null,
      "align_self": null,
      "border": null,
      "bottom": null,
      "display": null,
      "flex": null,
      "flex_flow": null,
      "grid_area": null,
      "grid_auto_columns": null,
      "grid_auto_flow": null,
      "grid_auto_rows": null,
      "grid_column": null,
      "grid_gap": null,
      "grid_row": null,
      "grid_template_areas": null,
      "grid_template_columns": null,
      "grid_template_rows": null,
      "height": null,
      "justify_content": null,
      "justify_items": null,
      "left": null,
      "margin": null,
      "max_height": null,
      "max_width": null,
      "min_height": null,
      "min_width": null,
      "object_fit": null,
      "object_position": null,
      "order": null,
      "overflow": null,
      "overflow_x": null,
      "overflow_y": null,
      "padding": null,
      "right": null,
      "top": null,
      "visibility": null,
      "width": null
     }
    },
    "e2bc7ea270a543fc86085c72a42e58df": {
     "model_module": "@jupyter-widgets/controls",
     "model_name": "DescriptionStyleModel",
     "state": {
      "_model_module": "@jupyter-widgets/controls",
      "_model_module_version": "1.5.0",
      "_model_name": "DescriptionStyleModel",
      "_view_count": null,
      "_view_module": "@jupyter-widgets/base",
      "_view_module_version": "1.2.0",
      "_view_name": "StyleView",
      "description_width": ""
     }
    },
    "eb3f181b7e3d4d1dad440f02fe358f30": {
     "model_module": "@jupyter-widgets/base",
     "model_name": "LayoutModel",
     "state": {
      "_model_module": "@jupyter-widgets/base",
      "_model_module_version": "1.2.0",
      "_model_name": "LayoutModel",
      "_view_count": null,
      "_view_module": "@jupyter-widgets/base",
      "_view_module_version": "1.2.0",
      "_view_name": "LayoutView",
      "align_content": null,
      "align_items": null,
      "align_self": null,
      "border": null,
      "bottom": null,
      "display": null,
      "flex": null,
      "flex_flow": null,
      "grid_area": null,
      "grid_auto_columns": null,
      "grid_auto_flow": null,
      "grid_auto_rows": null,
      "grid_column": null,
      "grid_gap": null,
      "grid_row": null,
      "grid_template_areas": null,
      "grid_template_columns": null,
      "grid_template_rows": null,
      "height": null,
      "justify_content": null,
      "justify_items": null,
      "left": null,
      "margin": null,
      "max_height": null,
      "max_width": null,
      "min_height": null,
      "min_width": null,
      "object_fit": null,
      "object_position": null,
      "order": null,
      "overflow": null,
      "overflow_x": null,
      "overflow_y": null,
      "padding": null,
      "right": null,
      "top": null,
      "visibility": null,
      "width": null
     }
    },
    "fcd5959bf1a246a5a3aef748b896e797": {
     "model_module": "@jupyter-widgets/controls",
     "model_name": "DescriptionStyleModel",
     "state": {
      "_model_module": "@jupyter-widgets/controls",
      "_model_module_version": "1.5.0",
      "_model_name": "DescriptionStyleModel",
      "_view_count": null,
      "_view_module": "@jupyter-widgets/base",
      "_view_module_version": "1.2.0",
      "_view_name": "StyleView",
      "description_width": ""
     }
    },
    "feaa4d188b044f369859a8d12145acd8": {
     "model_module": "@jupyter-widgets/base",
     "model_name": "LayoutModel",
     "state": {
      "_model_module": "@jupyter-widgets/base",
      "_model_module_version": "1.2.0",
      "_model_name": "LayoutModel",
      "_view_count": null,
      "_view_module": "@jupyter-widgets/base",
      "_view_module_version": "1.2.0",
      "_view_name": "LayoutView",
      "align_content": null,
      "align_items": null,
      "align_self": null,
      "border": null,
      "bottom": null,
      "display": null,
      "flex": null,
      "flex_flow": null,
      "grid_area": null,
      "grid_auto_columns": null,
      "grid_auto_flow": null,
      "grid_auto_rows": null,
      "grid_column": null,
      "grid_gap": null,
      "grid_row": null,
      "grid_template_areas": null,
      "grid_template_columns": null,
      "grid_template_rows": null,
      "height": null,
      "justify_content": null,
      "justify_items": null,
      "left": null,
      "margin": null,
      "max_height": null,
      "max_width": null,
      "min_height": null,
      "min_width": null,
      "object_fit": null,
      "object_position": null,
      "order": null,
      "overflow": null,
      "overflow_x": null,
      "overflow_y": null,
      "padding": null,
      "right": null,
      "top": null,
      "visibility": null,
      "width": null
     }
    }
   }
  }
 },
 "nbformat": 4,
 "nbformat_minor": 1
}
