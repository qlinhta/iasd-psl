{
 "cells": [
  {
   "cell_type": "markdown",
   "source": [
    "# Advanced Database (Non-classic)\n",
    "\n",
    "Date: September 26, 2023"
   ],
   "metadata": {
    "collapsed": false
   },
   "id": "377f4e0e59124eda"
  },
  {
   "cell_type": "code",
   "execution_count": 1,
   "id": "initial_id",
   "metadata": {
    "collapsed": true,
    "ExecuteTime": {
     "end_time": "2023-09-26T08:58:47.844564Z",
     "start_time": "2023-09-26T08:58:47.318891Z"
    }
   },
   "outputs": [],
   "source": [
    "import numpy as np\n",
    "import matplotlib.pyplot as plt\n",
    "plt.style.use('default')\n",
    "plt.rc('text', usetex=True)\n",
    "plt.rc('font', family='serif')\n",
    "plt.rc('font', size=18)\n",
    "plt.rc('axes', titlesize=18)\n",
    "plt.rc('axes', labelsize=18)\n",
    "plt.rc('xtick', labelsize=18)\n",
    "plt.rc('ytick', labelsize=18)\n",
    "plt.rc('legend', fontsize=18)\n",
    "plt.rc('lines', markersize=10)"
   ]
  },
  {
   "cell_type": "markdown",
   "source": [
    "#### CAP Theorem\n",
    "- Consistency: All nodes see the same data at the same time.\n",
    "- Availability: Every request receives a response about whether it succeeded or failed.\n",
    "- Partition Tolerance: The system continues to operate despite arbitrary message loss or failure of part of the system.\n",
    "\n",
    "CAP theorem: At most two of the three properties can be guaranteed at the same time. It is almost impossible to achieve all three properties at the same time because of the network latency and the network partition, these factors will cause the system to be unavailable or inconsistent.\n",
    "\n",
    "System AP is suitable for the system that requires high availability and partition tolerance, but the consistency is not so important. For example, the system that provides the real-time data, such as the stock price, the weather, the traffic, etc.\n",
    "\n",
    "System CP is suitable for the system that requires high consistency and partition tolerance, but the availability is not so important. For example, the system that provides the data that is not so real-time, such as the user profile, the user's purchase history, etc.\n",
    "\n",
    "System CA is suitable for the system that requires high consistency and availability, but the partition tolerance is not so important."
   ],
   "metadata": {
    "collapsed": false
   },
   "id": "701855a300638c23"
  },
  {
   "cell_type": "code",
   "execution_count": 16,
   "outputs": [],
   "source": [
    "import json\n",
    "from sklearn.datasets import load_iris\n",
    "\n",
    "iris = load_iris()\n",
    "data = iris.data\n",
    "target = iris.target\n",
    "feature_names = iris.feature_names\n",
    "target_names = iris.target_names\n",
    "\n",
    "data = np.concatenate((data, target.reshape(-1, 1)), axis=1)\n",
    "data = data.tolist()\n",
    "data = [dict(zip(feature_names + ['target'], d)) for d in data]\n",
    "data = json.dumps(data)"
   ],
   "metadata": {
    "collapsed": false,
    "ExecuteTime": {
     "end_time": "2023-09-26T09:39:10.282070Z",
     "start_time": "2023-09-26T09:39:10.277321Z"
    }
   },
   "id": "42fac61492b42edd"
  },
  {
   "cell_type": "code",
   "execution_count": 17,
   "outputs": [],
   "source": [
    "# Write to json file\n",
    "with open('iris.json', 'w') as f:\n",
    "    f.write(data)"
   ],
   "metadata": {
    "collapsed": false,
    "ExecuteTime": {
     "end_time": "2023-09-26T09:39:10.434130Z",
     "start_time": "2023-09-26T09:39:10.431590Z"
    }
   },
   "id": "d8032a3ff8c64bfe"
  },
  {
   "cell_type": "code",
   "execution_count": null,
   "outputs": [],
   "source": [],
   "metadata": {
    "collapsed": false
   },
   "id": "5edc92a8ff184854"
  }
 ],
 "metadata": {
  "kernelspec": {
   "display_name": "Python 3",
   "language": "python",
   "name": "python3"
  },
  "language_info": {
   "codemirror_mode": {
    "name": "ipython",
    "version": 2
   },
   "file_extension": ".py",
   "mimetype": "text/x-python",
   "name": "python",
   "nbconvert_exporter": "python",
   "pygments_lexer": "ipython2",
   "version": "2.7.6"
  }
 },
 "nbformat": 4,
 "nbformat_minor": 5
}
