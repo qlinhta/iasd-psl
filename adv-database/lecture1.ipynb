{
 "cells": [
  {
   "cell_type": "markdown",
   "source": [
    "# Advanced Database (Non-classic)\n",
    "\n",
    "Date: September 26, 2023"
   ],
   "metadata": {
    "collapsed": false
   },
   "id": "377f4e0e59124eda"
  },
  {
   "cell_type": "code",
   "execution_count": 2,
   "id": "initial_id",
   "metadata": {
    "collapsed": true,
    "ExecuteTime": {
     "end_time": "2023-09-26T07:44:46.748960Z",
     "start_time": "2023-09-26T07:44:46.745380Z"
    }
   },
   "outputs": [],
   "source": [
    "import numpy as np\n",
    "import matplotlib.pyplot as plt\n",
    "plt.style.use('default')\n",
    "plt.rc('text', usetex=True)\n",
    "plt.rc('font', family='serif')\n",
    "plt.rc('font', size=18)\n",
    "plt.rc('axes', titlesize=18)\n",
    "plt.rc('axes', labelsize=18)\n",
    "plt.rc('xtick', labelsize=18)\n",
    "plt.rc('ytick', labelsize=18)\n",
    "plt.rc('legend', fontsize=18)\n",
    "plt.rc('lines', markersize=10)"
   ]
  },
  {
   "cell_type": "markdown",
   "source": [
    "#### CAP Theorem\n",
    "- Consistency: All nodes see the same data at the same time.\n",
    "- Availability: Every request receives a response about whether it succeeded or failed.\n",
    "- Partition Tolerance: The system continues to operate despite arbitrary message loss or failure of part of the system.\n",
    "\n",
    "CAP theorem: At most two of the three properties can be guaranteed at the same time. It is almost impossible to achieve all three properties at the same time because of the network latency and the network partition, these factors will cause the system to be unavailable or inconsistent.\n",
    "\n",
    "System AP is suitable for the system that requires high availability and partition tolerance, but the consistency is not so important. For example, the system that provides the real-time data, such as the stock price, the weather, the traffic, etc.\n",
    "\n",
    "System CP is suitable for the system that requires high consistency and partition tolerance, but the availability is not so important. For example, the system that provides the data that is not so real-time, such as the user profile, the user's purchase history, etc.\n",
    "\n",
    "System CA is suitable for the system that requires high consistency and availability, but the partition tolerance is not so important."
   ],
   "metadata": {
    "collapsed": false
   },
   "id": "701855a300638c23"
  },
  {
   "cell_type": "code",
   "execution_count": 2,
   "outputs": [],
   "source": [],
   "metadata": {
    "collapsed": false,
    "ExecuteTime": {
     "end_time": "2023-09-26T07:44:46.756729Z",
     "start_time": "2023-09-26T07:44:46.754507Z"
    }
   },
   "id": "42fac61492b42edd"
  }
 ],
 "metadata": {
  "kernelspec": {
   "display_name": "Python 3",
   "language": "python",
   "name": "python3"
  },
  "language_info": {
   "codemirror_mode": {
    "name": "ipython",
    "version": 2
   },
   "file_extension": ".py",
   "mimetype": "text/x-python",
   "name": "python",
   "nbconvert_exporter": "python",
   "pygments_lexer": "ipython2",
   "version": "2.7.6"
  }
 },
 "nbformat": 4,
 "nbformat_minor": 5
}
