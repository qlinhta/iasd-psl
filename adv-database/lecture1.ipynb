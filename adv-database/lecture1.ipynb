{
 "cells": [
  {
   "cell_type": "markdown",
   "source": [
    "# Advanced Database (Non-classic)\n",
    "\n",
    "Date: September 26, 2023"
   ],
   "metadata": {
    "collapsed": false
   },
   "id": "377f4e0e59124eda"
  },
  {
   "cell_type": "code",
   "execution_count": 1,
   "id": "initial_id",
   "metadata": {
    "collapsed": true,
    "ExecuteTime": {
     "end_time": "2023-09-26T08:58:47.844564Z",
     "start_time": "2023-09-26T08:58:47.318891Z"
    }
   },
   "outputs": [],
   "source": [
    "import numpy as np\n",
    "import matplotlib.pyplot as plt\n",
    "plt.style.use('default')\n",
    "plt.rc('text', usetex=True)\n",
    "plt.rc('font', family='serif')\n",
    "plt.rc('font', size=18)\n",
    "plt.rc('axes', titlesize=18)\n",
    "plt.rc('axes', labelsize=18)\n",
    "plt.rc('xtick', labelsize=18)\n",
    "plt.rc('ytick', labelsize=18)\n",
    "plt.rc('legend', fontsize=18)\n",
    "plt.rc('lines', markersize=10)"
   ]
  },
  {
   "cell_type": "markdown",
   "source": [
    "#### CAP Theorem\n",
    "- Consistency: All nodes see the same data at the same time.\n",
    "- Availability: Every request receives a response about whether it succeeded or failed.\n",
    "- Partition Tolerance: The system continues to operate despite arbitrary message loss or failure of part of the system.\n",
    "\n",
    "CAP theorem: At most two of the three properties can be guaranteed at the same time. It is almost impossible to achieve all three properties at the same time because of the network latency and the network partition, these factors will cause the system to be unavailable or inconsistent.\n",
    "\n",
    "System AP is suitable for the system that requires high availability and partition tolerance, but the consistency is not so important. For example, the system that provides the real-time data, such as the stock price, the weather, the traffic, etc.\n",
    "\n",
    "System CP is suitable for the system that requires high consistency and partition tolerance, but the availability is not so important. For example, the system that provides the data that is not so real-time, such as the user profile, the user's purchase history, etc.\n",
    "\n",
    "System CA is suitable for the system that requires high consistency and availability, but the partition tolerance is not so important."
   ],
   "metadata": {
    "collapsed": false
   },
   "id": "701855a300638c23"
  },
  {
   "cell_type": "code",
   "execution_count": 16,
   "outputs": [],
   "source": [
    "import json\n",
    "from sklearn.datasets import load_iris\n",
    "\n",
    "iris = load_iris()\n",
    "data = iris.data\n",
    "target = iris.target\n",
    "feature_names = iris.feature_names\n",
    "target_names = iris.target_names\n",
    "\n",
    "data = np.concatenate((data, target.reshape(-1, 1)), axis=1)\n",
    "data = data.tolist()\n",
    "data = [dict(zip(feature_names + ['target'], d)) for d in data]\n",
    "data = json.dumps(data)"
   ],
   "metadata": {
    "collapsed": false,
    "ExecuteTime": {
     "end_time": "2023-09-26T09:39:10.282070Z",
     "start_time": "2023-09-26T09:39:10.277321Z"
    }
   },
   "id": "42fac61492b42edd"
  },
  {
   "cell_type": "code",
   "execution_count": 18,
   "outputs": [],
   "source": [
    "# Write to json file\n",
    "with open('iris.json', 'w') as f:\n",
    "    f.write(data)"
   ],
   "metadata": {
    "collapsed": false,
    "ExecuteTime": {
     "end_time": "2023-09-26T09:41:24.656767Z",
     "start_time": "2023-09-26T09:41:24.654084Z"
    }
   },
   "id": "d8032a3ff8c64bfe"
  },
  {
   "cell_type": "code",
   "execution_count": 19,
   "outputs": [],
   "source": [
    "# Read from json file\n",
    "with open('iris.json', 'r') as f:\n",
    "    data = json.load(f)"
   ],
   "metadata": {
    "collapsed": false,
    "ExecuteTime": {
     "end_time": "2023-09-26T09:41:32.471260Z",
     "start_time": "2023-09-26T09:41:32.460416Z"
    }
   },
   "id": "5edc92a8ff184854"
  },
  {
   "cell_type": "code",
   "execution_count": 20,
   "outputs": [
    {
     "data": {
      "text/plain": "[{'sepal length (cm)': 5.1,\n  'sepal width (cm)': 3.5,\n  'petal length (cm)': 1.4,\n  'petal width (cm)': 0.2,\n  'target': 0.0},\n {'sepal length (cm)': 4.9,\n  'sepal width (cm)': 3.0,\n  'petal length (cm)': 1.4,\n  'petal width (cm)': 0.2,\n  'target': 0.0},\n {'sepal length (cm)': 4.7,\n  'sepal width (cm)': 3.2,\n  'petal length (cm)': 1.3,\n  'petal width (cm)': 0.2,\n  'target': 0.0},\n {'sepal length (cm)': 4.6,\n  'sepal width (cm)': 3.1,\n  'petal length (cm)': 1.5,\n  'petal width (cm)': 0.2,\n  'target': 0.0},\n {'sepal length (cm)': 5.0,\n  'sepal width (cm)': 3.6,\n  'petal length (cm)': 1.4,\n  'petal width (cm)': 0.2,\n  'target': 0.0},\n {'sepal length (cm)': 5.4,\n  'sepal width (cm)': 3.9,\n  'petal length (cm)': 1.7,\n  'petal width (cm)': 0.4,\n  'target': 0.0},\n {'sepal length (cm)': 4.6,\n  'sepal width (cm)': 3.4,\n  'petal length (cm)': 1.4,\n  'petal width (cm)': 0.3,\n  'target': 0.0},\n {'sepal length (cm)': 5.0,\n  'sepal width (cm)': 3.4,\n  'petal length (cm)': 1.5,\n  'petal width (cm)': 0.2,\n  'target': 0.0},\n {'sepal length (cm)': 4.4,\n  'sepal width (cm)': 2.9,\n  'petal length (cm)': 1.4,\n  'petal width (cm)': 0.2,\n  'target': 0.0},\n {'sepal length (cm)': 4.9,\n  'sepal width (cm)': 3.1,\n  'petal length (cm)': 1.5,\n  'petal width (cm)': 0.1,\n  'target': 0.0},\n {'sepal length (cm)': 5.4,\n  'sepal width (cm)': 3.7,\n  'petal length (cm)': 1.5,\n  'petal width (cm)': 0.2,\n  'target': 0.0},\n {'sepal length (cm)': 4.8,\n  'sepal width (cm)': 3.4,\n  'petal length (cm)': 1.6,\n  'petal width (cm)': 0.2,\n  'target': 0.0},\n {'sepal length (cm)': 4.8,\n  'sepal width (cm)': 3.0,\n  'petal length (cm)': 1.4,\n  'petal width (cm)': 0.1,\n  'target': 0.0},\n {'sepal length (cm)': 4.3,\n  'sepal width (cm)': 3.0,\n  'petal length (cm)': 1.1,\n  'petal width (cm)': 0.1,\n  'target': 0.0},\n {'sepal length (cm)': 5.8,\n  'sepal width (cm)': 4.0,\n  'petal length (cm)': 1.2,\n  'petal width (cm)': 0.2,\n  'target': 0.0},\n {'sepal length (cm)': 5.7,\n  'sepal width (cm)': 4.4,\n  'petal length (cm)': 1.5,\n  'petal width (cm)': 0.4,\n  'target': 0.0},\n {'sepal length (cm)': 5.4,\n  'sepal width (cm)': 3.9,\n  'petal length (cm)': 1.3,\n  'petal width (cm)': 0.4,\n  'target': 0.0},\n {'sepal length (cm)': 5.1,\n  'sepal width (cm)': 3.5,\n  'petal length (cm)': 1.4,\n  'petal width (cm)': 0.3,\n  'target': 0.0},\n {'sepal length (cm)': 5.7,\n  'sepal width (cm)': 3.8,\n  'petal length (cm)': 1.7,\n  'petal width (cm)': 0.3,\n  'target': 0.0},\n {'sepal length (cm)': 5.1,\n  'sepal width (cm)': 3.8,\n  'petal length (cm)': 1.5,\n  'petal width (cm)': 0.3,\n  'target': 0.0},\n {'sepal length (cm)': 5.4,\n  'sepal width (cm)': 3.4,\n  'petal length (cm)': 1.7,\n  'petal width (cm)': 0.2,\n  'target': 0.0},\n {'sepal length (cm)': 5.1,\n  'sepal width (cm)': 3.7,\n  'petal length (cm)': 1.5,\n  'petal width (cm)': 0.4,\n  'target': 0.0},\n {'sepal length (cm)': 4.6,\n  'sepal width (cm)': 3.6,\n  'petal length (cm)': 1.0,\n  'petal width (cm)': 0.2,\n  'target': 0.0},\n {'sepal length (cm)': 5.1,\n  'sepal width (cm)': 3.3,\n  'petal length (cm)': 1.7,\n  'petal width (cm)': 0.5,\n  'target': 0.0},\n {'sepal length (cm)': 4.8,\n  'sepal width (cm)': 3.4,\n  'petal length (cm)': 1.9,\n  'petal width (cm)': 0.2,\n  'target': 0.0},\n {'sepal length (cm)': 5.0,\n  'sepal width (cm)': 3.0,\n  'petal length (cm)': 1.6,\n  'petal width (cm)': 0.2,\n  'target': 0.0},\n {'sepal length (cm)': 5.0,\n  'sepal width (cm)': 3.4,\n  'petal length (cm)': 1.6,\n  'petal width (cm)': 0.4,\n  'target': 0.0},\n {'sepal length (cm)': 5.2,\n  'sepal width (cm)': 3.5,\n  'petal length (cm)': 1.5,\n  'petal width (cm)': 0.2,\n  'target': 0.0},\n {'sepal length (cm)': 5.2,\n  'sepal width (cm)': 3.4,\n  'petal length (cm)': 1.4,\n  'petal width (cm)': 0.2,\n  'target': 0.0},\n {'sepal length (cm)': 4.7,\n  'sepal width (cm)': 3.2,\n  'petal length (cm)': 1.6,\n  'petal width (cm)': 0.2,\n  'target': 0.0},\n {'sepal length (cm)': 4.8,\n  'sepal width (cm)': 3.1,\n  'petal length (cm)': 1.6,\n  'petal width (cm)': 0.2,\n  'target': 0.0},\n {'sepal length (cm)': 5.4,\n  'sepal width (cm)': 3.4,\n  'petal length (cm)': 1.5,\n  'petal width (cm)': 0.4,\n  'target': 0.0},\n {'sepal length (cm)': 5.2,\n  'sepal width (cm)': 4.1,\n  'petal length (cm)': 1.5,\n  'petal width (cm)': 0.1,\n  'target': 0.0},\n {'sepal length (cm)': 5.5,\n  'sepal width (cm)': 4.2,\n  'petal length (cm)': 1.4,\n  'petal width (cm)': 0.2,\n  'target': 0.0},\n {'sepal length (cm)': 4.9,\n  'sepal width (cm)': 3.1,\n  'petal length (cm)': 1.5,\n  'petal width (cm)': 0.2,\n  'target': 0.0},\n {'sepal length (cm)': 5.0,\n  'sepal width (cm)': 3.2,\n  'petal length (cm)': 1.2,\n  'petal width (cm)': 0.2,\n  'target': 0.0},\n {'sepal length (cm)': 5.5,\n  'sepal width (cm)': 3.5,\n  'petal length (cm)': 1.3,\n  'petal width (cm)': 0.2,\n  'target': 0.0},\n {'sepal length (cm)': 4.9,\n  'sepal width (cm)': 3.6,\n  'petal length (cm)': 1.4,\n  'petal width (cm)': 0.1,\n  'target': 0.0},\n {'sepal length (cm)': 4.4,\n  'sepal width (cm)': 3.0,\n  'petal length (cm)': 1.3,\n  'petal width (cm)': 0.2,\n  'target': 0.0},\n {'sepal length (cm)': 5.1,\n  'sepal width (cm)': 3.4,\n  'petal length (cm)': 1.5,\n  'petal width (cm)': 0.2,\n  'target': 0.0},\n {'sepal length (cm)': 5.0,\n  'sepal width (cm)': 3.5,\n  'petal length (cm)': 1.3,\n  'petal width (cm)': 0.3,\n  'target': 0.0},\n {'sepal length (cm)': 4.5,\n  'sepal width (cm)': 2.3,\n  'petal length (cm)': 1.3,\n  'petal width (cm)': 0.3,\n  'target': 0.0},\n {'sepal length (cm)': 4.4,\n  'sepal width (cm)': 3.2,\n  'petal length (cm)': 1.3,\n  'petal width (cm)': 0.2,\n  'target': 0.0},\n {'sepal length (cm)': 5.0,\n  'sepal width (cm)': 3.5,\n  'petal length (cm)': 1.6,\n  'petal width (cm)': 0.6,\n  'target': 0.0},\n {'sepal length (cm)': 5.1,\n  'sepal width (cm)': 3.8,\n  'petal length (cm)': 1.9,\n  'petal width (cm)': 0.4,\n  'target': 0.0},\n {'sepal length (cm)': 4.8,\n  'sepal width (cm)': 3.0,\n  'petal length (cm)': 1.4,\n  'petal width (cm)': 0.3,\n  'target': 0.0},\n {'sepal length (cm)': 5.1,\n  'sepal width (cm)': 3.8,\n  'petal length (cm)': 1.6,\n  'petal width (cm)': 0.2,\n  'target': 0.0},\n {'sepal length (cm)': 4.6,\n  'sepal width (cm)': 3.2,\n  'petal length (cm)': 1.4,\n  'petal width (cm)': 0.2,\n  'target': 0.0},\n {'sepal length (cm)': 5.3,\n  'sepal width (cm)': 3.7,\n  'petal length (cm)': 1.5,\n  'petal width (cm)': 0.2,\n  'target': 0.0},\n {'sepal length (cm)': 5.0,\n  'sepal width (cm)': 3.3,\n  'petal length (cm)': 1.4,\n  'petal width (cm)': 0.2,\n  'target': 0.0},\n {'sepal length (cm)': 7.0,\n  'sepal width (cm)': 3.2,\n  'petal length (cm)': 4.7,\n  'petal width (cm)': 1.4,\n  'target': 1.0},\n {'sepal length (cm)': 6.4,\n  'sepal width (cm)': 3.2,\n  'petal length (cm)': 4.5,\n  'petal width (cm)': 1.5,\n  'target': 1.0},\n {'sepal length (cm)': 6.9,\n  'sepal width (cm)': 3.1,\n  'petal length (cm)': 4.9,\n  'petal width (cm)': 1.5,\n  'target': 1.0},\n {'sepal length (cm)': 5.5,\n  'sepal width (cm)': 2.3,\n  'petal length (cm)': 4.0,\n  'petal width (cm)': 1.3,\n  'target': 1.0},\n {'sepal length (cm)': 6.5,\n  'sepal width (cm)': 2.8,\n  'petal length (cm)': 4.6,\n  'petal width (cm)': 1.5,\n  'target': 1.0},\n {'sepal length (cm)': 5.7,\n  'sepal width (cm)': 2.8,\n  'petal length (cm)': 4.5,\n  'petal width (cm)': 1.3,\n  'target': 1.0},\n {'sepal length (cm)': 6.3,\n  'sepal width (cm)': 3.3,\n  'petal length (cm)': 4.7,\n  'petal width (cm)': 1.6,\n  'target': 1.0},\n {'sepal length (cm)': 4.9,\n  'sepal width (cm)': 2.4,\n  'petal length (cm)': 3.3,\n  'petal width (cm)': 1.0,\n  'target': 1.0},\n {'sepal length (cm)': 6.6,\n  'sepal width (cm)': 2.9,\n  'petal length (cm)': 4.6,\n  'petal width (cm)': 1.3,\n  'target': 1.0},\n {'sepal length (cm)': 5.2,\n  'sepal width (cm)': 2.7,\n  'petal length (cm)': 3.9,\n  'petal width (cm)': 1.4,\n  'target': 1.0},\n {'sepal length (cm)': 5.0,\n  'sepal width (cm)': 2.0,\n  'petal length (cm)': 3.5,\n  'petal width (cm)': 1.0,\n  'target': 1.0},\n {'sepal length (cm)': 5.9,\n  'sepal width (cm)': 3.0,\n  'petal length (cm)': 4.2,\n  'petal width (cm)': 1.5,\n  'target': 1.0},\n {'sepal length (cm)': 6.0,\n  'sepal width (cm)': 2.2,\n  'petal length (cm)': 4.0,\n  'petal width (cm)': 1.0,\n  'target': 1.0},\n {'sepal length (cm)': 6.1,\n  'sepal width (cm)': 2.9,\n  'petal length (cm)': 4.7,\n  'petal width (cm)': 1.4,\n  'target': 1.0},\n {'sepal length (cm)': 5.6,\n  'sepal width (cm)': 2.9,\n  'petal length (cm)': 3.6,\n  'petal width (cm)': 1.3,\n  'target': 1.0},\n {'sepal length (cm)': 6.7,\n  'sepal width (cm)': 3.1,\n  'petal length (cm)': 4.4,\n  'petal width (cm)': 1.4,\n  'target': 1.0},\n {'sepal length (cm)': 5.6,\n  'sepal width (cm)': 3.0,\n  'petal length (cm)': 4.5,\n  'petal width (cm)': 1.5,\n  'target': 1.0},\n {'sepal length (cm)': 5.8,\n  'sepal width (cm)': 2.7,\n  'petal length (cm)': 4.1,\n  'petal width (cm)': 1.0,\n  'target': 1.0},\n {'sepal length (cm)': 6.2,\n  'sepal width (cm)': 2.2,\n  'petal length (cm)': 4.5,\n  'petal width (cm)': 1.5,\n  'target': 1.0},\n {'sepal length (cm)': 5.6,\n  'sepal width (cm)': 2.5,\n  'petal length (cm)': 3.9,\n  'petal width (cm)': 1.1,\n  'target': 1.0},\n {'sepal length (cm)': 5.9,\n  'sepal width (cm)': 3.2,\n  'petal length (cm)': 4.8,\n  'petal width (cm)': 1.8,\n  'target': 1.0},\n {'sepal length (cm)': 6.1,\n  'sepal width (cm)': 2.8,\n  'petal length (cm)': 4.0,\n  'petal width (cm)': 1.3,\n  'target': 1.0},\n {'sepal length (cm)': 6.3,\n  'sepal width (cm)': 2.5,\n  'petal length (cm)': 4.9,\n  'petal width (cm)': 1.5,\n  'target': 1.0},\n {'sepal length (cm)': 6.1,\n  'sepal width (cm)': 2.8,\n  'petal length (cm)': 4.7,\n  'petal width (cm)': 1.2,\n  'target': 1.0},\n {'sepal length (cm)': 6.4,\n  'sepal width (cm)': 2.9,\n  'petal length (cm)': 4.3,\n  'petal width (cm)': 1.3,\n  'target': 1.0},\n {'sepal length (cm)': 6.6,\n  'sepal width (cm)': 3.0,\n  'petal length (cm)': 4.4,\n  'petal width (cm)': 1.4,\n  'target': 1.0},\n {'sepal length (cm)': 6.8,\n  'sepal width (cm)': 2.8,\n  'petal length (cm)': 4.8,\n  'petal width (cm)': 1.4,\n  'target': 1.0},\n {'sepal length (cm)': 6.7,\n  'sepal width (cm)': 3.0,\n  'petal length (cm)': 5.0,\n  'petal width (cm)': 1.7,\n  'target': 1.0},\n {'sepal length (cm)': 6.0,\n  'sepal width (cm)': 2.9,\n  'petal length (cm)': 4.5,\n  'petal width (cm)': 1.5,\n  'target': 1.0},\n {'sepal length (cm)': 5.7,\n  'sepal width (cm)': 2.6,\n  'petal length (cm)': 3.5,\n  'petal width (cm)': 1.0,\n  'target': 1.0},\n {'sepal length (cm)': 5.5,\n  'sepal width (cm)': 2.4,\n  'petal length (cm)': 3.8,\n  'petal width (cm)': 1.1,\n  'target': 1.0},\n {'sepal length (cm)': 5.5,\n  'sepal width (cm)': 2.4,\n  'petal length (cm)': 3.7,\n  'petal width (cm)': 1.0,\n  'target': 1.0},\n {'sepal length (cm)': 5.8,\n  'sepal width (cm)': 2.7,\n  'petal length (cm)': 3.9,\n  'petal width (cm)': 1.2,\n  'target': 1.0},\n {'sepal length (cm)': 6.0,\n  'sepal width (cm)': 2.7,\n  'petal length (cm)': 5.1,\n  'petal width (cm)': 1.6,\n  'target': 1.0},\n {'sepal length (cm)': 5.4,\n  'sepal width (cm)': 3.0,\n  'petal length (cm)': 4.5,\n  'petal width (cm)': 1.5,\n  'target': 1.0},\n {'sepal length (cm)': 6.0,\n  'sepal width (cm)': 3.4,\n  'petal length (cm)': 4.5,\n  'petal width (cm)': 1.6,\n  'target': 1.0},\n {'sepal length (cm)': 6.7,\n  'sepal width (cm)': 3.1,\n  'petal length (cm)': 4.7,\n  'petal width (cm)': 1.5,\n  'target': 1.0},\n {'sepal length (cm)': 6.3,\n  'sepal width (cm)': 2.3,\n  'petal length (cm)': 4.4,\n  'petal width (cm)': 1.3,\n  'target': 1.0},\n {'sepal length (cm)': 5.6,\n  'sepal width (cm)': 3.0,\n  'petal length (cm)': 4.1,\n  'petal width (cm)': 1.3,\n  'target': 1.0},\n {'sepal length (cm)': 5.5,\n  'sepal width (cm)': 2.5,\n  'petal length (cm)': 4.0,\n  'petal width (cm)': 1.3,\n  'target': 1.0},\n {'sepal length (cm)': 5.5,\n  'sepal width (cm)': 2.6,\n  'petal length (cm)': 4.4,\n  'petal width (cm)': 1.2,\n  'target': 1.0},\n {'sepal length (cm)': 6.1,\n  'sepal width (cm)': 3.0,\n  'petal length (cm)': 4.6,\n  'petal width (cm)': 1.4,\n  'target': 1.0},\n {'sepal length (cm)': 5.8,\n  'sepal width (cm)': 2.6,\n  'petal length (cm)': 4.0,\n  'petal width (cm)': 1.2,\n  'target': 1.0},\n {'sepal length (cm)': 5.0,\n  'sepal width (cm)': 2.3,\n  'petal length (cm)': 3.3,\n  'petal width (cm)': 1.0,\n  'target': 1.0},\n {'sepal length (cm)': 5.6,\n  'sepal width (cm)': 2.7,\n  'petal length (cm)': 4.2,\n  'petal width (cm)': 1.3,\n  'target': 1.0},\n {'sepal length (cm)': 5.7,\n  'sepal width (cm)': 3.0,\n  'petal length (cm)': 4.2,\n  'petal width (cm)': 1.2,\n  'target': 1.0},\n {'sepal length (cm)': 5.7,\n  'sepal width (cm)': 2.9,\n  'petal length (cm)': 4.2,\n  'petal width (cm)': 1.3,\n  'target': 1.0},\n {'sepal length (cm)': 6.2,\n  'sepal width (cm)': 2.9,\n  'petal length (cm)': 4.3,\n  'petal width (cm)': 1.3,\n  'target': 1.0},\n {'sepal length (cm)': 5.1,\n  'sepal width (cm)': 2.5,\n  'petal length (cm)': 3.0,\n  'petal width (cm)': 1.1,\n  'target': 1.0},\n {'sepal length (cm)': 5.7,\n  'sepal width (cm)': 2.8,\n  'petal length (cm)': 4.1,\n  'petal width (cm)': 1.3,\n  'target': 1.0},\n {'sepal length (cm)': 6.3,\n  'sepal width (cm)': 3.3,\n  'petal length (cm)': 6.0,\n  'petal width (cm)': 2.5,\n  'target': 2.0},\n {'sepal length (cm)': 5.8,\n  'sepal width (cm)': 2.7,\n  'petal length (cm)': 5.1,\n  'petal width (cm)': 1.9,\n  'target': 2.0},\n {'sepal length (cm)': 7.1,\n  'sepal width (cm)': 3.0,\n  'petal length (cm)': 5.9,\n  'petal width (cm)': 2.1,\n  'target': 2.0},\n {'sepal length (cm)': 6.3,\n  'sepal width (cm)': 2.9,\n  'petal length (cm)': 5.6,\n  'petal width (cm)': 1.8,\n  'target': 2.0},\n {'sepal length (cm)': 6.5,\n  'sepal width (cm)': 3.0,\n  'petal length (cm)': 5.8,\n  'petal width (cm)': 2.2,\n  'target': 2.0},\n {'sepal length (cm)': 7.6,\n  'sepal width (cm)': 3.0,\n  'petal length (cm)': 6.6,\n  'petal width (cm)': 2.1,\n  'target': 2.0},\n {'sepal length (cm)': 4.9,\n  'sepal width (cm)': 2.5,\n  'petal length (cm)': 4.5,\n  'petal width (cm)': 1.7,\n  'target': 2.0},\n {'sepal length (cm)': 7.3,\n  'sepal width (cm)': 2.9,\n  'petal length (cm)': 6.3,\n  'petal width (cm)': 1.8,\n  'target': 2.0},\n {'sepal length (cm)': 6.7,\n  'sepal width (cm)': 2.5,\n  'petal length (cm)': 5.8,\n  'petal width (cm)': 1.8,\n  'target': 2.0},\n {'sepal length (cm)': 7.2,\n  'sepal width (cm)': 3.6,\n  'petal length (cm)': 6.1,\n  'petal width (cm)': 2.5,\n  'target': 2.0},\n {'sepal length (cm)': 6.5,\n  'sepal width (cm)': 3.2,\n  'petal length (cm)': 5.1,\n  'petal width (cm)': 2.0,\n  'target': 2.0},\n {'sepal length (cm)': 6.4,\n  'sepal width (cm)': 2.7,\n  'petal length (cm)': 5.3,\n  'petal width (cm)': 1.9,\n  'target': 2.0},\n {'sepal length (cm)': 6.8,\n  'sepal width (cm)': 3.0,\n  'petal length (cm)': 5.5,\n  'petal width (cm)': 2.1,\n  'target': 2.0},\n {'sepal length (cm)': 5.7,\n  'sepal width (cm)': 2.5,\n  'petal length (cm)': 5.0,\n  'petal width (cm)': 2.0,\n  'target': 2.0},\n {'sepal length (cm)': 5.8,\n  'sepal width (cm)': 2.8,\n  'petal length (cm)': 5.1,\n  'petal width (cm)': 2.4,\n  'target': 2.0},\n {'sepal length (cm)': 6.4,\n  'sepal width (cm)': 3.2,\n  'petal length (cm)': 5.3,\n  'petal width (cm)': 2.3,\n  'target': 2.0},\n {'sepal length (cm)': 6.5,\n  'sepal width (cm)': 3.0,\n  'petal length (cm)': 5.5,\n  'petal width (cm)': 1.8,\n  'target': 2.0},\n {'sepal length (cm)': 7.7,\n  'sepal width (cm)': 3.8,\n  'petal length (cm)': 6.7,\n  'petal width (cm)': 2.2,\n  'target': 2.0},\n {'sepal length (cm)': 7.7,\n  'sepal width (cm)': 2.6,\n  'petal length (cm)': 6.9,\n  'petal width (cm)': 2.3,\n  'target': 2.0},\n {'sepal length (cm)': 6.0,\n  'sepal width (cm)': 2.2,\n  'petal length (cm)': 5.0,\n  'petal width (cm)': 1.5,\n  'target': 2.0},\n {'sepal length (cm)': 6.9,\n  'sepal width (cm)': 3.2,\n  'petal length (cm)': 5.7,\n  'petal width (cm)': 2.3,\n  'target': 2.0},\n {'sepal length (cm)': 5.6,\n  'sepal width (cm)': 2.8,\n  'petal length (cm)': 4.9,\n  'petal width (cm)': 2.0,\n  'target': 2.0},\n {'sepal length (cm)': 7.7,\n  'sepal width (cm)': 2.8,\n  'petal length (cm)': 6.7,\n  'petal width (cm)': 2.0,\n  'target': 2.0},\n {'sepal length (cm)': 6.3,\n  'sepal width (cm)': 2.7,\n  'petal length (cm)': 4.9,\n  'petal width (cm)': 1.8,\n  'target': 2.0},\n {'sepal length (cm)': 6.7,\n  'sepal width (cm)': 3.3,\n  'petal length (cm)': 5.7,\n  'petal width (cm)': 2.1,\n  'target': 2.0},\n {'sepal length (cm)': 7.2,\n  'sepal width (cm)': 3.2,\n  'petal length (cm)': 6.0,\n  'petal width (cm)': 1.8,\n  'target': 2.0},\n {'sepal length (cm)': 6.2,\n  'sepal width (cm)': 2.8,\n  'petal length (cm)': 4.8,\n  'petal width (cm)': 1.8,\n  'target': 2.0},\n {'sepal length (cm)': 6.1,\n  'sepal width (cm)': 3.0,\n  'petal length (cm)': 4.9,\n  'petal width (cm)': 1.8,\n  'target': 2.0},\n {'sepal length (cm)': 6.4,\n  'sepal width (cm)': 2.8,\n  'petal length (cm)': 5.6,\n  'petal width (cm)': 2.1,\n  'target': 2.0},\n {'sepal length (cm)': 7.2,\n  'sepal width (cm)': 3.0,\n  'petal length (cm)': 5.8,\n  'petal width (cm)': 1.6,\n  'target': 2.0},\n {'sepal length (cm)': 7.4,\n  'sepal width (cm)': 2.8,\n  'petal length (cm)': 6.1,\n  'petal width (cm)': 1.9,\n  'target': 2.0},\n {'sepal length (cm)': 7.9,\n  'sepal width (cm)': 3.8,\n  'petal length (cm)': 6.4,\n  'petal width (cm)': 2.0,\n  'target': 2.0},\n {'sepal length (cm)': 6.4,\n  'sepal width (cm)': 2.8,\n  'petal length (cm)': 5.6,\n  'petal width (cm)': 2.2,\n  'target': 2.0},\n {'sepal length (cm)': 6.3,\n  'sepal width (cm)': 2.8,\n  'petal length (cm)': 5.1,\n  'petal width (cm)': 1.5,\n  'target': 2.0},\n {'sepal length (cm)': 6.1,\n  'sepal width (cm)': 2.6,\n  'petal length (cm)': 5.6,\n  'petal width (cm)': 1.4,\n  'target': 2.0},\n {'sepal length (cm)': 7.7,\n  'sepal width (cm)': 3.0,\n  'petal length (cm)': 6.1,\n  'petal width (cm)': 2.3,\n  'target': 2.0},\n {'sepal length (cm)': 6.3,\n  'sepal width (cm)': 3.4,\n  'petal length (cm)': 5.6,\n  'petal width (cm)': 2.4,\n  'target': 2.0},\n {'sepal length (cm)': 6.4,\n  'sepal width (cm)': 3.1,\n  'petal length (cm)': 5.5,\n  'petal width (cm)': 1.8,\n  'target': 2.0},\n {'sepal length (cm)': 6.0,\n  'sepal width (cm)': 3.0,\n  'petal length (cm)': 4.8,\n  'petal width (cm)': 1.8,\n  'target': 2.0},\n {'sepal length (cm)': 6.9,\n  'sepal width (cm)': 3.1,\n  'petal length (cm)': 5.4,\n  'petal width (cm)': 2.1,\n  'target': 2.0},\n {'sepal length (cm)': 6.7,\n  'sepal width (cm)': 3.1,\n  'petal length (cm)': 5.6,\n  'petal width (cm)': 2.4,\n  'target': 2.0},\n {'sepal length (cm)': 6.9,\n  'sepal width (cm)': 3.1,\n  'petal length (cm)': 5.1,\n  'petal width (cm)': 2.3,\n  'target': 2.0},\n {'sepal length (cm)': 5.8,\n  'sepal width (cm)': 2.7,\n  'petal length (cm)': 5.1,\n  'petal width (cm)': 1.9,\n  'target': 2.0},\n {'sepal length (cm)': 6.8,\n  'sepal width (cm)': 3.2,\n  'petal length (cm)': 5.9,\n  'petal width (cm)': 2.3,\n  'target': 2.0},\n {'sepal length (cm)': 6.7,\n  'sepal width (cm)': 3.3,\n  'petal length (cm)': 5.7,\n  'petal width (cm)': 2.5,\n  'target': 2.0},\n {'sepal length (cm)': 6.7,\n  'sepal width (cm)': 3.0,\n  'petal length (cm)': 5.2,\n  'petal width (cm)': 2.3,\n  'target': 2.0},\n {'sepal length (cm)': 6.3,\n  'sepal width (cm)': 2.5,\n  'petal length (cm)': 5.0,\n  'petal width (cm)': 1.9,\n  'target': 2.0},\n {'sepal length (cm)': 6.5,\n  'sepal width (cm)': 3.0,\n  'petal length (cm)': 5.2,\n  'petal width (cm)': 2.0,\n  'target': 2.0},\n {'sepal length (cm)': 6.2,\n  'sepal width (cm)': 3.4,\n  'petal length (cm)': 5.4,\n  'petal width (cm)': 2.3,\n  'target': 2.0},\n {'sepal length (cm)': 5.9,\n  'sepal width (cm)': 3.0,\n  'petal length (cm)': 5.1,\n  'petal width (cm)': 1.8,\n  'target': 2.0}]"
     },
     "execution_count": 20,
     "metadata": {},
     "output_type": "execute_result"
    }
   ],
   "source": [
    "data"
   ],
   "metadata": {
    "collapsed": false,
    "ExecuteTime": {
     "end_time": "2023-09-26T09:41:35.143027Z",
     "start_time": "2023-09-26T09:41:35.138175Z"
    }
   },
   "id": "d3ba66d78312ad65"
  },
  {
   "cell_type": "code",
   "execution_count": null,
   "outputs": [],
   "source": [],
   "metadata": {
    "collapsed": false
   },
   "id": "33dd2b7d31fc7aa4"
  }
 ],
 "metadata": {
  "kernelspec": {
   "display_name": "Python 3",
   "language": "python",
   "name": "python3"
  },
  "language_info": {
   "codemirror_mode": {
    "name": "ipython",
    "version": 2
   },
   "file_extension": ".py",
   "mimetype": "text/x-python",
   "name": "python",
   "nbconvert_exporter": "python",
   "pygments_lexer": "ipython2",
   "version": "2.7.6"
  }
 },
 "nbformat": 4,
 "nbformat_minor": 5
}
