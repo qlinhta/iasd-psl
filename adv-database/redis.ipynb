{
 "cells": [
  {
   "cell_type": "code",
   "execution_count": 1,
   "id": "initial_id",
   "metadata": {
    "collapsed": true,
    "ExecuteTime": {
     "end_time": "2024-02-06T07:59:09.104534Z",
     "start_time": "2024-02-06T07:59:08.969778Z"
    }
   },
   "outputs": [
    {
     "name": "stdout",
     "output_type": "stream",
     "text": [
      "90937:C 06 Feb 2024 08:59:08.992 * oO0OoO0OoO0Oo Redis is starting oO0OoO0OoO0Oo\r\n",
      "90937:C 06 Feb 2024 08:59:08.992 * Redis version=7.2.4, bits=64, commit=00000000, modified=0, pid=90937, just started\r\n",
      "90937:C 06 Feb 2024 08:59:08.992 # Warning: no config file specified, using the default config. In order to specify a config file use redis-server /path/to/redis.conf\r\n",
      "90937:M 06 Feb 2024 08:59:08.993 * monotonic clock: POSIX clock_gettime\r\n",
      "                _._                                                  \r\n",
      "           _.-``__ ''-._                                             \r\n",
      "      _.-``    `.  `_.  ''-._           Redis 7.2.4 (00000000/0) 64 bit\r\n",
      "  .-`` .-```.  ```\\/    _.,_ ''-._                                  \r\n",
      " (    '      ,       .-`  | `,    )     Running in standalone mode\r\n",
      " |`-._`-...-` __...-.``-._|'` _.-'|     Port: 6379\r\n",
      " |    `-._   `._    /     _.-'    |     PID: 90937\r\n",
      "  `-._    `-._  `-./  _.-'    _.-'                                   \r\n",
      " |`-._`-._    `-.__.-'    _.-'_.-'|                                  \r\n",
      " |    `-._`-._        _.-'_.-'    |           https://redis.io       \r\n",
      "  `-._    `-._`-.__.-'_.-'    _.-'                                   \r\n",
      " |`-._`-._    `-.__.-'    _.-'_.-'|                                  \r\n",
      " |    `-._`-._        _.-'_.-'    |                                  \r\n",
      "  `-._    `-._`-.__.-'_.-'    _.-'                                   \r\n",
      "      `-._    `-.__.-'    _.-'                                       \r\n",
      "          `-._        _.-'                                           \r\n",
      "              `-.__.-'                                               \r\n",
      "\r\n",
      "90937:M 06 Feb 2024 08:59:08.993 # WARNING: The TCP backlog setting of 511 cannot be enforced because kern.ipc.somaxconn is set to the lower value of 128.\r\n",
      "90937:M 06 Feb 2024 08:59:08.993 # Warning: Could not create server TCP listening socket *:6379: bind: Address already in use\r\n",
      "90937:M 06 Feb 2024 08:59:08.993 # Failed listening on port 6379 (tcp), aborting.\r\n"
     ]
    }
   ],
   "source": [
    "! redis-server"
   ]
  },
  {
   "cell_type": "code",
   "execution_count": null,
   "outputs": [],
   "source": [],
   "metadata": {
    "collapsed": false
   },
   "id": "3847f4f61ba8dd9a"
  }
 ],
 "metadata": {
  "kernelspec": {
   "display_name": "Python 3",
   "language": "python",
   "name": "python3"
  },
  "language_info": {
   "codemirror_mode": {
    "name": "ipython",
    "version": 2
   },
   "file_extension": ".py",
   "mimetype": "text/x-python",
   "name": "python",
   "nbconvert_exporter": "python",
   "pygments_lexer": "ipython2",
   "version": "2.7.6"
  }
 },
 "nbformat": 4,
 "nbformat_minor": 5
}
