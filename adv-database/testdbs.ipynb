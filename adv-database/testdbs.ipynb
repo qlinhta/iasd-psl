{
 "cells": [
  {
   "cell_type": "code",
   "execution_count": 75,
   "id": "initial_id",
   "metadata": {
    "collapsed": true,
    "ExecuteTime": {
     "end_time": "2023-12-18T20:47:14.668665Z",
     "start_time": "2023-12-18T20:47:14.655078Z"
    }
   },
   "outputs": [],
   "source": [
    "import pandas as pd\n",
    "import numpy as np\n",
    "import matplotlib.pyplot as plt\n",
    "import missingno as msno"
   ]
  },
  {
   "cell_type": "code",
   "execution_count": 76,
   "outputs": [],
   "source": [
    "customers = pd.read_csv('customers.csv')\n",
    "netflix_userbase = pd.read_csv('netflix_userbase.csv')"
   ],
   "metadata": {
    "collapsed": false,
    "ExecuteTime": {
     "end_time": "2023-12-18T20:47:14.833748Z",
     "start_time": "2023-12-18T20:47:14.825136Z"
    }
   },
   "id": "b5b61f633ca4f6f"
  },
  {
   "cell_type": "code",
   "execution_count": 77,
   "outputs": [
    {
     "data": {
      "text/plain": "   CustomerID  Gender  Age  Annual Income ($)  Spending Score (1-100)  \\\n0           1    Male   19              15000                      39   \n1           2    Male   21              35000                      81   \n2           3  Female   20              86000                       6   \n3           4  Female   23              59000                      77   \n4           5  Female   31              38000                      40   \n\n      Profession  Work Experience  Family Size  \n0     Healthcare                1            4  \n1       Engineer                3            3  \n2       Engineer                1            1  \n3         Lawyer                0            2  \n4  Entertainment                2            6  ",
      "text/html": "<div>\n<style scoped>\n    .dataframe tbody tr th:only-of-type {\n        vertical-align: middle;\n    }\n\n    .dataframe tbody tr th {\n        vertical-align: top;\n    }\n\n    .dataframe thead th {\n        text-align: right;\n    }\n</style>\n<table border=\"1\" class=\"dataframe\">\n  <thead>\n    <tr style=\"text-align: right;\">\n      <th></th>\n      <th>CustomerID</th>\n      <th>Gender</th>\n      <th>Age</th>\n      <th>Annual Income ($)</th>\n      <th>Spending Score (1-100)</th>\n      <th>Profession</th>\n      <th>Work Experience</th>\n      <th>Family Size</th>\n    </tr>\n  </thead>\n  <tbody>\n    <tr>\n      <th>0</th>\n      <td>1</td>\n      <td>Male</td>\n      <td>19</td>\n      <td>15000</td>\n      <td>39</td>\n      <td>Healthcare</td>\n      <td>1</td>\n      <td>4</td>\n    </tr>\n    <tr>\n      <th>1</th>\n      <td>2</td>\n      <td>Male</td>\n      <td>21</td>\n      <td>35000</td>\n      <td>81</td>\n      <td>Engineer</td>\n      <td>3</td>\n      <td>3</td>\n    </tr>\n    <tr>\n      <th>2</th>\n      <td>3</td>\n      <td>Female</td>\n      <td>20</td>\n      <td>86000</td>\n      <td>6</td>\n      <td>Engineer</td>\n      <td>1</td>\n      <td>1</td>\n    </tr>\n    <tr>\n      <th>3</th>\n      <td>4</td>\n      <td>Female</td>\n      <td>23</td>\n      <td>59000</td>\n      <td>77</td>\n      <td>Lawyer</td>\n      <td>0</td>\n      <td>2</td>\n    </tr>\n    <tr>\n      <th>4</th>\n      <td>5</td>\n      <td>Female</td>\n      <td>31</td>\n      <td>38000</td>\n      <td>40</td>\n      <td>Entertainment</td>\n      <td>2</td>\n      <td>6</td>\n    </tr>\n  </tbody>\n</table>\n</div>"
     },
     "execution_count": 77,
     "metadata": {},
     "output_type": "execute_result"
    }
   ],
   "source": [
    "customers.head()"
   ],
   "metadata": {
    "collapsed": false,
    "ExecuteTime": {
     "end_time": "2023-12-18T20:47:15.204693Z",
     "start_time": "2023-12-18T20:47:15.201829Z"
    }
   },
   "id": "ff68d8e9471f54e0"
  },
  {
   "cell_type": "code",
   "execution_count": 78,
   "outputs": [
    {
     "data": {
      "text/plain": "   User ID Subscription Type  Monthly Revenue Join Date Last Payment Date  \\\n0        1             Basic               10  15-01-22          10-06-23   \n1        2           Premium               15  05-09-21          22-06-23   \n2        3          Standard               12  28-02-23          27-06-23   \n3        4          Standard               12  10-07-22          26-06-23   \n4        5             Basic               10  01-05-23          28-06-23   \n\n          Country  Age  Gender      Device Plan Duration  \n0   United States   28    Male  Smartphone       1 Month  \n1          Canada   35  Female      Tablet       1 Month  \n2  United Kingdom   42    Male    Smart TV       1 Month  \n3       Australia   51  Female      Laptop       1 Month  \n4         Germany   33    Male  Smartphone       1 Month  ",
      "text/html": "<div>\n<style scoped>\n    .dataframe tbody tr th:only-of-type {\n        vertical-align: middle;\n    }\n\n    .dataframe tbody tr th {\n        vertical-align: top;\n    }\n\n    .dataframe thead th {\n        text-align: right;\n    }\n</style>\n<table border=\"1\" class=\"dataframe\">\n  <thead>\n    <tr style=\"text-align: right;\">\n      <th></th>\n      <th>User ID</th>\n      <th>Subscription Type</th>\n      <th>Monthly Revenue</th>\n      <th>Join Date</th>\n      <th>Last Payment Date</th>\n      <th>Country</th>\n      <th>Age</th>\n      <th>Gender</th>\n      <th>Device</th>\n      <th>Plan Duration</th>\n    </tr>\n  </thead>\n  <tbody>\n    <tr>\n      <th>0</th>\n      <td>1</td>\n      <td>Basic</td>\n      <td>10</td>\n      <td>15-01-22</td>\n      <td>10-06-23</td>\n      <td>United States</td>\n      <td>28</td>\n      <td>Male</td>\n      <td>Smartphone</td>\n      <td>1 Month</td>\n    </tr>\n    <tr>\n      <th>1</th>\n      <td>2</td>\n      <td>Premium</td>\n      <td>15</td>\n      <td>05-09-21</td>\n      <td>22-06-23</td>\n      <td>Canada</td>\n      <td>35</td>\n      <td>Female</td>\n      <td>Tablet</td>\n      <td>1 Month</td>\n    </tr>\n    <tr>\n      <th>2</th>\n      <td>3</td>\n      <td>Standard</td>\n      <td>12</td>\n      <td>28-02-23</td>\n      <td>27-06-23</td>\n      <td>United Kingdom</td>\n      <td>42</td>\n      <td>Male</td>\n      <td>Smart TV</td>\n      <td>1 Month</td>\n    </tr>\n    <tr>\n      <th>3</th>\n      <td>4</td>\n      <td>Standard</td>\n      <td>12</td>\n      <td>10-07-22</td>\n      <td>26-06-23</td>\n      <td>Australia</td>\n      <td>51</td>\n      <td>Female</td>\n      <td>Laptop</td>\n      <td>1 Month</td>\n    </tr>\n    <tr>\n      <th>4</th>\n      <td>5</td>\n      <td>Basic</td>\n      <td>10</td>\n      <td>01-05-23</td>\n      <td>28-06-23</td>\n      <td>Germany</td>\n      <td>33</td>\n      <td>Male</td>\n      <td>Smartphone</td>\n      <td>1 Month</td>\n    </tr>\n  </tbody>\n</table>\n</div>"
     },
     "execution_count": 78,
     "metadata": {},
     "output_type": "execute_result"
    }
   ],
   "source": [
    "netflix_userbase.head()"
   ],
   "metadata": {
    "collapsed": false,
    "ExecuteTime": {
     "end_time": "2023-12-18T20:47:15.692005Z",
     "start_time": "2023-12-18T20:47:15.685215Z"
    }
   },
   "id": "eecf54ef21fd77e1"
  },
  {
   "cell_type": "code",
   "execution_count": 79,
   "outputs": [],
   "source": [
    "def column_name_normalize(df):\n",
    "    df.columns = df.columns.str.lower()\n",
    "    df.columns = df.columns.str.replace(' ', '_')\n",
    "    return df"
   ],
   "metadata": {
    "collapsed": false,
    "ExecuteTime": {
     "end_time": "2023-12-18T20:47:16.135770Z",
     "start_time": "2023-12-18T20:47:16.129774Z"
    }
   },
   "id": "c6d1668c6b1e2c64"
  },
  {
   "cell_type": "code",
   "execution_count": 80,
   "outputs": [],
   "source": [
    "customers = column_name_normalize(customers)\n",
    "netflix_userbase = column_name_normalize(netflix_userbase)"
   ],
   "metadata": {
    "collapsed": false,
    "ExecuteTime": {
     "end_time": "2023-12-18T20:47:16.711604Z",
     "start_time": "2023-12-18T20:47:16.706454Z"
    }
   },
   "id": "604360451ab12432"
  },
  {
   "cell_type": "code",
   "execution_count": 81,
   "outputs": [],
   "source": [
    "customers.rename(columns={'annual_income_($)': 'annual_income'}, inplace=True)\n",
    "customers.rename(columns={'spending_score_(1-100)': 'spending_score'}, inplace=True)"
   ],
   "metadata": {
    "collapsed": false,
    "ExecuteTime": {
     "end_time": "2023-12-18T20:47:17.168380Z",
     "start_time": "2023-12-18T20:47:17.164271Z"
    }
   },
   "id": "c2f70ea4534b72ca"
  },
  {
   "cell_type": "code",
   "execution_count": 82,
   "outputs": [
    {
     "data": {
      "text/plain": "   customerid  gender  age  annual_income  spending_score     profession  \\\n0           1    Male   19          15000              39     Healthcare   \n1           2    Male   21          35000              81       Engineer   \n2           3  Female   20          86000               6       Engineer   \n3           4  Female   23          59000              77         Lawyer   \n4           5  Female   31          38000              40  Entertainment   \n\n   work_experience  family_size  \n0                1            4  \n1                3            3  \n2                1            1  \n3                0            2  \n4                2            6  ",
      "text/html": "<div>\n<style scoped>\n    .dataframe tbody tr th:only-of-type {\n        vertical-align: middle;\n    }\n\n    .dataframe tbody tr th {\n        vertical-align: top;\n    }\n\n    .dataframe thead th {\n        text-align: right;\n    }\n</style>\n<table border=\"1\" class=\"dataframe\">\n  <thead>\n    <tr style=\"text-align: right;\">\n      <th></th>\n      <th>customerid</th>\n      <th>gender</th>\n      <th>age</th>\n      <th>annual_income</th>\n      <th>spending_score</th>\n      <th>profession</th>\n      <th>work_experience</th>\n      <th>family_size</th>\n    </tr>\n  </thead>\n  <tbody>\n    <tr>\n      <th>0</th>\n      <td>1</td>\n      <td>Male</td>\n      <td>19</td>\n      <td>15000</td>\n      <td>39</td>\n      <td>Healthcare</td>\n      <td>1</td>\n      <td>4</td>\n    </tr>\n    <tr>\n      <th>1</th>\n      <td>2</td>\n      <td>Male</td>\n      <td>21</td>\n      <td>35000</td>\n      <td>81</td>\n      <td>Engineer</td>\n      <td>3</td>\n      <td>3</td>\n    </tr>\n    <tr>\n      <th>2</th>\n      <td>3</td>\n      <td>Female</td>\n      <td>20</td>\n      <td>86000</td>\n      <td>6</td>\n      <td>Engineer</td>\n      <td>1</td>\n      <td>1</td>\n    </tr>\n    <tr>\n      <th>3</th>\n      <td>4</td>\n      <td>Female</td>\n      <td>23</td>\n      <td>59000</td>\n      <td>77</td>\n      <td>Lawyer</td>\n      <td>0</td>\n      <td>2</td>\n    </tr>\n    <tr>\n      <th>4</th>\n      <td>5</td>\n      <td>Female</td>\n      <td>31</td>\n      <td>38000</td>\n      <td>40</td>\n      <td>Entertainment</td>\n      <td>2</td>\n      <td>6</td>\n    </tr>\n  </tbody>\n</table>\n</div>"
     },
     "execution_count": 82,
     "metadata": {},
     "output_type": "execute_result"
    }
   ],
   "source": [
    "customers.head()"
   ],
   "metadata": {
    "collapsed": false,
    "ExecuteTime": {
     "end_time": "2023-12-18T20:47:17.633325Z",
     "start_time": "2023-12-18T20:47:17.629996Z"
    }
   },
   "id": "ac729876fa585acf"
  },
  {
   "cell_type": "code",
   "execution_count": 83,
   "outputs": [
    {
     "data": {
      "text/plain": "   user_id subscription_type  monthly_revenue join_date last_payment_date  \\\n0        1             Basic               10  15-01-22          10-06-23   \n1        2           Premium               15  05-09-21          22-06-23   \n2        3          Standard               12  28-02-23          27-06-23   \n3        4          Standard               12  10-07-22          26-06-23   \n4        5             Basic               10  01-05-23          28-06-23   \n\n          country  age  gender      device plan_duration  \n0   United States   28    Male  Smartphone       1 Month  \n1          Canada   35  Female      Tablet       1 Month  \n2  United Kingdom   42    Male    Smart TV       1 Month  \n3       Australia   51  Female      Laptop       1 Month  \n4         Germany   33    Male  Smartphone       1 Month  ",
      "text/html": "<div>\n<style scoped>\n    .dataframe tbody tr th:only-of-type {\n        vertical-align: middle;\n    }\n\n    .dataframe tbody tr th {\n        vertical-align: top;\n    }\n\n    .dataframe thead th {\n        text-align: right;\n    }\n</style>\n<table border=\"1\" class=\"dataframe\">\n  <thead>\n    <tr style=\"text-align: right;\">\n      <th></th>\n      <th>user_id</th>\n      <th>subscription_type</th>\n      <th>monthly_revenue</th>\n      <th>join_date</th>\n      <th>last_payment_date</th>\n      <th>country</th>\n      <th>age</th>\n      <th>gender</th>\n      <th>device</th>\n      <th>plan_duration</th>\n    </tr>\n  </thead>\n  <tbody>\n    <tr>\n      <th>0</th>\n      <td>1</td>\n      <td>Basic</td>\n      <td>10</td>\n      <td>15-01-22</td>\n      <td>10-06-23</td>\n      <td>United States</td>\n      <td>28</td>\n      <td>Male</td>\n      <td>Smartphone</td>\n      <td>1 Month</td>\n    </tr>\n    <tr>\n      <th>1</th>\n      <td>2</td>\n      <td>Premium</td>\n      <td>15</td>\n      <td>05-09-21</td>\n      <td>22-06-23</td>\n      <td>Canada</td>\n      <td>35</td>\n      <td>Female</td>\n      <td>Tablet</td>\n      <td>1 Month</td>\n    </tr>\n    <tr>\n      <th>2</th>\n      <td>3</td>\n      <td>Standard</td>\n      <td>12</td>\n      <td>28-02-23</td>\n      <td>27-06-23</td>\n      <td>United Kingdom</td>\n      <td>42</td>\n      <td>Male</td>\n      <td>Smart TV</td>\n      <td>1 Month</td>\n    </tr>\n    <tr>\n      <th>3</th>\n      <td>4</td>\n      <td>Standard</td>\n      <td>12</td>\n      <td>10-07-22</td>\n      <td>26-06-23</td>\n      <td>Australia</td>\n      <td>51</td>\n      <td>Female</td>\n      <td>Laptop</td>\n      <td>1 Month</td>\n    </tr>\n    <tr>\n      <th>4</th>\n      <td>5</td>\n      <td>Basic</td>\n      <td>10</td>\n      <td>01-05-23</td>\n      <td>28-06-23</td>\n      <td>Germany</td>\n      <td>33</td>\n      <td>Male</td>\n      <td>Smartphone</td>\n      <td>1 Month</td>\n    </tr>\n  </tbody>\n</table>\n</div>"
     },
     "execution_count": 83,
     "metadata": {},
     "output_type": "execute_result"
    }
   ],
   "source": [
    "netflix_userbase.head()"
   ],
   "metadata": {
    "collapsed": false,
    "ExecuteTime": {
     "end_time": "2023-12-18T20:47:18.213586Z",
     "start_time": "2023-12-18T20:47:18.204644Z"
    }
   },
   "id": "d4689e5ab0c3c308"
  },
  {
   "cell_type": "code",
   "execution_count": 84,
   "outputs": [],
   "source": [
    "customers.dropna(inplace=True)\n",
    "netflix_userbase.dropna(inplace=True)"
   ],
   "metadata": {
    "collapsed": false,
    "ExecuteTime": {
     "end_time": "2023-12-18T20:47:19.246489Z",
     "start_time": "2023-12-18T20:47:19.228283Z"
    }
   },
   "id": "23d220f192962b16"
  },
  {
   "cell_type": "code",
   "execution_count": 85,
   "outputs": [],
   "source": [
    "# join_date and last_payment_date is now format as 10-06-23 (DD-MM-YY), we need to convert it to 2010-06-23 (YYYY-MM-DD)\n",
    "\n",
    "def convert_date(df):\n",
    "    df['join_date'] = pd.to_datetime(df['join_date'], format='%d-%m-%y')\n",
    "    df['last_payment_date'] = pd.to_datetime(df['last_payment_date'], format='%d-%m-%y')\n",
    "    return df"
   ],
   "metadata": {
    "collapsed": false,
    "ExecuteTime": {
     "end_time": "2023-12-18T20:47:20.157876Z",
     "start_time": "2023-12-18T20:47:20.149417Z"
    }
   },
   "id": "b6c7f282b802d928"
  },
  {
   "cell_type": "code",
   "execution_count": 86,
   "outputs": [],
   "source": [
    "netflix_userbase = convert_date(netflix_userbase)"
   ],
   "metadata": {
    "collapsed": false,
    "ExecuteTime": {
     "end_time": "2023-12-18T20:47:21.773813Z",
     "start_time": "2023-12-18T20:47:21.769940Z"
    }
   },
   "id": "aea839265bbfb40b"
  },
  {
   "cell_type": "code",
   "execution_count": 87,
   "outputs": [
    {
     "data": {
      "text/plain": "   user_id subscription_type  monthly_revenue  join_date last_payment_date  \\\n0        1             Basic               10 2022-01-15        2023-06-10   \n1        2           Premium               15 2021-09-05        2023-06-22   \n2        3          Standard               12 2023-02-28        2023-06-27   \n3        4          Standard               12 2022-07-10        2023-06-26   \n4        5             Basic               10 2023-05-01        2023-06-28   \n\n          country  age  gender      device plan_duration  \n0   United States   28    Male  Smartphone       1 Month  \n1          Canada   35  Female      Tablet       1 Month  \n2  United Kingdom   42    Male    Smart TV       1 Month  \n3       Australia   51  Female      Laptop       1 Month  \n4         Germany   33    Male  Smartphone       1 Month  ",
      "text/html": "<div>\n<style scoped>\n    .dataframe tbody tr th:only-of-type {\n        vertical-align: middle;\n    }\n\n    .dataframe tbody tr th {\n        vertical-align: top;\n    }\n\n    .dataframe thead th {\n        text-align: right;\n    }\n</style>\n<table border=\"1\" class=\"dataframe\">\n  <thead>\n    <tr style=\"text-align: right;\">\n      <th></th>\n      <th>user_id</th>\n      <th>subscription_type</th>\n      <th>monthly_revenue</th>\n      <th>join_date</th>\n      <th>last_payment_date</th>\n      <th>country</th>\n      <th>age</th>\n      <th>gender</th>\n      <th>device</th>\n      <th>plan_duration</th>\n    </tr>\n  </thead>\n  <tbody>\n    <tr>\n      <th>0</th>\n      <td>1</td>\n      <td>Basic</td>\n      <td>10</td>\n      <td>2022-01-15</td>\n      <td>2023-06-10</td>\n      <td>United States</td>\n      <td>28</td>\n      <td>Male</td>\n      <td>Smartphone</td>\n      <td>1 Month</td>\n    </tr>\n    <tr>\n      <th>1</th>\n      <td>2</td>\n      <td>Premium</td>\n      <td>15</td>\n      <td>2021-09-05</td>\n      <td>2023-06-22</td>\n      <td>Canada</td>\n      <td>35</td>\n      <td>Female</td>\n      <td>Tablet</td>\n      <td>1 Month</td>\n    </tr>\n    <tr>\n      <th>2</th>\n      <td>3</td>\n      <td>Standard</td>\n      <td>12</td>\n      <td>2023-02-28</td>\n      <td>2023-06-27</td>\n      <td>United Kingdom</td>\n      <td>42</td>\n      <td>Male</td>\n      <td>Smart TV</td>\n      <td>1 Month</td>\n    </tr>\n    <tr>\n      <th>3</th>\n      <td>4</td>\n      <td>Standard</td>\n      <td>12</td>\n      <td>2022-07-10</td>\n      <td>2023-06-26</td>\n      <td>Australia</td>\n      <td>51</td>\n      <td>Female</td>\n      <td>Laptop</td>\n      <td>1 Month</td>\n    </tr>\n    <tr>\n      <th>4</th>\n      <td>5</td>\n      <td>Basic</td>\n      <td>10</td>\n      <td>2023-05-01</td>\n      <td>2023-06-28</td>\n      <td>Germany</td>\n      <td>33</td>\n      <td>Male</td>\n      <td>Smartphone</td>\n      <td>1 Month</td>\n    </tr>\n  </tbody>\n</table>\n</div>"
     },
     "execution_count": 87,
     "metadata": {},
     "output_type": "execute_result"
    }
   ],
   "source": [
    "netflix_userbase.head()"
   ],
   "metadata": {
    "collapsed": false,
    "ExecuteTime": {
     "end_time": "2023-12-18T20:47:22.883494Z",
     "start_time": "2023-12-18T20:47:22.877196Z"
    }
   },
   "id": "2244c3ffb141d004"
  },
  {
   "cell_type": "code",
   "execution_count": 88,
   "outputs": [],
   "source": [
    "# Save back to csv\n",
    "customers.to_csv('customers.csv', index=False)\n",
    "netflix_userbase.to_csv('netflix_userbase.csv', index=False)"
   ],
   "metadata": {
    "collapsed": false,
    "ExecuteTime": {
     "end_time": "2023-12-18T20:47:43.609249Z",
     "start_time": "2023-12-18T20:47:43.590579Z"
    }
   },
   "id": "b757770a80fb2a4e"
  },
  {
   "cell_type": "code",
   "execution_count": null,
   "outputs": [],
   "source": [],
   "metadata": {
    "collapsed": false
   },
   "id": "292b494ae3087ff9"
  }
 ],
 "metadata": {
  "kernelspec": {
   "display_name": "Python 3",
   "language": "python",
   "name": "python3"
  },
  "language_info": {
   "codemirror_mode": {
    "name": "ipython",
    "version": 2
   },
   "file_extension": ".py",
   "mimetype": "text/x-python",
   "name": "python",
   "nbconvert_exporter": "python",
   "pygments_lexer": "ipython2",
   "version": "2.7.6"
  }
 },
 "nbformat": 4,
 "nbformat_minor": 5
}
