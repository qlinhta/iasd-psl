{
 "cells": [
  {
   "cell_type": "markdown",
   "source": [
    "# Deep Learning\n",
    "Date: September 20, 2023"
   ],
   "metadata": {
    "collapsed": false
   },
   "id": "9b97e340a68c0c3d"
  },
  {
   "cell_type": "code",
   "execution_count": 23,
   "id": "initial_id",
   "metadata": {
    "collapsed": true,
    "ExecuteTime": {
     "end_time": "2023-09-20T14:13:04.279449Z",
     "start_time": "2023-09-20T14:13:04.270323Z"
    }
   },
   "outputs": [],
   "source": [
    "import numpy as np\n",
    "import matplotlib.pyplot as plt\n",
    "plt.style.use('default')\n",
    "plt.rc('text', usetex=True)\n",
    "plt.rc('font', family='serif')\n",
    "plt.rc('font', size=18)\n",
    "plt.rc('axes', titlesize=18)\n",
    "plt.rc('axes', labelsize=18)\n",
    "plt.rc('xtick', labelsize=18)\n",
    "plt.rc('ytick', labelsize=18)\n",
    "plt.rc('legend', fontsize=18)\n",
    "plt.rc('lines', markersize=10)"
   ]
  },
  {
   "cell_type": "code",
   "execution_count": 24,
   "outputs": [],
   "source": [
    "import torch\n",
    "import torchvision\n",
    "import torchvision.transforms as transforms\n",
    "import torch.nn as nn\n",
    "import torch.nn.functional as F\n",
    "import torch.optim as optim\n",
    "from torch.utils.tensorboard import SummaryWriter\n",
    "\n",
    "from tqdm import tqdm"
   ],
   "metadata": {
    "collapsed": false,
    "ExecuteTime": {
     "end_time": "2023-09-20T14:13:04.308751Z",
     "start_time": "2023-09-20T14:13:04.279848Z"
    }
   },
   "id": "eaf5e44a62eccc5e"
  },
  {
   "cell_type": "code",
   "execution_count": 25,
   "outputs": [],
   "source": [
    "mnist_trainset = torchvision.datasets.MNIST(root='./data', train=True, download=True, transform=transforms.ToTensor())\n",
    "mnist_testset = torchvision.datasets.MNIST(root='./data', train=False, download=True, transform=transforms.ToTensor())\n",
    "trainloader = torch.utils.data.DataLoader(mnist_trainset, batch_size=16, shuffle=True, num_workers=2)\n",
    "testloader = torch.utils.data.DataLoader(mnist_testset, batch_size=16, shuffle=False, num_workers=2)"
   ],
   "metadata": {
    "collapsed": false,
    "ExecuteTime": {
     "end_time": "2023-09-20T14:13:04.332449Z",
     "start_time": "2023-09-20T14:13:04.285235Z"
    }
   },
   "id": "f3f711f8a4cbf052"
  },
  {
   "cell_type": "code",
   "execution_count": 26,
   "outputs": [],
   "source": [
    "class Net(nn.Module):\n",
    "    def __init__(self):\n",
    "        super(Net, self).__init__()\n",
    "        self.fc1 = nn.Linear(28*28, 100)\n",
    "        self.fc2 = nn.Linear(100, 10)\n",
    "    def forward(self, x):\n",
    "        x = x.view(-1, 28*28)\n",
    "        x = F.relu(self.fc1(x))\n",
    "        x = self.fc2(x)\n",
    "        return x"
   ],
   "metadata": {
    "collapsed": false,
    "ExecuteTime": {
     "end_time": "2023-09-20T14:13:04.345396Z",
     "start_time": "2023-09-20T14:13:04.332622Z"
    }
   },
   "id": "1b2cda584d441ec1"
  },
  {
   "cell_type": "code",
   "execution_count": 27,
   "outputs": [
    {
     "name": "stdout",
     "output_type": "stream",
     "text": [
      "Device:  mps\n"
     ]
    }
   ],
   "source": [
    "device = torch.device(\"mps\")\n",
    "print(\"Device: \", device)"
   ],
   "metadata": {
    "collapsed": false,
    "ExecuteTime": {
     "end_time": "2023-09-20T14:13:04.345643Z",
     "start_time": "2023-09-20T14:13:04.339478Z"
    }
   },
   "id": "71c7de2f4fe5f825"
  },
  {
   "cell_type": "code",
   "execution_count": 28,
   "outputs": [],
   "source": [
    "writer = SummaryWriter()\n",
    "net = Net()\n",
    "net.to(device)\n",
    "criterion = nn.CrossEntropyLoss()\n",
    "optimizer = optim.SGD(net.parameters(), lr=0.001, momentum=0.9)"
   ],
   "metadata": {
    "collapsed": false,
    "ExecuteTime": {
     "end_time": "2023-09-20T14:13:04.351023Z",
     "start_time": "2023-09-20T14:13:04.343153Z"
    }
   },
   "id": "aded2e717e3c41e4"
  },
  {
   "cell_type": "code",
   "execution_count": 29,
   "outputs": [
    {
     "name": "stderr",
     "output_type": "stream",
     "text": [
      "Epoch: 1/10 | Loss: 0.6450: 100%|██████████| 3750/3750 [00:33<00:00, 112.10it/s]\n",
      "Epoch: 2/10 | Loss: 0.3071: 100%|██████████| 3750/3750 [00:35<00:00, 106.43it/s]\n",
      "Epoch: 3/10 | Loss: 0.2568: 100%|██████████| 3750/3750 [00:33<00:00, 112.04it/s]\n",
      "Epoch: 4/10 | Loss: 0.2230: 100%|██████████| 3750/3750 [00:33<00:00, 111.78it/s]\n",
      "Epoch: 5/10 | Loss: 0.1982: 100%|██████████| 3750/3750 [00:31<00:00, 119.88it/s]\n",
      "Epoch: 6/10 | Loss: 0.1794: 100%|██████████| 3750/3750 [00:32<00:00, 114.97it/s]\n",
      "Epoch: 7/10 | Loss: 0.1632: 100%|██████████| 3750/3750 [00:30<00:00, 123.96it/s]\n",
      "Epoch: 8/10 | Loss: 0.1497: 100%|██████████| 3750/3750 [00:30<00:00, 123.48it/s]\n",
      "Epoch: 9/10 | Loss: 0.1384: 100%|██████████| 3750/3750 [00:30<00:00, 123.58it/s]\n",
      "Epoch: 10/10 | Loss: 0.1285: 100%|██████████| 3750/3750 [00:32<00:00, 114.95it/s]"
     ]
    },
    {
     "name": "stdout",
     "output_type": "stream",
     "text": [
      "Finished Training\n"
     ]
    },
    {
     "name": "stderr",
     "output_type": "stream",
     "text": [
      "\n"
     ]
    }
   ],
   "source": [
    "# update loss & accuracy each batch\n",
    "epochs = 10\n",
    "for epoch in range(epochs):\n",
    "    running_loss = 0.0\n",
    "    progress_bar = tqdm(enumerate(trainloader), total=len(trainloader))\n",
    "    for i, data in progress_bar:\n",
    "        inputs, labels = data[0].to(device), data[1].to(device)\n",
    "        optimizer.zero_grad()\n",
    "        outputs = net(inputs)\n",
    "        loss = criterion(outputs, labels)\n",
    "        loss.backward()\n",
    "        optimizer.step()\n",
    "        running_loss += loss.item()\n",
    "        description = f'Epoch: {epoch + 1}/{epochs} | Loss: {running_loss / (i + 1):.4f}'\n",
    "        progress_bar.set_description(description)\n",
    "        writer.add_scalar('training loss', loss.item(), epoch * len(trainloader) + i)\n",
    "        writer.add_scalar('accuracy', (outputs.argmax(dim=1) == labels).float().mean().item(), epoch * len(trainloader) + i)\n",
    "writer.flush()\n",
    "writer.close()\n",
    "print('Finished Training')"
   ],
   "metadata": {
    "collapsed": false,
    "ExecuteTime": {
     "end_time": "2023-09-20T14:18:28.110551Z",
     "start_time": "2023-09-20T14:13:04.354385Z"
    }
   },
   "id": "66b67a10566c2b8f"
  },
  {
   "cell_type": "code",
   "execution_count": null,
   "outputs": [],
   "source": [],
   "metadata": {
    "collapsed": false
   },
   "id": "88e713eaa783a645"
  }
 ],
 "metadata": {
  "kernelspec": {
   "display_name": "Python 3",
   "language": "python",
   "name": "python3"
  },
  "language_info": {
   "codemirror_mode": {
    "name": "ipython",
    "version": 2
   },
   "file_extension": ".py",
   "mimetype": "text/x-python",
   "name": "python",
   "nbconvert_exporter": "python",
   "pygments_lexer": "ipython2",
   "version": "2.7.6"
  }
 },
 "nbformat": 4,
 "nbformat_minor": 5
}
