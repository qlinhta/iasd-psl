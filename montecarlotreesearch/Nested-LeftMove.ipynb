{
 "cells": [
  {
   "cell_type": "markdown",
   "id": "72654de1",
   "metadata": {},
   "source": [
    "# Nested for LeftMove"
   ]
  },
  {
   "cell_type": "code",
   "execution_count": 1,
   "id": "41045c56",
   "metadata": {
    "ExecuteTime": {
     "end_time": "2024-02-06T23:40:43.933824Z",
     "start_time": "2024-02-06T23:40:43.741146Z"
    }
   },
   "outputs": [],
   "source": [
    "import numpy as np\n",
    "import random\n",
    "import math\n",
    "import copy"
   ]
  },
  {
   "cell_type": "code",
   "execution_count": 2,
   "id": "8736afc1",
   "metadata": {
    "ExecuteTime": {
     "end_time": "2024-02-06T23:40:43.955562Z",
     "start_time": "2024-02-06T23:40:43.934732Z"
    }
   },
   "outputs": [],
   "source": [
    "def score(state):\n",
    "    sum = 0\n",
    "    for i in range(len(state)):\n",
    "        sum += state[i]\n",
    "    return sum\n",
    "\n",
    "\n",
    "def play(state, move):\n",
    "    state.append(move)\n",
    "    return state\n",
    "\n",
    "\n",
    "def legalMoves(state):\n",
    "    return [0, 1]\n",
    "\n",
    "\n",
    "def terminal(state):\n",
    "    return len(state) >= 60"
   ]
  },
  {
   "cell_type": "code",
   "execution_count": 3,
   "id": "01450f72",
   "metadata": {
    "ExecuteTime": {
     "end_time": "2024-02-06T23:40:45.065962Z",
     "start_time": "2024-02-06T23:40:45.057552Z"
    }
   },
   "outputs": [],
   "source": [
    "def playout(state):\n",
    "    while not terminal(state):\n",
    "        moves = legalMoves(state)\n",
    "        move = moves[int(random.random() * len(moves))]\n",
    "        state = play(state, move)\n",
    "    return state\n",
    "\n",
    "\n",
    "def nested(state, n):\n",
    "    if (n == 0):\n",
    "        return playout(state)\n",
    "    bestSequence = []\n",
    "    while not terminal(state):\n",
    "        moves = legalMoves(state)\n",
    "        for m in moves:\n",
    "            s1 = copy.deepcopy(state)\n",
    "            s1 = play(s1, m)\n",
    "            s1 = nested(s1, n - 1)\n",
    "            if score(s1) >= score(bestSequence):\n",
    "                bestSequence = s1\n",
    "        state = play(state, bestSequence[len(state)])\n",
    "    return state"
   ]
  },
  {
   "cell_type": "code",
   "execution_count": 4,
   "id": "a4bd38bd",
   "metadata": {
    "ExecuteTime": {
     "end_time": "2024-02-06T23:40:46.101589Z",
     "start_time": "2024-02-06T23:40:45.949695Z"
    }
   },
   "outputs": [
    {
     "name": "stdout",
     "output_type": "stream",
     "text": [
      "playout:  29 [1, 1, 1, 0, 0, 0, 1, 1, 1, 1, 0, 1, 1, 0, 0, 0, 1, 0, 1, 0, 1, 1, 0, 1, 0, 0, 0, 0, 1, 0, 1, 1, 0, 0, 1, 1, 0, 1, 0, 0, 0, 0, 0, 1, 1, 0, 1, 0, 0, 1, 1, 0, 1, 0, 1, 0, 1, 0, 1, 0]\n",
      "Nested level 1:  48 [1, 1, 1, 1, 0, 1, 1, 0, 0, 1, 1, 1, 1, 1, 1, 0, 1, 0, 0, 1, 1, 0, 1, 1, 1, 1, 1, 0, 1, 1, 0, 1, 1, 1, 1, 0, 1, 1, 1, 1, 1, 1, 1, 1, 1, 1, 1, 1, 0, 0, 1, 1, 1, 1, 1, 1, 1, 1, 1, 1]\n",
      "Nested level 2: 53 [1, 1, 1, 1, 0, 0, 1, 1, 1, 1, 1, 1, 1, 1, 0, 1, 1, 1, 0, 1, 1, 0, 1, 1, 1, 1, 1, 1, 1, 1, 1, 0, 1, 1, 1, 1, 1, 1, 1, 1, 0, 1, 1, 1, 1, 1, 1, 1, 1, 1, 1, 1, 1, 1, 1, 1, 1, 1, 1, 1]\n"
     ]
    }
   ],
   "source": [
    "s = playout([])\n",
    "print('playout: ', score(s), s)\n",
    "s = nested([], 1)\n",
    "print('Nested level 1: ', score(s), s)\n",
    "s = nested([], 2)\n",
    "print('Nested level 2:', score(s), s)"
   ]
  },
  {
   "cell_type": "code",
   "execution_count": 5,
   "id": "93ba6e98",
   "metadata": {
    "ExecuteTime": {
     "end_time": "2024-02-06T23:41:06.507832Z",
     "start_time": "2024-02-06T23:41:00.210719Z"
    }
   },
   "outputs": [
    {
     "name": "stdout",
     "output_type": "stream",
     "text": [
      "Nested level 3: 55 [1, 0, 1, 1, 1, 1, 1, 0, 1, 1, 1, 1, 1, 1, 1, 1, 1, 1, 0, 0, 1, 1, 1, 0, 1, 1, 1, 1, 1, 1, 1, 1, 1, 1, 1, 1, 1, 1, 1, 1, 1, 1, 1, 1, 1, 1, 1, 1, 1, 1, 1, 1, 1, 1, 1, 1, 1, 1, 1, 1]\n"
     ]
    }
   ],
   "source": [
    "s = nested([], 3)\n",
    "print('Nested level 3:', score(s), s)"
   ]
  },
  {
   "cell_type": "code",
   "execution_count": null,
   "outputs": [],
   "source": [],
   "metadata": {
    "collapsed": false
   },
   "id": "c3e3e9a48cb79fbf"
  }
 ],
 "metadata": {
  "kernelspec": {
   "display_name": "Python 3 (ipykernel)",
   "language": "python",
   "name": "python3"
  },
  "language_info": {
   "codemirror_mode": {
    "name": "ipython",
    "version": 3
   },
   "file_extension": ".py",
   "mimetype": "text/x-python",
   "name": "python",
   "nbconvert_exporter": "python",
   "pygments_lexer": "ipython3",
   "version": "3.10.12"
  }
 },
 "nbformat": 4,
 "nbformat_minor": 5
}
